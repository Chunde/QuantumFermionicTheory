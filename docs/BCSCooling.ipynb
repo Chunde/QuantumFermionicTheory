{
 "cells": [
  {
   "cell_type": "code",
   "execution_count": null,
   "id": "7a45b238",
   "metadata": {},
   "outputs": [],
   "source": [
    "import mmf_setup;mmf_setup.nbinit()\n",
    "import matplotlib.pyplot as plt\n",
    "%pylab inline --no-import-all\n",
    "from nbimports import *\n",
    "import numpy as np"
   ]
  },
  {
   "cell_type": "markdown",
   "id": "1d95582f",
   "metadata": {
    "colab_type": "text",
    "id": "ptb73kVS8ceS"
   },
   "source": [
    "# BCS cooling Class Test\n",
    "* To properly display equations, we define some command to make life easier, this commands are invisible\n",
    "$$\n",
    "  \\newcommand{\\I}{\\mathrm{i}}\n",
    "  \\newcommand{\\d}{\\mathrm{d}}\n",
    "  \\newcommand{\\vect}[1]{\\vec{#1}}\n",
    "  \\newcommand{\\op}[1]{\\hat{#1}}\n",
    "  \\newcommand{\\abs}[1]{\\lvert#1\\rvert}\n",
    "  \\newcommand{\\pdiff}[2]{\\frac{\\partial #1}{\\partial #2}}\n",
    "  \\newcommand{\\ket}[1]{\\lvert#1\\rangle}\n",
    "  \\newcommand{\\bra}[1]{\\langle#1\\rvert}\n",
    "  \\newcommand{\\braket}[1]{\\langle#1\\rangle}\n",
    "  \\DeclareMathOperator{\\Tr}{Tr}\n",
    "$$\n",
    "* A class implement local friction that supports GP type cooling(single wave function) and BCS type cooling(multiple wavefunctions). When applied to BCS orbits, it will maintain the particle number and orthogonality of these orbits"
   ]
  },
  {
   "cell_type": "code",
   "execution_count": 3,
   "id": "d8aac7f7",
   "metadata": {},
   "outputs": [],
   "source": [
    "def check_uv_ir_error(psi, plot=False):\n",
    "    \"\"\"check if a lattice configuration(N, L, dx) is good\"\"\"\n",
    "    psi_k = np.fft.fft(psi)\n",
    "    psi_log = np.log10(abs(psi))\n",
    "    psi_log_k = np.log10(abs(psi_k))\n",
    "    if plot:\n",
    "        l, =plt.plot(psi_log_k)\n",
    "        plt.plot(psi_log,'--', c=l.get_c())\n",
    "        print(np.min(psi_log), np.min(psi_log_k))\n",
    "    # assert the log10 value to be close to machine precision\n",
    "    #assert np.min(psi_log)<-15\n",
    "    assert np.min(psi_log_k) < -15"
   ]
  },
  {
   "cell_type": "code",
   "execution_count": null,
   "id": "dc73fc49",
   "metadata": {},
   "outputs": [],
   "source": [
    "from mmf_hfb.potentials import HarmonicOscillator\n",
    "from IPython.core.debugger import set_trace\n",
    "from IPython.display import display, clear_output\n",
    "import numpy as np\n",
    "import scipy as sp\n",
    "import inspect\n",
    "from os.path import join\n",
    "import json\n",
    "import glob\n",
    "import os\n",
    "import sys\n",
    "currentdir = os.path.dirname(\n",
    "            os.path.abspath(inspect.getfile(inspect.currentframe())))\n",
    "sys.path.insert(0, join(currentdir, '..','Projects', 'QuantumFriction'))\n",
    "\n",
    "from mmf_hfb.potentials import HarmonicOscillator\n",
    "from abm_solver import ABMEvolverAdapter\n",
    "from bcs_cooling import BCSCooling\n",
    "from cooling import cooling\n",
    "\n",
    "\n",
    "def Normalize(psi):\n",
    "    return psi/psi.dot(psi.conj())**0.5\n",
    "\n",
    "def Prob(psi):\n",
    "    return np.abs(psi)**2\n"
   ]
  },
  {
   "cell_type": "markdown",
   "id": "681eb748",
   "metadata": {},
   "source": [
    "matplotlib.rcParams.update({'font.size': 18})"
   ]
  },
  {
   "cell_type": "code",
   "execution_count": null,
   "id": "4274aec4",
   "metadata": {},
   "outputs": [],
   "source": [
    "matplotlib.rcParams.update({'font.size': 22})\n",
    "N_data = 20\n",
    "N_step = 100"
   ]
  },
  {
   "cell_type": "code",
   "execution_count": null,
   "id": "03da955f",
   "metadata": {},
   "outputs": [],
   "source": [
    "def play(init_states=[], N_state=4, N_step=100, N_data=100, **args):\n",
    "    file_name = \"initial_states_\"\n",
    "    for state in init_states:\n",
    "        file_name = f\"{file_name}_{state}\"\n",
    "    file_name = file_name + \".pdf\"\n",
    "    cooling(N_state=N_state, Nx=128, N_data=N_data, \n",
    "            init_state_ids=init_states, save_file_name=file_name,\n",
    "            N_step=N_step, beta_V=1, beta_K=1, divs=(1,1), beta_D=0, **args);"
   ]
  },
  {
   "cell_type": "code",
   "execution_count": null,
   "id": "7e45e6bd",
   "metadata": {},
   "outputs": [],
   "source": []
  },
  {
   "cell_type": "code",
   "execution_count": null,
   "id": "7d7bc73b",
   "metadata": {},
   "outputs": [],
   "source": [
    "play(list(range(10)), N_state=10, N_data=100, N_step=250, log_E=True)"
   ]
  },
  {
   "cell_type": "code",
   "execution_count": null,
   "id": "7068b284",
   "metadata": {},
   "outputs": [],
   "source": [
    "cooling(N_state=6, Nx=128, N_data=150,\n",
    "        init_state_ids=list(range(4,8)),\n",
    "        N_step=100, beta_V=1, beta_K=1, divs=(1,1), beta_D=0, plot_n=True, plot_k=True);"
   ]
  },
  {
   "cell_type": "markdown",
   "id": "88a082db",
   "metadata": {},
   "source": [
    "## Test Derivative cooling\n",
    "* As the derivative cooling potential Vd is not diagonilzed in either postion space nor momenutum space, it can't be used in split-operator method. \n",
    "* It's found that discarding the highest momentum $k_{max}$ can cool down the energy using $V_{d}$ to some energy and may stall there.\n",
    "### Analytical Check\n",
    "Start with plance wave $\\psi_n(x)= e^{i n kx}$, and free particle Hamiltonian $H$ with eigen energy $E_n$ for nth wave function $\\psi_n(x)$, then\n",
    "$$\n",
    "H\\psi=i\\hbar \\frac{\\partial \\psi(x, t)}{\\partial t} = E_n \\psi=\\frac{n^2k^2}{2}\\psi(x), \\qquad \\dot{\\psi(x)}=\\frac{\\partial \\psi(x)}{\\partial t} = \\frac{E_n\\psi(x)}{i\\hbar}\\\\\n",
    "\\psi^a(x)=\\nabla^a \\psi(x) = \\frac{d^a \\psi(x)}{dx^a} =  (i n k )^a e^{i n k x} = (ink)^a \\psi(x)\\\\\n",
    "\\dot{\\psi}^a(x)=(i n k )^a e^{i n k x} = (ink)^a\\frac{E_n \\psi(x)}{i\\hbar}\\\\\n",
    "$$\n",
    "The defination of $V_{11}$ is given by:\n",
    "\n",
    "$$\n",
    "  \\hbar V_{ab}(x) \n",
    "  = (\\I\\hbar\\braket{x|\\op{D}_b[\\op{R},\\op{H}]\\op{D}_a^\\dagger|x})^*\n",
    "  = \\I\\hbar\\braket{x|\\op{D}_a[\\op{R},\\op{H}]\\op{D}_b^\\dagger|x}\\\\\n",
    "  = \\braket{x|\\op{D}_a|\\psi}\\braket{x|\\op{D}_b|\\dot{\\psi}}^*\n",
    "  + \\braket{x|\\op{D}_a|\\dot{\\psi}}\\braket{x|\\op{D}_b|\\psi}^*.\n",
    "$$\n",
    "\n",
    "If $\\op{D}_{a,b}(x)$ are just derivative operators$\\nabla^a$, then $\\braket{x|\\op{D}_{a}|\\psi} = \\psi^{(a)}(x)$, then we have\n",
    "\n",
    "$$\n",
    "\\begin{align}\n",
    " \\hbar V_{ab}(x) \n",
    "  &= \\psi^{(a)}(x)\\overline{\\dot{\\psi}^{(b)}(x)}+ \\dot{\\psi}^{(a)}(x)\\overline{\\psi^{(b)}(x)}\\\\\n",
    "  &=\\frac{(ink)^a(-ink)^b E_n\\psi(x)\\psi^*(x)}{-i\\hbar}+\\frac{(ink)^a(-ink)^b E_n\\psi(x)\\psi^*(x)}{i\\hbar}\\\\\n",
    "  &=\\frac{(nk)^{a+b}E_n\\psi\\psi^*}{ih}\\bigl[(i)^a(-i)^b-i^a(-i)^b\\bigr]=0\n",
    "\\end{align}\n",
    "$$\n",
    "\n",
    "It's found that $V_{ab}=0$, since any wave function can be expanded as plane wave, that means for any wave function, as long as the Hamiltonian is free-partile type, $V_{ab}=0$"
   ]
  },
  {
   "cell_type": "markdown",
   "id": "44fcd9da",
   "metadata": {},
   "source": [
    "* The following code check the UV and IR depedence of the derivative potential. "
   ]
  },
  {
   "cell_type": "code",
   "execution_count": 3,
   "id": "b891ee33",
   "metadata": {},
   "outputs": [],
   "source": [
    "psi_err_real = [-0.00218921, -0.00226835, -0.00282437, -0.00360555, -0.00501059,  -0.00685029, -0.00951956, -0.0127734 , -0.01684204, -0.02124532,  -0.02588368, -0.02995909, -0.03310807, -0.03448526, -0.03393179,  -0.03113281, -0.02663775, -0.02086866, -0.01482283, -0.0089401 ,  -0.00373432,  0.00104928,  0.00547406,  0.0098595 ,  0.01384601,   0.01710405,  0.01897185,  0.01938578,  0.01841146,  0.01652955,   0.01381004,  0.01019765,  0.00539174, -0.00051897, -0.00721161,  -0.01431977, -0.02175712, -0.02969925, -0.03800296, -0.04647457,  -0.05466709, -0.06283147, -0.07077758, -0.07868313, -0.08590425,  -0.09288341, -0.09926526, -0.10549211, -0.11085466, -0.11593967,  -0.12040231, -0.12456927, -0.12803744, -0.13119387, -0.13395077,  -0.13628036, -0.13820641, -0.1399491 , -0.14125757, -0.142399  ,  -0.14322768, -0.14393405, -0.14432862, -0.14463055, -0.14470525,  -0.14463055, -0.14432862, -0.14393405, -0.14322768, -0.142399  ,  -0.14125757, -0.1399491 , -0.13820641, -0.13628036, -0.13395077,  -0.13119387, -0.12803744, -0.12456927, -0.12040231, -0.11593967,  -0.11085466, -0.10549211, -0.09926526, -0.09288341, -0.08590425,  -0.07868313, -0.07077758, -0.06283147, -0.05466709, -0.04647457,  -0.03800296, -0.02969925, -0.02175712, -0.01431977, -0.00721161,  -0.00051897,  0.00539174,  0.01019765,  0.01381004,  0.01652955,   0.01841146,  0.01938578,  0.01897185,  0.01710405,  0.01384601,   0.0098595 ,  0.00547406,  0.00104928, -0.00373432, -0.0089401 ,  -0.01482283, -0.02086866, -0.02663775, -0.03113281, -0.03393179,  -0.03448526, -0.03310807, -0.02995909, -0.02588368, -0.02124532,  -0.01684204, -0.0127734 , -0.00951956, -0.00685029, -0.00501059,  -0.00360555, -0.00282437, -0.00226835]"
   ]
  },
  {
   "cell_type": "code",
   "execution_count": 4,
   "id": "b61db4fc",
   "metadata": {},
   "outputs": [],
   "source": [
    "psi_err = [-0.00218921+4.50738870e-05j, -0.00226835+3.27814682e-04j, -0.00282437+5.97283274e-04j, -0.00360555+1.39230139e-03j,    -0.00501059+2.07960895e-03j, -0.00685029+3.09336714e-03j, -0.00951956+3.68280893e-03j, -0.0127734 +4.12272628e-03j,    -0.01684204+3.54005357e-03j, -0.02124532+2.11877210e-03j,    -0.02588368-9.62888633e-04j, -0.02995909-5.33343049e-03j,    -0.03310807-1.14164114e-02j, -0.03448526-1.83242920e-02j,    -0.03393179-2.59022377e-02j, -0.03113281-3.28407813e-02j,    -0.02663775-3.88468295e-02j, -0.02086866-4.29065158e-02j,    -0.01482283-4.53694929e-02j, -0.0089401 -4.60280349e-02j,    -0.00373432-4.58378021e-02j,  0.00104928-4.47449411e-02j,     0.00547406-4.33346633e-02j,  0.0098595 -4.09341245e-02j,     0.01384601-3.76976409e-02j,  0.01710405-3.30584247e-02j,     0.01897185-2.77803042e-02j,  0.01938578-2.19596106e-02j,     0.01841146-1.65698780e-02j,  0.01652955-1.12854342e-02j,     0.01381004-6.45290020e-03j,  0.01019765-1.48229183e-03j,     0.00539174+2.91830327e-03j, -0.00051897+6.83454930e-03j,    -0.00721161+9.48325482e-03j, -0.01431977+1.14661610e-02j,    -0.02175712+1.24614862e-02j, -0.02969925+1.29921508e-02j,    -0.03800296+1.22802124e-02j, -0.04647457+1.07622808e-02j,    -0.05466709+8.09754723e-03j, -0.06283147+5.04299703e-03j,    -0.07077758+1.04844071e-03j, -0.07868313-3.50850290e-03j,    -0.08590425-8.93007232e-03j, -0.09288341-1.45492125e-02j,    -0.09926526-2.06476776e-02j, -0.10549211-2.70484057e-02j,    -0.11085466-3.37529097e-02j, -0.11593967-4.04560507e-02j,    -0.12040231-4.71200358e-02j, -0.12456927-5.38792982e-02j,    -0.12803744-6.03759482e-02j, -0.13119387-6.66371139e-02j,    -0.13395077-7.25906880e-02j, -0.13628036-7.82334154e-02j,    -0.13820641-8.33861957e-02j, -0.1399491 -8.80135257e-02j,    -0.14125757-9.22296061e-02j, -0.142399  -9.57805140e-02j,    -0.14322768-9.87048205e-02j, -0.14393405-1.01118355e-01j,    -0.14432862-1.02752808e-01j, -0.14463055-1.03759408e-01j,    -0.14470525-1.04155158e-01j, -0.14463055-1.03759408e-01j,    -0.14432862-1.02752808e-01j, -0.14393405-1.01118355e-01j,    -0.14322768-9.87048205e-02j, -0.142399  -9.57805140e-02j,    -0.14125757-9.22296061e-02j, -0.1399491 -8.80135257e-02j,    -0.13820641-8.33861957e-02j, -0.13628036-7.82334154e-02j,    -0.13395077-7.25906880e-02j, -0.13119387-6.66371139e-02j,    -0.12803744-6.03759482e-02j, -0.12456927-5.38792982e-02j,    -0.12040231-4.71200358e-02j, -0.11593967-4.04560507e-02j,    -0.11085466-3.37529097e-02j, -0.10549211-2.70484057e-02j,    -0.09926526-2.06476776e-02j, -0.09288341-1.45492125e-02j,    -0.08590425-8.93007232e-03j, -0.07868313-3.50850290e-03j,    -0.07077758+1.04844071e-03j, -0.06283147+5.04299703e-03j,    -0.05466709+8.09754724e-03j, -0.04647457+1.07622808e-02j,    -0.03800296+1.22802124e-02j, -0.02969925+1.29921508e-02j,    -0.02175712+1.24614862e-02j, -0.01431977+1.14661610e-02j,    -0.00721161+9.48325482e-03j, -0.00051897+6.83454930e-03j,     0.00539174+2.91830327e-03j,  0.01019765-1.48229183e-03j,     0.01381004-6.45290021e-03j,  0.01652955-1.12854342e-02j,     0.01841146-1.65698780e-02j,  0.01938578-2.19596107e-02j,     0.01897185-2.77803042e-02j,  0.01710405-3.30584247e-02j,     0.01384601-3.76976409e-02j,  0.0098595 -4.09341245e-02j,     0.00547406-4.33346633e-02j,  0.00104928-4.47449411e-02j,    -0.00373432-4.58378021e-02j, -0.0089401 -4.60280349e-02j,    -0.01482283-4.53694929e-02j, -0.02086866-4.29065158e-02j,    -0.02663775-3.88468295e-02j, -0.03113281-3.28407813e-02j,    -0.03393179-2.59022377e-02j, -0.03448526-1.83242920e-02j,    -0.03310807-1.14164114e-02j, -0.02995909-5.33343049e-03j,    -0.02588368-9.62888632e-04j, -0.02124532+2.11877210e-03j,    -0.01684204+3.54005357e-03j, -0.0127734 +4.12272628e-03j,    -0.00951956+3.68280893e-03j, -0.00685029+3.09336714e-03j,    -0.00501059+2.07960895e-03j, -0.00360555+1.39230139e-03j,    -0.00282437+5.97283275e-04j, -0.00226835+3.27814682e-04j]"
   ]
  },
  {
   "cell_type": "code",
   "execution_count": null,
   "id": "ff151602",
   "metadata": {},
   "outputs": [],
   "source": [
    "# plt.figure(figsize(10,5))\n",
    "args = dict(beta_K=1, beta_V=1, beta_D=1, beta_Y=1, divs=(1, 1))\n",
    "s = BCSCooling(N=128, dx=0.1, g=-1,**args)\n",
    "s.erase_max_ks()\n",
    "x = s.xyz[0]\n",
    "s.V = x**2/2\n",
    "psi0 = psi_err #np.exp(-x**2/2.0)*np.exp(1j*x)\n",
    "plt.subplot(121)\n",
    "plt.plot(x, psi0)\n",
    "plt.subplot(122)\n",
    "Vc = s.get_Dyadic(s.apply_H([psi0]))\n",
    "plt.plot(x, Vc)"
   ]
  },
  {
   "cell_type": "code",
   "execution_count": 6,
   "id": "06671e8f",
   "metadata": {},
   "outputs": [],
   "source": [
    "def ground_state(T=0.5, ls='--',  **args):   \n",
    "    b = BCSCooling(**args)\n",
    "    x = b.xyz[0]\n",
    "    V = x**2/2\n",
    "    b.V = V\n",
    "    H0 = b._get_H(mu_eff=0, V=0)\n",
    "    U0, E0 = b.get_psis_es(H0, transpose=True)\n",
    "    psi = b.Normalize(U0[1]) #b.Normalize(np.ones_like(x)) #\n",
    "    ts, psis, nfev = b.solve([psi], T=T, rtol=1e-5, atol=1e-6, solver=None, method='BDF')\n",
    "    plt.plot(x, Prob(psis[-1][0]), ls ,label=f'g={b.g}')\n",
    "    plt.legend()"
   ]
  },
  {
   "cell_type": "code",
   "execution_count": null,
   "id": "8ebceead",
   "metadata": {},
   "outputs": [],
   "source": [
    "plt.figure(figsize=(20, 8))\n",
    "N=128\n",
    "dx=0.1\n",
    "args = dict(N=N, dx=.1, beta_0=-1j,g=1, T=20)\n",
    "psi = ground_state(ls='-', **args)\n",
    "args.update(g=0)\n",
    "psi = ground_state(ls='--',**args)\n",
    "args.update(g=-1)\n",
    "psi = ground_state(ls='-+', **args)\n",
    "plt.savefig(\"ground_date_densities_gs.pdf\", bbox_inches='tight') #balanced_vortx_2d_bcs_plot"
   ]
  },
  {
   "cell_type": "code",
   "execution_count": 8,
   "id": "85bc46fb",
   "metadata": {},
   "outputs": [],
   "source": [
    "def Check_UV_IR(fontsize=16):\n",
    "    dx = 0.1\n",
    "    plt.figure(figsize=(18,16))\n",
    "    args = dict(beta_K=1, beta_V=1, beta_D=1, beta_Y=1, divs=(1, 1))\n",
    "    for Nx in [128, 256, 512]:\n",
    "        offset = np.log(Nx)*0.1 # add a small offset in y direction\n",
    "        uv = BCSCooling(N=Nx, dx=dx*256/Nx,**args)\n",
    "        ir  = BCSCooling(N=Nx, dx=dx, beta_0=1,**args)\n",
    "        for s, i in zip([uv, ir],[3, 4]):           \n",
    "            s.g = -1\n",
    "            x = s.xyz[0]\n",
    "            s.V = x**2/2\n",
    "            psi0 = np.exp(-x**2/2.0)*np.exp(1j*x)\n",
    "            plt.subplot(2,2,i-2)\n",
    "            plt.plot(x, abs(psi0)**2 + offset, label=f\"dx={s.dx},N={s.N}\")\n",
    "            plt.subplot(2,2,i)\n",
    "            psis_k = s.get_psis_k([psi0])\n",
    "            Vc = s.get_Vc(psis=[psi0], psis_k=psis_k)  # get_Dyadic\n",
    "            l, = plt.plot(x, Vc + offset, label=f\"dx={s.dx}, N={s.N}\")  # add some offset in y direction to separate plots\n",
    "    plt.subplot(221)\n",
    "    plt.xlim(-10, 10)\n",
    "    plt.xlabel(\"x\", fontsize=fontsize)\n",
    "    plt.title(r\"$|\\psi|^2$(UV)\", fontsize=fontsize)\n",
    "    plt.legend()\n",
    "    plt.subplot(222)\n",
    "    plt.xlim(-10, 10)\n",
    "    plt.xlabel(\"x\", fontsize=fontsize)\n",
    "    plt.title(r\"$|\\psi|^2$(IR)\", fontsize=fontsize)\n",
    "    plt.legend()\n",
    "    plt.subplot(223)\n",
    "    plt.xlim(-4, 4)\n",
    "    plt.xlabel(\"x\", fontsize=fontsize)\n",
    "    plt.title(r\"$V_c$(UV)\", fontsize=fontsize)\n",
    "    plt.legend()\n",
    "    plt.subplot(224)\n",
    "    plt.xlim(-4,4)\n",
    "    plt.xlabel(\"x\", fontsize=fontsize)\n",
    "    plt.title(r\"$V_c$(IR)\", fontsize=fontsize)\n",
    "    plt.legend()"
   ]
  },
  {
   "cell_type": "code",
   "execution_count": null,
   "id": "ff03e670",
   "metadata": {},
   "outputs": [],
   "source": [
    "Check_UV_IR()\n",
    "plt.savefig(\"cooling_potential_uv_ir.pdf\", bbox_inches='tight') #balanced_vortx_2d_bcs_plot"
   ]
  },
  {
   "cell_type": "code",
   "execution_count": 10,
   "id": "e2ab6c9c",
   "metadata": {},
   "outputs": [],
   "source": [
    "import time\n",
    "def test_cooling(\n",
    "        plot=True, plot_dE=True, T=0.5, log=False, fontsize=18, legendfont=18, E_E0=1.1, col=1,  col_offset=0, image_name=None,\n",
    "        show_plot=True, show_title=True, show_x=True, **args):   \n",
    "    b = BCSCooling(**args)\n",
    "    h0 = HarmonicOscillator(w=1)\n",
    "    h = HarmonicOscillator()\n",
    "    da, db=b.divs    \n",
    "    k0 = 2*np.pi/b.L\n",
    "    x = b.xyz[0]\n",
    "    V = x**2/2\n",
    "    b.V = V\n",
    "    H0 = b._get_H(mu_eff=0, V=0)\n",
    "    H1 = b._get_H(mu_eff=0, V=V)\n",
    "    U0, E0 = b.get_psis_es(H0, transpose=True)\n",
    "    U1, E1 = b.get_psis_es(H1, transpose=True)\n",
    "    psi0 = b.Normalize(h.get_wf(x))\n",
    "    psi0 = b.Normalize(U1[0])\n",
    "    psi = b.Normalize(h0.get_wf(x, n=2))\n",
    "    psi = b.Normalize(U0[1]) #b.Normalize(np.ones_like(x)) #\n",
    "    start_time = time.time()\n",
    "    E0, _ = b.get_E_Ns([psi0])\n",
    "    b.E_stop= E0*E_E0\n",
    "    ts, psis, nfev = b.solve([psi], T=T, rtol=1e-5, atol=1e-6, solver=None, method='BDF')\n",
    "    wall_time = time.time() - start_time\n",
    "    if plot:\n",
    "        #b.erase_max_ks()\n",
    "        if plot_dE:\n",
    "            N_plot=3\n",
    "        else:\n",
    "            N_plot=2\n",
    "       # plt.figure(figsize=(5*N_plot, 5))\n",
    "        plt.subplot(col, N_plot, col_offset*3 + 1)\n",
    "        Es = [b.get_E_Ns(_psi)[0] for _psi in psis]\n",
    "        dE_dt= [-1*b.get_dE_dt(_psi) for _psi in psis]\n",
    "        plt.plot(x, Prob(psis[0][0]), \"-\", label='init')\n",
    "        plt.plot(x, Prob(psis[-1][0]), '+',label=\"final\")\n",
    "        plt.plot(x, Prob(psi0), '--',label='Ground')\n",
    "        if show_x: plt.xlabel(\"x\", fontsize=fontsize)\n",
    "        if show_title: plt.title(r\"$|\\psi(x)|^2$\",fontsize=fontsize)\n",
    "        plt.legend(prop={'size': legendfont})\n",
    "        plt.subplot(col,N_plot,col_offset*3 + 2)\n",
    "        if log:\n",
    "            plt.semilogy(ts[:-1], (Es[:-1] - E0)/abs(E0), label=f\"Wall Time={wall_time:2.4}\")\n",
    "        else:\n",
    "            plt.plot(ts[:-1], (Es[:-1] - E0)/abs(E0), label=f\"Wall Time={wall_time:2.4}\")\n",
    "        if (Es[-1] - E0)/abs(E0) < 2.5:\n",
    "            plt.axhline(0, linestyle='dashed')\n",
    "        if show_x: plt.xlabel(\"Physical Time\", fontsize=fontsize)\n",
    "        if show_title: plt.title(\"(E-E0)/E0\",fontsize=fontsize)\n",
    "        plt.legend(prop={'size': legendfont})\n",
    "        if plot_dE:\n",
    "            plt.subplot(col, N_plot, col_offset*3 + 3)\n",
    "            plt.semilogy(ts[1:-1], dE_dt[1:-1], label='-dE/dt')\n",
    "            plt.axhline(0, linestyle='dashed')\n",
    "            if show_x: plt.xlabel(\"Physical Time\", fontsize=fontsize)\n",
    "            if show_title: plt.title(\"-dE/dt\",fontsize=fontsize)\n",
    "        plt.legend(prop={'size': legendfont})\n",
    "        \n",
    "    print(f\"Wall Time={wall_time}, nfev={nfev}\")\n",
    "    if image_name is not None:\n",
    "        plt.savefig(image_name, bbox_inches='tight')\n",
    "    if show_plot:\n",
    "        plt.show()\n",
    "    return (wall_time, nfev)"
   ]
  },
  {
   "cell_type": "markdown",
   "id": "65e6a53a",
   "metadata": {},
   "source": [
    "## A Fast cooling Due to Bug"
   ]
  },
  {
   "cell_type": "markdown",
   "id": "b67de75a",
   "metadata": {},
   "source": [
    "args = dict(N=128, dx=.1, divs=(1, 1), beta_Y=0, beta_S=5, T=0.05, check_dE=False)\n",
    "psi = test_cooling(plot_dE=True, **args)"
   ]
  },
  {
   "cell_type": "markdown",
   "id": "209baf4f",
   "metadata": {},
   "source": [
    "## Imaginary cooling"
   ]
  },
  {
   "cell_type": "code",
   "execution_count": null,
   "id": "a47bd58a",
   "metadata": {},
   "outputs": [],
   "source": []
  },
  {
   "cell_type": "code",
   "execution_count": null,
   "id": "91308dbf",
   "metadata": {
    "lines_to_next_cell": 2
   },
   "outputs": [],
   "source": [
    "args = dict(N=128, dx=.2, divs=(1, 1), beta_0=-1j, T=2.5, log=True, E_E0=1.01, check_dE=False)\n",
    "plt.figure(figsize(21, 6))\n",
    "psi = test_cooling(plot_dE=True, image_name='imaginary_cooling.pdf', **args)"
   ]
  },
  {
   "cell_type": "markdown",
   "id": "36138c5f",
   "metadata": {},
   "source": [
    "## Unitary cooling"
   ]
  },
  {
   "cell_type": "code",
   "execution_count": null,
   "id": "3a5be0b4",
   "metadata": {},
   "outputs": [],
   "source": [
    "args = dict(N=128, dx=0.2, divs=(1, 1), beta_K=0, beta_V=7.5, beta_D=0, T=7.5,log=True, E_E0=1.01, check_dE=True)\n",
    "res = test_cooling(plot_dE=True,  image_name=\"cooling_with_Vc.pdf\", **args)"
   ]
  },
  {
   "cell_type": "code",
   "execution_count": null,
   "id": "072596fe",
   "metadata": {},
   "outputs": [],
   "source": [
    "args = dict(N=128, dx=0.2, divs=(1, 1), beta_K=40, beta_V=0, beta_D=0, T=20, log=True,E_E0=1.01, check_dE=True)\n",
    "res = test_cooling(plot_dE=True, image_name=\"cooling_with_Kc.pdf\", **args)"
   ]
  },
  {
   "cell_type": "code",
   "execution_count": null,
   "id": "951c21d3",
   "metadata": {},
   "outputs": [],
   "source": [
    "args = dict(N=128, dx=0.2, divs=(1, 1), beta_K=0, beta_V=0, beta_D=2, T=100, log=True,E_E0=1.01, check_dE=True)\n",
    "res = test_cooling(plot_dE=True, **args)\n",
    "plt.savefig(\"cooling_with_Vd.pdf\", bbox_inches='tight')"
   ]
  },
  {
   "cell_type": "code",
   "execution_count": null,
   "id": "5037c81b",
   "metadata": {},
   "outputs": [],
   "source": [
    "E_E0=1.01\n",
    "col=3\n",
    "col_offset=0\n",
    "plt.figure(figsize(20, 20))\n",
    "args = dict(N=128, dx=0.2, divs=(1, 1), beta_K=0, beta_V=7.5, beta_D=0, T=7.5,log=True, E_E0=E_E0, check_dE=True)\n",
    "res = test_cooling(plot_dE=True, show_plot=False,col=col, col_offset=col_offset, show_title=True, show_x=False, **args)\n",
    "col_offset = col_offset + 1\n",
    "args = dict(N=128, dx=0.2, divs=(1, 1), beta_K=40, beta_V=0, beta_D=0, T=20, log=True,E_E0=E_E0, check_dE=True)\n",
    "res = test_cooling(plot_dE=True, show_plot=False, col=col, col_offset=col_offset, show_title=False, show_x=False,**args)\n",
    "col_offset = col_offset + 1\n",
    "args = dict(N=128, dx=0.2, divs=(1, 1), beta_K=0, beta_V=0, beta_D=2, T=30, log=True,E_E0=1.01, check_dE=True)\n",
    "res = test_cooling(plot_dE=True, show_plot=False,col=col, show_title=False, col_offset=col_offset, **args)\n",
    "plt.savefig(\"all_cooling_potential.pdf\", bbox_inches='tight')"
   ]
  },
  {
   "cell_type": "markdown",
   "id": "a13b4ae9",
   "metadata": {},
   "source": [
    "## Dyadic cooling\n",
    "To minimize the communication costs, we consider approximating $\\op{H}_c$ by a set of dyads:\n",
    "\n",
    "$$\n",
    "  \\op{H}_c = \\sum_{n}\\ket{a_n}f_n\\bra{b_n} + \\text{h.c.}, \\qquad\n",
    "  \\I\\hbar\\dot{E} = \\sum_{i}\\left(\n",
    "    f_i\\sum_{n}\\left(\n",
    "      \\braket{\\psi_n|\\op{H}|a_i}\\braket{b_i|\\psi_n}\n",
    "      - \n",
    "      \\braket{\\psi_n|a_i}\\braket{b_i|\\op{H}|\\psi_n}\n",
    "    \\right)\n",
    "    + \\text{h.c.}\n",
    "  \\right), \\\\\n",
    "  f_i = \\frac{\\I}{\\hbar}\n",
    "  \\sum_{n}\\left(\n",
    "    \\braket{a_i|\\op{H}|\\psi_n}\\braket{\\psi_n|b_i}\n",
    "    - \n",
    "    \\braket{a_i|\\psi_n}\\braket{\\psi_n|\\op{H}|b_i}\n",
    "  \\right).\n",
    "$$\n",
    "\n",
    "A simplification occurs if $\\ket{a_n} = \\ket{b_n}$:\n",
    "\n",
    "$$\n",
    "  \\op{H}_c = \\sum_{n}\\ket{a_n}f_n\\bra{a_n}, \\qquad\n",
    "  f_i = \\frac{\\I}{\\hbar}\n",
    "  \\sum_{n}\\left(\n",
    "    \\braket{a_i|\\op{H}|\\psi_n}\\braket{\\psi_n|a_i}\n",
    "    - \n",
    "    \\braket{a_i|\\psi_n}\\braket{\\psi_n|\\op{H}|a_i}\n",
    "  \\right).\n",
    "$$\n",
    "\n",
    "Choosing $\\ket{a_n} = \\ket{x}$ leads to our local cooling potential $\\op{V}_c$ while choosing $\\ket{a_n} = \\ket{k}$ leads to $\\op{K}_c$."
   ]
  },
  {
   "cell_type": "markdown",
   "id": "39a2151c",
   "metadata": {
    "colab_type": "text",
    "id": "lLIWw-ya8ceW"
   },
   "source": [
    "## Free Fermions and Fermions in a Harmonic Trap"
   ]
  },
  {
   "cell_type": "code",
   "execution_count": null,
   "id": "38c34478",
   "metadata": {
    "colab": {},
    "colab_type": "code",
    "id": "EyLTqCwj8ceX"
   },
   "outputs": [],
   "source": [
    "Nx = 128\n",
    "L = 23.0\n",
    "dx = L/Nx\n",
    "bcs = BCSCooling(N=Nx, L=None, dx=dx, beta_0=1j, beta_K=0, beta_V=0)\n",
    "np.random.seed(1)\n",
    "psi_ = np.exp(-bcs.xyz[0]**2/2)/np.pi**0.25"
   ]
  },
  {
   "cell_type": "code",
   "execution_count": null,
   "id": "c6f85d58",
   "metadata": {
    "colab": {},
    "colab_type": "code",
    "id": "APSW0DGNiuV0"
   },
   "outputs": [],
   "source": [
    "H0 = bcs._get_H(mu_eff=0, V=0)  # free particle\n",
    "x = bcs.xyz[0]\n",
    "V = x**2/2\n",
    "H1 = bcs._get_H(mu_eff=0, V=V)  # harmonic trap\n",
    "U0, Es0 = bcs.get_psis_es(H0, transpose=True)\n",
    "U1, Es1 = bcs.get_psis_es(H1, transpose=True)"
   ]
  },
  {
   "cell_type": "markdown",
   "id": "d05c429e",
   "metadata": {
    "colab_type": "text",
    "id": "gmdvwhivQ6eN"
   },
   "source": [
    "# Prerequisite Test"
   ]
  },
  {
   "cell_type": "markdown",
   "id": "ed28f686",
   "metadata": {
    "colab_type": "text",
    "id": "B3ifArgkA90M"
   },
   "source": [
    "## Check relation of $V_c(x)$, $K_c(k)$ with $H_c$\n",
    "* By definition, $V_c$ should be equal to the diagonal terms of $H_c$ in position space while $K_c$ in momentum space"
   ]
  },
  {
   "cell_type": "code",
   "execution_count": null,
   "id": "dc74c18d",
   "metadata": {
    "colab": {
     "base_uri": "https://localhost:8080/",
     "height": 34
    },
    "colab_type": "code",
    "id": "TztPB7ZFipxu",
    "outputId": "08e80d3e-a3e6-4403-cd6c-389dcccd7c0a"
   },
   "outputs": [],
   "source": [
    "np.random.seed(2)\n",
    "psi = [np.random.random(np.prod(bcs.Nxyz)) - 0.5]\n",
    "bcs.V=0\n",
    "Vc = bcs.get_Vc(psi)\n",
    "Kc = bcs.get_Kc(psi)\n",
    "Hc = bcs.get_Hc(psi)\n",
    "Hc_k = np.fft.ifft(np.fft.fft(Hc, axis=0), axis=1)\n",
    "np.allclose(np.diag(Hc_k).real - Kc, 0), np.allclose(np.diag(Hc) - Vc, 0)"
   ]
  },
  {
   "cell_type": "markdown",
   "id": "730c8de7",
   "metadata": {
    "colab_type": "text",
    "id": "Nkt4KOoaRQ0C"
   },
   "source": [
    "## Demostrate the $V_c$ and $K_c$ are Independent of Box Size\n",
    "* with fixed $dx$\n",
    "\n",
    "$$\n",
    "\\hat{R}=\\sum_n \\ket{\\psi_n}\\bra{\\psi_n}\\qquad\n",
    "\\hat{V}_c(x)=\\int dx V_c(x) \\ket{x}\\bra{x} \\qquad\\\\\n",
    "N=\\braket{\\psi|\\psi}=\\int dx\\psi(x)^*\\psi(x)\\qquad\n",
    "V_c(x) =\\braket{x|H_c|x}\n",
    "$$"
   ]
  },
  {
   "cell_type": "markdown",
   "id": "b4832d96",
   "metadata": {
    "colab_type": "text",
    "id": "ysb1C9Hu8ces"
   },
   "source": [
    "# Evolve in Imaginary Time"
   ]
  },
  {
   "cell_type": "code",
   "execution_count": null,
   "id": "7b4af89f",
   "metadata": {
    "colab": {},
    "colab_type": "code",
    "id": "D2BW3sz38cet"
   },
   "outputs": [],
   "source": [
    "dx = 0.1\n",
    "plt.figure(figsize=(16,8))\n",
    "def ImaginaryCooling():\n",
    "    ax1 = plt.subplot(121)\n",
    "    ax2 = plt.subplot(122)\n",
    "    for Nx in [64, 128, 256]:\n",
    "        labels = [\"IR\", \"UV\"]\n",
    "        args = dict(N=Nx, beta_0=-1j, beta_K=0, beta_V=0)\n",
    "        ir = BCSCooling(dx=dx, **args)  # dx fixed, L changes, IR\n",
    "        uv = BCSCooling(dx=dx*64.0/Nx, **args)  # dx changes, L fixed: UV\n",
    "        for i, s in enumerate([ir, uv]):\n",
    "            s.g = 0# -1\n",
    "            x = s.xyz[0]\n",
    "            r2 = x**2\n",
    "            V = x**2/2\n",
    "            s.V = V\n",
    "            u0 = np.exp(-x**2/2)/np.pi**4\n",
    "            u0 = u0/u0.dot(u0.conj())**0.5\n",
    "            u1=(np.sqrt(2)*x*np.exp(-x**2/2))/np.pi**4\n",
    "            u1 = u1/u1.dot(u1.conj())**0.5\n",
    "\n",
    "            psi_0 = Normalize(V*0 + 1+0*1j) # np.exp(-r2/2.0)*np.exp(1j*s.xyz[0])\n",
    "            ts, psis,_ = s.solve([psi_0], T=10, rtol=1e-5, atol=1e-6, method='BDF')\n",
    "            psi0 = psis[0][-1]\n",
    "            E0, N0 = s.get_E_Ns([psi0])\n",
    "            Es = [s.get_E_Ns(_psi)[0] for _psi in psis]\n",
    "            line, = ax1.semilogy(ts[:-2], (Es[:-2] - E0)/abs(E0), label=labels[i] + f\":Nx={Nx}\")\n",
    "            plt.sca(ax2)\n",
    "            l, = plt.plot(x, psi0)  # ground state\n",
    "            plt.plot(x, psi_0, '--', c=l.get_c(), label=labels[i] + f\":Nx={Nx}\")  # initial state\n",
    "            plt.plot(x, u0, '+', c=l.get_c())  # desired ground state\n",
    "            E, N = s.get_E_Ns([V])\n",
    "            # plt.title(f\"E={E:.4f}, N={N:.4f}\")\n",
    "    plt.sca(ax1)\n",
    "    plt.legend()\n",
    "    plt.xlabel('t')\n",
    "    plt.ylabel('abs((E-E0)/E0)')\n",
    "    plt.sca(ax2)\n",
    "    plt.legend()\n",
    "    plt.xlim(-5, 5)\n",
    "    clear_output()\n",
    "    plt.show()"
   ]
  },
  {
   "cell_type": "code",
   "execution_count": null,
   "id": "fa755fe3",
   "metadata": {
    "colab": {
     "base_uri": "https://localhost:8080/",
     "height": 283
    },
    "colab_type": "code",
    "id": "-0u8hZIMBjN2",
    "outputId": "aad3f16e-6edb-41c6-8343-3869e67a5517"
   },
   "outputs": [],
   "source": [
    "ImaginaryCooling()"
   ]
  },
  {
   "cell_type": "markdown",
   "id": "2c89bc7f",
   "metadata": {
    "colab_type": "text",
    "id": "p5nZgiVpBr6w"
   },
   "source": [
    "# Evolve in Real Time(Locally)\n",
    "* Unlike the imaginary time situation, where all wavefunction or orbits are used to renormlized the results, which can be expensive. Here wave functions are evolved in real time only using the local wavefunctions to cool down the energy."
   ]
  },
  {
   "cell_type": "markdown",
   "id": "310ea5c8",
   "metadata": {
    "colab_type": "text",
    "id": "-Wxtf4KV8cew"
   },
   "source": [
    "## Split-operator method"
   ]
  },
  {
   "cell_type": "markdown",
   "id": "188d7abb",
   "metadata": {
    "colab_type": "text",
    "id": "C5kkQAZcja8V"
   },
   "source": [
    "* Assume all orbits are mutually orthogonal. For any given two obits , the state can be put as $\\ket{\\psi}=\\ket{\\psi_1 ⊗\\psi_2}$. To compute the probability of a particle showing up in each of the ground state orbit, ie. $\\ket{\\phi_0}$ and $\\ket{\\phi_1}$:\n",
    "\n",
    "$$\n",
    "  P_i = (\\abs{\\braket{\\phi_i|\\psi_1}}^2+\\abs{\\braket{\\phi_i|\\psi_1}}^2)\\qquad \\text{i=0, 1}\n",
    "$$"
   ]
  },
  {
   "cell_type": "markdown",
   "id": "e438a521",
   "metadata": {
    "colab_type": "text",
    "id": "EIyZmO5HCt5x"
   },
   "source": [
    "# Cool Down the Energy\n",
    "In this section, all kinds of configuration will be presented. The initial state(s) is (are) picked from the free fermions in a box.\n",
    "\n"
   ]
  },
  {
   "cell_type": "code",
   "execution_count": null,
   "id": "ffd8d161",
   "metadata": {},
   "outputs": [],
   "source": [
    "cooling(N_state=6, Nx=128, N_data=25, start_state=4,  N_step=500, beta_V=5, beta_K=0, beta_D=0, plot_K=False);"
   ]
  },
  {
   "cell_type": "code",
   "execution_count": null,
   "id": "a8fb41a8",
   "metadata": {},
   "outputs": [],
   "source": [
    "cooling(N_state=6, Nx=256, N_data=25, start_state=2,  N_step=500, beta_V=1, beta_K=1, beta_D=0);"
   ]
  },
  {
   "cell_type": "code",
   "execution_count": null,
   "id": "ff45b242",
   "metadata": {},
   "outputs": [],
   "source": [
    "N_data = 20\n",
    "N_step = 100\n",
    "cooling(N_state=4, Nx=128, N_data=10, \n",
    "        init_state_ids=list(range(2, 4)), V0=1,\n",
    "        N_step=N_step*10, beta_V=1, beta_K=1, divs=(1, 1), beta_D=0, plot_k=False);"
   ]
  },
  {
   "cell_type": "markdown",
   "id": "9d891005",
   "metadata": {
    "colab_type": "text",
    "id": "Eo0kxBxAVMhZ"
   },
   "source": [
    "## The simplest single wave function.\n",
    "* In the follow demo, we will show the efficiency of  the cooling algorithm in different condition. Start with the simplest case where the inital state is a uniform wavefunction, then we turn on the hamonic potential, and monitor how the wave function evolve and the true ground state of the harmonic system is pupulated as the cooling proceeds. In the plot, the left panel plot the true ground state probability distribution $\\psi^\\dagger\\psi$ in '+', and the evolving wavefunction probability distribution in solid line. "
   ]
  },
  {
   "cell_type": "code",
   "execution_count": null,
   "id": "0c996ae7",
   "metadata": {
    "colab": {},
    "colab_type": "code",
    "id": "BXaJWUplV13u"
   },
   "outputs": [],
   "source": [
    "rets = cooling(N_state=1, Nx=64, init_state_ids=(3,), N_data=25, N_step=100, beta_0=-1j, beta_V=0, beta_K=1, beta_D=0., divs=(1, 1), plot_k=False)"
   ]
  },
  {
   "cell_type": "markdown",
   "id": "daf84489",
   "metadata": {
    "colab_type": "text",
    "id": "Tr365cInZDqJ"
   },
   "source": [
    "### Double States\n",
    "However, in multiple state situation, if we state of state 1 and 3, it may cool down to the ground states"
   ]
  },
  {
   "cell_type": "code",
   "execution_count": null,
   "id": "f3da8d19",
   "metadata": {
    "colab": {},
    "colab_type": "code",
    "id": "ceTa7P2bZQax"
   },
   "outputs": [],
   "source": [
    "x, rets = cooling(N_state=2, Nx=128, Lx=23, init_state_ids=(1,3), N_data=20, N_step=1000, beta_V=1, beta_K=0, beta_D=0., divs=(1, 1))"
   ]
  },
  {
   "cell_type": "markdown",
   "id": "9b51918a",
   "metadata": {
    "colab_type": "text",
    "id": "P14489lt3y5X"
   },
   "source": [
    "### Triple States\n",
    "* if set Nx=128, the environment of Google collaboratory will yield different result than than I run locally. Where it not converge properly, but will give desired result on my local environment."
   ]
  },
  {
   "cell_type": "code",
   "execution_count": null,
   "id": "6aab7d21",
   "metadata": {
    "colab": {},
    "colab_type": "code",
    "id": "ZBaymdxh3zaN"
   },
   "outputs": [],
   "source": [
    "cooling(N_state=3, Nx=256, N_data=25, start_state=2, N_step=1000, beta_V=1, beta_K=1, beta_D=0);"
   ]
  },
  {
   "cell_type": "markdown",
   "id": "0b402190",
   "metadata": {
    "colab_type": "text",
    "id": "QETrGFXTGhcb"
   },
   "source": [
    "# Experiment with another wavefunction\n",
    "* All the above trails used the 1D harmonic wavefunction, in which case, the $V_c$ and $K_c$ both works well to cool the energy($K_c$ performs better). However, in some case, $K_c$ may fail to cool the energy. The follow example we use GP wavefunction with interaction strength $g=1$, and no external potential."
   ]
  },
  {
   "cell_type": "code",
   "execution_count": null,
   "id": "066d8e36",
   "metadata": {
    "colab": {},
    "colab_type": "code",
    "id": "TzOboV3sDYN5"
   },
   "outputs": [],
   "source": [
    "args = dict(N=16, g=1)\n",
    "egs = [BCSCooling(beta_0=-1j, beta_V=0.0, beta_K=0.0, **args),\n",
    "       BCSCooling(beta_0=0.0, beta_V=0.0, beta_K=1.0, **args),\n",
    "       BCSCooling(beta_0=1.0, beta_V=0.0, beta_K=1.0, **args),      \n",
    "       BCSCooling(beta_0=0.0, beta_V=1.0, beta_K=0.0, **args),\n",
    "       BCSCooling(beta_0=1.0, beta_V=1.0, beta_K=0.0, **args),\n",
    "       BCSCooling(beta_0=0.0, beta_V=1.0, beta_K=1.0, **args),\n",
    "       BCSCooling(beta_0=1.0, beta_V=1.0, beta_K=1.0, **args)]\n",
    "labels = ['Imaginary Time',\n",
    "          'K', 'H+K',\n",
    "          'V', 'H+V',\n",
    "          'V+K', 'H+V+K']\n",
    "eg = egs[0]\n",
    "psi0 = 2*(np.random.random(eg.Nxyz[0]) + 1j*np.random.random(eg.Nxyz[0]) - 0.5 - 0.5j)\n",
    "V = np.array(psi0)*0\n",
    "for eg in egs:\n",
    "    eg.V = V\n",
    "x=egs[0].xyz[0]\n",
    "#psi0 = 0*x + 1.5 + 1.5*np.exp(-x**2/2)\n",
    "psi_ground = 0*psi0 + np.sqrt((abs(psi0)**2).mean())\n",
    "E0, N0 = eg.get_E_Ns([psi_ground])\n",
    "Es = [[] for _n in range(len(egs))]\n",
    "psis = [psi0.copy() for _n in range(len(egs))]\n",
    "t_max = 3.0\n",
    "Nstep = 4\n",
    "Ndata = int(np.round(t_max/eg.dt/Nstep))\n",
    "ts = np.arange(Ndata)*Nstep*eg.dt\n",
    "for _n in range(Ndata):\n",
    "    for n, eg in enumerate(egs):\n",
    "        ps = [psis[n]]\n",
    "        ps = eg.step(psis=ps, n=Nstep)\n",
    "        psis[n] = ps[0]\n",
    "        E, N = eg.get_E_Ns(psis=ps) \n",
    "        Es[n].append(E/E0 - 1.0)\n",
    "Es = np.asarray(Es)"
   ]
  },
  {
   "cell_type": "code",
   "execution_count": null,
   "id": "f79d27ae",
   "metadata": {
    "colab": {},
    "colab_type": "code",
    "id": "rUPY34nVHSux"
   },
   "outputs": [],
   "source": [
    "plt.semilogy(ts, Es[1], c='C0', ls=':', label=labels[1])\n",
    "plt.semilogy(ts, Es[2], c='C0', ls='-', label=labels[2])\n",
    "plt.semilogy(ts, Es[3], c='C1', ls=':', label=labels[3])\n",
    "plt.semilogy(ts, Es[4], c='C1', ls='-', label=labels[4])\n",
    "plt.semilogy(ts, Es[5], c='C2', ls=':', label=labels[5])\n",
    "plt.semilogy(ts, Es[6], c='C2', ls='-', label=labels[6])\n",
    "plt.semilogy(ts, Es[0], c='k', ls='-', label=labels[0], scaley=False)\n",
    "plt.xlabel(\"t\")\n",
    "plt.ylabel(\"E-E0\")\n",
    "plt.legend()"
   ]
  },
  {
   "cell_type": "markdown",
   "id": "2d885718",
   "metadata": {
    "colab_type": "text",
    "id": "LedHtcO3PO-1"
   },
   "source": [
    "# With Pairing Field\n",
    "* to-do: update the code to support BCS with pairing field."
   ]
  },
  {
   "cell_type": "code",
   "execution_count": null,
   "id": "dc3168ce",
   "metadata": {},
   "outputs": [],
   "source": [
    "b = BCSCooling(N=64, dx=0.1, beta_V=1, delta=1, mus=(2, 2))\n",
    "x = b.xyz[0]\n",
    "V0 = x**2/3\n",
    "V1 = x**2/2\n",
    "H0 = b.get_H(mus_eff=b.mus, delta=b.delta, Vs=(V0, V0))\n",
    "H1 = b.get_H(mus_eff=b.mus, delta=b.delta, Vs=(V1, V1))\n",
    "U0, Es0 = b.get_psis_es(H0, transpose=True)\n",
    "U1, Es1 = b.get_psis_es(H1, transpose=True)\n",
    "psi0 = U1[0]\n",
    "psi = U0[0]\n",
    "plt.plot(psi0)\n",
    "b.V = V1\n",
    "E0, N0 = b.get_E_Ns(psis=U1[:4])\n",
    "psis = U0[:4]\n",
    "for i in range(20):\n",
    "    psis = b.step(psis=psis, n=10)\n",
    "    plt.plot(Prob(psis[0]),'--')\n",
    "    plt.plot(Prob(psi0),'-')\n",
    "    #print(psis[0].real)\n",
    "    E, N = b.get_E_Ns(psis=psis)\n",
    "    plt.title(f\"E0={E0.real},E={E.real}\")\n",
    "    plt.show()\n",
    "    clear_output(wait=True)"
   ]
  },
  {
   "cell_type": "code",
   "execution_count": null,
   "id": "c163f753",
   "metadata": {},
   "outputs": [],
   "source": [
    "def get_box_wf(n, L, x):\n",
    "    n = n+1\n",
    "    k_n = n*np.pi/L\n",
    "    if n%2 == 1:\n",
    "        return (1/L)**0.5*np.cos(k_n*x)\n",
    "    return (1/L)**0.5*np.sin(k_n*x)\n",
    "\n",
    "def get_free_wf(n, L, x):\n",
    "    k_n = 2*n*np.pi/L\n",
    "    return np.sin(k_n*x)"
   ]
  },
  {
   "cell_type": "code",
   "execution_count": null,
   "id": "daf4e104",
   "metadata": {
    "lines_to_next_cell": 2
   },
   "outputs": [],
   "source": [
    "Nx=256\n",
    "Lx=20\n",
    "init_state_ids=None\n",
    "V0=1,\n",
    "beta_0=1\n",
    "N_state=3\n",
    "plot_k=True\n",
    "\"\"\"\n",
    "N_state: integer if init_state_ids is not provided\n",
    "    , it will use the first N_state states, and\n",
    "    also check the ground states with that numbers.\n",
    "init_state_ids: list, a list of initial states indics\n",
    "\n",
    "\"\"\"\n",
    "L = Lx\n",
    "dx = L/Nx\n",
    "b = BCSCooling(N=Nx, L=None, dx=dx)\n",
    "x = b.xyz[0]\n",
    "V = V0*x**2/2\n",
    "b.V = V\n",
    "H0 = b._get_H(mu_eff=0, V=0)  # free particle\n",
    "H1 = b._get_H(mu_eff=0, V=V)  # harmonic trap\n",
    "U0, Es0 = b.get_psis_es(H0, transpose=True)\n",
    "U1, Es1 = b.get_psis_es(H1, transpose=True)\n",
    "if init_state_ids is None:\n",
    "    psis_ = U0[1:N_state+1]  # change the start states here if needed.\n",
    "else:\n",
    "    assert len(init_state_ids) <= N_state\n",
    "    psis_ = [U0[id] for id in init_state_ids]\n",
    "psis0_ = U1[:N_state]  # the ground states for the harmonic potential\n",
    "h = HarmonicOscillator()\n",
    "if init_state_ids is None:\n",
    "    psis = [get_free_wf(n=i, L=L, x=x) for i in range(N_state)]  # change the start states here if needed.\n",
    "else:\n",
    "    assert len(init_state_ids) <= N_state\n",
    "    psis = [get_free_wf(n=i, L=L, x=x) for i in init_state_ids]\n",
    "psis0 = [h.get_wf(n=i, x=x) for i in range(N_state)] # the ground states for the harmonic potential"
   ]
  },
  {
   "cell_type": "code",
   "execution_count": null,
   "id": "1e15052f",
   "metadata": {},
   "outputs": [],
   "source": [
    "for (psi0, psi0_) in zip(psis0, psis0_):\n",
    "    plt.plot(x, Prob(b.Normalize(psi0)))\n",
    "    plt.plot(x, Prob(b.Normalize(psi0_)), '+')"
   ]
  },
  {
   "cell_type": "code",
   "execution_count": null,
   "id": "c66af0d6",
   "metadata": {},
   "outputs": [],
   "source": [
    "n=4\n",
    "plt.plot(x, Prob(b.Normalize(get_free_wf(n=n, L=L, x=x))))\n",
    "plt.plot(x, Prob(b.Normalize(U0[n])))"
   ]
  },
  {
   "cell_type": "code",
   "execution_count": null,
   "id": "0b2504c5",
   "metadata": {},
   "outputs": [],
   "source": [
    "for (psi0, psi0_) in zip(psis, psis_):\n",
    "    l, = plt.plot(x, Prob(b.Normalize(psi0)))\n",
    "    plt.plot(x, Prob(b.Normalize(psi0_)), '+', c=l.get_c())"
   ]
  },
  {
   "cell_type": "code",
   "execution_count": null,
   "id": "99409cc8",
   "metadata": {},
   "outputs": [],
   "source": [
    "plt.plot(x, psis_[2])\n",
    "plt.plot(x, psis[2])"
   ]
  },
  {
   "cell_type": "code",
   "execution_count": null,
   "id": "43d17dff",
   "metadata": {},
   "outputs": [],
   "source": []
  }
 ],
 "metadata": {
  "jupytext": {
   "cell_metadata_json": true,
   "encoding": "# -*- coding: utf-8 -*-",
   "formats": "ipynb,py:light"
  },
  "kernelspec": {
   "display_name": "Python 3",
   "language": "python",
   "name": "python3"
  },
  "language_info": {
   "codemirror_mode": {
    "name": "ipython",
    "version": 3
   },
   "file_extension": ".py",
   "mimetype": "text/x-python",
   "name": "python",
   "nbconvert_exporter": "python",
   "pygments_lexer": "ipython3",
   "version": "3.10.11"
  }
 },
 "nbformat": 4,
 "nbformat_minor": 5
}
