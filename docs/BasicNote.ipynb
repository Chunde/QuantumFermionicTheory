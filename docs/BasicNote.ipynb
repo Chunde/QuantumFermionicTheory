{
 "cells": [
  {
   "cell_type": "code",
   "execution_count": null,
   "id": "aa0fa4a9",
   "metadata": {},
   "outputs": [],
   "source": [
    "%pylab inline --no-import-all\n",
    "from nbimports import *   \n",
    "%pylab inline"
   ]
  },
  {
   "cell_type": "markdown",
   "id": "2c9fd847",
   "metadata": {},
   "source": [
    "We now generalize these results to finite temperature and allow for asymmetry.  Here we will obtain occupation numbers described by the Fermi distribution function\n",
    "\n",
    "$$\n",
    "  f(E) \\equiv f_\\beta(E) = \\frac{1}{1 + e^{\\beta E}} = \\frac{1-\\tanh(\\beta E/2)}{2}, \n",
    "  \\qquad \\beta = \\frac{1}{k_B T}, \\qquad\n",
    "  f(E) + f(-E) = 1,\n",
    "$$\n",
    "\n",
    "The BdG equations follow from the single-particle Hamiltonian (assuming homogeneous states)\n",
    "\n",
    "$$\n",
    "  \\mat{M} = \\begin{pmatrix}\n",
    "    \\epsilon_k^{\\uparrow} & \\Delta\\\\\n",
    "    \\Delta^\\dagger & -\\epsilon_{-k}^{\\downarrow}\n",
    "  \\end{pmatrix}\n",
    "   = \\mat{U}\\cdot\n",
    "   \\begin{pmatrix}\n",
    "     \\omega_+ & \\\\\n",
    "     & \\omega_-\n",
    "   \\end{pmatrix}\n",
    "   \\cdot\n",
    "   \\mat{U}^{\\dagger},\\qquad\n",
    "   \\mat{U} = \\begin{pmatrix}\n",
    "     u_+ & u_-\\\\\n",
    "     v_+^* & v_-^*\n",
    "   \\end{pmatrix}.\n",
    "$$\n",
    "\n",
    "where\n",
    "\n",
    "$$\n",
    "  \\epsilon_k^{\\uparrow} = \\frac{k^2}{2m}  - \\mu_\\uparrow, \\qquad\n",
    "  \\epsilon_{-k}^{\\downarrow} = \\frac{k^2}{2m} - \\mu_\\downarrow.\n",
    "$$\n",
    "\n",
    "This has eigenvectors and eigenvalues:\n",
    "\n",
    "$$\n",
    "  \\omega_{\\pm} = \\epsilon^{-}_k \\pm E_k, \\qquad\n",
    "  E_k = \\sqrt{(\\epsilon^{+}_k)^2 + \\Delta^2}, \\qquad\n",
    "  \\epsilon^{\\pm}_{k} = \\frac{\\epsilon^\\uparrow_k \\pm \\epsilon^\\downarrow_{-k}}{2},\\\\\n",
    "  \\epsilon^{\\uparrow}_k = K^{\\uparrow}_{k} - v_0n^{\\downarrow} - \\mu^{\\uparrow} \n",
    "                      = K^{\\uparrow}_{k} - \\mu^{\\uparrow}_{\\text{eff}},\\\\\n",
    "  \\epsilon^{\\downarrow}_{-k} = K^{\\downarrow}_{-k} - v_0n^{\\uparrow} - \\mu^{\\downarrow} \n",
    "                      = K^{\\downarrow}_{-k} - \\mu^{\\downarrow}_{\\text{eff}},\\\\\n",
    "  u_{\\pm} = e^{\\I\\phi}\\cos\\theta_\\pm, \\qquad v_{\\pm} = \\sin\\theta_\\pm, \\qquad\n",
    "  \\Delta = e^{\\I\\phi}\\abs{\\Delta}, \\qquad\n",
    "  \\tan\\theta_\\pm = \\frac{\\pm E - E_+}{\\abs{\\Delta}},\\\\\n",
    "  \\abs{u^{\\pm}_k}^2 = \\frac{1\\pm\\epsilon^+_k/E_k}{2}, \\qquad\n",
    " \\abs{v^{\\pm}_k}^2 = \\frac{1\\mp\\epsilon^+_k/E_k}{2},\n",
    "$$"
   ]
  },
  {
   "cell_type": "markdown",
   "id": "8b48cffa",
   "metadata": {},
   "source": [
    "The eigenvectors for $\\epsilon_{\\pm}$\n",
    "\\begin{align}\n",
    "\\ket{\\omega_+} &= \\left(-\\frac{1}{2E_k},\\frac{\\Delta}{2E_k(E_k -\\epsilon_+ )}\\right)\\\\\n",
    "\\ket{\\omega_-} &= \\left(\\frac{1}{2E_k},\\frac{\\Delta}{2E_k(E_k +\\epsilon_+ )}\\right)\n",
    "\\end{align}"
   ]
  },
  {
   "cell_type": "markdown",
   "id": "3893231d",
   "metadata": {},
   "source": [
    "# Particle densities"
   ]
  },
  {
   "cell_type": "markdown",
   "id": "ebec51cc",
   "metadata": {},
   "source": [
    "\\begin{align}\n",
    "N_a \n",
    "&=\\sum_k\\braket{\\hat{C}_k^\\dagger\\hat{C}_k}\\\\\n",
    "&=\\sum_k\\braket{(U_k\\hat{\\gamma}_+^\\dagger + V_k\\hat{\\gamma}_-)(U_k\\hat{\\gamma}_+ + V_k\\hat{\\gamma}_-^\\dagger)}\\\\\n",
    "&=\\sum_k\\braket{U_k^2\\hat{\\gamma}_+^\\dagger\\hat{\\gamma}_+ + V_k^2\\hat{\\gamma}_-\\hat{\\gamma}_-^\\dagger+U_kV_k\\hat{\\gamma}_-\\hat{\\gamma}_+ + U_kV_k\\hat{\\gamma}_-^\\dagger\\hat{\\gamma}_+^\\dagger}\\\\\n",
    "&=\\sum_k\\braket{U_k^2\\hat{\\gamma}_+^\\dagger\\hat{\\gamma}_+ + V_k^2\\hat{\\gamma}_-\\hat{\\gamma}_-^\\dagger}\\\\\n",
    "&=\\sum_k\\braket{U_k^2f(\\omega_+) + V_k^2f(-\\omega_-)}\\\\\n",
    "N_b \n",
    "&=\\sum_k\\braket{U_k^2\\hat{\\gamma}_-^\\dagger\\hat{\\gamma}_- + V_k^2\\hat{\\gamma}_+\\hat{\\gamma}_+^\\dagger}\\\\\n",
    "&=\\sum_k\\braket{U_k^2f(\\omega_-) + V_k^2f(-\\omega_+)}\\\\\n",
    "\\end{align}"
   ]
  },
  {
   "cell_type": "markdown",
   "id": "f7185292",
   "metadata": {},
   "source": [
    "* With these two equations, accupany for both speices can be computed:\n",
    "\\begin{align}\n",
    "f_+ &= 1-\\frac{\\epsilon_+}{2E}\\left[f(\\omega_+)-f(-\\omega_-)\\right]\\\\\n",
    "f_- &= f(\\omega_+)-f(\\omega_-)\\\\\n",
    "\\end{align}"
   ]
  },
  {
   "cell_type": "markdown",
   "id": "987cf81a",
   "metadata": {},
   "source": [
    "# Hartree-Fock-Bogoliubov Method\n",
    "In the mean-field approximation, a superconductor is described by a free Hamiltonian, i.e., quadratic in the electron creation and annihilation operators. Note that although the number of fermions is not conserved, the parity is."
   ]
  },
  {
   "cell_type": "markdown",
   "id": "3b261bdd",
   "metadata": {},
   "source": [
    "## Thouless' Theorem\n",
    "Thouless' theorem states: \n",
    "Any general product wave function $\\ket{\\Phi_I}$ which is not orthogonal to the quasi-particle vacuum $\\ket{\\Psi_0}$ can be expressed as:\n",
    "\n",
    "$$\n",
    "\\ket{\\Psi_I}=\\Omega e^{\\sum_{k<k'}{Z_{kk'}\\beta_k^+\\beta_{k'}^+}}\\ket{\\Psi_0}\n",
    "$$\n",
    "where\n",
    "$$\n",
    "\\Omega=\\braket{\\Psi_0|\\Psi_I}\n",
    "$$"
   ]
  },
  {
   "cell_type": "markdown",
   "id": "beb31249",
   "metadata": {},
   "source": [
    "## Two-dody interaction:\n",
    "$$\n",
    "\\hat{H}=\\sum_{ij}t_{ij}c_i^\\dagger c_j+\\frac{1}{4}\\sum_{ijkl}\\bar{\\nu}_{ijkl}c_i^{\\dagger}c_j^{\\dagger}c_lc_k\n",
    "$$"
   ]
  },
  {
   "cell_type": "markdown",
   "id": "cc2efda3",
   "metadata": {},
   "source": [
    "## Variational principle:\n",
    "$$\n",
    "\\delta E[\\Psi]=0;\\qquad E[\\Psi]=\\frac{\\bra{\\Psi}\\hat{H}\\ket{\\Psi}}{\\braket{\\Psi|\\Psi}};\\qquad E[\\Psi]>E_0\n",
    "$$\n",
    "\n",
    "Trail Wave Functions:\n",
    "$$\n",
    "\\beta_k^\\dagger=\\sum_{i}(u_{ik}c_i^\\dagger + v_{ik} c_i)\\\\\n",
    "\\ket{\\Psi}=\\prod_{k}\\beta_k\\ket{-};\\qquad \\beta_k\\ket{\\Psi}=0\n",
    "$$"
   ]
  },
  {
   "cell_type": "markdown",
   "id": "1e35a4d6",
   "metadata": {},
   "source": [
    "# S-Wave Scattering"
   ]
  },
  {
   "cell_type": "markdown",
   "id": "b02a7e20",
   "metadata": {},
   "source": [
    "$$\n",
    "-\\frac{\\hbar^2}{2m}u''(r)=Eu(r)\n",
    "$$\n",
    "solutions:\n",
    "$$\n",
    "u(r)=Ae^{ikr}+Be^{-ikr}\n",
    "$$\n",
    "For given condition: $u(r_0)=0$\n",
    "\\begin{align}\n",
    "u(r_0)\n",
    "&=Ae^{ikr_0}+Be^{-ikr_0} \\qquad\\text{A,B are complex numbers}\\\\\n",
    "&=(A+B)cos(kr_0)+i(A-B)sin(kr_0)=0\n",
    "\\end{align}"
   ]
  },
  {
   "cell_type": "markdown",
   "id": "4dc0c4a7",
   "metadata": {},
   "source": [
    "The condition to make $u(r_0)=0$ can be achived:\n",
    "$$\n",
    "u(r_0)=sin(kx+\\delta_0) \\qquad \\text{where}\\qquad \\delta_0 = kr_0\n",
    "$$"
   ]
  },
  {
   "cell_type": "markdown",
   "id": "9c3d17bc",
   "metadata": {},
   "source": [
    "# Commutation of field operator and mometum operator\n",
    "In plane-wave basis, the momentum operator is given by:\n",
    "$$\n",
    "\\mathbf{P} \\equiv \\sum_{\\alpha} \\int d^{3} x \\hat{\\psi}_{\\alpha}^{\\dagger}(\\mathbf{x})(-i \\hbar \\nabla) \\hat{\\psi}_{\\alpha}(\\mathbf{x})=\\sum_{\\mathbf{k} \\lambda} \\hbar \\mathbf{k} c_{\\mathbf{k} \\lambda}^{\\dagger} c_{\\mathbf{k} \\lambda}\n",
    "$$\n",
    "A field operaotr $\\hat{\\psi}(x)$ can be expanded in the plane wave basis as:"
   ]
  },
  {
   "cell_type": "markdown",
   "id": "0042b4d5",
   "metadata": {},
   "source": [
    "$$\n",
    "\\hat{\\psi_{\\alpha}}(x)=\\sum_{\\alpha}\\braket{k|x}c_{k\\alpha}=\\sum_{\\alpha}e^{ikx}c_{c\\alpha}\n",
    "$$"
   ]
  },
  {
   "cell_type": "markdown",
   "id": "5240bbf9",
   "metadata": {},
   "source": [
    "Then the commutator of $\\hat{P}$ with the field operator can be evaluated as follow:\n",
    "$$\n",
    "\\begin{align}\n",
    "\\left[\\hat{\\psi}_{\\alpha}(\\mathbf{x}), \\mathbf{P}\\right]\n",
    "&=\\sum_{\\alpha k,\\beta, k'}\\hbar k e^{kx}\\left[c_{k\\alpha}c_{k'\\beta}c_{k'\\beta} - c_{k'\\beta}c_{k'\\beta}c_{k\\alpha}\\right]\\\\\n",
    "&=\\sum_{\\alpha k}e^{ikx}\\hbar k \\left[c_{k\\alpha}c_{k\\alpha}c_{k\\alpha} - c_{k\\beta}c_{k\\alpha}c_{k\\alpha}\\right]\\qquad \\text{[Apply commuation relation]}\\\\\n",
    "&=\\sum_{\\alpha k}e^{ikx}\\hbar k c_{\\alpha k}\\\\\n",
    "&=-i\\hbar \\nabla\\hat{\\psi}(x)\n",
    "\\end{align}\n",
    "$$"
   ]
  },
  {
   "cell_type": "code",
   "execution_count": null,
   "id": "0ca4cd11",
   "metadata": {},
   "outputs": [],
   "source": []
  }
 ],
 "metadata": {
  "jupytext": {
   "formats": "ipynb,py:light"
  },
  "kernelspec": {
   "display_name": "Python 3 (ipykernel)",
   "language": "python",
   "name": "python3"
  },
  "language_info": {
   "codemirror_mode": {
    "name": "ipython",
    "version": 3
   },
   "file_extension": ".py",
   "mimetype": "text/x-python",
   "name": "python",
   "nbconvert_exporter": "python",
   "pygments_lexer": "ipython3",
   "version": "3.10.11"
  }
 },
 "nbformat": 4,
 "nbformat_minor": 5
}
