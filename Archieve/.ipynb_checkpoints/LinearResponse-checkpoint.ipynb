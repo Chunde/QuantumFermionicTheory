{
 "cells": [
  {
   "cell_type": "code",
   "execution_count": 1,
   "metadata": {
    "collapsed": false
   },
   "outputs": [
    {
     "data": {
      "text/html": [
       "<style>@import url('http://fonts.googleapis.com/css?family=Lato:700');\n",
       "@import url('http://fonts.googleapis.com/css?family=Ubuntu+Mono');\n",
       "@import url('http://fonts.googleapis.com/css?family=Inconsolata');\n",
       "\n",
       "// http://typecast.com/images/uploads/modernscale.css\n",
       "\n",
       "// html {font-size: 32pt;}\n",
       "\n",
       "body, caption, th, td, input, textarea, select, option, legend, fieldset, h1, h2, h3, h4, h5, h6, .CodeMirror {\n",
       "  font-size-adjust: 0.5;\n",
       "}\n",
       "\n",
       "// This is the containing div, so we set the base size here.\n",
       "// All other elements will resize accordingly (not menus)\n",
       "// Unfortunately, it does not work...\n",
       "div #notebook_panel {\n",
       "  font-size: 1em;\n",
       "  /* 1em equivalent to 16px */\n",
       "}\n",
       "\n",
       "#notebook {\n",
       "  font-size: 1.2em;\n",
       "  line-height: 1.25;\n",
       "  /* equivalent to 20px */\n",
       "}\n",
       "\n",
       "@media (min-width: 43.75em) {\n",
       "  #notebook {\n",
       "    font-size: 1.2em;\n",
       "    line-height: 1.375;\n",
       "    /* equivalent to 22px */\n",
       "  }\n",
       "}\n",
       "\n",
       "h1 {\n",
       "  font-size: 2em;\n",
       "  /* 2x body copy size = 32px */\n",
       "  line-height: 1.25;\n",
       "  /* 45px / 36px */\n",
       "}\n",
       "\n",
       "@media (min-width: 43.75em) {\n",
       "  h1 {\n",
       "    font-size: 2.5em;\n",
       "    /* 2.5x body copy size = 40px */\n",
       "    line-height: 1.125;\n",
       "  }\n",
       "}\n",
       "\n",
       "@media (min-width: 56.25em) {\n",
       "  h1 {\n",
       "    font-size: 3em;\n",
       "    /* 3x body copy size = 48px */\n",
       "    line-height: 1.05;\n",
       "    /* keep to a multiple of the 20px line height and something more appropriate for display headings */\n",
       "  }\n",
       "}\n",
       "\n",
       "h2 {\n",
       "  font-size: 1.625em;\n",
       "  /* 1.625x body copy size = 26px */\n",
       "  line-height: 1.15384615;\n",
       "  /* 30px / 26px */\n",
       "}\n",
       "\n",
       "@media (min-width: 43.75em) {\n",
       "  h2 {\n",
       "    font-size: 2em;\n",
       "    /* 2x body copy size = 32px */\n",
       "    line-height: 1.25;\n",
       "  }\n",
       "}\n",
       "\n",
       "@media (min-width: 56.25em) {\n",
       "  h2 {\n",
       "    font-size: 2.25em;\n",
       "    /* 2.25x body copy size = 36px */\n",
       "    line-height: 1.25;\n",
       "  }\n",
       "}\n",
       "\n",
       "h3 {\n",
       "  font-size: 1.375em;\n",
       "  /* 1.375x body copy size = 22px */\n",
       "  line-height: 1.13636364;\n",
       "  /* 25px / 22px */\n",
       "}\n",
       "\n",
       "@media (min-width: 43.75em) {\n",
       "  h3 {\n",
       "    font-size: 1.5em;\n",
       "    /* 1.5x body copy size = 24px */\n",
       "    line-height: 1.25;\n",
       "  }\n",
       "}\n",
       "\n",
       "@media (min-width: 56.25em) {\n",
       "  h3 {\n",
       "    font-size: 1.75em;\n",
       "    /* 1.75x body copy size = 28px */\n",
       "    line-height: 1.25;\n",
       "  }\n",
       "}\n",
       "\n",
       "h4 {\n",
       "  font-size: 1.125em;\n",
       "  /* 1.125x body copy size = 18px */\n",
       "  line-height: 1.11111111;\n",
       "}\n",
       "\n",
       "@media (min-width: 43.75em) {\n",
       "  h4 {\n",
       "    line-height: 1.22222222;\n",
       "    /* (22px / 18px */\n",
       "  }\n",
       "}\n",
       "\n",
       "\n",
       "/* These need some adjustments */\n",
       "blockquote {\n",
       "  font-size: 1em;\n",
       "  /* 20px / 16px */\n",
       "  line-height: 1.25;\n",
       "  /* 25px / 20px */\n",
       "}\n",
       "\n",
       "@media (min-width: 43.75em) {\n",
       "  blockquote {\n",
       "    font-size: 1em;\n",
       "    /* 24px / 16px = */\n",
       "    line-height: 1.45833333;\n",
       "    /* 35px / 24px */\n",
       "  }\n",
       "}\n",
       "\n",
       "#notebook-container {\n",
       "    background-color: #fcfaf2;\n",
       "}\n",
       "\n",
       "div.text_cell_render {\n",
       "    font-family: \"Palatino Linotype\", \"Palatino\", \"Book Antiqua\",\n",
       "                 \"URW Palladio L\", serif;\n",
       "}\n",
       "\n",
       ".CodeMirror pre {\n",
       "    font-family: Inconsolata, Consolas, monocco, monospace;\n",
       "}\n",
       "\n",
       "/* This was an attempt to make it more obvious that long lines */\n",
       "/* extended to the right, but causes a problem with the left bar of trhe */\n",
       "/* input areas overflowing down and obscuring the output */\n",
       "\n",
       "/* .CodeMirror { */\n",
       "/*     overflow: visible; */\n",
       "/* } */\n",
       "\n",
       "div.input_area {\n",
       "    border-color: rgba(0,0,0,0.10);\n",
       "    background: rbga(1,0,0,0.5);\n",
       "    max-width: 48.8em; /* 80 characters instead of 100%, */\n",
       "}\n",
       "\n",
       "div.text_cell_render p {\n",
       "    max-width: 45em; /* instead of 100%, */\n",
       "}\n",
       "\n",
       "h1, h2, h3, h4 {\n",
       "    font-family: Lato, Verdana, sans-serif;\n",
       "}\n",
       "\n",
       ".rendered_html ol {\n",
       "    list-style:decimal;\n",
       "    margin: 1em 2em;\n",
       "}\n",
       "\n",
       "/* My overrrides */\n",
       "div.output_subarea {\n",
       "    background: rgba(0,0,0,0.02);\n",
       "}\n",
       "\n",
       ".rendered_html pre,\n",
       ".rendered_html code {a\n",
       "    line-height: 105%;\n",
       "    font-family: Inconsolata, Consolas, monocco, monospace;\n",
       "    background-color: #fcfaf2;\n",
       "}\n",
       "\n",
       "figure {\n",
       "    display: inline-block;\n",
       "    width: 100%;\n",
       "    max-width: 45em;\n",
       "}\n",
       "\n",
       "figure img {\n",
       "    align: center;\n",
       "}\n",
       "\n",
       "figure figcaption {\n",
       "    text-align: center;\n",
       "}\n",
       "\n",
       ".grade {\n",
       "   background-color: #66FFCC;\n",
       "}\n",
       "</style>"
      ],
      "text/plain": [
       "<IPython.core.display.HTML object>"
      ]
     },
     "metadata": {},
     "output_type": "display_data"
    },
    {
     "data": {
      "application/javascript": [
       "// MathJaX customization, custom commands etc.\n",
       "console.log('Updating MathJax configuration');\n",
       "MathJax.Hub.Config({\n",
       "  \"HTML-CSS\": {\n",
       "      //availableFonts: [\"Neo-Euler\"], preferredFont: \"Neo-Euler\",\n",
       "      //webFont: \"Neo-Euler\",\n",
       "      //scale: 85, // Euler is a bit big.\n",
       "      mtextFontInherit: true,\n",
       "      matchFontHeight: true,\n",
       "      scale: 90, // STIX is a bit big.\n",
       "\n",
       "  },\n",
       "  // This is not working for some reason.\n",
       "  \"TeX\": {\n",
       "    Macros: {\n",
       "        d: [\"\\\\mathrm{d}\"],\n",
       "        I: [\"\\\\mathrm{i}\"],\n",
       "        vect: [\"\\\\vec{#1}\", 1],\n",
       "        uvect: [\"\\\\hat{#1}\", 1],\n",
       "        abs: [\"\\\\lvert#1\\\\rvert\", 1],\n",
       "        Abs: [\"\\\\left\\\\lvert#1\\\\right\\\\rvert\", 1],\n",
       "        norm: [\"\\\\lVert#1\\\\rVert\", 1],\n",
       "        Norm: [\"\\\\left\\\\lVert#1\\\\right\\\\rVert\", 1],\n",
       "        ket: [\"|#1\\\\rangle\", 1],\n",
       "        bra: [\"\\\\langle#1|\", 1],\n",
       "        Ket: [\"\\\\left|#1\\\\right\\\\rangle\", 1],\n",
       "        Bra: [\"\\\\left\\\\langle#1\\\\right|\", 1],\n",
       "        braket: [\"\\\\langle#1\\\\rangle\", 1],\n",
       "        op: [\"\\\\mathbf{#1}\", 1],\n",
       "        mat: [\"\\\\mathbf{#1}\", 1],\n",
       "        pdiff: [\"\\\\frac{\\\\partial^{#1} #2}{\\\\partial {#3}^{#1}}\", 3, \"\"],\n",
       "        diff: [\"\\\\frac{\\\\d^{#1} #2}{\\\\d {#3}^{#1}}\", 3, \"\"],\n",
       "        ddiff: [\"\\\\frac{\\\\delta^{#1} #2}{\\\\delta {#3}^{#1}}\", 3, \"\"],\n",
       "        Tr: \"\\\\mathop{\\\\mathrm{Tr}}\\\\nolimits\",\n",
       "        erf: \"\\\\mathop{\\\\mathrm{erf}}\\\\nolimits\",\n",
       "        order: \"\\\\mathop{\\\\mathcal{O}}\\\\nolimits\",\n",
       "        diag: \"\\\\mathop{\\\\mathrm{diag}}\\\\nolimits\",\n",
       "        floor: [\"\\\\left\\\\lfloor#1\\\\right\\\\rfloor\", 1],\n",
       "        ceil: [\"\\\\left\\\\lceil#1\\\\right\\\\rceil\", 1],\n",
       "\n",
       "        mylabel: [\"\\\\label{#1}\\\\tag{#1}\", 1],\n",
       "        degree: [\"^{\\\\circ}\"],\n",
       "    },\n",
       "  }\n",
       "});\n",
       "\n",
       "// Jupyter.notebook.config.update({\"load_extensions\":{\"calico-document-tools\":true}});\n",
       "// Jupyter.notebook.config.update({\"load_extensions\":{\"calico-cell-tools\":true}});\n",
       "// Jupyter.notebook.config.update({\"load_extensions\":{\"calico-spell-check\":true}});\n"
      ],
      "text/plain": [
       "<IPython.core.display.Javascript object>"
      ]
     },
     "metadata": {},
     "output_type": "display_data"
    },
    {
     "data": {
      "text/html": [
       "<script id=\"MathJax-Element-48\" type=\"math/tex\">\n",
       "\\newcommand{\\vect}[1]{\\mathbf{#1}}\n",
       "\\newcommand{\\uvect}[1]{\\hat{#1}}\n",
       "\\newcommand{\\abs}[1]{\\lvert#1\\rvert}\n",
       "\\newcommand{\\norm}[1]{\\lVert#1\\rVert}\n",
       "\\newcommand{\\I}{\\mathrm{i}}\n",
       "\\newcommand{\\ket}[1]{\\left|#1\\right\\rangle}\n",
       "\\newcommand{\\bra}[1]{\\left\\langle#1\\right|}\n",
       "\\newcommand{\\braket}[1]{\\langle#1\\rangle}\n",
       "\\newcommand{\\op}[1]{\\mathbf{#1}}\n",
       "\\newcommand{\\mat}[1]{\\mathbf{#1}}\n",
       "\\newcommand{\\d}{\\mathrm{d}}\n",
       "\\newcommand{\\pdiff}[3][]{\\frac{\\partial^{#1} #2}{\\partial {#3}^{#1}}}\n",
       "\\newcommand{\\diff}[3][]{\\frac{\\d^{#1} #2}{\\d {#3}^{#1}}}\n",
       "\\newcommand{\\ddiff}[3][]{\\frac{\\delta^{#1} #2}{\\delta {#3}^{#1}}}\n",
       "\\DeclareMathOperator{\\erf}{erf}\n",
       "\\DeclareMathOperator{\\Tr}{Tr}\n",
       "\\DeclareMathOperator{\\order}{O}\n",
       "\\DeclareMathOperator{\\diag}{diag}\n",
       "\\DeclareMathOperator{\\sgn}{sgn}\n",
       "</script>\n",
       "<i>\n",
       "<p>This cell contains some definitions for equations and some CSS for styling the notebook.  If things look a bit strange, please try the following:\n",
       "\n",
       "<ul>\n",
       "  <li>Choose \"Trust Notebook\" from the \"File\" menu.</li>\n",
       "  <li>Re-execute this cell.</li>\n",
       "  <li>Reload the notebook.</li>\n",
       "</ul>\n",
       "</p>\n",
       "</i>\n"
      ],
      "text/plain": [
       "<IPython.core.display.HTML object>"
      ]
     },
     "metadata": {},
     "output_type": "display_data"
    }
   ],
   "source": [
    "import mmf_setup;mmf_setup.nbinit()"
   ]
  },
  {
   "cell_type": "code",
   "execution_count": 2,
   "metadata": {
    "collapsed": false
   },
   "outputs": [
    {
     "name": "stdout",
     "output_type": "stream",
     "text": [
      "Populating the interactive namespace from numpy and matplotlib\n"
     ]
    }
   ],
   "source": [
    "%pylab inline --no-import-all\n",
    "from IPython.display import display, clear_output"
   ]
  },
  {
   "cell_type": "code",
   "execution_count": 3,
   "metadata": {
    "collapsed": false
   },
   "outputs": [],
   "source": [
    "from pytimeode.evolvers import EvolverABM, EvolverSplit\n",
    "from mmfutils.contexts import NoInterrupt"
   ]
  },
  {
   "cell_type": "code",
   "execution_count": 4,
   "metadata": {
    "collapsed": false
   },
   "outputs": [
    {
     "data": {
      "image/png": "[encoded data removed]",
      "text/plain": [
       "<matplotlib.figure.Figure at 0x7f5c0fae5110>"
      ]
     },
     "metadata": {},
     "output_type": "display_data"
    }
   ],
   "source": [
    "import bec;reload(bec)\n",
    "from bec import State, u\n",
    "s = State(N=1e1, Nxyz=(2**7,), Lxyz=(20*u.micron,))\n",
    "s.pre_evolve_hook()\n",
    "s._N = 1e1\n",
    "s.normalize()\n",
    "s.plot()\n",
    "s.cooling_phase = 1j\n",
    "\n",
    "e = EvolverSplit(s, dt=1.0, normalize=True)\n",
    "\n",
    "E_tol = 1e-8\n",
    "E1 = e.y.get_energy()\n",
    "E0 = E1 + 2*E_tol\n",
    "\n",
    "log = True\n",
    "\n",
    "with NoInterrupt(ignore=True) as interrupted:\n",
    "    while not interrupted and abs(E1 - E0) > E_tol:\n",
    "        e.evolve(100)\n",
    "        E0, E1 = E1, e.y.get_energy()\n",
    "        plt.clf()\n",
    "        e.y.plot(log=log)\n",
    "        display(plt.gcf())\n",
    "        clear_output(wait=True)\n",
    "\n",
    "e.dt = 0.01\n",
    "E0 = E1 + 2*E_tol        \n",
    "with NoInterrupt(ignore=True) as interrupted:\n",
    "    while not interrupted and abs(E1 - E0) > E_tol/100:\n",
    "        print abs(E1 - E0)\n",
    "        e.evolve(100)\n",
    "        E0, E1 = E1, e.y.get_energy()\n",
    "        plt.clf()\n",
    "        e.y.plot(log=log)\n",
    "        display(plt.gcf())\n",
    "        clear_output(wait=True)\n",
    "\n",
    "fact = 100.0\n",
    "e = EvolverABM(e.get_y(), dt=1.0/fact)\n",
    "E0 = E1 + 2*E_tol        \n",
    "with NoInterrupt(ignore=True) as interrupted:\n",
    "    while not interrupted and abs(E1 - E0) > E_tol/fact/10:\n",
    "        print abs(E1 - E0)\n",
    "        e.evolve(100)\n",
    "        E0, E1 = E1, e.y.get_energy()\n",
    "        plt.clf()\n",
    "        e.y.plot(log=log)\n",
    "        display(plt.gcf())\n",
    "        clear_output(wait=True) \n",
    "s = e.get_y()"
   ]
  },
  {
   "cell_type": "markdown",
   "metadata": {},
   "source": [
    "# Normal Modes"
   ]
  },
  {
   "cell_type": "markdown",
   "metadata": {},
   "source": [
    "Here we consider the fluctuations about a stationary state $\\psi_0$ of the GPE:\n",
    "\n",
    "$$\n",
    "  \\psi = \\psi_0 + u(x)e^{\\I\\omega t} + v^*(x) e^{-\\I\\omega t}.\n",
    "$$\n",
    "\n",
    "This gives the following generalized eigenvalue problem for the modes:\n",
    "\n",
    "$$\n",
    "  \\begin{pmatrix}\n",
    "    \\op{H} + g n_0 & g\\psi_0^2\\\\\n",
    "    g \\bar{\\psi}_0^2 & \\bar{\\op{H}} + g n_0\n",
    "  \\end{pmatrix}\\cdot\n",
    "  \\begin{pmatrix}\n",
    "    u(x)\\\\\n",
    "    v(x)\n",
    "  \\end{pmatrix}\n",
    "  =\n",
    "  \\omega\n",
    "  \\begin{pmatrix}\n",
    "    \\mat{1} \\\\\n",
    "     & -\\mat{1}\n",
    "  \\end{pmatrix}\\cdot\n",
    "  \\begin{pmatrix}\n",
    "    u(x)\\\\\n",
    "    v(x)\n",
    "  \\end{pmatrix},\n",
    "$$\n",
    "\n",
    "where $n_0 = \\abs{\\psi_0}^2$ and $\\op{H} = -\\hbar^2\\nabla^2/2m + gn_0 + \\op{V}_{\\text{ext}}$ is the single-particle Hamiltonian for the ground state. To solve this numerically, we write this as $\\mat{A}\\cdot\\vect{q} = \\omega \\mat{B}\\cdot\\vect{q}$.\n",
    "\n",
    "These matrices have the following properties: $\\mat{A} = \\mat{A}^\\dagger$ and $\\mat{B} = \\mat{B}^\\dagger$ are Hermitian, and the matrix $\\mat{C} = \\mat{C}^{-1} =  \\bigl(\\begin{smallmatrix}&\\mat{1}\\\\\\mat{1}\\end{smallmatrix}\\bigr)$ conjugates $\\mat{A}$:\n",
    "\n",
    "$$\n",
    "  \\mat{C}\\cdot\\mat{A}\\cdot\\mat{C} = \\bar{\\mat{A}}\\\\\n",
    "  \\mat{C}\\cdot\\mat{B}\\cdot\\mat{C} = -\\bar{\\mat{B}}.\n",
    "$$.  Thus, if we have one eigenvalue $\\omega_{+}$ and eigenvector $\\vect{q}_{+}$, then, we must have another pair $\\omega_{-} = \\bar{\\omega}_{+}$ and $\\vect{q}_{-} = \\mat{C}\\cdot\\bar{\\vect{q}}_{+}$:\n",
    "\n",
    "$$\n",
    "  \\mat{A}\\vect{q}_{+} = \\omega_+ \\mat{B}\\vect{q}_{+}\\\\\n",
    "  \\bar{\\mat{A}}\\mat{C}\\vect{q}_{+} = \\omega_+ \\bar{\\mat{B}}\\mat{C}\\vect{q}_{+}.\n",
    "$$\n",
    "\n",
    "Furthermore, if $\\psi_0$ is a stationary state, then $\\op{H}\\psi_0 = \\mu\\psi_0$.\n",
    "\n",
    "\n",
    "\n",
    "One has two choices: solve the non-symmetric eigenvalue problem $(\\mat{B}^{-1}\\cdot\\mat{A})\\cdot\\vect{q} = \\omega\\vect{q}$, or try to massage this into a form where $\\mat{B}$ is positive definite."
   ]
  },
  {
   "cell_type": "markdown",
   "metadata": {},
   "source": [
    "$$\n",
    "  (\\mat{A} + 2\\mat{1})\\cdot\\vect{q} = (\\omega\\mat{B} + 2\\mat{I})\\cdot\\vect{q}\n",
    "$$"
   ]
  },
  {
   "cell_type": "markdown",
   "metadata": {},
   "source": [
    "## Fixed Particle Number"
   ]
  },
  {
   "cell_type": "markdown",
   "metadata": {},
   "source": [
    "Let $\\psi = \\psi_0 + \\d{\\psi}$.  The change in density is:\n",
    "\n",
    "$$\n",
    "  \\dot{n} = \\dot{\\psi}^\\dagger \\psi_0 + \\psi_0^\\dagger \\dot{\\psi} \n",
    "          + \\dot{\\psi}^\\dagger \\dot{\\psi}\n",
    "$$\n",
    "$$\n",
    "  n - n_0 = e^{-\\I\\omega t}(u \\psi_0^* + v\\psi_0)\n",
    "  + e^{\\I\\omega t}(u^* \\psi_0 + v^*\\psi_0^*)\n",
    "  + e^{-2\\I\\omega t} u^*v^*\n",
    "  + e^{2\\I\\omega t} uv\n",
    "  + (u^*u + v^*v)\n",
    "$$\n",
    "\n",
    "particle number is:\n",
    "\n",
    "$$\n",
    "  \\d{N} = \\int\\left(\n",
    "    \\d{\\psi}^\\dagger \\psi_0 + \\psi_0^\\dagger \\d{\\psi} + \\d{\\psi}^\\dagger \\d{\\psi}\n",
    "  \\right)\\d{x}\\\\\n",
    "  = e^{-\\I\\omega t}\\int(u \\psi_0^* + v\\psi_0)\\d{x}\n",
    "  + e^{\\I\\omega t}\\int(u^* \\psi_0 + v^*\\psi_0^*)\\d{x}\n",
    "  + e^{-2\\I\\omega t} \\int u^*v^*\\d{x}\n",
    "  + e^{2\\I\\omega t}\\int uv\\d{x}\n",
    "  + \\int(u^*u + v^*v)\\d{x}\n",
    "$$\n",
    "\n",
    "To linear order, conservation of particle number thus implies that\n",
    "\n",
    "$$\n",
    "  \\int(u \\psi_0^\\dagger + v\\psi_0)\\d{x} = 0.\n",
    "$$"
   ]
  },
  {
   "cell_type": "code",
   "execution_count": 6,
   "metadata": {
    "collapsed": false
   },
   "outputs": [],
   "source": [
    "import scipy.linalg\n",
    "sp = scipy\n",
    "H = s.get_H()\n",
    "n_0 = s.get_density().ravel()\n",
    "psi_0 = 1*s[...].ravel()\n",
    "A = np.bmat(\n",
    "    [[H + np.diag(s.g*n_0), np.diag(s.g*psi_0**2)],\n",
    "     [np.diag(s.g*psi_0.conj()**2), H.conj() + np.diag(s.g*n_0)]])\n",
    "A = np.asarray(A)\n",
    "i = np.eye(len(H))\n",
    "z = np.zeros_like(H)\n",
    "B = np.asarray(np.bmat([[i, z], [z, -i]]))\n",
    "C = np.asarray(np.bmat([[z, i], [i, z]]))\n",
    "I = np.eye(2*len(H))\n",
    "\n",
    "assert np.allclose(C.dot(C), I)\n",
    "assert np.allclose(C.dot(A).dot(C), A.conj())\n",
    "ws, uvs = sp.linalg.eig(np.linalg.inv(B).dot(A))\n",
    "inds = np.argsort(abs(ws.real))\n",
    "ws = ws[inds]\n",
    "uvs = uvs[:, inds]\n",
    "us, vs = uvs.reshape((2, len(H), 2*len(H)))"
   ]
  },
  {
   "cell_type": "code",
   "execution_count": 8,
   "metadata": {
    "collapsed": false
   },
   "outputs": [
    {
     "data": {
      "text/plain": [
       "(array([ -7.88566951e-14 -1.20191527e-06j,\n",
       "          7.90536494e-14 +1.20191527e-06j,\n",
       "          5.61200751e-03 -1.17231367e-16j,\n",
       "         -5.61200751e-03 +1.32060376e-16j,\n",
       "         -9.84279539e-03 -2.60869305e-17j,\n",
       "          9.84279539e-03 +3.97143261e-17j,\n",
       "         -1.41493681e-02 -3.15801127e-18j,\n",
       "          1.41493681e-02 +7.79079834e-17j,\n",
       "         -1.85776625e-02 +1.73762109e-17j,   1.85776625e-02 +4.57511543e-17j]),\n",
       " 0.0056116228538338614)"
      ]
     },
     "execution_count": 8,
     "metadata": {},
     "output_type": "execute_result"
    }
   ],
   "source": [
    "ws[:10], s.ws[0]"
   ]
  },
  {
   "cell_type": "code",
   "execution_count": 38,
   "metadata": {
    "collapsed": false
   },
   "outputs": [
    {
     "data": {
      "image/png": "[encoded data removed]",
      "text/plain": [
       "<matplotlib.figure.Figure at 0x7f5c09dcf710>"
      ]
     },
     "metadata": {},
     "output_type": "display_data"
    }
   ],
   "source": [
    "s.cooling_phase = 1.0\n",
    "s.pre_evolve_hook()\n",
    "s.cooling_phase = 1.0\n",
    "s.t = 0.0\n",
    "\n",
    "mode = 4\n",
    "d = 0.001\n",
    "u_, v_ = us[:, mode], vs[:, mode]\n",
    "s[...] = psi_0 + d*(u_ + v_.conj())\n",
    "w = ws[mode].real\n",
    "T = 2*np.pi / w \n",
    "dt = T/100/100\n",
    "e = EvolverSplit(s, dt=dt, normalize=False)\n",
    "log = False\n",
    "x = s.xyz[0]\n",
    "with NoInterrupt(ignore=True) as interrupted:\n",
    "    while not interrupted:\n",
    "        e.evolve(100)\n",
    "        plt.clf()\n",
    "        #e.y.plot(log=log)\n",
    "        t = e.y.t\n",
    "        psi = psi_0 + d*(u_*np.exp(1j*w*t) + v_.conj()*np.exp(-1j*w*t))\n",
    "        plt.plot(x, abs(e.y[...])**2 - abs(psi_0)**2)\n",
    "        plt.plot(x, abs(psi)**2 - abs(psi_0)**2)\n",
    "\n",
    "        #plt.ylim(0, 2)\n",
    "        plt.xlim(-6, 6)\n",
    "        plt.title(\"N = {}\".format(e.y.get_N()))\n",
    "        display(plt.gcf())\n",
    "        clear_output(wait=True)\n"
   ]
  },
  {
   "cell_type": "code",
   "execution_count": 39,
   "metadata": {
    "collapsed": false
   },
   "outputs": [
    {
     "data": {
      "text/plain": [
       "True"
      ]
     },
     "execution_count": 39,
     "metadata": {},
     "output_type": "execute_result"
    }
   ],
   "source": [
    "np.allclose(np.linalg.inv(B).dot(A).dot(uvs), ws[None,:]*uvs)"
   ]
  }
 ],
 "metadata": {
  "anaconda-cloud": {},
  "kernelspec": {
   "display_name": "Python 2 (Ubuntu, plain)",
   "language": "python",
   "name": "python2-ubuntu"
  },
  "language_info": {
   "codemirror_mode": {
    "name": "ipython",
    "version": 2
   },
   "file_extension": ".py",
   "mimetype": "text/x-python",
   "name": "python",
   "nbconvert_exporter": "python",
   "pygments_lexer": "ipython2",
   "version": "2.7.10"
  },
  "toc": {
   "nav_menu": {
    "height": "12px",
    "width": "252px"
   },
   "navigate_menu": true,
   "number_sections": true,
   "sideBar": true,
   "threshold": 4,
   "toc_cell": false,
   "toc_section_display": "block",
   "toc_window_display": false
  }
 },
 "nbformat": 4,
 "nbformat_minor": 1
}
