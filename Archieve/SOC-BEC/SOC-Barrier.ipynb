{
 "cells": [
  {
   "cell_type": "code",
   "execution_count": 1,
   "metadata": {
    "collapsed": false
   },
   "outputs": [
   ],
   "source": [
    "import math\n",
    "import numpy as np\n",
    "from mmfutils.performance.fft import fftn, ifftn\n",
    "from pytimeode import interfaces, mixins, evolvers\n",
    "import State\n",
    "from State import State, u"
   ]
  },
  {
   "cell_type": "code",
   "execution_count": 0,
   "metadata": {
    "collapsed": false,
    "scrolled": true
   },
   "outputs": [
   ],
   "source": [
    "%pylab inline --no-import-all\n",
    "from IPython.display import display, clear_output\n",
    "s = State(Nxyz=(128,), Lxyz=(40*u.micron,),ws = np.array([26.0, ])*u.Hz, N=1e5)\n",
    "s.plot()\n",
    "s.ws"
   ]
  },
  {
   "cell_type": "code",
   "execution_count": 0,
   "metadata": {
    "collapsed": false
   },
   "outputs": [
   ],
   "source": [
    "np.array([np.sqrt(8)*126.0, 126.0, 126.0])*u.Hz\n",
    "u.Hz"
   ]
  },
  {
   "cell_type": "code",
   "execution_count": 0,
   "metadata": {
    "collapsed": false
   },
   "outputs": [
   ],
   "source": [
    "def get_err(N=128, L=24*u.micron):\n",
    "   \n",
    "    s = State(Nxyz=(N,), Lxyz=(L,), N=1e5)\n",
    "    s.g = 0\n",
    "    a = np.sqrt(u.hbar/u.m/s.ws[0])\n",
    "    x = s.xyz[0]\n",
    "    psi_0 = np.exp(-(x/a)**2/2.0)\n",
    "    s[...] = psi_0\n",
    "    s.normalize()\n",
    "    dy = s.empty()\n",
    "    s.compute_dy_dt(dy=dy, subtract_mu=True)\n",
    "    return abs(dy[...]).max()\n",
    "Ns = np.arange(2,128,2)\n",
    "#Ns = 2**np.arange(2,8)\n",
    "errs = map(get_err, Ns)\n",
    "plt.semilogy(Ns, errs, '+-')"
   ]
  },
  {
   "cell_type": "code",
   "execution_count": 0,
   "metadata": {
    "collapsed": false
   },
   "outputs": [
   ],
   "source": [
    "u.micron"
   ]
  },
  {
   "cell_type": "code",
   "execution_count": 0,
   "metadata": {
    "collapsed": false
   },
   "outputs": [
   ],
   "source": [
    "s = State(Nxyz=(46,), Lxyz=(23*u.micron,))\n",
    "a = np.sqrt(u.hbar/u.m/s.ws[0])\n",
    "L, N = s.Lxyz[0], s.Nxyz[0]\n",
    "k_max = np.pi*(N-2)/L   # For Khalid...\n",
    "print (k_max, s.kxyz[0].max())\n",
    "print(np.exp(-(L/2/a)**2/2))   # Wavefunction drops by factor of macheps"
   ]
  },
  {
   "cell_type": "code",
   "execution_count": 0,
   "metadata": {
    "collapsed": false
   },
   "outputs": [
   ],
   "source": [
    "psi_0 = s.xyz[0]*np.exp(-(s.xyz[0]/a)**2/2)\n",
    "plt.semilogy(np.fft.fftshift(s.kxyz[0]), \n",
    "         np.fft.fftshift(abs(np.fft.fft(psi_0))), '-+')"
   ]
  },
  {
   "cell_type": "markdown",
   "metadata": {
    "collapsed": false
   },
   "source": [
    "I got error for this part, the error message is shown in the output, That comfuses me for a while."
   ]
  },
  {
   "cell_type": "markdown",
   "metadata": {
    "collapsed": false
   },
   "source": [
    "## Exact Solution with Interactions\n",
    "I am trying to figure out which part is the interactions term.\n",
    "The formula in the code looks strange to me, I know there is an interacton term $gn_0$, and it's added to the homarmnic poterntial term. But it also includes a $2k$ term.\n",
    "$V_{ext} = \\frac{\\hbar^2}{2m} [4(kx)^2 - 2k) - gn_0]$ \n",
    "#### OK, I remember what we did in the meeting"
   ]
  },
  {
   "cell_type": "code",
   "execution_count": 0,
   "metadata": {
    "collapsed": false
   },
   "outputs": [
   ],
   "source": [
    "%pylab inline --no-import-all\n",
    "from IPython.display import display, clear_output\n",
    "import States\n",
    "from States import State, u\n",
    "s = State(Nxyz=(64,), Lxyz=(23*u.micron,), N=1e5)\n",
    "a = np.sqrt(u.hbar/u.m/s.ws[0])\n",
    "x = s.xyz[0]\n",
    "psi_0 = np.exp(-(x/a)**2/2)\n",
    "#print(x)\n",
    "#print(psi_0)\n",
    "class State1(State):\n",
    "    def __init__(self, *v, **kw):\n",
    "        State.__init__(self, *v, **kw)\n",
    "        \n",
    "        a = np.sqrt(u.hbar/u.m/self.ws[0])\n",
    "        x = self.xyz[0]\n",
    "        \n",
    "        k = 1./2./a**2\n",
    "        \n",
    "        psi_0 = 4.0*np.exp(-(x/a)**2/2)\n",
    "        n_0 = abs(psi_0)**2\n",
    "        \n",
    "        self._V_ext = (u.hbar**2/2.0/u.m*(4*(k*x)**2 - 2*k) - self.g*n_0)\n",
    "        self.data[...] = psi_0\n",
    "        self.get_Vext = lambda: self._V_ext\n",
    "        self.pre_evolve_hook()\n",
    "    \n",
    "        \n"
   ]
  },
  {
   "cell_type": "code",
   "execution_count": 0,
   "metadata": {
    "collapsed": false
   },
   "outputs": [
   ],
   "source": [
    "s = State1(Nxyz=(64,), Lxyz=(23*u.micron,))\n",
    "s.plot()\n",
    "plt.plot(x, s.get_Vext())\n",
    "dy = s.empty()\n",
    "s.compute_dy_dt(dy=dy, subtract_mu=False)\n",
    "abs(dy[...]).max()"
   ]
  },
  {
   "cell_type": "code",
   "execution_count": 0,
   "metadata": {
    "collapsed": false
   },
   "outputs": [
   ],
   "source": [
    "#print(s.kxyz)\n",
    "K1=sum((u.hbar*_k)**2/2.0/u.m for _k in s.kxyz)\n",
    "#print(K1)\n",
    "K=(u.hbar*s.kxyz[0])**2/u.m\n",
    "#print(K)"
   ]
  },
  {
   "cell_type": "code",
   "execution_count": 0,
   "metadata": {
    "collapsed": false
   },
   "outputs": [
   ],
   "source": [
    "from mmfutils.contexts import NoInterrupt\n",
    "from pytimeode.evolvers import EvolverSplit, EvolverABM\n",
    "from IPython.display import display, clear_output\n",
    "\n",
    "s = State1(Nxyz=(64*4,), Lxyz=(23*u.micron,))\n",
    "assert np.allclose(s._N, s.get_N())\n",
    "\n",
    "s[...] = 1.0\n",
    "s.normalize()\n",
    "s.cooling_phase = 1j\n",
    "\n",
    "E_max = u.hbar**2*np.abs(s.kxyz).max()**2/2.0/u.m\n",
    "\n",
    "#e = EvolverSplit(s, dt=0.01*u.hbar/E_max, normalize=True)\n",
    "e = EvolverABM(s, dt=0.1*u.hbar/E_max, normalize=True)\n",
    "e.y.plot()\n"
   ]
  },
  {
   "cell_type": "code",
   "execution_count": 0,
   "metadata": {
    "collapsed": false
   },
   "outputs": [
   ],
   "source": [
    "e.y.t=0\n",
    "with NoInterrupt(ignore=True) as interrupted:\n",
    "    while e.y.t < 1*u.ms and not interrupted:\n",
    "        e.evolve(100)\n",
    "        plt.clf()\n",
    "        e.y.plot()\n",
    "        display(plt.gcf())\n",
    "        clear_output(wait=True)"
   ]
  },
  {
   "cell_type": "code",
   "execution_count": 0,
   "metadata": {
    "collapsed": false,
    "scrolled": true
   },
   "outputs": [
   ],
   "source": [
    "b=s.get_Barrier(20)\n",
    "s.barrierFlag=False\n",
    "plt.plot(s.xyz[0],s.get_V())"
   ]
  },
  {
   "cell_type": "code",
   "execution_count": 0,
   "metadata": {
    "collapsed": false,
    "scrolled": true
   },
   "outputs": [
   ],
   "source": [
    "e.y.cooling_phase = 1\n",
    "e.y.barrierFlag = True\n",
    "e.y.t = 0;\n",
    "e.y.barrierOffset = 3.5\n",
    "e.y.barrierIensity = 10.0\n",
    "e.y.barrierWidth = np.array([0.3,])\n",
    "e.y.barrierVelocity = np.array([.1275,])\n",
    "with NoInterrupt(ignore=True) as interrupted:\n",
    "    while e.y.t < 2*u.ms and not interrupted:\n",
    "        e.evolve(100)\n",
    "        plt.clf()\n",
    "        e.y.plot()\n",
    "        plt.plot(e.y.xyz[0],e.y.get_V())\n",
    "        display(plt.gcf())\n",
    "        clear_output(wait=True)"
   ]
  },
  {
   "cell_type": "code",
   "execution_count": 0,
   "metadata": {
    "collapsed": false
   },
   "outputs": [
   ],
   "source": [
   ]
  }
 ],
 "metadata": {
  "kernelspec": {
   "display_name": "Python 2 (Ubuntu Linux)",
   "language": "python",
   "name": "python2-ubuntu"
  },
  "language_info": {
   "codemirror_mode": {
    "name": "ipython",
    "version": 2
   },
   "file_extension": ".py",
   "mimetype": "text/x-python",
   "name": "python",
   "nbconvert_exporter": "python",
   "pygments_lexer": "ipython2",
   "version": "2.7.15rc1"
  }
 },
 "nbformat": 4,
 "nbformat_minor": 0
}