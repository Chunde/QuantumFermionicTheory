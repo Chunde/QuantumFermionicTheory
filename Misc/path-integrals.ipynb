{
 "cells": [
  {
   "cell_type": "markdown",
   "metadata": {
    "toc": true
   },
   "source": [
    "<h1>Table of Contents<span class=\"tocSkip\"></span></h1>\n",
    "<div class=\"toc\"><ul class=\"toc-item\"><li><span><a href=\"#Path-Integrals\" data-toc-modified-id=\"Path-Integrals-1\"><span class=\"toc-item-num\">1&nbsp;&nbsp;</span>Path Integrals</a></span><ul class=\"toc-item\"><li><span><a href=\"#Free-Particle\" data-toc-modified-id=\"Free-Particle-1.1\"><span class=\"toc-item-num\">1.1&nbsp;&nbsp;</span>Free Particle</a></span></li></ul></li><li><span><a href=\"#Discretization\" data-toc-modified-id=\"Discretization-2\"><span class=\"toc-item-num\">2&nbsp;&nbsp;</span>Discretization</a></span><ul class=\"toc-item\"><li><span><a href=\"#Discrete-Unitarity\" data-toc-modified-id=\"Discrete-Unitarity-2.1\"><span class=\"toc-item-num\">2.1&nbsp;&nbsp;</span>Discrete Unitarity</a></span></li><li><span><a href=\"#Free-Particle-on-a-Periodic-Lattice\" data-toc-modified-id=\"Free-Particle-on-a-Periodic-Lattice-2.2\"><span class=\"toc-item-num\">2.2&nbsp;&nbsp;</span>Free Particle on a Periodic Lattice</a></span></li></ul></li><li><span><a href=\"#Harmonic-Oscillator\" data-toc-modified-id=\"Harmonic-Oscillator-3\"><span class=\"toc-item-num\">3&nbsp;&nbsp;</span>Harmonic Oscillator</a></span></li><li><span><a href=\"#Harmonic-Oscillator\" data-toc-modified-id=\"Harmonic-Oscillator-4\"><span class=\"toc-item-num\">4&nbsp;&nbsp;</span>Harmonic Oscillator</a></span></li></ul></div>"
   ]
  },
  {
   "cell_type": "markdown",
   "metadata": {},
   "source": [
    "# Path Integrals\n",
    "\n",
    "Based on a discussion with Fred Gittes, we compute the propagator for small systems using a path integral.\n",
    "\n",
    "<!-- END_TEASER -->"
   ]
  },
  {
   "cell_type": "code",
   "execution_count": 2,
   "metadata": {},
   "outputs": [
    {
     "data": {
      "text/html": [
       "<style>.grade {\n",
       "   background-color: #66FFCC;\n",
       "}\n",
       "</style>"
      ],
      "text/plain": [
       "<IPython.core.display.HTML object>"
      ]
     },
     "metadata": {},
     "output_type": "display_data"
    },
    {
     "data": {
      "application/javascript": [],
      "text/plain": [
       "<IPython.core.display.Javascript object>"
      ]
     },
     "metadata": {},
     "output_type": "display_data"
    },
    {
     "data": {
      "text/html": [
       "<script id=\"MathJax-Element-48\" type=\"math/tex\">\\newcommand{\\vect}[1]{\\mathbf{#1}}\n",
       "\\newcommand{\\uvect}[1]{\\hat{#1}}\n",
       "\\newcommand{\\abs}[1]{\\lvert#1\\rvert}\n",
       "\\newcommand{\\norm}[1]{\\lVert#1\\rVert}\n",
       "\\newcommand{\\I}{\\mathrm{i}}\n",
       "\\newcommand{\\ket}[1]{\\left|#1\\right\\rangle}\n",
       "\\newcommand{\\bra}[1]{\\left\\langle#1\\right|}\n",
       "\\newcommand{\\braket}[1]{\\langle#1\\rangle}\n",
       "\\newcommand{\\Braket}[1]{\\left\\langle#1\\right\\rangle}\n",
       "\\newcommand{\\op}[1]{\\mathbf{#1}}\n",
       "\\newcommand{\\mat}[1]{\\mathbf{#1}}\n",
       "\\newcommand{\\d}{\\mathrm{d}}\n",
       "\\newcommand{\\pdiff}[3][]{\\frac{\\partial^{#1} #2}{\\partial {#3}^{#1}}}\n",
       "\\newcommand{\\diff}[3][]{\\frac{\\d^{#1} #2}{\\d {#3}^{#1}}}\n",
       "\\newcommand{\\ddiff}[3][]{\\frac{\\delta^{#1} #2}{\\delta {#3}^{#1}}}\n",
       "\\newcommand{\\floor}[1]{\\left\\lfloor#1\\right\\rfloor}\n",
       "\\newcommand{\\ceil}[1]{\\left\\lceil#1\\right\\rceil}\n",
       "\\DeclareMathOperator{\\Tr}{Tr}\n",
       "\\DeclareMathOperator{\\erf}{erf}\n",
       "\\DeclareMathOperator{\\erfi}{erfi}\n",
       "\\DeclareMathOperator{\\sech}{sech}\n",
       "\\DeclareMathOperator{\\sgn}{sgn}\n",
       "\\DeclareMathOperator{\\order}{O}\n",
       "\\DeclareMathOperator{\\diag}{diag}\n",
       "\n",
       "\\newcommand{\\mylabel}[1]{\\label{#1}\\tag{#1}}\n",
       "\\newcommand{\\degree}{\\circ}</script>"
      ],
      "text/plain": [
       "<IPython.core.display.HTML object>"
      ]
     },
     "metadata": {},
     "output_type": "display_data"
    },
    {
     "data": {
      "text/html": [],
      "text/plain": [
       "<IPython.core.display.HTML object>"
      ]
     },
     "metadata": {},
     "output_type": "display_data"
    }
   ],
   "source": [
    "import mmf_setup;mmf_setup.nbinit(quiet=True)"
   ]
  },
  {
   "cell_type": "markdown",
   "metadata": {},
   "source": [
    "One of Feynman great insights was that the propagator for quantum systems can be constructed through a path integral.  He expressed this by saying that the probability for a particle starting at point and time $(x_i, t_i)$ to be later at a point and time $(x_f, t_f)$ could be obtained by averaging the phases $e^{\\I S[x]}$ over all possible trajectories $x(t)$ that the particle might take from $x(t_i) = x_i$ to $x(t_f) = x_f$ where $S[x]$ is the classical action:\n",
    "\n",
    "$$\n",
    "  S[x] = \\int_{t_i}^{t_f} L(x, \\dot{x}, t) \\d{t}, \\qquad\n",
    "  L(x, \\dot{x}(t), t) = \\frac{m \\dot{x}^2}{2} - V(x, t),\\qquad\n",
    "  x(t_i) = x_i, \\qquad x(t_f) = x_f.\n",
    "$$\n",
    "\n",
    "Formally, this can be expressed in terms of a new type of integral:\n",
    "\n",
    "$$\n",
    "  \\newcommand{\\D}[1]{\\mathcal{D}[#1]\\;}\n",
    "  U(x_f, t_f;x_i, t_i) \n",
    "  = \\braket{x_f|\\op{U}(t_f,t_i|x_i}\n",
    "  = \\int \\D{x}e^{\\I S[x]/\\hbar},\n",
    "$$\n",
    "\n",
    "where $\\op{U}(t_f, t_i)$ is the quantum mechanical propagator:\n",
    "\n",
    "$$\n",
    "  \\ket{\\psi(t_f)} = \\op{U}(t_f, t_i)\\ket{\\psi(t_i)}, \\qquad\n",
    "  \\op{U}(t_f, t_i) = \\mathcal{T}\\exp\\left(\n",
    "    \\int_{t_i}^{t_f}\\frac{\\op{H}(t)}{\\I\\hbar}\\d{t}\n",
    "  \\right), \\qquad\n",
    "  \\op{H} = \\frac{\\op{P}^2}{2m} + V(\\op{X}, t).\n",
    "$$\n",
    "\n",
    "In the expression for $\\op{U}(t_f, t_i)$, the integral must be time-ordered as signified by the operator $\\mathcal{T}$ which means that in every term, operators must appear in descending time order.  Formally this can be understood by Taylor expanding the exponential and then manually rearranging all terms so that they are in the correct order.\n",
    "\n",
    "For example, expanding only to quadratic order, we would have:\n",
    "\n",
    "$$\n",
    "  \\op{U}(t_f, t_i) = \\mat{1} \n",
    "  +\n",
    "  \\int_{t_i}^{t_f}\\frac{\\op{H}(t)}{\\I\\hbar}\\d{t}\n",
    "  +\n",
    "  \\frac{1}{2!}\n",
    "  \\mathcal{T}\\left(\n",
    "    \\int_{t_i}^{t_f}\\frac{\\op{H}(t)}{\\I\\hbar}\\d{t}\n",
    "  \\right)^2\n",
    "  +\n",
    "  \\cdots =\\\\\n",
    "  \\mathcal{T}\\left(\n",
    "    \\int_{t_i}^{t_f}\\frac{\\op{H}(t)}{\\I\\hbar}\\d{t}\n",
    "  \\right)^2\n",
    "  =\n",
    "  \\frac{1}{(\\I\\hbar)^{2}}\n",
    "  \\int_{t_i}^{t_f}\\d{t_1}\n",
    "  \\int_{t_i}^{t_f}\\d{t_2}\\;\n",
    "  \\mathcal{T}\n",
    "  \\op{H}(t_1)\n",
    "  \\op{H}(t_2)\n",
    "  =\\\\\n",
    "  =\n",
    "  \\frac{1}{(\\I\\hbar)^{2}}\n",
    "  \\int_{t_i}^{t_f}\\d{t_1}\n",
    "  \\int_{t_i}^{t_f}\\d{t_2}\\;\n",
    "  \\begin{cases}\n",
    "      \\op{H}(t_1)\\op{H}(t_2) & t_2\\leq t_1\\\\\n",
    "      \\op{H}(t_2)\\op{H}(t_1) & t_1<t_2\n",
    "  \\end{cases}=\\\\\n",
    "  =\n",
    "  \\frac{1}{(\\I\\hbar)^{2}}\n",
    "  \\int_{t_i}^{t_f}\\d{t_1}\n",
    "  \\left[\n",
    "      \\int_{t_i}^{t_1}\\d{t_2}\\;\n",
    "      \\op{H}(t_1)\\op{H}(t_2)\n",
    "      +\n",
    "      \\int_{t_1}^{t_f}\\d{t_2}\\;\n",
    "      \\op{H}(t_2)\\op{H}(t_1)\n",
    "  \\right].\n",
    "$$\n",
    "\n",
    "*Of course, if the Hamiltonian commutes at different times $[\\op{H}(t_1), \\op{H}(t_2)] = 0$ – for example, if $V(\\op{X}, t) = (\\op{X})$ is time independent – then there is no need to worry about the time-ordering and one can simply ignore this complication.*"
   ]
  },
  {
   "cell_type": "markdown",
   "metadata": {},
   "source": [
    "\n",
    "\n",
    "Consider the path integral representation of the propagator corresponding to a time-independent Hamiltonian:\n",
    "\n",
    "$$\n",
    "  \\newcommand{\\D}[1]{\\mathcal{D}[#1]\\;}\n",
    "  U(x_N, T;x_0, 0) = \\int \\D{x}e^{\\I S/\\hbar}, \\qquad\n",
    "  S = \\int_{0}^{T}\\d{t} L[x(t), \\dot{x}(t)], \\qquad\n",
    "  L[x, \\dot{x}] = \\frac{m}{2}\\dot{x}^2 - V(x), \\qquad\n",
    "  H[x, p] = \\frac{p^2}{2m} + V(x).\n",
    "$$\n",
    "\n",
    "Discretizing in time we have\n",
    "\n",
    "$$\n",
    "  S_N = \\sum_{i=0}^{N-1} \\d{t}\\;\\left[\n",
    "    \\frac{m}{2}\\left(\\frac{x_{i+1}-x_{i}}{\\d{t}}\\right)^2\n",
    "    - \\frac{V(x_{i}) + V(x_{i+1})}{2}\n",
    "  \\right], \\qquad\n",
    "  \\d{t} = \\frac{T}{N}.\\\\\n",
    "  U(x_N, T;x_0, 0) = \\lim_{N\\rightarrow \\infty} A^N \\int\\d{x_1}\\int\\d{x_2}\\cdots\\int\\d{x_{N-1}}\n",
    "  \\exp\\left\\{\n",
    "    \\frac{\\I}{\\hbar}\\sum_{i=0}^{N-1}\\d{t}\n",
    "    \\left[\n",
    "      \\frac{m}{2}\\frac{(x_{i+1}-x_{i})^2}{\\d{t}^2}\n",
    "      - \n",
    "      \\frac{V(x_{i}) + V(x_{i+1})}{2}\n",
    "    \\right]\n",
    "  \\right\\}\n",
    "    = \\\\\n",
    "    = \\lim_{N\\rightarrow \\infty} A^N \\int\\d{x_1}\\int\\d{x_2}\\cdots\\int\\d{x_{N-1}}\n",
    "    \\prod_{i=0}^{N-1}\n",
    "  \\exp\\left\\{\n",
    "    \\frac{\\I}{\\hbar}\n",
    "    \\left[\n",
    "      \\frac{m}{2}\\frac{(x_{i+1}-x_{i})^2}{\\d{t}}\n",
    "      - \n",
    "      \\frac{V(x_{i}) + V(x_{i+1})}{2}\\d{t}\n",
    "    \\right]\n",
    "  \\right\\} \n",
    "    = \\\\\n",
    "    = \\lim_{N\\rightarrow \\infty} A^N\n",
    "    \\int\\d{x_1}\\int\\d{x_2}\\cdots\\int\\d{x_{N-1}}\n",
    "    M_{x_Nx_{N-1}}M_{x_{N-1}x_{N-1}}\\cdots M_{x_2x_1}M_{x_1x_0}\n",
    "    = \\lim_{N\\rightarrow \\infty} (A \\mat{M})^{N}, \\\\\n",
    "    M_{xy} = \\exp\\left\\{\n",
    "      \\frac{\\I}{\\hbar}\n",
    "      \\left[\n",
    "        \\frac{m}{2}\\frac{(x-y)^2}{\\d{t}}\n",
    "        - \n",
    "        \\frac{V(x) + V(y)}{2}\\d{t}\n",
    "      \\right]\n",
    "    \\right\\}.  \n",
    "$$"
   ]
  },
  {
   "cell_type": "markdown",
   "metadata": {},
   "source": [
    "The matrices $A\\mat{M}$ are unitary $\\abs{A}^2\\mat{M}^\\dagger\\cdot\\mat{M} = \\mat{1}$ if properly normalized:\n",
    "\n",
    "$$\n",
    "  [\\mat{M}^\\dagger\\cdot\\mat{M}]_{xy} = \\int\\d{z}\\; M^*_{zx}M_{zy}\n",
    "  = \\int \\d{z}\n",
    "    \\exp\\left\\{\n",
    "      \\frac{\\I}{\\hbar}\n",
    "      \\left[\n",
    "        \\frac{m}{2}\\frac{(z-y)^2 - (z-x)^2}{\\d{t}}\n",
    "        + \n",
    "        \\frac{V(x) - V(y)}{2}\\d{t}\n",
    "      \\right]\n",
    "    \\right\\}=\\\\\n",
    "  = \\exp\\left\\{\n",
    "      \\frac{\\I}{\\hbar}\n",
    "      \\left[\n",
    "        \\frac{m}{2}\\frac{y^2 - x^2}{\\d{t}}\n",
    "        + \n",
    "        \\frac{V(x) - V(y)}{2}\\d{t}\n",
    "      \\right]\n",
    "    \\right\\}\n",
    "  \\int \\d{z}\n",
    "    \\exp\\left\\{\n",
    "      \\frac{\\I}{\\hbar}\n",
    "      \\left[\n",
    "        \\frac{m}{2}\\frac{2z(x-y)}{\\d{t}}\n",
    "      \\right]\n",
    "    \\right\\}=\\\\\n",
    "  =\n",
    "  \\frac{2\\pi\\hbar\\d{t}}{m}\n",
    "  \\delta(x-y).\n",
    "$$\n",
    "\n",
    "Hence (the factor of $\\I$ included in $A$ will help later):\n",
    "\n",
    "$$\n",
    "  A = \\sqrt{\\frac{m}{2\\pi \\I\\hbar\\d{t}}}, \\qquad\n",
    "  AM_{xy} = \\sqrt{\\frac{m}{2\\pi \\I\\hbar\\d{t}}}\\exp\\left\\{\n",
    "      \\frac{\\I}{\\hbar}\n",
    "      \\left[\n",
    "        \\frac{m}{2}\\frac{(x-y)^2}{\\d{t}}\n",
    "        - \n",
    "        \\frac{V(x) + V(y)}{2}\\d{t}\n",
    "      \\right]\n",
    "    \\right\\}.  \n",
    "$$"
   ]
  },
  {
   "cell_type": "markdown",
   "metadata": {},
   "source": [
    "## Free Particle\n",
    "\n",
    "If we neglect the potential $V=0$, then we can explicitly perform the matrix multiplication, completing the square in $z$ and absorbing the integrating factor into $A$:\n",
    "\n",
    "$$\n",
    "  [(A\\mat{M})^2]_{xy} = \\frac{m}{2\\pi \\I\\hbar\\d{t}}\\int \\d{z}\\; \n",
    "  \\exp\\left\\{\\frac{\\I}{\\hbar}\\frac{m}{2}\\frac{(x-z)^2 + (z-y)^2}{\\d{t}}\\right\\}\n",
    "   =\\\\\n",
    "   =\\exp\\left\\{\\frac{\\I}{2\\hbar}\\frac{m}{2}\\frac{(x-y)^2}{\\d{t}}\\right\\}\n",
    "  \\frac{m}{2\\pi \\I\\hbar\\d{t}}\\int \\d{z}\\;\n",
    "  \\exp\\left\\{\\frac{m\\I}{\\hbar}\\frac{z^2}{\\d{t}}\\right\\}\n",
    "   =\n",
    "  \\sqrt{\\frac{m}{2\\pi \\I\\hbar 2\\d{t}}}\n",
    "  \\exp\\left\\{\\frac{\\I}{2\\hbar}\\frac{m}{2}\\frac{(x-y)^2}{\\d{t}}\\right\\}\n",
    "$$\n",
    "\n",
    "Note: the integral over $z$ is a little dubious since the factor of $\\I$ makes it non-convergent.\n",
    "\n",
    "Likewise:\n",
    "\n",
    "$$\n",
    "  [(A\\mat{M})^N]_{xy} \n",
    "  =\n",
    "  \\sqrt{\\frac{m}{2\\pi \\I\\hbar N\\d{t}}}\n",
    "  \\exp\\left\\{\\frac{\\I}{N\\hbar}\\frac{m}{2}\\frac{(x-y)^2}{\\d{t}}\\right\\}\n",
    "  = \n",
    "  \\sqrt{\\frac{m}{2\\pi \\I\\hbar T}}\n",
    "  \\exp\\left\\{\\frac{\\I}{\\hbar}\\frac{m}{2}\\frac{(x-y)^2}{T}\\right\\}.\n",
    "$$\n",
    "\n",
    "Hence (including the normalization factor),\n",
    "\n",
    "$$\n",
    "  U(y,T;x, 0) = \\sqrt{\\frac{m}{2\\pi \\hbar \\I T}}\\exp\\left\\{\\frac{\\I m (y-x)^2}{2\\hbar T}\\right\\}.\n",
    "$$"
   ]
  },
  {
   "cell_type": "markdown",
   "metadata": {},
   "source": [
    "# Discretization"
   ]
  },
  {
   "cell_type": "markdown",
   "metadata": {},
   "source": [
    "To make the path integral concrete (and well defined) we can express it in terms of a discrete lattice in space and time.  A useful approach is to use periodic functions on a lattice of $N_x$ points in a box of length $L$.  With this discretization both the positions $x=x_n$ and wave-numbers $k = p/\\hbar = k_n$ become discrete with $n$ running over a finite range $n \\in \\{0, 1, 2\\cdots N-1\\}$.\n",
    "\n",
    "$$\n",
    "  x_n = n\\d{x} = n\\frac{L}{N_x}, \\qquad\n",
    "  k_n = \\frac{2\\pi n}{L},\n",
    "  \\qquad n\\in\\{-N/2, -N/2+1, \\dots N/2-1\\}\n",
    "$$\n",
    "\n",
    "Two sets of normalizations are useful and follow from the following lattice relationship\n",
    "\n",
    "$$\n",
    "  \\sum_{l}e^{\\I k_l(x_m - x_n)} = \\sum_{l}e^{\\I 2\\pi l(m - n)/N} = N\\delta_{nm}, \\\\\n",
    "  \\frac{1}{L}\\sum_{l}e^{\\I k_l(x_m - x_n)} = \\frac{\\delta_{nm}}{\\d{x}}, \\qquad\n",
    "  \\d{x}\\sum_{l}e^{\\I k_l(x_m - x_n)} = L\\delta_{nm}.\n",
    "$$\n",
    "\n",
    "**Physical**:\n",
    "\n",
    "$$\n",
    "  \\braket{x_m|k_n} = e^{\\I k_n x_m}, \\qquad\n",
    "  \\braket{x_m|x_n} = \\frac{\\delta_{nm}}{\\d{x}}, \\qquad\n",
    "  \\braket{k_m|k_n} = L\\delta_{nm},\\\\\n",
    "  \\mat{1} = \\d{x}\\sum_{n}\\ket{x_n}\\bra{x_n} = \\frac{1}{L}\\sum_{m}\\ket{k_n}\\bra{k_n}.\n",
    "$$\n",
    "\n",
    "In this normalization, continuum equations can be directly translated by replacing integrals as follows:\n",
    "\n",
    "$$\n",
    "  \\int \\d{x} \\rightarrow \\d{x}\\sum_{n}, \\qquad\n",
    "  \\int \\frac{\\d{k}}{(2\\pi)} \\rightarrow \\frac{1}{L}\\sum_{n}.\n",
    "$$\n",
    "\n",
    "**Numerical**:\n",
    "\n",
    "The **Numerical** normalization is obtained from the **Physical** normalization by rescaling:\n",
    "\n",
    "$$\n",
    "  \\ket{x_n} \\rightarrow \\frac{\\ket{x_n}}{\\sqrt{\\d{x}}}, \\qquad\n",
    "  \\ket{k_n} \\rightarrow \\sqrt{L}\\ket{k_n}\\\\\n",
    "  \\braket{x_m|k_n} = \\sqrt{\\frac{\\d{x}}{L}} e^{\\I k_n x_m} \n",
    "                   = \\frac{1}{\\sqrt{N_x}}e^{\\I k_n x_m}, \\qquad\n",
    "  \\braket{x_m|x_n} = \\braket{k_m|k_n} = \\delta_{nm},\\\\\n",
    "  \\mat{1} = \\sum_{n}\\ket{x_n}\\bra{x_n} = \\sum_{m}\\ket{k_n}\\bra{k_n}.\n",
    "$$\n",
    "\n",
    "In this normalization $\\braket{x_m|k_n}$ is unitary.\n",
    "\n"
   ]
  },
  {
   "cell_type": "markdown",
   "metadata": {},
   "source": [
    "## Discrete Unitarity"
   ]
  },
  {
   "cell_type": "markdown",
   "metadata": {},
   "source": [
    "Fred Gittes points out that in discrete form, there is a special relationship between $\\d{t}$ and $\\d{x}$ such that $\\mat{M}^\\dagger\\cdot\\mat{M}$ is unitary:\n",
    "\n",
    "$$\n",
    "  [(A\\mat{M})^\\dagger \\cdot (A\\mat{M})]_{xy} = \n",
    "  \\sum_{q} (AM)_{qx}^*(AM)_{qy}\n",
    "  =\n",
    "  \\abs{A}^2\n",
    "  \\sum_{l=0}^{N_x-1}\n",
    "  \\exp\\left\\{\n",
    "    \\frac{m\\I}{2\\hbar\\d{t}}\n",
    "    [(x_l-y)^2 - (x-x_l)^2]\n",
    "    -\\frac{\\I}{\\hbar}\\frac{V(y)-V(x)}{2}\\d{t}\n",
    "  \\right\\}\\\\\n",
    "  =\n",
    "  \\frac{m}{2\\pi\\hbar\\d{t}}\n",
    "  \\exp\\left\\{\n",
    "    \\frac{m\\I}{2\\hbar\\d{t}}(y^2-x^2)\n",
    "    -\\frac{\\I}{\\hbar}\\frac{V(y)-V(x)}{2}\\d{t}\n",
    "  \\right\\}\n",
    "  \\sum_{l=0}^{N_x-1}\n",
    "  \\exp\\left\\{\n",
    "    \\frac{m\\I}{2\\hbar\\d{t}}[2x_l(x-y)]\n",
    "  \\right\\}\n",
    "  =\n",
    "  N_x\\delta_{xy}\n",
    "$$\n",
    "\n",
    "where the last relationship is true for the lattice iff:\n",
    "\n",
    "$$\n",
    "  \\frac{m}{\\hbar\\d{t}}\\d{x}^2 = \\frac{2\\pi n}{N_x}, \\qquad\n",
    "  \\d{t} = \\frac{m L\\d{x}}{2\\pi n\\hbar}.\n",
    "$$\n",
    "\n",
    "*To see this, note that with the special $\\d{t}$, the last sum is $N_x\\delta_{xy}$.  This leaves the first factor, whose exponent vanishes when $x=y$ leaving a factor of unity.*\n",
    "\n",
    "The discrete matrix $\\mat{M}$ is thus unitary with this special value of $\\d{t}$ if the normalization factor of $A = 1/N_x$ at this special value.  As we shall see below,\n",
    "\n",
    "$$\n",
    "  A = \\sqrt{\\frac{m}{2\\pi \\I\\hbar\\d{t}}}\n",
    "  \\\\\n",
    "$$"
   ]
  },
  {
   "cell_type": "markdown",
   "metadata": {},
   "source": [
    "Using the numerical basis, we can diagonalize $M_{xy}$.\n",
    "$$\n",
    "  \\tilde{M}_{mn} = \\sum_{mn}\\braket{k_m|x}M_{xy}\\braket{y|k_n} \n",
    "  = \n",
    "  \\frac{1}{N_x}\n",
    "  \\sum_{xy}\n",
    "  \\exp\\left\\{\n",
    "      -\\I (k_mx - k_ny)\n",
    "      +\n",
    "      \\frac{\\I}{\\hbar}\n",
    "      \\Bigl[\n",
    "        \\frac{m}{2}\\frac{(\\overbrace{x-y}^{q})^2}{\\d{t}}\n",
    "      \\Bigr]\n",
    "    \\right\\} = \\\\\n",
    "  = \n",
    "  \\frac{1}{N_x}\n",
    "  \\sum_{qy}\n",
    "  e^{\\I(k_n-k_m)y}\n",
    "  \\exp\\left\\{\n",
    "      -\\I k_m q\n",
    "      +\n",
    "      \\frac{\\I}{\\hbar}\n",
    "      \\left[\n",
    "        \\frac{m}{2}\\frac{q^2}{\\d{t}}\n",
    "      \\right]\n",
    "    \\right\\}\n",
    "  = \n",
    "  \\delta_{mn}\n",
    "  \\sum_{q}\n",
    "  \\exp\\left\\{\n",
    "      \\frac{\\I}{\\hbar}\n",
    "      \\left[\n",
    "        \\frac{m}{2}\\frac{q^2}{\\d{t}}\n",
    "      \\right]\n",
    "      - \\I q k_n\n",
    "    \\right\\}.\n",
    "$$"
   ]
  },
  {
   "cell_type": "markdown",
   "metadata": {},
   "source": [
    "## Free Particle on a Periodic Lattice"
   ]
  },
  {
   "cell_type": "markdown",
   "metadata": {},
   "source": [
    "The last sum can be simplified if we can shift $q \\rightarrow q + l\\d{x}$ to complete the square which requires\n",
    "\n",
    "$$\n",
    "  l = \\frac{\\hbar k_n}{m}\\frac{\\d{t}}{\\d{x}}\n",
    "$$\n",
    "\n",
    "to be an integer.  This is the case if $\\d{t}$ is chosen in terms of an integer $j$:\n",
    "\n",
    "$$\n",
    "  \\d{t} = j\\frac{m L\\d{x}}{2\\pi \\hbar}, \\qquad\n",
    "  l = jn.\n",
    "$$\n",
    "\n",
    "If this is true, then we can do this shift and we have:\n",
    "\n",
    "$$\n",
    "  \\tilde{M}_{mn} = \\delta_{mn}\n",
    "  \\exp\\left\\{\n",
    "    \\frac{\\I m l^2 \\d{x}^2}{2\\hbar \\d{t}}\n",
    "  \\right\\}\n",
    "  \\sum_{q}\n",
    "  \\exp\\left\\{\n",
    "    \\frac{\\I m q^2}{2\\hbar \\d{t}}\n",
    "  \\right\\}\n",
    "  =\n",
    "  \\delta_{mn}\n",
    "  \\exp\\left\\{\n",
    "    \\frac{\\I}{\\hbar} \\frac{\\hbar^2 k_n^2}{2m} \\d{t}\n",
    "  \\right\\}\n",
    "  \\sum_{q}\n",
    "  \\exp\\left\\{\n",
    "    \\frac{\\I m q^2}{2\\hbar \\d{t}}\n",
    "  \\right\\}\n",
    "$$"
   ]
  },
  {
   "cell_type": "markdown",
   "metadata": {},
   "source": [
    "# Harmonic Oscillator"
   ]
  },
  {
   "cell_type": "code",
   "execution_count": 8,
   "metadata": {},
   "outputs": [
    {
     "name": "stdout",
     "output_type": "stream",
     "text": [
      "Populating the interactive namespace from numpy and matplotlib\n"
     ]
    }
   ],
   "source": [
    "%pylab inline --no-import-all\n",
    "\n",
    "Nx = 62\n",
    "L = 10.0\n",
    "w = m = h = 1.0\n",
    "dx = L/Nx\n",
    "x = np.arange(Nx)*dx - L/2\n",
    "\n",
    "n_t = 0\n",
    "Nt = 2*n_t+1\n",
    "dt = m*L*dx/2/np.pi/Nt/h\n",
    "T = Nt*dt\n",
    "\n",
    "def V(x):\n",
    "    return m*(w*x)**2/2.0\n",
    "\n",
    "x_ = x[:,None]\n",
    "y_ = x[None,:]\n",
    "\n",
    "A = np.sqrt(m/2/np.pi/h/T)\n",
    "AM = dx*np.exp(1j/h*(m*(x_-y_)**2/2.0/dt - dt*(V(x_) + V(y_))/2))*A\n",
    "I = AM.conj().T.dot(AM)\n",
    "assert np.allclose(np.eye(Nx), I)"
   ]
  },
  {
   "cell_type": "code",
   "execution_count": 9,
   "metadata": {},
   "outputs": [
    {
     "data": {
      "text/plain": [
       "[<matplotlib.lines.Line2D at 0xa1a2b6fd0>]"
      ]
     },
     "execution_count": 9,
     "metadata": {},
     "output_type": "execute_result"
    },
    {
     "data": {
      "image/png": "[encoded data removed]",
      "text/plain": [
       "<Figure size 432x288 with 1 Axes>"
      ]
     },
     "metadata": {},
     "output_type": "display_data"
    }
   ],
   "source": [
    "import scipy as sp\n",
    "import scipy.linalg\n",
    "H = 1j*h*sp.linalg.logm(AM)/dt\n",
    "assert np.allclose(H, H.T.conj())\n",
    "assert np.allclose(H.imag, 0)\n",
    "H = H.real\n",
    "plt.plot(x, np.diag(H))"
   ]
  },
  {
   "cell_type": "code",
   "execution_count": 10,
   "metadata": {},
   "outputs": [
    {
     "data": {
      "text/plain": [
       "[<matplotlib.lines.Line2D at 0xa1a38f390>]"
      ]
     },
     "execution_count": 10,
     "metadata": {},
     "output_type": "execute_result"
    },
    {
     "data": {
      "image/png": "[encoded data removed]",
      "text/plain": [
       "<Figure size 432x288 with 1 Axes>"
      ]
     },
     "metadata": {},
     "output_type": "display_data"
    }
   ],
   "source": [
    "import scipy as sp\n",
    "import scipy.linalg\n",
    "U = np.linalg.matrix_power(AM, Nt)\n",
    "H = 1j*h*sp.linalg.logm(U)/T\n",
    "assert np.allclose(H, H.T.conj())\n",
    "#assert np.allclose(H.imag, 0)\n",
    "#H = H.real\n",
    "plt.plot(x, np.diag(H))"
   ]
  },
  {
   "cell_type": "code",
   "execution_count": 42,
   "metadata": {},
   "outputs": [
    {
     "data": {
      "text/plain": [
       "[<matplotlib.lines.Line2D at 0xa1a206310>]"
      ]
     },
     "execution_count": 42,
     "metadata": {},
     "output_type": "execute_result"
    },
    {
     "data": {
      "image/png": "[encoded data removed]",
      "text/plain": [
       "<Figure size 432x288 with 1 Axes>"
      ]
     },
     "metadata": {},
     "output_type": "display_data"
    }
   ],
   "source": [
    "plt.plot(np.linalg.eigvalsh(H))"
   ]
  },
  {
   "cell_type": "code",
   "execution_count": 6,
   "metadata": {},
   "outputs": [
    {
     "data": {
      "text/plain": [
       "array([[ 1.00000000e+00+0.00000000e+00j, -9.88415498e-15-7.49400542e-17j,\n",
       "        -1.11022302e-16+6.38378239e-16j, -8.19939154e-15+4.76210391e-18j],\n",
       "       [-9.88415498e-15+7.49400542e-17j,  1.00000000e+00+0.00000000e+00j,\n",
       "        -8.04951143e-15+4.76210391e-18j, -1.11022302e-16-6.38378239e-16j],\n",
       "       [-1.11022302e-16-6.38378239e-16j, -8.04951143e-15-4.76210391e-18j,\n",
       "         1.00000000e+00+0.00000000e+00j, -9.89367919e-15+7.49400542e-17j],\n",
       "       [-8.19939154e-15-4.76210391e-18j, -1.11022302e-16+6.38378239e-16j,\n",
       "        -9.89367919e-15-7.49400542e-17j,  1.00000000e+00+0.00000000e+00j]])"
      ]
     },
     "execution_count": 6,
     "metadata": {},
     "output_type": "execute_result"
    }
   ],
   "source": [
    "U = np.linalg.matrix_power(M, 2)\n",
    "(U.conj().T.dot(U))"
   ]
  },
  {
   "cell_type": "code",
   "execution_count": 59,
   "metadata": {},
   "outputs": [
    {
     "data": {
      "text/plain": [
       "array([[ 0.35355339-3.53553391e-01j,  0.5       +1.53869061e-15j,\n",
       "        -0.35355339+3.53553391e-01j,  0.5       +1.88411095e-16j],\n",
       "       [ 0.5       +1.53869061e-15j,  0.35355339-3.53553391e-01j,\n",
       "         0.5       +1.53869061e-15j, -0.35355339+3.53553391e-01j],\n",
       "       [-0.35355339+3.53553391e-01j,  0.5       +1.53869061e-15j,\n",
       "         0.35355339-3.53553391e-01j,  0.5       +1.53869061e-15j],\n",
       "       [ 0.5       +1.88411095e-16j, -0.35355339+3.53553391e-01j,\n",
       "         0.5       +1.53869061e-15j,  0.35355339-3.53553391e-01j]])"
      ]
     },
     "execution_count": 59,
     "metadata": {},
     "output_type": "execute_result"
    }
   ],
   "source": [
    "M"
   ]
  },
  {
   "cell_type": "markdown",
   "metadata": {},
   "source": [
    "# Harmonic Oscillator"
   ]
  },
  {
   "cell_type": "code",
   "execution_count": 8,
   "metadata": {},
   "outputs": [
    {
     "name": "stdout",
     "output_type": "stream",
     "text": [
      "Populating the interactive namespace from numpy and matplotlib\n"
     ]
    },
    {
     "ename": "AssertionError",
     "evalue": "",
     "output_type": "error",
     "traceback": [
      "\u001b[0;31m---------------------------------------------------------------------------\u001b[0m",
      "\u001b[0;31mAssertionError\u001b[0m                            Traceback (most recent call last)",
      "\u001b[0;32m<ipython-input-8-1846013a711c>\u001b[0m in \u001b[0;36m<module>\u001b[0;34m()\u001b[0m\n\u001b[1;32m     21\u001b[0m \u001b[0mM\u001b[0m \u001b[0;34m=\u001b[0m \u001b[0mdx\u001b[0m\u001b[0;34m*\u001b[0m\u001b[0mnp\u001b[0m\u001b[0;34m.\u001b[0m\u001b[0mexp\u001b[0m\u001b[0;34m(\u001b[0m\u001b[0;36m1j\u001b[0m\u001b[0;34m/\u001b[0m\u001b[0mh\u001b[0m\u001b[0;34m*\u001b[0m\u001b[0;34m(\u001b[0m\u001b[0mm\u001b[0m\u001b[0;34m*\u001b[0m\u001b[0;34m(\u001b[0m\u001b[0mx_\u001b[0m\u001b[0;34m-\u001b[0m\u001b[0my_\u001b[0m\u001b[0;34m)\u001b[0m\u001b[0;34m**\u001b[0m\u001b[0;36m2\u001b[0m\u001b[0;34m/\u001b[0m\u001b[0;36m2.0\u001b[0m\u001b[0;34m/\u001b[0m\u001b[0mdt\u001b[0m \u001b[0;34m-\u001b[0m \u001b[0mV\u001b[0m\u001b[0;34m(\u001b[0m\u001b[0mx_\u001b[0m\u001b[0;34m+\u001b[0m\u001b[0my_\u001b[0m\u001b[0;34m)\u001b[0m\u001b[0;34m)\u001b[0m\u001b[0;34m)\u001b[0m\u001b[0;34m/\u001b[0m\u001b[0mB\u001b[0m\u001b[0;34m\u001b[0m\u001b[0m\n\u001b[1;32m     22\u001b[0m \u001b[0mI\u001b[0m \u001b[0;34m=\u001b[0m \u001b[0mM\u001b[0m\u001b[0;34m.\u001b[0m\u001b[0mconj\u001b[0m\u001b[0;34m(\u001b[0m\u001b[0;34m)\u001b[0m\u001b[0;34m.\u001b[0m\u001b[0mT\u001b[0m\u001b[0;34m.\u001b[0m\u001b[0mdot\u001b[0m\u001b[0;34m(\u001b[0m\u001b[0mM\u001b[0m\u001b[0;34m)\u001b[0m\u001b[0;34m\u001b[0m\u001b[0m\n\u001b[0;32m---> 23\u001b[0;31m \u001b[0;32massert\u001b[0m \u001b[0mnp\u001b[0m\u001b[0;34m.\u001b[0m\u001b[0mallclose\u001b[0m\u001b[0;34m(\u001b[0m\u001b[0mnp\u001b[0m\u001b[0;34m.\u001b[0m\u001b[0meye\u001b[0m\u001b[0;34m(\u001b[0m\u001b[0mNx\u001b[0m\u001b[0;34m)\u001b[0m\u001b[0;34m,\u001b[0m \u001b[0mI\u001b[0m\u001b[0;34m)\u001b[0m\u001b[0;34m\u001b[0m\u001b[0m\n\u001b[0m",
      "\u001b[0;31mAssertionError\u001b[0m: "
     ]
    }
   ],
   "source": [
    "%pylab inline --no-import-all\n",
    "\n",
    "Nx = 64\n",
    "L = 10.0\n",
    "w = m = h = 1.0\n",
    "dx = L/Nx\n",
    "x = np.arange(Nx)*dx - L/2\n",
    "\n",
    "n_t = 20\n",
    "Nt = 2*n_t+1\n",
    "dt = m*L*dx/2/np.pi/Nt/h\n",
    "T = Nt*dt\n",
    "\n",
    "def V(x):\n",
    "    return m*(w*x)**2/2.0\n",
    "\n",
    "x_ = x[:,None]\n",
    "y_ = x[None,:]\n",
    "\n",
    "B = np.sqrt(2j*Nt*np.pi*h*dt/m)\n",
    "M = dx*np.exp(1j/h*(m*(x_-y_)**2/2.0/dt - V(x_+y_)))/B\n",
    "I = M.conj().T.dot(M)"
   ]
  },
  {
   "cell_type": "code",
   "execution_count": null,
   "metadata": {},
   "outputs": [],
   "source": []
  }
 ],
 "metadata": {
  "kernelspec": {
   "display_name": "Python [conda env:_gpe]",
   "language": "python",
   "name": "conda-env-_gpe-py"
  },
  "language_info": {
   "codemirror_mode": {
    "name": "ipython",
    "version": 2
   },
   "file_extension": ".py",
   "mimetype": "text/x-python",
   "name": "python",
   "nbconvert_exporter": "python",
   "pygments_lexer": "ipython2",
   "version": "2.7.15"
  },
  "nikola": {
   "category": "",
   "date": "2018-08-23 16:14:34 UTC-07:00",
   "description": "",
   "link": "",
   "slug": "path-integrals",
   "tags": "",
   "title": "Path Integrals",
   "type": "text"
  },
  "toc": {
   "base_numbering": 1,
   "nav_menu": {},
   "number_sections": true,
   "sideBar": true,
   "skip_h1_title": false,
   "title_cell": "Table of Contents",
   "title_sidebar": "Contents",
   "toc_cell": true,
   "toc_position": {},
   "toc_section_display": true,
   "toc_window_display": true
  }
 },
 "nbformat": 4,
 "nbformat_minor": 2
}
