{
 "cells": [
  {
   "cell_type": "markdown",
   "metadata": {
    "collapsed": false
   },
   "source": [
    "To setup ssh on Windows 10 without using the ubuntu subsystem is what I prefer. \n",
    "start a windows Powershell in Admin mode, go to .ssh folder and run the follow commands:\n",
    "1. use **ssh-keygen** to generate ssh key pairs, one public key and anther is private key(may with passphase protected)\n",
    "2. run **ssh-agent bash** (may failed with error message 'unable to start ssh-agent service, error :1058' ), if you see the error: 1058 message, run the command: **Set-Service ssh-agent -StartupType Manual**\n",
    "3. Once the first two steps works well, you can run the ssh to connect the server.(make sure to add the public key to the server before doing this)"
   ]
  },
  {
   "cell_type": "code",
   "execution_count": 0,
   "metadata": {
    "collapsed": false
   },
   "outputs": [
   ],
   "source": [
   ]
  },
  {
   "cell_type": "code",
   "execution_count": 0,
   "metadata": {
    "collapsed": false
   },
   "outputs": [
   ],
   "source": [
   ]
  }
 ],
 "metadata": {
  "kernelspec": {
   "display_name": "Python 2 (Ubuntu Linux)",
   "language": "python",
   "name": "python2-ubuntu"
  },
  "language_info": {
   "codemirror_mode": {
    "name": "ipython",
    "version": 2
   },
   "file_extension": ".py",
   "mimetype": "text/x-python",
   "name": "python",
   "nbconvert_exporter": "python",
   "pygments_lexer": "ipython2",
   "version": "2.7.15rc1"
  }
 },
 "nbformat": 4,
 "nbformat_minor": 0
}