{
 "cells": [
  {
   "cell_type": "code",
   "execution_count": 1,
   "metadata": {},
   "outputs": [
    {
     "data": {
      "text/html": [
       "<style>.grade {\n",
       "   background-color: #66FFCC;\n",
       "}\n",
       "</style>"
      ],
      "text/plain": [
       "<IPython.core.display.HTML object>"
      ]
     },
     "metadata": {},
     "output_type": "display_data"
    },
    {
     "data": {
      "application/javascript": [],
      "text/plain": [
       "<IPython.core.display.Javascript object>"
      ]
     },
     "metadata": {},
     "output_type": "display_data"
    },
    {
     "data": {
      "text/html": [
       "<script id=\"MathJax-Element-48\" type=\"math/tex\">\\newcommand{\\vect}[1]{\\mathbf{#1}}\n",
       "\\newcommand{\\uvect}[1]{\\hat{#1}}\n",
       "\\newcommand{\\abs}[1]{\\lvert#1\\rvert}\n",
       "\\newcommand{\\norm}[1]{\\lVert#1\\rVert}\n",
       "\\newcommand{\\I}{\\mathrm{i}}\n",
       "\\newcommand{\\ket}[1]{\\left|#1\\right\\rangle}\n",
       "\\newcommand{\\bra}[1]{\\left\\langle#1\\right|}\n",
       "\\newcommand{\\braket}[1]{\\langle#1\\rangle}\n",
       "\\newcommand{\\Braket}[1]{\\left\\langle#1\\right\\rangle}\n",
       "\\newcommand{\\op}[1]{\\mathbf{#1}}\n",
       "\\newcommand{\\mat}[1]{\\mathbf{#1}}\n",
       "\\newcommand{\\d}{\\mathrm{d}}\n",
       "\\newcommand{\\pdiff}[3][]{\\frac{\\partial^{#1} #2}{\\partial {#3}^{#1}}}\n",
       "\\newcommand{\\diff}[3][]{\\frac{\\d^{#1} #2}{\\d {#3}^{#1}}}\n",
       "\\newcommand{\\ddiff}[3][]{\\frac{\\delta^{#1} #2}{\\delta {#3}^{#1}}}\n",
       "\\newcommand{\\floor}[1]{\\left\\lfloor#1\\right\\rfloor}\n",
       "\\newcommand{\\ceil}[1]{\\left\\lceil#1\\right\\rceil}\n",
       "\\DeclareMathOperator{\\Tr}{Tr}\n",
       "\\DeclareMathOperator{\\erf}{erf}\n",
       "\\DeclareMathOperator{\\erfi}{erfi}\n",
       "\\DeclareMathOperator{\\sech}{sech}\n",
       "\\DeclareMathOperator{\\sgn}{sgn}\n",
       "\\DeclareMathOperator{\\order}{O}\n",
       "\\DeclareMathOperator{\\diag}{diag}\n",
       "\n",
       "\\newcommand{\\mylabel}[1]{\\label{#1}\\tag{#1}}\n",
       "\\newcommand{\\degree}{\\circ}</script>"
      ],
      "text/plain": [
       "<IPython.core.display.HTML object>"
      ]
     },
     "metadata": {},
     "output_type": "display_data"
    },
    {
     "data": {
      "text/html": [],
      "text/plain": [
       "<IPython.core.display.HTML object>"
      ]
     },
     "metadata": {},
     "output_type": "display_data"
    },
    {
     "data": {
      "text/html": [
       "\n",
       "<i>\n",
       "<p>This cell contains some definitions for equations and some CSS for styling\n",
       "  the notebook. If things look a bit strange, please try the following:\n",
       "<ul>\n",
       "  <li>Choose \"Trust Notebook\" from the \"File\" menu.</li>\n",
       "  <li>Re-execute this cell.</li>\n",
       "  <li>Reload the notebook.</li>\n",
       "</ul>\n",
       "</p>\n",
       "</i>\n"
      ],
      "text/plain": [
       "<IPython.core.display.HTML object>"
      ]
     },
     "metadata": {},
     "output_type": "display_data"
    },
    {
     "name": "stdout",
     "output_type": "stream",
     "text": [
      "Populating the interactive namespace from numpy and matplotlib\n"
     ]
    }
   ],
   "source": [
    "import mmf_setup;mmf_setup.nbinit(hgroot=False)\n",
    "import numpy as np\n",
    "from importlib import reload\n",
    "from scipy.optimize import brentq\n",
    "import homogeneous;reload(homogeneous)\n",
    "from homogeneous import Homogeneous1D,Homogeneous3D\n",
    "%pylab inline --no-import-all"
   ]
  },
  {
   "cell_type": "markdown",
   "metadata": {},
   "source": [
    "# Fulde-Ferrell State"
   ]
  },
  {
   "cell_type": "code",
   "execution_count": 2,
   "metadata": {},
   "outputs": [
    {
     "name": "stdout",
     "output_type": "stream",
     "text": [
      "Computing Density Difference...\n",
      "Computing Total Density...\n"
     ]
    },
    {
     "name": "stderr",
     "output_type": "stream",
     "text": [
      "c:\\users\\chunde\\appdata\\local\\programs\\python\\python37\\lib\\site-packages\\scipy\\integrate\\quadpack.py:860: IntegrationWarning: The integral is probably divergent, or slowly convergent.\n",
      "  **opt)\n"
     ]
    },
    {
     "name": "stdout",
     "output_type": "stream",
     "text": [
      "ainv=-1.4425956741930673e-07\tn=([0.03720512 0.03720512])\tmu=((0.5, 0.5))\n"
     ]
    },
    {
     "name": "stderr",
     "output_type": "stream",
     "text": [
      "c:\\users\\chunde\\appdata\\local\\programs\\python\\python37\\lib\\site-packages\\scipy\\integrate\\quadpack.py:860: IntegrationWarning: The maximum number of subdivisions (50) has been achieved.\n",
      "  If increasing the limit yields no improvement it is advised to analyze \n",
      "  the integrand in order to determine the difficulties.  If the position of a \n",
      "  local difficulty can be determined (singularity, discontinuity) one will \n",
      "  probably gain from splitting up the interval and calling the integrator \n",
      "  on the subranges.  Perhaps a special-purpose integrator should be used.\n",
      "  **opt)\n"
     ]
    },
    {
     "data": {
      "text/plain": [
       "(0.07441024762302698, 0.07441025098046673)"
      ]
     },
     "execution_count": 2,
     "metadata": {},
     "output_type": "execute_result"
    }
   ],
   "source": [
    "h = Homogeneous3D(T=0, q=0)\n",
    "k0 = 1.0\n",
    "mu = k0**2/2\n",
    "eF = mu/0.5906055\n",
    "kF = np.sqrt(2*eF)\n",
    "n_p = kF**3/3/np.pi**2\n",
    "mus_eff = (mu,)*2\n",
    "delta = 1.16220056*mus_eff[0] \n",
    "ainv, n, mu = h.get_BCS_v_n_e_in_cylindrical(\n",
    "    delta=delta, mus_eff=mus_eff, k_c=100.0)\n",
    "print(f\"ainv={ainv}\\tn=({n})\\tmu=({mu})\")\n",
    "(n.sum(), n_p)"
   ]
  },
  {
   "cell_type": "code",
   "execution_count": 3,
   "metadata": {},
   "outputs": [
    {
     "name": "stderr",
     "output_type": "stream",
     "text": [
      "c:\\users\\chunde\\appdata\\local\\programs\\python\\python37\\lib\\site-packages\\scipy\\integrate\\quadpack.py:860: IntegrationWarning: The algorithm does not converge.  Roundoff error is detected\n",
      "  in the extrapolation table.  It is assumed that the requested tolerance\n",
      "  cannot be achieved, and that the returned result (if full_output = 1) is \n",
      "  the best which can be obtained.\n",
      "  **opt)\n"
     ]
    },
    {
     "name": "stdout",
     "output_type": "stream",
     "text": [
      "Computing Density Difference...\n"
     ]
    },
    {
     "name": "stderr",
     "output_type": "stream",
     "text": [
      "E:\\Projects\\Physics\\quantum-fermion-theories\\quantum-turbulence\\homogeneous.py:54: UserWarning: Density Difference integral did not converge: res, err = 0.06426339804174305, 2.9533314217572006e-06\n",
      "  f\"{int_name} integral did not converge: res, err = {res}, {err}\")\n"
     ]
    },
    {
     "name": "stdout",
     "output_type": "stream",
     "text": [
      "Computing Total Density...\n",
      "ainv=2.7106966770761347\tn=([0.01506111 0.01180549])\tmu=((1.139210308, -0.13921030800000012))\n"
     ]
    },
    {
     "name": "stderr",
     "output_type": "stream",
     "text": [
      "E:\\Projects\\Physics\\quantum-fermion-theories\\quantum-turbulence\\homogeneous.py:54: UserWarning: Total Density integral did not converge: res, err = 0.5303254336818848, 1.0471829374369434e-06\n",
      "  f\"{int_name} integral did not converge: res, err = {res}, {err}\")\n"
     ]
    }
   ],
   "source": [
    "h = Homogeneous3D(T=0, q=0.9)\n",
    "k0 = 1.0\n",
    "mu = k0**2/2\n",
    "delta = 1.16220056*mu\n",
    "dmu = 1.1*delta\n",
    "eF = mu/0.5906055\n",
    "kF = np.sqrt(2*eF)\n",
    "mus_eff = (mu+dmu, mu-dmu)\n",
    "ainv, n, mu = h.get_BCS_v_n_e_in_cylindrical(\n",
    "    delta=delta, mus_eff=mus_eff, k_c=100.0)\n",
    "print(f\"ainv={ainv}\\tn=({n})\\tmu=({mu})\")"
   ]
  },
  {
   "cell_type": "markdown",
   "metadata": {},
   "source": [
    "# Special Momenta"
   ]
  },
  {
   "cell_type": "markdown",
   "metadata": {},
   "source": [
    "$$\n",
    "  \\epsilon_\\pm = \\frac{\\epsilon_a \\pm \\epsilon_b}{2}, \\qquad\n",
    "  \\mu_{\\pm} = \\frac{\\mu_a \\pm \\mu_b}{2}\\\\\n",
    "  \\epsilon_- = \\frac{2\\hbar^2qk_z }{m}- \\mu_-, \\qquad\n",
    "  \\epsilon_+ = \\frac{\\hbar^2k_z^2}{2m} + \\frac{\\hbar^2q^2}{2m} - \\mu_+,\\\\\n",
    "  \\omega_{\\pm} = \\epsilon_- \\pm \\sqrt{\\epsilon_+^2 + \\Delta^2}\n",
    "$$"
   ]
  },
  {
   "cell_type": "markdown",
   "metadata": {},
   "source": [
    "The special momenta occur when $\\omega_{\\pm}=0$ or $\\epsilon_- = \\mp \\sqrt{\\epsilon_+^2+\\Delta^2}$.\n",
    "\n",
    "$$\n",
    "  \\epsilon_-^2 = \\epsilon_+^2 + \\Delta^2\n",
    "$$"
   ]
  },
  {
   "cell_type": "markdown",
   "metadata": {},
   "source": [
    "In 3d case:\n",
    "$$\n",
    "\\epsilon_+ = \\frac{\\hbar^2k_z^2}{2m}+\\frac{\\hbar^2k_{\\perp}^2}{2m} + \\frac{\\hbar^2q^2}{2m} - \\mu_+,\\\\\n",
    "$$"
   ]
  },
  {
   "cell_type": "markdown",
   "metadata": {},
   "source": [
    "# To Do For Chunde:"
   ]
  },
  {
   "cell_type": "markdown",
   "metadata": {},
   "source": [
    "Derive integrals for FF state.\n",
    "\n",
    "* $P = \\mu_+n_+ + \\mu_- n_- - \\mathcal{E}$.\n",
    "\n",
    "\n",
    "* You can easily compute $P(\\mu_+, \\mu_-, \\Delta, q)$ and $a_s^{-1}(\\mu_+, \\mu_-, \\Delta, q)$.\n",
    "* Solve $a_s^{-1} = a_s^{-1}(\\mu_+, \\mu_-, \\Delta, q)$ to get $\\Delta(\\mu_+,\\mu_-, q, a_s^{-1})$. (Recall, there may be no solution - you must also always consider the normal phase $\\Delta=0$.)\n",
    "* Now maximize, including $P(\\mu_+, \\mu_-, \\Delta=0, q)$:\n",
    "\n",
    "  $$\n",
    "    \\max_{q} P(\\mu_+, \\mu_-, a_s^{-1}, q).\n",
    "  $$"
   ]
  },
  {
   "cell_type": "markdown",
   "metadata": {},
   "source": [
    "## BdG \n",
    "We start with the issue of regularization.  The $T=0$ equations in $d$ dimensions can be expressed in terms of the gap $\\Delta$ and effective chemical potential $\\mu_{\\text{eff}} = \\mu_0 + g_cn_+/2$ where $g_c>0$ represents an attractive interaction:\n",
    "\n",
    "$$\n",
    "  \\Delta = g_c \\nu_c, \\qquad\n",
    "  \\mu_{eff}-\\mu_0=g_cn_+/2\\qquad\n",
    "  \\epsilon_+ = \\frac{\\hbar^2k^2}{2m} - \\mu_{\\text{eff}}, \\qquad\n",
    "  \\mathcal{E} = \\frac{E}{V} \n",
    "              = \\frac{\\hbar^2\\tau_c}{2m} - g_c(n_an_b+\\nu_c^\\dagger\\nu_c)\n",
    "              = \\frac{\\hbar^2\\tau_c}{2m} - \\Delta^\\dagger\\nu_c - \\frac{(\\mu_{\\text{eff}} - \\mu_0)n_+}{2},\n",
    "$$\n",
    "\n",
    "through the following integrals:\n",
    "  \n",
    "\\begin{align}\n",
    "  \\nu_c &= \\int_{c}\\frac{\\d^d{k}}{(2\\pi)^d}\\;\\frac{\\Delta}{2\\sqrt{\\epsilon_+^2 + \\Delta^2}}\n",
    "  &&\\sim \\int_{c}\\frac{\\d^d{k}}{(2\\pi)^d}\\;\\frac{m\\Delta}{\\hbar^2 k^2},\\tag{1}\\\\\n",
    "  \\tau_c &= \\int_c\\frac{\\d^d{k}}{(2\\pi)^d}\\; k^2\n",
    "    \\left[1 - \\frac{\\epsilon_+}{\\sqrt{\\epsilon_+^2 + \\abs{\\Delta}^2}}\\right]\n",
    "  &&\\sim \\int_c\\frac{\\d^d{k}}{(2\\pi)^d}\\; \n",
    "  \\frac{2m^2\\abs{\\Delta}^2}{\\hbar^4 k^2},\\tag{2}\\\\\n",
    "  n_+ &= \\int_c\\frac{\\d^d{k}}{(2\\pi)^d}\n",
    "    \\left[1 - \\frac{\\epsilon_+}{\\sqrt{\\epsilon_+^2 + \\abs{\\Delta}^2}}\\right]\n",
    "  &&\\sim \\int_c\\frac{\\d^d{k}}{(2\\pi)^d}\\; \n",
    "  \\frac{2m^2\\abs{\\Delta}^2}{\\hbar^4 k^4}. \\tag{3}\\\\\n",
    "  \\kappa_c &=\\int_c\\frac{\\d^d{k}}{(2\\pi)^d}\\;\\left(\\frac{\\hbar^2\\tau_c}{2m} - \\Delta^\\dagger \\nu_c\\right) \n",
    "  &&\\sim \\int_c\\frac{\\d^d{k}}{(2\\pi)^d}\\;\\frac{2m^2\\abs{\\Delta}^2\\mu_{\\text{eff}}}{\\hbar^4 k^4},\\tag{4}\n",
    "\\end{align}"
   ]
  },
  {
   "cell_type": "markdown",
   "metadata": {},
   "source": [
    "The total kinetic energy is $\\tau_+=\\tau_a + \\tau_b$:"
   ]
  },
  {
   "cell_type": "markdown",
   "metadata": {},
   "source": [
    "$$\n",
    "\\tau_+ = \\int_c\\frac{\\d^d{k}}{(2\\pi)^d}((k+q)^2+(-k+q)^2)\\left[1 - \\frac{\\epsilon_+}{\\sqrt{\\epsilon_+^2 + \\abs{\\Delta}^2}}\\right]\\\\\n",
    "\\tau_+ = 2\\int_c\\frac{\\d^d{k}}{(2\\pi)^d}(k^2+q^2)\\left[1 - \\frac{\\epsilon_+}{\\sqrt{\\epsilon_+^2 + \\abs{\\Delta}^2}}\\right]\n",
    "$$"
   ]
  },
  {
   "cell_type": "markdown",
   "metadata": {},
   "source": [
    "## Inverse scattering length"
   ]
  },
  {
   "cell_type": "markdown",
   "metadata": {},
   "source": [
    "\\begin{align}\n",
    "\\frac{1}{v_0} \n",
    "  &=\\frac{m}{4\\pi\\hbar^2 a}- \\frac{1}{2} \\int_c\\frac{d^3k}{(2\\pi)^3}{\\frac{1}{\\frac{\\hbar^2k^2}{2m} + \\frac{\\hbar^2q^2}{2m} - \\mu_+}}\\\\\n",
    "   &=\\frac{m}{4\\pi\\hbar^2 a}- \\Lambda\\\\\n",
    "\\Lambda \n",
    "&= \\frac{1}{2} \\int_c\\frac{d^3k}{(2\\pi)^3}{\\frac{1}{\\frac{\\hbar^2k^2}{2m} + \\frac{\\hbar^2q^2}{2m} - \\mu_+}}\\\\\n",
    "&=\\frac{m}{\\hbar^2}\\frac{k_c}{2\\pi^2} \\left(1 - \\frac{k_0}{2k_c}\\ln\\frac{k_c+k_0}{k_c-k_0}\\right)\n",
    "\\end{align}\n",
    "where\n",
    "$$\n",
    "  \\frac{\\hbar^2k_0^2}{2m} - (\\mu_+ - \\frac{\\hbar^2q^2}{2m}) = 0, \\qquad\n",
    "  \\frac{\\hbar^2k_c^2}{2m} - (\\mu_+ - \\frac{\\hbar^2q^2}{2m})= E_c\n",
    "$$"
   ]
  },
  {
   "cell_type": "markdown",
   "metadata": {},
   "source": [
    "\\begin{align}\n",
    "\\frac{m}{4\\pi\\hbar^2}a(\\mu_+,\\mu_-,\\delta,q)^{-1} &=\\frac{1}{v_0}- \\frac{m}{\\hbar^2}\\frac{k_c}{2\\pi^2} \\left(1 - \\frac{k_0}{2k_c}\\ln\\frac{1+k_0/k_c}{1-k_0/k_c}\\right)\n",
    "\\end{align}\n",
    "where\n",
    "$$\n",
    "  \\frac{k_0}{k_c} = \\sqrt{\\frac{\\mu_+ - \\frac{\\hbar^2q^2}{2m}}{E_c + \\mu_+ - \\frac{\\hbar^2q^2}{2m}}}\n",
    "$$"
   ]
  },
  {
   "cell_type": "markdown",
   "metadata": {},
   "source": [
    "\n",
    "\\begin{align}\n",
    "\\frac{1}{v_0} &= \\frac{m}{4\\pi\\hbar^2}a(\\mu_+,\\mu_-,\\delta,q)^{-1} + \\frac{m}{\\hbar^2}\\frac{k_c}{2\\pi^2} \\left(1 - \\frac{k_0}{2k_c}\\ln\\frac{1+k_0/k_c}{1-k_0/k_c}\\right)\\\\\n",
    "\\frac{1}{\\Delta}\\nu_c &= \\frac{m}{4\\pi\\hbar^2}a(\\mu_+,\\mu_-,\\delta,q)^{-1} + \\frac{m}{\\hbar^2}\\frac{k_c}{2\\pi^2} \\left(1 - \\frac{k_0}{2k_c}\\ln\\frac{1+k_0/k_c}{1-k_0/k_c}\\right)\\\\\n",
    "\\end{align}"
   ]
  },
  {
   "cell_type": "markdown",
   "metadata": {},
   "source": [
    "Substituting the integral for $\\nu_c$ yields:"
   ]
  },
  {
   "cell_type": "markdown",
   "metadata": {},
   "source": [
    "\\begin{align}\n",
    "\\int_{c}\\frac{dk^3}{(2\\pi)^3}\\frac{1}{2\\sqrt{\\epsilon_+^2 + \\Delta^2}}\\left(f(\\omega_-)-f(\\omega_+)\\right) &= \\frac{m}{4\\pi\\hbar^2}a^{-1}(\\mu_+,\\mu_-,\\delta,q) + \\frac{m}{\\hbar^2}\\frac{k_c}{2\\pi^2} \\left(1 - \\frac{k_0}{2k_c}\\ln\\frac{1+k_0/k_c}{1-k_0/k_c}\\right)\\tag{5}\\\\\n",
    "\\end{align}"
   ]
  },
  {
   "cell_type": "markdown",
   "metadata": {},
   "source": [
    "## Pressure integral"
   ]
  },
  {
   "cell_type": "markdown",
   "metadata": {},
   "source": [
    "### The total energy density"
   ]
  },
  {
   "cell_type": "markdown",
   "metadata": {},
   "source": [
    "\\begin{align}\n",
    "\\mathcal{E} &= \\frac{E}{V}= \\frac{\\hbar^2\\tau_+}{2m} - g_c(n_an_b+\\nu_c^\\dagger\\nu_c) \\\\\n",
    "              &= \\frac{\\hbar^2\\tau_+}{2m} - \\Delta^\\dagger\\nu_c - \\frac{(\\mu_{\\text{eff}} - \\mu_0)n_+}{2}\\\\\n",
    "              &= - \\frac{(\\mu_{\\text{eff}} - \\mu_0)n_+}{2} +\\frac{\\hbar^2\\tau_+}{2m} - \\Delta^\\dagger\\nu_c \\\\\n",
    "              \\mathcal{E}&= \\frac{\\hbar^2}{2m}\\int_c\\frac{\\d^3{k}}{(2\\pi)^3}k^2\n",
    "    \\left[1 - \\frac{\\epsilon_+}{\\sqrt{\\epsilon_+^2 + \\abs{\\Delta}^2}}\\right] - \\Delta^\\dagger\\int_{c}\\frac{\\d^3{k}}{(2\\pi)^3}\\frac{\\Delta}{2\\sqrt{\\epsilon_+^2 + \\Delta^2}} - \\frac{(\\mu_{\\text{eff}} - \\mu_0)n_+}{2}\\\\\n",
    "    &= \\int_c\\frac{\\d^3{k}}{(2\\pi)^3}\n",
    "    \\left[\\frac{\\hbar^2k^2}{2m}\\left(1 - \\frac{\\epsilon_+}{\\sqrt{\\epsilon_+^2 + \\abs{\\Delta}^2}}\\right) - \\frac{\\Delta^2}{2\\sqrt{\\epsilon_+^2 + \\Delta^2}}\\right] - \\frac{(\\mu_{\\text{eff}} - \\mu_0)n_+}{2},\n",
    "\\end{align}"
   ]
  },
  {
   "cell_type": "markdown",
   "metadata": {},
   "source": [
    "### Grand Canonical Potential"
   ]
  },
  {
   "cell_type": "markdown",
   "metadata": {},
   "source": [
    "\\begin{align}\n",
    "P(q)&=\n",
    "\\mu_+n_+ + \\mu_-n_- - \\frac{(\\mu_{\\text{eff}} - \\mu_0)n_+}{2}-( \\frac{\\hbar^2\\tau_c}{2m} - \\Delta^\\dagger\\nu_c )\\\\\n",
    "&=\\mu_+n_+ + \\mu_- n_- - \\frac{(\\mu_{\\text{eff}} - \\mu_0)n_+}{2}- \\int_c\\frac{k_{\\perp}dk_{\\perp}dk_z}{(2\\pi)^2}\n",
    "\\left[\\frac{\\hbar^2(k_{\\perp}^2+(k_z+q)^2)}{2m}\\left(1 - \\frac{\\epsilon_+}{\\sqrt{\\epsilon_+^2 + \\abs{\\Delta}^2}}\\right) - \\frac{\\Delta^2}{2\\sqrt{\\epsilon_+^2 + \\Delta^2}}\\right]\\\\\n",
    "&=\\mu_+\\int_c\\frac{d^3k}{(2\\pi)^3}\\left(1 - \\frac{\\epsilon^+_k}{E_k}\\bigl(f(\\omega_-) - f(\\omega_+)\\bigr)\\right) + \\mu_- \\int\\frac{\\d^3{k}}{(2\\pi)^3}\\bigl(f(\\omega_+) - f(-\\omega_-)\\bigr) - \\int_c\\frac{k_{\\perp}dk_{\\perp}dk_z}{(2\\pi)^2}\n",
    "\\left[\\frac{\\hbar^2(k_{\\perp}^2+(k_z+q)^2)}{2m}\\left(1 - \\frac{\\epsilon_+}{\\sqrt{\\epsilon_+^2 + \\abs{\\Delta}^2}}\\right) - \\frac{\\Delta^2}{2\\sqrt{\\epsilon_+^2 + \\Delta^2}}\\right] \\\\\n",
    "&=\\int_c\\frac{d^3k}{(2\\pi)^3}\n",
    "\\left[\\mu_+\\left(1 - \\frac{\\epsilon^+_k}{E_k}\\bigl(f(\\omega_-) - f(\\omega_+)\\bigr)\\right) + \\mu_- \\bigl(f(\\omega_+) - f(-\\omega_-)\\bigr) - \\frac{\\hbar^2k^2}{2m}\\left(1 - \\frac{\\epsilon_+}{\\sqrt{\\epsilon_+^2 + \\abs{\\Delta}^2}}\\right) - \\frac{\\Delta^2}{2\\sqrt{\\epsilon_+^2 + \\Delta^2}}\\right]\\tag{6}\\\\  \n",
    "\\end{align}"
   ]
  },
  {
   "cell_type": "markdown",
   "metadata": {},
   "source": [
    "## Maximize $P(\\mu_+,\\mu_-,\\Delta,q)$\n",
    "For any given $\\mu s$ and scattering length, to maximize $P$ is equivalent to have $\\frac{\\partial P}{\\partial q} = 0$, and $q$ shows up in any $k_z$, so in any part of the equation depends on $k$:"
   ]
  },
  {
   "cell_type": "code",
   "execution_count": 9,
   "metadata": {},
   "outputs": [],
   "source": [
    "import FuldeFerrelState\n",
    "reload(FuldeFerrelState)\n",
    "from FuldeFerrelState import get_pressure,get_inv_scattering_len"
   ]
  },
  {
   "cell_type": "code",
   "execution_count": 10,
   "metadata": {},
   "outputs": [],
   "source": [
    "qs = np.linspace(0,10,10)\n",
    "np.random.seed(1)\n",
    "m, hbar, kF = 1 + np.random.random(3)\n",
    "eF = (hbar*kF)**2/2/m\n",
    "nF = kF**3/3/np.pi**2\n",
    "mu = 0.59060550703283853378393810185221521748413488992993*eF\n",
    "delta = 0.68640205206984016444108204356564421137062514068346*eF\n",
    "args = dict(mu_a=mu, mu_b=mu, delta=delta, m_a=m, m_b=m, hbar=hbar, T=0.0)"
   ]
  },
  {
   "cell_type": "code",
   "execution_count": 12,
   "metadata": {},
   "outputs": [
    {
     "name": "stderr",
     "output_type": "stream",
     "text": [
      "c:\\users\\chunde\\appdata\\local\\programs\\python\\python37\\lib\\site-packages\\scipy\\integrate\\quadpack.py:860: IntegrationWarning: The integral is probably divergent, or slowly convergent.\n",
      "  **opt)\n"
     ]
    },
    {
     "data": {
      "text/plain": [
       "[<matplotlib.lines.Line2D at 0x19648257ef0>]"
      ]
     },
     "execution_count": 12,
     "metadata": {},
     "output_type": "execute_result"
    },
    {
     "data": {
      "image/png": "[encoded data removed]",
      "text/plain": [
       "<Figure size 432x288 with 1 Axes>"
      ]
     },
     "metadata": {
      "needs_background": "light"
     },
     "output_type": "display_data"
    }
   ],
   "source": [
    "Es = np.linspace(1,1000,10)\n",
    "invas = [get_inv_scattering_len(mu_a = mu,mu_b=mu,delta=delta,m=m,T=0,q=0,Ec=Ec).n for Ec in Es]\n",
    "plt.plot(Es,invas)"
   ]
  },
  {
   "cell_type": "code",
   "execution_count": 4,
   "metadata": {
    "scrolled": true
   },
   "outputs": [
    {
     "name": "stderr",
     "output_type": "stream",
     "text": [
      "c:\\users\\chunde\\appdata\\local\\programs\\python\\python37\\lib\\site-packages\\scipy\\integrate\\quadpack.py:860: IntegrationWarning: The integral is probably divergent, or slowly convergent.\n",
      "  **opt)\n",
      "c:\\users\\chunde\\appdata\\local\\programs\\python\\python37\\lib\\site-packages\\scipy\\integrate\\quadpack.py:860: IntegrationWarning: The integral is probably divergent, or slowly convergent.\n",
      "  **opt)\n",
      "c:\\users\\chunde\\appdata\\local\\programs\\python\\python37\\lib\\site-packages\\scipy\\integrate\\quadpack.py:860: IntegrationWarning: The maximum number of subdivisions (50) has been achieved.\n",
      "  If increasing the limit yields no improvement it is advised to analyze \n",
      "  the integrand in order to determine the difficulties.  If the position of a \n",
      "  local difficulty can be determined (singularity, discontinuity) one will \n",
      "  probably gain from splitting up the interval and calling the integrator \n",
      "  on the subranges.  Perhaps a special-purpose integrator should be used.\n",
      "  **opt)\n",
      "c:\\users\\chunde\\appdata\\local\\programs\\python\\python37\\lib\\site-packages\\scipy\\integrate\\quadpack.py:860: IntegrationWarning: The maximum number of subdivisions (50) has been achieved.\n",
      "  If increasing the limit yields no improvement it is advised to analyze \n",
      "  the integrand in order to determine the difficulties.  If the position of a \n",
      "  local difficulty can be determined (singularity, discontinuity) one will \n",
      "  probably gain from splitting up the interval and calling the integrator \n",
      "  on the subranges.  Perhaps a special-purpose integrator should be used.\n",
      "  **opt)\n",
      "c:\\users\\chunde\\appdata\\local\\programs\\python\\python37\\lib\\site-packages\\scipy\\integrate\\quadpack.py:860: IntegrationWarning: The algorithm does not converge.  Roundoff error is detected\n",
      "  in the extrapolation table.  It is assumed that the requested tolerance\n",
      "  cannot be achieved, and that the returned result (if full_output = 1) is \n",
      "  the best which can be obtained.\n",
      "  **opt)\n",
      "c:\\users\\chunde\\appdata\\local\\programs\\python\\python37\\lib\\site-packages\\scipy\\integrate\\quadpack.py:860: IntegrationWarning: The integral is probably divergent, or slowly convergent.\n",
      "  **opt)\n",
      "c:\\users\\chunde\\appdata\\local\\programs\\python\\python37\\lib\\site-packages\\scipy\\integrate\\quadpack.py:860: IntegrationWarning: The occurrence of roundoff error is detected, which prevents \n",
      "  the requested tolerance from being achieved.  The error may be \n",
      "  underestimated.\n",
      "  **opt)\n",
      "E:\\Projects\\Physics\\quantum-fermion-theories\\quantum-turbulence\\FuldeFerrelState.py:23: RuntimeWarning: invalid value encountered in sqrt\n",
      "  k0_kc = np.sqrt(mu_eff/(Ec + mu_eff ))\n"
     ]
    }
   ],
   "source": [
    "ps = [get_pressure(mu_a = mu,mu_b=mu,delta=delta,m=m,T=0,q=q).n for q in qs]"
   ]
  },
  {
   "cell_type": "code",
   "execution_count": 5,
   "metadata": {},
   "outputs": [
    {
     "data": {
      "text/plain": [
       "[<matplotlib.lines.Line2D at 0x19646019518>]"
      ]
     },
     "execution_count": 5,
     "metadata": {},
     "output_type": "execute_result"
    },
    {
     "data": {
      "image/png": "[encoded data removed]",
      "text/plain": [
       "<Figure size 432x288 with 1 Axes>"
      ]
     },
     "metadata": {
      "needs_background": "light"
     },
     "output_type": "display_data"
    }
   ],
   "source": [
    "plt.plot(qs,ps)"
   ]
  },
  {
   "cell_type": "markdown",
   "metadata": {},
   "source": [
    "# Mixed states"
   ]
  },
  {
   "cell_type": "markdown",
   "metadata": {},
   "source": [
    "$$\n",
    "  \\mu = \\pdiff{\\mathcal{E}(n)}{n}, \\qquad\n",
    "  n = \\pdiff{P(\\mu)}{\\mu}, \\qquad\n",
    "  P = \\mu n - \\mathcal{E}, \\qquad\n",
    "  \\mathcal{E} = \\mu n - P,\\\\\n",
    "  \\mathcal{E}_1 = n^2, \\qquad\n",
    "  \\mathcal{E}_2 = 1 + (n-1)^2\\\\\n",
    "  \\mu_1 = 2n, \\qquad \\mu_2 = 2(n-1)\\\\\n",
    "  n_1 = \\mu/2, \\qquad n_2 = 1+\\mu/2\\\\\n",
    "  P_1 = \\frac{\\mu^2}{4}, \\qquad\n",
    "  P_2 = \\mu - 1 + \\frac{\\mu^2}{4}\n",
    "$$\n",
    "\n",
    "First order transition at $\\mu_c = 1$, $P=\\mu_c^2/4$, with $n \\in (\\mu/2, 1 + \\mu/2)$ and\n",
    "$\\mathcal{E} = \\mu_c n - \\mu_c^2/4$."
   ]
  },
  {
   "cell_type": "code",
   "execution_count": null,
   "metadata": {
    "scrolled": true
   },
   "outputs": [],
   "source": [
    "n = np.linspace(0,2,100)\n",
    "mu_c = 1\n",
    "E1 = n**2\n",
    "E2 = 1+(n-1)**2\n",
    "n_mix = np.linspace(mu_c/2, 1+mu_c/2, 100)\n",
    "E_mix = mu_c*n_mix - mu_c**2/4\n",
    "\n",
    "plt.subplot(121)\n",
    "plt.plot(n, E1, n, E2)\n",
    "plt.plot(n_mix, E_mix, '-k')\n",
    "plt.xlabel(r'$n$'); plt.ylabel(r'$\\mathcal{E}$');\n",
    "\n",
    "mu = np.linspace(0, 2, 100)\n",
    "P1 = mu**2/4\n",
    "P2 = mu**2/4 + mu - 1\n",
    "ax = plt.subplot(122); ax.yaxis.tick_right()\n",
    "plt.plot(mu, P1, mu, P2)\n",
    "plt.plot(mu, np.maximum(P1, P2), 'k')\n",
    "plt.xlabel(r'$\\mu$'); plt.ylabel('$P$');"
   ]
  },
  {
   "cell_type": "markdown",
   "metadata": {},
   "source": [
    "# FF States"
   ]
  },
  {
   "cell_type": "code",
   "execution_count": null,
   "metadata": {},
   "outputs": [],
   "source": [
    "Delta = 0.1\n",
    "k_z = np.linspace(0, 2, 100)\n",
    "k_perp = 0.9\n",
    "q = .0\n",
    "kF = 1.0\n",
    "\n",
    "dmu = 1.1*Delta\n",
    "E = np.sqrt(((k_z**2 + k_perp**2 + q**2)/2 - kF**2/2)**2 + Delta**2)\n",
    "Em = 2*q*k_z - dmu\n",
    "wp = Em + E\n",
    "wm = Em - E\n",
    "\n",
    "plt.plot(k_z, wp)\n",
    "plt.plot(k_z, wm)\n",
    "plt.axhline(0, ls=':', c='y')\n"
   ]
  },
  {
   "cell_type": "markdown",
   "metadata": {},
   "source": [
    "# Scattering length check in unitary case"
   ]
  },
  {
   "cell_type": "code",
   "execution_count": 13,
   "metadata": {},
   "outputs": [
    {
     "data": {
      "text/plain": [
       "(-1.1612441921652335e-05, -0.005083048096639066, 0.03377372788077926)"
      ]
     },
     "execution_count": 13,
     "metadata": {},
     "output_type": "execute_result"
    }
   ],
   "source": [
    "h3 = Homogeneous3D(T=0.0)\n",
    "k0 = 1.0\n",
    "mu = k0**2/2\n",
    "eF = mu/0.5906055\n",
    "kF = np.sqrt(2*eF)\n",
    "n_p = kF**3/3/np.pi**2\n",
    "mus_eff = (mu,)*2\n",
    "delta =  1.16220056*mus_eff[0]\n",
    "k_c = 10.0\n",
    "Lambda = h3.get_inverse_scattering_length(mus_eff=mus_eff, delta=delta, k_c=k_c)/4/np.pi\n",
    "Lambda, -k_c/2/np.pi**2*k0/2/k_c*np.log((k_c+k0)/(k_c-k0)),k0**3/3/np.pi**2 "
   ]
  },
  {
   "cell_type": "code",
   "execution_count": 14,
   "metadata": {},
   "outputs": [
    {
     "name": "stderr",
     "output_type": "stream",
     "text": [
      "E:\\Projects\\Physics\\quantum-fermion-theories\\quantum-turbulence\\homogeneous.py:259: RuntimeWarning: divide by zero encountered in double_scalars\n",
      "  *4*np.pi)\n"
     ]
    },
    {
     "data": {
      "text/plain": [
       "[<matplotlib.lines.Line2D at 0x1964929a470>]"
      ]
     },
     "execution_count": 14,
     "metadata": {},
     "output_type": "execute_result"
    },
    {
     "data": {
      "image/png": "[encoded data removed]",
      "text/plain": [
       "<Figure size 432x288 with 1 Axes>"
      ]
     },
     "metadata": {
      "needs_background": "light"
     },
     "output_type": "display_data"
    }
   ],
   "source": [
    "kc =np.linspace(1,20,20)\n",
    "plt.plot(kc,[h3.get_inverse_scattering_length(mus_eff=mus_eff, delta=delta, k_c=k)/4/np.pi for k in kc])"
   ]
  },
  {
   "cell_type": "code",
   "execution_count": 15,
   "metadata": {},
   "outputs": [
    {
     "data": {
      "text/plain": [
       "[<matplotlib.lines.Line2D at 0x1964822a278>]"
      ]
     },
     "execution_count": 15,
     "metadata": {},
     "output_type": "execute_result"
    },
    {
     "data": {
      "image/png": "[encoded data removed]",
      "text/plain": [
       "<Figure size 432x288 with 1 Axes>"
      ]
     },
     "metadata": {
      "needs_background": "light"
     },
     "output_type": "display_data"
    }
   ],
   "source": [
    "kc =np.linspace(20,200,20)\n",
    "plt.plot(kc,[h3.get_inverse_scattering_length(mus_eff=mus_eff, delta=delta, k_c=k)/4/np.pi for k in kc])"
   ]
  },
  {
   "cell_type": "code",
   "execution_count": null,
   "metadata": {},
   "outputs": [],
   "source": []
  }
 ],
 "metadata": {
  "kernelspec": {
   "display_name": "Python 3",
   "language": "python",
   "name": "python3"
  },
  "language_info": {
   "codemirror_mode": {
    "name": "ipython",
    "version": 3
   },
   "file_extension": ".py",
   "mimetype": "text/x-python",
   "name": "python",
   "nbconvert_exporter": "python",
   "pygments_lexer": "ipython3",
   "version": "3.7.2"
  },
  "toc": {
   "base_numbering": 1,
   "nav_menu": {},
   "number_sections": true,
   "sideBar": true,
   "skip_h1_title": false,
   "title_cell": "Table of Contents",
   "title_sidebar": "Contents",
   "toc_cell": false,
   "toc_position": {},
   "toc_section_display": true,
   "toc_window_display": false
  }
 },
 "nbformat": 4,
 "nbformat_minor": 2
}
