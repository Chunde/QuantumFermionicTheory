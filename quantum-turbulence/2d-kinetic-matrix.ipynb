{
 "cells": [
  {
   "cell_type": "code",
   "execution_count": null,
   "metadata": {},
   "outputs": [],
   "source": [
    "import mmf_setup;mmf_setup.nbinit(hgroot=False)\n",
    "from mmfutils.contexts import NoInterrupt\n",
    "from mmfutils.plot import imcontourf\n",
    "%pylab inline\n",
    "import numpy as np"
   ]
  },
  {
   "cell_type": "code",
   "execution_count": null,
   "metadata": {},
   "outputs": [],
   "source": [
    "def fft2(y):\n",
    "    return np.fft.fftn(y, axes=(0,1))           \n",
    "def ifft2(y):\n",
    "    return np.fft.ifftn(y, axes=(0,1))\n",
    "def f(x,y):\n",
    "    return np.sin(x + y)"
   ]
  },
  {
   "cell_type": "code",
   "execution_count": null,
   "metadata": {},
   "outputs": [],
   "source": [
    "N = 32\n",
    "L = 2*np.pi\n",
    "dx = L/N\n",
    "dy = dx\n",
    "x = np.linspace(0,L,N) - L/2\n",
    "y = np.linspace(0,L,N) - L/2\n",
    "xx, yy = np.meshgrid(x, y, indexing='ij', sparse=True)\n",
    "z = np.sin(xx + yy) # sin(x^2 + y^2)\n",
    "imcontourf(x,y,z)\n",
    "plt.plot(x,z[16])\n",
    "plt.colorbar()\n",
    "mat_shape = (N**2,)*2\n",
    "Nxy = (N, N)\n",
    "kxy = (2*np.pi * np.fft.fftfreq(N, dx)[:, None],\n",
    "       2*np.pi * np.fft.fftfreq(N, dy)[None, :])\n",
    "tensor_shape = (N,N,N,N)"
   ]
  },
  {
   "cell_type": "code",
   "execution_count": null,
   "metadata": {},
   "outputs": [],
   "source": [
    "nabla = np.eye(mat_shape[0]).reshape(tensor_shape)\n",
    "K = np.eye(mat_shape[0]).reshape(tensor_shape)\n",
    "D1 = ifft2(1j*sum(_k  for _k in kxy)[:, :,  None, None]\n",
    "           *fft2(nabla)).reshape((np.prod(Nxy),)*2).reshape(mat_shape)\n",
    "D2 = ifft2(sum(-_k**2 for _k in kxy)[:, :,  None, None]\n",
    "           *fft2(K)).reshape((np.prod(Nxy),)*2).reshape(mat_shape)"
   ]
  },
  {
   "cell_type": "code",
   "execution_count": null,
   "metadata": {},
   "outputs": [],
   "source": [
    "z1 = D1.dot(z.ravel()).reshape(N,N)\n",
    "imcontourf(x,y,z1.real)\n",
    "#plt.contourf(x, y, z1.real)\n",
    "#plt.plot(x,z1[32])\n",
    "plt.colorbar()"
   ]
  },
  {
   "cell_type": "code",
   "execution_count": null,
   "metadata": {},
   "outputs": [],
   "source": [
    "#z2 = (2*xx + 2 * yy) * np.cos(xx**2+yy**2)\n",
    "z2 = 2*np.sin(xx+yy)#np.cos(xx)*np.cos(yy)-np.sin(xx)*np.sin(yy)# (2*yy+2*xx)* np.cos(xx**2+yy**2)\n",
    "imcontourf(x,y,z2)\n",
    "#plt.plot(x,z2[32])\n",
    "plt.colorbar()"
   ]
  },
  {
   "cell_type": "code",
   "execution_count": null,
   "metadata": {},
   "outputs": [],
   "source": [
    "#z3 = D1.dot(z1.ravel()).reshape(N,N)\n",
    "z3 = D2.dot(z.ravel()).reshape(N,N)\n",
    "imcontourf(x,y,z3.real, vmin=-2.0, vmax=2.0)\n",
    "#plt.plot(x,z1[32])\n",
    "plt.colorbar()"
   ]
  },
  {
   "cell_type": "code",
   "execution_count": null,
   "metadata": {},
   "outputs": [],
   "source": [
    "#z2 = (2*xx + 2 * yy) * np.cos(xx**2+yy**2)\n",
    "z4 =-2*np.sin(xx+yy)#-2*(np.sin(xx)*np.cos(yy)+np.cos(xx)*np.sin(yy))#4*np.cos(xx**2 + yy**2) -4*(xx+yy)**2*np.sin(xx**2+yy**2)\n",
    "imcontourf(x,y,z4, vmin=-2.0, vmax=2.0)\n",
    "#plt.plot(x,z2[32])\n",
    "plt.colorbar()"
   ]
  },
  {
   "cell_type": "markdown",
   "metadata": {},
   "source": [
    "# MMF Notes"
   ]
  },
  {
   "cell_type": "markdown",
   "metadata": {},
   "source": [
    "Here is how one computes the second derivative with the FFT."
   ]
  },
  {
   "cell_type": "code",
   "execution_count": null,
   "metadata": {},
   "outputs": [],
   "source": [
    "from mmfutils.plot import imcontourf\n",
    "kx, ky = kxy\n",
    "z = np.sin(xx+yy)\n",
    "laplacian_z = np.fft.ifftn(-(kx**2+ky**2)*np.fft.fftn(z))\n",
    "\n",
    "plt.figure()\n",
    "imcontourf(x, y, laplacian_z.real, vmax=3, vmin=-3);plt.colorbar()\n",
    "\n",
    "plt.figure()\n",
    "imcontourf(x, y, -2*np.sin(xx+yy), vmax=3, vmin=-3);plt.colorbar()"
   ]
  }
 ],
 "metadata": {
  "kernelspec": {
   "display_name": "Python [conda env:_bdg]",
   "language": "python",
   "name": "conda-env-_bdg-py"
  },
  "language_info": {
   "codemirror_mode": {
    "name": "ipython",
    "version": 3
   },
   "file_extension": ".py",
   "mimetype": "text/x-python",
   "name": "python",
   "nbconvert_exporter": "python",
   "pygments_lexer": "ipython3",
   "version": "3.7.1"
  },
  "toc": {
   "base_numbering": 1,
   "nav_menu": {},
   "number_sections": true,
   "sideBar": true,
   "skip_h1_title": false,
   "title_cell": "Table of Contents",
   "title_sidebar": "Contents",
   "toc_cell": false,
   "toc_position": {},
   "toc_section_display": true,
   "toc_window_display": false
  }
 },
 "nbformat": 4,
 "nbformat_minor": 2
}
