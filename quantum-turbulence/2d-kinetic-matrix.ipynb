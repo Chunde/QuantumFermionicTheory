{
 "cells": [
  {
   "cell_type": "code",
   "execution_count": null,
   "metadata": {},
   "outputs": [],
   "source": [
    "import mmf_setup;mmf_setup.nbinit(hgroot=False)\n",
    "from mmfutils.contexts import NoInterrupt\n",
    "from mmfutils.plot import imcontourf\n",
    "%pylab inline\n",
    "import numpy as np"
   ]
  },
  {
   "cell_type": "code",
   "execution_count": null,
   "metadata": {},
   "outputs": [],
   "source": [
    "def fft2(y):\n",
    "    return np.fft.fftn(y, axes=(0,1))           \n",
    "def ifft2(y):\n",
    "    return np.fft.ifftn(y, axes=(0,1))\n",
    "def f(x,y):\n",
    "    return np.sin(x + y)"
   ]
  },
  {
   "cell_type": "code",
   "execution_count": null,
   "metadata": {},
   "outputs": [],
   "source": [
    "N = 32\n",
    "L = 2*np.pi\n",
    "dx = L/N\n",
    "dy = dx\n",
    "x = np.linspace(0,L,N) - L/2\n",
    "y = np.linspace(0,L,N) - L/2\n",
    "xx, yy = np.meshgrid(x, y, indexing='ij', sparse=True)\n",
    "z = np.sin(xx + yy) # sin(x^2 + y^2)\n",
    "imcontourf(x,y,z)\n",
    "plt.plot(x,z[16])\n",
    "plt.colorbar()\n",
    "mat_shape = (N**2,)*2\n",
    "Nxy = (N, N)\n",
    "kxy = (2*np.pi * np.fft.fftfreq(N, dx)[:, None],\n",
    "       2*np.pi * np.fft.fftfreq(N, dy)[None, :])\n",
    "tensor_shape = (N,N,N,N)"
   ]
  },
  {
   "cell_type": "code",
   "execution_count": null,
   "metadata": {},
   "outputs": [],
   "source": [
    "nabla = np.eye(mat_shape[0]).reshape(tensor_shape)\n",
    "K = np.eye(mat_shape[0]).reshape(tensor_shape)\n",
    "D1 = ifft2(1j*sum(_k  for _k in kxy)[:, :,  None, None]\n",
    "           *fft2(nabla)).reshape((np.prod(Nxy),)*2).reshape(mat_shape)\n",
    "D2 = ifft2(sum(-_k**2 for _k in kxy)[:, :,  None, None]\n",
    "           *fft2(K)).reshape((np.prod(Nxy),)*2).reshape(mat_shape)"
   ]
  },
  {
   "cell_type": "code",
   "execution_count": null,
   "metadata": {},
   "outputs": [],
   "source": [
    "z1 = D1.dot(z.ravel()).reshape(N,N)\n",
    "imcontourf(x,y,z1.real)\n",
    "#plt.contourf(x, y, z1.real)\n",
    "#plt.plot(x,z1[32])\n",
    "plt.colorbar()"
   ]
  },
  {
   "cell_type": "code",
   "execution_count": null,
   "metadata": {},
   "outputs": [],
   "source": [
    "#z2 = (2*xx + 2 * yy) * np.cos(xx**2+yy**2)\n",
    "z2 = 2*np.sin(xx+yy)#np.cos(xx)*np.cos(yy)-np.sin(xx)*np.sin(yy)# (2*yy+2*xx)* np.cos(xx**2+yy**2)\n",
    "imcontourf(x,y,z2)\n",
    "#plt.plot(x,z2[32])\n",
    "plt.colorbar()"
   ]
  },
  {
   "cell_type": "code",
   "execution_count": null,
   "metadata": {},
   "outputs": [],
   "source": [
    "#z3 = D1.dot(z1.ravel()).reshape(N,N)\n",
    "z3 = D2.dot(z.ravel()).reshape(N,N)\n",
    "imcontourf(x,y,z3.real, vmin=-2.0, vmax=2.0)\n",
    "#plt.plot(x,z1[32])\n",
    "plt.colorbar()"
   ]
  },
  {
   "cell_type": "code",
   "execution_count": null,
   "metadata": {},
   "outputs": [],
   "source": [
    "#z2 = (2*xx + 2 * yy) * np.cos(xx**2+yy**2)\n",
    "z4 =-2*np.sin(xx+yy)#-2*(np.sin(xx)*np.cos(yy)+np.cos(xx)*np.sin(yy))#4*np.cos(xx**2 + yy**2) -4*(xx+yy)**2*np.sin(xx**2+yy**2)\n",
    "imcontourf(x,y,z4, vmin=-2.0, vmax=2.0)\n",
    "#plt.plot(x,z2[32])\n",
    "plt.colorbar()"
   ]
  },
  {
   "cell_type": "markdown",
   "metadata": {},
   "source": [
    "# MMF Notes"
   ]
  },
  {
   "cell_type": "markdown",
   "metadata": {},
   "source": [
    "Here is how one computes the second derivative with the FFT."
   ]
  },
  {
   "cell_type": "code",
   "execution_count": null,
   "metadata": {},
   "outputs": [],
   "source": [
    "from mmfutils.plot import imcontourf\n",
    "kx, ky = kxy\n",
    "z = np.sin(xx+yy)\n",
    "laplacian_z = np.fft.ifftn(-(kx**2+ky**2)*np.fft.fftn(z))\n",
    "\n",
    "plt.figure()\n",
    "imcontourf(x, y, laplacian_z.real, vmax=3, vmin=-3);plt.colorbar()\n",
    "\n",
    "plt.figure()\n",
    "imcontourf(x, y, -2*np.sin(xx+yy), vmax=3, vmin=-3);plt.colorbar()"
   ]
  },
  {
   "cell_type": "markdown",
   "metadata": {},
   "source": [
    "## Test the modified kinetic density matrix"
   ]
  },
  {
   "cell_type": "code",
   "execution_count": null,
   "metadata": {},
   "outputs": [],
   "source": [
    "import numpy as np\n",
    "from scipy.integrate import quad\n",
    "from uncertainties import ufloat\n",
    "from importlib import reload  # Python 3.4+\n",
    "import numpy as np\n",
    "import homogeneous;reload(homogeneous)\n",
    "import vortex_2d_aslda;reload(vortex_2d_aslda)\n",
    "hbar = 1\n",
    "m = 1\n",
    "N = 32\n",
    "L = 6\n",
    "mu_eff = 1.0\n",
    "n = 1.0\n",
    "e_F = 1.0\n",
    "k_F = np.sqrt(2*m*e_F)\n",
    "n_F = k_F**3/3/np.pi**2\n",
    "E_FG = 2./3*n_F*e_F\n",
    "mu = 0.59060550703283853378393810185221521748413488992993*e_F\n",
    "delta = 0.68640205206984016444108204356564421137062514068346*e_F\n",
    "grid_size = N\n",
    "aslda = vortex_2d_aslda.ASLDA(Nxy=(grid_size,)*2)\n",
    "k_c = abs(aslda.kxy[0]).max()\n",
    "E_c = (aslda.hbar*k_c)**2/2/aslda.m\n",
    "aslda = vortex_2d_aslda.ASLDA(Nxy=(grid_size,)*2, Lxy=(L,)*2, E_c=E_c)\n",
    "dx = L/N\n",
    "dy = dx\n",
    "x = np.linspace(0,L,N) - L/2\n",
    "y = np.linspace(0,L,N) - L/2\n",
    "xx, yy = np.meshgrid(x, y, indexing='ij', sparse=True)"
   ]
  },
  {
   "cell_type": "code",
   "execution_count": null,
   "metadata": {},
   "outputs": [],
   "source": [
    "def get_D2(self, twist=(0,0)):\n",
    "        kxy = self.kxy\n",
    "        mat_shape = (np.prod(self.Nxy),)*2\n",
    "        tensor_shape = self.Nxy + self.Nxy\n",
    "        K = np.eye(mat_shape[0]).reshape(tensor_shape)\n",
    "        D2 = self.ifft2(sum(-_k**2 for _k in self.kxy)[:, :,  None, None]*self.fft2(K)).reshape((np.prod(self.Nxy),)*2).reshape(mat_shape)\n",
    "        return D2\n",
    "def get_modified_K(self, D2,alpha):\n",
    "        \"\"\"\"return a modified kinetic density  matrix\"\"\"\n",
    "        A = np.diag(alpha.ravel())\n",
    "        K = (D2.dot(A) - np.diag(D2.dot(alpha.ravel())) + A.dot(D2)) / 2\n",
    "        return K\n",
    "    "
   ]
  },
  {
   "cell_type": "markdown",
   "metadata": {},
   "source": [
    "### Analytic Results\n",
    "\n",
    "We use a simple functions\n",
    "\n",
    "$$\n",
    "\\alpha =  sin(x + y) \\\\\n",
    "\\psi(x,y) = cos(x^2 + y^2)\n",
    "$$\n",
    "their first and second order derivatives are:\n",
    "$$\n",
    "\\frac{\\partial \\alpha}{\\partial x}=cos(x+y)\\\\\n",
    "\\frac{\\partial \\alpha}{\\partial y}=cos(x+y)\\\\\n",
    "\\frac{\\partial \\psi}{\\partial x}=-2 x .sin(x^2+y^2)\\\\\n",
    "\\frac{\\partial \\psi}{\\partial y}=-2 y .sin(x^2+y^2)\\\\\n",
    "\\frac{\\partial^2 \\psi}{\\partial x^2}=-2 .sin(x^2+y^2) -4x^2cos(x^2 + y^2)\\\\\n",
    "\\frac{\\partial^2 \\psi}{\\partial y^2}=-2 .sin(x^2+y^2) -4y^2cos(x^2 + y^2)\\\\\n",
    "$$"
   ]
  },
  {
   "cell_type": "markdown",
   "metadata": {},
   "source": [
    "The relation we use is:\n",
    "\\begin{align}\n",
    "(\\alpha \\psi')'&=\\alpha'\\psi' + \\alpha \\psi'' \\\\\n",
    "(\\alpha \\psi)''&=(\\alpha'\\psi+\\alpha\\psi')'\\\\\n",
    "&=(\\alpha''\\psi+\\alpha\\psi''+2\\alpha'\\psi')\\\\\n",
    "\\alpha'\\psi'&=\\frac{(\\alpha\\psi)'' -\\alpha''\\psi-\\alpha\\psi''}{2}\\\\\n",
    "so\\\\\n",
    "(\\alpha\\psi')'&=\\frac{(\\alpha\\psi)''-\\alpha''\\psi+\\alpha\\psi''}{2}\n",
    "\\end{align}\n",
    "\n",
    "In the follow code, I use letter 'a' instead of $\\alpha$"
   ]
  },
  {
   "cell_type": "code",
   "execution_count": null,
   "metadata": {},
   "outputs": [],
   "source": [
    "a = np.sin(xx+yy) #np.ones((N,N)) #\n",
    "da_x =  np.cos(xx+yy) #0\n",
    "da_y = da_x #0"
   ]
  },
  {
   "cell_type": "code",
   "execution_count": null,
   "metadata": {},
   "outputs": [],
   "source": [
    "f = np.cos(xx**2 + yy**2)\n",
    "df_x = -2 * xx * np.sin(xx**2 + yy**2)\n",
    "df_y = -2 * yy * np.sin(xx**2 + yy**2)\n",
    "df_xx = -2 * np.sin(xx**2 + yy**2) -4 * xx**2 * np.cos(xx**2 + yy**2)\n",
    "df_yy = -2 * np.sin(xx**2 + yy**2) -4 * yy**2 * np.cos(xx**2 + yy**2)"
   ]
  },
  {
   "cell_type": "code",
   "execution_count": null,
   "metadata": {
    "scrolled": true
   },
   "outputs": [],
   "source": [
    "z = (da_x * df_x + da_y * df_y) + a * (df_xx + df_yy)\n",
    "imcontourf(x,y,z)\n",
    "plt.colorbar()"
   ]
  },
  {
   "cell_type": "markdown",
   "metadata": {},
   "source": [
    "### Numerical Results"
   ]
  },
  {
   "cell_type": "code",
   "execution_count": null,
   "metadata": {},
   "outputs": [],
   "source": [
    "D2 = aslda.get_D2()\n",
    "K = aslda.get_modified_K(D2=D2, alpha=a)\n",
    "z1 = K.dot(f.ravel()).reshape((N,N))\n",
    "imcontourf(x,y,z1.real, vmax=z.max(), vmin=z.min())\n",
    "plt.colorbar()"
   ]
  },
  {
   "cell_type": "markdown",
   "metadata": {},
   "source": [
    "It seems there is a factor off?\n",
    "\n",
    "To figure out the problem, we set a = 1, and then D2 = K, I get what is expected: the results are unchanged. But if I compare that to the results directly to the D2_(as follow), I comfirm again the D2_ works correctly, so the D2 should have some problem, the code for D2 and D2_ are the same, with the help of debugging, I find the Kxy for D2 is different from D2_, and a bit trace back, the problem is that when I create ASLDA object, the Lxy did not set to the $2\\pi$."
   ]
  },
  {
   "cell_type": "code",
   "execution_count": null,
   "metadata": {},
   "outputs": [],
   "source": [
    "mat_shape = (N**2,)*2\n",
    "Nxy = (N, N)\n",
    "kxy = (2*np.pi * np.fft.fftfreq(N, dx)[:, None],\n",
    "       2*np.pi * np.fft.fftfreq(N, dy)[None, :])\n",
    "tensor_shape = (N,N,N,N)\n",
    "K_ = np.eye(mat_shape[0]).reshape(tensor_shape)\n",
    "D2_ = ifft2(sum(-_k**2 for _k in kxy)[:, :,  None, None]\n",
    "           *fft2(K_)).reshape((np.prod(Nxy),)*2).reshape(mat_shape)"
   ]
  },
  {
   "cell_type": "code",
   "execution_count": null,
   "metadata": {},
   "outputs": [],
   "source": [
    "z3 = D2_.dot(f.ravel()).reshape((N,N))\n",
    "imcontourf(x,y,z3.real, vmax=z.max(), vmin=z.min())\n",
    "plt.colorbar()"
   ]
  },
  {
   "cell_type": "code",
   "execution_count": null,
   "metadata": {},
   "outputs": [],
   "source": [
    "dx,np.pi * 2 / 32"
   ]
  },
  {
   "cell_type": "code",
   "execution_count": null,
   "metadata": {},
   "outputs": [],
   "source": []
  },
  {
   "cell_type": "code",
   "execution_count": null,
   "metadata": {},
   "outputs": [],
   "source": []
  }
 ],
 "metadata": {
  "kernelspec": {
   "display_name": "Python 3",
   "language": "python",
   "name": "python3"
  },
  "language_info": {
   "codemirror_mode": {
    "name": "ipython",
    "version": 3
   },
   "file_extension": ".py",
   "mimetype": "text/x-python",
   "name": "python",
   "nbconvert_exporter": "python",
   "pygments_lexer": "ipython3",
   "version": "3.6.4"
  },
  "toc": {
   "base_numbering": 1,
   "nav_menu": {},
   "number_sections": true,
   "sideBar": true,
   "skip_h1_title": false,
   "title_cell": "Table of Contents",
   "title_sidebar": "Contents",
   "toc_cell": false,
   "toc_position": {},
   "toc_section_display": true,
   "toc_window_display": false
  }
 },
 "nbformat": 4,
 "nbformat_minor": 2
}
