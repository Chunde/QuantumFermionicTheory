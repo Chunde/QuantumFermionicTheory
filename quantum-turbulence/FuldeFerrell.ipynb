{
 "cells": [
  {
   "cell_type": "code",
   "execution_count": null,
   "metadata": {},
   "outputs": [],
   "source": [
    "import mmf_setup;mmf_setup.nbinit(hgroot=False)\n",
    "from mmfutils.contexts import NoInterrupt\n",
    "try: from importlib import reload\n",
    "except ImportError: pass\n",
    "%pylab inline"
   ]
  },
  {
   "cell_type": "markdown",
   "metadata": {},
   "source": [
    "# Fulde-Ferrell (FF) States"
   ]
  },
  {
   "cell_type": "markdown",
   "metadata": {},
   "source": [
    "Here we work through some details about the Fulde Ferrell state.  The corresponding code is in the following files:\n",
    "\n",
    "* [`tf_completion.py`](tf_completion.py)\n",
    "* [`fulde_ferrell.py`](fulde_ferrell.py)\n"
   ]
  },
  {
   "cell_type": "markdown",
   "metadata": {},
   "source": [
    "The first file contains all the integrals:\n",
    "\n",
    "* `n_p_integrand`:\n",
    "\n",
    "  $$\n",
    "    \\newcommand{\\E}{\\mathcal{E}}\\newcommand{\\e}{\\epsilon}\n",
    "    \\int \\frac{\\d^d{k}}{(2\\pi)^d}\\; \\left(1 - \\frac{\\e_+}{E}\\bigl(f_\\beta(\\omega_-) - f_\\beta(\\omega_+)\\bigr)\\right)\n",
    "  $$"
   ]
  },
  {
   "cell_type": "markdown",
   "metadata": {},
   "source": [
    "The idea of the FF state is that the gap has a form $\\Delta(z) = e^{\\I q z}\\Delta$.  By rotating the basis, we can absorb the $q$ into the kinetic energy:\n",
    "\n",
    "$$\n",
    "  \\mat{M} = \\begin{pmatrix}\n",
    "    \\frac{\\hbar^2[(k_z-q)^2 + k_\\perp^2]}{2m_a} - \\mu_a & \\Delta\\\\\n",
    "    \\Delta & -\\left(\\frac{\\hbar^2[(k_z+q)^2 + k_\\perp^2]}{2m_b} - \\mu_b\\right)\n",
    "  \\end{pmatrix}.\n",
    "$$\n",
    "\n",
    "The eigenvalues $\\omega_{\\pm}$ are zero when:\n",
    "\n",
    "$$\n",
    "  m_a = m_b = m, \\qquad k^2 = k_z^2 + k_\\perp^2, \\qquad\n",
    "  \\e_{\\pm} = \\frac{\\e_a \\pm \\e_b}{2}, \\\\\n",
    "  \\omega_{\\pm} = \\e_- \\pm \\sqrt{\\e_+^2 + \\abs{\\Delta}^2} = 0 \\quad \n",
    "  \\Rightarrow \\quad \\e_{-}^2 = \\e_+^2 + \\abs{\\Delta}^2,\\\\\n",
    "  \\e_+ = \\frac{\\hbar^2k^2}{2m} - \\overbrace{\\left(\\mu_+ - \\frac{\\hbar^2q^2}{2m}\\right)}^{\\mu_q},\\qquad\n",
    "  \\e_- = \\frac{qk_z\\hbar^2}{m} - \\mu_-,\\\\\n",
    "  k_\\perp^2 = -k_z^2 + \\frac{2m}{\\hbar^2}\\left(\\mu_q \\pm \\sqrt{\\left(\\frac{qk_z\\hbar^2}{m} - \\mu_-\\right)^2 - \\abs{\\Delta}^2}\\right).\n",
    "$$\n",
    "\n",
    "All the real parts of this equation can be used as `points` for accurate integration."
   ]
  },
  {
   "cell_type": "markdown",
   "metadata": {},
   "source": [
    "## Momentum Integrals"
   ]
  },
  {
   "cell_type": "markdown",
   "metadata": {},
   "source": [
    "To regulate the theory, we will need to compute integrals up to a cubic cutoff $k < k_c$.  We shall assume in the code that $k_c$ is much larger than any of these `points`."
   ]
  },
  {
   "cell_type": "markdown",
   "metadata": {},
   "source": [
    "## Gap Equation"
   ]
  },
  {
   "cell_type": "markdown",
   "metadata": {},
   "source": [
    "Our code takes as inputs: ($\\mu_+$, $\\mu_-$, $q$, $\\Delta$, $T$).  From these, we can compute $\\mat{M}$ and integrate all of the states up to $k_c$ or beyond.  The gap equation has the form:\n",
    "\n",
    "$$\n",
    "  \\tilde{C} = \\frac{-\\nu_c}{\\Delta} + \\Lambda_c = \\frac{m}{4\\pi \\hbar^2 a_s}\\\\\n",
    "  = \\lim_{k_c\\rightarrow \\infty}\n",
    "  \\left(\n",
    "    - \\int_{k<k_c}\\frac{\\d^d{k}}{(2\\pi)^d}\\;\n",
    "    \\frac{f_\\beta(\\omega_-) - f_\\beta(\\omega_+)}{2\\sqrt{\\e_+^2 + \\Delta^2}}\n",
    "    +\n",
    "    \\overbrace{\\frac{1}{2} \\int_{k<k_c}\\frac{\\d^d{k}}{(2\\pi)^d}\\;\\frac{1}{\\e_+ + \\I 0^+}}^{\\Lambda_c}\n",
    "  \\right)\n",
    "$$\n",
    "\n",
    "*Note: Computing this is a bit tricky. Numerically one cannot easily integrated the entire expression because of the poles at $\\epsilon_+ = 0$, however, the second integral can be computed analytically for finite $k_c$.  Thus, the computation of this term can proceed as follows, which is done in the function `compute_C()`:*\n",
    "\n",
    "$$\n",
    "  \\tilde{C} = \n",
    "    - \\int_{k<k_c}\\frac{\\d^d{k}}{(2\\pi)^d}\\;\n",
    "    \\frac{f_\\beta(\\omega_-) - f_\\beta(\\omega_+)}{2\\sqrt{\\e_+^2 + \\Delta^2}}\n",
    "  + \\Lambda_c(\\mu_q)\n",
    "  +  \\int_{k\\geq k_c}\\frac{\\d^d{k}}{(2\\pi)^d}\\;\\left(\n",
    "    -\\frac{f_\\beta(\\omega_-) - f_\\beta(\\omega_+)}{2\\sqrt{\\e_+^2 + \\Delta^2}}\n",
    "    + \\frac{1}{2\\e_+}\n",
    "  \\right).\n",
    "$$\n",
    "\n",
    "A physical theory holds $\\tilde{C}$ fixed (or as a predefined function of densities).  Thus, this equation must be solved to figure out $\\Delta$.  In the unitary limit, $\\tilde{C} = 0$.  Solving this equation is tricky, because the rhs might not even be monotonic.  There might also only be the single solution $\\Delta = 0$.\n",
    "\n",
    "\n",
    "\n",
    "As a result, one can construct states by fixing $\\Delta$ and then computing the interaction at which that state is self-consistent."
   ]
  },
  {
   "cell_type": "code",
   "execution_count": null,
   "metadata": {},
   "outputs": [],
   "source": [
    "import numpy as np\n",
    "import tf_completion as tf;reload(tf)\n",
    "\n",
    "np.random.seed(1)\n",
    "m, hbar, kF = 1 + np.random.random(3)\n",
    "eF = (hbar*kF)**2/2/m\n",
    "nF = kF**3/3/np.pi**2\n",
    "mu = 0.59060550703283853378393810185221521748413488992993*eF\n",
    "delta = 0.68640205206984016444108204356564421137062514068346*eF\n",
    "\n",
    "dmu = 0.5*delta\n",
    "args0 = dict(mu_a=mu+dmu, mu_b=mu-dmu, delta=delta, m_a=m, m_b=m, \n",
    "             hbar=hbar, d=3, T=0.0)\n",
    "\n",
    "# Make a FF state with q\n",
    "k_c = 10*kF\n",
    "q = -0.8*kF\n",
    "args = dict(args0, q=q, k_c=k_c)\n",
    "tf.compute_C(**args), tf.integrate_q(tf.n_m_integrand, **args)\n"
   ]
  },
  {
   "cell_type": "code",
   "execution_count": null,
   "metadata": {},
   "outputs": [],
   "source": [
    "from mmfutils.plot import imcontourf\n",
    "kz = np.linspace(-2, 2, 100)[:, None]\n",
    "kp = np.linspace(-2, 2, 100)[None, :]\n",
    "e = hbar**2/2/m\n",
    "e_a = e*((kz-q)**2 + kp**2) - args['mu_a']\n",
    "e_b = e*((kz+q)**2 + kp**2) - args['mu_b']\n",
    "e_p, e_m = (e_a + e_b)/2, (e_a - e_b)/2\n",
    "E = np.sqrt(e_p**2+abs(delta)**2)\n",
    "w_p, w_m = e_m + E, e_m - E\n",
    "plt.figure(figsize=(10,5))\n",
    "plt.subplot(121)\n",
    "imcontourf(kz, kp, np.sign(w_p), vmin=-1, vmax=1);plt.colorbar()\n",
    "plt.subplot(122)\n",
    "imcontourf(kz, kp, np.sign(w_m), vmin=-1, vmax=1);plt.colorbar()"
   ]
  },
  {
   "cell_type": "code",
   "execution_count": null,
   "metadata": {},
   "outputs": [],
   "source": [
    "ss = np.linspace(-2, 2, 50)\n",
    "res = []\n",
    "for s in ss:\n",
    "    dmu = s*delta\n",
    "    mu_a, mu_b = mu + dmu, mu - dmu\n",
    "    args = dict(args0, mu_a=mu_a, mu_b=mu_b)\n",
    "    n_p = tf.integrate(tf.n_p_integrand, **args)\n",
    "    n_m = tf.integrate(tf.n_m_integrand, **args)\n",
    "    res.append((n_p.n, n_m.n))\n",
    "\n",
    "res = np.asarray(res)\n",
    "plt.plot(ss, res);plt.xlabel('dmu/delta');plt.ylabel('n')"
   ]
  },
  {
   "cell_type": "code",
   "execution_count": null,
   "metadata": {},
   "outputs": [],
   "source": [
    "from scipy.optimize import brentq\n",
    "def get_delta(dmu=0, q=0, debug=False, **kw):\n",
    "    def f(delta):        \n",
    "        args = dict(args0, m=args0['m_a'])\n",
    "        [args.pop(_k, None) for _k in ['m_a', 'm_b']]\n",
    "        args['mu_a'], args['mu_b'] = mu + dmu, mu - dmu\n",
    "        args.update(kw)        \n",
    "        args['delta'] = delta\n",
    "        C = tf.compute_C(q=q, **args)\n",
    "        return C.n\n",
    "    if debug:\n",
    "        return f\n",
    "    return brentq(f, 0.5, 1.0)\n",
    "\n",
    "get_delta(dmu=0.5*delta, q=0), delta"
   ]
  },
  {
   "cell_type": "code",
   "execution_count": null,
   "metadata": {},
   "outputs": [],
   "source": [
    "f = get_delta(dmu=0.2*delta, q=0.5, debug=True)\n",
    "\n",
    "ss = np.linspace(0.3, 1.1, 20)\n",
    "plt.plot(ss, [f(s) for s in ss])\n"
   ]
  },
  {
   "cell_type": "code",
   "execution_count": null,
   "metadata": {},
   "outputs": [],
   "source": [
    "from scipy.optimize import brentq\n",
    "def get_delta(dmu=0, q=0, debug=False, **kw):\n",
    "    def f(delta):         \n",
    "        args = dict(args0)\n",
    "        args['mu_a'], args['mu_b'] = mu + dmu, mu - dmu\n",
    "        args.update(kw)        \n",
    "        args['delta'] = delta\n",
    "        C = tf.integrate(tf.C_integrand, k_c=10.0, **args)\n",
    "        return C.n\n",
    "    if debug:\n",
    "        return f\n",
    "    return brentq(f, 0.0, 1.0)\n",
    "\n",
    "ss = np.linspace(0.3, 1.1, 20)\n",
    "res = []\n",
    "for s in ss:\n",
    "    f = get_delta(dmu=s*delta, debug=True)\n",
    "    res.append(f(0.001))\n",
    "plt.plot(ss, res);plt.xlabel('dmu/delta');plt.ylabel('C(0)')"
   ]
  },
  {
   "cell_type": "code",
   "execution_count": null,
   "metadata": {},
   "outputs": [],
   "source": [
    "from scipy.optimize import brentq\n",
    "def get_delta(dmu=0, q=0, debug=False, **kw):\n",
    "    def f(delta):        \n",
    "        args = dict(args0, m=args0['m_a'])\n",
    "        [args.pop(_k, None) for _k in ['m_a', 'm_b']]\n",
    "        args['mu_a'], args['mu_b'] = mu + dmu, mu - dmu\n",
    "        args.update(kw)        \n",
    "        args['delta'] = delta\n",
    "        C = tf.compute_C(**args)\n",
    "        return C.n\n",
    "    if debug:\n",
    "        return f\n",
    "    return brentq(f, 0.0, 1.0)\n",
    "\n",
    "ss = np.linspace(0.3, 1.1, 20)\n",
    "res = []\n",
    "for s in ss:\n",
    "    f = get_delta(dmu=s*delta, debug=True)\n",
    "    res.append(f(delta))\n",
    "plt.plot(ss, res);plt.xlabel('dmu/delta');plt.ylabel('C(0)')"
   ]
  },
  {
   "cell_type": "code",
   "execution_count": null,
   "metadata": {},
   "outputs": [],
   "source": [
    "ss = np.linspace(-4, 4, 100)\n",
    "res = []\n",
    "for s in ss:\n",
    "    args = dict(args0, m=m, delta=s*delta)\n",
    "    del args['m_a'], args['m_b']\n",
    "    \n",
    "    C = tf.compute_C(**args)\n",
    "    res.append(C.n)\n",
    "\n",
    "res = np.asarray(res)\n",
    "plt.plot(ss*delta, res);plt.xlabel('delta');plt.ylabel('C')"
   ]
  },
  {
   "cell_type": "code",
   "execution_count": null,
   "metadata": {},
   "outputs": [],
   "source": []
  },
  {
   "cell_type": "markdown",
   "metadata": {},
   "source": [
    "# To Do"
   ]
  },
  {
   "cell_type": "markdown",
   "metadata": {},
   "source": [
    "* Check speed of `dblquad` vs nested calls to `quad`."
   ]
  },
  {
   "cell_type": "code",
   "execution_count": null,
   "metadata": {},
   "outputs": [],
   "source": []
  }
 ],
 "metadata": {
  "kernelspec": {
   "display_name": "Python [conda env:work3]",
   "language": "python",
   "name": "conda-env-work3-py"
  },
  "language_info": {
   "codemirror_mode": {
    "name": "ipython",
    "version": 3
   },
   "file_extension": ".py",
   "mimetype": "text/x-python",
   "name": "python",
   "nbconvert_exporter": "python",
   "pygments_lexer": "ipython3",
   "version": "3.7.1"
  },
  "toc": {
   "base_numbering": 1,
   "nav_menu": {},
   "number_sections": true,
   "sideBar": true,
   "skip_h1_title": false,
   "title_cell": "Table of Contents",
   "title_sidebar": "Contents",
   "toc_cell": false,
   "toc_position": {},
   "toc_section_display": true,
   "toc_window_display": true
  }
 },
 "nbformat": 4,
 "nbformat_minor": 2
}
