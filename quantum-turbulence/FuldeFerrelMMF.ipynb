{
 "cells": [
  {
   "cell_type": "code",
   "execution_count": null,
   "metadata": {},
   "outputs": [],
   "source": [
    "import mmf_setup;mmf_setup.nbinit(hgroot=False)\n",
    "from mmfutils.contexts import NoInterrupt\n",
    "try: from importlib import reload\n",
    "except ImportError: pass\n",
    "%pylab inline"
   ]
  },
  {
   "cell_type": "markdown",
   "metadata": {},
   "source": [
    "# Fulde-Ferrel (FF) States"
   ]
  },
  {
   "cell_type": "code",
   "execution_count": null,
   "metadata": {},
   "outputs": [],
   "source": [
    "import numpy as np\n",
    "import tf_completion as tf\n",
    "\n",
    "np.random.seed(1)\n",
    "m, hbar, kF = 1 + np.random.random(3)\n",
    "eF = (hbar*kF)**2/2/m\n",
    "nF = kF**3/3/np.pi**2\n",
    "mu = 0.59060550703283853378393810185221521748413488992993*eF\n",
    "delta = 0.68640205206984016444108204356564421137062514068346*eF\n",
    "args0 = dict(mu_a=mu, mu_b=mu, delta=delta, m_a=m, m_b=m, \n",
    "             hbar=hbar, d=3, T=0.0)\n",
    "\n",
    "ss = np.linspace(-2, 2, 50)\n",
    "res = []\n",
    "for s in ss:\n",
    "    dmu = s*delta\n",
    "    mu_a, mu_b = mu + dmu, mu - dmu\n",
    "    args = dict(args0, mu_a=mu_a, mu_b=mu_b)\n",
    "    n_p = tf.integrate(tf.n_p_integrand, **args)\n",
    "    n_m = tf.integrate(tf.n_m_integrand, **args)\n",
    "    res.append((n_p.n, n_m.n))\n",
    "\n",
    "res = np.asarray(res)\n",
    "plt.plot(ss, res);plt.xlabel('dmu/delta');plt.ylabel('n')"
   ]
  },
  {
   "cell_type": "code",
   "execution_count": null,
   "metadata": {},
   "outputs": [],
   "source": [
    "from scipy.optimize import brentq\n",
    "def get_delta(dmu=0, q=0, debug=False, **kw):\n",
    "    def f(delta):        \n",
    "        args = dict(args0)\n",
    "        args['mu_a'], args['mu_b'] = mu + dmu, mu - dmu\n",
    "        args.update(kw)        \n",
    "        args['delta'] = delta\n",
    "        C = tf.integrate(tf.C_integrand, k_c=10.0, **args)\n",
    "        return C.n\n",
    "    if debug:\n",
    "        return f\n",
    "    return brentq(f, 0.0, 1.0)\n",
    "\n",
    "ss = np.linspace(0.3, 1.1, 20)\n",
    "res = []\n",
    "for s in ss:\n",
    "    f = get_delta(dmu=s*delta, debug=True)\n",
    "    res.append(f(0.001))\n",
    "plt.plot(ss, res);plt.xlabel('dmu/delta');plt.ylabel('C(0)')"
   ]
  },
  {
   "cell_type": "code",
   "execution_count": null,
   "metadata": {},
   "outputs": [],
   "source": [
    "from scipy.optimize import brentq\n",
    "def get_delta(dmu=0, q=0, debug=False, **kw):\n",
    "    def f(delta):        \n",
    "        args = dict(args0, m=args0['m_a'])\n",
    "        [args.pop(_k, None) for _k in ['m_a', 'm_b']]\n",
    "        args['mu_a'], args['mu_b'] = mu + dmu, mu - dmu\n",
    "        args.update(kw)        \n",
    "        args['delta'] = delta\n",
    "        C = tf.compute_C(**args)\n",
    "        return C.n\n",
    "    if debug:\n",
    "        return f\n",
    "    return brentq(f, 0.0, 1.0)\n",
    "\n",
    "ss = np.linspace(0.3, 1.1, 20)\n",
    "res = []\n",
    "for s in ss:\n",
    "    f = get_delta(dmu=s*delta, debug=True)\n",
    "    res.append(f(0.001))\n",
    "plt.plot(ss, res);plt.xlabel('dmu/delta');plt.ylabel('C(0)')"
   ]
  },
  {
   "cell_type": "code",
   "execution_count": null,
   "metadata": {},
   "outputs": [],
   "source": [
    "ss = np.linspace(-4, 4, 100)\n",
    "res = []\n",
    "for s in ss:\n",
    "    args = dict(args0, m=m, delta=s*delta)\n",
    "    del args['m_a'], args['m_b']\n",
    "    \n",
    "    C = tf.compute_C(**args)\n",
    "    res.append(C.n)\n",
    "\n",
    "res = np.asarray(res)\n",
    "plt.plot(ss*delta, res);plt.xlabel('delta');plt.ylabel('C')"
   ]
  },
  {
   "cell_type": "code",
   "execution_count": null,
   "metadata": {},
   "outputs": [],
   "source": []
  }
 ],
 "metadata": {
  "kernelspec": {
   "display_name": "Python [conda env:work3]",
   "language": "python",
   "name": "conda-env-work3-py"
  },
  "language_info": {
   "codemirror_mode": {
    "name": "ipython",
    "version": 3
   },
   "file_extension": ".py",
   "mimetype": "text/x-python",
   "name": "python",
   "nbconvert_exporter": "python",
   "pygments_lexer": "ipython3",
   "version": "3.7.1"
  },
  "toc": {
   "base_numbering": 1,
   "nav_menu": {},
   "number_sections": true,
   "sideBar": true,
   "skip_h1_title": false,
   "title_cell": "Table of Contents",
   "title_sidebar": "Contents",
   "toc_cell": false,
   "toc_position": {},
   "toc_section_display": true,
   "toc_window_display": false
  }
 },
 "nbformat": 4,
 "nbformat_minor": 2
}
