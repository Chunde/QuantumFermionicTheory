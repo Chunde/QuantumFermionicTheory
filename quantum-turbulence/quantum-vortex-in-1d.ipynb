{
 "cells": [
  {
   "cell_type": "markdown",
   "metadata": {},
   "source": [
    "# Homogenous Quantum Turbulence\n",
    "Here I am trying to implement a simple mode of quantum vertex based on my very imcomplete understanding and poor insight."
   ]
  },
  {
   "cell_type": "code",
   "execution_count": 114,
   "metadata": {},
   "outputs": [
    {
     "data": {
      "text/html": [
       "<style>.grade {\n",
       "   background-color: #66FFCC;\n",
       "}\n",
       "</style>"
      ],
      "text/plain": [
       "<IPython.core.display.HTML object>"
      ]
     },
     "metadata": {},
     "output_type": "display_data"
    },
    {
     "data": {
      "application/javascript": [],
      "text/plain": [
       "<IPython.core.display.Javascript object>"
      ]
     },
     "metadata": {},
     "output_type": "display_data"
    },
    {
     "data": {
      "text/html": [
       "<script id=\"MathJax-Element-48\" type=\"math/tex\">\\newcommand{\\vect}[1]{\\mathbf{#1}}\n",
       "\\newcommand{\\uvect}[1]{\\hat{#1}}\n",
       "\\newcommand{\\abs}[1]{\\lvert#1\\rvert}\n",
       "\\newcommand{\\norm}[1]{\\lVert#1\\rVert}\n",
       "\\newcommand{\\I}{\\mathrm{i}}\n",
       "\\newcommand{\\ket}[1]{\\left|#1\\right\\rangle}\n",
       "\\newcommand{\\bra}[1]{\\left\\langle#1\\right|}\n",
       "\\newcommand{\\braket}[1]{\\langle#1\\rangle}\n",
       "\\newcommand{\\Braket}[1]{\\left\\langle#1\\right\\rangle}\n",
       "\\newcommand{\\op}[1]{\\mathbf{#1}}\n",
       "\\newcommand{\\mat}[1]{\\mathbf{#1}}\n",
       "\\newcommand{\\d}{\\mathrm{d}}\n",
       "\\newcommand{\\pdiff}[3][]{\\frac{\\partial^{#1} #2}{\\partial {#3}^{#1}}}\n",
       "\\newcommand{\\diff}[3][]{\\frac{\\d^{#1} #2}{\\d {#3}^{#1}}}\n",
       "\\newcommand{\\ddiff}[3][]{\\frac{\\delta^{#1} #2}{\\delta {#3}^{#1}}}\n",
       "\\newcommand{\\floor}[1]{\\left\\lfloor#1\\right\\rfloor}\n",
       "\\newcommand{\\ceil}[1]{\\left\\lceil#1\\right\\rceil}\n",
       "\\DeclareMathOperator{\\Tr}{Tr}\n",
       "\\DeclareMathOperator{\\erf}{erf}\n",
       "\\DeclareMathOperator{\\erfi}{erfi}\n",
       "\\DeclareMathOperator{\\sech}{sech}\n",
       "\\DeclareMathOperator{\\sgn}{sgn}\n",
       "\\DeclareMathOperator{\\order}{O}\n",
       "\\DeclareMathOperator{\\diag}{diag}\n",
       "\n",
       "\\newcommand{\\mylabel}[1]{\\label{#1}\\tag{#1}}\n",
       "\\newcommand{\\degree}{\\circ}</script>"
      ],
      "text/plain": [
       "<IPython.core.display.HTML object>"
      ]
     },
     "metadata": {},
     "output_type": "display_data"
    },
    {
     "data": {
      "text/html": [],
      "text/plain": [
       "<IPython.core.display.HTML object>"
      ]
     },
     "metadata": {},
     "output_type": "display_data"
    },
    {
     "data": {
      "text/html": [
       "\n",
       "<i>\n",
       "<p>This cell contains some definitions for equations and some CSS for styling\n",
       "  the notebook. If things look a bit strange, please try the following:\n",
       "<ul>\n",
       "  <li>Choose \"Trust Notebook\" from the \"File\" menu.</li>\n",
       "  <li>Re-execute this cell.</li>\n",
       "  <li>Reload the notebook.</li>\n",
       "</ul>\n",
       "</p>\n",
       "</i>\n"
      ],
      "text/plain": [
       "<IPython.core.display.HTML object>"
      ]
     },
     "metadata": {},
     "output_type": "display_data"
    }
   ],
   "source": [
    "import mmf_setup;mmf_setup.nbinit(hgroot=False)\n",
    "from mmfutils.contexts import NoInterrupt\n",
    "from imp import reload  # Python 3.0 - 3.3\n",
    "import numpy as np\n",
    "import scipy.integrate\n",
    "import scipy as sp\n",
    "from collections import namedtuple"
   ]
  },
  {
   "cell_type": "markdown",
   "metadata": {},
   "source": [
    "## Regularization\n",
    "For dD homogenous case, I will use the relatin between the scattering length and the effective potential strength:\n",
    "$$\n",
    "\\frac{8\\pi}{g_e}=\\frac{2}{a} - \\frac{4k_c}{\\pi}\n",
    "$$\n",
    "\n",
    "where $g_e(k_c)$ is a function depends on $k_c$"
   ]
  },
  {
   "cell_type": "code",
   "execution_count": 115,
   "metadata": {},
   "outputs": [],
   "source": [
    "import homogeneous;reload(homogeneous)\n",
    "h = homogeneous.Homogeneous1D()\n",
    "delta = 1.0\n",
    "mu_eff = 1.0\n",
    "m = 1.0\n",
    "hbar = 1.0\n",
    "mus_eff = [mu_eff]*2\n",
    "v_0, (na, nb), (mua, mub) = h.get_BCS_v_n_e(delta=delta, mus_eff=mus_eff)\n",
    "v_0_, n_, mu_, e_0_ = homogeneous.get_BCS_v_n_e(delta=delta, mu_eff=mu_eff)\n",
    "assert np.allclose([v_0, na+nb, (mua+mub)/2], [v_0_, n_, mu_])"
   ]
  },
  {
   "cell_type": "markdown",
   "metadata": {},
   "source": [
    "### BCS Code"
   ]
  },
  {
   "cell_type": "code",
   "execution_count": 116,
   "metadata": {},
   "outputs": [],
   "source": [
    "def quad(f, kF=None, k_0=0, k_inf=np.inf, limit=1000):\n",
    "    \"\"\"Wrapper for quad that deals with singularities\n",
    "    at the Fermi surface.\n",
    "    \"\"\"\n",
    "    if kF is None:\n",
    "        res, err = sp.integrate.quad(f, k_0, k_inf)\n",
    "    else:\n",
    "        # One might think that `points=[kF]` could be used here, but\n",
    "        # this does not work with infinite limits.\n",
    "        res0, err0 = sp.integrate.quad(f, k_0, kF)\n",
    "        res1, err1 = sp.integrate.quad(f, kF, k_inf, limit=limit)\n",
    "        res = res0 + res1\n",
    "        err = max(err0, err1)\n",
    "    \n",
    "    if abs(err) > 1e-6 and abs(err/res) > 1e-6:\n",
    "        warnings.warn(\n",
    "            \"Gap integral did not converge: res, err = %g, %g\" % (res, err))\n",
    "    return 2*res   # Accounts for integral from -inf to inf\n",
    "\n",
    "def get_BCS_v_n_e(delta, mu_eff):\n",
    "    m = hbar = 1.0\n",
    "    kF = np.sqrt(2*m*max(0, mu_eff))/hbar\n",
    "\n",
    "    def gap_integrand(k):\n",
    "        e_p = (hbar*k)**2/2.0/m - mu_eff\n",
    "        return 1./np.sqrt(e_p**2 + abs(delta)**2)\n",
    "    \n",
    "    v_0 = 4*np.pi / quad(gap_integrand, kF)\n",
    "\n",
    "    def n_integrand(k):\n",
    "        \"\"\"Density\"\"\"\n",
    "        e_p = (hbar*k)**2/2.0/m - mu_eff\n",
    "        denom = np.sqrt(e_p**2 + abs(delta)**2)\n",
    "        return (denom - e_p)/denom\n",
    "\n",
    "    n = quad(n_integrand, kF) / 2/np.pi\n",
    "\n",
    "    def e_integrand(k):\n",
    "        \"\"\"Energy\"\"\"\n",
    "        e_p = (hbar*k)**2/2.0/m - mu_eff\n",
    "        denom = np.sqrt(e_p**2 + abs(delta)**2)\n",
    "        return (hbar*k)**2/2.0/m * (denom - e_p)/denom\n",
    "    e = quad(e_integrand, kF) / 2/np.pi - v_0*n**2/4.0 - abs(delta)**2/v_0\n",
    "\n",
    "    mu = mu_eff - n*v_0/2\n",
    "\n",
    "    return namedtuple('BCS_Results', ['v_0', 'n', 'mu', 'e'])(v_0, n, mu, e)\n",
    "\n",
    "def get_scattering_lenght(delta, mu_eff, k_c):\n",
    "    def f(k):\n",
    "        e_p = (hbar*k)**2/2.0/m - mu_eff\n",
    "        return 1./np.sqrt(e_p**2 + abs(delta)**2)\n",
    "    res, err = sp.integrate.quad(f, 0, k_c)\n",
    "    if abs(err) > 1e-6 and abs(err/res) > 1e-6:\n",
    "        warnings.warn(\n",
    "            \"Gap integral did not converge: res, err = %g, %g\" % (res, err))\n",
    "    a = 2.0/(-4.0*np.pi * 2.0 * res + 4 * k_c/np.pi)\n",
    "    return a\n",
    "    \n",
    "\n",
    "def BCS(mu_eff, delta=1.0):\n",
    "    m = hbar = 1.0\n",
    "    v_0, n, mu, e = get_BCS_v_n_e(delta=delta, mu_eff=mu_eff)\n",
    "    lam = m*v_0/n/hbar**2\n",
    "    # Energy per-particle\n",
    "    E_N = e/n\n",
    "    # Energy per-particle for 2 particles\n",
    "    E_2 = -m*v_0**2/4.0 / 2.0\n",
    "    E_N_E_2 = E_N/abs(E_2)\n",
    "    return E_N_E_2, lam\n"
   ]
  },
  {
   "cell_type": "markdown",
   "metadata": {},
   "source": [
    "## Test Regularization for 1D"
   ]
  },
  {
   "cell_type": "code",
   "execution_count": 117,
   "metadata": {},
   "outputs": [],
   "source": [
    "delta, mu_eff = np.random.random(2)"
   ]
  },
  {
   "cell_type": "code",
   "execution_count": 118,
   "metadata": {},
   "outputs": [],
   "source": [
    "g_0, n,mu,e = get_BCS_v_n_e(delta, mu_eff)"
   ]
  },
  {
   "cell_type": "markdown",
   "metadata": {},
   "source": [
    "We have the $g_0$ and the gap $\\Delta$ now, we can test if the regularizaion works. \n",
    "$$\n",
    "  \\frac{8\\pi}{g_2} = \\frac{2}{a} - \\frac{4k_c}{\\pi} = -\\frac{8\\pi}{2}\\int\\frac{\\d{k}^3}{(2\\pi)^3}\\;\\frac{1}{\\sqrt{\\epsilon_+^2 + \\Delta^2}}.\\\\\n",
    "  \\frac{2}{a}  = -\\frac{8\\pi}{2}\\int\\frac{\\d{k}^3}{(2\\pi)^3}\\;\\frac{1}{\\sqrt{\\epsilon_+^2 + \\Delta^2}} +\\frac{4k_c}{\\pi}\n",
    "$$"
   ]
  },
  {
   "cell_type": "code",
   "execution_count": 131,
   "metadata": {},
   "outputs": [
    {
     "name": "stdout",
     "output_type": "stream",
     "text": [
      "0.000645131601334854\n"
     ]
    },
    {
     "data": {
      "text/plain": [
       "[<matplotlib.lines.Line2D at 0x28d4266d438>]"
      ]
     },
     "execution_count": 131,
     "metadata": {},
     "output_type": "execute_result"
    },
    {
     "data": {
      "image/png": "[encoded data removed]",
      "text/plain": [
       "<matplotlib.figure.Figure at 0x28d4282e3c8>"
      ]
     },
     "metadata": {},
     "output_type": "display_data"
    }
   ],
   "source": [
    "import matplotlib.pyplot as plt\n",
    "print(get_scattering_lenght(delta, mu_eff, 2500.))\n",
    "k_s = np.arange(60,75,0.1)\n",
    "a_s = [ get_scattering_lenght(delta, mu_eff, k) for k in k_s]\n",
    "plt.plot(k_s,a_s)"
   ]
  },
  {
   "cell_type": "markdown",
   "metadata": {},
   "source": [
    "OK, I am such a dumb, this is not working here as the relation is for 3D."
   ]
  },
  {
   "cell_type": "code",
   "execution_count": 134,
   "metadata": {},
   "outputs": [
    {
     "name": "stdout",
     "output_type": "stream",
     "text": [
      "0.008491319888181895\n",
      "0.005512661676142727\n"
     ]
    }
   ],
   "source": [
    "print(get_scattering_lenght(delta, mu_eff, 250.))\n",
    "print(get_scattering_lenght(delta, mu_eff, 350.))"
   ]
  },
  {
   "cell_type": "code",
   "execution_count": null,
   "metadata": {},
   "outputs": [],
   "source": []
  }
 ],
 "metadata": {
  "kernelspec": {
   "display_name": "Python 3",
   "language": "python",
   "name": "python3"
  },
  "language_info": {
   "codemirror_mode": {
    "name": "ipython",
    "version": 3
   },
   "file_extension": ".py",
   "mimetype": "text/x-python",
   "name": "python",
   "nbconvert_exporter": "python",
   "pygments_lexer": "ipython3",
   "version": "3.6.4"
  }
 },
 "nbformat": 4,
 "nbformat_minor": 1
}
