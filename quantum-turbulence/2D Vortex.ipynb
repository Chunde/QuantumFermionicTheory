{
 "cells": [
  {
   "cell_type": "code",
   "execution_count": null,
   "metadata": {
    "init_cell": true
   },
   "outputs": [
    {
     "ename": "ModuleNotFoundError",
     "evalue": "No module named 'mmf_setup'",
     "output_type": "error",
     "traceback": [
      "\u001b[0;31m---------------------------------------------------------------------------\u001b[0m",
      "\u001b[0;31mModuleNotFoundError\u001b[0m                       Traceback (most recent call last)",
      "\u001b[0;32m<ipython-input-1-1aba299e1dd5>\u001b[0m in \u001b[0;36m<module>\u001b[0;34m()\u001b[0m\n\u001b[0;32m----> 1\u001b[0;31m \u001b[0;32mimport\u001b[0m \u001b[0mmmf_setup\u001b[0m\u001b[0;34m;\u001b[0m\u001b[0mmmf_setup\u001b[0m\u001b[0;34m.\u001b[0m\u001b[0mnbinit\u001b[0m\u001b[0;34m(\u001b[0m\u001b[0mhgroot\u001b[0m\u001b[0;34m=\u001b[0m\u001b[0;32mFalse\u001b[0m\u001b[0;34m)\u001b[0m\u001b[0;34m\u001b[0m\u001b[0;34m\u001b[0m\u001b[0m\n\u001b[0m\u001b[1;32m      2\u001b[0m \u001b[0;32mfrom\u001b[0m \u001b[0mmmfutils\u001b[0m\u001b[0;34m.\u001b[0m\u001b[0mcontexts\u001b[0m \u001b[0;32mimport\u001b[0m \u001b[0mNoInterrupt\u001b[0m\u001b[0;34m\u001b[0m\u001b[0;34m\u001b[0m\u001b[0m\n\u001b[1;32m      3\u001b[0m \u001b[0;32mtry\u001b[0m\u001b[0;34m:\u001b[0m \u001b[0;32mfrom\u001b[0m \u001b[0mimportlib\u001b[0m \u001b[0;32mimport\u001b[0m \u001b[0mreload\u001b[0m\u001b[0;34m\u001b[0m\u001b[0;34m\u001b[0m\u001b[0m\n\u001b[1;32m      4\u001b[0m \u001b[0;32mexcept\u001b[0m \u001b[0mImportError\u001b[0m\u001b[0;34m:\u001b[0m \u001b[0;32mpass\u001b[0m\u001b[0;34m\u001b[0m\u001b[0;34m\u001b[0m\u001b[0m\n\u001b[1;32m      5\u001b[0m \u001b[0mget_ipython\u001b[0m\u001b[0;34m(\u001b[0m\u001b[0;34m)\u001b[0m\u001b[0;34m.\u001b[0m\u001b[0mrun_line_magic\u001b[0m\u001b[0;34m(\u001b[0m\u001b[0;34m'pylab'\u001b[0m\u001b[0;34m,\u001b[0m \u001b[0;34m'inline'\u001b[0m\u001b[0;34m)\u001b[0m\u001b[0;34m\u001b[0m\u001b[0;34m\u001b[0m\u001b[0m\n",
      "\u001b[0;31mModuleNotFoundError\u001b[0m: No module named 'mmf_setup'"
     ]
    }
   ],
   "source": [
    "import mmf_setup;mmf_setup.nbinit(hgroot=False)\n",
    "from mmfutils.contexts import NoInterrupt\n",
    "try: from importlib import reload\n",
    "except ImportError: pass\n",
    "%pylab inline"
   ]
  },
  {
   "cell_type": "markdown",
   "metadata": {},
   "source": [
    "# Axially Symmetric Vortices"
   ]
  },
  {
   "cell_type": "markdown",
   "metadata": {},
   "source": [
    "In this notebook, I will briefly review the theory required to implement an axially symmetric configuration for solving the BdG equations (later to be extended to the ASLDA).  The relevant code will be implemented in the file [`2D_vortex.py`](2D_vortex.py)."
   ]
  },
  {
   "cell_type": "markdown",
   "metadata": {},
   "source": [
    "# Regulating the BdG"
   ]
  },
  {
   "cell_type": "markdown",
   "metadata": {},
   "source": [
    "We start with the issue of regularization.  The $T=0$ equations in $d$ dimensions can be expressed in terms of the gap $\\Delta$ and effective chemical potential $\\mu_{\\text{eff}} = \\mu_0 + g_cn_+/2$ where $g_c>0$ represents an attractive interaction:\n",
    "\n",
    "$$\n",
    "  \\Delta = g_c \\nu_c, \\qquad\n",
    "  \\epsilon_+ = \\frac{\\hbar^2k^2}{2m} - \\mu_{\\text{eff}}, \\qquad\n",
    "  \\mathcal{E} = \\frac{E}{V} \n",
    "              = \\frac{\\hbar^2\\tau_c}{2m} - g_c(n_an_b+\\nu_c^\\dagger\\nu_c)\n",
    "              = \\frac{\\hbar^2\\tau_c}{2m} - \\Delta^\\dagger\\nu_c - \\frac{(\\mu_{\\text{eff}} - \\mu_0)n_+}{2},\n",
    "$$\n",
    "\n",
    "through the following integrals:\n",
    "  \n",
    "\\begin{align}\n",
    "  \\nu_c &= \\int_{c}\\frac{\\d^d{k}}{(2\\pi)^d}\\;\\frac{\\Delta}{2\\sqrt{\\epsilon_+^2 + \\Delta^2}}\n",
    "  &&\\sim \\int_{c}\\frac{\\d^d{k}}{(2\\pi)^d}\\;\\frac{m\\Delta}{\\hbar^2 k^2},\\\\\n",
    "  \\tau_c &= \\int_c\\frac{\\d^d{k}}{(2\\pi)^d}\\; k^2\n",
    "    \\left[1 - \\frac{\\epsilon_+}{\\sqrt{\\epsilon_+^2 + \\abs{\\Delta}^2}}\\right]\n",
    "  &&\\sim \\int_c\\frac{\\d^d{k}}{(2\\pi)^d}\\; \n",
    "  \\frac{2m^2\\abs{\\Delta}^2}{\\hbar^4 k^2},\\\\\n",
    "  n_+ &= \\int_c\\frac{\\d^d{k}}{(2\\pi)^d}\n",
    "    \\left[1 - \\frac{\\epsilon_+}{\\sqrt{\\epsilon_+^2 + \\abs{\\Delta}^2}}\\right]\n",
    "  &&\\sim \\int_c\\frac{\\d^d{k}}{(2\\pi)^d}\\; \n",
    "  \\frac{2m^2\\abs{\\Delta}^2}{\\hbar^4 k^4}.\n",
    "\\end{align}"
   ]
  },
  {
   "cell_type": "markdown",
   "metadata": {},
   "source": [
    "In 1D, these converge, but in 2D and higher, the quantities $\\tau_c$ and $\\nu_c$ diverge as $\\ln(k_c)$ in 2D and as $k_c$ in 3D.  The density $n_+$ converges in both 2D and 3D, although slower in 3D.  Note that the divergence in $\\tau_c$ and $\\nu_c$ cancel in the combination\n",
    "\n",
    "\\begin{align}\n",
    "  \\kappa_c &=\\int_c\\frac{\\d^d{k}}{(2\\pi)^d}\\;\\left(\\frac{\\hbar^2\\tau_c}{2m} - \\Delta^\\dagger \\nu_c\\right) \n",
    "  &&\\sim \\int_c\\frac{\\d^d{k}}{(2\\pi)^d}\\;\\frac{2m^2\\abs{\\Delta}^2\\mu_{\\text{eff}}}{\\hbar^4 k^4},\n",
    "\\end{align}\n",
    "\n",
    "which enters the energy density $\\mathcal{E}$.\n",
    "\n",
    "To regularize the theory, we must define some finite physical quantity.  We express this as follows (see [Bulgac:2011] Eq. (84) but note that our $g_c$ has the opposite sign, and we consider only unit effective mass $\\alpha_+ = 1$):\n",
    "\n",
    "\\begin{align}\n",
    "  \\tilde{C}(n_a, n_b) &= \\overbrace{- \\frac{\\nu_c}{\\Delta}}^{-\\frac{1}{g_c}} + \\overbrace{\\frac{1}{2}\\int_c \\frac{\\d^d{k}}{(2\\pi)^d} \\frac{1}{\\epsilon_+ + \\I 0^+}}^{\\Lambda_c} = \\frac{-1}{g_c} + \\Lambda_c\n",
    "  &&\\sim \\int_c \\frac{\\d^d{k}}{(2\\pi)^d} \\frac{2m^3\\abs{\\Delta}^2}{\\hbar^6 k^6}.\n",
    "\\end{align}\n",
    "\n",
    "where the integral is take in the principal value sense.  We include the chemical potential in the integral as advocated in [BY:2002fk].  This does not change the result in the limit $k_c \\rightarrow \\infty$ but shifts the finite portion to improve convergence.  Without this shift, the integral would behave as $\\tilde{C} \\sim -\\int_c\\d^d{k}\\;2m^2\\mu_{\\text{eff}}/(2\\pi)^d\\hbar^4 k^4$.\n",
    "\n",
    "For example, in 3D, the common Eagles-Leggett model fixes the regularization in terms of the two-body scattering length $a_s$:\n",
    "\n",
    "$$\n",
    "  \\tilde{C}(n_a, n_b) = \\frac{m}{4\\pi \\hbar^2 a_s}.\n",
    "$$\n",
    "\n",
    "The principal value integrals can be performed analytically, but the result is only independent of the pole location in 3D:\n",
    "\n",
    "$$\n",
    "  \\Lambda_c^{1D} = \\frac{m}{\\hbar^2}\\frac{1}{2\\pi k_0}\\ln\\frac{k_c-k_0}{k_c+k_0}\n",
    "  \\rightarrow -\\frac{m}{\\hbar^2}\\frac{1}{\\pi k_c} \\rightarrow 0,\n",
    "  \\\\\n",
    "  \\Lambda_c^{2D} = \\frac{m}{\\hbar^2}\\frac{1}{4\\pi}\n",
    "  \\ln\\left(\\frac{k_c^2}{k_0^2}-1\\right) \n",
    "  \\rightarrow \\frac{m}{\\hbar^2}\\frac{1}{2\\pi}\\ln\\frac{k_c}{k_0},\n",
    "  \\\\\n",
    "  \\Lambda_c^{3D} = \\frac{m}{\\hbar^2}\\frac{k_c}{2\\pi^2} \n",
    "  \\left(1 - \\frac{k_0}{2k_c}\\ln\\frac{k_c+k_0}{k_c-k_0}\\right)\n",
    "  \\rightarrow \\frac{m}{\\hbar^2}\\frac{k_c}{2\\pi^2},\n",
    "$$\n",
    "\n",
    "where\n",
    "\n",
    "$$\n",
    "  \\frac{\\hbar^2k_0^2}{2m} - \\mu = 0, \\qquad\n",
    "  \\frac{\\hbar^2k_c^2}{2m} - \\mu = E_c.\n",
    "$$\n",
    "\n",
    "The latter equation allows us to replace the momentum cutoff $k_c$ in terms of an energy cutoff $E_c$ which is of use in inhomogeneous systems.\n",
    "\n",
    "[BY:2002fk]: https://doi.org/10.1103/PhysRevLett.88.042504 'Aurel Bulgac and Yongle Yu, \"Renormalization of the Hartree-Fock-Bogoliubov Equations in the Case of a Zero Range Pairing Interaction\", prl 88(4), 042504 (2002) [nucl-th/0106062v3](http://arXiv.org/abs/nucl-th/0106062v3)'\n",
    "\n",
    "[Bulgac:2011]: http://dx.doi.org/10.1007/978-3-642-21978-8_9 'Aurel Bulgac, Michael McNeil Forbes, and Piotr Magierski, \"The Unitary Fermi Gas: From Monte Carlo to Density Functionals\",  836, 305 -- 373 (2012) [1008.3933](http://arXiv.org/abs/1008.3933)'\n",
    "\n"
   ]
  },
  {
   "cell_type": "markdown",
   "metadata": {},
   "source": [
    "## Thomas Fermi Completion"
   ]
  },
  {
   "cell_type": "markdown",
   "metadata": {},
   "source": [
    "To facilitate convergence in the case when the solutions vary slowly, we can include states with $E>E_c$ by assuming that on length-scales smaller than $1/k_c$ the solution is homogeneous and performing the integrals.  This can be done excactly (numerically completing the integrals) or as a series approximation in $1/k_c$.  We include the leading order corrections here:"
   ]
  },
  {
   "cell_type": "markdown",
   "metadata": {},
   "source": [
    "### 3D\n",
    "\n",
    "$$\n",
    "  n^{3D}_+ \\approx \\int_{E<E_c}\\frac{\\d^d{k}}{(2\\pi)^d}\n",
    "    \\left[1 - \\frac{\\epsilon_+}{\\sqrt{\\epsilon_+^2 + \\abs{\\Delta}^2}}\\right]\n",
    "  + \\frac{m^2\\abs{\\Delta}^2}{k_c \\hbar^4\\pi^2}\n",
    "  + \\frac{4m^3\\abs{\\Delta^2}\\mu}{3\\hbar^6 \\pi^2 k_c^3}\n",
    "  + \\order(k_c^{-5}),\n",
    "  \\\\\n",
    "  \\kappa_c^{3D} \\approx \\int_{E<E_c}\\frac{\\d^d{k}}{(2\\pi)^d}\\;\\left(\\frac{\\hbar^2\\tau_c}{2m} - \\Delta^\\dagger \\nu_c\\right)\n",
    "  + \\frac{m^2 \\mu \\abs{\\Delta}^2}{\\hbar^4 \\pi^2 k_c}\n",
    "  + \\frac{m^3\\abs{\\Delta}^2(8\\mu^2-\\abs{\\Delta}^2)}{6\\hbar^6\\pi^2 k_c^3}\n",
    "  +\\order(k_c^{-5}),  \n",
    "$$\n"
   ]
  },
  {
   "cell_type": "code",
   "execution_count": null,
   "metadata": {},
   "outputs": [],
   "source": [
    "import numpy as np\n",
    "from scipy.integrate import quad\n",
    "from uncertainties import ufloat\n",
    "\n",
    "hbar = 1.\n",
    "m = 1.\n",
    "\n",
    "def n_integrand(k, mu, delta):\n",
    "    ep = (hbar*k)**2/2/m - mu\n",
    "    E = np.sqrt(ep**2 + abs(delta)**2)\n",
    "    return (1 - ep/E)\n",
    "\n",
    "def nu_integrand(k, mu, delta):\n",
    "    ep = (hbar*k)**2/2./m - mu\n",
    "    E = np.sqrt(ep**2 + abs(delta)**2)\n",
    "    return delta/2/E\n",
    "\n",
    "def tau_integrand(k, mu, delta):\n",
    "    ep = (hbar*k)**2/2./m - mu\n",
    "    E = np.sqrt(ep**2 + abs(delta)**2)\n",
    "    return k**2*(1. - ep/E)\n",
    "\n",
    "def E_integrand(k, mu, delta):\n",
    "    tau = tau_integrand(k, mu=mu, delta=delta)\n",
    "    nu = nu_integrand(k, mu=mu, delta=delta)\n",
    "    #n = n_integrand(k, mu=mu, delta=delta)\n",
    "    return hbar**2*tau/2/m - delta*nu\n",
    "\n",
    "def C_integrand(k, mu, delta):\n",
    "    \"\"\"Integrand without chemical potential shift.\n",
    "    \n",
    "    This works better for numerical integration with infinite limits.\n",
    "    \"\"\"\n",
    "    ep = (hbar*k)**2/2/m - mu\n",
    "    return (0.5/(ep+1e-7j) - nu_integrand(k, mu=mu, delta=delta)/delta).real\n",
    "\n",
    "def C0_integrand(k, mu, delta):\n",
    "    \"\"\"Integrand without chemical potential shift.\n",
    "    \n",
    "    This works better for numerical integration with infinite limits.\n",
    "    \"\"\"\n",
    "    k0 = np.sqrt(2*m*mu)/hbar\n",
    "    ep0 = (hbar*k)**2/2/m\n",
    "    return (0.5/ep0 - nu_integrand(k, mu=mu, delta=delta)/delta).real\n",
    "\n",
    "def integrate(integrand, mu, delta, k0=0, k_c=np.inf, d=3, **kw):\n",
    "    if d == 1:\n",
    "        f = lambda k: integrand(k, mu=mu, delta=delta)/np.pi\n",
    "    elif d == 2:\n",
    "        f = lambda k: integrand(k, mu=mu, delta=delta)*k/2/np.pi\n",
    "    elif d == 3:\n",
    "        f = lambda k: integrand(k, mu=mu, delta=delta)*k**2/2/np.pi**2\n",
    "    return quad(f, k0, k_c, **kw)\n",
    "\n",
    "def Lambda(k_c, mu, d=3):\n",
    "    k_0 = np.sqrt(2*m*mu)/hbar\n",
    "    if d == 3:\n",
    "        return m/hbar**2 * k_c/2/np.pi**2*(\n",
    "            1 - k_0/2/k_c*np.log((k_c+k_0)/(k_c-k_0)))\n",
    "    elif d == 2:\n",
    "        return m/hbar**2/4/np.pi * np.log((k_c/k_0)**2-1)\n",
    "    \n",
    "e_F = 1.0\n",
    "k_F = np.sqrt(2*m*e_F)\n",
    "n_F = k_F**3/3/np.pi**2\n",
    "E_FG = 3./5*n_F*e_F\n",
    "mu = 0.59060550703283853378393810185221521748413488992993*e_F\n",
    "delta = 1.162200561790012570995259741628790656202543181557689*mu\n",
    "delta = 0.68640205206984016444108204356564421137062514068346*e_F\n",
    "\n",
    "kw = dict(mu=mu, delta=delta)\n",
    "n_p = ufloat(*integrate(n_integrand, **kw))\n",
    "assert np.allclose(n_p.n, k_F**3/3/np.pi**2)\n",
    "\n",
    "C0 = ufloat(*integrate(C0_integrand, **kw))\n",
    "assert np.allclose(C0.n, 0)\n",
    "\n",
    "## 2D values\n",
    "kw.update(d=2)\n",
    "n2_p = ufloat(*integrate(n_integrand, **kw))\n",
    "C2 = ufloat(*integrate(C0_integrand, **kw))\n",
    "n2_p, C2"
   ]
  },
  {
   "cell_type": "code",
   "execution_count": null,
   "metadata": {},
   "outputs": [],
   "source": [
    "p = 5\n",
    "ks = np.linspace(10.0**(-p),100**(-p),100)**(-1./p)\n",
    "plt.plot(1./ks**2, ks**2*E_integrand(ks, mu=mu, delta=delta), '-')\n",
    "plt.plot(1./ks**2, 2*delta**2*mu/ks**2, 'o')"
   ]
  },
  {
   "cell_type": "code",
   "execution_count": null,
   "metadata": {},
   "outputs": [],
   "source": [
    "((integrate(E_integrand, mu=mu, delta=delta, k0=0, k_c=10)[0]\n",
    "  + integrate(E_integrand, mu=mu, delta=delta, k0=10, k_c=20)[0]\n",
    "  + integrate(E_integrand, mu=mu, delta=delta, k0=20, k_c=np.inf)[0]),\n",
    " 0.59060550703283853378393810185221521748413488992993*E_FG)"
   ]
  },
  {
   "cell_type": "code",
   "execution_count": null,
   "metadata": {},
   "outputs": [],
   "source": [
    "from scipy.special import hyp2f1\n",
    "def P(n, x):\n",
    "    return hyp2f1(-n,n+1,1,(1-x)/2.0)\n",
    "\n",
    "def f(alpha, a):\n",
    "    return -np.pi/np.sin(np.pi*alpha)*P(alpha, -a)\n",
    "\n",
    "y_U = 0.65222953196994067235\n",
    "p0 = np.sqrt(2*m*mu)\n",
    "print(-p0**5*(f(5./2, y_U) \n",
    "        - y_U*f(3./2, y_U) \n",
    "        + 0.5*(1-y_U**2)*f(0.5, y_U))/y_U**(5./2)/8/np.pi**2, \n",
    "      0.59060550703283853378393810185221521748413488992993*E_FG)\n",
    "\n",
    "5./4*(4./3)**(5./3)*((f(5./2, y_U) - y_U*f(3./2, y_U) + 0.5*(1-y_U**2)*f(0.5, y_U)) \n",
    " / abs(f(3./2, y_U) - y_U*f(1./2, y_U))**(5./3))"
   ]
  },
  {
   "cell_type": "code",
   "execution_count": null,
   "metadata": {},
   "outputs": [],
   "source": [
    "err = []\n",
    "p = 5\n",
    "ks = np.linspace(10.0**(-p),100**(-p),100)**(-1./p)\n",
    "for k_c in ks:\n",
    "    E = ufloat(*integrate(E_integrand, mu=mu, delta=delta, k_c=k_c))\n",
    "    E_ = 0.59060550703283853378393810185221521748413488992993*E_FG\n",
    "    err.append((E_ - E).n)\n",
    "err = np.array(err)\n",
    "dE = ((m/hbar**2)**2*mu*delta**2/np.pi**2/ks\n",
    "      + (m/hbar**2)**3*delta**2 * (8*mu**2-delta**2)/6/np.pi**2/ks**3)\n",
    "err -= dE\n",
    "plt.plot(1./ks**p, err, '+')\n",
    "#plt.plot(1./ks, dE+0*0.0038)\n",
    "#plt.xlim(0, 0.1);plt.ylim(0, err.max());"
   ]
  },
  {
   "cell_type": "code",
   "execution_count": null,
   "metadata": {},
   "outputs": [],
   "source": [
    "integrate(C_integrand, k0=0, **kw)\n",
    "kw\n",
    "## 1D values\n",
    "kw.update(d=1)\n",
    "n1_p = ufloat(*integrate(n_integrand, **kw))\n",
    "C1 = ufloat(*integrate(C0_integrand, **kw))\n",
    "n1_p, C1"
   ]
  },
  {
   "cell_type": "markdown",
   "metadata": {},
   "source": [
    "The energy density is hard to compute because of roundoff error:"
   ]
  },
  {
   "cell_type": "code",
   "execution_count": null,
   "metadata": {},
   "outputs": [],
   "source": [
    "%pylab inline\n",
    "E = np.linspace(0,2,100)\n",
    "wp = E\n",
    "wm = -E\n",
    "h.T = 0.\n",
    "plt.plot(E, 1 - h.f(-wm) - h.f(wp))\n",
    "plt.plot(E, h.f(wm) - h.f(wp), '+')"
   ]
  },
  {
   "cell_type": "code",
   "execution_count": null,
   "metadata": {},
   "outputs": [],
   "source": [
    "k = np.linspace(0,2,100)\n",
    "plt.plot(k, h._C0_integrand(k))\n",
    "plt.plot(k, C0_integrand(k, mu=mu, delta=delta), '+')"
   ]
  },
  {
   "cell_type": "code",
   "execution_count": null,
   "metadata": {},
   "outputs": [],
   "source": [
    "import homogeneous_mmf;reload(homogeneous_mmf)\n",
    "h = homogeneous_mmf.Homogeneous(dim=2)\n",
    "h.get_C0(mus=(mu, mu), delta=delta)\n",
    "h.get_n_p(mus=(mu, mu), delta=delta)"
   ]
  },
  {
   "cell_type": "code",
   "execution_count": null,
   "metadata": {},
   "outputs": [],
   "source": [
    "3*n_p*mu/5 - n_p*mu - E[0]"
   ]
  },
  {
   "cell_type": "code",
   "execution_count": null,
   "metadata": {},
   "outputs": [],
   "source": [
    "E = ufloat(*integrate(E_integrand, mu=mu, delta=delta))\n",
    "E"
   ]
  },
  {
   "cell_type": "markdown",
   "metadata": {},
   "source": [
    "Here is how we would do it with the cutoff:"
   ]
  },
  {
   "cell_type": "code",
   "execution_count": null,
   "metadata": {},
   "outputs": [],
   "source": [
    "k_c = 100.0\n",
    "L3 = Lambda(k_c, mu=mu)\n",
    "g_c = -1./(C0.n - L3)\n",
    "assert np.allclose(g_c*integrate(nu_integrand, mu, delta, k_c=k_c)[0], delta)"
   ]
  },
  {
   "cell_type": "markdown",
   "metadata": {},
   "source": [
    "## Lattice Regularization"
   ]
  },
  {
   "cell_type": "markdown",
   "metadata": {},
   "source": [
    "When we perform the calculations on a lattice, we have a natural cutoff specified by the basis.  Unfortunately, one does not obtain uniform convergence as a function of this cutoff unless one is careful to choose it appropriately.  This is because the shell corrections do not converge."
   ]
  },
  {
   "cell_type": "markdown",
   "metadata": {},
   "source": [
    "## Hamiltonian"
   ]
  },
  {
   "cell_type": "markdown",
   "metadata": {},
   "source": [
    "The simplest implementation explicitly forms the Hamiltonian matrix.  This is not ideal for larger systems, but is a quick way to check the code.  Here we show how to form the kinetic energy by using the FFT to compute the matrix $U$ that implements the FFT."
   ]
  },
  {
   "cell_type": "code",
   "execution_count": null,
   "metadata": {},
   "outputs": [],
   "source": [
    "Nx, Ny = 64, 64\n",
    "H = np.eye(Nx*Ny).reshape(Nx, Ny, Nx, Ny)\n",
    "U = np.fft.fftn(H, axes=[0,1]).reshape(Nx*Ny, Nx*Ny)\n",
    "psi = np.random.random((Nx, Ny))\n",
    "np.allclose(np.fft.fftn(psi).ravel(), U.dot(psi.ravel()))"
   ]
  },
  {
   "cell_type": "code",
   "execution_count": null,
   "metadata": {},
   "outputs": [],
   "source": [
    "from importlib import reload\n",
    "import vortex_2d;reload(vortex_2d)\n",
    "s = vortex_2d.BCS(Nxy=(16,)*2)\n",
    "k_c = abs(s.kxy[0]).max()\n",
    "E_c = (s.hbar*k_c)**2/2/s.m\n",
    "s = vortex_2d.BCS(Nxy=(16,)*2, E_c=E_c)\n",
    "kw = dict(mus=(mu, mu), delta=delta)\n",
    "#R = s.get_R(**kw)\n",
    "H = s.get_H(**kw)\n",
    "assert np.allclose(H, H.T.conj())"
   ]
  },
  {
   "cell_type": "code",
   "execution_count": null,
   "metadata": {},
   "outputs": [],
   "source": [
    "plt.plot(E, s.f(E, E_c=np.inf))\n",
    "plt.axvline(E_c, c='y')\n",
    "plt.axvline(-E_c, c='y')"
   ]
  },
  {
   "cell_type": "code",
   "execution_count": null,
   "metadata": {},
   "outputs": [],
   "source": [
    "E"
   ]
  },
  {
   "cell_type": "code",
   "execution_count": null,
   "metadata": {},
   "outputs": [],
   "source": [
    "%pylab inline --no-import-all\n",
    "Nx, Ny = s.Nxy\n",
    "%time E, psi = np.linalg.eigh(H)\n",
    "n = -3\n",
    "u, v = psi[:, n].reshape(2, Nx, Ny)\n",
    "plt.figure(figsize=(10,5))\n",
    "plt.subplot(121);plt.imshow(abs(u)**2);plt.colorbar()\n",
    "plt.subplot(122);plt.imshow(abs(v)**2);plt.colorbar()\n",
    "plt.suptitle(E[n]);"
   ]
  },
  {
   "cell_type": "code",
   "execution_count": null,
   "metadata": {},
   "outputs": [],
   "source": [
    "R = s.get_R(**kw)\n",
    "n_a = np.diag(R[:Nx*Ny,:Nx*Ny]).reshape(s.Nxy)\n",
    "nu = np.diag(R[:Nx*Ny,Nx*Ny:]).reshape(s.Nxy)\n",
    "n_b = 1 - np.diag(R[Nx*Ny:,Nx*Ny:]).reshape(s.Nxy)\n",
    "n = n_a + n_b\n",
    "assert np.allclose(n.imag, 0)\n",
    "n = n.real\n",
    "plt.imshow(n)\n",
    "plt.colorbar()"
   ]
  },
  {
   "cell_type": "code",
   "execution_count": null,
   "metadata": {},
   "outputs": [],
   "source": [
    "n.mean(), n_p"
   ]
  },
  {
   "cell_type": "code",
   "execution_count": null,
   "metadata": {},
   "outputs": [],
   "source": [
    "gc = delta/nu.mean().real\n",
    "gc, 1./(Lambda(k_c=k_c, mu=mu, d=2) - C2.n)"
   ]
  },
  {
   "cell_type": "code",
   "execution_count": null,
   "metadata": {},
   "outputs": [],
   "source": [
    "nu.mean()"
   ]
  },
  {
   "cell_type": "markdown",
   "metadata": {},
   "source": [
    "## Derivatives"
   ]
  },
  {
   "cell_type": "code",
   "execution_count": null,
   "metadata": {},
   "outputs": [],
   "source": [
    "%pylab inline\n",
    "import numpy as np\n",
    "N = 64\n",
    "L = 2*np.pi\n",
    "dx = L / N\n",
    "x = np.arange(N) * dx - L / 2\n",
    "k = 2*np.pi * np.fft.fftfreq(N, dx)\n",
    "D = (-np.diag(np.ones(N)) + np.diag(np.ones(N-1), k=1))/dx\n",
    "D[-1, 0] = 1./dx\n",
    "D2 = -D.dot(D.T.conj())"
   ]
  },
  {
   "cell_type": "markdown",
   "metadata": {},
   "source": [
    "There is a sign error below.  Probably related to the shift $L/2$ but this needs to be be checked."
   ]
  },
  {
   "cell_type": "code",
   "execution_count": null,
   "metadata": {},
   "outputs": [],
   "source": [
    "D = np.fft.ifft(-1j*k*np.fft.fft(np.eye(N), axis=1), axis=1)\n",
    "f = np.sin(x)\n",
    "plt.plot(x, np.cos(x))\n",
    "plt.plot(x, np.fft.ifft(-1j*k*np.fft.fft(f)), '+')   # This minus sign seems wrong.  Why?\n",
    "plt.plot(x, D.dot(f), '+')\n",
    "D2 = -D.dot(D.T.conj())"
   ]
  },
  {
   "cell_type": "code",
   "execution_count": null,
   "metadata": {},
   "outputs": [],
   "source": [
    "f = np.sin(x)\n",
    "plt.plot(x, D.dot(f), ':')\n",
    "plt.plot(x, np.cos(x))"
   ]
  },
  {
   "cell_type": "code",
   "execution_count": null,
   "metadata": {},
   "outputs": [],
   "source": [
    "f = np.sin(x)\n",
    "plt.plot(x, D2.dot(f), ':')\n",
    "plt.plot(x, -np.sin(x))"
   ]
  },
  {
   "cell_type": "markdown",
   "metadata": {},
   "source": [
    "$$\n",
    "  \\int\\left(\\alpha(x) \\frac{\\hbar^2}{2m}\\tau(x) + D(n)\\right)\\d{x}\n",
    "$$\n",
    "$$\n",
    "  E = \\sum_x\\alpha(x)|\\nabla\\psi(x)|^2\\\\\n",
    "$$\n",
    "$$\n",
    "  E = \\sum_x\\alpha(x) \\psi'(x){\\psi^\\dagger}'(x)\n",
    "$$\n",
    "\n",
    "$$\n",
    "  \\psi^\\dagger\\cdot D^\\dagger \\cdot A \\cdot  D\\cdot\\psi\\\\\n",
    "  K = D^\\dagger \\cdot A \\cdot  D\n",
    "$$\n",
    "\n",
    "$$\n",
    "  (A\\psi')' = A' \\psi' + A\\psi''\\\\\n",
    "  (A\\psi)'' = (A'\\psi + A\\psi')' = (A''\\psi + A\\psi'' + 2 A'\\psi')\\\\\n",
    " A'\\psi' = \\frac{(A\\psi)'' - A''\\psi - A\\psi''}{2}\\\\\n",
    "  (A\\psi')' = \\frac{(A\\psi)'' - A''\\psi + A\\psi''}{2}\n",
    "$$\n",
    "\n",
    "$$\n",
    "  (AB)' = A'B + AB'\\\\\n",
    "  D\\cdot(AB) = [D\\cdot A]B + A[D\\cdot B]\n",
    "$$"
   ]
  },
  {
   "cell_type": "code",
   "execution_count": null,
   "metadata": {},
   "outputs": [],
   "source": [
    "# Numerical checks of the formula\n",
    "%pylab inline\n",
    "import numpy as np\n",
    "N = 64\n",
    "L = 2*np.pi\n",
    "dx = L / N\n",
    "x = np.arange(N) * dx - L / 2\n",
    "k = 2*np.pi * np.fft.fftfreq(N, dx)\n",
    "D = np.fft.ifft(-1j*k*np.fft.fft(np.eye(N), axis=1), axis=1)\n",
    "D2 = -D.dot(D.T.conj())\n",
    "alpha = np.exp(np.sin(x))\n",
    "A = np.diag(alpha)\n",
    "K = (A.dot(D2) - np.diag(D2.dot(alpha)) + D2.dot(A))/2\n",
    "assert np.allclose(D2, D2.conj().T)\n",
    "assert np.allclose(K, K.conj().T)"
   ]
  },
  {
   "cell_type": "code",
   "execution_count": null,
   "metadata": {},
   "outputs": [],
   "source": [
    "np.allclose(K, K.conj().T)"
   ]
  },
  {
   "cell_type": "code",
   "execution_count": null,
   "metadata": {},
   "outputs": [],
   "source": []
  }
 ],
 "metadata": {
  "celltoolbar": "Initialization Cell",
  "kernelspec": {
   "display_name": "Python [default]",
   "language": "python",
   "name": "python3"
  },
  "language_info": {
   "codemirror_mode": {
    "name": "ipython",
    "version": 3
   },
   "file_extension": ".py",
   "mimetype": "text/x-python",
   "name": "python",
   "nbconvert_exporter": "python",
   "pygments_lexer": "ipython3",
   "version": "3.6.8"
  },
  "toc": {
   "base_numbering": 1,
   "nav_menu": {},
   "number_sections": true,
   "sideBar": true,
   "skip_h1_title": false,
   "title_cell": "Table of Contents",
   "title_sidebar": "Contents",
   "toc_cell": false,
   "toc_position": {},
   "toc_section_display": true,
   "toc_window_display": true
  }
 },
 "nbformat": 4,
 "nbformat_minor": 2
}
