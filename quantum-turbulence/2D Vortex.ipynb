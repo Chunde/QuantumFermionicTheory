{
 "cells": [
  {
   "cell_type": "code",
   "execution_count": null,
   "metadata": {
    "init_cell": true
   },
   "outputs": [
    {
     "data": {
      "text/html": [
       "<style>.grade {\n",
       "   background-color: #66FFCC;\n",
       "}\n",
       "</style>"
      ],
      "text/plain": [
       "<IPython.core.display.HTML object>"
      ]
     },
     "metadata": {},
     "output_type": "display_data"
    },
    {
     "data": {
      "application/javascript": [],
      "text/plain": [
       "<IPython.core.display.Javascript object>"
      ]
     },
     "metadata": {},
     "output_type": "display_data"
    },
    {
     "data": {
      "text/html": [
       "<script id=\"MathJax-Element-48\" type=\"math/tex\">\\newcommand{\\vect}[1]{\\mathbf{#1}}\n",
       "\\newcommand{\\uvect}[1]{\\hat{#1}}\n",
       "\\newcommand{\\abs}[1]{\\lvert#1\\rvert}\n",
       "\\newcommand{\\norm}[1]{\\lVert#1\\rVert}\n",
       "\\newcommand{\\I}{\\mathrm{i}}\n",
       "\\newcommand{\\ket}[1]{\\left|#1\\right\\rangle}\n",
       "\\newcommand{\\bra}[1]{\\left\\langle#1\\right|}\n",
       "\\newcommand{\\braket}[1]{\\langle#1\\rangle}\n",
       "\\newcommand{\\Braket}[1]{\\left\\langle#1\\right\\rangle}\n",
       "\\newcommand{\\op}[1]{\\mathbf{#1}}\n",
       "\\newcommand{\\mat}[1]{\\mathbf{#1}}\n",
       "\\newcommand{\\d}{\\mathrm{d}}\n",
       "\\newcommand{\\pdiff}[3][]{\\frac{\\partial^{#1} #2}{\\partial {#3}^{#1}}}\n",
       "\\newcommand{\\diff}[3][]{\\frac{\\d^{#1} #2}{\\d {#3}^{#1}}}\n",
       "\\newcommand{\\ddiff}[3][]{\\frac{\\delta^{#1} #2}{\\delta {#3}^{#1}}}\n",
       "\\newcommand{\\floor}[1]{\\left\\lfloor#1\\right\\rfloor}\n",
       "\\newcommand{\\ceil}[1]{\\left\\lceil#1\\right\\rceil}\n",
       "\\DeclareMathOperator{\\Tr}{Tr}\n",
       "\\DeclareMathOperator{\\erf}{erf}\n",
       "\\DeclareMathOperator{\\erfi}{erfi}\n",
       "\\DeclareMathOperator{\\sech}{sech}\n",
       "\\DeclareMathOperator{\\sgn}{sgn}\n",
       "\\DeclareMathOperator{\\order}{O}\n",
       "\\DeclareMathOperator{\\diag}{diag}\n",
       "\n",
       "\\newcommand{\\mylabel}[1]{\\label{#1}\\tag{#1}}\n",
       "\\newcommand{\\degree}{\\circ}</script>"
      ],
      "text/plain": [
       "<IPython.core.display.HTML object>"
      ]
     },
     "metadata": {},
     "output_type": "display_data"
    },
    {
     "data": {
      "text/html": [],
      "text/plain": [
       "<IPython.core.display.HTML object>"
      ]
     },
     "metadata": {},
     "output_type": "display_data"
    },
    {
     "data": {
      "text/html": [
       "\n",
       "<i>\n",
       "<p>This cell contains some definitions for equations and some CSS for styling\n",
       "  the notebook. If things look a bit strange, please try the following:\n",
       "<ul>\n",
       "  <li>Choose \"Trust Notebook\" from the \"File\" menu.</li>\n",
       "  <li>Re-execute this cell.</li>\n",
       "  <li>Reload the notebook.</li>\n",
       "</ul>\n",
       "</p>\n",
       "</i>\n"
      ],
      "text/plain": [
       "<IPython.core.display.HTML object>"
      ]
     },
     "metadata": {},
     "output_type": "display_data"
    },
    {
     "name": "stdout",
     "output_type": "stream",
     "text": [
      "Populating the interactive namespace from numpy and matplotlib\n"
     ]
    }
   ],
   "source": [
    "import mmf_setup;mmf_setup.nbinit(hgroot=False)\n",
    "from mmfutils.contexts import NoInterrupt\n",
    "try: from importlib import reload\n",
    "except ImportError: pass\n",
    "%pylab inline --no-import-all"
   ]
  },
  {
   "cell_type": "markdown",
   "metadata": {},
   "source": [
    "# Axially Symmetric Vortices"
   ]
  },
  {
   "cell_type": "markdown",
   "metadata": {},
   "source": [
    "In this notebook, I will briefly review the theory required to implement an axially symmetric configuration for solving the BdG equations (later to be extended to the ASLDA).  The relevant code will be implemented in the file [`2D_vortex.py`](2D_vortex.py)."
   ]
  },
  {
   "cell_type": "markdown",
   "metadata": {},
   "source": [
    "# Regulating the BdG"
   ]
  },
  {
   "cell_type": "markdown",
   "metadata": {},
   "source": [
    "We start with the issue of regularization.  In our first version we use an extremely simple approach: we simply use all states in the box, and adjust the fixed coupling constant $g_c$ so as to reproduce a particular value of the gap $\\Delta$.  As a baseline, we use the following known 2D solution.\n",
    "\n",
    "$$\n",
    "  n_+ = \\frac{k_F^2}{2\\pi}, \\qquad\n",
    "  \\e_F = \\frac{\\hbar^2 k_F^2}{2m}, \\qquad\n",
    "  \\E_{FG} = \\frac{k_F^4}{8m\\pi} = \\frac{1}{2}n_+\\e_F, \\qquad\n",
    "  \\tilde{C} = 0,\\\\\n",
    "  \\frac{\\mu}{\\e_F} = \\frac{1}{2},\\qquad\n",
    "  \\frac{\\Delta}{\\e_F} = \\sqrt{2}\\\\\n",
    "$$"
   ]
  },
  {
   "cell_type": "code",
   "execution_count": null,
   "metadata": {},
   "outputs": [],
   "source": [
    "import vortex_2d; reload(vortex_2d)\n",
    "\n",
    "hbar = m = kF = 1.0\n",
    "nF = kF**2/2/np.pi\n",
    "eF = (hbar*kF)**2/2/m\n",
    "mu = 0.5*eF\n",
    "delta = np.sqrt(2)*eF\n",
    "\n",
    "s = vortex_2d.BCS_2D(dx=1.0)\n",
    "res = s.get_densities((mu, mu), delta)"
   ]
  },
  {
   "cell_type": "code",
   "execution_count": null,
   "metadata": {},
   "outputs": [],
   "source": [
    "res.n_a[0,0] + res.n_b[0,0], nF"
   ]
  },
  {
   "cell_type": "code",
   "execution_count": null,
   "metadata": {},
   "outputs": [],
   "source": []
  },
  {
   "cell_type": "markdown",
   "metadata": {},
   "source": [
    "The $T=0$ equations in $d$ dimensions can be expressed in terms of the gap $\\Delta$ and effective chemical potential $\\mu_{\\text{eff}} = \\mu_0 + g_cn_+/2$ where $g_c>0$ represents an attractive interaction:\n",
    "\n",
    "$$\n",
    "  \\Delta = g_c \\nu_c, \\qquad\n",
    "  \\epsilon_+ = \\frac{\\hbar^2k^2}{2m} - \\mu_{\\text{eff}}, \\qquad\n",
    "  \\mathcal{E} = \\frac{E}{V} \n",
    "              = \\frac{\\hbar^2\\tau_c}{2m} - g_c(n_an_b+\\nu_c^\\dagger\\nu_c)\n",
    "              = \\frac{\\hbar^2\\tau_c}{2m} - \\Delta^\\dagger\\nu_c - \\frac{(\\mu_{\\text{eff}} - \\mu_0)n_+}{2},\n",
    "$$\n",
    "\n",
    "through the following integrals:\n",
    "  \n",
    "\\begin{align}\n",
    "  \\nu_c &= \\int_{c}\\frac{\\d^d{k}}{(2\\pi)^d}\\;\\frac{\\Delta}{2\\sqrt{\\epsilon_+^2 + \\Delta^2}}\n",
    "  &&\\sim \\int_{c}\\frac{\\d^d{k}}{(2\\pi)^d}\\;\\frac{m\\Delta}{\\hbar^2 k^2},\\\\\n",
    "  \\tau_c &= \\int_c\\frac{\\d^d{k}}{(2\\pi)^d}\\; k^2\n",
    "    \\left[1 - \\frac{\\epsilon_+}{\\sqrt{\\epsilon_+^2 + \\abs{\\Delta}^2}}\\right]\n",
    "  &&\\sim \\int_c\\frac{\\d^d{k}}{(2\\pi)^d}\\; \n",
    "  \\frac{2m^2\\abs{\\Delta}^2}{\\hbar^4 k^2},\\\\\n",
    "  n_+ &= \\int_c\\frac{\\d^d{k}}{(2\\pi)^d}\n",
    "    \\left[1 - \\frac{\\epsilon_+}{\\sqrt{\\epsilon_+^2 + \\abs{\\Delta}^2}}\\right]\n",
    "  &&\\sim \\int_c\\frac{\\d^d{k}}{(2\\pi)^d}\\; \n",
    "  \\frac{2m^2\\abs{\\Delta}^2}{\\hbar^4 k^4}.\n",
    "\\end{align}"
   ]
  },
  {
   "cell_type": "markdown",
   "metadata": {},
   "source": [
    "In 1D, these converge, but in 2D and higher, the quantities $\\tau_c$ and $\\nu_c$ diverge as $\\ln(k_c)$ in 2D and as $k_c$ in 3D.  The density $n_+$ converges in both 2D and 3D, although slower in 3D.  Note that the divergence in $\\tau_c$ and $\\nu_c$ cancel in the combination\n",
    "\n",
    "\\begin{align}\n",
    "  \\kappa &=\\int_c\\frac{\\d^d{k}}{(2\\pi)^d}\\;\\left(\\frac{\\hbar^2\\tau_c}{2m} - \\Delta^\\dagger \\nu_c\\right) \n",
    "  &&\\sim \\int_c\\frac{\\d^d{k}}{(2\\pi)^d}\\;\\frac{2m^2\\abs{\\Delta}^2\\mu_{\\text{eff}}}{\\hbar^4 k^4},\n",
    "\\end{align}\n",
    "\n",
    "which enters the energy density $\\mathcal{E}$.\n",
    "\n",
    "To regularize the theory, we must define some finite physical quantities that we can hold fixed as we take the cutoff to infinity so as to defined the parameters of the theory in a way that the physics becomes independent of the cutoff in the large cutoff limit.  In 3D we express this as follows (see [Bulgac:2011] Eq. (84) but note that our $g_c$ has the opposite sign, and we consider only unit effective mass $\\alpha_+ = 1$):\n",
    "\n",
    "\\begin{align}\n",
    "  \\tilde{C}(n_a, n_b) &= \\overbrace{- \\frac{\\nu_c}{\\Delta}}^{-\\frac{1}{g_c}} + \\overbrace{\\frac{1}{2}\\int_c \\frac{\\d^d{k}}{(2\\pi)^d} \\frac{1}{\\epsilon_+ + \\I 0^+}}^{\\Lambda_c} = \\frac{-1}{g_c} + \\Lambda_c\n",
    "  &&\\sim \\int_c \\frac{\\d^d{k}}{(2\\pi)^d} \\frac{2m^3\\abs{\\Delta}^2}{\\hbar^6 k^6}.\n",
    "\\end{align}\n",
    "\n",
    "where the integral is take in the principal value sense.  This is motivated by the familiar Eagles-Leggett model, where this quantity is related to the two-body scattering length $a_s$:\n",
    "\n",
    "$$\n",
    "  \\tilde{C}(n_a, n_b) = \\frac{m}{4\\pi \\hbar^2 a_s}.\n",
    "$$\n",
    "\n",
    "Strictly speaking, the denominator in the integral should have $\\epsilon_+ = \\hbar^2k^2/2m$ without the chemical potential because the calculation of the scattering length should take place in the vacuum. To improve convergence, however, we include the chemical potential in $\\epsilon_+ = \\hbar^2k^2/2m - \\mu$ as advocated in [BY:2002fk].  This does not change the 3D result in the limit $k_c \\rightarrow \\infty$ but shifts the finite portion to improve convergence.  Without this shift, the integral would behave as $\\tilde{C} \\sim -\\int_c\\d^d{k}\\;2m^2\\mu_{\\text{eff}}/(2\\pi)^d\\hbar^4 k^4$.\n",
    "\n",
    "The principal value integrals can now be performed analytically:\n",
    "\n",
    "$$\n",
    "  \\Lambda_c^{1D} = \\frac{m}{\\hbar^2}\\frac{1}{2\\pi k_0}\\ln\\frac{k_c-k_0}{k_c+k_0}\n",
    "  \\rightarrow -\\frac{m}{\\hbar^2}\\frac{1}{\\pi k_c} \\rightarrow 0,\n",
    "  \\\\\n",
    "  \\Lambda_c^{2D} = \\frac{m}{\\hbar^2}\\frac{1}{4\\pi}\n",
    "  \\ln\\left(\\frac{k_c^2}{k_0^2}-1\\right) \n",
    "  \\rightarrow \\frac{m}{\\hbar^2}\\frac{1}{2\\pi}\\ln\\frac{k_c}{k_0},\n",
    "  \\\\\n",
    "  \\Lambda_c^{3D} = \\frac{m}{\\hbar^2}\\frac{k_c}{2\\pi^2} \n",
    "  \\left(1 - \\frac{k_0}{2k_c}\\ln\\frac{k_c+k_0}{k_c-k_0}\\right)\n",
    "  \\rightarrow \\frac{m}{\\hbar^2}\\frac{k_c}{2\\pi^2},\n",
    "$$\n",
    "\n",
    "where\n",
    "\n",
    "$$\n",
    "  \\frac{\\hbar^2k_0^2}{2m} - \\mu = 0, \\qquad\n",
    "  \\frac{\\hbar^2k_c^2}{2m} - \\mu = E_c.\n",
    "$$\n",
    "\n",
    "The latter equation allows us to replace the momentum cutoff $k_c$ in terms of an energy cutoff $E_c$ which is of use in inhomogeneous systems.\n",
    "\n",
    "[BY:2002fk]: https://doi.org/10.1103/PhysRevLett.88.042504 'Aurel Bulgac and Yongle Yu, \"Renormalization of the Hartree-Fock-Bogoliubov Equations in the Case of a Zero Range Pairing Interaction\", prl 88(4), 042504 (2002) [nucl-th/0106062v3](http://arXiv.org/abs/nucl-th/0106062v3)'\n",
    "\n",
    "[Bulgac:2011]: http://dx.doi.org/10.1007/978-3-642-21978-8_9 'Aurel Bulgac, Michael McNeil Forbes, and Piotr Magierski, \"The Unitary Fermi Gas: From Monte Carlo to Density Functionals\",  836, 305 -- 373 (2012) [1008.3933](http://arXiv.org/abs/1008.3933)'\n",
    "\n",
    "**Comments:**\n",
    "\n",
    "As we take the cutoff $k_c\\rightarrow \\infty$ we notice the following:\n",
    "\n",
    "* In 1D, $\\Lambda_c \\rightarrow 0$:\n",
    "  * This indicates that $\\tilde{C} = -\\nu_c/\\Delta = -1/g_c$ is finite, and the theory is well defined in this limit with finite anomalous density $\\nu$, and finite cutoff $g=v_0$.  In this case, no cutoff is needed, but one might still like to use the cutoff procedure to improve the convergence.  In particular, when working on a lattice, there is a maximum momentum that can be represented $k_\\max$ which will limit the convergence roughly according to the behavior discussed above.  For example, $\\nu \\sim 1/k_\\max$ will converge slowly, requiring large lattices to approach the physical limit.  Using the cutoff procedure and Thomas-Fermi completion discussed below will speed this convergence.\n",
    "  * Since $g$ is finite, one must also include the Hartree corrections to the chemical potentials:\n",
    "    \n",
    "    $$\n",
    "      \\mu_{a,b}^{\\mathrm{eff}} = \\mu_{a,b} + g n_{b,a}.\n",
    "    $$\n",
    "\n",
    "    This complicates things a bit because now the effective potentials depend on the density.  One can still work with fixed $\\mu$, but this means that the self-consistent solution is the solution in a funky background potential which has been chosen to absorb these corrections.\n",
    "    \n",
    "* In 2D and 3D, $\\Lambda_c \\rightarrow \\infty$ divergence.  This means that if we fix $\\tilde{C}$ to be finite, then $g_c \\rightarrow 0$.  In this case, the Haretree corrections vanish and the effective chemical potentials do not depend on the state:\n",
    "\n",
    "  $$\n",
    "    \\mu^{\\mathrm{eff}} = \\mu = \\mu_0 - V(x).\n",
    "  $$\n",
    "  \n",
    "  This allows us to easily work in the grand-canonical ensemble.\n",
    "  \n",
    "* In 3D, $\\Lambda_c$ is independent of $k_0$ in the limit of large cutoff.  This means that the including the pole, which improves the convergence, does not affect the usual identification of the scattering length.\n",
    "\n",
    "* In 2D, however, there remains a dependence on $k_0$ in the large cutoff limit.  This means that our procedure for specifying the functional through $\\tilde{C}$ depends on $k_0$.  This is not ideal for a density function because it means that the physical interpretation of the results depend on the external potential - i.e. the DFT is not independent of the potential as it should be.  The previous point that Hartree terms vanish helps a bit since $k_0$ then depends only on the external trap and bare chemical potentials.  (Otherwise, the DFT would be state-dependent which would be even worse!)\n",
    "\n",
    "  The results of this simple approach must be interpreted instead as the results of a DFT fixing the following combination:\n",
    "  \n",
    "  $$\n",
    "    \\tilde{C} - \\frac{m}{2\\pi \\hbar^2}\\ln k_0\n",
    "  $$\n",
    "\n",
    "  which becomes independent of $k_c$ in the limit of large cutoff.  Note that this diverges at the classical turning points where $k_0 = 0$.  I am not sure if this poses any issues, and perhaps is expected and related to some of the divergent behaviour in 2D where results depend on the boundary conditions quite strongly. *(One should include a dimensionless factor in the log to render $k_0/\\tilde{k}$ dimensionless, but this will just be absorbed into the constant value.)*  In any case, this simple regularization procedure should be fine for qualitative and exploratory work keeping in mind that the results might depart strongly from \"physical\" 2D results near the turning points."
   ]
  },
  {
   "cell_type": "markdown",
   "metadata": {},
   "source": [
    "## Example: 2D"
   ]
  },
  {
   "cell_type": "markdown",
   "metadata": {},
   "source": [
    "As an example, consider homogeneous states in 2D.  Suppose one knows $\\Delta$ and $\\mu_+$, how should $\\tilde{C}$ be determined?  In principle, one can simply compute:\n",
    "\n",
    "$$\n",
    "  \\tilde{C}(n_a, n_b) = \\lim_{k_c\\rightarrow\\infty}\\left(\n",
    "    - \\frac{\\nu_c}{\\Delta} + \\frac{1}{2}\\int_0^{k_c} \\frac{\\d{k}}{2\\pi} \\frac{k}{\\epsilon_+ + \\I 0^+}\n",
    "  \\right)\n",
    "  = \\frac{1}{2} \\int_0^{\\infty}\\frac{\\d{k}}{2\\pi}\\left(- \\frac{k}{\\sqrt{\\epsilon_+^2 + \\Delta^2}} +  \\frac{k}{\\epsilon_+ + \\I 0^+}\\right).\n",
    "$$\n",
    "\n",
    "However, numerically computing this integral can be challenging because of the pole.  We can proceed as we would were we performing the computation in a discrete basis. "
   ]
  },
  {
   "cell_type": "markdown",
   "metadata": {},
   "source": [
    "## Thomas Fermi Completion"
   ]
  },
  {
   "cell_type": "markdown",
   "metadata": {},
   "source": [
    "To facilitate convergence in the case when the solutions vary slowly, we can include states with $E>E_c$ by assuming that on length-scales smaller than $1/k_c$ the solution is homogeneous and performing the integrals.  This can be done exactly (numerically completing the integrals) or as a series approximation in $1/k_c$.\n",
    "\n",
    "As an example, consider the computation of the gap equation.  We will illustrate this with symmetric homogeneous matter in 2D.  As discussed above, this presents some difficulties due to the divergent behaviour of $\\Lambda_c$.  In a typical calculation, this would proceed as follows:\n",
    "\n",
    "1. First compute the anomalous density $\\nu_c$ by diagonalizing the Hamiltonian and include only states with $\\abs{E}<E_c = \\hbar^2k_c^2/2m$.  For 2D homogeneous matter this would be\n",
    "\n",
    "   $$\n",
    "     \\nu_c = \\int_{0}^{k_c}\\frac{k\\d{k}}{2\\pi}\\;\\frac{\\Delta}{2\\sqrt{\\epsilon_+^2 + \\Delta^2}}.\n",
    "   $$\n",
    "\n",
    "2. We would then use the regulated equation for $\\tilde{C}$ to compute the coupling constant:\n",
    "\n",
    "   $$\n",
    "     g_c = \\frac{1}{\\Lambda_c - \\tilde{C}}.\n",
    "   $$\n",
    "  \n",
    "3. Finally, we would use the gap equation to find the self-consistency condition $\\Delta = g_c\\nu_c$.\n",
    "\n",
    "Putting these together, we have:\n",
    "\n",
    "$$\n",
    "  \\tilde{C}(n_a, n_b) = -\\frac{\\nu_c}{\\Delta} + \\Lambda_c + \\order(k_c^{-4}) \n",
    "  = -\\int_{0}^{k_c}\\frac{k\\d{k}}{2\\pi}\\;\\frac{\\Delta}{2\\sqrt{\\epsilon_+^2 + \\Delta^2}}\n",
    "  + \\frac{1}{2}\\int_{0}^{k_c}\\frac{k\\d{k}}{2\\pi}\\; \\frac{1}{\\epsilon_+ + \\I 0^+}\n",
    "  + \\order(k_c^{-4}).\n",
    "$$\n",
    "\n",
    "This is missing the contributions from the states above $k_c$ which would be corrected by including the full integrals:\n",
    "\n",
    "$$\n",
    "  \\tilde{C}(n_a, n_b) = -\\frac{\\nu_c}{\\Delta} + \\Lambda_c\n",
    "  + \\frac{1}{2}\\int_{k_c}^{\\infty}\\frac{k\\d{k}}{2\\pi}\\;\\left(\n",
    "    \\frac{1}{\\epsilon_+ + \\I 0^+} -\\frac{1}{\\sqrt{\\epsilon_+^2 + \\Delta^2}}\\right).\n",
    "$$\n",
    "\n",
    "We call this latter correction the \"Thomas-Fermi Completion\".  The idea is to assume that on length scales shorter than $1/k_c$, the system is approximately homogeneous and so one can use the homogeneous equations to complete the contributions to various pieces from the missing states.  One either computes the integrals above $k_c$ numerically, or performs a series expansion in $k_c^{-1}$ to compute the corrections at each point in space.  (These corrections will in general depend on position because the quantities in the integrand such as $\\Delta(x)$ will depend depend on position.)\n",
    "\n",
    "*Aside: this procedure also allows us to compute $\\tilde{C}$ in two dimensions.  Although the integral is finite, numerically computing through the pole is a challenge since one really needs a PV integral.  If we follow this procedure, however, we can compute $\\nu_c$ numerically, $\\Lambda_c$ analytically, then apply the TF completion.*\n",
    "\n"
   ]
  },
  {
   "cell_type": "markdown",
   "metadata": {},
   "source": [
    "\\begin{align}\n",
    "\\newcommand\\intdk{\\int\\frac{\\d^d{k}}{(2\\pi)^d}\\;}\n",
    "  n_+ &= \\intdk\\overbrace{\\left(1 - \\frac{\\epsilon^+_k}{E_k}\n",
    "               \\underbrace{\\bigl(f(\\omega_-) - f(\\omega_+)\\bigr)}_{f_\\nu}\n",
    "          \\right)}^{f_+}, &\n",
    "  n_- &= \\intdk\\overbrace{\\bigl(f(\\omega_+) - f(-\\omega_-)\\bigr)}^{f_-},\\\\\n",
    "  \\tau_+ &= \\intdk k^2f_+, &\n",
    "  \\tau_- &= \\intdk k^2f_-,\\\\\n",
    "  \\nu &= \\intdk\\frac{\\Delta}{2E_k}\\overbrace{\\bigl(f(\\omega_-)-f(\\omega_+)\\bigr)}^{f_\\nu}, &\n",
    "  \\kappa &= \\intdk \\left(\\frac{\\hbar^2k^2}{2m_+}f_+ \n",
    "                         - \\frac{\\abs{\\Delta}^2}{2E_k}f_\\nu\\right),\\\\\n",
    "  \\tilde{C} &= \\intdk \\frac{1}{2}\\left(\n",
    "    \\frac{1}{\\epsilon_+ + \\I 0^+} - \\frac{f_\\nu}{E_k}\\right).\n",
    "\\end{align}"
   ]
  },
  {
   "cell_type": "markdown",
   "metadata": {},
   "source": [
    "*(I have not carefully considered the thermal factors for $\\tilde{C}$.  In principle, it should be fine to define $\\tilde{C}$ this way, but it should also depend on the fugacity or a similar parameter.)*"
   ]
  },
  {
   "cell_type": "markdown",
   "metadata": {},
   "source": [
    "\n",
    "$$\n",
    "  n^{3D}_+ \\approx \\int_{E<E_c}\\frac{\\d^d{k}}{(2\\pi)^d}\n",
    "    \\left[1 - \\frac{\\epsilon_+}{\\sqrt{\\epsilon_+^2 + \\abs{\\Delta}^2}}\\right]\n",
    "  + \\frac{m^2\\abs{\\Delta}^2}{k_c \\hbar^4\\pi^2}\n",
    "  + \\frac{4m^3\\abs{\\Delta^2}\\mu}{3\\hbar^6 \\pi^2 k_c^3}\n",
    "  + \\order(k_c^{-5}),\n",
    "  \\\\\n",
    "  \\kappa^{3D} \\approx \\int_{E<E_c}\\frac{\\d^d{k}}{(2\\pi)^d}\\;\\left(\\frac{\\hbar^2\\tau_c}{2m} - \\Delta^\\dagger \\nu_c\\right)\n",
    "  + \\frac{m^2 \\mu \\abs{\\Delta}^2}{\\hbar^4 \\pi^2 k_c}\n",
    "  + \\frac{m^3\\abs{\\Delta}^2(8\\mu^2-\\abs{\\Delta}^2)}{6\\hbar^6\\pi^2 k_c^3}\n",
    "  +\\order(k_c^{-5}),  \n",
    "$$\n",
    "\n"
   ]
  },
  {
   "cell_type": "markdown",
   "metadata": {},
   "source": [
    "### 3D\n",
    "\n",
    "Here we check the results for homogeneous matter in various dimensions.  In 3D can compare these with the results we know for the BdG equation (Eagles-Leggett model) at unitarity:\n",
    "\n",
    "$$\n",
    "  \\newcommand{\\E}{\\mathcal{E}}\\newcommand{\\e}{\\epsilon}\n",
    "  n_+ = n_a+n_b = \\frac{k_F^3}{3\\pi^2}, \\qquad\n",
    "  \\e_F = \\frac{\\hbar^2 k_F^2}{2m}, \\qquad\n",
    "  \\E_{FG} = \\frac{k_F^5}{10m\\pi^2} = \\frac{3}{5}n_+\\e_F, \\qquad\n",
    "  \\tilde{C} = 0,\n",
    "$$\n",
    "\\begin{align*}\n",
    "  \\xi = \\frac{\\E}{\\E_{FG}}\n",
    "      = \\frac{\\mu}{\\e_F} &= 0.59060550703283853378393810185221521748413488992993\\cdots\\\\\n",
    "  \\frac{\\Delta}{\\e_F} &= 0.68640205206984016444108204356564421137062514068346\\cdots\\\\\n",
    "  \\frac{\\Delta}{\\mu}& = 1.162200561790012570995259741628790656202543181557689\\cdots.\n",
    "\\end{align*}\n",
    "\n",
    "### 2D\n",
    "\n",
    "In 2D, we must compute results but we seem to have:\n",
    "\n",
    "$$\n",
    "  n_+ = \\frac{k_F^2}{2\\pi}, \\qquad\n",
    "  \\e_F = \\frac{\\hbar^2 k_F^2}{2m}, \\qquad\n",
    "  \\E_{FG} = \\frac{k_F^4}{8m\\pi} = \\frac{1}{2}n_+\\e_F, \\qquad\n",
    "  \\tilde{C} = 0,\\\\\n",
    "  \\frac{\\mu}{\\e_F} = \\frac{1}{2},\\qquad\n",
    "  \\frac{\\Delta}{\\e_F} = \\sqrt{2}\\\\\n",
    "$$\n",
    "\n",
    "### 1D\n",
    "\n",
    "In 1D, we have the following:\n",
    "\n",
    "$$\n",
    "  n_+ = \\frac{k_F}{\\pi}, \\qquad \n",
    "  \\e_F = \\frac{\\hbar^2 k_F^2}{2m}, \\qquad\n",
    "  \\E_{FG} = \\frac{k_F^3}{3m\\pi} = \\frac{2}{3}n_+\\e_F, \\qquad\n",
    "  \\tilde{C} = -\\frac{m}{\\hbar^2k_F},\\\\\n",
    "  \\frac{\\mu}{\\e_F} = 0.28223521359741266,\\qquad\n",
    "  \\frac{\\Delta}{\\e_F} = 0.41172622996179004.\n",
    "$$"
   ]
  },
  {
   "cell_type": "code",
   "execution_count": null,
   "metadata": {},
   "outputs": [],
   "source": [
    "import tf_completion as tf;reload(tf)\n",
    "\n",
    "# Test BdG at unitary point.\n",
    "m = hbar = kF = 1.0\n",
    "eF = (hbar*kF)**2/2/m\n",
    "nF = kF**3/3/np.pi**2\n",
    "E_FG = 3*nF*eF/5\n",
    "xi = 0.59060550703283853378393810185221521748413488992993\n",
    "mu = mu_a = mu_b = xi*eF\n",
    "delta = 0.68640205206984016444108204356564421137062514068346*eF\n",
    "\n",
    "args = dict(mu_a=mu_a, mu_b=mu_b, delta=delta, m_a=m, m_b=m, hbar=hbar, d=3, T=0.0)\n",
    "assert np.allclose(tf.integrate(tf.n_p_integrand, **args).n, nF)\n",
    "assert np.allclose(tf.compute_C(**args).n, 0)\n",
    "#assert np.allclose(tf.integrate(tf.kappa_integrand, **args).n, E_FG)\n",
    "\n",
    "# The kappa integral has roundoff error for large k, so we use fixed k_c\n",
    "assert np.allclose(tf.integrate(tf.kappa_integrand, k_c=100, **args).n,\n",
    "                   xi*E_FG, rtol=1e-2)"
   ]
  },
  {
   "cell_type": "code",
   "execution_count": null,
   "metadata": {},
   "outputs": [],
   "source": [
    "import tf_completion as tf;reload(tf)\n",
    "\n",
    "m = hbar = kF = 1.0\n",
    "nF = kF/np.pi\n",
    "eF = (hbar*kF)**2/2/m\n",
    "E_FG = 3*nF*eF/5\n",
    "C1_unit = m/hbar**2/kF\n",
    "\n",
    "mu = mu_a = mu_b = 0.28223521359741266*eF\n",
    "delta = 0.41172622996179004*eF\n",
    "\n",
    "args = dict(mu_a=mu_a, mu_b=mu_b, delta=delta,\n",
    "            m_a=m, m_b=m, hbar=hbar, d=1, T=0.0)\n",
    "assert np.allclose(tf.integrate(tf.n_p_integrand, **args).n, nF)\n",
    "assert np.allclose(tf.compute_C(**args).n, -C1_unit)"
   ]
  },
  {
   "cell_type": "code",
   "execution_count": null,
   "metadata": {},
   "outputs": [],
   "source": [
    "import homogeneous;reload(homogeneous)\n",
    "s = homogeneous.Homogeneous1D()\n",
    "v0, ns, mus = s.get_BCS_v_n_e((mu, mu), delta)\n",
    "ns.sum(), nF"
   ]
  },
  {
   "cell_type": "code",
   "execution_count": null,
   "metadata": {},
   "outputs": [],
   "source": [
    "import vortex_2d;reload(vortex_2d)\n",
    "m = hbar = kF = 1.0\n",
    "nF = kF/np.pi\n",
    "eF = (hbar*kF)**2/2/m\n",
    "E_FG = 3*nF*eF/5\n",
    "C1_unit = m/hbar**2/kF\n",
    "mu = mu_a = mu_b = 0.28223521359741266*eF\n",
    "delta = 0.41172622996179004*eF\n",
    "\n",
    "s = vortex_2d.BCS_1D(Nx=32, Lx=10.0)\n",
    "n_a, n_b, nu = s.get_densities(mus=(mu_a, mu_b), delta=delta)\n",
    "(n_a+n_b).mean(), nu.mean()"
   ]
  },
  {
   "cell_type": "code",
   "execution_count": null,
   "metadata": {},
   "outputs": [],
   "source": [
    "import bcs;reload(bcs)\n",
    "s = bcs.BCS(N=32, L=100.)\n",
    "s.get_R_twist_average((mu, mu), delta)[0,0], nF"
   ]
  },
  {
   "cell_type": "code",
   "execution_count": null,
   "metadata": {},
   "outputs": [],
   "source": [
    "k = np.linspace(0, 100, 100)\n",
    "plt.plot(k, tf_completion.n_p_integrand(k**2, **args))\n",
    "np.trapz(tf_completion.n_p_integrand(k**2, **args)*k**2/2/np.pi**2, k)"
   ]
  },
  {
   "cell_type": "code",
   "execution_count": null,
   "metadata": {},
   "outputs": [],
   "source": [
    "from scipy.optimize import brentq\n",
    "import homogeneous\n",
    "m = hbar = 1.0\n",
    "np.random.seed(1)\n",
    "delta = np.random.random(1)\n",
    "lam_inv = 0.5\n",
    "lam = 1./lam_inv\n",
    "\n",
    "def _lam(mu_eff):\n",
    "    E_N_E_2, _lam = homogeneous.BCS(mu_eff=mu_eff,  delta=delta)\n",
    "    return _lam - lam\n",
    "\n",
    "mu_eff = brentq(_lam, 0.6, 0.8)\n",
    "\n",
    "v_0, n, mu, e = homogeneous.get_BCS_v_n_e(mu_eff=mu_eff, delta=delta)\n",
    "E_N_E_2, lam = homogeneous.BCS(mu_eff=mu_eff,  delta=delta)\n",
    "mu_tilde = (hbar**2/m/v_0**2)*mu\n",
    "assert np.allclose(lam, 1./0.5)\n",
    "assert np.allclose(mu_tilde, 0.0864, atol=0.0005)    \n",
    "assert np.allclose(E_N_E_2, -0.3037, atol=0.0005)\n",
    "\n",
    "import tf_completion;reload(tf_completion)\n",
    "args = dict(mu_a=mu_eff, mu_b=mu_eff, delta=delta, m_a=m, m_b=m, hbar=hbar, T=0.0)\n",
    "nu = tf_completion.integrate(tf_completion.nu_integrand, d=1, **args)\n",
    "v_0 = delta/nu.n\n",
    "mu_tilde = (hbar**2/m/v_0**2)*mu\n",
    "assert np.allclose(mu_tilde, 0.0864, atol=0.0005)   \n",
    "#tf_completion.n_p_integrand(0, **args)\n",
    "#plt.plot(k, i(k))\n",
    "#plt.plot(k, tf_completion.n_p_integrand(k**2, **args)*k**2/2/np.pi**2)"
   ]
  },
  {
   "cell_type": "code",
   "execution_count": null,
   "metadata": {},
   "outputs": [],
   "source": []
  },
  {
   "cell_type": "code",
   "execution_count": null,
   "metadata": {},
   "outputs": [],
   "source": [
    "# 2D Values\n",
    "hbar = m = 1\n",
    "kF = 1.0\n",
    "eF = (hbar*kF)**2/2/m\n",
    "nF = kF**2/2/np.pi\n",
    "mu = 0.5*eF\n",
    "delta = np.sqrt(2)*eF"
   ]
  },
  {
   "cell_type": "code",
   "execution_count": null,
   "metadata": {},
   "outputs": [],
   "source": [
    "import tf_completion;reload(tf_completion)\n",
    "args = dict(mu_a=mu, mu_b=mu, delta=delta, m_a=m, m_b=m, hbar=hbar, T=0.0)\n",
    "#tf_completion.integrate(tf_completion.n_p_integrand, d=3, **args), nF"
   ]
  },
  {
   "cell_type": "code",
   "execution_count": null,
   "metadata": {},
   "outputs": [],
   "source": [
    "from mmfutils.math.integrate import mquad\n",
    "import vortex_2d;reload(vortex_2d)\n",
    "bcs = vortex_2d.BCS0(Emax=100.0, T=0.0)\n",
    "\n",
    "def integrand(k, d=2):\n",
    "    ns_nu = bcs.get_ns_nu(k, mus=(mu, mu), delta=delta)\n",
    "    if d == 2:\n",
    "        return ns_nu*k/2/np.pi\n",
    "    \n",
    "n_a, n_b, nu_c = mquad(integrand, 0, 1000000.0, points=[kF]).ravel()\n",
    "#assert np.allclose(nF, n_a+n_b)\n",
    "#nu\n",
    "nF - n_a - n_b"
   ]
  },
  {
   "cell_type": "code",
   "execution_count": null,
   "metadata": {},
   "outputs": [],
   "source": []
  },
  {
   "cell_type": "code",
   "execution_count": null,
   "metadata": {},
   "outputs": [],
   "source": [
    "import vortex_2d;reload(vortex_2d)\n",
    "bcs = vortex_2d.BCS(T=0.0, Lxy=(20.0, 20.0))\n",
    "kF = 1.0\n",
    "eF = kF**2/2/m\n",
    "nF = kF**2/2/np.pi\n",
    "mu = 0.5*eF\n",
    "delta = np.sqrt(2)*eF\n",
    "R = bcs.get_R(mus=[mu, mu], delta=delta)"
   ]
  },
  {
   "cell_type": "code",
   "execution_count": null,
   "metadata": {},
   "outputs": [],
   "source": [
    "bcs.get_densities(R)\n",
    "N = R.shape[0]//2\n",
    "n_a = np.diag(R[:N,:N])\n",
    "n_b = np.diag(R[N:,N:])\n",
    "2*n_a.mean().real, 2*n_b.mean().real, nF"
   ]
  },
  {
   "cell_type": "code",
   "execution_count": null,
   "metadata": {},
   "outputs": [],
   "source": [
    "bcs.get_densities(R)\n",
    "N = R.shape[0]//2\n",
    "n_a = np.diag(R[:N,:N])\n",
    "n_b = np.diag(R[N:,N:])\n",
    "2*n_a.mean().real, 2*n_b.mean().real, nF"
   ]
  },
  {
   "cell_type": "code",
   "execution_count": null,
   "metadata": {},
   "outputs": [],
   "source": [
    "kc = np.sqrt(2*m*bcs.Ec)\n",
    "kc, integrate(n_integrand, mu=mu, delta=delta, d=2, k_c=kc)"
   ]
  },
  {
   "cell_type": "code",
   "execution_count": null,
   "metadata": {},
   "outputs": [],
   "source": [
    "from functools import partial\n",
    "import numpy as np\n",
    "from scipy.integrate import quad\n",
    "from uncertainties import ufloat\n",
    "\n",
    "hbar = 1.\n",
    "m = 1.\n",
    "\n",
    "def n_integrand(k, mu, delta):\n",
    "    ep = (hbar*k)**2/2/m - mu\n",
    "    E = np.sqrt(ep**2 + abs(delta)**2)\n",
    "    return (1 - ep/E)\n",
    "\n",
    "def nu_integrand(k, mu, delta):\n",
    "    ep = (hbar*k)**2/2./m - mu\n",
    "    E = np.sqrt(ep**2 + abs(delta)**2)\n",
    "    return delta/2/E\n",
    "\n",
    "def tau_integrand(k, mu, delta):\n",
    "    ep = (hbar*k)**2/2./m - mu\n",
    "    E = np.sqrt(ep**2 + abs(delta)**2)\n",
    "    return k**2*(1. - ep/E)\n",
    "\n",
    "def E_integrand(k, mu, delta):\n",
    "    tau = tau_integrand(k, mu=mu, delta=delta)\n",
    "    nu = nu_integrand(k, mu=mu, delta=delta)\n",
    "    #n = n_integrand(k, mu=mu, delta=delta)\n",
    "    return hbar**2*tau/2/m - delta*nu\n",
    "\n",
    "def C_integrand(k, mu, delta, shift=0.0):\n",
    "    \"\"\"Integrand without chemical potential shift.\n",
    "    \n",
    "    This works better for numerical integration with infinite limits.\n",
    "    \"\"\"\n",
    "    ep = (hbar*k)**2/2/m - mu\n",
    "    return (0.5/(ep+shift*1j) - nu_integrand(k, mu=mu, delta=delta)/delta).real\n",
    "\n",
    "def C0_integrand(k, mu, delta):\n",
    "    \"\"\"Integrand without chemical potential shift.\n",
    "    \n",
    "    This works better for numerical integration with infinite limits.\n",
    "    \"\"\"\n",
    "    k0 = np.sqrt(2*m*mu)/hbar\n",
    "    ep0 = (hbar*k)**2/2/m\n",
    "    return (0.5/ep0 - nu_integrand(k, mu=mu, delta=delta)/delta).real\n",
    "\n",
    "def integrate(integrand, mu, delta, k0=0, k_c=np.inf, d=3, **kw):\n",
    "    if d == 1:\n",
    "        f = lambda k: integrand(k, mu=mu, delta=delta)/np.pi\n",
    "    elif d == 2:\n",
    "        f = lambda k: integrand(k, mu=mu, delta=delta)*k/2/np.pi\n",
    "    elif d == 3:\n",
    "        f = lambda k: integrand(k, mu=mu, delta=delta)*k**2/2/np.pi**2\n",
    "    return quad(f, k0, k_c, **kw)\n",
    "\n",
    "def Lambda(k_c, mu, d=3):\n",
    "    k_0 = np.sqrt(2*m*mu)/hbar\n",
    "    if d == 3:\n",
    "        return m/hbar**2 * k_c/2/np.pi**2*(\n",
    "            1 - k_0/2/k_c*np.log((k_c+k_0)/(k_c-k_0)))\n",
    "    elif d == 2:\n",
    "        return m/hbar**2/4/np.pi * np.log((k_c/k_0)**2-1)\n",
    "    elif d == 1:\n",
    "        return m/hbar**2/2/np.pi/k_0 * np.log((k_c-k_0)/(k_c+k_0))\n",
    "    \n",
    "e_F = 1.0\n",
    "k_F = np.sqrt(2*m*e_F)\n",
    "n_F = k_F**3/3/np.pi**2\n",
    "E_FG = 3./5*n_F*e_F\n",
    "mu = 0.59060550703283853378393810185221521748413488992993*e_F\n",
    "delta = 1.162200561790012570995259741628790656202543181557689*mu\n",
    "delta = 0.68640205206984016444108204356564421137062514068346*e_F\n",
    "\n",
    "kw = dict(mu=mu, delta=delta)\n",
    "n_p = ufloat(*integrate(n_integrand, **kw))\n",
    "assert np.allclose(n_p.n, n_F)\n",
    "\n",
    "C0 = ufloat(*integrate(C0_integrand, **kw))\n",
    "assert np.allclose(C0.n, 0)"
   ]
  },
  {
   "cell_type": "markdown",
   "metadata": {},
   "source": [
    "Here we compute the 2D results.  We can simply integrate the $\\tilde{C}$ equation, but numerically this has issues near the pole.  We circumvent these by shifting the pole into the complex plane, but have limited accuracy.  Using the TF completion trick discussed above, we can compute this at finite $k_c$ to high precision in a manner who's result is independent of $k_c$.  For inhomogeneous states, the results would depend on $k_c$ to an extent determined by how much the assumption of local homogeneity is violated."
   ]
  },
  {
   "cell_type": "code",
   "execution_count": null,
   "metadata": {},
   "outputs": [],
   "source": [
    "## 2D values.  Here we need to use the TF completion trick:\n",
    "e_F = 1.0\n",
    "k_F = np.sqrt(2*m*e_F)\n",
    "n_F = k_F**2/2/np.pi\n",
    "E_FG = 1./2*n_F*e_F\n",
    "mu = e_F/2.0\n",
    "delta = np.sqrt(2)*e_F\n",
    "\n",
    "def compute_C(k_c, **kw):\n",
    "    \"\"\"Compute Ctilde using the TF completion trick.\"\"\"\n",
    "    nu_c = ufloat(*integrate(nu_integrand, k_c=k_c, **kw))\n",
    "    Lambda_c = Lambda(k_c, mu=kw['mu'], d=kw['d'])\n",
    "    C_TF = ufloat(*integrate(C_integrand, k0=k_c, **kw))\n",
    "    return Lambda_c - nu_c/kw['delta'] + C_TF\n",
    "\n",
    "kw.update(mu=mu, delta=delta, d=2)\n",
    "n2_p = ufloat(*integrate(n_integrand, **kw))\n",
    "assert np.allclose(n2_p.n, n_F)\n",
    "\n",
    "C = compute_C(2.0, epsabs=1e-14, epsrel=1e-14, **kw)\n",
    "assert np.allclose(C.n, 0)"
   ]
  },
  {
   "cell_type": "code",
   "execution_count": null,
   "metadata": {},
   "outputs": [],
   "source": [
    "((integrate(E_integrand, mu=mu, delta=delta, k0=0, k_c=10)[0]\n",
    "  + integrate(E_integrand, mu=mu, delta=delta, k0=10, k_c=20)[0]\n",
    "  + integrate(E_integrand, mu=mu, delta=delta, k0=20, k_c=np.inf)[0]),\n",
    " 0.59060550703283853378393810185221521748413488992993*E_FG)"
   ]
  },
  {
   "cell_type": "code",
   "execution_count": null,
   "metadata": {},
   "outputs": [],
   "source": [
    "from scipy.special import hyp2f1\n",
    "def P(n, x):\n",
    "    return hyp2f1(-n,n+1,1,(1-x)/2.0)\n",
    "\n",
    "def f(alpha, a):\n",
    "    return -np.pi/np.sin(np.pi*alpha)*P(alpha, -a)\n",
    "\n",
    "y_U = 0.65222953196994067235\n",
    "p0 = np.sqrt(2*m*mu)\n",
    "print(-p0**5*(f(5./2, y_U) \n",
    "        - y_U*f(3./2, y_U) \n",
    "        + 0.5*(1-y_U**2)*f(0.5, y_U))/y_U**(5./2)/8/np.pi**2, \n",
    "      0.59060550703283853378393810185221521748413488992993*E_FG)\n",
    "\n",
    "5./4*(4./3)**(5./3)*((f(5./2, y_U) - y_U*f(3./2, y_U) + 0.5*(1-y_U**2)*f(0.5, y_U)) \n",
    " / abs(f(3./2, y_U) - y_U*f(1./2, y_U))**(5./3))"
   ]
  },
  {
   "cell_type": "code",
   "execution_count": null,
   "metadata": {},
   "outputs": [],
   "source": [
    "err = []\n",
    "p = 5\n",
    "ks = np.linspace(10.0**(-p),100**(-p),100)**(-1./p)\n",
    "for k_c in ks:\n",
    "    E = ufloat(*integrate(E_integrand, mu=mu, delta=delta, k_c=k_c))\n",
    "    E_ = 0.59060550703283853378393810185221521748413488992993*E_FG\n",
    "    err.append((E_ - E).n)\n",
    "err = np.array(err)\n",
    "dE = ((m/hbar**2)**2*mu*delta**2/np.pi**2/ks\n",
    "      + (m/hbar**2)**3*delta**2 * (8*mu**2-delta**2)/6/np.pi**2/ks**3)\n",
    "err -= dE\n",
    "plt.plot(1./ks**p, err, '+')\n",
    "#plt.plot(1./ks, dE+0*0.0038)\n",
    "#plt.xlim(0, 0.1);plt.ylim(0, err.max());"
   ]
  },
  {
   "cell_type": "code",
   "execution_count": null,
   "metadata": {},
   "outputs": [],
   "source": [
    "integrate(C_integrand, k0=0, **kw)\n",
    "kw\n",
    "## 1D values\n",
    "kw.update(d=1)\n",
    "n1_p = ufloat(*integrate(n_integrand, **kw))\n",
    "C1 = ufloat(*integrate(C0_integrand, **kw))\n",
    "n1_p, C1"
   ]
  },
  {
   "cell_type": "markdown",
   "metadata": {},
   "source": [
    "The energy density is hard to compute because of roundoff error:"
   ]
  },
  {
   "cell_type": "code",
   "execution_count": null,
   "metadata": {},
   "outputs": [],
   "source": [
    "%pylab inline\n",
    "E = np.linspace(0,2,100)\n",
    "wp = E\n",
    "wm = -E\n",
    "h.T = 0.\n",
    "plt.plot(E, 1 - h.f(-wm) - h.f(wp))\n",
    "plt.plot(E, h.f(wm) - h.f(wp), '+')"
   ]
  },
  {
   "cell_type": "code",
   "execution_count": null,
   "metadata": {},
   "outputs": [],
   "source": [
    "k = np.linspace(0,2,100)\n",
    "plt.plot(k, h._C0_integrand(k))\n",
    "plt.plot(k, C0_integrand(k, mu=mu, delta=delta), '+')"
   ]
  },
  {
   "cell_type": "code",
   "execution_count": null,
   "metadata": {},
   "outputs": [],
   "source": [
    "import homogeneous_mmf;reload(homogeneous_mmf)\n",
    "h = homogeneous_mmf.Homogeneous(dim=2)\n",
    "h.get_C0(mus=(mu, mu), delta=delta)\n",
    "h.get_n_p(mus=(mu, mu), delta=delta)"
   ]
  },
  {
   "cell_type": "code",
   "execution_count": null,
   "metadata": {},
   "outputs": [],
   "source": [
    "3*n_p*mu/5 - n_p*mu - E[0]"
   ]
  },
  {
   "cell_type": "code",
   "execution_count": null,
   "metadata": {},
   "outputs": [],
   "source": [
    "E = ufloat(*integrate(E_integrand, mu=mu, delta=delta))\n",
    "E"
   ]
  },
  {
   "cell_type": "markdown",
   "metadata": {},
   "source": [
    "Here is how we would do it with the cutoff:"
   ]
  },
  {
   "cell_type": "code",
   "execution_count": null,
   "metadata": {},
   "outputs": [],
   "source": [
    "k_c = 100.0\n",
    "L3 = Lambda(k_c, mu=mu)\n",
    "g_c = -1./(C0.n - L3)\n",
    "assert np.allclose(g_c*integrate(nu_integrand, mu, delta, k_c=k_c)[0], delta)"
   ]
  },
  {
   "cell_type": "markdown",
   "metadata": {},
   "source": [
    "## Lattice Regularization"
   ]
  },
  {
   "cell_type": "markdown",
   "metadata": {},
   "source": [
    "When we perform the calculations on a lattice, we have a natural cutoff specified by the basis.  Unfortunately, one does not obtain uniform convergence as a function of this cutoff unless one is careful to choose it appropriately.  This is because the shell corrections do not converge."
   ]
  },
  {
   "cell_type": "markdown",
   "metadata": {},
   "source": [
    "## Hamiltonian"
   ]
  },
  {
   "cell_type": "markdown",
   "metadata": {},
   "source": [
    "The simplest implementation explicitly forms the Hamiltonian matrix.  This is not ideal for larger systems, but is a quick way to check the code.  Here we show how to form the kinetic energy by using the FFT to compute the matrix $U$ that implements the FFT."
   ]
  },
  {
   "cell_type": "code",
   "execution_count": null,
   "metadata": {},
   "outputs": [],
   "source": [
    "Nx, Ny = 64, 64\n",
    "H = np.eye(Nx*Ny).reshape(Nx, Ny, Nx, Ny)\n",
    "U = np.fft.fftn(H, axes=[0,1]).reshape(Nx*Ny, Nx*Ny)\n",
    "psi = np.random.random((Nx, Ny))\n",
    "np.allclose(np.fft.fftn(psi).ravel(), U.dot(psi.ravel()))"
   ]
  },
  {
   "cell_type": "code",
   "execution_count": null,
   "metadata": {},
   "outputs": [],
   "source": [
    "from importlib import reload\n",
    "import vortex_2d;reload(vortex_2d)\n",
    "s = vortex_2d.BCS(Nxy=(16,)*2)\n",
    "k_c = abs(s.kxy[0]).max()\n",
    "E_c = (s.hbar*k_c)**2/2/s.m\n",
    "s = vortex_2d.BCS(Nxy=(16,)*2, E_c=E_c)\n",
    "kw = dict(mus=(mu, mu), delta=delta)\n",
    "#R = s.get_R(**kw)\n",
    "H = s.get_H(**kw)\n",
    "assert np.allclose(H, H.T.conj())"
   ]
  },
  {
   "cell_type": "code",
   "execution_count": null,
   "metadata": {},
   "outputs": [],
   "source": [
    "plt.plot(E, s.f(E, E_c=np.inf))\n",
    "plt.axvline(E_c, c='y')\n",
    "plt.axvline(-E_c, c='y')"
   ]
  },
  {
   "cell_type": "code",
   "execution_count": null,
   "metadata": {},
   "outputs": [],
   "source": [
    "E"
   ]
  },
  {
   "cell_type": "code",
   "execution_count": null,
   "metadata": {},
   "outputs": [],
   "source": [
    "%pylab inline --no-import-all\n",
    "Nx, Ny = s.Nxy\n",
    "%time E, psi = np.linalg.eigh(H)\n",
    "n = -3\n",
    "u, v = psi[:, n].reshape(2, Nx, Ny)\n",
    "plt.figure(figsize=(10,5))\n",
    "plt.subplot(121);plt.imshow(abs(u)**2);plt.colorbar()\n",
    "plt.subplot(122);plt.imshow(abs(v)**2);plt.colorbar()\n",
    "plt.suptitle(E[n]);"
   ]
  },
  {
   "cell_type": "code",
   "execution_count": null,
   "metadata": {},
   "outputs": [],
   "source": [
    "R = s.get_R(**kw)\n",
    "n_a = np.diag(R[:Nx*Ny,:Nx*Ny]).reshape(s.Nxy)\n",
    "nu = np.diag(R[:Nx*Ny,Nx*Ny:]).reshape(s.Nxy)\n",
    "n_b = 1 - np.diag(R[Nx*Ny:,Nx*Ny:]).reshape(s.Nxy)\n",
    "n = n_a + n_b\n",
    "assert np.allclose(n.imag, 0)\n",
    "n = n.real\n",
    "plt.imshow(n)\n",
    "plt.colorbar()"
   ]
  },
  {
   "cell_type": "code",
   "execution_count": null,
   "metadata": {},
   "outputs": [],
   "source": [
    "n.mean(), n_p"
   ]
  },
  {
   "cell_type": "code",
   "execution_count": null,
   "metadata": {},
   "outputs": [],
   "source": [
    "gc = delta/nu.mean().real\n",
    "gc, 1./(Lambda(k_c=k_c, mu=mu, d=2) - C2.n)"
   ]
  },
  {
   "cell_type": "code",
   "execution_count": null,
   "metadata": {},
   "outputs": [],
   "source": [
    "nu.mean()"
   ]
  },
  {
   "cell_type": "markdown",
   "metadata": {},
   "source": [
    "## Derivatives"
   ]
  },
  {
   "cell_type": "code",
   "execution_count": null,
   "metadata": {},
   "outputs": [],
   "source": [
    "%pylab inline\n",
    "import numpy as np\n",
    "N = 64\n",
    "L = 2*np.pi\n",
    "dx = L / N\n",
    "x = np.arange(N) * dx - L / 2\n",
    "k = 2*np.pi * np.fft.fftfreq(N, dx)\n",
    "D = (-np.diag(np.ones(N)) + np.diag(np.ones(N-1), k=1))/dx\n",
    "D[-1, 0] = 1./dx\n",
    "D2 = -D.dot(D.T.conj())"
   ]
  },
  {
   "cell_type": "markdown",
   "metadata": {},
   "source": [
    "There is a sign error below.  Probably related to the shift $L/2$ but this needs to be be checked."
   ]
  },
  {
   "cell_type": "code",
   "execution_count": null,
   "metadata": {},
   "outputs": [],
   "source": [
    "D = np.fft.ifft(-1j*k*np.fft.fft(np.eye(N), axis=1), axis=1)\n",
    "f = np.sin(x)\n",
    "plt.plot(x, np.cos(x))\n",
    "plt.plot(x, np.fft.ifft(-1j*k*np.fft.fft(f)), '+')   # This minus sign seems wrong.  Why?\n",
    "plt.plot(x, D.dot(f), '+')\n",
    "D2 = -D.dot(D.T.conj())"
   ]
  },
  {
   "cell_type": "code",
   "execution_count": null,
   "metadata": {},
   "outputs": [],
   "source": [
    "f = np.sin(x)\n",
    "plt.plot(x, D.dot(f), ':')\n",
    "plt.plot(x, np.cos(x))"
   ]
  },
  {
   "cell_type": "code",
   "execution_count": null,
   "metadata": {},
   "outputs": [],
   "source": [
    "f = np.sin(x)\n",
    "plt.plot(x, D2.dot(f), ':')\n",
    "plt.plot(x, -np.sin(x))"
   ]
  },
  {
   "cell_type": "markdown",
   "metadata": {},
   "source": [
    "$$\n",
    "  \\int\\left(\\alpha(x) \\frac{\\hbar^2}{2m}\\tau(x) + D(n)\\right)\\d{x}\n",
    "$$\n",
    "$$\n",
    "  E = \\sum_x\\alpha(x)|\\nabla\\psi(x)|^2\\\\\n",
    "$$\n",
    "$$\n",
    "  E = \\sum_x\\alpha(x) \\psi'(x){\\psi^\\dagger}'(x)\n",
    "$$\n",
    "\n",
    "$$\n",
    "  \\psi^\\dagger\\cdot D^\\dagger \\cdot A \\cdot  D\\cdot\\psi\\\\\n",
    "  K = D^\\dagger \\cdot A \\cdot  D\n",
    "$$\n",
    "\n",
    "$$\n",
    "  (A\\psi')' = A' \\psi' + A\\psi''\\\\\n",
    "  (A\\psi)'' = (A'\\psi + A\\psi')' = (A''\\psi + A\\psi'' + 2 A'\\psi')\\\\\n",
    " A'\\psi' = \\frac{(A\\psi)'' - A''\\psi - A\\psi''}{2}\\\\\n",
    "  (A\\psi')' = \\frac{(A\\psi)'' - A''\\psi + A\\psi''}{2}\n",
    "$$\n",
    "\n",
    "$$\n",
    "  (AB)' = A'B + AB'\\\\\n",
    "  D\\cdot(AB) = [D\\cdot A]B + A[D\\cdot B]\n",
    "$$"
   ]
  },
  {
   "cell_type": "code",
   "execution_count": null,
   "metadata": {},
   "outputs": [],
   "source": [
    "# Numerical checks of the formula\n",
    "%pylab inline\n",
    "import numpy as np\n",
    "N = 64\n",
    "L = 2*np.pi\n",
    "dx = L / N\n",
    "x = np.arange(N) * dx - L / 2\n",
    "k = 2*np.pi * np.fft.fftfreq(N, dx)\n",
    "D = np.fft.ifft(-1j*k*np.fft.fft(np.eye(N), axis=1), axis=1)\n",
    "D2 = -D.dot(D.T.conj())\n",
    "alpha = np.exp(np.sin(x))\n",
    "A = np.diag(alpha)\n",
    "K = (A.dot(D2) - np.diag(D2.dot(alpha)) + D2.dot(A))/2\n",
    "assert np.allclose(D2, D2.conj().T)\n",
    "assert np.allclose(K, K.conj().T)"
   ]
  },
  {
   "cell_type": "code",
   "execution_count": null,
   "metadata": {},
   "outputs": [],
   "source": [
    "np.allclose(K, K.conj().T)"
   ]
  },
  {
   "cell_type": "code",
   "execution_count": null,
   "metadata": {},
   "outputs": [],
   "source": []
  },
  {
   "cell_type": "markdown",
   "metadata": {},
   "source": [
    "# Numerical Checks"
   ]
  },
  {
   "cell_type": "markdown",
   "metadata": {},
   "source": [
    "We start with our known solutions to the homogeneous BdG equation."
   ]
  },
  {
   "cell_type": "code",
   "execution_count": null,
   "metadata": {},
   "outputs": [],
   "source": [
    "\n",
    "\n",
    "N = R.shape[0]//2\n",
    "\n",
    "n_a = np.diag(R[:N,:N])\n",
    "n_b = np.diag(R[N:,N:])\n",
    "n_a, n_b\n",
    " "
   ]
  }
 ],
 "metadata": {
  "celltoolbar": "Initialization Cell",
  "kernelspec": {
   "display_name": "Python 3",
   "language": "python",
   "name": "python3"
  },
  "language_info": {
   "codemirror_mode": {
    "name": "ipython",
    "version": 3
   },
   "file_extension": ".py",
   "mimetype": "text/x-python",
   "name": "python",
   "nbconvert_exporter": "python",
   "pygments_lexer": "ipython3",
   "version": "3.7.2"
  },
  "toc": {
   "base_numbering": 1,
   "nav_menu": {},
   "number_sections": true,
   "sideBar": true,
   "skip_h1_title": false,
   "title_cell": "Table of Contents",
   "title_sidebar": "Contents",
   "toc_cell": false,
   "toc_position": {},
   "toc_section_display": true,
   "toc_window_display": false
  }
 },
 "nbformat": 4,
 "nbformat_minor": 2
}
