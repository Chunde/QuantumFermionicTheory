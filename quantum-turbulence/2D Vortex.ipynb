{
 "cells": [
  {
   "cell_type": "code",
   "execution_count": 1,
   "metadata": {},
   "outputs": [
    {
     "data": {
      "text/html": [
       "<style>.grade {\n",
       "   background-color: #66FFCC;\n",
       "}\n",
       "</style>"
      ],
      "text/plain": [
       "<IPython.core.display.HTML object>"
      ]
     },
     "metadata": {},
     "output_type": "display_data"
    },
    {
     "data": {
      "application/javascript": [],
      "text/plain": [
       "<IPython.core.display.Javascript object>"
      ]
     },
     "metadata": {},
     "output_type": "display_data"
    },
    {
     "data": {
      "text/html": [
       "<script id=\"MathJax-Element-48\" type=\"math/tex\">\\newcommand{\\vect}[1]{\\mathbf{#1}}\n",
       "\\newcommand{\\uvect}[1]{\\hat{#1}}\n",
       "\\newcommand{\\abs}[1]{\\lvert#1\\rvert}\n",
       "\\newcommand{\\norm}[1]{\\lVert#1\\rVert}\n",
       "\\newcommand{\\I}{\\mathrm{i}}\n",
       "\\newcommand{\\ket}[1]{\\left|#1\\right\\rangle}\n",
       "\\newcommand{\\bra}[1]{\\left\\langle#1\\right|}\n",
       "\\newcommand{\\braket}[1]{\\langle#1\\rangle}\n",
       "\\newcommand{\\Braket}[1]{\\left\\langle#1\\right\\rangle}\n",
       "\\newcommand{\\op}[1]{\\mathbf{#1}}\n",
       "\\newcommand{\\mat}[1]{\\mathbf{#1}}\n",
       "\\newcommand{\\d}{\\mathrm{d}}\n",
       "\\newcommand{\\pdiff}[3][]{\\frac{\\partial^{#1} #2}{\\partial {#3}^{#1}}}\n",
       "\\newcommand{\\diff}[3][]{\\frac{\\d^{#1} #2}{\\d {#3}^{#1}}}\n",
       "\\newcommand{\\ddiff}[3][]{\\frac{\\delta^{#1} #2}{\\delta {#3}^{#1}}}\n",
       "\\newcommand{\\floor}[1]{\\left\\lfloor#1\\right\\rfloor}\n",
       "\\newcommand{\\ceil}[1]{\\left\\lceil#1\\right\\rceil}\n",
       "\\DeclareMathOperator{\\Tr}{Tr}\n",
       "\\DeclareMathOperator{\\erf}{erf}\n",
       "\\DeclareMathOperator{\\erfi}{erfi}\n",
       "\\DeclareMathOperator{\\sech}{sech}\n",
       "\\DeclareMathOperator{\\sgn}{sgn}\n",
       "\\DeclareMathOperator{\\order}{O}\n",
       "\\DeclareMathOperator{\\diag}{diag}\n",
       "\n",
       "\\newcommand{\\mylabel}[1]{\\label{#1}\\tag{#1}}\n",
       "\\newcommand{\\degree}{\\circ}</script>"
      ],
      "text/plain": [
       "<IPython.core.display.HTML object>"
      ]
     },
     "metadata": {},
     "output_type": "display_data"
    },
    {
     "data": {
      "text/html": [],
      "text/plain": [
       "<IPython.core.display.HTML object>"
      ]
     },
     "metadata": {},
     "output_type": "display_data"
    },
    {
     "data": {
      "text/html": [
       "\n",
       "<i>\n",
       "<p>This cell contains some definitions for equations and some CSS for styling\n",
       "  the notebook. If things look a bit strange, please try the following:\n",
       "<ul>\n",
       "  <li>Choose \"Trust Notebook\" from the \"File\" menu.</li>\n",
       "  <li>Re-execute this cell.</li>\n",
       "  <li>Reload the notebook.</li>\n",
       "</ul>\n",
       "</p>\n",
       "</i>\n"
      ],
      "text/plain": [
       "<IPython.core.display.HTML object>"
      ]
     },
     "metadata": {},
     "output_type": "display_data"
    }
   ],
   "source": [
    "import mmf_setup;mmf_setup.nbinit(hgroot=False)\n",
    "from mmfutils.contexts import NoInterrupt"
   ]
  },
  {
   "cell_type": "markdown",
   "metadata": {},
   "source": [
    "# Axially Symmetric Vortices"
   ]
  },
  {
   "cell_type": "markdown",
   "metadata": {},
   "source": [
    "In this notebook, I will briefly review the theory required to implement an axially symmetric configuration for solving the BdG equations (later to be extended to the ASLDA).  The relevant code will be implemented in the file [`2D_vortex.py`](2D_vortex.py)."
   ]
  },
  {
   "cell_type": "markdown",
   "metadata": {},
   "source": [
    "# Regulating the BdG"
   ]
  },
  {
   "cell_type": "markdown",
   "metadata": {},
   "source": [
    "We start with the issue of regularization.  The $T=0$ equations in $d$ dimensions can be expressed in terms of the gap $\\Delta$ and effective chemical potential $\\mu_{\\text{eff}} = \\mu_0 + g_cn_+/2$ where $g_c>0$ represents an attractive interaction:\n",
    "\n",
    "$$\n",
    "  \\Delta = g_c \\nu_c, \\qquad\n",
    "  \\epsilon_+ = \\frac{\\hbar^2k^2}{2m} - \\mu_{\\text{eff}}, \\qquad\n",
    "  \\mathcal{E} = \\frac{E}{V} \n",
    "              = \\frac{\\hbar^2\\tau_c}{2m} - g_c(n_an_b+\\nu_c^\\dagger\\nu_c)\n",
    "              = \\frac{\\hbar^2\\tau_c}{2m} - \\Delta^\\dagger\\nu_c - \\frac{(\\mu_{\\text{eff}} - \\mu_0)n_+}{2},\n",
    "$$\n",
    "\n",
    "through the following integrals:\n",
    "  \n",
    "\\begin{align}\n",
    "  \\nu_c &= \\int_{c}\\frac{\\d^d{k}}{(2\\pi)^d}\\;\\frac{\\Delta}{2\\sqrt{\\epsilon_+^2 + \\Delta^2}}\n",
    "  &&\\sim \\int_{c}\\frac{\\d^d{k}}{(2\\pi)^d}\\;\\frac{m\\Delta}{\\hbar^2 k^2},\\\\\n",
    "  \\tau_c &= \\int_c\\frac{\\d^d{k}}{(2\\pi)^d}\\; k^2\n",
    "    \\left[1 - \\frac{\\epsilon_+}{\\sqrt{\\epsilon_+^2 + \\abs{\\Delta}^2}}\\right]\n",
    "  &&\\sim \\int_c\\frac{\\d^d{k}}{(2\\pi)^d}\\; \n",
    "  \\frac{2m^2\\abs{\\Delta}^2}{\\hbar^4 k^2},\\\\\n",
    "  n_+ &= \\int_c\\frac{\\d^d{k}}{(2\\pi)^d}\n",
    "    \\left[1 - \\frac{\\epsilon_+}{\\sqrt{\\epsilon_+^2 + \\abs{\\Delta}^2}}\\right]\n",
    "  &&\\sim \\int_c\\frac{\\d^d{k}}{(2\\pi)^d}\\; \n",
    "  \\frac{2m^2\\abs{\\Delta}^2}{\\hbar^4 k^4}.\n",
    "\\end{align}"
   ]
  },
  {
   "cell_type": "markdown",
   "metadata": {},
   "source": [
    "In 1D, these converge, but in 2D and higher, the quantities $\\tau_c$ and $\\nu_c$ diverge as $\\ln(k_c)$ in 2D and as $k_c$ in 3D.  The density $n_+$ converges in both 2D and 3D, although slower in 3D.  Note that the divergence in $\\tau_c$ and $\\nu_c$ cancel in the combination\n",
    "\n",
    "\\begin{align}\n",
    "  &&\\int_c\\frac{\\d^d{k}}{(2\\pi)^d}\\;\\left(\\frac{\\hbar^2\\tau_c}{2m} - \\Delta^\\dagger \\nu_c\\right) \n",
    "  &&\\sim \\int_c\\frac{\\d^d{k}}{(2\\pi)^d}\\;\\frac{2m^2\\abs{\\Delta}^2\\mu_{\\text{eff}}}{\\hbar^4 k^4},\n",
    "\\end{align}\n",
    "\n",
    "which enters the energy density $\\mathcal{E}$.\n",
    "\n",
    "To regularize the theory, we must define some finite physical quantity.  We express this as follows (see [Bulgac:2011] Eq. (84) but note that our $g_c$ has the opposite sign, and we consider only unit effective mass $\\alpha_+ = 1$):\n",
    "\n",
    "\\begin{align}\n",
    "  \\tilde{C}(n_a, n_b) &= \\overbrace{- \\frac{\\nu_c}{\\Delta}}^{-\\frac{1}{g_c}} + \\overbrace{\\frac{1}{2}\\int_c \\frac{\\d^d{k}}{(2\\pi)^d} \\frac{1}{\\epsilon_+ + \\I 0^+}}^{\\Lambda_c} = \\frac{-1}{g_c} + \\Lambda_c\n",
    "  &&\\sim \\int_c \\frac{\\d^d{k}}{(2\\pi)^d} \\frac{2m^3\\abs{\\Delta}^2}{\\hbar^6 k^6}.\n",
    "\\end{align}\n",
    "\n",
    "where the integral is take in the principal value sense.  We include the chemical potential in the integral as advocated in [BY:2002fk].  This does not change the result in the limit $k_c \\rightarrow \\infty$ but shifts the finite portion to improve convergence.  Without this shift, the integral would behave as $\\tilde{C} \\sim -\\int_c\\d^d{k}\\;2m^2\\mu_{\\text{eff}}/(2\\pi)^d\\hbar^4 k^4$.\n",
    "\n",
    "For example, in 3D, the common Eagles-Leggett model fixes the regularization in terms of the two-body scattering length $a_s$:\n",
    "\n",
    "$$\n",
    "  \\tilde{C}(n_a, n_b) = \\frac{m}{4\\pi \\hbar^2 a_s}.\n",
    "$$\n",
    "\n",
    "The principal value integrals can be performed analytically:\n",
    "\n",
    "$$\n",
    "  \\Lambda_c^{2D} = \\frac{m}{\\hbar^2}\\frac{1}{4\\pi}\n",
    "  \\ln\\left(\\frac{k_c^2}{k_0^2}-1\\right),\\qquad\n",
    "  \\Lambda_c^{3D} = \\frac{m}{\\hbar^2}\\frac{k_c}{2\\pi^2} \n",
    "  \\left(1 - \\frac{k_0}{2k_c}\\ln\\frac{k_c+k_0}{k_c-k_0}\\right),\n",
    "$$\n",
    "\n",
    "where\n",
    "\n",
    "$$\n",
    "  \\frac{\\hbar^2k_0^2}{2m} - \\mu = 0, \\qquad\n",
    "  \\frac{\\hbar^2k_c^2}{2m} - \\mu = E_c.\n",
    "$$\n",
    "\n",
    "The latter equation allows us to replace the momentum cutoff $k_c$ in terms of an energy cutoff $E_c$ which is of use in inhomogeneous systems.\n",
    "\n",
    "[BY:2002fk]: https://doi.org/10.1103/PhysRevLett.88.042504 'Aurel Bulgac and Yongle Yu, \"Renormalization of the Hartree-Fock-Bogoliubov Equations in the Case of a Zero Range Pairing Interaction\", prl 88(4), 042504 (2002) [nucl-th/0106062v3](http://arXiv.org/abs/nucl-th/0106062v3)'\n",
    "\n",
    "[Bulgac:2011]: http://dx.doi.org/10.1007/978-3-642-21978-8_9 'Aurel Bulgac, Michael McNeil Forbes, and Piotr Magierski, \"The Unitary Fermi Gas: From Monte Carlo to Density Functionals\",  836, 305 -- 373 (2012) [1008.3933](http://arXiv.org/abs/1008.3933)'\n",
    "\n"
   ]
  },
  {
   "cell_type": "code",
   "execution_count": 25,
   "metadata": {},
   "outputs": [
    {
     "data": {
      "text/plain": [
       "(0.23811543349241718+/-4.201227618408804e-10,\n",
       " -0.10520149981915557+/-9.021641529530569e-09)"
      ]
     },
     "execution_count": 25,
     "metadata": {},
     "output_type": "execute_result"
    }
   ],
   "source": [
    "import numpy as np\n",
    "from scipy.integrate import quad\n",
    "from uncertainties import ufloat\n",
    "\n",
    "hbar = 1\n",
    "m = 1\n",
    "\n",
    "def n_integrand(k, mu, delta):\n",
    "    ep = (hbar*k)**2/2/m - mu\n",
    "    E = np.sqrt(ep**2 + abs(delta)**2)\n",
    "    return (1 - ep/E)\n",
    "\n",
    "def nu_integrand(k, mu, delta):\n",
    "    ep = (hbar*k)**2/2/m - mu\n",
    "    E = np.sqrt(ep**2 + abs(delta)**2)\n",
    "    return delta/2/E\n",
    "\n",
    "def tau_integrand(k, mu, delta):\n",
    "    ep = (hbar*k)**2/2/m - mu\n",
    "    E = np.sqrt(ep**2 + abs(delta)**2)\n",
    "    return k**2*(1 - ep/E)\n",
    "\n",
    "def E_integrand(k, mu, delta):\n",
    "    tau = tau_integrand(k, mu=mu, delta=delta)\n",
    "    nu = nu_integrand(k, mu=mu, delta=delta)\n",
    "    n = n_integrand(k, mu=mu, delta=delta)\n",
    "    return hbar**2*tau/2/m - delta*nu - mu*n\n",
    "\n",
    "def C_integrand(k, mu, delta):\n",
    "    \"\"\"Integrand without chemical potential shift.\n",
    "    \n",
    "    This works better for numerical integration with infinite limits.\n",
    "    \"\"\"\n",
    "    ep = (hbar*k)**2/2/m - mu\n",
    "    return (0.5/(ep+1e-7j) - nu_integrand(k, mu=mu, delta=delta)/delta).real\n",
    "\n",
    "def C0_integrand(k, mu, delta):\n",
    "    \"\"\"Integrand without chemical potential shift.\n",
    "    \n",
    "    This works better for numerical integration with infinite limits.\n",
    "    \"\"\"\n",
    "    k0 = np.sqrt(2*m*mu)/hbar\n",
    "    ep0 = (hbar*k)**2/2/m\n",
    "    return (0.5/ep0 - nu_integrand(k, mu=mu, delta=delta)/delta).real\n",
    "\n",
    "def integrate(integrand, mu, delta, k0=0, k_c=np.inf, d=3, **kw):\n",
    "    if d == 2:\n",
    "        f = lambda k: integrand(k, mu=mu, delta=delta)*k/2/np.pi\n",
    "    elif d == 3:\n",
    "        f = lambda k: integrand(k, mu=mu, delta=delta)*k**2/2/np.pi**2\n",
    "    return quad(f, k0, k_c, **kw)\n",
    "\n",
    "def Lambda(k_c, mu, d=3):\n",
    "    k_0 = np.sqrt(2*m*mu)/hbar\n",
    "    if d == 3:\n",
    "        return m/hbar**2 * k_c/2/np.pi**2*(\n",
    "            1 - k_0/2/k_c*np.log((k_c+k_0)/(k_c-k_0)))\n",
    "    elif d == 2:\n",
    "        return m/hbar**2/4/np.pi * np.log((k_c/k_0)**2-1)\n",
    "    \n",
    "e_F = 1.0\n",
    "k_F = np.sqrt(2*m*e_F)\n",
    "n_F = k_F**3/3/np.pi**2\n",
    "E_FG = 2./3*n_F*e_F\n",
    "mu = 0.59060550703283853378393810185221521748413488992993*e_F\n",
    "delta = 1.162200561790012570995259741628790656202543181557689*mu\n",
    "delta = 0.68640205206984016444108204356564421137062514068346*e_F\n",
    "\n",
    "kw = dict(mu=mu, delta=delta)\n",
    "n_p = ufloat(*integrate(n_integrand, **kw))\n",
    "assert np.allclose(n_p.n, k_F**3/3/np.pi**2)\n",
    "\n",
    "C0 = ufloat(*integrate(C0_integrand, **kw))\n",
    "assert np.allclose(C0.n, 0)\n",
    "\n",
    "## 2D values\n",
    "kw.update(d=2)\n",
    "n2_p = ufloat(*integrate(n_integrand, **kw))\n",
    "C2 = ufloat(*integrate(C_integrand, **kw))\n",
    "n2_p, C2"
   ]
  },
  {
   "cell_type": "markdown",
   "metadata": {},
   "source": [
    "The energy density is hard to compute because of roundoff error:"
   ]
  },
  {
   "cell_type": "code",
   "execution_count": 26,
   "metadata": {},
   "outputs": [
    {
     "data": {
      "text/plain": [
       "24.662559358457735+/-1.3452826496088056e-10"
      ]
     },
     "execution_count": 26,
     "metadata": {},
     "output_type": "execute_result"
    }
   ],
   "source": [
    "3*n_p*mu/5 - n_p*mu - E[0]"
   ]
  },
  {
   "cell_type": "code",
   "execution_count": 45,
   "metadata": {},
   "outputs": [
    {
     "name": "stderr",
     "output_type": "stream",
     "text": [
      "c:\\program files\\python36\\lib\\site-packages\\scipy\\integrate\\quadpack.py:364: IntegrationWarning: The integral is probably divergent, or slowly convergent.\n",
      "  warnings.warn(msg, IntegrationWarning)\n"
     ]
    },
    {
     "data": {
      "text/plain": [
       "-0.02255294029777961+/-7.862203927383807e-05"
      ]
     },
     "execution_count": 45,
     "metadata": {},
     "output_type": "execute_result"
    }
   ],
   "source": [
    "E = ufloat(*integrate(E_integrand, mu=mu, delta=delta))\n",
    "E"
   ]
  },
  {
   "cell_type": "code",
   "execution_count": 48,
   "metadata": {},
   "outputs": [
    {
     "data": {
      "text/plain": [
       "-0.022474318258505772"
      ]
     },
     "execution_count": 48,
     "metadata": {},
     "output_type": "execute_result"
    }
   ],
   "source": [
    "E.n+E.s"
   ]
  },
  {
   "cell_type": "markdown",
   "metadata": {},
   "source": [
    "Here is how we would do it with the cutoff:"
   ]
  },
  {
   "cell_type": "code",
   "execution_count": 39,
   "metadata": {},
   "outputs": [],
   "source": [
    "k_c = 100.0\n",
    "L3 = Lambda(k_c, mu=mu)\n",
    "g_c = -1./(C0.n - L3)\n",
    "assert np.allclose(g_c*integrate(nu_integrand, mu, delta, k_c=k_c)[0], delta)"
   ]
  },
  {
   "cell_type": "markdown",
   "metadata": {},
   "source": [
    "## Lattice Regularization"
   ]
  },
  {
   "cell_type": "markdown",
   "metadata": {},
   "source": [
    "When we perform the calculations on a lattice, we have a natural cutoff specified by the basis.  Unfortunately, one does not obtain uniform convergence as a function of this cutoff unless one is careful to choose it appropriately.  This is because the shell corrections do not converge."
   ]
  },
  {
   "cell_type": "markdown",
   "metadata": {},
   "source": [
    "## Hamiltonian"
   ]
  },
  {
   "cell_type": "markdown",
   "metadata": {},
   "source": [
    "The simplest implementation explicitly forms the Hamiltonian matrix.  This is not ideal for larger systems, but is a quick way to check the code.  Here we show how to form the kinetic energy by using the FFT to compute the matrix $U$ that implements the FFT."
   ]
  },
  {
   "cell_type": "code",
   "execution_count": 40,
   "metadata": {},
   "outputs": [
    {
     "data": {
      "text/plain": [
       "True"
      ]
     },
     "execution_count": 40,
     "metadata": {},
     "output_type": "execute_result"
    }
   ],
   "source": [
    "Nx, Ny = 64, 64\n",
    "H = np.eye(Nx*Ny).reshape(Nx, Ny, Nx, Ny)\n",
    "U = np.fft.fftn(H, axes=[0,1]).reshape(Nx*Ny, Nx*Ny)\n",
    "psi = np.random.random((Nx, Ny))\n",
    "np.allclose(np.fft.fftn(psi).ravel(), U.dot(psi.ravel()))"
   ]
  },
  {
   "cell_type": "code",
   "execution_count": 41,
   "metadata": {},
   "outputs": [
    {
     "name": "stdout",
     "output_type": "stream",
     "text": [
      "Populating the interactive namespace from numpy and matplotlib\n"
     ]
    }
   ],
   "source": [
    "%pylab inline --no-import-all\n",
    "from importlib import reload\n",
    "import vortex_2d;reload(vortex_2d)\n",
    "s = vortex_2d.BCS(Nxy=(16,)*2)\n",
    "k_c = abs(s.kxy[0]).max()\n",
    "E_c = (s.hbar*k_c)**2/2/s.m\n",
    "s = vortex_2d.BCS(Nxy=(16,)*2, E_c=E_c)\n",
    "kw = dict(mus=(mu, mu), delta=delta)\n",
    "#R = s.get_R(**kw)\n",
    "H = s.get_H(**kw)\n",
    "assert np.allclose(H, H.T.conj())"
   ]
  },
  {
   "cell_type": "code",
   "execution_count": 71,
   "metadata": {},
   "outputs": [
    {
     "data": {
      "text/plain": [
       "<matplotlib.lines.Line2D at 0x2e2034a7c88>"
      ]
     },
     "execution_count": 71,
     "metadata": {},
     "output_type": "execute_result"
    },
    {
     "data": {
      "image/png": "[encoded data removed]",
      "text/plain": [
       "<matplotlib.figure.Figure at 0x2e203425518>"
      ]
     },
     "metadata": {},
     "output_type": "display_data"
    }
   ],
   "source": [
    "Es = np.linspace(-15,15,100)\n",
    "plt.plot(Es, s.f(Es, E_c=np.inf))\n",
    "plt.axvline(E_c, c='y')\n",
    "plt.axvline(-E_c, c='y')"
   ]
  },
  {
   "cell_type": "code",
   "execution_count": 63,
   "metadata": {},
   "outputs": [
    {
     "name": "stdout",
     "output_type": "stream",
     "text": [
      "Populating the interactive namespace from numpy and matplotlib\n",
      "Wall time: 288 ms\n"
     ]
    },
    {
     "data": {
      "image/png": "[encoded data removed]",
      "text/plain": [
       "<matplotlib.figure.Figure at 0x2e203207a90>"
      ]
     },
     "metadata": {},
     "output_type": "display_data"
    }
   ],
   "source": [
    "%pylab inline --no-import-all\n",
    "Nx, Ny = s.Nxy\n",
    "%time E, psi = np.linalg.eigh(H)\n",
    "n = -3\n",
    "u, v = psi[:, n].reshape(2, Nx, Ny)\n",
    "plt.figure(figsize=(10,5))\n",
    "plt.subplot(121);plt.imshow(abs(u)**2);plt.colorbar()\n",
    "plt.subplot(122);plt.imshow(abs(v)**2);plt.colorbar()\n",
    "plt.suptitle(E[n]);"
   ]
  },
  {
   "cell_type": "code",
   "execution_count": 64,
   "metadata": {},
   "outputs": [
    {
     "data": {
      "text/plain": [
       "<matplotlib.colorbar.Colorbar at 0x2e203384518>"
      ]
     },
     "execution_count": 64,
     "metadata": {},
     "output_type": "execute_result"
    },
    {
     "data": {
      "image/png": "[encoded data removed]",
      "text/plain": [
       "<matplotlib.figure.Figure at 0x2e203285390>"
      ]
     },
     "metadata": {},
     "output_type": "display_data"
    }
   ],
   "source": [
    "R = s.get_R(**kw)\n",
    "n_a = np.diag(R[:Nx*Ny,:Nx*Ny]).reshape(s.Nxy)\n",
    "nu = np.diag(R[:Nx*Ny,Nx*Ny:]).reshape(s.Nxy)\n",
    "n_b = 1 - np.diag(R[Nx*Ny:,Nx*Ny:]).reshape(s.Nxy)\n",
    "n = n_a + n_b\n",
    "assert np.allclose(n.imag, 0)\n",
    "n = n.real\n",
    "plt.imshow(n)\n",
    "plt.colorbar()"
   ]
  },
  {
   "cell_type": "code",
   "execution_count": 65,
   "metadata": {},
   "outputs": [
    {
     "data": {
      "text/plain": [
       "(0.28308785721891994, 0.0955265285685824+/-5.694506034863327e-10)"
      ]
     },
     "execution_count": 65,
     "metadata": {},
     "output_type": "execute_result"
    }
   ],
   "source": [
    "n.mean(), n_p"
   ]
  },
  {
   "cell_type": "code",
   "execution_count": 66,
   "metadata": {},
   "outputs": [
    {
     "data": {
      "text/plain": [
       "(7.364418817453805, 2.8974471674091373)"
      ]
     },
     "execution_count": 66,
     "metadata": {},
     "output_type": "execute_result"
    }
   ],
   "source": [
    "gc = delta/nu.mean().real\n",
    "gc, 1./(Lambda(k_c=k_c, mu=mu, d=2) - C2.n)"
   ]
  },
  {
   "cell_type": "code",
   "execution_count": 36,
   "metadata": {},
   "outputs": [
    {
     "data": {
      "text/plain": [
       "(0.09320518958577627+3.0507755753583997e-18j)"
      ]
     },
     "execution_count": 36,
     "metadata": {},
     "output_type": "execute_result"
    }
   ],
   "source": [
    "nu.mean()"
   ]
  },
  {
   "cell_type": "markdown",
   "metadata": {},
   "source": [
    "## Basis"
   ]
  },
  {
   "cell_type": "code",
   "execution_count": null,
   "metadata": {},
   "outputs": [],
   "source": []
  }
 ],
 "metadata": {
  "kernelspec": {
   "display_name": "Python 3",
   "language": "python",
   "name": "python3"
  },
  "language_info": {
   "codemirror_mode": {
    "name": "ipython",
    "version": 3
   },
   "file_extension": ".py",
   "mimetype": "text/x-python",
   "name": "python",
   "nbconvert_exporter": "python",
   "pygments_lexer": "ipython3",
   "version": "3.6.4"
  },
  "toc": {
   "base_numbering": 1,
   "nav_menu": {},
   "number_sections": true,
   "sideBar": true,
   "skip_h1_title": false,
   "title_cell": "Table of Contents",
   "title_sidebar": "Contents",
   "toc_cell": false,
   "toc_position": {},
   "toc_section_display": true,
   "toc_window_display": false
  }
 },
 "nbformat": 4,
 "nbformat_minor": 2
}
