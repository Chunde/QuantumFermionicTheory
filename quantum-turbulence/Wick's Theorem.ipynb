{
 "cells": [
  {
   "cell_type": "markdown",
   "metadata": {
    "collapsed": false
   },
   "source": [
    "# Wick's Theorem Derivation"
   ]
  },
  {
   "cell_type": "markdown",
   "metadata": {
    "collapsed": false
   },
   "source": [
    "## Definations and Identities"
   ]
  },
  {
   "cell_type": "markdown",
   "metadata": {
    "collapsed": false
   },
   "source": [
    "For a given state $\\ket{\\psi}$ and operator $\\hat{A}$, we can always decompose $\\hat{A}$ in to three parts:\n",
    "$$\n",
    "\\hat{A} = \\hat{A}_0 + \\hat{A}_- + \\hat{A}_+\\\\\n",
    "\\hat{A}_0= \\braket{\\hat{A}} =\\bra{\\psi} \\hat{A} \\ket{\\psi}\\\\\n",
    "\\hat{A}_-= \\left(\\hat{A} - \\hat{A}_0\\right)(1-\\ket{\\psi}\\bra{\\psi})\\\\\n",
    "\\hat{A}_+ = (1-\\ket{\\psi}\\bra{\\psi})\\hat{A}\\ket{\\psi}\\bra{\\psi}\n",
    "$$\n",
    "Doing some algebra we will find that:\n",
    "$$\n",
    "A_0 = const\\\\\n",
    "A_-\\ket{\\psi} = 0\\\\\n",
    "\\bra{\\psi}A_+ = 0\n",
    "$$"
   ]
  },
  {
   "cell_type": "markdown",
   "metadata": {
    "collapsed": false
   },
   "source": [
    "If we compute the expectation value of a product of two operaters, $\\hat{A}$ and $\\hat{B}$:\n",
    "\n",
    "\\begin{align}\n",
    "\\bra{\\psi}\\hat{A}\\hat{B}\\ket{\\psi}\n",
    "&=\\bra{\\psi}(\\hat{A}_0+\\hat{A}_+ + \\hat{A}_-)(\\hat{B}_0+\\hat{B}_+ + \\hat{B}_-)\\ket{\\psi} \\\\\n",
    "&=\\bra{\\psi}\\hat{A}_0\\ket{\\psi}\\bra{\\psi}\\hat{B}_0\\ket{\\psi} + \\bra{\\psi}\\hat{A}_-\\hat{B}_+\\ket{\\psi}\\\\\n",
    "&=\\hat{A}_0\\hat{B}_0 + \\bra{\\psi}\\hat{A}_-\\hat{B}_+\\ket{\\psi}\n",
    "\\end{align}"
   ]
  },
  {
   "cell_type": "markdown",
   "metadata": {
    "collapsed": false
   },
   "source": [
    "While it's nice for the first term in the RHS of the last equation as it's a constant, the second term is a \"trouble-maker\" term. This term is what we are trying to get rid of. Based  on the defination of above, we can get some useful identies for the coming discussion:\n",
    "$$\n",
    "\\bra{\\psi}\\hat{A}_-\\hat{B}_+\\ket{\\psi}=\\bra{\\psi}\\hat{A}_-\\hat{B}\\ket{\\psi}=\\bra{\\psi}\\hat{A}\\hat{B}_+\\ket{\\psi}\n",
    "$$\n",
    "For fermion operators, as any two operators should satisfy the anti-commute relation, we have:\n",
    "$$\n",
    "\\bra{\\psi}\\hat{A}_-\\hat{B}_+\\ket{\\psi}=\\bra{\\psi}{\\hat{A}_-,\\hat{B}_+}\\ket{\\psi}=\\bra{\\psi}{\\hat{A}_-,\\hat{B}}\\ket{\\psi}=\\bra{\\psi}{\\hat{A},\\hat{B}_+}\\ket{\\psi}\n",
    "$$\n",
    "Similaririly, for bosens, we got the commute relation, and have:\n",
    "$$\n",
    "\\bra{\\psi}\\hat{A}_-\\hat{B}_+\\ket{\\psi}=\\bra{\\psi}\\left[\\hat{A}_-,\\hat{B}_+\\right]\\ket{\\psi}=\\bra{\\psi}\\left[\\hat{A}_-,\\hat{B}\\right]\\ket{\\psi}=\\bra{\\psi}\\left[\\hat{A},\\hat{B}_+\\right]\\ket{\\psi}\n",
    "$$\n"
   ]
  },
  {
   "cell_type": "markdown",
   "metadata": {
    "collapsed": false
   },
   "source": [
    "## Calculate the product of many operators"
   ]
  },
  {
   "cell_type": "markdown",
   "metadata": {
    "collapsed": false
   },
   "source": [
    "The question is how to calculate the expectation of a product of many operators $\\bra{\\psi}\\hat{A}_1\\hat{A}_2...\\hat{A}_n\\ket{\\psi}$, let's treat the first operator and the combination of the product of other operators as two operator just as we did in the last section:\n",
    "\n",
    "\\begin{align}\n",
    "\\bra{\\psi}\\hat{A}_1\\hat{A}_2...\\hat{A}_n\\ket{\\psi}\n",
    "&=\\bra{\\psi}\\hat{A}_1\\ket{\\psi}\\bra{\\psi}\\hat{A}_2...\\hat{A}_n\\ket{\\psi}+\\bra{\\psi}\\hat{A}_{1-}\\hat{A}_2...\\hat{A}_n\\ket{\\psi}\n",
    "\\end{align}"
   ]
  },
  {
   "cell_type": "markdown",
   "metadata": {
    "collapsed": false
   },
   "source": [
    "### Contraction"
   ]
  },
  {
   "cell_type": "markdown",
   "metadata": {
    "collapsed": false
   },
   "source": [
    "To make the calculation a bit more flexible, let's intoduce the contraction(**I want to use a over braket, not a overbrace, but do not know how to make that works**):\n",
    "$$\n",
    "\\overbrace{\\hat{A}\\hat{B}}=\\hat{A}_-\\hat{B}-c\\hat{B}\\hat{A}_-\n",
    "$$\n",
    "where $c=-1$ for fermion, $c=1$ for boson. For single operator, the contraction can be defined as:\n",
    "$$\n",
    "\\overbrace{\\hat{A}}=\\hat{A}_0=\\bra{\\psi}\\hat{A}\\ket{\\psi}\n",
    "$$\n",
    "Then the above multiple operator product expectation can be calculated:"
   ]
  },
  {
   "cell_type": "markdown",
   "metadata": {
    "collapsed": false
   },
   "source": [
    "\\begin{align}\n",
    "\\bra{\\psi}\\hat{A}_1\\hat{A}_2...\\hat{A}_n\\ket{\\psi}\n",
    "&=\\bra{\\psi}\\hat{A}_1\\ket{\\psi}\\bra{\\psi}\\hat{A}_2...\\hat{A}_n\\ket{\\psi}+\\bra{\\psi}\\hat{A}_{1-}\\hat{A}_2...\\hat{A}_n\\ket{\\psi}\\\\\n",
    "&=\\overbrace{\\hat{A}_1}\\bra{\\psi}\\hat{A}_2...\\hat{A}_n\\ket{\\psi}+\\bra{\\psi}\\overbrace{\\hat{A}_{1}\\hat{A}_2}\\hat{A}_3...\\hat{A}_n\\ket{\\psi}+c\\bra{\\psi}\\hat{A}_{2}\\hat{A}_{1-}\\hat{A}_3...\\hat{A}_n\\ket{\\psi}\\\\\n",
    "&=\\overbrace{\\hat{A}_1}\\bra{\\psi}\\hat{A}_2...\\hat{A}_n\\ket{\\psi}+\\bra{\\psi}\\overbrace{\\hat{A}_{1}\\hat{A}_2}\\hat{A}_3...\\hat{A}_n\\ket{\\psi}+c\\bra{\\psi}\\hat{A}_{2}\\overbrace{\\hat{A}_1\\hat{A}_3}...\\hat{A}_n\\ket{\\psi}+c^2\\bra{\\psi}\\hat{A}_{2}\\hat{A}_3\\hat{A}_{1-}...\\hat{A}_n\\ket{\\psi}\\\\\n",
    "&=\\overbrace{\\hat{A}_1}\\bra{\\psi}\\hat{A}_2...\\hat{A}_n\\ket{\\psi}+\\bra{\\psi}\\overbrace{\\hat{A}_{1}\\hat{A}_2}\\hat{A}_3...\\hat{A}_n\\ket{\\psi}+c\\bra{\\psi}\\hat{A}_{2}\\overbrace{\\hat{A}_1\\hat{A}_3}...\\hat{A}_n\\ket{\\psi}+...+c^{n-2}\\bra{\\psi}\\hat{A}_{2}\\hat{A}_3...\\overbrace{\\hat{A}_1\\hat{A}_n}\\ket{\\psi}\\\\\n",
    "\\end{align}"
   ]
  },
  {
   "cell_type": "markdown",
   "metadata": {
    "collapsed": false
   },
   "source": [
    "In general case, the contraction operator can't be factor out for each term, but if all of the contractions are just numbers, they can be pulled out as a c-number(a real or complex number) factor, which will simplify the above expression a lot. Recall that the procedure we decompose an operator into three operator depends on the state $\\ket{\\psi}$. The condition that all contractions are numbers can only be fulfilled for certain types of state $\\ket{\\psi}$. Such states are the product states."
   ]
  },
  {
   "cell_type": "code",
   "execution_count": 0,
   "metadata": {
    "collapsed": false
   },
   "outputs": [
   ],
   "source": [
   ]
  }
 ],
 "metadata": {
  "kernelspec": {
   "display_name": "Python 3 (Ubuntu Linux)",
   "language": "python",
   "name": "python3"
  },
  "language_info": {
   "codemirror_mode": {
    "name": "ipython",
    "version": 3
   },
   "file_extension": ".py",
   "mimetype": "text/x-python",
   "name": "python",
   "nbconvert_exporter": "python",
   "pygments_lexer": "ipython3",
   "version": "3.6.7"
  }
 },
 "nbformat": 4,
 "nbformat_minor": 0
}