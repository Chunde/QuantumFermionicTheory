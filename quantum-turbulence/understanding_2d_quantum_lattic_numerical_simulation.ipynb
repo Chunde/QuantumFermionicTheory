{
 "cells": [
  {
   "cell_type": "code",
   "execution_count": 6,
   "metadata": {},
   "outputs": [
    {
     "data": {
      "text/html": [
       "<style>.grade {\n",
       "   background-color: #66FFCC;\n",
       "}\n",
       "</style>"
      ],
      "text/plain": [
       "<IPython.core.display.HTML object>"
      ]
     },
     "metadata": {},
     "output_type": "display_data"
    },
    {
     "data": {
      "application/javascript": [],
      "text/plain": [
       "<IPython.core.display.Javascript object>"
      ]
     },
     "metadata": {},
     "output_type": "display_data"
    },
    {
     "data": {
      "text/html": [
       "<script id=\"MathJax-Element-48\" type=\"math/tex\">\\newcommand{\\vect}[1]{\\mathbf{#1}}\n",
       "\\newcommand{\\uvect}[1]{\\hat{#1}}\n",
       "\\newcommand{\\abs}[1]{\\lvert#1\\rvert}\n",
       "\\newcommand{\\norm}[1]{\\lVert#1\\rVert}\n",
       "\\newcommand{\\I}{\\mathrm{i}}\n",
       "\\newcommand{\\ket}[1]{\\left|#1\\right\\rangle}\n",
       "\\newcommand{\\bra}[1]{\\left\\langle#1\\right|}\n",
       "\\newcommand{\\braket}[1]{\\langle#1\\rangle}\n",
       "\\newcommand{\\Braket}[1]{\\left\\langle#1\\right\\rangle}\n",
       "\\newcommand{\\op}[1]{\\mathbf{#1}}\n",
       "\\newcommand{\\mat}[1]{\\mathbf{#1}}\n",
       "\\newcommand{\\d}{\\mathrm{d}}\n",
       "\\newcommand{\\pdiff}[3][]{\\frac{\\partial^{#1} #2}{\\partial {#3}^{#1}}}\n",
       "\\newcommand{\\diff}[3][]{\\frac{\\d^{#1} #2}{\\d {#3}^{#1}}}\n",
       "\\newcommand{\\ddiff}[3][]{\\frac{\\delta^{#1} #2}{\\delta {#3}^{#1}}}\n",
       "\\newcommand{\\floor}[1]{\\left\\lfloor#1\\right\\rfloor}\n",
       "\\newcommand{\\ceil}[1]{\\left\\lceil#1\\right\\rceil}\n",
       "\\DeclareMathOperator{\\Tr}{Tr}\n",
       "\\DeclareMathOperator{\\erf}{erf}\n",
       "\\DeclareMathOperator{\\erfi}{erfi}\n",
       "\\DeclareMathOperator{\\sech}{sech}\n",
       "\\DeclareMathOperator{\\sgn}{sgn}\n",
       "\\DeclareMathOperator{\\order}{O}\n",
       "\\DeclareMathOperator{\\diag}{diag}\n",
       "\n",
       "\\newcommand{\\mylabel}[1]{\\label{#1}\\tag{#1}}\n",
       "\\newcommand{\\degree}{\\circ}</script>"
      ],
      "text/plain": [
       "<IPython.core.display.HTML object>"
      ]
     },
     "metadata": {},
     "output_type": "display_data"
    },
    {
     "data": {
      "text/html": [],
      "text/plain": [
       "<IPython.core.display.HTML object>"
      ]
     },
     "metadata": {},
     "output_type": "display_data"
    },
    {
     "data": {
      "text/html": [
       "\n",
       "<i>\n",
       "<p>This cell contains some definitions for equations and some CSS for styling\n",
       "  the notebook. If things look a bit strange, please try the following:\n",
       "<ul>\n",
       "  <li>Choose \"Trust Notebook\" from the \"File\" menu.</li>\n",
       "  <li>Re-execute this cell.</li>\n",
       "  <li>Reload the notebook.</li>\n",
       "</ul>\n",
       "</p>\n",
       "</i>\n"
      ],
      "text/plain": [
       "<IPython.core.display.HTML object>"
      ]
     },
     "metadata": {},
     "output_type": "display_data"
    }
   ],
   "source": [
    "import mmf_setup;mmf_setup.nbinit(hgroot=False)\n",
    "from mmfutils.contexts import NoInterrupt"
   ]
  },
  {
   "cell_type": "markdown",
   "metadata": {},
   "source": [
    "# Understanding 2D BdG Numerical Simulation\n",
    "I find it's not easy to make a smooth translation from abstract knowledge of quantum theory to 2D numerical code, it's good to decompose all details first, and make connection to every line of code."
   ]
  },
  {
   "cell_type": "markdown",
   "metadata": {},
   "source": [
    "start with schodinger equation for 2D system, it should look like:\n",
    "$$\n",
    "H(x,y,t)\\psi(x,y)=E\\psi(x,y)\n",
    "$$\n",
    "\n",
    "the wavefunction in a 2D grid can be presented as a 2D matrix\n",
    "$$\\psi =\n",
    "\\begin{pmatrix}\n",
    "    \\psi_{1,1} & \\psi_{1,2}&...&\\psi_{1,N}\\\\\n",
    "    \\psi_{2,1} & \\psi_{2,1}&...&\\psi_{1,N}\\\\\n",
    "    \\vdots\\\\\n",
    "    e^\\psi_{N,1} & \\psi_{N,2}&...&\\psi_{N,N}\\\\\n",
    "\\end{pmatrix}\n",
    "$$"
   ]
  },
  {
   "cell_type": "markdown",
   "metadata": {},
   "source": [
    "Then, for any operator, it's matrix element form can be defined as:\n",
    "\n",
    "\\begin{align}\n",
    "O_{m,n}&=\\braket{\\psi_m |\\hat{O}|\\psi_n}\\\\\n",
    "&= \\int dx dy {}\\psi_{m}^*(x,y)\\hat{O}\\psi_n(x,y) \\\\\n",
    "&=\\Delta_x\\Delta_y\\sum_{x,y} ???\n",
    "\\end{align}"
   ]
  },
  {
   "cell_type": "markdown",
   "metadata": {},
   "source": [
    "Depends on what the operator, if $\\hat{O}$ is potential operator depends only on spatial coordinate $x,y$, we can easily have: \n",
    "\\begin{align}\n",
    "O_{m,n}&=\\braket{\\psi_m |\\hat{O}|\\psi_n}\\\\\n",
    "&= \\int dx dy {}\\psi_m(x,y)\\hat{O}(x,y)\\psi_n(x,y) \\\\\n",
    "&=\\Delta_x\\Delta_y\\sum_{x,y} \\psi_m^*(x,y)\\hat{O}(x,y)\\psi_n(x,y) \\\\\n",
    "&=\\Delta_x\\Delta_y (\\psi_{1,1}^* O_{1,1}\\psi_{1,1}+ \\psi_{1,2}^* O_{1,2}\\psi_{1,2} +...+\\psi_{2,1}^* O_{2,1}\\psi_{2,1}+ \\psi_{2,1}^* O_{2,1}\\psi_{2,1} +...+...) \\\\\n",
    "&=\\Delta_x\\Delta_y (\\abs{\\psi_{1,1}}^2 O_{1,1}+ \\abs{\\psi_{1,2}}^2 O_{1,2} +...+\\abs{\\psi_{2,1}}^2 O_{2,1}+ \\abs{\\psi_{2,1}}^2 O_{2,1} +...+...) \\\\\n",
    "&=O(x,y)\n",
    "\\end{align}\n",
    "where $\\Delta_x, \\Delta_y$ are the lattice spacings, and operators that depends only on spacial freedoms are trial, as we can see we just need to descetize them in lattice. **What's a fool I am to go through such long way to find it, LOL!**"
   ]
  },
  {
   "cell_type": "markdown",
   "metadata": {},
   "source": [
    "### Fourier integral to Fourier series"
   ]
  },
  {
   "cell_type": "markdown",
   "metadata": {},
   "source": [
    "Similar as the 1D FFT\n",
    "$$\n",
    "  FFT[\\psi(x)] = \\int\\d{x}\\; e^{-\\I k x}\\psi(x) = \\frac{L}{N}\\sum_{n} e^{-\\I k x_n}\\psi(x_n),\\\\\n",
    "  FFT^{-1}(\\psi_k) = \\int\\frac{\\d{k}}{(2\\pi)}\\; e^{\\I k x}\\psi_k = \\frac{1}{L}\\sum_{m} e^{\\I k_m x}\\psi_{k_m}.\n",
    "$$\n",
    "we can extend these relations to 2D case without difficulty:\n",
    "$$\n",
    "  FFT[\\psi(x,y)] = \\int dx dy e^{-i(k_x x +k_y y)}\\psi(x) = \\frac{L_x L_y}{N_x N_y}\\sum_{m,n} e^{-i (k_m x_m + k_n y_n)}\\psi(x_n,y_n)\\tag{1},\\\\\n",
    "$$\n",
    "$$\n",
    "  FFT^{-1}[\\psi(k_x,k_y)] = \\int\\frac{dk_x dk_y}{(4\\pi^2)}\\; e^{i (k_x x + k_y y)}\\psi(k_x, k_y) = \\frac{1}{L_x L_y}\\sum_{m,n} e^{i (k_m x_m + k_n y_n)}\\psi(k_m,k_n) \\tag{2}\n",
    "$$"
   ]
  },
  {
   "cell_type": "markdown",
   "metadata": {},
   "source": [
    "For operators like kinetic operator, we may need to use Fourier transform to change the basis and backward. The kinetic term for 2D system is:\n",
    "\n",
    "$$\n",
    "\\hat{T}=\\frac{-\\hbar^2}{2m}\\left[\\frac{\\partial^2 }{\\partial x^2}+\\frac{\\partial^2 }{\\partial y^2}\\right]\\tag{3}\n",
    "$$\n",
    "when it acts on an wavefunction $\\psi(x,y)$, yields another function $\\phi(x,y)$\n",
    "$$\n",
    "\\phi(x,y)=\\hat{T}\\psi(x,y)=\\frac{-\\hbar^2}{2m}\\left[\\frac{\\partial^2 }{\\partial x^2}+\\frac{\\partial^2 }{\\partial y^2}\\right]\\psi(x,y)\\tag{4}\n",
    "$$\n",
    "To make is more obviouse for computationn purpose, we use Fourier transform:"
   ]
  },
  {
   "cell_type": "markdown",
   "metadata": {},
   "source": [
    "$$\n",
    "\\psi(x,y)=\\frac{1}{2\\pi}\\int dk_x dk_y\\psi(k_x,k_y)e^{-i(k_xx+k_yy)}\\tag{5}\n",
    "$$\n",
    "where $\\psi(k_x,k_y)$ is just Fourier transfrom of $\\psi$, in mometum space.\n",
    "$$\n",
    "\\psi(k_x,k_y)=\\frac{1}{2\\pi} \\int dx dy \\psi(x,y)e^{i(k_xx+k_yy)}\\tag{6}\n",
    "$$\n",
    "\n",
    "If $\\psi(x,y)$ is represented as (1), we can elimilate the second order partial differitial to get:"
   ]
  },
  {
   "cell_type": "markdown",
   "metadata": {},
   "source": [
    "\\begin{align}\n",
    "\\phi(x,y)&=\\hat{T}\\psi(x,y)\\\\\n",
    "&=\\frac{-\\hbar^2}{2m}\\left[\\frac{\\partial^2 }{\\partial x^2}+\\frac{\\partial^2 }{\\partial y^2}\\right]\\psi(x,y)\\\\\n",
    "&=\\frac{\\hbar^2}{2m}\\frac{1}{2\\pi} \\int dk_x dk_y \\left[k_x^2 +k_y^2 \\right]\\psi(k_x,k_y)e^{-i(k_xx+k_yy)}\\\\\n",
    "&=\\frac{\\hbar^2}{2m}\\frac{1}{4\\pi^2} \\int dk_x dk_y dx' dy' \\left[k_x^2 +k_y^2 \\right]\\psi(x',y')e^{-i(k_xx+k_yy-k_xx'- k_yy')}\\tag{7}\n",
    "\\end{align}"
   ]
  },
  {
   "cell_type": "markdown",
   "metadata": {},
   "source": [
    "Transfrom from integral to summation yiels:\n",
    "$$\n",
    "\\phi(x,y) = \\frac{\\hbar^2}{2m}\\frac{1}{4\\pi^2} \\frac{1}{N_xN_y} \\sum_{k,l,m,n}\\left[k_{x_k}^2+k_{y_l}^2\\right]\\psi(x'_m,y'_n)e^{-i\\left[k_{x_k}(x-x'_m)+k_{y_l}(y-y'_n)\\right]}\\\\\n",
    "=\\sum_{k_x,k_y,m,n}f(k_x,k_y)\\psi(x'_m,y'_n)e^{-i\\left[k_x(x-x'_m)+k_y(y-y'_n)\\right]}\\tag{8}\n",
    "$$\n",
    "where\n",
    "\n",
    "$$\n",
    "f(k_x,k_y)=\\frac{\\hbar^2}{2m}\\frac{1}{4\\pi^2} \\frac{1}{N_xN_y} (k_x^2+k_y^2)\n",
    "$$\n",
    "\n",
    "\n",
    "\n",
    "Now, to present on matrix or tensor form, we need to represent the LHS as a matrix:"
   ]
  },
  {
   "cell_type": "markdown",
   "metadata": {},
   "source": [
    "\\begin{align}\n",
    "\\phi(x,y)\n",
    "&=\\sum_{k_x,k_y}f(k_x,k_y)e^{-i(k_xx+k_yy)}\\left\\{\n",
    "\\left[\\psi(x'_1,y'_1)e^{i(k_xx'_1+k_yy'_1)} + \\psi(x'_1,y'_2)e^{i(k_xx'_1+k_yy'_2)} +...+\\psi(x'_1,y'_{N_y})e^{i(k_xx'_1+k_yy'_{N_y})}\\right] +\\\\\n",
    "\\left[\\psi(x'_2,y'_1)e^{i(k_xx'_2+k_yy'_1)} + \\psi(x'_2,y'_2)e^{i(k_xx'_2+k_yy'_2)} +...+\\psi(x'_2,y'_{N_y})e^{i(k_xx'_2+k_yy'_{N_y})}\\right] +\\\\\n",
    "\\vdots \\\\\n",
    "\\left[\\psi(x'_{N_x},y'_1)e^{i(k_xx'_{N_x}+k_yy'_1)} + \\psi(x'_{N_x},y'_{N_x})e^{i(k_xx'_{N_x}+k_yy'_2)} +...+\\psi(x'_{N_x},y'_{N_y})e^{i(k_xx'_{N_x}+k_yy'_{N_y})}\\right]\n",
    "\\right\\} \\tag{9}\n",
    "\\end{align}"
   ]
  },
  {
   "cell_type": "markdown",
   "metadata": {},
   "source": [
    "The braket terms can be rearragned as:\n",
    "$$\n",
    "e^{ik_xx'_1}\\left[\\psi(x'_1,y'_1)e^{ik_yy'_1} + \\psi(x'_1,y'_2)e^{ik_yy'_2}+...\\psi(x'_1,y'_{N_y})e^{ik_yy'_{N_y}}\\right] +\\\\\n",
    "e^{ik_xx'_2}\\left[\\psi(x'_2,y'_1)e^{ik_yy'_1} + \\psi(x'_2,y'_2)e^{ik_yy'_2}+...\\psi(x'_2,y'_{N_y})e^{ik_yy'_{N_y}}\\right] +\\\\\n",
    "\\vdots\\\\\n",
    "e^{ik_xx'_{x_N}}\\left[\\psi(x'_{x_N},y'_1)e^{ik_yy'_1} + \\psi(x'_{x_N},y'_2)e^{ik_yy'_2}+...\\psi(x'_{x_N},y'_{N_y})e^{ik_yy'_{N_y}}\\right] \\tag{10}\n",
    "$$"
   ]
  },
  {
   "cell_type": "markdown",
   "metadata": {},
   "source": [
    "Careful obervation it can be found we can put this into matrix form, and define it as:\n",
    "$$\n",
    "  M(k_x,k_y)=\\begin{pmatrix}\n",
    "    e^{ik_xx'_1} & e^{ik_xx'_2} & ... e^{ik_xx'_{N_x}}\n",
    "  \\end{pmatrix} \n",
    "  \\begin{pmatrix}\n",
    "    \\psi(x'_1,y'_1) & \\psi(x'_1,y'_2)&...&\\psi(x'_1,y'_{N_y})\\\\\n",
    "    \\psi(x'_2,y'_1) & \\psi(x'_2,y'_2)&...&\\psi(x'_2,y'_{N_y})\\\\\n",
    "    \\vdots\\\\\n",
    "    \\psi(x'_{N_x},y'_1) & \\psi(x'_{N_x},y'_2)&...&\\psi(x'_{N_x},y'_{N_y})\\\\\n",
    "  \\end{pmatrix}\n",
    " \\begin{pmatrix}\n",
    "    e^{ik_yy'_1}\\\\\n",
    "    e^{ik_yy'_2}\\\\\n",
    "    \\vdots\\\\\n",
    "    e^{ik_yy'_{N_y}}\\\\\n",
    "  \\end{pmatrix}.\\tag{11}\n",
    "$$"
   ]
  },
  {
   "cell_type": "markdown",
   "metadata": {},
   "source": [
    "Then $\\phi(x,y)$ can be put as:\n",
    "\\begin{align}\n",
    "\\phi(x,y) \n",
    "&= \\sum_{k_x,k_y} f(k_x,k_y)M(k_x,k_y)e^{-i(k_xx+k_yy)} \\\\\n",
    "&=\n",
    "\\begin{pmatrix}\n",
    "    e^{-ik_{x_1}x} & e^{-ik_{x_2}x} & ... e^{-ik_{x_{N_x}}x}\n",
    "  \\end{pmatrix} \n",
    "  \\begin{pmatrix}\n",
    "     Mf(k_{x_1},k_{y_1}) & Mf(k_{x_1},k_{y_2}&...&Mf(k_{x_1},k_{y_{N_y}})\\\\\n",
    "    Mf(k_{x_2},k_{y_1}) & Mf(k_{x_2},k_{y_2}&...&Mf(k_{x_2},k_{y_{N_y}})\\\\\n",
    "    \\vdots\\\\\n",
    "    Mf(k_{x_{N_x}},k_{y_1}) & Mf(k_{x_{N_x}},k_{y_2}&...&Mf(k_{x_{N_x}},k_{y_{N_y}})\\\\\n",
    "  \\end{pmatrix}\n",
    " \\begin{pmatrix}\n",
    "    e^{-ik_{y_1}y}\\\\\n",
    "    e^{-ik_{y_2}y}\\\\\n",
    "    \\vdots\\\\\n",
    "    e^{-ik_{y_{N_y}}y}\\\\\n",
    "  \\end{pmatrix}.\\tag{12}\n",
    "\\end{align}\n"
   ]
  },
  {
   "cell_type": "markdown",
   "metadata": {},
   "source": [
    "where $Mf$ is a matrix eqaul to the elementwise product of two matrix with the same dimension $N_x\\times N_y$.\n",
    "\n",
    "if the indics $x,y$ run over all values, we can get the $\\phi(x,y)$ in grid:\n",
    "$$\n",
    "[\\phi]=U_x^T Mf U_y\n",
    "$$\n",
    "where\n",
    "$$\n",
    "U_x = \n",
    "\\begin{pmatrix}\n",
    "    e^{-ik_{x_1}x_1}&  e^{-ik_{x_1}x_2}&...&e^{-ik_{x_1}x_{N_x}}\\\\\n",
    "    e^{-ik_{x_2}x_1}&  e^{-ik_{x_2}x_2}&...&e^{-ik_{x_2}x_{N_x}}\\\\\n",
    "    \\vdots\\\\\n",
    "    e^{-ik_{x_{N_x}}x_1}&  e^{-ik_{x_{N_x}}x_2}&...&e^{-ik_{x_{N_x}}x_{N_x}}\\\\\n",
    "  \\end{pmatrix}\\tag{13}\n",
    "  $$\n",
    "  \n",
    "  $$\n",
    "U_y = \n",
    "\\begin{pmatrix}\n",
    "    e^{-ik_{y_1}y_1}&  e^{-ik_{y_1}y_2}&...&e^{-ik_{y_1}y_{N_y}}\\\\\n",
    "    e^{-ik_{y_2}y_1}&  e^{-ik_{y_2}y_2}&...&e^{-ik_{y_2}y_{N_y}}\\\\\n",
    "    \\vdots\\\\\n",
    "    e^{-ik_{y_{N_y}}x_1}&  e^{-ik_{y_{N_x}}x_2}&...&e^{-ik_{y_{N_y}}y_{N_y}}\\\\\n",
    "  \\end{pmatrix} \\tag{14}\n",
    "$$\n",
    "and \n",
    "$$\n",
    "[f]=\\frac{\\hbar^2}{2m}\\frac{1}{N_xN_y}\n",
    "\\begin{pmatrix}\n",
    "    k_{x_1}^2 +  k_{y_1}^2&  k_{x_1}^2 +  k_{y_2}^2&...& k_{x_1}^2 +  k_{y_{N_y}}^2\\\\\n",
    "    k_{x_2}^2 +  k_{y_1}^2&  k_{x_2}^2 +  k_{y_2}^2&...& k_{x_2}^2 +  k_{y_{N_y}}^2\\\\\n",
    "    \\vdots\\\\\n",
    "    k_{x_{N_x}}^2 +  k_{y_1}^2&  k_{x_{N_x}}^2 +  k_{y_2}^2&...& k_{x_{N_x}}^2 +  k_{y_{N_y}}^2\\\\\n",
    "  \\end{pmatrix} \\tag{15}\n",
    "$$\n",
    "\n",
    "and \n",
    "$$\n",
    "[M] = U_x^* [\\psi] U_y^\\dagger\n",
    "$$"
   ]
  },
  {
   "cell_type": "markdown",
   "metadata": {},
   "source": [
    "Since $Mf$ is the elementwise product of two matrix, we can factor out the $[\\psi]$\n",
    "\n",
    "$$\n",
    "Mf= [f] U_x^*[\\psi] U_y^\\dagger = U_x^*[f]U_y^\\dagger [\\psi] \\tag{16}\n",
    "$$"
   ]
  },
  {
   "cell_type": "markdown",
   "metadata": {},
   "source": [
    "Then the $[\\phi]$ can be put as:\n",
    "\n",
    "$$\n",
    "[\\phi] = U_x^T U_x^*[f]U_y^\\dagger U_y [\\psi] \\tag{17}\n",
    "$$\n",
    "\n",
    "Or the kinectic matrix can be written:\n",
    "$$\n",
    "[\\hat{T}] = U_x^T U_x^*[f]U_y^\\dagger U_y \\tag{18}\n",
    "$$"
   ]
  },
  {
   "cell_type": "markdown",
   "metadata": {},
   "source": [
    "<font color='red'>**I got a feeling that something goes wrong with above derivation, the T matrix and wavefunction vector should satisfy the matrix dot vector convention.**</font>"
   ]
  },
  {
   "cell_type": "markdown",
   "metadata": {},
   "source": [
    "Let's go back to equation (10)\n",
    "\n",
    "$$\n",
    "e^{ik_xx'_1}\\left[\\psi(x'_1,y'_1)e^{ik_yy'_1} + \\psi(x'_1,y'_2)e^{ik_yy'_2}+...\\psi(x'_1,y'_{N_y})e^{ik_yy'_{N_y}}\\right] +\\\\\n",
    "e^{ik_xx'_2}\\left[\\psi(x'_2,y'_1)e^{ik_yy'_1} + \\psi(x'_2,y'_2)e^{ik_yy'_2}+...\\psi(x'_2,y'_{N_y})e^{ik_yy'_{N_y}}\\right] +\\\\\n",
    "\\vdots\\\\\n",
    "e^{ik_xx'_{x_N}}\\left[\\psi(x'_{x_N},y'_1)e^{ik_yy'_1} + \\psi(x'_{x_N},y'_2)e^{ik_yy'_2}+...\\psi(x'_{x_N},y'_{N_y})e^{ik_yy'_{N_y}}\\right] \\tag{10}\n",
    "$$"
   ]
  },
  {
   "cell_type": "markdown",
   "metadata": {},
   "source": [
    "if we treat $e^{i(k_xx'_m + k_yy'_n}$ as a vector of size $N_x \\times N_y$ and $\\psi$ also with sime size 1d vector, then (10) can be put as:\n",
    "\\begin{align}\n",
    "M(k_x,k_y)\\psi&=\n",
    " \\begin{pmatrix}\n",
    "    e^{i(k_xx_1+k_yy_1)}& e^{i(k_xx_1+k_yy_2)}&...& e^{i(k_xx_1+k_yy_{N_y})}& e^{i(k_xx_2+k_yy_1)}&&...&e^{i(k_xx_2+k_yy_{N_y})}&...& e^{-i(k_xx_{N_x}+k_yy_{N_y})}\n",
    "  \\end{pmatrix}\n",
    "  \\begin{pmatrix}\n",
    "    \\psi_{1,1}\\\\\n",
    "    \\psi_{1,2} \\\\\n",
    "    \\vdots\\\\\n",
    "    \\psi_{1,N_y} \\\\\n",
    "    \\psi_{2,1}\\\\\n",
    "    \\vdots\\\\\n",
    "    \\psi_{2,N_y}\\\\\n",
    "    \\vdots\\\\\n",
    "    \\psi_{N_x,N_y}\n",
    "  \\end{pmatrix}\\\\\n",
    "   &=\\sum_{n}^{N}U(k_x,k_y)_n \\psi_n  \\tag{19}\n",
    " \\end{align}\n",
    "\n",
    "Define\n",
    "\n",
    "$$\n",
    "M'(k_x,k_y)=\\sum_{n}^{N}U(k_x,k_y)_n f_n \n",
    "$$\n",
    "\n",
    "where $N=N_x\\times N_y$\n",
    "\n",
    "  \n",
    "  The equation (12) need to be modified too:"
   ]
  },
  {
   "cell_type": "markdown",
   "metadata": {},
   "source": [
    "\\begin{align}\n",
    "\\phi(x,y) \n",
    "&= \\sum_{k_x,k_y} M'(k_x,k_y)e^{-i(k_xx+k_yy)} \\\\\n",
    "&= \\begin{pmatrix}\n",
    "    e^{-i(k_{x_1}x+k_{x_1}y)}& e^{-i(k_{x_1}x+k_{y_2}y)}&...&e^{-i(k_{x_1}x+k_{y_{N_y}}y)}& e^{-i(k_{x_2}x+k_{y_1}y)}&&...&e^{-i(k_{x_2}x+k_{y_{N_y}}y)}&...& e^{-i(k_{x_{N_x}}x+k_{y_{N_y}}y)}\n",
    "  \\end{pmatrix}\n",
    "  \\begin{pmatrix}\n",
    "    M'_{1,1}\\\\\n",
    "    M'_{1,2} \\\\\n",
    "    \\vdots\\\\\n",
    "    M'_{1,N_y} \\\\\n",
    "    M'_{2,1}\\\\\n",
    "    \\vdots\\\\\n",
    "    M'_{2,N_y}\\\\\n",
    "    \\vdots\\\\\n",
    "    M'_{N_x,N_y}\n",
    "  \\end{pmatrix}\\\\\n",
    "   &=\\begin{pmatrix}\n",
    "    e^{-i(k_{x_1}x+k_{x_1}y)}& e^{-i(k_{x_1}x+k_{y_2}y)}&...&e^{-i(k_{x_1}x+k_{y_{N_y}}y)}& e^{-i(k_{x_2}x+k_{y_1}y)}&&...&e^{-i(k_{x_2}x+k_{y_{N_y}}y)}&...& e^{-i(k_{x_{N_x}}x+k_{y_{N_y}}y)}\n",
    "  \\end{pmatrix} M'\n",
    " \\end{align} "
   ]
  },
  {
   "cell_type": "markdown",
   "metadata": {},
   "source": [
    "Now it's much clear, if we run $x, y$ over all pair of values, we get:\n",
    "$$\n",
    "[\\phi]= \\hat{U} M'\\psi\n",
    "$$\n",
    "\n",
    "where \n",
    "$$\n",
    "\\hat{U} \n",
    "=\\begin{pmatrix}\n",
    "    e^{-i(k_{x_1}x_1+k_{y_1}y_1)}& e^{-i(k_{x_1}x_1+k_{y_2}y_1)}&...&e^{-i(k_{x_1}x_1+k_{y_{N_y}}y_1)}& e^{-i(k_{x_2}x_1+k_{y_1}y_1)}&&...&e^{-i(k_{x_2}x_1+k_{y_{N_y}}y_1)}&...& e^{-i(k_{x_{N_x}}x_1+k_{y_{N_y}}y_1)} \\\\\n",
    "    e^{-i(k_{x_1}x_1+k_{y_1}y_2)}& e^{-i(k_{x_1}x_1+k_{y_2}y_2)}&...&e^{-i(k_{x_1}x_1+k_{y_{N_y}}y_2)}& e^{-i(k_{x_2}x_1+k_{y_1}y_2)}&&...&e^{-i(k_{x_2}x_1+k_{y_{N_y}}y_2)}&...& e^{-i(k_{x_{N_x}}x_1+k_{y_{N_y}}y_2)} \\\\\n",
    "    \\vdots \\\\\n",
    "   e^{-i(k_{x_1}x_{N_x}+k_{y_1}y_{N_y})}& e^{-i(k_{x_1}x_{N_x}+k_{y_2}y_{N_y})}&...&e^{-i(k_{x_1}x_{N_x}+k_{y_{N_y}}y_{N_y})}& e^{-i(k_{x_2}x_{N_x}+k_{y_1}y_{N_y})}&&...&e^{-i(k_{x_2}x_{N_x}+k_{y_{N_y}}y_{N_y})}&...& e^{-i(k_{x_{N_x}}x_{N_x}+k_{y_{N_y}}y_{N_y})} \\\\\n",
    "  \\end{pmatrix}\n",
    "$$\n"
   ]
  },
  {
   "cell_type": "markdown",
   "metadata": {},
   "source": [
    "A bit careful examination, it's not hard to find:\n",
    "$$\n",
    "\\phi=\\hat{U}M'=\\hat{U}f\\hat{U}^\\dagger \\psi\n",
    "$$\n",
    "\n",
    "which means:\n",
    "$$\n",
    "[\\hat{T}] = \\hat{U}f\\hat{U}^\\dagger \\tag{20}\n",
    "$$"
   ]
  },
  {
   "cell_type": "markdown",
   "metadata": {},
   "source": [
    "Now, result (20) seems to make sense, it may be used to check if it agree with Dr. Forbes' code:"
   ]
  },
  {
   "cell_type": "code",
   "execution_count": 9,
   "metadata": {},
   "outputs": [],
   "source": [
    "from __future__ import division\n",
    "import itertools\n",
    "import numpy as np\n",
    "import scipy.integrate\n",
    "from mmfutils.math.integrate import mquad\n",
    "\n",
    "class BCS(object):\n",
    "    hbar = 1.0\n",
    "    m = 1.0\n",
    "    def __init__(self, Nxy=(32, 32), Lxy=(10.0, 10.0), dx=None, T=0,E_c=np.inf):\n",
    "      \n",
    "        dy = dx\n",
    "        if dx is None:\n",
    "            dx, dy = np.divide(Lxy, Nxy)\n",
    "        elif Lxy is None:\n",
    "            Lxy = np.prod(Nxy, dx)\n",
    "        elif Nxy is None:\n",
    "            Nxy = np.ceil(Lxy / dx).astype(int)\n",
    "\n",
    "        Nx, Ny = Nxy\n",
    "        Lx, Ly = Lxy\n",
    "        self.xy = ((np.arange(Nx) * dx - Lx / 2)[:, None],# half of the length\n",
    "                   (np.arange(Ny) * dy - Ly / 2)[None, :])\n",
    "        \n",
    "        self.kxy = (2*np.pi * np.fft.fftfreq(Nx, dx)[:, None],\n",
    "                    2*np.pi * np.fft.fftfreq(Ny, dy)[None, :])\n",
    "        self.dx = dx\n",
    "        \n",
    "        self.Nxy = tuple(Nxy)\n",
    "        self.Lxy = tuple(Lxy)\n",
    "        self.T = T\n",
    "        self.E_c = E_c\n",
    "        \n",
    "    def get_Ks(self, twist=(0, 0)):\n",
    "    \n",
    "        mat_shape = (np.prod(self.Nxy),)*2\n",
    "        tensor_shape = self.Nxy + self.Nxy\n",
    "        K = np.eye(mat_shape[0]).reshape(tensor_shape)\n",
    "        K = self.hbar**2/2/self.m *self.ifftn(sum(_k**2 for _k in self.kxy)[:, :,  None, None]*self.fftn(K)).reshape((np.prod(self.Nxy),)*2).reshape(mat_shape)\n",
    "        return K\n",
    "\n",
    "    def fftn(self, y):\n",
    "            return np.fft.fftn(y, axes=(0,1))\n",
    "            \n",
    "    def ifftn(self, y):\n",
    "            return np.fft.ifftn(y, axes=(0,1))\n",
    "            \n",
    "   "
   ]
  },
  {
   "cell_type": "code",
   "execution_count": 12,
   "metadata": {},
   "outputs": [],
   "source": [
    "# The code is a bit silly, but it works, and it's connected to all what I have done above\n",
    "# Obviously can be shorten a lot \n",
    "def getKineticMatrix(s):\n",
    "    U = []\n",
    "    for x in s.xy[0].ravel():\n",
    "        for y in s.xy[0].ravel():\n",
    "            for kx in s.kxy[0].ravel():\n",
    "                for ky in s.kxy[1].ravel():\n",
    "                    U.append(np.exp(-1j*(kx * x + ky * y)) )\n",
    "\n",
    "    a= np.reshape(U,(np.prod(s.Nxy),)*2 )\n",
    "\n",
    "    f = []\n",
    "    for k1 in s.kxy[0].ravel():\n",
    "        for k2 in s.kxy[1].ravel():\n",
    "            f.append((k1**2 + k2**2 )/2)\n",
    "    b = np.diag(f) / np.prod(s.Nxy)\n",
    "    T=np.matmul(a,b)\n",
    "    T2 = np.matmul(T,a.conj().T)\n",
    "    return T2"
   ]
  },
  {
   "cell_type": "code",
   "execution_count": 13,
   "metadata": {},
   "outputs": [
    {
     "data": {
      "text/plain": [
       "(array([[ 0.19739209+0.j, -0.09869604+0.j, -0.09869604+0.j,\n",
       "          0.        +0.j],\n",
       "        [-0.09869604+0.j,  0.19739209+0.j,  0.        +0.j,\n",
       "         -0.09869604+0.j],\n",
       "        [-0.09869604+0.j,  0.        +0.j,  0.19739209+0.j,\n",
       "         -0.09869604+0.j],\n",
       "        [ 0.        +0.j, -0.09869604+0.j, -0.09869604+0.j,\n",
       "          0.19739209+0.j]]),\n",
       " array([[ 1.97392088e-01+0.00000000e+00j, -9.86960440e-02-1.81301692e-17j,\n",
       "         -9.86960440e-02-1.81301692e-17j,  0.00000000e+00+1.20867794e-17j],\n",
       "        [-9.86960440e-02+1.81301692e-17j,  1.97392088e-01+0.00000000e+00j,\n",
       "          1.48020358e-33+0.00000000e+00j, -9.86960440e-02-1.81301692e-17j],\n",
       "        [-9.86960440e-02+1.81301692e-17j,  1.48020358e-33+0.00000000e+00j,\n",
       "          1.97392088e-01+0.00000000e+00j, -9.86960440e-02-1.81301692e-17j],\n",
       "        [ 0.00000000e+00-1.20867794e-17j, -9.86960440e-02+1.81301692e-17j,\n",
       "         -9.86960440e-02+1.81301692e-17j,  1.97392088e-01+0.00000000e+00j]]))"
      ]
     },
     "execution_count": 13,
     "metadata": {},
     "output_type": "execute_result"
    }
   ],
   "source": [
    "s = BCS(Nxy=(2**1,)*2)\n",
    "T1 = s.get_Ks()\n",
    "s.Nxy\n",
    "T2 = getKineticMatrix(s)\n",
    "assert np.allclose(T1, T2)\n",
    "T1, T2"
   ]
  },
  {
   "cell_type": "code",
   "execution_count": 5,
   "metadata": {},
   "outputs": [],
   "source": [
    "for n in range(1,5):\n",
    "    s = BCS(Nxy=(2**n,)*2)\n",
    "    T1 = s.get_Ks()\n",
    "    s.Nxy\n",
    "    T2 = getKineticMatrix(s)\n",
    "    assert np.allclose(T1, T2)"
   ]
  },
  {
   "cell_type": "markdown",
   "metadata": {},
   "source": [
    "They agree, cheers!"
   ]
  },
  {
   "cell_type": "markdown",
   "metadata": {},
   "source": [
    "# Understanding ASLDA\n",
    "## Modified kinetic density matrix\n",
    "In the ASLDA, the kinetic density matrix changed, unlike in homogenous case above, which is just second differential operators, we need to derive it form from mathmetical form:\n",
    "\n",
    "$$\n",
    "\\begin{pmatrix}\n",
    "K_a - \\mu_a + V_a & \\Delta^\\dagger \\\\\n",
    "\\Delta & -K_b+\\mu_b - V_b\\\\\n",
    "\\end{pmatrix}\n",
    "\\begin{pmatrix}\n",
    "u_n\\\\\n",
    "v_n\n",
    "\\end{pmatrix}=E_n\n",
    "\\begin{pmatrix}\n",
    "u_n\\\\\n",
    "v_n\n",
    "\\end{pmatrix}\n",
    "$$\n",
    "\n",
    "where the $K_a, K_b$ is defined:\n",
    "\n",
    "\\begin{align}\n",
    "K_au\n",
    "&=-\\frac{\\hbar^2}{2m}\\nabla(\\alpha_a(n_a,n_b))\\nabla u)\\\\\n",
    "&=-\\frac{\\hbar^2}{2m}\\left[\\nabla\\alpha_a\\nabla + \\alpha\\nabla^2\\right]u \\tag{21}\n",
    "\\end{align}\n",
    "\n",
    "$$\n",
    "\\nabla = i\\frac{\\partial}{\\partial x} + j \\frac{\\partial}{\\partial y}\n",
    "$$\n"
   ]
  },
  {
   "cell_type": "markdown",
   "metadata": {},
   "source": [
    "What we need to do is to put (21) into a matrix representation, we can use the same reasoning as we did in the last section, and the result can be gotten:\n",
    "\\begin{align}\n",
    "\\nabla \\alpha_a \\nabla + \\alpha\\nabla^2 \n",
    "&=Diag(\\hat{\\nabla}\\alpha)\\hat{\\nabla} +  Diag(\\alpha)\\hat{U}f\\hat{U}^\\dagger\n",
    "&=Diag(\\hat{\\nabla}\\alpha)\\hat{\\nabla} +  Diag(\\alpha)\\hat{T}\n",
    "\\end{align}\n",
    "where \n",
    "$$\n",
    "\\hat{\\nabla} =\\hat{U}g\\hat{U}^\\dagger\n",
    "$$\n",
    "and\n",
    "$$\n",
    "g(k_a,k_b) =  -i(k_a + k_b)\\\\\n",
    "f(k_a,k_b) = -(k_a^2 + k_b^2)\n",
    "$$"
   ]
  },
  {
   "cell_type": "markdown",
   "metadata": {},
   "source": [
    "## Potential terms\n",
    "The potential terms is not totally different from the simple external potentials, we need to incorporate lots of tems into the modified potentials, as can be seen from their expressions:\n",
    "\n",
    "$$\n",
    "V_a=\\frac{\\partial\\alpha_-(n_a,n_b)}{\\partial n_a}\\frac{\\hbar^2\\tau_-}{2m} + \\frac{\\partial \\alpha_+(n_a,n_b)}{\\partial n_a}\\left(\\frac{\\hbar^2\\tau_+}{2m} - \\frac{\\Delta^\\dagger\\upsilon}{\\alpha_+(n_a,n_b)}\\right)-\\frac{\\partial\\tilde{C}(n_a,n_b)}{\\partial n_a}\\frac{\\Delta^\\dagger \\Delta}{\\alpha_+} + \\frac{\\hbar^2}{m} \\frac{\\partial D(n_a,n_b)}{\\partial n_a}+U_a(r)\n",
    "$$\n",
    "where\n",
    "\n",
    "\\begin{align}\n",
    "n_a(r)&=\\sum_{\\abs{E_n}<E_c} \\abs{u_n(r)}^2 f_\\beta(E_n)\\\\\n",
    "n_b(r)&=\\sum_{\\abs{E_n}<E_c} \\abs{v_n(r)}^2 f_\\beta(-E_n)\\\\\n",
    "\\tau_a(r)&=\\sum_{\\abs{E_n}<E_c} \\abs{\\nabla u_n(r)}^2 f_\\beta(E_n)\\\\\n",
    "\\tau_b(r)&=\\sum_{\\abs{E_n}<E_c} \\abs{\\nabla v_n(r)}^2 f_\\beta(-E_n)\\\\\n",
    "p(r)&=\\frac{n_a(r)-n_b(r)}{n_a(r)+n_b(r)}\\\\\n",
    "\\alpha(p)&=1.094+0.156p \\left(1-\\frac{2p^2}{3}+\\frac{p^4}{5}\\right)-0.532p^2\\left(1-p^2+\\frac{p^4}{3} \\right)\\\\\n",
    "\\alpha_a(n_a,n_b)&=\\alpha(p)\\\\\n",
    "\\alpha_b(n_a,n_b)&=\\alpha(-p)\\\\\n",
    "\\alpha_{\\pm}(n_a,n_b)&=\\frac{1}{2}\\left[\\alpha_a(n_a,n_b)\\pm\\alpha_b(n_a,n_b)\\right]\\\\\n",
    "\\tau_{\\pm}&=\\tau_a \\pm \\tau_b\\\\\n",
    "G(p)&=0.357+0.642p^2\\\\\n",
    "\\tilde{C}(n_a,n_b)&=\\frac{\\alpha_+(p)(n_a+n_b)^{1/3}}{\\gamma(p)}\\\\\n",
    "D(n_a,n_b)&=\\frac{\\left(6\\pi^2(n_a+n_b)\\right)^{5/3}}{20\\pi^2}\\left[G(p)-\\alpha(p)\\left(\\frac{1+p}{2}\\right)^{5/3}-\\alpha(-p)\\left(\\frac{1-p}{2}\\right)^{5/3}\\right]\n",
    "\\end{align}"
   ]
  },
  {
   "cell_type": "markdown",
   "metadata": {},
   "source": [
    "The partial derivatives then can be calculated:\n",
    "\\begin{align}\n",
    "\\frac{\\partial \\alpha_-}{\\partial n_a}&=\\frac{1}{2}\\\\\n",
    "\\frac{\\partial \\alpha_-}{\\partial n_b}&=-\\frac{1}{2}\\\\\n",
    "\\frac{\\partial p}{\\partial n_a}&=\\frac{2 n_b}{\\left(n_a+n_b\\right)^2}\\\\\n",
    "\\frac{\\partial p}{\\partial n_b}&=-\\frac{2 n_a}{\\left(n_a+n_b\\right)^2}\\\\\n",
    "\\frac{d\\alpha}{dp}\n",
    "&=0.156 \\left(\\frac{4 p^3}{5}+\\frac{4 p}{3}\\right) p-1.064 \\left(\\frac{p^4}{3}-p^2+1\\right) p+0.156 \\left(\\frac{p^4}{5}+\\frac{2 p^2}{3}+1\\right)-0.532 \\left(\\frac{4 p^3}{3}-2 p\\right) p^2\\\\\n",
    "&=-1.064 p^5+0.156 p^4+2.128 p^3+0.312 p^2-1.064 p+0.156\\\\\n",
    "\\frac{d \\alpha_+}{d p}&=-1.064 p^5+2.128 p^3-1.064 p\\\\\n",
    "\\frac{d \\alpha_-}{d p}&=0.156 \\left(p^2+1.\\right)^2\\\\\n",
    "\\end{align}"
   ]
  },
  {
   "cell_type": "markdown",
   "metadata": {},
   "source": [
    "### $\\frac{\\partial \\alpha}{\\partial n}$ Terms:\n",
    "\n",
    "\\begin{align}\n",
    "\\frac{\\partial \\alpha_+(n_a,n_b)}{\\partial n_a} &= \\frac{n_a^2 n_b^3 \\left(34.048 n_b-34.048 n_a\\right)}{\\left(n_a+n_b\\right){}^7}\\\\\n",
    "\\frac{\\partial \\alpha_+(n_a,n_b)}{\\partial n_b} &= \\frac{n_a^3 n_b^2 \\left(34.048 n_a-34.048 n_b\\right)}{\\left(n_a+n_b\\right){}^7}\\\\\n",
    "\\frac{\\partial \\alpha_-(n_a,n_b)}{\\partial n_a} &= \\frac{n_b \\left(-5.551115123125783^{-17} n_a^3 n_b+2.496 n_a^2 n_b^2+2.7755575615628914^{-17} n_a n_b^3+1.248 n_a^4+1.248 n_b^4\\right)}{\\left(n_a+n_b\\right){}^6} \\\\\n",
    "\\frac{\\partial \\alpha_-(n_a,n_b)}{\\partial n_b} &=\\frac{-8.881784197001252^{-16} n_a^4 n_b-2.496 n_a^3 n_b^2-1.248 n_a n_b^4-1.248 n_a^5}{\\left(n_a+n_b\\right){}^6}\n",
    "\\end{align}"
   ]
  },
  {
   "cell_type": "markdown",
   "metadata": {},
   "source": [
    "### $\\frac{\\partial \\tilde{C}}{\\partial n}$ Terms:\n",
    "\\begin{align}\n",
    "\\frac{\\partial \\tilde{c}(n_a,n_b)}{\\partial n_a}&=\\frac{-0.328565 n_a^6 n_b-0.83592 n_a^5 n_b^2+1.4058 n_a^4 n_b^3-1.73371 n_a^3 n_b^4-3.94548 n_a^2 n_b^5-0.393467 n_a n_b^6-0.0362396 n_a^7-0.131097 n_b^7}{\\left(n_a+n_b\\right){}^{23/3}}\\\\\n",
    "\\frac{\\partial \\tilde{c}(n_a,n_b)}{\\partial n_b}&=\\frac{0.00842884 n_a^6 n_b-3.33889 n_a^5 n_b^2-0.872507 n_a^4 n_b^3+2.11723 n_a^3 n_b^4-0.319196 n_a^2 n_b^5-0.0564736 n_a n_b^6+0.0760916 n_a^7-0.0187659 n_b^7}{\\left(n_a+n_b\\right){}^{23/3}}\n",
    "\\end{align}"
   ]
  },
  {
   "cell_type": "markdown",
   "metadata": {},
   "source": [
    "### $\\frac{\\partial D}{\\partial n}$ Terms:\n",
    "\n",
    "The results are very very long equations:\n",
    "\n",
    "\\begin{align}\n",
    "\\frac{\\partial D}{\\partial n_a} &=N_1+n_bN_2 N_3\\\\\n",
    "\\frac{\\partial D}{\\partial n_b}&=N_1 - n_aN_2 N_3\\\\\n",
    "\\end{align}\n",
    "\n",
    "\n",
    "where:\n",
    "\n",
    "\\begin{align}\n",
    "N_1&=\\frac{3^{2/3} \\pi^{4/3} n^{2/3}}\n",
    "{\\sqrt[3]{2}n^7}\\left[n_a^7 \\left(0.999\\, -1.20787 p_a\\right)+n_b^7 \\left(0.999\\, -1.20787 p_b\\right)+n_a^6 n_b \\left(-5.9992 p_a-0.625467 p_b+4.425\\right)+n_a^5 n_b^2 \\left(-14.374 p_a-5.0008 p_b+8.139\\right)+n_a^4 n_b^3 \\left(-29.6827 p_a-13.126 p_b+9.285\\right)+n_a^3 n_b^4 \\left(-13.126 p_a-29.6827 p_b+9.285\\right)+n_a^2 n_b^5 \\left(-5.0008 p_a-14.374 p_b+8.139\\right)+n_a n_b^6 \\left(-0.625467 p_a-5.9992 p_b+4.425\\right)\\right]\\\\\n",
    "N_2 & = \\frac{3\\ 3^{2/3} \\pi ^{4/3} n^{5/3}}{5n^{16} \\sqrt[3]{2}} \\left[n_a^7 \\left(-3.26111 p_a+1.04244 p_b+2.568\\right)+n_a^6 n_b \\left(-14.5078 p_a+10.6251 p_b+12.84\\right)+n_a^5 n_b^2 \\left(-3.65133 p_a+32.7073 p_b+23.112\\right)+n_a^4 n_b^3 \\left(-78.4198 p_a+109.14 p_b+12.84\\right)+n_a^3 n_b^4 \\left(-109.14 p_a+78.4198 p_b-12.84\\right)+n_a^2 n_b^5 \\left(-32.7073 p_a+3.65133 p_b-23.112\\right)+n_a n_b^6 \\left(-10.6251 p_a+14.5078 p_b-12.84\\right)+n_b^7 \\left(-1.04244 p_a+3.26111 p_b-2.568\\right)\\right]\\\\\n",
    "N_3&=n_a^7 \\left(0.999\\, -1.20787 p_a\\right)+n_b^7 \\left(0.999\\, -1.20787 p_b\\right)+n_a^6 n_b \\left(-5.9992 p_a-0.625467 p_b+4.425\\right)+n_a^5 n_b^2 \\left(-14.374 p_a-5.0008 p_b+8.139\\right)+n_a^4 n_b^3 \\left(-29.6827 p_a-13.126 p_b+9.285\\right)+n_a^3 n_b^4 \\left(-13.126 p_a-29.6827 p_b+9.285\\right)+n_a^2 n_b^5 \\left(-5.0008 p_a-14.374 p_b+8.139\\right)+n_a n_b^6 \\left(-0.625467 p_a-5.9992 p_b+4.425\\right)\\\\\n",
    "n &=n_a+n_b\\\\\n",
    "p_a &= \\left(\\frac{n_a}{n_a+n_b}\\right){}^{2/3}\\\\\n",
    "p_b &= \\left(\\frac{n_b}{n_a+n_b}\\right){}^{2/3}\\\\\n",
    "\\end{align}\n"
   ]
  },
  {
   "cell_type": "markdown",
   "metadata": {},
   "source": []
  },
  {
   "cell_type": "code",
   "execution_count": null,
   "metadata": {},
   "outputs": [],
   "source": []
  }
 ],
 "metadata": {
  "kernelspec": {
   "display_name": "Python 3",
   "language": "python",
   "name": "python3"
  },
  "language_info": {
   "codemirror_mode": {
    "name": "ipython",
    "version": 3
   },
   "file_extension": ".py",
   "mimetype": "text/x-python",
   "name": "python",
   "nbconvert_exporter": "python",
   "pygments_lexer": "ipython3",
   "version": "3.6.4"
  }
 },
 "nbformat": 4,
 "nbformat_minor": 2
}
