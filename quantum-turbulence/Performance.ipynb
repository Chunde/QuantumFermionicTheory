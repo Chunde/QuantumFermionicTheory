{
 "cells": [
  {
   "cell_type": "code",
   "execution_count": 2,
   "metadata": {},
   "outputs": [
    {
     "data": {
      "text/html": [
       "<style>.grade {\n",
       "   background-color: #66FFCC;\n",
       "}\n",
       "</style>"
      ],
      "text/plain": [
       "<IPython.core.display.HTML object>"
      ]
     },
     "metadata": {},
     "output_type": "display_data"
    },
    {
     "data": {
      "application/javascript": [],
      "text/plain": [
       "<IPython.core.display.Javascript object>"
      ]
     },
     "metadata": {},
     "output_type": "display_data"
    },
    {
     "data": {
      "text/html": [
       "<script id=\"MathJax-Element-48\" type=\"math/tex\">\\newcommand{\\vect}[1]{\\mathbf{#1}}\n",
       "\\newcommand{\\uvect}[1]{\\hat{#1}}\n",
       "\\newcommand{\\abs}[1]{\\lvert#1\\rvert}\n",
       "\\newcommand{\\norm}[1]{\\lVert#1\\rVert}\n",
       "\\newcommand{\\I}{\\mathrm{i}}\n",
       "\\newcommand{\\ket}[1]{\\left|#1\\right\\rangle}\n",
       "\\newcommand{\\bra}[1]{\\left\\langle#1\\right|}\n",
       "\\newcommand{\\braket}[1]{\\langle#1\\rangle}\n",
       "\\newcommand{\\Braket}[1]{\\left\\langle#1\\right\\rangle}\n",
       "\\newcommand{\\op}[1]{\\mathbf{#1}}\n",
       "\\newcommand{\\mat}[1]{\\mathbf{#1}}\n",
       "\\newcommand{\\d}{\\mathrm{d}}\n",
       "\\newcommand{\\pdiff}[3][]{\\frac{\\partial^{#1} #2}{\\partial {#3}^{#1}}}\n",
       "\\newcommand{\\diff}[3][]{\\frac{\\d^{#1} #2}{\\d {#3}^{#1}}}\n",
       "\\newcommand{\\ddiff}[3][]{\\frac{\\delta^{#1} #2}{\\delta {#3}^{#1}}}\n",
       "\\newcommand{\\floor}[1]{\\left\\lfloor#1\\right\\rfloor}\n",
       "\\newcommand{\\ceil}[1]{\\left\\lceil#1\\right\\rceil}\n",
       "\\DeclareMathOperator{\\Tr}{Tr}\n",
       "\\DeclareMathOperator{\\erf}{erf}\n",
       "\\DeclareMathOperator{\\erfi}{erfi}\n",
       "\\DeclareMathOperator{\\sech}{sech}\n",
       "\\DeclareMathOperator{\\sgn}{sgn}\n",
       "\\DeclareMathOperator{\\order}{O}\n",
       "\\DeclareMathOperator{\\diag}{diag}\n",
       "\n",
       "\\newcommand{\\mylabel}[1]{\\label{#1}\\tag{#1}}\n",
       "\\newcommand{\\degree}{\\circ}</script>"
      ],
      "text/plain": [
       "<IPython.core.display.HTML object>"
      ]
     },
     "metadata": {},
     "output_type": "display_data"
    },
    {
     "data": {
      "text/html": [],
      "text/plain": [
       "<IPython.core.display.HTML object>"
      ]
     },
     "metadata": {},
     "output_type": "display_data"
    },
    {
     "data": {
      "text/html": [
       "\n",
       "<i>\n",
       "<p>This cell contains some definitions for equations and some CSS for styling\n",
       "  the notebook. If things look a bit strange, please try the following:\n",
       "<ul>\n",
       "  <li>Choose \"Trust Notebook\" from the \"File\" menu.</li>\n",
       "  <li>Re-execute this cell.</li>\n",
       "  <li>Reload the notebook.</li>\n",
       "</ul>\n",
       "</p>\n",
       "</i>\n"
      ],
      "text/plain": [
       "<IPython.core.display.HTML object>"
      ]
     },
     "metadata": {},
     "output_type": "display_data"
    }
   ],
   "source": [
    "import mmf_setup;mmf_setup.nbinit(hgroot=False)"
   ]
  },
  {
   "cell_type": "markdown",
   "metadata": {},
   "source": [
    "# Performance"
   ]
  },
  {
   "cell_type": "markdown",
   "metadata": {},
   "source": [
    "Several places in our code need high performance.  Here we discuss some options."
   ]
  },
  {
   "cell_type": "markdown",
   "metadata": {},
   "source": [
    "# Integration"
   ]
  },
  {
   "cell_type": "markdown",
   "metadata": {},
   "source": [
    "Consider computing the total particle number as a function of $\\mu_a$, $\\mu_b$, $\\Delta$, $t$, $m$, and $\\hbar$.  This requires the following integral:\n",
    "\n",
    "$$\n",
    "  n_+ = \\int\\frac{d^d{k}}{(2\\pi)^d}\\; \\left(1 - \\frac{\\epsilon_+}{E}[f(\\omega_-) - f(\\omega_+)]\\right), \\qquad\n",
    "  f(E) = \\frac{1}{1+e^{E/T}}, \\qquad\n",
    "  \\omega_{\\pm} = \\epsilon_- \\pm E, \\\\\n",
    "  E = \\sqrt{\\epsilon_+^2 + \\abs{\\Delta}^2}, \\qquad\n",
    "  \\epsilon_{a, b} = \\frac{\\hbar^2k^2}{2m} - \\mu_{a, b}, \\qquad \n",
    "  \\epsilon_{\\pm} = \\frac{\\epsilon_{a} \\pm \\epsilon_{b}}{2}.\n",
    "$$"
   ]
  },
  {
   "cell_type": "code",
   "execution_count": 3,
   "metadata": {},
   "outputs": [
    {
     "name": "stdout",
     "output_type": "stream",
     "text": [
      "765 µs ± 2.73 µs per loop (mean ± std. dev. of 7 runs, 1000 loops each)\n"
     ]
    },
    {
     "data": {
      "text/plain": [
       "-1.0620246765347119e-09+/-4.378828833166519e-09"
      ]
     },
     "execution_count": 3,
     "metadata": {},
     "output_type": "execute_result"
    }
   ],
   "source": [
    "from scipy.integrate import quad\n",
    "import numpy as np\n",
    "from uncertainties import ufloat\n",
    "\n",
    "def f(E, T):\n",
    "    \"\"\"Fermi distribution function.\"\"\"\n",
    "    if T == 0:\n",
    "        return (1 - np.sign(E))/2\n",
    "    else:\n",
    "        return 1./(1+np.exp(E/T))\n",
    "\n",
    "\n",
    "def n_integrand(k, mu_a, mu_b, delta, m_a, m_b, hbar, T):\n",
    "    e = (hbar*k)**2/2\n",
    "    e_a, e_b = e/m_a - mu_a, e/m_b - mu_b\n",
    "    e_m, e_p = (e_a -e_b)/2, (e_a + e_b)/2\n",
    "    E = np.sqrt(e_p**2 + abs(delta)**2)\n",
    "    w_m, w_p = e_m - E, e_m + E\n",
    "    return 1 - e_p/E*(f(w_m, T)- f(w_p, T))\n",
    "\n",
    "\n",
    "# Test BdG at unitary point.\n",
    "m = hbar = kF = 1.0\n",
    "eF = (hbar*kF)**2/2/m\n",
    "nF = kF**3/3/np.pi**2\n",
    "mu_a = mu_b = 0.59060550703283853378393810185221521748413488992993*eF\n",
    "delta = 0.68640205206984016444108204356564421137062514068346*eF\n",
    "\n",
    "def integrand(k):\n",
    "    return n_integrand(k, mu_a, mu_b, delta, m, m, hbar, T=0.0) * k**2/2/np.pi**2\n",
    "\n",
    "%timeit n = ufloat(*quad(integrand, 0, kF)) + ufloat(*quad(integrand, kF, np.inf))\n",
    "n = ufloat(*quad(integrand, 0, kF)) + ufloat(*quad(integrand, kF, np.inf))\n",
    "n - nF"
   ]
  },
  {
   "cell_type": "markdown",
   "metadata": {},
   "source": [
    "Our first attempt to improve performance is to use the numba just-in-time (JIT) compiler."
   ]
  },
  {
   "cell_type": "code",
   "execution_count": 5,
   "metadata": {},
   "outputs": [
    {
     "name": "stdout",
     "output_type": "stream",
     "text": [
      "43.7 µs ± 16.7 µs per loop (mean ± std. dev. of 7 runs, 1 loop each)\n"
     ]
    },
    {
     "data": {
      "text/plain": [
       "-1.0620246765347119e-09+/-4.378828833166519e-09"
      ]
     },
     "execution_count": 5,
     "metadata": {},
     "output_type": "execute_result"
    }
   ],
   "source": [
    "import numba\n",
    "\n",
    "@numba.jit(nopython=True)\n",
    "def f(E, T):\n",
    "    \"\"\"Fermi distribution function.\"\"\"\n",
    "    if T == 0:\n",
    "        return (1 - np.sign(E))/2\n",
    "    else:\n",
    "        return 1./(1+np.exp(E/T))\n",
    "\n",
    "@numba.jit(nopython=True)\n",
    "def n_integrand(k, mu_a, mu_b, delta, m_a, m_b, hbar, T):\n",
    "    e = (hbar*k)**2/2\n",
    "    e_a, e_b = e/m_a - mu_a, e/m_b - mu_b\n",
    "    e_m, e_p = (e_a -e_b)/2, (e_a + e_b)/2\n",
    "    E = np.sqrt(e_p**2 + abs(delta)**2)\n",
    "    w_m, w_p = e_m - E, e_m + E\n",
    "    return 1 - e_p/E*(f(w_m, T)- f(w_p, T))\n",
    "\n",
    "@numba.jit(nopython=True)\n",
    "def integrand(k):\n",
    "    return n_integrand(k, mu_a, mu_b, delta, m, m, hbar, 0.0) * k**2/2/np.pi**2\n",
    "\n",
    "%timeit n = ufloat(*quad(integrand, 0, kF)) + ufloat(*quad(integrand, kF, np.inf))\n",
    "n = ufloat(*quad(integrand, 0, kF)) + ufloat(*quad(integrand, kF, np.inf))\n",
    "n - nF"
   ]
  },
  {
   "cell_type": "code",
   "execution_count": 6,
   "metadata": {},
   "outputs": [
    {
     "name": "stdout",
     "output_type": "stream",
     "text": [
      "Populating the interactive namespace from numpy and matplotlib\n"
     ]
    },
    {
     "name": "stderr",
     "output_type": "stream",
     "text": [
      "c:\\users\\chunde\\appdata\\local\\programs\\python\\python37\\lib\\site-packages\\IPython\\core\\magics\\pylab.py:160: UserWarning: pylab import has clobbered these variables: ['f']\n",
      "`%matplotlib` prevents importing * from pylab and numpy\n",
      "  \"\\n`%matplotlib` prevents importing * from pylab and numpy\"\n"
     ]
    },
    {
     "data": {
      "text/plain": [
       "1.6522295319699407"
      ]
     },
     "execution_count": 6,
     "metadata": {},
     "output_type": "execute_result"
    },
    {
     "data": {
      "image/png": "[encoded data removed]",
      "text/plain": [
       "<Figure size 432x288 with 1 Axes>"
      ]
     },
     "metadata": {
      "needs_background": "light"
     },
     "output_type": "display_data"
    }
   ],
   "source": [
    "k = np.linspace(0, 10, 100)\n",
    "%pylab inline\n",
    "plt.plot(k, [n_integrand(k_, mu_a, mu_b, delta, m, m, hbar, 0.0) for k_ in k])\n",
    "n_integrand(0, mu_a, mu_b, delta, m, m, hbar, 0.0)"
   ]
  },
  {
   "cell_type": "markdown",
   "metadata": {},
   "source": [
    "This can be improved a bit by wrapping this in scipy's [LowLevelCallable](https://docs.scipy.org/doc/scipy/reference/generated/scipy.LowLevelCallable.html#scipy.LowLevelCallable) routine:"
   ]
  },
  {
   "cell_type": "code",
   "execution_count": 7,
   "metadata": {},
   "outputs": [
    {
     "name": "stdout",
     "output_type": "stream",
     "text": [
      "9.53 µs ± 65.3 ns per loop (mean ± std. dev. of 7 runs, 100000 loops each)\n",
      "24.8 µs ± 186 ns per loop (mean ± std. dev. of 7 runs, 10000 loops each)\n"
     ]
    },
    {
     "data": {
      "text/plain": [
       "-1.0620246765347119e-09+/-4.378828833166519e-09"
      ]
     },
     "execution_count": 7,
     "metadata": {},
     "output_type": "execute_result"
    }
   ],
   "source": [
    "import scipy\n",
    "args = (mu_a, mu_b, delta, m, m, hbar, 0.0)\n",
    "\n",
    "@numba.cfunc(numba.float64(numba.float64))\n",
    "def integrand(k):\n",
    "    return n_integrand(k, *args) * k**2/2/np.pi**2\n",
    "    #return n_integrand(k, mu_a, mu_b, delta, m, m, hbar, 0.0) * k**2/2/np.pi**2\n",
    "integrand = scipy.LowLevelCallable(integrand.ctypes)\n",
    "\n",
    "%timeit quad(integrand, 0, kF)[0] + quad(integrand, kF, np.inf)[0]\n",
    "%timeit n = ufloat(*quad(integrand, 0, kF)) + ufloat(*quad(integrand, kF, np.inf))\n",
    "n = ufloat(*quad(integrand, 0, kF)) + ufloat(*quad(integrand, kF, np.inf))\n",
    "n - nF"
   ]
  },
  {
   "cell_type": "code",
   "execution_count": 8,
   "metadata": {},
   "outputs": [
    {
     "name": "stdout",
     "output_type": "stream",
     "text": [
      "49.2 µs ± 230 ns per loop (mean ± std. dev. of 7 runs, 10000 loops each)\n",
      "5.1 µs ± 13.6 ns per loop (mean ± std. dev. of 7 runs, 100000 loops each)\n",
      "2.63 µs ± 11.5 ns per loop (mean ± std. dev. of 7 runs, 100000 loops each)\n"
     ]
    }
   ],
   "source": [
    "import math\n",
    "import scipy.special\n",
    "import scipy as sp\n",
    "@numba.cfunc(numba.float64(numba.float64))\n",
    "def integrand(k):\n",
    "    return 2*math.exp(-k**2/2)/math.sqrt(2*np.pi)\n",
    "integrand = scipy.LowLevelCallable(integrand.ctypes)\n",
    "\n",
    "assert np.allclose(quad(integrand, 0, 10)[0], sp.special.erf(100) - sp.special.erf(0))\n",
    "\n",
    "%timeit quad(lambda x:math.exp(-x**2), 0, 10)\n",
    "%timeit quad(integrand, 0, 10)\n",
    "%timeit sp.special.erf(10) - sp.special.erf(0)"
   ]
  },
  {
   "cell_type": "code",
   "execution_count": 10,
   "metadata": {},
   "outputs": [
    {
     "name": "stdout",
     "output_type": "stream",
     "text": [
      "33.2 µs ± 1.26 µs per loop (mean ± std. dev. of 7 runs, 10000 loops each)\n",
      "55.7 µs ± 2.53 µs per loop (mean ± std. dev. of 7 runs, 10000 loops each)\n"
     ]
    }
   ],
   "source": [
    "import numexpr\n",
    "k = np.linspace(0,10,100)\n",
    "%timeit np.trapz(np.exp(-k**2/2)/np.sqrt(np.pi/2), k)\n",
    "pi = np.pi\n",
    "%timeit np.trapz(numexpr.evaluate('exp(-k**2/2)/sqrt(pi/2)'), k)"
   ]
  },
  {
   "cell_type": "code",
   "execution_count": null,
   "metadata": {},
   "outputs": [],
   "source": []
  }
 ],
 "metadata": {
  "kernelspec": {
   "display_name": "Python 3",
   "language": "python",
   "name": "python3"
  },
  "language_info": {
   "codemirror_mode": {
    "name": "ipython",
    "version": 3
   },
   "file_extension": ".py",
   "mimetype": "text/x-python",
   "name": "python",
   "nbconvert_exporter": "python",
   "pygments_lexer": "ipython3",
   "version": "3.7.2"
  },
  "toc": {
   "base_numbering": 1,
   "nav_menu": {},
   "number_sections": true,
   "sideBar": true,
   "skip_h1_title": false,
   "title_cell": "Table of Contents",
   "title_sidebar": "Contents",
   "toc_cell": false,
   "toc_position": {},
   "toc_section_display": true,
   "toc_window_display": true
  }
 },
 "nbformat": 4,
 "nbformat_minor": 2
}
