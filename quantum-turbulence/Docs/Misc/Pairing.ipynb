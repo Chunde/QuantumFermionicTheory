{
 "cells": [
  {
   "cell_type": "code",
   "execution_count": 2,
   "metadata": {},
   "outputs": [
    {
     "data": {
      "text/html": [
       "<style>.grade {\n",
       "   background-color: #66FFCC;\n",
       "}\n",
       "</style>"
      ],
      "text/plain": [
       "<IPython.core.display.HTML object>"
      ]
     },
     "metadata": {},
     "output_type": "display_data"
    },
    {
     "data": {
      "application/javascript": [],
      "text/plain": [
       "<IPython.core.display.Javascript object>"
      ]
     },
     "metadata": {},
     "output_type": "display_data"
    },
    {
     "data": {
      "text/html": [
       "<script id=\"MathJax-Element-48\" type=\"math/tex\">\\newcommand{\\vect}[1]{\\mathbf{#1}}\n",
       "\\newcommand{\\uvect}[1]{\\hat{#1}}\n",
       "\\newcommand{\\abs}[1]{\\lvert#1\\rvert}\n",
       "\\newcommand{\\norm}[1]{\\lVert#1\\rVert}\n",
       "\\newcommand{\\I}{\\mathrm{i}}\n",
       "\\newcommand{\\ket}[1]{\\left|#1\\right\\rangle}\n",
       "\\newcommand{\\bra}[1]{\\left\\langle#1\\right|}\n",
       "\\newcommand{\\braket}[1]{\\langle#1\\rangle}\n",
       "\\newcommand{\\Braket}[1]{\\left\\langle#1\\right\\rangle}\n",
       "\\newcommand{\\op}[1]{\\mathbf{#1}}\n",
       "\\newcommand{\\mat}[1]{\\mathbf{#1}}\n",
       "\\newcommand{\\d}{\\mathrm{d}}\n",
       "\\newcommand{\\pdiff}[3][]{\\frac{\\partial^{#1} #2}{\\partial {#3}^{#1}}}\n",
       "\\newcommand{\\diff}[3][]{\\frac{\\d^{#1} #2}{\\d {#3}^{#1}}}\n",
       "\\newcommand{\\ddiff}[3][]{\\frac{\\delta^{#1} #2}{\\delta {#3}^{#1}}}\n",
       "\\newcommand{\\floor}[1]{\\left\\lfloor#1\\right\\rfloor}\n",
       "\\newcommand{\\ceil}[1]{\\left\\lceil#1\\right\\rceil}\n",
       "\\DeclareMathOperator{\\Tr}{Tr}\n",
       "\\DeclareMathOperator{\\erf}{erf}\n",
       "\\DeclareMathOperator{\\erfi}{erfi}\n",
       "\\DeclareMathOperator{\\sech}{sech}\n",
       "\\DeclareMathOperator{\\sgn}{sgn}\n",
       "\\DeclareMathOperator{\\order}{O}\n",
       "\\DeclareMathOperator{\\diag}{diag}\n",
       "\n",
       "\\newcommand{\\mylabel}[1]{\\label{#1}\\tag{#1}}\n",
       "\\newcommand{\\degree}{\\circ}</script>"
      ],
      "text/plain": [
       "<IPython.core.display.HTML object>"
      ]
     },
     "metadata": {},
     "output_type": "display_data"
    },
    {
     "data": {
      "text/html": [],
      "text/plain": [
       "<IPython.core.display.HTML object>"
      ]
     },
     "metadata": {},
     "output_type": "display_data"
    },
    {
     "data": {
      "text/html": [
       "\n",
       "<i>\n",
       "<p>This cell contains some definitions for equations and some CSS for styling\n",
       "  the notebook. If things look a bit strange, please try the following:\n",
       "<ul>\n",
       "  <li>Choose \"Trust Notebook\" from the \"File\" menu.</li>\n",
       "  <li>Re-execute this cell.</li>\n",
       "  <li>Reload the notebook.</li>\n",
       "</ul>\n",
       "</p>\n",
       "</i>\n"
      ],
      "text/plain": [
       "<IPython.core.display.HTML object>"
      ]
     },
     "metadata": {},
     "output_type": "display_data"
    }
   ],
   "source": [
    "import mmf_setup;mmf_setup.nbinit(hgroot=False)"
   ]
  },
  {
   "cell_type": "markdown",
   "metadata": {},
   "source": [
    "# Mixed Dimension Pairing"
   ]
  },
  {
   "cell_type": "markdown",
   "metadata": {},
   "source": [
    "Here we implement the BdG equations for a Fermi gas with one component in an optical lattice.  The claim is that with the following dispersions, one can have a very high $T_c$:\n",
    "\n",
    "$$\n",
    "  \\epsilon_k^{\\uparrow} = \\frac{k_\\perp^2}{2m} + 2t[1-\\cos(k_z d)] - \\mu_\\uparrow, \\qquad\n",
    "  \\epsilon_k^{\\downarrow} = \\frac{k^2}{2m} - \\mu_\\downarrow.\n",
    "$$\n",
    "\n",
    "The dispersion relationship here is a bit of a misnomer.  There low-energy states are just the single Bloch band $\\abs{k_z} \\leq \\pi/d$.  The other bands are much higher separated by a large gap.\n",
    "\n",
    "The BdG equations follow from the single-particle Hamiltonian (assuming homogeneous states)\n",
    "\n",
    "$$\n",
    "  \\begin{pmatrix}\n",
    "    \\epsilon_k^{\\uparrow} & \\Delta\\\\\n",
    "    \\Delta & -\\epsilon_k^{\\downarrow}\n",
    "  \\end{pmatrix}\n",
    "$$\n",
    "\n",
    "which has eigenvectors and eigenvalues\n",
    "\n",
    "$$\n",
    "  \\omega_{\\pm} = \\epsilon^{-}_k \\pm E_k, \\qquad\n",
    "  E_k = \\sqrt{(\\epsilon^{+}_k)^2 + \\Delta^2}, \\\\\n",
    "  \\epsilon^{\\pm}_{k} = \\frac{\\epsilon^\\uparrow_k \\pm \\epsilon^\\downarrow_k}{2}\\\\\n",
    "  u_k^2 = \\frac{1+\\epsilon^+_k/E_k}{2}, \\qquad\n",
    "  v_k^2 = \\frac{1-\\epsilon^+_k/E_k}{2},\\\\\n",
    "  n_+ = 1 - \\frac{\\epsilon^+_k}{2E_k}\\left[\\tanh(\\beta\\omega_+/2) - \\tanh(\\beta\\omega_-/2)\\right], \\qquad\n",
    "  n_- = - \\frac{1}{2}\\left[\\tanh(\\beta\\omega_+/2) + \\tanh(\\beta\\omega_-/2)\\right]\\\\\n",
    "  \\Delta = -g\\int \\frac{\\d^{3}\\vect{k}}{(2\\pi)^3}\\frac{\\Delta}{2E_k}\\frac{\\left[\\tanh(\\beta\\omega_+/2) - \\tanh(\\beta\\omega_-/2)\\right]}{2}\n",
    "$$"
   ]
  },
  {
   "cell_type": "markdown",
   "metadata": {},
   "source": [
    "Equation (3) from the paper follows from $\\tanh(\\beta\\omega/2) = 1 - 2f_\\beta(\\omega)$:\n",
    "\n",
    "$$\n",
    "  n_- = 0 = \\sum_{k}\\Bigl[f_\\beta(\\omega_+) - f_\\beta(-\\omega_-)\\Bigr]\\\\\n",
    "  n_+ = \\sum_{k}\\left(\n",
    "    1 + \\frac{\\epsilon^+_k}{E_k}\n",
    "    \\left[f_\\beta(\\omega_+) + f_\\beta(-\\omega_-) - 1\\right]\n",
    "  \\right)\n",
    "      = \\sum_{k}\\left(\n",
    "    2v_k^2 \n",
    "    + \\frac{\\epsilon^+_k}{E_k}\\left[f_\\beta(\\omega_+) + f_\\beta(-\\omega_-)\\right]\n",
    "  \\right),\\\\\n",
    "  g^{-1} = \\frac{m}{4\\pi a} - \\sum_{k} \\frac{1}{2\\epsilon_k^+} = -\\sum_{k}\n",
    "  \\frac{1 - f_\\beta(\\omega_+) - f_\\beta(-\\omega_-)}{2E_k}\\\\\n",
    "  \\frac{m}{4\\pi a} = \\sum_{k}\\left(\n",
    "    \\frac{1}{2\\epsilon_k^+} - \\frac{1 - f_\\beta(\\omega_+) - f_\\beta(-\\omega_-)}{2E_k}\\right)\\\\\n",
    "$$\n",
    "\n",
    "$$\n",
    "  \\tanh(\\beta\\omega/2) = 1 - 2f_\\beta(\\omega), \\qquad\n",
    "  f_\\beta(\\omega) + f_\\beta(-\\omega) = 1.\n",
    "$$"
   ]
  },
  {
   "cell_type": "code",
   "execution_count": 3,
   "metadata": {},
   "outputs": [
    {
     "name": "stdout",
     "output_type": "stream",
     "text": [
      "Populating the interactive namespace from numpy and matplotlib\n"
     ]
    }
   ],
   "source": [
    "%pylab inline --no-import-all\n",
    "from scipy.integrate import quad\n",
    "\n",
    "hbar = m = 1\n",
    "k_F = 1.0\n",
    "E_F = (hbar*k_F)**2/2/m\n",
    "\n",
    "\n",
    "class Solution(object):\n",
    "    k_max = 100\n",
    "    Nk = 1000\n",
    "    T = 0.1*E_F \n",
    "    Delta = 22.5*E_F\n",
    "    d = 50/k_F\n",
    "    t = 0.1*E_F\n",
    "    mu_a = 9.7*E_F\n",
    "    mu_b = -12*E_F\n",
    "\n",
    "\n",
    "    def __init__(self, **kw):\n",
    "        self.__dict__.update(kw)\n",
    "        self.k_perp = np.linspace(0, self.k_max, self.Nk)[None,:]\n",
    "        self.k_z = np.linspace(-np.pi/self.d, np.pi/self.d, self.Nk+1)[:, None]\n",
    "        self.dk_z = np.diff(self.k_z.ravel()).mean()\n",
    "\n",
    "    def f(self, E):\n",
    "        return 1./(1+np.exp(E/self.T))\n",
    "\n",
    "    def get_es(self, k_perp):\n",
    "        e_a = hbar**2*(k_perp**2 + self.k_z**2)/2/m - self.mu_a\n",
    "        e_b = hbar**2*k_perp**2/2/m + 2*self.t*(1-np.cos(self.k_z*self.d)) - self.mu_b\n",
    "        return (e_a, e_b)\n",
    "        \n",
    "    def n_integrand(self, k_perp):\n",
    "        e_a, e_b = self.get_es(k_perp=k_perp)\n",
    "        e_p = (e_a + e_b)/2\n",
    "        e_m = (e_a - e_b)/2\n",
    "        E = np.sqrt(e_p**2 + self.Delta**2)\n",
    "        w_p = e_m + E\n",
    "        w_m = e_m - E\n",
    "        n_m = self.f(w_p) - self.f(-w_m)\n",
    "        n_p = 1 + e_p/E*(self.f(w_p) + self.f(-w_m) - 1)\n",
    "        return np.trapz(2*np.pi*k_perp*n_p.ravel(), self.k_z.ravel())/(2*np.pi)**3\n",
    "\n",
    "    def dn_integrand(self, k_perp):\n",
    "        e_a, e_b = self.get_es(k_perp=k_perp)\n",
    "        e_p = (e_a + e_b)/2\n",
    "        e_m = (e_a - e_b)/2\n",
    "        E = np.sqrt(e_p**2 + self.Delta**2)\n",
    "        w_p = e_m + E\n",
    "        w_m = e_m - E\n",
    "        n_m = self.f(w_p) - self.f(-w_m)\n",
    "        return np.trapz(2*np.pi*k_perp*n_m.ravel(), self.k_z.ravel())/(2*np.pi)**3\n",
    "\n",
    "    def nu_integrand_(self, k_perp):\n",
    "        e_a, e_b = self.get_es(k_perp=k_perp)\n",
    "        e_p = (e_a + e_b)/2\n",
    "        e_m = (e_a - e_b)/2\n",
    "        E = np.sqrt(e_p**2 + self.Delta**2)\n",
    "        w_p = e_m + E\n",
    "        w_m = e_m - E\n",
    "        n_m = self.f(w_p) - self.f(-w_m)\n",
    "        n_p = 1 + e_p/E*(self.f(w_p) + self.f(-w_m) - 1)\n",
    "        mu_p = (self.mu_a + self.mu_b)/2\n",
    "        nu = 1./2./(e_p + mu_p) - (1 - self.f(w_p) - self.f(-w_m))/2/E\n",
    "        return 2*np.pi*k_perp*nu/(2*np.pi)**3\n",
    "\n",
    "    def nu_integrand(self, k_perp):\n",
    "        return np.trapz(self.nu_integrand_(k_perp).ravel(), self.k_z.ravel())\n",
    "\n",
    "    def solve(self):\n",
    "        \"\"\"Return (k_F, dn/n, 1./akF)\"\"\"\n",
    "        n = quad(self.n_integrand, 0, self.k_max)[0]\n",
    "        dn = quad(self.dn_integrand, 0, self.k_max)[0]\n",
    "        k_F = (3*np.pi**2*n)**(1./3)\n",
    "        akF_inv = 4*np.pi * quad(self.nu_integrand, 0, self.k_max)[0]/ m/k_F\n",
    "        return k_F, dn/n, akF_inv\n",
    "    \n",
    "class SolutionBCS_(Solution):\n",
    "    def __init__(self, **kw):\n",
    "        Solution.__init__(self, **kw)\n",
    "        self.k_z = np.linspace(-self.k_max, self.k_max, self.Nk+1)[:, None]\n",
    "        self.dk_z = np.diff(self.k_z.ravel()).mean()\n",
    "\n",
    "    def get_es(self, k_perp):\n",
    "        e_a = hbar**2*(k_perp**2 + self.k_z**2)/2/m - self.mu_a\n",
    "        e_b = hbar**2*(k_perp**2 + self.k_z**2)/2/m - self.mu_b\n",
    "        return (e_a, e_b)"
   ]
  },
  {
   "cell_type": "code",
   "execution_count": 29,
   "metadata": {},
   "outputs": [
    {
     "name": "stdout",
     "output_type": "stream",
     "text": [
      "[14.18331303  1.50448197  1.70283026]\n",
      "[22.44711387 -3.30205792  1.        ]\n"
     ]
    }
   ],
   "source": [
    "from IPython.display import clear_output\n",
    "from scipy.optimize import fsolve\n",
    "\n",
    "d = 50/k_F\n",
    "akF_inv = 0.1093561\n",
    "\n",
    "Delta0 = 22.5*E_F\n",
    "T_c = 0.96*E_F\n",
    "\n",
    "def f_T(q):\n",
    "    display(q)\n",
    "    clear_output(wait=True)\n",
    "    T, mu_a, mu_b = np.asarray(q)*E_F\n",
    "\n",
    "    sol = Solution(\n",
    "        T=T,\n",
    "        Delta=0.0,\n",
    "        d=d,\n",
    "        mu_a=mu_a, mu_b=mu_b)\n",
    "    return np.array(sol.solve()) - (1.0, 0.0, akF_inv)\n",
    "\n",
    "def f_D(q):\n",
    "    display(q)\n",
    "    clear_output(wait=True)\n",
    "    Delta, mu_a, mu_b = np.asarray(q)*E_F\n",
    "\n",
    "    sol = Solution(\n",
    "        T=0.0001*E_F, \n",
    "        Delta=Delta,\n",
    "        d=d,\n",
    "        mu_a=mu_a, mu_b=mu_b)\n",
    "    return np.array(sol.solve()) - (1.0, 0.0, akF_inv)\n",
    "\n",
    "q_T = (T_c/E_F, 0.3, 0.3)\n",
    "q_T = fsolve(f_T, q_T)\n",
    "\n",
    "q_D = (Delta0/E_F, 1.0, 1.0)\n",
    "q_D = fsolve(f_D, q_D)\n",
    "print(q_T)\n",
    "print(q_D)"
   ]
  },
  {
   "cell_type": "code",
   "execution_count": 5,
   "metadata": {},
   "outputs": [
    {
     "name": "stdout",
     "output_type": "stream",
     "text": [
      "(0.1, 9.6, -12)\n",
      "[ 22.50000362   9.61898799 -12.        ]\n"
     ]
    }
   ],
   "source": [
    "q_T = (0.1, 9.6, -12)\n",
    "#q_T = fsolve(f_T, q_T)\n",
    "q_D = (22.5, 9.6, -12.)\n",
    "q_D = fsolve(f_D, q_D)\n",
    "print(q_T)\n",
    "print(q_D)\n",
    "    "
   ]
  },
  {
   "cell_type": "code",
   "execution_count": 6,
   "metadata": {},
   "outputs": [],
   "source": [
    "def f_T(q):\n",
    "    display(q)\n",
    "    clear_output(wait=True)\n",
    "    T, mu_a, mu_b = np.asarray(q)*E_F\n",
    "    #Delta, mu_a, mu_b = np.asarray(q)*E_F\n",
    "\n",
    "    sol = Solution(\n",
    "        T=T,\n",
    "        Delta=20*E_F,\n",
    "        d=d,\n",
    "        mu_a=mu_a, mu_b=mu_b)\n",
    "    return np.array(sol.solve()) - (1.0, 0.0, akF_inv)\n",
    "\n",
    "def f_D(q):\n",
    "    display(q)\n",
    "    clear_output(wait=True)\n",
    "    Delta, mu_a, mu_b = np.asarray(q)*E_F\n",
    "\n",
    "    sol = Solution(\n",
    "        T=1.1*E_F, \n",
    "        Delta=Delta,\n",
    "        d=d,\n",
    "        mu_a=mu_a, mu_b=mu_b)\n",
    "    return np.array(sol.solve()) - (1.0, 0.0, akF_inv)"
   ]
  },
  {
   "cell_type": "code",
   "execution_count": 7,
   "metadata": {},
   "outputs": [],
   "source": [
    "class SolutionBCS(object):\n",
    "    k_max = 100\n",
    "    Nk = 1000\n",
    "    T = 0.1*E_F \n",
    "    Delta = 22.5*E_F\n",
    "    d = 50/k_F\n",
    "    t = 0.1*E_F\n",
    "    mu_a = 9.7*E_F\n",
    "    mu_b = -12*E_F\n",
    "\n",
    "\n",
    "    def __init__(self, **kw):\n",
    "        self.__dict__.update(kw)\n",
    "        self.k_perp = np.linspace(0, self.k_max, self.Nk)[None,:]\n",
    "        self.k_z = np.linspace(-np.pi/self.d, np.pi/self.d, self.Nk+1)[:, None]\n",
    "        self.dk_z = np.diff(self.k_z.ravel()).mean()\n",
    "\n",
    "    def f(self, E):\n",
    "        return 1./(1+np.exp(E/self.T))\n",
    "\n",
    "    def get_es(self, k):\n",
    "        e_a = hbar**2*k**2/2/m - self.mu_a\n",
    "        e_b = hbar**2*k**2/2/m - self.mu_b\n",
    "        return (e_a, e_b)\n",
    "        \n",
    "    def n_integrand(self, k):\n",
    "        e_a, e_b = self.get_es(k=k)\n",
    "        e_p = (e_a + e_b)/2\n",
    "        e_m = (e_a - e_b)/2\n",
    "        E = np.sqrt(e_p**2 + self.Delta**2)\n",
    "        w_p = e_m + E\n",
    "        w_m = e_m - E\n",
    "        n_m = self.f(w_p) - self.f(-w_m)\n",
    "        n_p = 1 + e_p/E*(self.f(w_p) + self.f(-w_m) - 1)\n",
    "        return 4*np.pi*k**2*n_p/(2*np.pi)**3\n",
    "\n",
    "    def dn_integrand(self, k):\n",
    "        e_a, e_b = self.get_es(k=k)\n",
    "        e_p = (e_a + e_b)/2\n",
    "        e_m = (e_a - e_b)/2\n",
    "        E = np.sqrt(e_p**2 + self.Delta**2)\n",
    "        w_p = e_m + E\n",
    "        w_m = e_m - E\n",
    "        n_m = self.f(w_p) - self.f(-w_m)\n",
    "        return 4*np.pi*k**2*n_m/(2*np.pi)**3\n",
    "\n",
    "    def nu_integrand(self, k):\n",
    "        e_a, e_b = self.get_es(k=k)\n",
    "        e_p = (e_a + e_b)/2\n",
    "        e_m = (e_a - e_b)/2\n",
    "        E = np.sqrt(e_p**2 + self.Delta**2)\n",
    "        w_p = e_m + E\n",
    "        w_m = e_m - E\n",
    "        n_m = self.f(w_p) - self.f(-w_m)\n",
    "        n_p = 1 + e_p/E*(self.f(w_p) + self.f(-w_m) - 1)\n",
    "        mu_p = (self.mu_a + self.mu_b)/2\n",
    "        nu = 1./2./(e_p + mu_p) - (1 - self.f(w_p) - self.f(-w_m))/2/E\n",
    "        return 4*np.pi*k**2*nu/(2*np.pi)**3\n",
    "\n",
    "    def solve(self):\n",
    "        \"\"\"Return (k_F, dn/n, 1./akF)\"\"\"\n",
    "        n = quad(self.n_integrand, 0, self.k_max)[0]\n",
    "        dn = quad(self.dn_integrand, 0, self.k_max)[0]\n",
    "        k_F = (3*np.pi**2*n)**(1./3)\n",
    "        akF_inv = 4*np.pi * quad(self.nu_integrand, 0, self.k_max)[0]/ m/k_F\n",
    "        return k_F, dn/n, akF_inv"
   ]
  },
  {
   "cell_type": "code",
   "execution_count": 8,
   "metadata": {},
   "outputs": [
    {
     "name": "stdout",
     "output_type": "stream",
     "text": [
      "[0.49368909 0.7498913  0.7498913 ]\n",
      "[0.68560168 0.18958219 1.        ]\n"
     ]
    }
   ],
   "source": [
    "SolutionBCS = SolutionBCS\n",
    "\n",
    "Delta0 = 0.6864*E_F\n",
    "T_c = 0.5*E_F\n",
    "\n",
    "def f_T(q):\n",
    "    display(q)\n",
    "    clear_output(wait=True)\n",
    "    T, mu_a, mu_b = np.asarray(q)*E_F\n",
    "\n",
    "    sol = SolutionBCS(\n",
    "        T=T,\n",
    "        Delta=0.0,\n",
    "        d=d,\n",
    "        mu_a=mu_a, mu_b=mu_b)\n",
    "    return np.array(sol.solve()) - (1.0, 0.0, 0)\n",
    "\n",
    "def f_D(q):\n",
    "    display(q)\n",
    "    clear_output(wait=True)\n",
    "    Delta, mu_a, mu_b = np.asarray(q)*E_F\n",
    "\n",
    "    sol = SolutionBCS(\n",
    "        T=0.0001*E_F, \n",
    "        Delta=Delta,\n",
    "        d=d,\n",
    "        mu_a=mu_a, mu_b=mu_b)\n",
    "    return np.array(sol.solve()) - (1.0, 0.0, 0)\n",
    "\n",
    "q_T = (T_c/E_F, 0.3, 0.3)\n",
    "q_T = fsolve(f_T, q_T)\n",
    "\n",
    "q_D = (1.5, 1.0, 1.0)\n",
    "q_D = fsolve(f_D, q_D)\n",
    "print(q_T)\n",
    "print(q_D)\n"
   ]
  },
  {
   "cell_type": "markdown",
   "metadata": {},
   "source": [
    "# Mathieu’s equation"
   ]
  },
  {
   "cell_type": "markdown",
   "metadata": {},
   "source": [
    "Mathiue's eqaution is written as:\n",
    "$y''+(\\lambda-2h^2cos(2x))y=0$"
   ]
  },
  {
   "cell_type": "markdown",
   "metadata": {},
   "source": [
    "Python document on Mathieus's equations：https://docs.scipy.org/doc/scipy/reference/special.html#mathieu-and-related-functions"
   ]
  },
  {
   "cell_type": "code",
   "execution_count": 10,
   "metadata": {
    "scrolled": true
   },
   "outputs": [
    {
     "ename": "NameError",
     "evalue": "name 's0' is not defined",
     "output_type": "error",
     "traceback": [
      "\u001b[1;31m---------------------------------------------------------------------------\u001b[0m",
      "\u001b[1;31mNameError\u001b[0m                                 Traceback (most recent call last)",
      "\u001b[1;32m<ipython-input-10-101cee03aa88>\u001b[0m in \u001b[0;36m<module>\u001b[1;34m()\u001b[0m\n\u001b[1;32m----> 1\u001b[1;33m \u001b[0ms0\u001b[0m\u001b[1;33m.\u001b[0m\u001b[0mk_perp\u001b[0m\u001b[1;33m.\u001b[0m\u001b[0mshape\u001b[0m\u001b[1;33m\u001b[0m\u001b[0m\n\u001b[0m",
      "\u001b[1;31mNameError\u001b[0m: name 's0' is not defined"
     ]
    }
   ],
   "source": [
    "s0.k_perp.shape"
   ]
  },
  {
   "cell_type": "code",
   "execution_count": 11,
   "metadata": {},
   "outputs": [
    {
     "ename": "NameError",
     "evalue": "name 's0' is not defined",
     "output_type": "error",
     "traceback": [
      "\u001b[1;31m---------------------------------------------------------------------------\u001b[0m",
      "\u001b[1;31mNameError\u001b[0m                                 Traceback (most recent call last)",
      "\u001b[1;32m<ipython-input-11-773d0686d469>\u001b[0m in \u001b[0;36m<module>\u001b[1;34m()\u001b[0m\n\u001b[0;32m      1\u001b[0m \u001b[1;31m#plt.plot(s0.k_perp.ravel(), list(map(s0.nu_integrand, s0.k_perp.ravel())))\u001b[0m\u001b[1;33m\u001b[0m\u001b[1;33m\u001b[0m\u001b[0m\n\u001b[0;32m      2\u001b[0m \u001b[1;31m#quad(s0.nu_integrand, 0.000001, s0.k_max)[0]\u001b[0m\u001b[1;33m\u001b[0m\u001b[1;33m\u001b[0m\u001b[0m\n\u001b[1;32m----> 3\u001b[1;33m \u001b[0mk2\u001b[0m \u001b[1;33m=\u001b[0m \u001b[0ms0\u001b[0m\u001b[1;33m.\u001b[0m\u001b[0mk_z\u001b[0m\u001b[1;33m**\u001b[0m\u001b[1;36m2\u001b[0m \u001b[1;33m+\u001b[0m \u001b[0ms0\u001b[0m\u001b[1;33m.\u001b[0m\u001b[0mk_perp\u001b[0m\u001b[1;33m**\u001b[0m\u001b[1;36m2\u001b[0m\u001b[1;33m\u001b[0m\u001b[0m\n\u001b[0m\u001b[0;32m      4\u001b[0m \u001b[0mplt\u001b[0m\u001b[1;33m.\u001b[0m\u001b[0mloglog\u001b[0m\u001b[1;33m(\u001b[0m\u001b[0mk2\u001b[0m\u001b[1;33m.\u001b[0m\u001b[0mravel\u001b[0m\u001b[1;33m(\u001b[0m\u001b[1;33m)\u001b[0m\u001b[1;33m,\u001b[0m \u001b[0ms0\u001b[0m\u001b[1;33m.\u001b[0m\u001b[0mnu_integrand_\u001b[0m\u001b[1;33m(\u001b[0m\u001b[0ms0\u001b[0m\u001b[1;33m.\u001b[0m\u001b[0mk_perp\u001b[0m\u001b[1;33m)\u001b[0m\u001b[1;33m.\u001b[0m\u001b[0mravel\u001b[0m\u001b[1;33m(\u001b[0m\u001b[1;33m)\u001b[0m\u001b[1;33m,\u001b[0m \u001b[1;34m'+'\u001b[0m\u001b[1;33m)\u001b[0m\u001b[1;33m\u001b[0m\u001b[0m\n",
      "\u001b[1;31mNameError\u001b[0m: name 's0' is not defined"
     ]
    }
   ],
   "source": [
    "#plt.plot(s0.k_perp.ravel(), list(map(s0.nu_integrand, s0.k_perp.ravel())))\n",
    "#quad(s0.nu_integrand, 0.000001, s0.k_max)[0]\n",
    "k2 = s0.k_z**2 + s0.k_perp**2\n",
    "plt.loglog(k2.ravel(), s0.nu_integrand_(s0.k_perp).ravel(), '+')"
   ]
  },
  {
   "cell_type": "code",
   "execution_count": 12,
   "metadata": {},
   "outputs": [
    {
     "name": "stderr",
     "output_type": "stream",
     "text": [
      "c:\\program files\\python36\\lib\\site-packages\\ipykernel_launcher.py:27: RuntimeWarning: overflow encountered in exp\n",
      "c:\\program files\\python36\\lib\\site-packages\\ipykernel_launcher.py:65: RuntimeWarning: divide by zero encountered in true_divide\n",
      "c:\\program files\\python36\\lib\\site-packages\\ipykernel_launcher.py:19: RuntimeWarning: overflow encountered in exp\n"
     ]
    },
    {
     "data": {
      "text/plain": [
       "((0.9908771797172861, 0.0, inf),\n",
       " (1.000331196495867, 0.0, 0.0005353381849227983))"
      ]
     },
     "execution_count": 12,
     "metadata": {},
     "output_type": "execute_result"
    }
   ],
   "source": [
    "s0 = SolutionBCS_(k_max=10.0, T=0.0001*E_F, Delta=Delta0, mu_a=0.18958219*E_F, mu_b=1.0*E_F)\n",
    "s1 = SolutionBCS(T=0.0001*E_F, Delta=Delta0, mu_a=0.18958219*E_F, mu_b=1.0*E_F)\n",
    "s0.solve(), s1.solve()\n"
   ]
  },
  {
   "cell_type": "code",
   "execution_count": 13,
   "metadata": {},
   "outputs": [
    {
     "data": {
      "text/plain": [
       "0.5"
      ]
     },
     "execution_count": 13,
     "metadata": {},
     "output_type": "execute_result"
    }
   ],
   "source": [
    "T_c/E_F"
   ]
  },
  {
   "cell_type": "code",
   "execution_count": 14,
   "metadata": {},
   "outputs": [
    {
     "name": "stderr",
     "output_type": "stream",
     "text": [
      "c:\\program files\\python36\\lib\\site-packages\\ipykernel_launcher.py:19: RuntimeWarning: overflow encountered in exp\n"
     ]
    },
    {
     "data": {
      "text/plain": [
       "array([ 0.41424825,  0.        , -3.41450648])"
      ]
     },
     "execution_count": 14,
     "metadata": {},
     "output_type": "execute_result"
    }
   ],
   "source": [
    "f_D((0.01, 2.0, 2.0))"
   ]
  },
  {
   "cell_type": "code",
   "execution_count": 15,
   "metadata": {},
   "outputs": [
    {
     "ename": "NameError",
     "evalue": "name 'n_integrand' is not defined",
     "output_type": "error",
     "traceback": [
      "\u001b[1;31m---------------------------------------------------------------------------\u001b[0m",
      "\u001b[1;31mNameError\u001b[0m                                 Traceback (most recent call last)",
      "\u001b[1;32m<ipython-input-15-e92303e763d6>\u001b[0m in \u001b[0;36m<module>\u001b[1;34m()\u001b[0m\n\u001b[0;32m      1\u001b[0m \u001b[1;32mfrom\u001b[0m \u001b[0mscipy\u001b[0m\u001b[1;33m.\u001b[0m\u001b[0mintegrate\u001b[0m \u001b[1;32mimport\u001b[0m \u001b[0mquad\u001b[0m\u001b[1;33m\u001b[0m\u001b[0m\n\u001b[1;32m----> 2\u001b[1;33m \u001b[0mn\u001b[0m \u001b[1;33m=\u001b[0m \u001b[0mquad\u001b[0m\u001b[1;33m(\u001b[0m\u001b[0mn_integrand\u001b[0m\u001b[1;33m,\u001b[0m \u001b[1;36m0\u001b[0m\u001b[1;33m,\u001b[0m \u001b[0mk_max\u001b[0m\u001b[1;33m)\u001b[0m\u001b[1;33m[\u001b[0m\u001b[1;36m0\u001b[0m\u001b[1;33m]\u001b[0m\u001b[1;33m\u001b[0m\u001b[0m\n\u001b[0m\u001b[0;32m      3\u001b[0m \u001b[0mdn\u001b[0m \u001b[1;33m=\u001b[0m \u001b[0mquad\u001b[0m\u001b[1;33m(\u001b[0m\u001b[0mdn_integrand\u001b[0m\u001b[1;33m,\u001b[0m \u001b[1;36m0\u001b[0m\u001b[1;33m,\u001b[0m \u001b[0mk_max\u001b[0m\u001b[1;33m)\u001b[0m\u001b[1;33m[\u001b[0m\u001b[1;36m0\u001b[0m\u001b[1;33m]\u001b[0m\u001b[1;33m\u001b[0m\u001b[0m\n\u001b[0;32m      4\u001b[0m \u001b[0mk_F\u001b[0m \u001b[1;33m=\u001b[0m \u001b[1;33m(\u001b[0m\u001b[1;36m3\u001b[0m\u001b[1;33m*\u001b[0m\u001b[0mnp\u001b[0m\u001b[1;33m.\u001b[0m\u001b[0mpi\u001b[0m\u001b[1;33m**\u001b[0m\u001b[1;36m2\u001b[0m\u001b[1;33m*\u001b[0m\u001b[0mn\u001b[0m\u001b[1;33m)\u001b[0m\u001b[1;33m**\u001b[0m\u001b[1;33m(\u001b[0m\u001b[1;36m1.\u001b[0m\u001b[1;33m/\u001b[0m\u001b[1;36m3\u001b[0m\u001b[1;33m)\u001b[0m\u001b[1;33m\u001b[0m\u001b[0m\n\u001b[0;32m      5\u001b[0m \u001b[0makF_inv\u001b[0m \u001b[1;33m=\u001b[0m \u001b[1;36m4\u001b[0m\u001b[1;33m*\u001b[0m\u001b[0mnp\u001b[0m\u001b[1;33m.\u001b[0m\u001b[0mpi\u001b[0m \u001b[1;33m*\u001b[0m \u001b[0mquad\u001b[0m\u001b[1;33m(\u001b[0m\u001b[0mnu_integrand\u001b[0m\u001b[1;33m,\u001b[0m \u001b[1;36m0\u001b[0m\u001b[1;33m,\u001b[0m \u001b[0mk_max\u001b[0m\u001b[1;33m)\u001b[0m\u001b[1;33m[\u001b[0m\u001b[1;36m0\u001b[0m\u001b[1;33m]\u001b[0m\u001b[1;33m/\u001b[0m \u001b[0mm\u001b[0m\u001b[1;33m/\u001b[0m\u001b[0mk_F\u001b[0m\u001b[1;33m\u001b[0m\u001b[0m\n",
      "\u001b[1;31mNameError\u001b[0m: name 'n_integrand' is not defined"
     ]
    }
   ],
   "source": [
    "from scipy.integrate import quad\n",
    "n = quad(n_integrand, 0, k_max)[0]\n",
    "dn = quad(dn_integrand, 0, k_max)[0]\n",
    "k_F = (3*np.pi**2*n)**(1./3)\n",
    "akF_inv = 4*np.pi * quad(nu_integrand, 0, k_max)[0]/ m/k_F\n",
    "k_F, dn/n, akF_inv"
   ]
  },
  {
   "cell_type": "code",
   "execution_count": 16,
   "metadata": {},
   "outputs": [
    {
     "name": "stderr",
     "output_type": "stream",
     "text": [
      "c:\\program files\\python36\\lib\\site-packages\\ipykernel_launcher.py:27: RuntimeWarning: overflow encountered in exp\n"
     ]
    },
    {
     "data": {
      "text/plain": [
       "(0.999859367724387, 0.0, 0.10937988542659587)"
      ]
     },
     "execution_count": 16,
     "metadata": {},
     "output_type": "execute_result"
    }
   ],
   "source": [
    "# Maximum T_c ~ 0.95\n",
    "# kd = 50\n",
    "# t/E_F = 0.1\n",
    "# Delta = 22.5*E_F\n",
    "# mu_a = 9.6*E_F\n",
    "# mu_b = -12.6*E_F\n",
    "# 1/ka_eff =4.6\n",
    "# a/a_eff = 42\n",
    "# 1/ka = 4.6/42 = 0.11\n",
    "\n",
    "### Values for T=0\n",
    "sol0 = Solution(\n",
    "    t=0.1*E_F, \n",
    "    T=1e-12*13.1*E_F, \n",
    "    Delta=22.5*E_F, \n",
    "    d=50/k_F,\n",
    "    mu_a=9.7*E_F,\n",
    "    mu_b=-12.1*E_F)\n",
    "#sol0 = Solution()\n",
    "sol0.solve()"
   ]
  },
  {
   "cell_type": "code",
   "execution_count": 17,
   "metadata": {},
   "outputs": [
    {
     "ename": "NameError",
     "evalue": "name 'k_z' is not defined",
     "output_type": "error",
     "traceback": [
      "\u001b[1;31m---------------------------------------------------------------------------\u001b[0m",
      "\u001b[1;31mNameError\u001b[0m                                 Traceback (most recent call last)",
      "\u001b[1;32m<ipython-input-17-0bce08131ffd>\u001b[0m in \u001b[0;36m<module>\u001b[1;34m()\u001b[0m\n\u001b[0;32m      1\u001b[0m \u001b[1;33m\u001b[0m\u001b[0m\n\u001b[1;32m----> 2\u001b[1;33m \u001b[1;32mdef\u001b[0m \u001b[0mnu_integrand\u001b[0m\u001b[1;33m(\u001b[0m\u001b[0mk_perp\u001b[0m\u001b[1;33m,\u001b[0m \u001b[0mk_z\u001b[0m\u001b[1;33m=\u001b[0m\u001b[0mk_z\u001b[0m\u001b[1;33m)\u001b[0m\u001b[1;33m:\u001b[0m\u001b[1;33m\u001b[0m\u001b[0m\n\u001b[0m\u001b[0;32m      3\u001b[0m     \u001b[0me_a\u001b[0m \u001b[1;33m=\u001b[0m \u001b[0mhbar\u001b[0m\u001b[1;33m**\u001b[0m\u001b[1;36m2\u001b[0m\u001b[1;33m*\u001b[0m\u001b[1;33m(\u001b[0m\u001b[0mk_perp\u001b[0m\u001b[1;33m**\u001b[0m\u001b[1;36m2\u001b[0m \u001b[1;33m+\u001b[0m \u001b[0mk_z\u001b[0m\u001b[1;33m**\u001b[0m\u001b[1;36m2\u001b[0m\u001b[1;33m)\u001b[0m\u001b[1;33m/\u001b[0m\u001b[1;36m2\u001b[0m\u001b[1;33m/\u001b[0m\u001b[0mm\u001b[0m \u001b[1;33m-\u001b[0m \u001b[0mmu_a\u001b[0m\u001b[1;33m\u001b[0m\u001b[0m\n\u001b[0;32m      4\u001b[0m     \u001b[0me_b\u001b[0m \u001b[1;33m=\u001b[0m \u001b[0mhbar\u001b[0m\u001b[1;33m**\u001b[0m\u001b[1;36m2\u001b[0m\u001b[1;33m*\u001b[0m\u001b[0mk_perp\u001b[0m\u001b[1;33m**\u001b[0m\u001b[1;36m2\u001b[0m\u001b[1;33m/\u001b[0m\u001b[1;36m2\u001b[0m\u001b[1;33m/\u001b[0m\u001b[0mm\u001b[0m \u001b[1;33m+\u001b[0m \u001b[1;36m2\u001b[0m\u001b[1;33m*\u001b[0m\u001b[0mt\u001b[0m\u001b[1;33m*\u001b[0m\u001b[1;33m(\u001b[0m\u001b[1;36m1\u001b[0m\u001b[1;33m-\u001b[0m\u001b[0mnp\u001b[0m\u001b[1;33m.\u001b[0m\u001b[0mcos\u001b[0m\u001b[1;33m(\u001b[0m\u001b[0mk_z\u001b[0m\u001b[1;33m*\u001b[0m\u001b[0md\u001b[0m\u001b[1;33m)\u001b[0m\u001b[1;33m)\u001b[0m \u001b[1;33m-\u001b[0m \u001b[0mmu_b\u001b[0m\u001b[1;33m\u001b[0m\u001b[0m\n\u001b[0;32m      5\u001b[0m     \u001b[0me_b\u001b[0m \u001b[1;33m=\u001b[0m \u001b[0me_a\u001b[0m\u001b[1;33m\u001b[0m\u001b[0m\n",
      "\u001b[1;31mNameError\u001b[0m: name 'k_z' is not defined"
     ]
    }
   ],
   "source": [
    "\n",
    "def nu_integrand(k_perp, k_z=k_z):\n",
    "    e_a = hbar**2*(k_perp**2 + k_z**2)/2/m - mu_a\n",
    "    e_b = hbar**2*k_perp**2/2/m + 2*t*(1-np.cos(k_z*d)) - mu_b\n",
    "    e_b = e_a\n",
    "    e_p = (e_a + e_b)/2\n",
    "    e_m = (e_a - e_b)/2\n",
    "    E = np.sqrt(e_p**2 + Delta**2)\n",
    "    w_p = e_m + E\n",
    "    w_m = e_m - E\n",
    "    n_m = f(w_p) - f(-w_m)\n",
    "    n_p = 1 + e_p/E*(f(w_p) + f(-w_m) - 1)\n",
    "    nu = 1./2./(e_p + mu_p) - (1-f(w_p) - f(-w_m))/2/E\n",
    "    return np.trapz(2*np.pi*k_perp*nu.ravel(), k_z.ravel())\n",
    "\n",
    "from scipy.integrate import quad\n",
    "akF_inv = 4*np.pi * quad(nu_integrand, 0, k_max)[0]/ m/k_F\n",
    "akF_inv"
   ]
  },
  {
   "cell_type": "code",
   "execution_count": 18,
   "metadata": {},
   "outputs": [
    {
     "name": "stdout",
     "output_type": "stream",
     "text": [
      "Populating the interactive namespace from numpy and matplotlib\n",
      "1.0006020598135117\n",
      "-0.0006634975279849959\n"
     ]
    },
    {
     "name": "stderr",
     "output_type": "stream",
     "text": [
      "c:\\program files\\python36\\lib\\site-packages\\ipykernel_launcher.py:5: RuntimeWarning: overflow encountered in exp\n",
      "  \"\"\"\n"
     ]
    }
   ],
   "source": [
    "# Standard BCS theory\n",
    "%pylab inline --no-import-all\n",
    "\n",
    "def f(E):\n",
    "    return 1./(1+np.exp(beta*E))\n",
    "\n",
    "k_max = 100\n",
    "hbar = m = 1\n",
    "k_F = 1.0\n",
    "E_F = (hbar*k_F)**2/2/m\n",
    "T = 0.001*E_F \n",
    "beta = 1./T\n",
    "Delta = 0.686*E_F\n",
    "mu_p = 0.298\n",
    "\n",
    "def n_integrand(k):\n",
    "    e_a = e_b = hbar**2*(k**2)/2/m - mu_p\n",
    "    e_p = (e_a + e_b)/2\n",
    "    e_m = (e_a - e_b)/2\n",
    "    E = np.sqrt(e_p**2 + Delta**2)\n",
    "    w_p = e_m + E\n",
    "    w_m = e_m - E\n",
    "    n_m = f(w_p) - f(-w_m)\n",
    "    n_p = 1 + e_p/E*(f(w_p) + f(-w_m) - 1)\n",
    "    return 4*np.pi * k**2 * n_p/(2*np.pi)**3\n",
    "\n",
    "def nu_integrand(k):\n",
    "    e_a = e_b = hbar**2*(k**2)/2/m - mu_p\n",
    "    e_p = (e_a + e_b)/2\n",
    "    e_m = (e_a - e_b)/2\n",
    "    E = np.sqrt(e_p**2 + Delta**2)\n",
    "    w_p = e_m + E\n",
    "    w_m = e_m - E\n",
    "    n_m = f(w_p) - f(-w_m)\n",
    "    n_p = 1 + e_p/E*(f(w_p) + f(-w_m) - 1)\n",
    "    nu = 1./2./(e_p + mu_p) - (1-f(w_p) - f(-w_m))/2/E\n",
    "    return 4*np.pi * k**2 * nu/(2*np.pi)**3\n",
    "\n",
    "from scipy.integrate import quad\n",
    "n = quad(n_integrand, 0, k_max)[0]\n",
    "k_F = (3*np.pi**2*n)**(1./3.)\n",
    "print(k_F)\n",
    "akF_inv = 4*np.pi * quad(nu_integrand, 0, k_max)[0]/ m/k_F\n",
    "print(akF_inv)"
   ]
  },
  {
   "cell_type": "code",
   "execution_count": 19,
   "metadata": {},
   "outputs": [
    {
     "name": "stdout",
     "output_type": "stream",
     "text": [
      "Populating the interactive namespace from numpy and matplotlib\n"
     ]
    },
    {
     "name": "stderr",
     "output_type": "stream",
     "text": [
      "c:\\program files\\python36\\lib\\site-packages\\ipykernel_launcher.py:5: RuntimeWarning: overflow encountered in exp\n",
      "  \"\"\"\n"
     ]
    },
    {
     "data": {
      "text/plain": [
       "(1.0007281191052995, -0.045209357956725954)"
      ]
     },
     "execution_count": 19,
     "metadata": {},
     "output_type": "execute_result"
    }
   ],
   "source": [
    "#Standard BCS theory in cylidrical \n",
    "%pylab inline --no-import-all\n",
    "\n",
    "def f(E):\n",
    "    return 1./(1+np.exp(beta*E))\n",
    "\n",
    "k_max = 100\n",
    "hbar = m = 1\n",
    "k_F = 1.0\n",
    "E_F = (hbar*k_F)**2/2/m\n",
    "T = 0.001*E_F \n",
    "beta = 1./T\n",
    "Delta = 0.686*E_F\n",
    "mu_p = 0.298\n",
    "\n",
    "k_z = np.linspace(-k_max, k_max, 1000)[:, None]\n",
    "\n",
    "def n_integrand(k_perp, k_z=k_z):\n",
    "    e_a = e_b = hbar**2*(k_perp**2 + k_z**2)/2/m - mu_p\n",
    "    e_p = (e_a + e_b)/2\n",
    "    e_m = (e_a - e_b)/2\n",
    "    E = np.sqrt(e_p**2 + Delta**2)\n",
    "    w_p = e_m + E\n",
    "    w_m = e_m - E\n",
    "    n_m = f(w_p) - f(-w_m)\n",
    "    n_p = 1 + e_p/E*(f(w_p) + f(-w_m) - 1)\n",
    "    return np.trapz(2*np.pi*k_perp*n_p.ravel(), k_z.ravel())/(2*np.pi)**3\n",
    "\n",
    "def nu_integrand(k_perp, k_z=k_z):\n",
    "    e_a = e_b = hbar**2*(k_perp**2 + k_z**2)/2/m - mu_p\n",
    "    e_p = (e_a + e_b)/2\n",
    "    e_m = (e_a - e_b)/2\n",
    "    E = np.sqrt(e_p**2 + Delta**2)\n",
    "    w_p = e_m + E\n",
    "    w_m = e_m - E\n",
    "    n_m = f(w_p) - f(-w_m)\n",
    "    n_p = 1 + e_p/E*(f(w_p) + f(-w_m) - 1)\n",
    "    nu = 1./2./(e_p + mu_p) - (1-f(w_p) - f(-w_m))/2/E\n",
    "    return np.trapz(2*np.pi*k_perp*nu.ravel(), k_z.ravel())/(2*np.pi)**3\n",
    "\n",
    "from scipy.integrate import quad\n",
    "n = quad(n_integrand, 0, k_max)[0]\n",
    "k_F = (3*np.pi**2*n)**(1./3)\n",
    "akF_inv = 4*np.pi * quad(nu_integrand, 0, k_max)[0]/ m/k_F\n",
    "k_F, akF_inv"
   ]
  },
  {
   "cell_type": "code",
   "execution_count": 20,
   "metadata": {},
   "outputs": [
    {
     "data": {
      "text/plain": [
       "0.686"
      ]
     },
     "execution_count": 20,
     "metadata": {},
     "output_type": "execute_result"
    }
   ],
   "source": [
    "Delta/E_F"
   ]
  },
  {
   "cell_type": "code",
   "execution_count": null,
   "metadata": {},
   "outputs": [],
   "source": []
  },
  {
   "cell_type": "code",
   "execution_count": 21,
   "metadata": {},
   "outputs": [
    {
     "ename": "NameError",
     "evalue": "name 'n_m' is not defined",
     "output_type": "error",
     "traceback": [
      "\u001b[1;31m---------------------------------------------------------------------------\u001b[0m",
      "\u001b[1;31mNameError\u001b[0m                                 Traceback (most recent call last)",
      "\u001b[1;32m<ipython-input-21-0ddc06ea3b79>\u001b[0m in \u001b[0;36m<module>\u001b[1;34m()\u001b[0m\n\u001b[0;32m      3\u001b[0m \u001b[0mplt\u001b[0m\u001b[1;33m.\u001b[0m\u001b[0mfigure\u001b[0m\u001b[1;33m(\u001b[0m\u001b[0mfigsize\u001b[0m\u001b[1;33m=\u001b[0m\u001b[1;33m(\u001b[0m\u001b[1;36m10\u001b[0m\u001b[1;33m,\u001b[0m\u001b[1;36m3\u001b[0m\u001b[1;33m)\u001b[0m\u001b[1;33m)\u001b[0m\u001b[1;33m\u001b[0m\u001b[0m\n\u001b[0;32m      4\u001b[0m \u001b[0mplt\u001b[0m\u001b[1;33m.\u001b[0m\u001b[0msubplot\u001b[0m\u001b[1;33m(\u001b[0m\u001b[1;36m131\u001b[0m\u001b[1;33m)\u001b[0m\u001b[1;33m\u001b[0m\u001b[0m\n\u001b[1;32m----> 5\u001b[1;33m \u001b[0mplt\u001b[0m\u001b[1;33m.\u001b[0m\u001b[0mplot\u001b[0m\u001b[1;33m(\u001b[0m\u001b[0mk_z\u001b[0m\u001b[1;33m[\u001b[0m\u001b[1;33m:\u001b[0m\u001b[1;33m,\u001b[0m\u001b[1;36m0\u001b[0m\u001b[1;33m]\u001b[0m\u001b[1;33m,\u001b[0m \u001b[0mn_m\u001b[0m\u001b[1;33m[\u001b[0m\u001b[1;33m:\u001b[0m\u001b[1;33m,\u001b[0m\u001b[1;33m:\u001b[0m\u001b[1;33m]\u001b[0m\u001b[1;33m)\u001b[0m\u001b[1;33m\u001b[0m\u001b[0m\n\u001b[0m\u001b[0;32m      6\u001b[0m \u001b[0mplt\u001b[0m\u001b[1;33m.\u001b[0m\u001b[0msubplot\u001b[0m\u001b[1;33m(\u001b[0m\u001b[1;36m132\u001b[0m\u001b[1;33m)\u001b[0m\u001b[1;33m\u001b[0m\u001b[0m\n\u001b[0;32m      7\u001b[0m \u001b[0mplt\u001b[0m\u001b[1;33m.\u001b[0m\u001b[0mplot\u001b[0m\u001b[1;33m(\u001b[0m\u001b[0mk_perp\u001b[0m\u001b[1;33m[\u001b[0m\u001b[1;36m0\u001b[0m\u001b[1;33m,\u001b[0m\u001b[1;33m:\u001b[0m\u001b[1;33m]\u001b[0m\u001b[1;33m,\u001b[0m \u001b[0mn_p\u001b[0m\u001b[1;33m[\u001b[0m\u001b[1;33m:\u001b[0m\u001b[1;33m,\u001b[0m\u001b[1;33m:\u001b[0m\u001b[1;33m]\u001b[0m\u001b[1;33m.\u001b[0m\u001b[0mT\u001b[0m\u001b[1;33m)\u001b[0m\u001b[1;33m\u001b[0m\u001b[0m\n",
      "\u001b[1;31mNameError\u001b[0m: name 'n_m' is not defined"
     ]
    },
    {
     "data": {
      "image/png": "[encoded data removed]",
      "text/plain": [
       "<matplotlib.figure.Figure at 0x2bfd5284208>"
      ]
     },
     "metadata": {},
     "output_type": "display_data"
    }
   ],
   "source": [
    "#plt.plot(k_z, e_a, k_z, e_b)\n",
    "#plt.axhline(E_F)\n",
    "plt.figure(figsize=(10,3))\n",
    "plt.subplot(131)\n",
    "plt.plot(k_z[:,0], n_m[:,:])\n",
    "plt.subplot(132)\n",
    "plt.plot(k_perp[0,:], n_p[:,:].T)\n",
    "plt.subplot(133)\n",
    "#plt.plot(k_perp[0,:], nu[:,:].T);\n",
    "plt.plot(k_z[:,0], nu[:,0]);"
   ]
  },
  {
   "cell_type": "code",
   "execution_count": 22,
   "metadata": {},
   "outputs": [
    {
     "ename": "NameError",
     "evalue": "name 'k_perp' is not defined",
     "output_type": "error",
     "traceback": [
      "\u001b[1;31m---------------------------------------------------------------------------\u001b[0m",
      "\u001b[1;31mNameError\u001b[0m                                 Traceback (most recent call last)",
      "\u001b[1;32m<ipython-input-22-8320340213f4>\u001b[0m in \u001b[0;36m<module>\u001b[1;34m()\u001b[0m\n\u001b[1;32m----> 1\u001b[1;33m \u001b[0mmetric\u001b[0m \u001b[1;33m=\u001b[0m \u001b[1;36m2\u001b[0m\u001b[1;33m*\u001b[0m\u001b[0mnp\u001b[0m\u001b[1;33m.\u001b[0m\u001b[0mpi\u001b[0m\u001b[1;33m*\u001b[0m\u001b[0mk_perp\u001b[0m\u001b[1;33m[\u001b[0m\u001b[1;32mNone\u001b[0m\u001b[1;33m,\u001b[0m\u001b[1;33m:\u001b[0m\u001b[1;33m]\u001b[0m\u001b[1;33m/\u001b[0m\u001b[1;33m(\u001b[0m\u001b[1;36m2\u001b[0m\u001b[1;33m*\u001b[0m\u001b[0mnp\u001b[0m\u001b[1;33m.\u001b[0m\u001b[0mpi\u001b[0m\u001b[1;33m)\u001b[0m\u001b[1;33m**\u001b[0m\u001b[1;36m3\u001b[0m\u001b[1;33m*\u001b[0m\u001b[0mnp\u001b[0m\u001b[1;33m.\u001b[0m\u001b[0mdiff\u001b[0m\u001b[1;33m(\u001b[0m\u001b[0mk_perp\u001b[0m\u001b[1;33m.\u001b[0m\u001b[0mravel\u001b[0m\u001b[1;33m(\u001b[0m\u001b[1;33m)\u001b[0m\u001b[1;33m)\u001b[0m\u001b[1;33m[\u001b[0m\u001b[1;36m0\u001b[0m\u001b[1;33m]\u001b[0m\u001b[1;33m*\u001b[0m\u001b[0mnp\u001b[0m\u001b[1;33m.\u001b[0m\u001b[0mdiff\u001b[0m\u001b[1;33m(\u001b[0m\u001b[0mk_z\u001b[0m\u001b[1;33m.\u001b[0m\u001b[0mravel\u001b[0m\u001b[1;33m(\u001b[0m\u001b[1;33m)\u001b[0m\u001b[1;33m)\u001b[0m\u001b[1;33m[\u001b[0m\u001b[1;36m0\u001b[0m\u001b[1;33m]\u001b[0m\u001b[1;33m\u001b[0m\u001b[0m\n\u001b[0m\u001b[0;32m      2\u001b[0m \u001b[0mN_p\u001b[0m \u001b[1;33m=\u001b[0m \u001b[1;33m(\u001b[0m\u001b[0mmetric\u001b[0m\u001b[1;33m*\u001b[0m\u001b[0mn_p\u001b[0m\u001b[1;33m)\u001b[0m\u001b[1;33m.\u001b[0m\u001b[0msum\u001b[0m\u001b[1;33m(\u001b[0m\u001b[1;33m)\u001b[0m\u001b[1;33m\u001b[0m\u001b[0m\n\u001b[0;32m      3\u001b[0m \u001b[0mN_m\u001b[0m \u001b[1;33m=\u001b[0m \u001b[1;33m(\u001b[0m\u001b[0mmetric\u001b[0m\u001b[1;33m*\u001b[0m\u001b[0mn_m\u001b[0m\u001b[1;33m)\u001b[0m\u001b[1;33m.\u001b[0m\u001b[0msum\u001b[0m\u001b[1;33m(\u001b[0m\u001b[1;33m)\u001b[0m\u001b[1;33m\u001b[0m\u001b[0m\n\u001b[0;32m      4\u001b[0m \u001b[0mainv\u001b[0m \u001b[1;33m=\u001b[0m \u001b[1;36m4\u001b[0m\u001b[1;33m*\u001b[0m\u001b[0mnp\u001b[0m\u001b[1;33m.\u001b[0m\u001b[0mpi\u001b[0m\u001b[1;33m*\u001b[0m\u001b[1;33m(\u001b[0m\u001b[0mmetric\u001b[0m\u001b[1;33m*\u001b[0m\u001b[0mnu\u001b[0m\u001b[1;33m)\u001b[0m\u001b[1;33m.\u001b[0m\u001b[0msum\u001b[0m\u001b[1;33m(\u001b[0m\u001b[1;33m)\u001b[0m\u001b[1;33m/\u001b[0m\u001b[0mm\u001b[0m\u001b[1;33m\u001b[0m\u001b[0m\n\u001b[0;32m      5\u001b[0m \u001b[0mainv\u001b[0m\u001b[1;33m/\u001b[0m\u001b[0mk_F\u001b[0m\u001b[1;33m\u001b[0m\u001b[0m\n",
      "\u001b[1;31mNameError\u001b[0m: name 'k_perp' is not defined"
     ]
    }
   ],
   "source": [
    "metric = 2*np.pi*k_perp[None,:]/(2*np.pi)**3*np.diff(k_perp.ravel())[0]*np.diff(k_z.ravel())[0]\n",
    "N_p = (metric*n_p).sum()\n",
    "N_m = (metric*n_m).sum()\n",
    "ainv = 4*np.pi*(metric*nu).sum()/m\n",
    "ainv/k_F"
   ]
  },
  {
   "cell_type": "code",
   "execution_count": 23,
   "metadata": {},
   "outputs": [
    {
     "name": "stdout",
     "output_type": "stream",
     "text": [
      "Populating the interactive namespace from numpy and matplotlib\n"
     ]
    },
    {
     "name": "stderr",
     "output_type": "stream",
     "text": [
      "c:\\program files\\python36\\lib\\site-packages\\IPython\\core\\magics\\pylab.py:160: UserWarning: pylab import has clobbered these variables: ['f', 'beta']\n",
      "`%matplotlib` prevents importing * from pylab and numpy\n",
      "  \"\\n`%matplotlib` prevents importing * from pylab and numpy\"\n"
     ]
    },
    {
     "data": {
      "text/plain": [
       "[<matplotlib.lines.Line2D at 0x2bfef906080>]"
      ]
     },
     "execution_count": 23,
     "metadata": {},
     "output_type": "execute_result"
    },
    {
     "data": {
      "image/png": "[encoded data removed]",
      "text/plain": [
       "<matplotlib.figure.Figure at 0x2bfef8afba8>"
      ]
     },
     "metadata": {},
     "output_type": "display_data"
    }
   ],
   "source": [
    "%pylab inline\n",
    "x = np.linspace(-5,5,100)\n",
    "plt.plot(x, 1/(1+exp(x)))"
   ]
  },
  {
   "cell_type": "code",
   "execution_count": null,
   "metadata": {},
   "outputs": [],
   "source": []
  },
  {
   "cell_type": "code",
   "execution_count": 24,
   "metadata": {},
   "outputs": [
    {
     "name": "stdout",
     "output_type": "stream",
     "text": [
      "6.0\n"
     ]
    },
    {
     "name": "stderr",
     "output_type": "stream",
     "text": [
      "c:\\program files\\python36\\lib\\site-packages\\numpy\\core\\numeric.py:492: ComplexWarning: Casting complex values to real discards the imaginary part\n",
      "  return array(a, dtype, copy=False, order=order)\n"
     ]
    },
    {
     "data": {
      "text/plain": [
       "[<matplotlib.lines.Line2D at 0x2bff2bc6e48>]"
      ]
     },
     "execution_count": 24,
     "metadata": {},
     "output_type": "execute_result"
    },
    {
     "data": {
      "image/png": "[encoded data removed]",
      "text/plain": [
       "<matplotlib.figure.Figure at 0x2bfef939f28>"
      ]
     },
     "metadata": {},
     "output_type": "display_data"
    },
    {
     "data": {
      "image/png": "[encoded data removed]",
      "text/plain": [
       "<matplotlib.figure.Figure at 0x2bfef975278>"
      ]
     },
     "metadata": {},
     "output_type": "display_data"
    }
   ],
   "source": [
    "cells = 20\n",
    "N = 64*cells\n",
    "L = 10.0*cells\n",
    "r0 = 1.0\n",
    "p = np.ceil(L**2/2/r0**2/cells**2/np.pi**2/2)*2\n",
    "print(p)\n",
    "V0 = -2.0\n",
    "dx = L/N\n",
    "x = np.arange(N)*dx - L/2\n",
    "k = 2*np.pi * np.fft.fftfreq(N, dx)\n",
    "V = V0 *(((1+np.cos(2*np.pi*cells*x/L))/2)**p)\n",
    "#V = V0*sum(np.exp(-(x-n*L/cells)**2/2/r0**2) for n in range(-cells, cells))\n",
    "Q = np.exp(1j*k[:,None]*x[None,:])\n",
    "K = Q.T.conj().dot(k[:,None]**2/2 * Q)/N\n",
    "H = K + np.diag(V)\n",
    "d, psi = np.linalg.eigh(H)\n",
    "plt.plot(x, psi[:,0])\n",
    "plt.twinx()\n",
    "plt.plot(x, V, 'r:')\n",
    "plt.figure()\n",
    "plt.plot(d[:cells])"
   ]
  },
  {
   "cell_type": "code",
   "execution_count": 25,
   "metadata": {},
   "outputs": [
    {
     "data": {
      "text/plain": [
       "[<matplotlib.lines.Line2D at 0x2bff2c74cf8>]"
      ]
     },
     "execution_count": 25,
     "metadata": {},
     "output_type": "execute_result"
    },
    {
     "data": {
      "image/png": "[encoded data removed]",
      "text/plain": [
       "<matplotlib.figure.Figure at 0x2bfef906860>"
      ]
     },
     "metadata": {},
     "output_type": "display_data"
    }
   ],
   "source": [
    "x = np.linspace(-2*np.pi, 2*np.pi, 100)\n",
    "plt.plot(x, 1-((1+cos(x))/2)**10)\n"
   ]
  },
  {
   "cell_type": "markdown",
   "metadata": {},
   "source": [
    "# Band"
   ]
  },
  {
   "cell_type": "markdown",
   "metadata": {},
   "source": [
    "$$\n",
    "  t = 0.1E_F, \\qquad\n",
    "  d \\sim 10/k_F, \\qquad \n",
    "  d_\\max = 50/k_F,\n",
    "  t = 0.1\\frac{(10/d)^2}{2} = \\frac{5}{d^2}\n",
    "$$"
   ]
  },
  {
   "cell_type": "markdown",
   "metadata": {},
   "source": [
    "The Lattice potential admits an exact solution in terms of Mathier fuctions and the single-band model is appropriate when $h>2$:\n",
    "\n",
    "$$\n",
    "  \\frac{\\op{p}^2}{2m} + \\frac{V_0}{2}\\cos(2k_0x),\n",
    "  \\qquad\n",
    "  L = \\frac{\\pi}{k_0}, \\qquad\n",
    "  E_R = \\frac{\\hbar^2 k_0^2}{2m}, \\qquad\n",
    "  4h^2 = \\frac{V_0}{E_R}, \\qquad\n",
    "  \\lambda = \\frac{E}{E_R},\\\\\n",
    "  E(k) = E_0 + 2t\\cos(kL) +\\cdots, \\qquad\n",
    "  \\frac{t}{E_R} = \\frac{8\\sqrt{2}}{\\sqrt{\\pi}}h^{3/2}e^{-4h}\\left[1+\\order(1/h)\\right]\n",
    "$$\n",
    "\n",
    "http://iopscience.iop.org/article/10.1088/1361-6404/aa8d2c/meta"
   ]
  },
  {
   "cell_type": "code",
   "execution_count": 26,
   "metadata": {},
   "outputs": [
    {
     "data": {
      "text/plain": [
       "0.091189065278104"
      ]
     },
     "execution_count": 26,
     "metadata": {},
     "output_type": "execute_result"
    }
   ],
   "source": [
    "0.1*(3/np.pi)**2"
   ]
  },
  {
   "cell_type": "code",
   "execution_count": 27,
   "metadata": {},
   "outputs": [
    {
     "ename": "NameError",
     "evalue": "name 't_ER' is not defined",
     "output_type": "error",
     "traceback": [
      "\u001b[1;31m---------------------------------------------------------------------------\u001b[0m",
      "\u001b[1;31mNameError\u001b[0m                                 Traceback (most recent call last)",
      "\u001b[1;32m<ipython-input-27-574909989f91>\u001b[0m in \u001b[0;36m<module>\u001b[1;34m()\u001b[0m\n\u001b[1;32m----> 1\u001b[1;33m \u001b[0mt_ER\u001b[0m\u001b[1;33m(\u001b[0m\u001b[1;36m1\u001b[0m\u001b[1;33m)\u001b[0m\u001b[1;33m\u001b[0m\u001b[0m\n\u001b[0m",
      "\u001b[1;31mNameError\u001b[0m: name 't_ER' is not defined"
     ]
    }
   ],
   "source": [
    "t_ER(1)"
   ]
  },
  {
   "cell_type": "code",
   "execution_count": 59,
   "metadata": {
    "scrolled": true
   },
   "outputs": [
    {
     "data": {
      "text/plain": [
       "[<matplotlib.lines.Line2D at 0x2bff2fdaf60>]"
      ]
     },
     "execution_count": 59,
     "metadata": {},
     "output_type": "execute_result"
    },
    {
     "data": {
      "image/png": "[encoded data removed]",
      "text/plain": [
       "<matplotlib.figure.Figure at 0x2bff2bd67f0>"
      ]
     },
     "metadata": {},
     "output_type": "display_data"
    }
   ],
   "source": [
    "h = np.linspace(0,10,100)\n",
    "def t_ER(h):\n",
    "    return 8*np.sqrt(2/np.pi)*h**(3./2)*np.exp(-4*h)\n",
    "\n",
    "plt.plot(h, t_ER(h))"
   ]
  },
  {
   "cell_type": "markdown",
   "metadata": {},
   "source": [
    "## Kronig–Penney model"
   ]
  },
  {
   "cell_type": "markdown",
   "metadata": {},
   "source": [
    "The dispersion relation for the Kronig-Penney Model(see https://en.wikipedia.org/wiki/Particle_in_a_one-dimensional_lattice) can be determined from the equations:\n",
    "$$\n",
    "cos(ka)=cos(\\alpha a) + P\\frac{sin(\\alpha a)}{\\alpha a}\\\\\n",
    "P=\\frac{mV_0ba}{\\hbar^2}\\\\\n",
    "\\alpha^2 = \\frac{2m\\abs{E}}{\\hbar^2}\n",
    "$$"
   ]
  },
  {
   "cell_type": "code",
   "execution_count": 107,
   "metadata": {
    "scrolled": true
   },
   "outputs": [
    {
     "data": {
      "image/png": "[encoded data removed]",
      "text/plain": [
       "<matplotlib.figure.Figure at 0x2bff2e0a198>"
      ]
     },
     "metadata": {},
     "output_type": "display_data"
    }
   ],
   "source": [
    "from scipy.optimize import brentq\n",
    "a = 1.0\n",
    "b = 0.2\n",
    "m = 1.0\n",
    "hbar = 1.0\n",
    "V0 = -1.0\n",
    "P = m * V0 * b * a / hbar**2\n",
    "\n",
    "xs= np.linspace(-5,5,1000)\n",
    "def PlotPotential(xs,v0, a, b):\n",
    "    ys = [0.0 if ((int(x * 100.0 / a) % 100 + 100) % 100) / 100.0 < 1.0 - b else v0 for x in xs ]\n",
    "    plt.plot(xs,ys)\n",
    "PlotPotential(xs,V0,a,b)"
   ]
  },
  {
   "cell_type": "code",
   "execution_count": 113,
   "metadata": {},
   "outputs": [
    {
     "name": "stderr",
     "output_type": "stream",
     "text": [
      "c:\\program files\\python36\\lib\\site-packages\\ipykernel_launcher.py:4: RuntimeWarning: invalid value encountered in double_scalars\n",
      "  after removing the cwd from sys.path.\n"
     ]
    },
    {
     "data": {
      "text/plain": [
       "[<matplotlib.lines.Line2D at 0x2bff32aa278>]"
      ]
     },
     "execution_count": 113,
     "metadata": {},
     "output_type": "execute_result"
    },
    {
     "data": {
      "image/png": "[encoded data removed]",
      "text/plain": [
       "<matplotlib.figure.Figure at 0x2bff3449780>"
      ]
     },
     "metadata": {},
     "output_type": "display_data"
    }
   ],
   "source": [
    "P = 1.5\n",
    "ks = np.linspace(0,20, 1000)\n",
    "def DispersionRHS(x):\n",
    "    return  np.cos(x) + P * np.sin(x) / x;\n",
    "plt.plot(ks, [DispersionRHS(x) for x in ks])\n",
    "plt.plot(ks, [1 for x in ks])\n",
    "plt.plot(ks, [-1 for x in ks])"
   ]
  },
  {
   "cell_type": "code",
   "execution_count": null,
   "metadata": {},
   "outputs": [],
   "source": [
    "def Energy(k):\n",
    "    def _lam(x):\n",
    "        display(x)\n",
    "        return np.cos(k*a) - DispersionRHS(x)\n",
    "    alpha = brentq(_lam, 0.1, np.pi / 2) / a\n",
    "    E = alpha**2 * 2.0 * m / hbar**2\n",
    "    return E\n",
    "\n",
    "def PlotBandStructure(n):\n",
    "    Es = [Energy(k) for k in ks]\n",
    "    plt.plot(ks, Es)"
   ]
  }
 ],
 "metadata": {
  "kernelspec": {
   "display_name": "Python 3",
   "language": "python",
   "name": "python3"
  },
  "language_info": {
   "codemirror_mode": {
    "name": "ipython",
    "version": 3
   },
   "file_extension": ".py",
   "mimetype": "text/x-python",
   "name": "python",
   "nbconvert_exporter": "python",
   "pygments_lexer": "ipython3",
   "version": "3.6.4"
  },
  "toc": {
   "base_numbering": 1,
   "nav_menu": {},
   "number_sections": true,
   "sideBar": true,
   "skip_h1_title": false,
   "title_cell": "Table of Contents",
   "title_sidebar": "Contents",
   "toc_cell": false,
   "toc_position": {},
   "toc_section_display": true,
   "toc_window_display": true
  }
 },
 "nbformat": 4,
 "nbformat_minor": 2
}
