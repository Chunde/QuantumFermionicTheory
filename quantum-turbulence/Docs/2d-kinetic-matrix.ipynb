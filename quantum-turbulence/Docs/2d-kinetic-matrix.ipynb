{
 "cells": [
  {
   "cell_type": "code",
   "execution_count": 1,
   "metadata": {},
   "outputs": [
    {
     "data": {
      "text/html": [
       "<style>.grade {\n",
       "   background-color: #66FFCC;\n",
       "}\n",
       "</style>"
      ],
      "text/plain": [
       "<IPython.core.display.HTML object>"
      ]
     },
     "metadata": {},
     "output_type": "display_data"
    },
    {
     "data": {
      "application/javascript": [],
      "text/plain": [
       "<IPython.core.display.Javascript object>"
      ]
     },
     "metadata": {},
     "output_type": "display_data"
    },
    {
     "data": {
      "text/html": [
       "<script id=\"MathJax-Element-48\" type=\"math/tex\">\\newcommand{\\vect}[1]{\\mathbf{#1}}\n",
       "\\newcommand{\\uvect}[1]{\\hat{#1}}\n",
       "\\newcommand{\\abs}[1]{\\lvert#1\\rvert}\n",
       "\\newcommand{\\norm}[1]{\\lVert#1\\rVert}\n",
       "\\newcommand{\\I}{\\mathrm{i}}\n",
       "\\newcommand{\\ket}[1]{\\left|#1\\right\\rangle}\n",
       "\\newcommand{\\bra}[1]{\\left\\langle#1\\right|}\n",
       "\\newcommand{\\braket}[1]{\\langle#1\\rangle}\n",
       "\\newcommand{\\Braket}[1]{\\left\\langle#1\\right\\rangle}\n",
       "\\newcommand{\\op}[1]{\\mathbf{#1}}\n",
       "\\newcommand{\\mat}[1]{\\mathbf{#1}}\n",
       "\\newcommand{\\d}{\\mathrm{d}}\n",
       "\\newcommand{\\pdiff}[3][]{\\frac{\\partial^{#1} #2}{\\partial {#3}^{#1}}}\n",
       "\\newcommand{\\diff}[3][]{\\frac{\\d^{#1} #2}{\\d {#3}^{#1}}}\n",
       "\\newcommand{\\ddiff}[3][]{\\frac{\\delta^{#1} #2}{\\delta {#3}^{#1}}}\n",
       "\\newcommand{\\floor}[1]{\\left\\lfloor#1\\right\\rfloor}\n",
       "\\newcommand{\\ceil}[1]{\\left\\lceil#1\\right\\rceil}\n",
       "\\DeclareMathOperator{\\Tr}{Tr}\n",
       "\\DeclareMathOperator{\\erf}{erf}\n",
       "\\DeclareMathOperator{\\erfi}{erfi}\n",
       "\\DeclareMathOperator{\\sech}{sech}\n",
       "\\DeclareMathOperator{\\sgn}{sgn}\n",
       "\\DeclareMathOperator{\\order}{O}\n",
       "\\DeclareMathOperator{\\diag}{diag}\n",
       "\n",
       "\\newcommand{\\mylabel}[1]{\\label{#1}\\tag{#1}}\n",
       "\\newcommand{\\degree}{\\circ}</script>"
      ],
      "text/plain": [
       "<IPython.core.display.HTML object>"
      ]
     },
     "metadata": {},
     "output_type": "display_data"
    },
    {
     "data": {
      "text/html": [],
      "text/plain": [
       "<IPython.core.display.HTML object>"
      ]
     },
     "metadata": {},
     "output_type": "display_data"
    },
    {
     "data": {
      "text/html": [
       "\n",
       "<i>\n",
       "<p>This cell contains some definitions for equations and some CSS for styling\n",
       "  the notebook. If things look a bit strange, please try the following:\n",
       "<ul>\n",
       "  <li>Choose \"Trust Notebook\" from the \"File\" menu.</li>\n",
       "  <li>Re-execute this cell.</li>\n",
       "  <li>Reload the notebook.</li>\n",
       "</ul>\n",
       "</p>\n",
       "</i>\n"
      ],
      "text/plain": [
       "<IPython.core.display.HTML object>"
      ]
     },
     "metadata": {},
     "output_type": "display_data"
    },
    {
     "name": "stdout",
     "output_type": "stream",
     "text": [
      "Populating the interactive namespace from numpy and matplotlib\n"
     ]
    }
   ],
   "source": [
    "import mmf_setup;mmf_setup.nbinit(hgroot=False)\n",
    "from mmfutils.contexts import NoInterrupt\n",
    "from mmfutils.plot import imcontourf\n",
    "%pylab inline\n",
    "import numpy as np"
   ]
  },
  {
   "cell_type": "code",
   "execution_count": 2,
   "metadata": {},
   "outputs": [],
   "source": [
    "def fft2(y):\n",
    "    return np.fft.fftn(y, axes=(0,1))           \n",
    "def ifft2(y):\n",
    "    return np.fft.ifftn(y, axes=(0,1))\n",
    "def f(x,y):\n",
    "    return np.sin(x + y)"
   ]
  },
  {
   "cell_type": "code",
   "execution_count": 3,
   "metadata": {},
   "outputs": [
    {
     "data": {
      "image/png": "[encoded data removed]",
      "text/plain": [
       "<matplotlib.figure.Figure at 0x1f435bd8470>"
      ]
     },
     "metadata": {},
     "output_type": "display_data"
    }
   ],
   "source": [
    "N = 32\n",
    "L = 2*np.pi\n",
    "dx = L/N\n",
    "dy = dx\n",
    "x = np.linspace(0,L,N) - L/2\n",
    "y = np.linspace(0,L,N) - L/2\n",
    "xx, yy = np.meshgrid(x, y, indexing='ij', sparse=True)\n",
    "z = np.sin(xx + yy) # sin(x^2 + y^2)\n",
    "imcontourf(x,y,z)\n",
    "plt.plot(x,z[16])\n",
    "plt.colorbar()\n",
    "mat_shape = (N**2,)*2\n",
    "Nxy = (N, N)\n",
    "kxy = (2*np.pi * np.fft.fftfreq(N, dx)[:, None],\n",
    "       2*np.pi * np.fft.fftfreq(N, dy)[None, :])\n",
    "tensor_shape = (N,N,N,N)"
   ]
  },
  {
   "cell_type": "code",
   "execution_count": 4,
   "metadata": {},
   "outputs": [],
   "source": [
    "nabla = np.eye(mat_shape[0]).reshape(tensor_shape)\n",
    "K = np.eye(mat_shape[0]).reshape(tensor_shape)\n",
    "D1 = ifft2(1j*sum(_k  for _k in kxy)[:, :,  None, None]\n",
    "           *fft2(nabla)).reshape((np.prod(Nxy),)*2).reshape(mat_shape)\n",
    "D2 = ifft2(sum(-_k**2 for _k in kxy)[:, :,  None, None]\n",
    "           *fft2(K)).reshape((np.prod(Nxy),)*2).reshape(mat_shape)"
   ]
  },
  {
   "cell_type": "code",
   "execution_count": 5,
   "metadata": {},
   "outputs": [
    {
     "data": {
      "text/plain": [
       "<matplotlib.colorbar.Colorbar at 0x1f43ad9b080>"
      ]
     },
     "execution_count": 5,
     "metadata": {},
     "output_type": "execute_result"
    },
    {
     "data": {
      "image/png": "[encoded data removed]",
      "text/plain": [
       "<matplotlib.figure.Figure at 0x1f435bae828>"
      ]
     },
     "metadata": {},
     "output_type": "display_data"
    }
   ],
   "source": [
    "z1 = D1.dot(z.ravel()).reshape(N,N)\n",
    "imcontourf(x,y,z1.real)\n",
    "#plt.contourf(x, y, z1.real)\n",
    "#plt.plot(x,z1[32])\n",
    "plt.colorbar()"
   ]
  },
  {
   "cell_type": "code",
   "execution_count": 6,
   "metadata": {},
   "outputs": [
    {
     "data": {
      "text/plain": [
       "<matplotlib.colorbar.Colorbar at 0x1f43ae435f8>"
      ]
     },
     "execution_count": 6,
     "metadata": {},
     "output_type": "execute_result"
    },
    {
     "data": {
      "image/png": "[encoded data removed]",
      "text/plain": [
       "<matplotlib.figure.Figure at 0x1f437d23f28>"
      ]
     },
     "metadata": {},
     "output_type": "display_data"
    }
   ],
   "source": [
    "#z2 = (2*xx + 2 * yy) * np.cos(xx**2+yy**2)\n",
    "z2 = 2*np.sin(xx+yy)#np.cos(xx)*np.cos(yy)-np.sin(xx)*np.sin(yy)# (2*yy+2*xx)* np.cos(xx**2+yy**2)\n",
    "imcontourf(x,y,z2)\n",
    "#plt.plot(x,z2[32])\n",
    "plt.colorbar()"
   ]
  },
  {
   "cell_type": "code",
   "execution_count": 7,
   "metadata": {},
   "outputs": [
    {
     "data": {
      "text/plain": [
       "<matplotlib.colorbar.Colorbar at 0x1f43bebe550>"
      ]
     },
     "execution_count": 7,
     "metadata": {},
     "output_type": "execute_result"
    },
    {
     "data": {
      "image/png": "[encoded data removed]",
      "text/plain": [
       "<matplotlib.figure.Figure at 0x1f437c8a2b0>"
      ]
     },
     "metadata": {},
     "output_type": "display_data"
    }
   ],
   "source": [
    "#z3 = D1.dot(z1.ravel()).reshape(N,N)\n",
    "z3 = D2.dot(z.ravel()).reshape(N,N)\n",
    "imcontourf(x,y,z3.real, vmin=-2.0, vmax=2.0)\n",
    "#plt.plot(x,z1[32])\n",
    "plt.colorbar()"
   ]
  },
  {
   "cell_type": "code",
   "execution_count": 8,
   "metadata": {},
   "outputs": [
    {
     "data": {
      "text/plain": [
       "<matplotlib.colorbar.Colorbar at 0x1f43bf6ce10>"
      ]
     },
     "execution_count": 8,
     "metadata": {},
     "output_type": "execute_result"
    },
    {
     "data": {
      "image/png": "[encoded data removed]",
      "text/plain": [
       "<matplotlib.figure.Figure at 0x1f43bece320>"
      ]
     },
     "metadata": {},
     "output_type": "display_data"
    }
   ],
   "source": [
    "#z2 = (2*xx + 2 * yy) * np.cos(xx**2+yy**2)\n",
    "z4 =-2*np.sin(xx+yy)#-2*(np.sin(xx)*np.cos(yy)+np.cos(xx)*np.sin(yy))#4*np.cos(xx**2 + yy**2) -4*(xx+yy)**2*np.sin(xx**2+yy**2)\n",
    "imcontourf(x,y,z4, vmin=-2.0, vmax=2.0)\n",
    "#plt.plot(x,z2[32])\n",
    "plt.colorbar()"
   ]
  },
  {
   "cell_type": "markdown",
   "metadata": {},
   "source": [
    "# MMF Notes"
   ]
  },
  {
   "cell_type": "markdown",
   "metadata": {},
   "source": [
    "Here is how one computes the second derivative with the FFT."
   ]
  },
  {
   "cell_type": "code",
   "execution_count": 9,
   "metadata": {},
   "outputs": [
    {
     "data": {
      "text/plain": [
       "<matplotlib.colorbar.Colorbar at 0x1f43bff9080>"
      ]
     },
     "execution_count": 9,
     "metadata": {},
     "output_type": "execute_result"
    },
    {
     "data": {
      "image/png": "[encoded data removed]",
      "text/plain": [
       "<matplotlib.figure.Figure at 0x1f43ad72668>"
      ]
     },
     "metadata": {},
     "output_type": "display_data"
    },
    {
     "data": {
      "image/png": "[encoded data removed]",
      "text/plain": [
       "<matplotlib.figure.Figure at 0x1f437c86c18>"
      ]
     },
     "metadata": {},
     "output_type": "display_data"
    }
   ],
   "source": [
    "from mmfutils.plot import imcontourf\n",
    "kx, ky = kxy\n",
    "z = np.sin(xx+yy)\n",
    "laplacian_z = np.fft.ifftn(-(kx**2+ky**2)*np.fft.fftn(z))\n",
    "\n",
    "plt.figure()\n",
    "imcontourf(x, y, laplacian_z.real, vmax=3, vmin=-3);plt.colorbar()\n",
    "\n",
    "plt.figure()\n",
    "imcontourf(x, y, -2*np.sin(xx+yy), vmax=3, vmin=-3);plt.colorbar()"
   ]
  },
  {
   "cell_type": "markdown",
   "metadata": {},
   "source": [
    "## Test the modified kinetic density matrix"
   ]
  },
  {
   "cell_type": "code",
   "execution_count": 10,
   "metadata": {},
   "outputs": [],
   "source": [
    "import numpy as np\n",
    "from scipy.integrate import quad\n",
    "from uncertainties import ufloat\n",
    "from importlib import reload  # Python 3.4+\n",
    "import numpy as np\n",
    "import homogeneous;reload(homogeneous)\n",
    "import vortex_2d_aslda;reload(vortex_2d_aslda)\n",
    "hbar = 1\n",
    "m = 1\n",
    "N = 32\n",
    "L = 6\n",
    "mu_eff = 1.0\n",
    "n = 1.0\n",
    "e_F = 1.0\n",
    "k_F = np.sqrt(2*m*e_F)\n",
    "n_F = k_F**3/3/np.pi**2\n",
    "E_FG = 2./3*n_F*e_F\n",
    "mu = 0.59060550703283853378393810185221521748413488992993*e_F\n",
    "delta = 0.68640205206984016444108204356564421137062514068346*e_F\n",
    "grid_size = N\n",
    "aslda = vortex_2d_aslda.ASLDA(Nxy=(grid_size,)*2)\n",
    "k_c = abs(aslda.kxy[0]).max()\n",
    "E_c = (aslda.hbar*k_c)**2/2/aslda.m\n",
    "aslda = vortex_2d_aslda.ASLDA(Nxy=(grid_size,)*2, Lxy=(L,)*2, E_c=E_c)\n",
    "dx = L/N\n",
    "dy = dx\n",
    "x = np.linspace(0,L,N) - L/2\n",
    "y = np.linspace(0,L,N) - L/2\n",
    "xx, yy = np.meshgrid(x, y, indexing='ij', sparse=True)"
   ]
  },
  {
   "cell_type": "code",
   "execution_count": 11,
   "metadata": {},
   "outputs": [],
   "source": [
    "def get_D2(self, twist=(0,0)):\n",
    "        kxy = self.kxy\n",
    "        mat_shape = (np.prod(self.Nxy),)*2\n",
    "        tensor_shape = self.Nxy + self.Nxy\n",
    "        K = np.eye(mat_shape[0]).reshape(tensor_shape)\n",
    "        D2 = self.ifft2(sum(-_k**2 for _k in self.kxy)[:, :,  None, None]*self.fft2(K)).reshape((np.prod(self.Nxy),)*2).reshape(mat_shape)\n",
    "        return D2\n",
    "def get_modified_K(self, D2,alpha):\n",
    "        \"\"\"\"return a modified kinetic density  matrix\"\"\"\n",
    "        A = np.diag(alpha.ravel())\n",
    "        K = (D2.dot(A) - np.diag(D2.dot(alpha.ravel())) + A.dot(D2)) / 2\n",
    "        return K\n",
    "    "
   ]
  },
  {
   "cell_type": "markdown",
   "metadata": {},
   "source": [
    "### Analytic Results\n",
    "\n",
    "We use a simple functions\n",
    "\n",
    "$$\n",
    "\\alpha =  sin(x + y) \\\\\n",
    "\\psi(x,y) = cos(x^2 + y^2)\n",
    "$$\n",
    "their first and second order derivatives are:\n",
    "$$\n",
    "\\frac{\\partial \\alpha}{\\partial x}=cos(x+y)\\\\\n",
    "\\frac{\\partial \\alpha}{\\partial y}=cos(x+y)\\\\\n",
    "\\frac{\\partial \\psi}{\\partial x}=-2 x .sin(x^2+y^2)\\\\\n",
    "\\frac{\\partial \\psi}{\\partial y}=-2 y .sin(x^2+y^2)\\\\\n",
    "\\frac{\\partial^2 \\psi}{\\partial x^2}=-2 .sin(x^2+y^2) -4x^2cos(x^2 + y^2)\\\\\n",
    "\\frac{\\partial^2 \\psi}{\\partial y^2}=-2 .sin(x^2+y^2) -4y^2cos(x^2 + y^2)\\\\\n",
    "$$"
   ]
  },
  {
   "cell_type": "markdown",
   "metadata": {},
   "source": [
    "The relation we use is:\n",
    "\\begin{align}\n",
    "(\\alpha \\psi')'&=\\alpha'\\psi' + \\alpha \\psi'' \\\\\n",
    "(\\alpha \\psi)''&=(\\alpha'\\psi+\\alpha\\psi')'\\\\\n",
    "&=(\\alpha''\\psi+\\alpha\\psi''+2\\alpha'\\psi')\\\\\n",
    "\\alpha'\\psi'&=\\frac{(\\alpha\\psi)'' -\\alpha''\\psi-\\alpha\\psi''}{2}\\\\\n",
    "so\\\\\n",
    "(\\alpha\\psi')'&=\\frac{(\\alpha\\psi)''-\\alpha''\\psi+\\alpha\\psi''}{2}\n",
    "\\end{align}\n",
    "\n",
    "In the follow code, I use letter 'a' instead of $\\alpha$"
   ]
  },
  {
   "cell_type": "code",
   "execution_count": 12,
   "metadata": {},
   "outputs": [],
   "source": [
    "a = np.sin(xx+yy) #np.ones((N,N)) #\n",
    "da_x =  np.cos(xx+yy) #0\n",
    "da_y = da_x #0"
   ]
  },
  {
   "cell_type": "code",
   "execution_count": 13,
   "metadata": {},
   "outputs": [],
   "source": [
    "f = np.cos(xx**2 + yy**2)\n",
    "df_x = -2 * xx * np.sin(xx**2 + yy**2)\n",
    "df_y = -2 * yy * np.sin(xx**2 + yy**2)\n",
    "df_xx = -2 * np.sin(xx**2 + yy**2) -4 * xx**2 * np.cos(xx**2 + yy**2)\n",
    "df_yy = -2 * np.sin(xx**2 + yy**2) -4 * yy**2 * np.cos(xx**2 + yy**2)"
   ]
  },
  {
   "cell_type": "code",
   "execution_count": 14,
   "metadata": {
    "scrolled": true
   },
   "outputs": [
    {
     "data": {
      "text/plain": [
       "<matplotlib.colorbar.Colorbar at 0x1f43c1063c8>"
      ]
     },
     "execution_count": 14,
     "metadata": {},
     "output_type": "execute_result"
    },
    {
     "data": {
      "image/png": "[encoded data removed]",
      "text/plain": [
       "<matplotlib.figure.Figure at 0x1f43bfa05c0>"
      ]
     },
     "metadata": {},
     "output_type": "display_data"
    }
   ],
   "source": [
    "z = (da_x * df_x + da_y * df_y) + a * (df_xx + df_yy)\n",
    "imcontourf(x,y,z)\n",
    "plt.colorbar()"
   ]
  },
  {
   "cell_type": "markdown",
   "metadata": {},
   "source": [
    "### Numerical Results"
   ]
  },
  {
   "cell_type": "code",
   "execution_count": 15,
   "metadata": {},
   "outputs": [
    {
     "data": {
      "text/plain": [
       "<matplotlib.colorbar.Colorbar at 0x1f438556f60>"
      ]
     },
     "execution_count": 15,
     "metadata": {},
     "output_type": "execute_result"
    },
    {
     "data": {
      "image/png": "[encoded data removed]",
      "text/plain": [
       "<matplotlib.figure.Figure at 0x1f43bf8d400>"
      ]
     },
     "metadata": {},
     "output_type": "display_data"
    }
   ],
   "source": [
    "D2 = aslda.get_D2()\n",
    "K = aslda.get_modified_K(D2=D2, alpha=a)\n",
    "z1 = K.dot(f.ravel()).reshape((N,N))\n",
    "imcontourf(x,y,z1.real, vmax=z.max(), vmin=z.min())\n",
    "plt.colorbar()"
   ]
  },
  {
   "cell_type": "markdown",
   "metadata": {},
   "source": [
    "It seems there is a factor off?\n",
    "\n",
    "To figure out the problem, we set a = 1, and then D2 = K, I get what is expected: the results are unchanged. But if I compare that to the results directly to the D2_(as follow), I comfirm again the D2_ works correctly, so the D2 should have some problem, the code for D2 and D2_ are the same, with the help of debugging, I find the Kxy for D2 is different from D2_, and a bit trace back, the problem is that when I create ASLDA object, the Lxy did not set to the $2\\pi$."
   ]
  },
  {
   "cell_type": "code",
   "execution_count": 16,
   "metadata": {},
   "outputs": [],
   "source": [
    "mat_shape = (N**2,)*2\n",
    "Nxy = (N, N)\n",
    "kxy = (2*np.pi * np.fft.fftfreq(N, dx)[:, None],\n",
    "       2*np.pi * np.fft.fftfreq(N, dy)[None, :])\n",
    "tensor_shape = (N,N,N,N)\n",
    "K_ = np.eye(mat_shape[0]).reshape(tensor_shape)\n",
    "D2_ = ifft2(sum(-_k**2 for _k in kxy)[:, :,  None, None]\n",
    "           *fft2(K_)).reshape((np.prod(Nxy),)*2).reshape(mat_shape)"
   ]
  },
  {
   "cell_type": "code",
   "execution_count": 17,
   "metadata": {},
   "outputs": [
    {
     "data": {
      "text/plain": [
       "<matplotlib.colorbar.Colorbar at 0x1f438603710>"
      ]
     },
     "execution_count": 17,
     "metadata": {},
     "output_type": "execute_result"
    },
    {
     "data": {
      "image/png": "[encoded data removed]",
      "text/plain": [
       "<matplotlib.figure.Figure at 0x1f43c15f898>"
      ]
     },
     "metadata": {},
     "output_type": "display_data"
    }
   ],
   "source": [
    "z3 = D2_.dot(f.ravel()).reshape((N,N))\n",
    "imcontourf(x,y,z3.real, vmax=z.max(), vmin=z.min())\n",
    "plt.colorbar()"
   ]
  },
  {
   "cell_type": "code",
   "execution_count": 18,
   "metadata": {},
   "outputs": [
    {
     "data": {
      "text/plain": [
       "(0.1875, 0.19634954084936207)"
      ]
     },
     "execution_count": 18,
     "metadata": {},
     "output_type": "execute_result"
    }
   ],
   "source": [
    "dx,np.pi * 2 / 32"
   ]
  },
  {
   "cell_type": "code",
   "execution_count": null,
   "metadata": {},
   "outputs": [],
   "source": []
  },
  {
   "cell_type": "code",
   "execution_count": null,
   "metadata": {},
   "outputs": [],
   "source": []
  }
 ],
 "metadata": {
  "kernelspec": {
   "display_name": "Python 3",
   "language": "python",
   "name": "python3"
  },
  "language_info": {
   "codemirror_mode": {
    "name": "ipython",
    "version": 3
   },
   "file_extension": ".py",
   "mimetype": "text/x-python",
   "name": "python",
   "nbconvert_exporter": "python",
   "pygments_lexer": "ipython3",
   "version": "3.6.4"
  },
  "toc": {
   "base_numbering": 1,
   "nav_menu": {},
   "number_sections": true,
   "sideBar": true,
   "skip_h1_title": false,
   "title_cell": "Table of Contents",
   "title_sidebar": "Contents",
   "toc_cell": false,
   "toc_position": {},
   "toc_section_display": true,
   "toc_window_display": false
  }
 },
 "nbformat": 4,
 "nbformat_minor": 2
}
