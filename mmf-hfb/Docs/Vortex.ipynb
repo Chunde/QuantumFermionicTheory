{
 "cells": [
  {
   "cell_type": "markdown",
   "metadata": {},
   "source": [
    "# Simple Vortex in 2D"
   ]
  },
  {
   "cell_type": "code",
   "execution_count": null,
   "metadata": {
    "init_cell": true
   },
   "outputs": [
    {
     "data": {
      "text/html": [
       "<style>.grade {\n",
       "   background-color: #66FFCC;\n",
       "}\n",
       "</style>"
      ],
      "text/plain": [
       "<IPython.core.display.HTML object>"
      ]
     },
     "metadata": {},
     "output_type": "display_data"
    },
    {
     "data": {
      "application/javascript": [],
      "text/plain": [
       "<IPython.core.display.Javascript object>"
      ]
     },
     "metadata": {},
     "output_type": "display_data"
    },
    {
     "data": {
      "text/html": [
       "<script id=\"MathJax-Element-48\" type=\"math/tex\">\\newcommand{\\vect}[1]{\\mathbf{#1}}\n",
       "\\newcommand{\\uvect}[1]{\\hat{#1}}\n",
       "\\newcommand{\\abs}[1]{\\lvert#1\\rvert}\n",
       "\\newcommand{\\norm}[1]{\\lVert#1\\rVert}\n",
       "\\newcommand{\\I}{\\mathrm{i}}\n",
       "\\newcommand{\\ket}[1]{\\left|#1\\right\\rangle}\n",
       "\\newcommand{\\bra}[1]{\\left\\langle#1\\right|}\n",
       "\\newcommand{\\braket}[1]{\\langle#1\\rangle}\n",
       "\\newcommand{\\Braket}[1]{\\left\\langle#1\\right\\rangle}\n",
       "\\newcommand{\\op}[1]{\\mathbf{#1}}\n",
       "\\newcommand{\\mat}[1]{\\mathbf{#1}}\n",
       "\\newcommand{\\d}{\\mathrm{d}}\n",
       "\\newcommand{\\D}[1]{\\mathcal{D}[#1]\\;}\n",
       "\\newcommand{\\pdiff}[3][]{\\frac{\\partial^{#1} #2}{\\partial {#3}^{#1}}}\n",
       "\\newcommand{\\diff}[3][]{\\frac{\\d^{#1} #2}{\\d {#3}^{#1}}}\n",
       "\\newcommand{\\ddiff}[3][]{\\frac{\\delta^{#1} #2}{\\delta {#3}^{#1}}}\n",
       "\\newcommand{\\floor}[1]{\\left\\lfloor#1\\right\\rfloor}\n",
       "\\newcommand{\\ceil}[1]{\\left\\lceil#1\\right\\rceil}\n",
       "\\DeclareMathOperator{\\Tr}{Tr}\n",
       "\\DeclareMathOperator{\\erf}{erf}\n",
       "\\DeclareMathOperator{\\erfi}{erfi}\n",
       "\\DeclareMathOperator{\\sech}{sech}\n",
       "\\DeclareMathOperator{\\sn}{sn}\n",
       "\\DeclareMathOperator{\\cn}{cn}\n",
       "\\DeclareMathOperator{\\dn}{dn}\n",
       "\\DeclareMathOperator{\\sgn}{sgn}\n",
       "\\DeclareMathOperator{\\order}{O}\n",
       "\\DeclareMathOperator{\\diag}{diag}\n",
       "\n",
       "\\newcommand{\\mylabel}[1]{\\label{#1}\\tag{#1}}\n",
       "\\newcommand{\\degree}{\\circ}</script>"
      ],
      "text/plain": [
       "<IPython.core.display.HTML object>"
      ]
     },
     "metadata": {},
     "output_type": "display_data"
    },
    {
     "data": {
      "text/html": [],
      "text/plain": [
       "<IPython.core.display.HTML object>"
      ]
     },
     "metadata": {},
     "output_type": "display_data"
    },
    {
     "data": {
      "text/html": [
       "\n",
       "<i>\n",
       "<p>This cell contains some definitions for equations and some CSS for styling\n",
       "  the notebook. If things look a bit strange, please try the following:\n",
       "<ul>\n",
       "  <li>Choose \"Trust Notebook\" from the \"File\" menu.</li>\n",
       "  <li>Re-execute this cell.</li>\n",
       "  <li>Reload the notebook.</li>\n",
       "</ul>\n",
       "</p>\n",
       "</i>\n"
      ],
      "text/plain": [
       "<IPython.core.display.HTML object>"
      ]
     },
     "metadata": {},
     "output_type": "display_data"
    }
   ],
   "source": [
    "import mmf_setup;mmf_setup.nbinit()\n",
    "%pylab inline --no-import-all\n",
    "from nbimports import *                # Conveniences like clear_output"
   ]
  },
  {
   "cell_type": "markdown",
   "metadata": {},
   "source": [
    "Here we generate some vortices.  These are regularized by fixing the coupling constant $g$ so that the homogeneous system in the box and on the lattice gives a fixed value of $\\Delta$ at the specified chemical potential.  The self-consistent solution is found by simple iterations."
   ]
  },
  {
   "cell_type": "code",
   "execution_count": null,
   "metadata": {},
   "outputs": [],
   "source": [
    "from mmf_hfb import bcs, homogeneous;reload(bcs)\n",
    "from mmfutils.math.special import mstep\n",
    "from mmfutils.plot import imcontourf\n",
    "\n",
    "class Vortex(bcs.BCS):\n",
    "    barrier_width = 0.2\n",
    "    barrier_height = 100.0\n",
    "    \n",
    "    def __init__(self, Nxyz=(32, 32), Lxyz=(10., 10.), **kw):\n",
    "        self.R = min(Lxyz)/2\n",
    "        bcs.BCS.__init__(self, Nxyz=Nxyz, Lxyz=Lxyz, **kw)\n",
    "    \n",
    "    def get_v_ext(self):\n",
    "        r = np.sqrt(sum([_x**2 for _x in self.xyz[:2]]))\n",
    "        R0 = self.barrier_width * self.R\n",
    "        V = self.barrier_height * mstep(r-self.R+R0, R0)\n",
    "        return (V, V)\n",
    "    \n",
    "def to3d(x, flag=False):\n",
    "    \"\"\"convert a 2d data to 3d data\n",
    "        Arguments\n",
    "    ---------\n",
    "    x the original data\n",
    "    For example:\n",
    "    [[1,2],[3,4]]\n",
    "    flag = False\n",
    "    return [[[0,1],[0,2],[[0,3],[0,4]]]\n",
    "    flag = True\n",
    "    return [[[1,0],[2,0],[[3,0],[4,0]]]\n",
    "   \"\"\"\n",
    "    dx, dy = x.shape\n",
    "    data = []\n",
    "    if flag:\n",
    "        for i in range(dx):\n",
    "            r = []\n",
    "            for j in range(dy):\n",
    "                r.append([x[j][i],0])\n",
    "            data.append(r)\n",
    "        return data\n",
    "    \n",
    "    for i in range(dx):\n",
    "        r = []\n",
    "        for j in range(dy):\n",
    "            r.append([0,x[j][i]])\n",
    "        data.append(r)\n",
    "    return data\n",
    "\n",
    "class VortexState(Vortex):\n",
    "    def __init__(self, mu, dmu, delta, **kw):\n",
    "        Vortex.__init__(self, **kw)\n",
    "        self.mus = (mu+dmu, mu-dmu)\n",
    "        self.g = self.get_g(mu=mu, delta=delta)\n",
    "        x, y = self.xyz\n",
    "        self.delta = delta\n",
    "        self.Delta = delta*(x+1j*y)\n",
    "        \n",
    "    def get_g(self, mu=1.0, delta=0.2):\n",
    "        h = homogeneous.Homogeneous(Nxyz=self.Nxyz, Lxyz=self.Lxyz) \n",
    "        res = h.get_densities(mus_eff=(mu, mu), delta=delta)\n",
    "        g = delta/res.nu.n\n",
    "        return g\n",
    "    \n",
    "    def solve(self, tol=0.01, plot=True):\n",
    "        err = 1.0\n",
    "        fig = None\n",
    "        with NoInterrupt() as interrupted:\n",
    "            display(self.plot())\n",
    "            clear_output(wait=True)\n",
    "\n",
    "            while not interrupted and err > tol:\n",
    "                res = self.get_densities(mus_eff=self.mus, delta=self.Delta)\n",
    "                Delta0, self.Delta = self.Delta, self.g*res.nu  # ....\n",
    "                err = abs(Delta0 - self.Delta).max()\n",
    "                if display:\n",
    "                    plt.clf()\n",
    "                    fig = self.plot(fig=fig, res=res)\n",
    "                    plt.suptitle(f\"err={err}\")\n",
    "                    display(fig)\n",
    "                    clear_output(wait=True)\n",
    "        \n",
    "    \n",
    "    def plot(self, fig=None, res=None):\n",
    "        x, y = self.xyz\n",
    "        if fig is None:\n",
    "            fig = plt.figure(figsize=(20, 10))\n",
    "        plt.subplot(231)\n",
    "        imcontourf(x, y, abs(self.Delta), aspect=1)\n",
    "        plt.title(r'$|\\Delta|$'); plt.colorbar()\n",
    "        \n",
    "        if res is not None:\n",
    "            plt.subplot(232)\n",
    "            \n",
    "            imcontourf(x, y, (res.n_a+res.n_b).real, aspect=1)\n",
    "            plt.title(r'$n_+$'); plt.colorbar()\n",
    "        \n",
    "            plt.subplot(233)\n",
    "            imcontourf(x, y, (res.n_a-res.n_b).real, aspect=1)\n",
    "            plt.title(r'$n_-$'); plt.colorbar()\n",
    "            \n",
    "            plt.subplot(234)\n",
    "            \n",
    "            j_a = res.j_a[0] + 1j*res.j_a[1]\n",
    "            j_b = res.j_b[0] + 1j*res.j_b[1]\n",
    "            j_p = j_a + j_b\n",
    "            j_m = j_a - j_b\n",
    "            #j_a = (np.cross(to3d(res.j_a[0]), to3d(res.j_a[1], True)))\n",
    "            #j_b = (np.cross(to3d(res.j_b[0]), to3d(res.j_b[1], True)))\n",
    "            utheta = np.exp(1j*np.angle(x + 1j*y))\n",
    "            #imcontourf(x, y, -(j_p*utheta).real, aspect=1)\n",
    "            imcontourf(x, y, abs(j_a), aspect=1)\n",
    "            plt.title(r'$j_a$'); plt.colorbar()\n",
    "            plt.quiver(x.ravel(), y.ravel(), j_a.real.T, j_a.imag.T)\n",
    "            \n",
    "            plt.subplot(235)\n",
    "            #imcontourf(x, y, (j_a - j_b).real, aspect=1)\n",
    "            #imcontourf(x, y, abs(j_m), aspect=1)\n",
    "            imcontourf(x, y, abs(j_m), aspect=1)\n",
    "            #imcontourf(x, y, -(j_m*utheta).real, aspect=1)\n",
    "            plt.title(r'$J_-$'); plt.colorbar()\n",
    "            plt.quiver(x.ravel(), y.ravel(), j_m.real.T, j_m.imag.T)\n",
    "\n",
    "\n",
    "        return fig\n",
    "        \n",
    "\n",
    "v = Vortex(Nxyz=(16, 16))"
   ]
  },
  {
   "cell_type": "markdown",
   "metadata": {},
   "source": [
    "$$\n",
    "  v_x +\\I v_y = v e^{\\I\\phi}, \\\\\n",
    "  \\uvect{\\theta} = \\frac{\\I x - y}{r}\\\\\n",
    "  \\uvect{\\theta}\\cdot \\vect{v} = \\frac{-yv_x + xv_y}{r} = - \\Re(v \\uvect{\\theta})\n",
    "$$"
   ]
  },
  {
   "cell_type": "markdown",
   "metadata": {},
   "source": [
    "# Potential Profile"
   ]
  },
  {
   "cell_type": "code",
   "execution_count": null,
   "metadata": {},
   "outputs": [],
   "source": [
    "V = v.get_v_ext()[0]\n",
    "x , y = v.xyz\n",
    "imcontourf(x, y, V, aspect=1);plt.colorbar()"
   ]
  },
  {
   "cell_type": "markdown",
   "metadata": {},
   "source": [
    "# Symmetric Vortex"
   ]
  },
  {
   "cell_type": "code",
   "execution_count": null,
   "metadata": {},
   "outputs": [],
   "source": [
    "v = VortexState(mu=10.0, dmu=0.0, delta=1.0, Nxyz=(32, 32))\n",
    "v.solve(plot=True)"
   ]
  },
  {
   "cell_type": "markdown",
   "metadata": {},
   "source": [
    "# Polarized Vortex"
   ]
  },
  {
   "cell_type": "code",
   "execution_count": null,
   "metadata": {},
   "outputs": [],
   "source": [
    "v = VortexState(mu=10.0, dmu=2.0, delta=5.0, Nxyz=(32, 32))\n",
    "#v = VortexState(mu=10.0, dmu=6.5, delta=8.0, Nxyz=(32, 32))\n",
    "v.solve(plot=True)"
   ]
  },
  {
   "cell_type": "code",
   "execution_count": null,
   "metadata": {},
   "outputs": [],
   "source": [
    "r = np.sqrt(sum(_x**2 for _x in v.xyz))\n",
    "plt.plot(r.ravel(), abs(v.Delta).ravel(), '+')"
   ]
  },
  {
   "cell_type": "code",
   "execution_count": null,
   "metadata": {},
   "outputs": [],
   "source": [
    "from mmf_hfb import tf_completion, FuldeFerrelState\n",
    "reload(tf_completion);reload(FuldeFerrelState)\n",
    "\n",
    "N = v.Nxyz[0]\n",
    "L = v.Lxyz[0]\n",
    "k_c = np.pi*N/L\n",
    "mu = np.mean(v.mus)\n",
    "dmu = -np.diff(v.mus)/2\n",
    "delta = v.delta\n",
    "args = dict(mu=mu, dmu=dmu, delta=delta, k_c=k_c)\n",
    "f = FuldeFerrelState.FFState(fix_g=True, **args)\n",
    "rs = np.linspace(0.01, 3, 10)\n",
    "ds = [f.solve(r=_r, a=delta/1.6, b=1.1*delta) for _r in rs]"
   ]
  },
  {
   "cell_type": "code",
   "execution_count": null,
   "metadata": {},
   "outputs": [],
   "source": [
    "f.solve(r=3.0, a=7.9, b=8.1)"
   ]
  },
  {
   "cell_type": "code",
   "execution_count": null,
   "metadata": {},
   "outputs": [],
   "source": [
    "r = np.sqrt(sum(_x**2 for _x in v.xyz))\n",
    "plt.plot(r.ravel(), abs(v.Delta).ravel(), '+')\n",
    "plt.plot(rs, ds)"
   ]
  },
  {
   "cell_type": "code",
   "execution_count": null,
   "metadata": {},
   "outputs": [],
   "source": [
    "r = np.sqrt(sum(_x**2 for _x in v.xyz))\n",
    "plt.plot(r.ravel(), abs(v.Delta).ravel(), '+')\n",
    "plt.plot(rs, ds)"
   ]
  },
  {
   "cell_type": "code",
   "execution_count": null,
   "metadata": {},
   "outputs": [],
   "source": [
    "r = np.sqrt(sum(_x**2 for _x in v.xyz))\n",
    "plt.plot(r.ravel(), abs(v.Delta).ravel(), '+')\n",
    "plt.plot(rs, ds)"
   ]
  },
  {
   "cell_type": "code",
   "execution_count": null,
   "metadata": {},
   "outputs": [],
   "source": [
    "r = np.sqrt(sum(_x**2 for _x in v.xyz))\n",
    "plt.plot(r.ravel(), abs(v.Delta).ravel(), '+')\n",
    "plt.plot(rs, ds)"
   ]
  },
  {
   "cell_type": "markdown",
   "metadata": {},
   "source": [
    "$$\n",
    "  (x - \\I y)^2 = r^2e^{-2\\I \\theta}\n",
    "$$"
   ]
  },
  {
   "cell_type": "code",
   "execution_count": null,
   "metadata": {},
   "outputs": [],
   "source": [
    "x, y = VortexState(mu=10.0, dmu=0.4, delta=1.0, Nxyz=(32, 32)).xyz\n",
    "v = 1j*x - 2*y\n",
    "plt.quiver(x.ravel(), y.ravel(), v.T.real, v.T.imag)"
   ]
  },
  {
   "cell_type": "markdown",
   "metadata": {},
   "source": [
    "$$\n",
    "  -u^\\dagger \\I\\nabla u\n",
    "$$"
   ]
  },
  {
   "cell_type": "code",
   "execution_count": null,
   "metadata": {},
   "outputs": [],
   "source": []
  }
 ],
 "metadata": {
  "celltoolbar": "Initialization Cell",
  "kernelspec": {
   "display_name": "Python [conda env:work3]",
   "language": "python",
   "name": "conda-env-work3-py"
  },
  "language_info": {
   "codemirror_mode": {
    "name": "ipython",
    "version": 3
   },
   "file_extension": ".py",
   "mimetype": "text/x-python",
   "name": "python",
   "nbconvert_exporter": "python",
   "pygments_lexer": "ipython3",
   "version": "3.7.1"
  },
  "toc": {
   "base_numbering": 1,
   "nav_menu": {},
   "number_sections": true,
   "sideBar": true,
   "skip_h1_title": false,
   "title_cell": "Table of Contents",
   "title_sidebar": "Contents",
   "toc_cell": false,
   "toc_position": {},
   "toc_section_display": true,
   "toc_window_display": false
  }
 },
 "nbformat": 4,
 "nbformat_minor": 2
}
