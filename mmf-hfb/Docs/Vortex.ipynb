{
 "cells": [
  {
   "cell_type": "markdown",
   "metadata": {},
   "source": [
    "# Simple Vortex in 2D"
   ]
  },
  {
   "cell_type": "code",
   "execution_count": null,
   "metadata": {
    "init_cell": true
   },
   "outputs": [],
   "source": [
    "import mmf_setup;mmf_setup.nbinit()\n",
    "%pylab inline --no-import-all\n",
    "from nbimports import *                # Conveniences like clear_output"
   ]
  },
  {
   "cell_type": "markdown",
   "metadata": {},
   "source": [
    "Here we generate some vortices.  These are regularized by fixing the coupling constant $g$ so that the homogeneous system in the box and on the lattice gives a fixed value of $\\Delta$ at the specified chemical potential.  The self-consistent solution is found by simple iterations."
   ]
  },
  {
   "cell_type": "code",
   "execution_count": null,
   "metadata": {},
   "outputs": [],
   "source": [
    "from mmf_hfb import bcs, homogeneous;reload(bcs)\n",
    "from mmfutils.math.special import mstep\n",
    "from mmfutils.plot import imcontourf\n",
    "\n",
    "class Vortex(bcs.BCS):\n",
    "    barrier_width = 0.2\n",
    "    barrier_height = 100.0\n",
    "    \n",
    "    def __init__(self, Nxyz=(32, 32), Lxyz=(10., 10.), **kw):\n",
    "        self.R = min(Lxyz)/2\n",
    "        bcs.BCS.__init__(self, Nxyz=Nxyz, Lxyz=Lxyz, **kw)\n",
    "    \n",
    "    def get_v_ext(self):\n",
    "        r = np.sqrt(sum([_x**2 for _x in self.xyz[:2]]))\n",
    "        R0 = self.barrier_width * self.R\n",
    "        V = self.barrier_height * mstep(r-self.R+R0, R0)\n",
    "        return (V, V)\n",
    "\n",
    "class VortexState(Vortex):\n",
    "    def __init__(self, mu, dmu, delta, **kw):\n",
    "        Vortex.__init__(self, **kw)\n",
    "        self.mus = (mu+dmu, mu-dmu)\n",
    "        self.g = self.get_g(mu=mu, delta=delta)\n",
    "        x, y = self.xyz\n",
    "        self.Delta = delta*(x+1j*y)\n",
    "        \n",
    "    def get_g(self, mu=1.0, delta=0.2):\n",
    "        h = homogeneous.Homogeneous(Nxyz=self.Nxyz, Lxyz=self.Lxyz) \n",
    "        res = h.get_densities(mus_eff=(mu, mu), delta=delta)\n",
    "        g = delta/res.nu.n\n",
    "        return g\n",
    "    \n",
    "    def solve(self, tol=0.01, plot=True):\n",
    "        err = 1.0\n",
    "        fig = None\n",
    "        with NoInterrupt() as interrupted:\n",
    "            display(self.plot())\n",
    "            clear_output(wait=True)\n",
    "\n",
    "            while not interrupted and err > tol:\n",
    "                res = self.get_densities(mus_eff=self.mus, delta=self.Delta)\n",
    "                Delta0, self.Delta = self.Delta, self.g*res.nu  # ....\n",
    "                err = abs(Delta0 - self.Delta).max()\n",
    "                if display:\n",
    "                    plt.clf()\n",
    "                    fig = self.plot(fig=fig, res=res)\n",
    "                    plt.suptitle(f\"err={err}\")\n",
    "                    display(fig)\n",
    "                    clear_output(wait=True)\n",
    "        \n",
    "    \n",
    "    def plot(self, fig=None, res=None):\n",
    "        x, y = self.xyz\n",
    "        if fig is None:\n",
    "            fig = plt.figure(figsize=(20, 10))\n",
    "        plt.subplot(231)\n",
    "        imcontourf(x, y, abs(self.Delta), aspect=1)\n",
    "        plt.title(r'$|\\Delta|$'); plt.colorbar()\n",
    "        \n",
    "        if res is not None:\n",
    "            plt.subplot(232)\n",
    "            \n",
    "            imcontourf(x, y, (res.n_a+res.n_b).real, aspect=1)\n",
    "            plt.title(r'$n_+$'); plt.colorbar()\n",
    "        \n",
    "            plt.subplot(233)\n",
    "            imcontourf(x, y, (res.n_a-res.n_b).real, aspect=1)\n",
    "            plt.title(r'$n_-$'); plt.colorbar()\n",
    "            \n",
    "            plt.subplot(234)\n",
    "            \n",
    "            j_a = res.j_a[0] + 1j*res.j_a[1]\n",
    "            j_b = res.j_b[0] + 1j*res.j_b[1]\n",
    "            j_p = j_a + j_b\n",
    "            j_m = j_a - j_b\n",
    "            utheta = np.exp(1j*np.angle(x + 1j*y))\n",
    "            imcontourf(x, y, abs(j_p), aspect=1)\n",
    "            plt.title(r'$j_p$'); plt.colorbar()\n",
    "            plt.quiver(x.ravel(), y.ravel(), j_a.real.T, j_a.imag.T)\n",
    "            \n",
    "            plt.subplot(235)\n",
    "            imcontourf(x, y, abs(j_m), aspect=1)\n",
    "            plt.title(r'$J_-$'); plt.colorbar()\n",
    "            plt.quiver(x.ravel(), y.ravel(), j_m.real.T, j_m.imag.T)\n",
    "        return fig      \n",
    "\n",
    "v = Vortex(Nxyz=(16, 16))"
   ]
  },
  {
   "cell_type": "markdown",
   "metadata": {},
   "source": [
    "$$\n",
    "  v_x +\\I v_y = v e^{\\I\\phi}, \\\\\n",
    "  \\uvect{\\theta} = \\frac{\\I x - y}{r}\\\\\n",
    "  \\uvect{\\theta}\\cdot \\vect{v} = \\frac{-yv_x + xv_y}{r} = - \\Re(v \\uvect{\\theta})\n",
    "$$"
   ]
  },
  {
   "cell_type": "markdown",
   "metadata": {},
   "source": [
    "# Potential Profile"
   ]
  },
  {
   "cell_type": "code",
   "execution_count": null,
   "metadata": {},
   "outputs": [],
   "source": [
    "V = v.get_v_ext()[0]\n",
    "x , y = v.xyz\n",
    "imcontourf(x, y, V, aspect=1);plt.colorbar()"
   ]
  },
  {
   "cell_type": "markdown",
   "metadata": {},
   "source": [
    "# Symmetric Vortex"
   ]
  },
  {
   "cell_type": "code",
   "execution_count": null,
   "metadata": {},
   "outputs": [],
   "source": [
    "v0 = VortexState(mu=10.0, dmu=0.0, delta=1.0, Nxyz=(32, 32))\n",
    "v0.solve(plot=True)"
   ]
  },
  {
   "cell_type": "markdown",
   "metadata": {},
   "source": [
    "# Polarized Vortex"
   ]
  },
  {
   "cell_type": "code",
   "execution_count": null,
   "metadata": {
    "scrolled": false
   },
   "outputs": [],
   "source": [
    "v1 = VortexState(mu=10.0, dmu=2, delta=5.0, Nxyz=(32, 32))\n",
    "v1.solve(plot=True)"
   ]
  },
  {
   "cell_type": "markdown",
   "metadata": {},
   "source": [
    "## Compare to FF State"
   ]
  },
  {
   "cell_type": "code",
   "execution_count": null,
   "metadata": {},
   "outputs": [],
   "source": [
    "from mmf_hfb import FuldeFerrelState; reload(FuldeFerrelState)\n",
    "N = v.Nxyz[0]\n",
    "L = v.Lxyz[0]\n",
    "k_c = np.sqrt(2)*np.pi*N/L\n",
    "mu = 10.0\n",
    "dmu = 2.0\n",
    "delta = 5.0\n",
    "args = dict(mu=mu, dmu=dmu, delta=delta, k_c=k_c)\n",
    "f = FuldeFerrelState.FFState(fix_g=True, **args)\n",
    "rs = np.linspace(0.01,1, 10)\n",
    "rs = np.append(rs, np.linspace(1.1, 3, 15))\n",
    "ds = [f.solve(mu=mu, dmu=dmu, dq=1/_r, a=0.001, b=2*delta) for _r in rs]"
   ]
  },
  {
   "cell_type": "code",
   "execution_count": null,
   "metadata": {},
   "outputs": [],
   "source": [
    "r = np.sqrt(sum(_x**2 for _x in v1.xyz))\n",
    "plt.plot(r.ravel(), abs(v1.Delta).ravel(), '+')\n",
    "plt.plot(rs, ds)\n",
    "plt.xlabel(\"r\", fontsize=20)\n",
    "plt.ylabel(r'$\\Delta$', fontsize=20)"
   ]
  },
  {
   "cell_type": "code",
   "execution_count": null,
   "metadata": {},
   "outputs": [],
   "source": [
    "na = np.array([])\n",
    "nb = np.array([])\n",
    "res = v1.get_densities(mus_eff=v1.mus, delta=v1.Delta)\n",
    "for i in range(len(rs)):\n",
    "    na_, nb_ = f.get_densities(delta=ds[i], dq=1/rs[i], mu=mu, dmu=dmu)\n",
    "    na = np.append(na, na_.n)\n",
    "    nb = np.append(nb, nb_.n)   "
   ]
  },
  {
   "cell_type": "code",
   "execution_count": null,
   "metadata": {},
   "outputs": [],
   "source": [
    "plt.figure(figsize=(20, 5))\n",
    "plt.subplot(121)\n",
    "n_p = na + nb\n",
    "plt.plot(r.ravel(), abs(res.n_a + res.n_b).ravel(), '+')\n",
    "plt.plot(rs, n_p)\n",
    "plt.xlabel(\"r\", fontsize=20), plt.ylabel(r\"$n_p$\", fontsize=20)\n",
    "plt.title(\"Total Density\")\n",
    "\n",
    "plt.subplot(122)\n",
    "n_m = na - nb\n",
    "plt.plot(r.ravel(), abs(res.n_a - res.n_b).ravel(), '+')\n",
    "plt.plot(rs, n_m)\n",
    "plt.xlabel(\"r\", fontsize=20), plt.ylabel(r\"$n_m$\", fontsize=20),plt.title(\"Density Difference\")\n",
    "clear_output()"
   ]
  },
  {
   "cell_type": "code",
   "execution_count": null,
   "metadata": {},
   "outputs": [],
   "source": [
    "ja = np.abs(res.j_a[0] + 1j*res.j_a[1])\n",
    "jb = np.abs(res.j_b[0] + 1j*res.j_b[1]) \n",
    "j_p_, j_m_ = ja + jb, ja - jb\n",
    "ja = []\n",
    "jb = []\n",
    "for i in range(len(rs)):\n",
    "    ja.append(na[i]/rs[i])\n",
    "    jb.append(nb[i]/rs[i])\n",
    "ja, jb = np.array(ja), np.array(jb)\n",
    "j_p, j_m = ja + jb, ja - jb\n",
    "plt.figure(figsize=(20, 5))\n",
    "plt.subplot(121)\n",
    "plt.plot(r.ravel(), 2*j_p_.ravel(), '+')\n",
    "plt.plot(rs, j_p)\n",
    "plt.xlabel(\"r\", fontsize=20), plt.ylabel(r\"$j_p$\", fontsize=20),plt.title(\"Total Current\")\n",
    "plt.subplot(122)\n",
    "plt.plot(r.ravel(), 2*j_m_.ravel(), '+')\n",
    "plt.plot(rs, j_m)\n",
    "plt.xlabel(\"r\", fontsize=20), plt.ylabel(r\"$j_m$\", fontsize=20),plt.title(\"Current Difference\")\n",
    "clear_output()"
   ]
  },
  {
   "cell_type": "markdown",
   "metadata": {},
   "source": [
    "## FF State Phase Diagram"
   ]
  },
  {
   "cell_type": "code",
   "execution_count": null,
   "metadata": {
    "scrolled": false
   },
   "outputs": [],
   "source": [
    "from mmf_hfb import FuldeFerrelState; reload(FuldeFerrelState)\n",
    "kF = 1\n",
    "m = 1\n",
    "T = 0\n",
    "q = 0\n",
    "eF=kF**2/2/m\n",
    "mu = 0.5 * eF\n",
    "\n",
    "delta0 = np.sqrt(2.0) * eF\n",
    "dmu = 0.75 * delta0\n",
    "dmus_delta0 = np.linspace(0,2,10)\n",
    "delta_delta0 = np.linspace(0,2,10)\n",
    "ff = FuldeFerrelState.FFState(fix_g=True, mu=mu, dmu=dmu, delta=delta0, d=2, k_c=500, m=m, T=T)"
   ]
  },
  {
   "cell_type": "code",
   "execution_count": null,
   "metadata": {
    "scrolled": true
   },
   "outputs": [],
   "source": [
    "dq = 0\n",
    "ds = np.linspace(0.1 * delta0, 2* delta0, 10)\n",
    "fs = [ff.f(mu=mu, dmu=dmu, delta=d, dq= dq) for d in ds]\n",
    "plt.plot(ds,fs,'--')\n",
    "plt.axhline(0)\n",
    "if(fs[0] * fs[-1] > 0):\n",
    "    for i in range(len(fs)):\n",
    "        if fs[0] * fs[i] < 0: #two solutions\n",
    "            d = ff.solve(mu=mu, dmu=dmu, dq= dq,a=ds[0],b = ds[i])\n",
    "            plt.axvline(d)\n",
    "            p1 = ff.get_pressure(mu=mu, dmu=dmu, dq = dq, delta=d)\n",
    "            d = ff.solve(mu=mu, dmu=dmu, dq= dq,a=ds[i],b = ds[-1])\n",
    "            plt.axvline(d)\n",
    "            p2 = ff.get_pressure(mu=mu, dmu=dmu, dq = dq, delta=d)\n",
    "            print(f\"p1={p1}\\tp2={p2}\")\n",
    "            break\n",
    "else:\n",
    "    d = ff.solve(mu=mu, dmu=dmu, dq= dq)\n",
    "    plt.axvline(d)\n",
    "\n",
    "clear_output()\n",
    "print(d)"
   ]
  },
  {
   "cell_type": "code",
   "execution_count": null,
   "metadata": {},
   "outputs": [],
   "source": [
    "delta0"
   ]
  },
  {
   "cell_type": "code",
   "execution_count": null,
   "metadata": {},
   "outputs": [],
   "source": [
    "ff.f(mu=mu, dmu=dmu, delta=0.5591259549249719, dq= dq,a=0.2,b = 1.4)"
   ]
  },
  {
   "cell_type": "code",
   "execution_count": null,
   "metadata": {
    "scrolled": true
   },
   "outputs": [],
   "source": [
    "dqs = np.linspace(0,1.3, 10)\n",
    "ps = [ff.get_pressure(mu=mu, dmu=dmu, dq = dq).n for dq in dqs]\n",
    "plt.plot(dqs, ps)\n",
    "clear_output()"
   ]
  },
  {
   "cell_type": "markdown",
   "metadata": {},
   "source": [
    "# Quiver"
   ]
  },
  {
   "cell_type": "code",
   "execution_count": null,
   "metadata": {},
   "outputs": [],
   "source": [
    "x, y = VortexState(mu=10.0, dmu=0.4, delta=1.0, Nxyz=(32, 32)).xyz\n",
    "v = 1j*x - 2*y\n",
    "plt.quiver(x.ravel(), y.ravel(), v.T.real, v.T.imag)"
   ]
  },
  {
   "cell_type": "markdown",
   "metadata": {},
   "source": [
    "$$\n",
    "  -u^\\dagger \\I\\nabla u\n",
    "$$"
   ]
  },
  {
   "cell_type": "markdown",
   "metadata": {},
   "source": [
    "$$\n",
    "E(\\psi)={\\bra{\\psi}\\frac{-\\nabla^2}{2m}+\\frac{g}{2}\\abs{\\psi^\\dagger\\psi}-\\mu\\ket{\\psi}}\n",
    "$$"
   ]
  },
  {
   "cell_type": "markdown",
   "metadata": {},
   "source": [
    "$$\n",
    "\\psi = f(r)e^{i\\theta}\\\\\n",
    "\\vec{\\psi'} = \\nabla f(r)(x+iy) + f(r)(x, iy)\n",
    "$$"
   ]
  },
  {
   "cell_type": "markdown",
   "metadata": {},
   "source": [
    "$$\n",
    "E(\\psi)= \\int dr \\left[\\frac{\\psi'^2}{2m} + \\frac{g}{2}f(r)^2-\\mu n(r)\\right]\n",
    "$$"
   ]
  },
  {
   "cell_type": "code",
   "execution_count": null,
   "metadata": {},
   "outputs": [],
   "source": []
  }
 ],
 "metadata": {
  "celltoolbar": "Initialization Cell",
  "kernelspec": {
   "display_name": "Python 3",
   "language": "python",
   "name": "python3"
  },
  "language_info": {
   "codemirror_mode": {
    "name": "ipython",
    "version": 3
   },
   "file_extension": ".py",
   "mimetype": "text/x-python",
   "name": "python",
   "nbconvert_exporter": "python",
   "pygments_lexer": "ipython3",
   "version": "3.7.2"
  },
  "toc": {
   "base_numbering": 1,
   "nav_menu": {},
   "number_sections": true,
   "sideBar": true,
   "skip_h1_title": false,
   "title_cell": "Table of Contents",
   "title_sidebar": "Contents",
   "toc_cell": false,
   "toc_position": {},
   "toc_section_display": true,
   "toc_window_display": false
  }
 },
 "nbformat": 4,
 "nbformat_minor": 2
}
