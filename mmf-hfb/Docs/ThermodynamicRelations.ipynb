{
 "cells": [
  {
   "cell_type": "markdown",
   "metadata": {},
   "source": [
    "# Thermodynamic Relations"
   ]
  },
  {
   "cell_type": "code",
   "execution_count": null,
   "metadata": {},
   "outputs": [],
   "source": [
    "import mmf_setup;mmf_setup.nbinit()\n",
    "%pylab inline --no-import-all\n",
    "from nbimports import * \n",
    "from mmf_hfb import tf_completion as tf\n",
    "from mmf_hfb.FuldeFerrelState import FFState\n",
    "from mmf_hfb import homogeneous\n",
    "import itertools\n",
    "import sys\n",
    "import os\n",
    "import inspect\n",
    "from os.path import join\n",
    "import json\n",
    "from json import dumps\n",
    "import re\n",
    "tf.MAX_DIVISION = 200\n",
    "clear_output()"
   ]
  },
  {
   "cell_type": "markdown",
   "metadata": {},
   "source": [
    "\\begin{align}\n",
    "k_a &= k + q + dq, \\qquad k_b = k+q - dq ,\\qquad\n",
    "\\epsilon_a = \\frac{\\hbar^2}{2m}k_a^2 - \\mu_a, \\qquad \\epsilon_b = \\frac{\\hbar^2}{2m}k_b^2 - \\mu_b,\\\\\n",
    "E&=\\sqrt{\\epsilon_+^2+\\abs{\\Delta}^2},\\qquad \\omega_+= \\epsilon_-+E, \\qquad \\omega_- = \\epsilon_- - E\\\\\n",
    "\\epsilon_+&= \\frac{\\hbar^2}{4m}(k_a^2+k_b^2) - \\mu_+= \\frac{\\hbar^2}{2m}\\left[(k+q)^2 + dq^2\\right] - \\mu_+\\\\\n",
    "\\epsilon_-&= \\frac{\\hbar^2}{4m}(k_a^2-k_b^2) - \\mu_-=\\frac{\\hbar^2}{m}(k +q)dq - \\mu_-\\\\\n",
    "\\end{align}"
   ]
  },
  {
   "cell_type": "code",
   "execution_count": null,
   "metadata": {},
   "outputs": [],
   "source": [
    "%pylab inline --no-import-all\n",
    "from ipywidgets import interact\n",
    "def f(E, T):\n",
    "    T = max(T, 1e-32)\n",
    "    return 1./(1+np.exp(E/T))\n",
    "\n",
    "@interact(delta=(0, 5, 0.1),mu=(0, 10, 0.2),\n",
    "          dmu=(0, 5, 0.1),q = (0,5,0.1),\n",
    "          dq = (0,5,0.1),T=(0, 0.1, 0.01))\n",
    "def go(delta=0.1, mu=5.0, dmu=0.0,q=0, dq=0, T=0.02):\n",
    "    k = np.linspace(0, 5, 100)\n",
    "    hbar = m = kF = 1.0\n",
    "    kF, eF = np.sqrt(2*mu), mu\n",
    "    mu_a, mu_b = mu + dmu, mu - dmu\n",
    "    e_a, e_b = (hbar*(k+q+dq))**2/2/m - mu_a, (hbar*(k+q-dq))**2/2/m - mu_b\n",
    "    e_p, e_m = (e_a + e_b)/2, (e_a - e_b)/2\n",
    "    E = np.sqrt(e_p**2+abs(delta)**2)\n",
    "    w_p, w_m = e_m + E, e_m - E\n",
    "    f_p = 1 - e_p/E*(f(w_m, T) - f(w_p, T))\n",
    "    f_m = f(w_p, T) - f(-w_m, T)\n",
    "    f_a, f_b = (f_p+f_m)/2, (f_p-f_m)/2\n",
    "    plt.figure(figsize=(10,8))\n",
    "    plt.subplot(211);plt.grid()\n",
    "    plt.plot(k, f_a, label='a')\n",
    "    plt.plot(k, f_b, label='b');plt.legend()\n",
    "    plt.ylabel('n')\n",
    "    plt.subplot(212);plt.grid()\n",
    "    plt.axhline(0, c='y')\n",
    "    plt.plot(k, w_p/eF, k, w_m/eF)\n",
    "    plt.xlabel('$k/k_F$')\n",
    "    plt.ylabel(r'$\\omega_{\\pm}/\\epsilon_F$')"
   ]
  },
  {
   "cell_type": "markdown",
   "metadata": {},
   "source": [
    "### Energy Density for 1D free Fermi Gas($\\Delta=0$)\n",
    "$$\n",
    "\\mathcal{E}=\\frac{\\sqrt{2m}}{\\pi\\hbar}\\frac{E_F^{3/2}}{3}\\qquad n=\\frac{m}{\\pi \\hbar^2}E_F\n",
    "$$\n",
    "Since there are two components, then the overall energy density\n",
    "\\begin{align}\n",
    "\\mathcal{E}\n",
    "&=\\frac{\\sqrt{2m}}{\\pi\\hbar}\\frac{\\mu_a^{3/2}+\\mu_b^{3/2}}{3}=\\frac{\\sqrt{2m}}{\\pi\\hbar}\\frac{(\\mu+d\\mu)^{3/2}+(\\mu-d\\mu)^{3/2}}{3}\n",
    "\\end{align}"
   ]
  },
  {
   "cell_type": "markdown",
   "metadata": {},
   "source": [
    "### Energy Density for 2D free Fermi Gas($\\Delta=0$)\n",
    "For single component\n",
    "$$\n",
    "\\mathcal{E}=\\frac{m}{4\\pi\\hbar^2}E_F^2,\\qquad n=\\frac{m}{\\pi\\hbar^2}E_F, \\qquad \\mathcal{E}=\\frac{1}{2}nE_F\n",
    "$$\n",
    "Since there are two components, then the overall energy density\n",
    "\\begin{align}\n",
    "\\mathcal{E}\n",
    "&=\\frac{m}{4\\pi\\hbar^2}(\\mu_a^2+\\mu_b^2)=\\frac{m}{4\\pi\\hbar^2}\\left((\\mu+d\\mu)^2+(\\mu-d\\mu)^2\\right)\\\\\n",
    "\\end{align}"
   ]
  },
  {
   "cell_type": "markdown",
   "metadata": {},
   "source": [
    "### Energy Density for 3D free Fermi Gas($\\Delta=0$)\n",
    "For single component\n",
    "$$\n",
    "\\mathcal{E}=\\frac{\\hbar^2}{10m\\pi^2}k_F^5=\\frac{1}{10\\pi^2}\\frac{(2m)^{3/2}}{\\hbar^3}E_F^{5/2}, \\qquad n=\\frac{k_F^3}{3\\pi^2}\n",
    "$$\n",
    "Since there are two components, then the overall energy density\n",
    "\\begin{align}\n",
    "\\mathcal{E}\n",
    "&=\\frac{1}{10\\pi^2}\\frac{(2m)^{3/2}}{\\hbar^3}(\\mu_a^{5/2}+\\mu_b^{5/2})=\\frac{1}{10\\pi^2}\\frac{(2m)^{3/2}}{\\hbar^3}\\left((\\mu+d\\mu)^{5/2}+(\\mu+d\\mu)^{5/2}\\right)\\\\\n",
    "\\end{align}"
   ]
  },
  {
   "cell_type": "markdown",
   "metadata": {},
   "source": [
    "## Test Code\n",
    "* For Free Fermi Gas, use the ananlytical formuleas"
   ]
  },
  {
   "cell_type": "code",
   "execution_count": null,
   "metadata": {},
   "outputs": [],
   "source": [
    "def get_e_n(mu, dmu, dim=1):\n",
    "    if dim == 1:\n",
    "        def f(e_F):\n",
    "            return np.sqrt(2)/np.pi * e_F**1.5/3.0\n",
    "        ea, eb = f(mu+dmu),f(mu-dmu)\n",
    "        energy_density = ea + eb\n",
    "        na, nb=np.sqrt(2 * (mu + dmu))/np.pi,np.sqrt(2 * (mu - dmu))/np.pi\n",
    "        total_density = na + nb\n",
    "    elif dim == 2:\n",
    "        energy_density = ((mu+dmu)**2 + (mu-dmu)**2)/4.0/np.pi\n",
    "        na, nb = (mu + dmu)/np.pi/2.0,(mu-dmu)/np.pi/2.0\n",
    "        total_density = mu/np.pi\n",
    "    elif dim == 3:\n",
    "        energy_density = ((mu+dmu)**2.5 + (mu-dmu)**2.5)*2.0**1.5/10.0/np.pi**2\n",
    "        na, nb = ((2.0 * (mu + dmu))**1.5)/6.0/np.pi**2,((2.0 * (mu - dmu))**1.5)/6.0/np.pi**2\n",
    "        total_density = ((2.0 * (mu + dmu))**1.5 + (2.0 * (mu - dmu))**1.5)/6.0/np.pi**2\n",
    "    return energy_density, (na, nb)"
   ]
  },
  {
   "cell_type": "markdown",
   "metadata": {},
   "source": [
    "* The $\\Delta_0$ is set to unitary, which may be not good for large $mu$ and $dmu$"
   ]
  },
  {
   "cell_type": "code",
   "execution_count": null,
   "metadata": {},
   "outputs": [],
   "source": [
    "def test_Thermodynamic(mu, dmu,delta0=1, dim=1, k_c=100, q=0, dq=0, T=0.0, dx=1e-6):\n",
    "    print(f\"mu={mu}\\tdmu={dmu}\\tkc={k_c}\\tq={q}\\tdq={dq}\\tdim={dim}\")    \n",
    "    ff = FFState(mu=mu, delta=delta0, dim=dim, k_c=k_c, T=T, fix_g=False)\n",
    "\n",
    "    def get_P(mu, dmu):\n",
    "        delta = ff.solve(mu=mu, dmu=dmu, q=q, dq=dq, a=0.8*delta0, b=1.2*delta0)\n",
    "        return ff.get_pressure(mu=mu, dmu=dmu, delta=delta, q=q, dq=dq)\n",
    "\n",
    "    def get_E_n(mu, dmu):\n",
    "        E = ff.get_energy_density(mu=mu, dmu=dmu, q=q, dq=dq)\n",
    "        n = sum(ff.get_densities(mu=mu, dmu=dmu, q=q, dq=dq))\n",
    "        return E, n\n",
    "\n",
    "    def get_ns(mu, dmu):\n",
    "        return ff.get_densities(mu=mu, dmu=dmu, q=q, dq=dq)\n",
    "    energy_density, (na, nb) = get_e_n(mu=mu, dmu=dmu, dim=dim)        \n",
    "    print(f\"{dim}D: E={energy_density}\\tn_a={na}\\tn_b={nb}\\tn_p={na+nb}\")    \n",
    "    E1, n1 = get_E_n(mu=mu+dx, dmu=dmu)\n",
    "    E0, n0 = get_E_n(mu=mu-dx, dmu=dmu)\n",
    "    print(f\"E1={E1.n}\\tE0={E0.n}\\tn1={n1.n}\\tn0={n0.n}\")\n",
    "    n_p = (get_P(mu+dx, dmu) - get_P(mu-dx, dmu))/2/dx\n",
    "    n_a, n_b = get_ns(mu, dmu)\n",
    "    n_a_ = (get_P(mu+dx/2, dmu+dx/2) - get_P(mu-dx/2, dmu - dx/2))/2/dx\n",
    "    n_b_ = (get_P(mu+dx/2, dmu-dx/2) - get_P(mu-dx/2, dmu + dx/2))/2/dx\n",
    "    print(f\"n_a={n_a.n}\\tNumerical  n_a={n_a_.n}\")\n",
    "    print(f\"n_b={n_b.n}\\tNumerical  n_b={n_b_.n}\")\n",
    "    print(f\"n_p={n_a.n+n_b.n}\\tNumerical  n_p={n_p.n}\")\n",
    "    print(f\"mu={mu}\\tNumerical mu={((E1-E0)/(n1-n0)).n}\")\n",
    "    assert np.allclose(n_a.n, n_a_.n, rtol=1e-2)\n",
    "    assert np.allclose(n_b.n, n_b_.n, rtol=1e-2)\n",
    "    assert np.allclose(n_p.n, (n_a+n_b).n, rtol=1e-2)\n",
    "    assert np.allclose(mu,((E1-E0)/(n1-n0)).n, rtol=1e-2)\n",
    "    \n",
    "def homogeneous_Density(mu, dmu, delta, dim):\n",
    "    \"\"\"return density,used for reference\"\"\"\n",
    "    return homogeneous.Homogeneous(dim = dim).get_ns(mus_eff=(mu+dmu, mu-dmu), delta=delta, N_twist=12)"
   ]
  },
  {
   "cell_type": "markdown",
   "metadata": {},
   "source": [
    "## 1D Cases "
   ]
  },
  {
   "cell_type": "code",
   "execution_count": null,
   "metadata": {
    "scrolled": true
   },
   "outputs": [],
   "source": [
    "homogeneous_Density(mu=5, dmu=0.5, delta=1, dim=1)"
   ]
  },
  {
   "cell_type": "markdown",
   "metadata": {},
   "source": [
    "* the following test case is interesting, it's failed when dmu=q=dq=0, this error goes away when fix g.\n",
    "* clearly, we can comfirm that, there is an error when fix $C$.\n",
    "* this can be used as a trace to fix the error."
   ]
  },
  {
   "cell_type": "code",
   "execution_count": null,
   "metadata": {},
   "outputs": [],
   "source": [
    "dx = 1e-3\n",
    "dmu = 3.0\n",
    "e1, n1 = get_e_n(mu=5 + dx, dmu=dmu)\n",
    "e2, n2 = get_e_n(mu=5 - dx, dmu=dmu)\n",
    "e1,e2,  n1, n2, (e1-e2)/(sum(n1)-sum(n2))"
   ]
  },
  {
   "cell_type": "code",
   "execution_count": null,
   "metadata": {
    "scrolled": true
   },
   "outputs": [],
   "source": [
    "test_Thermodynamic(mu=5, dmu=3.0, k_c=200, q=0.0, dq=0.0, dim=1, delta0=1.0)"
   ]
  },
  {
   "cell_type": "markdown",
   "metadata": {},
   "source": [
    "## $\\Delta=0$ Reasoning"
   ]
  },
  {
   "cell_type": "markdown",
   "metadata": {},
   "source": [
    "$$\n",
    "\\mathcal{E}=\\int_0^{\\mu_a} \\frac{k^2}{2m}dk + \\int_0^{\\mu_b} \\frac{k^2}{2m}dk\n",
    "$$"
   ]
  },
  {
   "cell_type": "code",
   "execution_count": null,
   "metadata": {},
   "outputs": [],
   "source": [
    "test_Thermodynamic(mu=5, dmu=0.0, k_c=200, q=.1, dq=0.0, dim=1, delta0=1.0)"
   ]
  },
  {
   "cell_type": "markdown",
   "metadata": {},
   "source": [
    "# 2D Cases"
   ]
  },
  {
   "cell_type": "code",
   "execution_count": null,
   "metadata": {},
   "outputs": [],
   "source": [
    "homogeneous_Density(mu=5, dmu=0.64, delta=1, dim=2)"
   ]
  },
  {
   "cell_type": "markdown",
   "metadata": {},
   "source": [
    "### Good accuracy"
   ]
  },
  {
   "cell_type": "code",
   "execution_count": null,
   "metadata": {
    "scrolled": true
   },
   "outputs": [],
   "source": [
    "test_Thermodynamic(mu=10, dmu=0.64, dim=2, q=0, dq=0.01, delta0=1, k_c=200, dx=1e-6)"
   ]
  },
  {
   "cell_type": "markdown",
   "metadata": {},
   "source": [
    "# 3D Cases:\n",
    "* the 3D cases are very sensitive to the cutoff k_c"
   ]
  },
  {
   "cell_type": "markdown",
   "metadata": {},
   "source": [
    "### homogeneous density"
   ]
  },
  {
   "cell_type": "code",
   "execution_count": null,
   "metadata": {
    "scrolled": false
   },
   "outputs": [],
   "source": [
    "homogeneous_Density(mu=5, dmu=0.64, delta=1, dim=3)"
   ]
  },
  {
   "cell_type": "code",
   "execution_count": null,
   "metadata": {},
   "outputs": [],
   "source": [
    "test_Thermodynamic(delta0=1,mu=9,dmu=1.2000000000000002, k_c=200 ,q=10.7999999999999998,dq=0,dim=3)"
   ]
  },
  {
   "cell_type": "code",
   "execution_count": null,
   "metadata": {},
   "outputs": [],
   "source": [
    "test_Thermodynamic(mu = 5, dmu = 0.24, dim = 3, k_c = 100, q = 0, dq = 0, dx=1e-3)"
   ]
  },
  {
   "cell_type": "markdown",
   "metadata": {},
   "source": [
    "# Phase Diagram"
   ]
  },
  {
   "cell_type": "code",
   "execution_count": null,
   "metadata": {},
   "outputs": [],
   "source": [
    "currentdir = os.path.dirname(os.path.abspath(inspect.getfile(inspect.currentframe())))\n",
    "files = [f for f in os.listdir(join(currentdir,\"../\")) if re.match(r'1d_phase_map_data*', f)]\n",
    "#files = [\"1d_phase_map_data_20190314165122_20190314165632.txt\"]\n",
    "rets = []\n",
    "for file in files:\n",
    "    file = join(currentdir,\"../\",file)\n",
    "    if os.path.exists(file):\n",
    "        with open(file,'r') as rf:\n",
    "            rets.extend(json.load(rf))\n",
    "            formattedData = []\n",
    "#find the dq with maximum pressure\n",
    "for items in rets:\n",
    "    mu = items['mu']\n",
    "    delta0 = items['delta']\n",
    "    data = items['data']\n",
    "    q = items['q']\n",
    "    na = items['na']\n",
    "    nb = items['nb']\n",
    "    g = items['g']\n",
    "    if len(data) > 0:\n",
    "        dmu,dq, delta, press = data[0]\n",
    "        for item in data:\n",
    "            if dmu == item[0]:\n",
    "                if item[3] > press:\n",
    "                    dq, press= item[1],item[3]\n",
    "            else:\n",
    "                formattedData.append((mu, dmu, delta0, delta, q, dq, press, g, na, nb))\n",
    "                dmu, dq, delta, press = item\n",
    "        formattedData.append((mu, dmu, delta0, delta, q, dq, press, g, na, nb))"
   ]
  },
  {
   "cell_type": "code",
   "execution_count": null,
   "metadata": {},
   "outputs": [],
   "source": [
    "data = formattedData\n",
    "plt.figure(figsize=(20, 5))\n",
    "plt.subplot(121)\n",
    "x,y,c,area =[],[],[],[]\n",
    "ShowNonFFState=True\n",
    "for item in data:\n",
    "    mu, dmu, delta0, delta, q, dq, press, g, na, nb = item\n",
    "    n = na+nb\n",
    "    if dmu > 0 and  dq> 0 and delta > 0:\n",
    "        x.append(-1.0 /g)\n",
    "        y.append(dmu/delta0)\n",
    "        c.append('r')\n",
    "        area.append(16)\n",
    "    elif ShowNonFFState:\n",
    "        x.append(-1.0 /g)\n",
    "        y.append(dmu/delta0)\n",
    "        c.append('b')\n",
    "        area.append(1)\n",
    "plt.scatter(x, y, s=area, c=c)\n",
    "plt.xlabel(r\"$-1/(g\\sqrt{n_{d\\mu=0}})$\", fontsize=20)\n",
    "plt.ylabel(r\"$d\\mu/\\Delta_0$\", fontsize=20)\n",
    "plt.ylim(0,1)"
   ]
  },
  {
   "cell_type": "code",
   "execution_count": null,
   "metadata": {},
   "outputs": [],
   "source": [
    "qs = [0.5]#np.linspace(0,3,4) # q does not change the pressure, you may use q = 1.5 or other values \n",
    "dq0 = 7.856742013183863e-5\n",
    "mu=0.5\n",
    "dmu = 0.00039283710065919316\n",
    "delta = 0.0007071067811865476\n",
    "for q in qs:\n",
    "    dqs = np.linspace(2,7,10)*dq0\n",
    "    ff = FFState(mu=mu, dmu=dmu, dim=2, delta=delta, k_c=100)\n",
    "    ps = [ff.get_pressure(mu=mu, dmu=dmu,q = q, dq=dq).n for dq in dqs]\n",
    "    clear_output()\n",
    "    plt.plot(dqs * 1000, ps)"
   ]
  }
 ],
 "metadata": {
  "kernelspec": {
   "display_name": "Python 3",
   "language": "python",
   "name": "python3"
  },
  "language_info": {
   "codemirror_mode": {
    "name": "ipython",
    "version": 3
   },
   "file_extension": ".py",
   "mimetype": "text/x-python",
   "name": "python",
   "nbconvert_exporter": "python",
   "pygments_lexer": "ipython3",
   "version": "3.7.2"
  }
 },
 "nbformat": 4,
 "nbformat_minor": 2
}
