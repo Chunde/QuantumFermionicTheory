{
 "cells": [
  {
   "cell_type": "markdown",
   "metadata": {},
   "source": [
    "# Thermodynamic Relations"
   ]
  },
  {
   "cell_type": "code",
   "execution_count": null,
   "metadata": {},
   "outputs": [],
   "source": [
    "import mmf_setup;mmf_setup.nbinit()\n",
    "%pylab inline --no-import-all\n",
    "from nbimports import * \n",
    "from mmf_hfb import tf_completion as tf\n",
    "from mmf_hfb import homogeneous\n",
    "from scipy.optimize import brentq\n",
    "from functools import partial\n",
    "import itertools\n",
    "tf.MAX_DIVISION = 500"
   ]
  },
  {
   "cell_type": "code",
   "execution_count": null,
   "metadata": {},
   "outputs": [],
   "source": [
    "class FFState(object):\n",
    "    def __init__(self, mu=10, dmu=0.4, delta=1,\n",
    "                 m=1, T=0, hbar=1, k_c=100, d=2, fix_g=True):\n",
    "        \"\"\"      \n",
    "        Arguments\n",
    "        ---------\n",
    "        fix_g : bool\n",
    "           If fix_g is False, the class will fix C_tilde when\n",
    "           performing the non-linear iterations, otherwise the\n",
    "           coupling constant g_c will be fixed.  Note: this g_c will\n",
    "           depend on the cutoff k_c.\n",
    "        \"\"\"\n",
    "        self.fix_g = fix_g\n",
    "        self.d = d\n",
    "        self.T = T\n",
    "        self.mu = mu\n",
    "        self.m = m\n",
    "        self.dmu = dmu\n",
    "        self.delta = delta\n",
    "        self.hbar = hbar\n",
    "        self.k_c = k_c\n",
    "        self._tf_args = dict(m_a=1, m_b=1, d=d, hbar=hbar, T=T, k_c=k_c)\n",
    "\n",
    "        if fix_g:\n",
    "            self._g = self.get_g(mu=mu, dmu=0, delta=delta, r=np.inf)\n",
    "        else:\n",
    "            self._C = tf.compute_C(mu_a=mu, mu_b=mu, delta=delta,\n",
    "                                   **self._tf_args).n\n",
    "        \n",
    "    def f(self, mu, dmu, delta, q=0, dq=0, **kw):\n",
    "        args = dict(self._tf_args)\n",
    "        args.update(kw)\n",
    "\n",
    "        if self.fix_g:\n",
    "            return self.get_g(mu=mu, dmu=dmu, q=q, dq=dq, delta=delta, **args) - self._g\n",
    "\n",
    "        return tf.compute_C(delta=delta, q=q, dq=dq **args).n - self._C\n",
    "\n",
    "    def get_g(self, delta, mu=None, dmu=None, q=0, dq=0, **kw):\n",
    "        args = dict(self._tf_args, q=q, dq=dq, delta=delta)\n",
    "        if mu is not None:\n",
    "            args.update(mu_a=mu+dmu, mu_b=mu-dmu)\n",
    "        nu_delta = tf.integrate_q(tf.nu_delta_integrand, **args)\n",
    "        g = 1./nu_delta.n\n",
    "        return g\n",
    "\n",
    "    def get_densities(self, mu, dmu, q=0, dq=0, delta=None, k_c=None):\n",
    "        if delta is None:\n",
    "            delta = self.solve(mu=mu, dmu=dmu, q=q, dq=dq, \n",
    "                               a=self.delta * 0.8, b=self.delta * 1.2)\n",
    "        args = dict(self._tf_args, mu_a=mu + dmu, mu_b=mu - dmu, delta=delta,\n",
    "                    q=q, dq=dq)\n",
    "        if k_c is not None:\n",
    "            args['k_c'] = k_c\n",
    "            \n",
    "        n_p = tf.integrate_q(tf.n_p_integrand, **args)\n",
    "        n_m = tf.integrate_q(tf.n_m_integrand, **args)\n",
    "        n_a, n_b = (n_p + n_m)/2, (n_p - n_m)/2\n",
    "        return n_a, n_b\n",
    "    \n",
    "    def get_energy_density(self, mu, dmu, q=0, dq=0, delta=None,\n",
    "                           n_a=None, n_b=None):\n",
    "        if delta is None:\n",
    "            delta = self.solve(mu=mu, dmu=dmu, q=q, dq=dq, \n",
    "                               a=self.delta * 0.8, b=self.delta * 1.2)\n",
    "        if n_a is None:\n",
    "            n_a, n_b = self.get_densities(mu=mu, dmu=dmu, delta=delta, q=q, dq=dq)\n",
    "\n",
    "        args = dict(self._tf_args, mu_a=mu + dmu, mu_b=mu - dmu, delta=delta,\n",
    "                    q=q, dq=dq)\n",
    "        kappa = tf.integrate_q(tf.kappa_integrand, **args)\n",
    "        if self.fix_g:\n",
    "            g_c = self._g\n",
    "        else:\n",
    "            g_c = 1./self._C\n",
    "        return kappa #  - g_c * n_a * n_b /2\n",
    "    \n",
    "    def get_pressure(self, mu, dmu, q=0, dq=0, delta=None, return_ns = False):\n",
    "        if delta is None:\n",
    "            delta = self.solve(mu=mu, dmu=dmu, q=q, dq=dq, \n",
    "                               a=self.delta * 0.1, b=self.delta * 2)\n",
    "        n_a, n_b = self.get_densities(mu=mu, dmu=dmu, delta=delta, q=q, dq=dq)\n",
    "        energy_density = self.get_energy_density(\n",
    "            mu=mu, dmu=dmu, delta=delta, q=q, dq=dq,\n",
    "            n_a=n_a, n_b=n_b)\n",
    "        mu_a, mu_b = mu + dmu, mu - dmu\n",
    "        pressure = mu_a * n_a + mu_b * n_b - energy_density\n",
    "        if return_ns:\n",
    "            return (pressure, n_a, n_b)\n",
    "        return pressure\n",
    "\n",
    "    def solve(self, mu=None, dmu=None, q=0, dq=0, a=0.8, b=1.2):\n",
    "        args = dict(self._tf_args, q=q, dq=dq)\n",
    "        if mu is not None:\n",
    "            args.update(mu=mu, dmu=dmu, mu_a=mu+dmu, mu_b=mu-dmu)\n",
    "        def f(delta):\n",
    "            if self.fix_g:\n",
    "                return self._g - self.get_g(delta=delta, mu=mu, dmu=dmu, q=q, dq=dq)\n",
    "            return self._C - tf.compute_C(delta=delta, **args).n\n",
    "        try:\n",
    "            delta = brentq(f, a, b)\n",
    "        except:\n",
    "            delta = 0\n",
    "        return delta"
   ]
  },
  {
   "cell_type": "markdown",
   "metadata": {},
   "source": [
    "## Test Code\n",
    "* The $\\Delta_0$ is set to unitary, which may be not good for large $mu$ and $dmu$"
   ]
  },
  {
   "cell_type": "code",
   "execution_count": null,
   "metadata": {},
   "outputs": [],
   "source": [
    "def test_Thermodynamic(mu, dmu,delta0=1, dim=1, k_c=100, q=0, dq=0):\n",
    "    print(f\"mu={mu}\\tdmu={dmu}\\tkc={k_c}\\tq={q}\\tdq={dq}\\tdim={dim}\")\n",
    "    dx = 1e-3\n",
    "    ff = FFState(dmu=dmu, mu=mu, delta=delta0, d=dim, k_c=k_c, fix_g=True)\n",
    "    \n",
    "    def get_P(mu, dmu):\n",
    "        delta = ff.solve(mu=mu, dmu=dmu, q=q, dq=dq)\n",
    "        return ff.get_pressure(mu=mu, dmu=dmu, delta=delta, q=q, dq=dq)\n",
    "\n",
    "    def get_E_n(mu, dmu):\n",
    "        E = ff.get_energy_density(mu=mu, dmu=dmu, q=q, dq=dq)\n",
    "        n = sum(ff.get_densities(mu=mu, dmu=dmu, q=q, dq=dq))\n",
    "        return E, n\n",
    "\n",
    "    def get_ns(mu, dmu):\n",
    "        return ff.get_densities(mu=mu, dmu=dmu, q=q, dq=dq)\n",
    "      \n",
    "    E1, n1 = get_E_n(mu=mu+dx, dmu=dmu)\n",
    "    E0, n0 = get_E_n(mu=mu-dx, dmu=dmu)\n",
    "\n",
    "    n_p = (get_P(mu+dx, dmu) - get_P(mu-dx, dmu))/2/dx\n",
    "    n_a, n_b = get_ns(mu, dmu)\n",
    "    n_a_ = (get_P(mu+dx/2, dmu+dx/2) - get_P(mu-dx/2, dmu - dx/2))/2/dx\n",
    "    n_b_ = (get_P(mu+dx/2, dmu-dx/2) - get_P(mu-dx/2, dmu + dx/2))/2/dx\n",
    "    print(f\"n_a={n_a.n}\\tNumerical  n_a={n_a_.n}\")\n",
    "    print(f\"n_b={n_b.n}\\tNumerical  n_b={n_b_.n}\")\n",
    "    print(f\"n_p={n_a.n+n_b.n}\\tNumerical  n_p={n_p.n}\")\n",
    "    print(f\"mu={mu}\\tNumerical mu={((E1-E0)/(n1-n0)).n}\")\n",
    "    assert np.allclose(n_a.n, n_a_.n, rtol=1e-4)\n",
    "    assert np.allclose(n_b.n, n_b_.n, rtol=1e-4)\n",
    "    assert np.allclose(n_p.n, (n_a+n_b).n, rtol=1e-4)\n",
    "    assert np.allclose(mu,((E1-E0)/(n1-n0)).n, rtol=1e-2)\n",
    "    \n",
    "def homogeneous_Density(mu, dmu, delta, dim):\n",
    "    \"\"\"return density,used for reference\"\"\"\n",
    "    return homogeneous.Homogeneous(dim = dim).get_ns(mus_eff=(mu+dmu, mu-dmu), delta=delta, N_twist=12)"
   ]
  },
  {
   "cell_type": "markdown",
   "metadata": {},
   "source": [
    "## 1D Cases "
   ]
  },
  {
   "cell_type": "code",
   "execution_count": null,
   "metadata": {},
   "outputs": [],
   "source": [
    "homogeneous_Density(mu=5, dmu=0.5, delta=1, dim=1)"
   ]
  },
  {
   "cell_type": "markdown",
   "metadata": {},
   "source": [
    "### Good accurary for $\\mu_+=\\frac{\\partial E}{\\partial n_+}$"
   ]
  },
  {
   "cell_type": "code",
   "execution_count": null,
   "metadata": {
    "scrolled": true
   },
   "outputs": [],
   "source": [
    "test_Thermodynamic(mu=5, dmu=.5, k_c=200, q=0, dq=0, dim=1, delta0=1)"
   ]
  },
  {
   "cell_type": "code",
   "execution_count": null,
   "metadata": {},
   "outputs": [],
   "source": [
    "test_Thermodynamic(mu=5, dmu=2.5, k_c=100, q=.5, dq=1.0, dim=1, delta0=1)"
   ]
  },
  {
   "cell_type": "markdown",
   "metadata": {},
   "source": [
    "### Medium accurary"
   ]
  },
  {
   "cell_type": "code",
   "execution_count": null,
   "metadata": {
    "scrolled": false
   },
   "outputs": [],
   "source": [
    "test_Thermodynamic(mu=5, dmu=.5, k_c=200, q=2.0, dq=1.0, dim=1, delta0=1)"
   ]
  },
  {
   "cell_type": "code",
   "execution_count": null,
   "metadata": {},
   "outputs": [],
   "source": [
    "test_Thermodynamic(mu=5, dmu=.5, k_c=200, q=1.0, dq=1.0, dim=1, delta0=1)"
   ]
  },
  {
   "cell_type": "markdown",
   "metadata": {},
   "source": [
    "## Poor accurary for  $\\mu_+=\\frac{\\partial E}{\\partial n_+}$"
   ]
  },
  {
   "cell_type": "code",
   "execution_count": null,
   "metadata": {},
   "outputs": [],
   "source": [
    "homogeneous_Density(mu=5, dmu=2.5, delta=5, dim=1)"
   ]
  },
  {
   "cell_type": "code",
   "execution_count": null,
   "metadata": {
    "scrolled": false
   },
   "outputs": [],
   "source": [
    "test_Thermodynamic(mu=5, dmu=2.5, k_c=100, q=0, dq=0, dim=1, delta0=1)"
   ]
  },
  {
   "cell_type": "code",
   "execution_count": null,
   "metadata": {},
   "outputs": [],
   "source": [
    "test_Thermodynamic(mu=5, dmu=2.5, k_c=500, q=0, dq=0, dim=1, delta0=5)"
   ]
  },
  {
   "cell_type": "markdown",
   "metadata": {},
   "source": [
    "### $q$ and $dq$ do change the density"
   ]
  },
  {
   "cell_type": "code",
   "execution_count": null,
   "metadata": {},
   "outputs": [],
   "source": [
    "test_Thermodynamic(mu=5, dmu=2.5, k_c=100, q=.5, dq=1.0, dim=1, delta0=1)"
   ]
  },
  {
   "cell_type": "markdown",
   "metadata": {},
   "source": [
    "# 2D Cases"
   ]
  },
  {
   "cell_type": "code",
   "execution_count": null,
   "metadata": {},
   "outputs": [],
   "source": [
    "homogeneous_Density(mu=5, dmu=0.64, delta=1, dim=2)"
   ]
  },
  {
   "cell_type": "markdown",
   "metadata": {},
   "source": [
    "### Good accuracy"
   ]
  },
  {
   "cell_type": "code",
   "execution_count": null,
   "metadata": {},
   "outputs": [],
   "source": [
    "test_Thermodynamic(mu=10, dmu=0.64, dim=2, q=0, dq=0, delta0=1, k_c=200)"
   ]
  },
  {
   "cell_type": "markdown",
   "metadata": {},
   "source": [
    "### A local maximum in pressure with $dq \\ne 0$"
   ]
  },
  {
   "cell_type": "code",
   "execution_count": null,
   "metadata": {},
   "outputs": [],
   "source": [
    "qs = [0.5]#np.linspace(0,3,4) # q does not change the pressure, you may use q = 1.5 or other values \n",
    "dq0 = 7.856742013183863e-5\n",
    "mu=0.5\n",
    "dmu = 0.00039283710065919316\n",
    "delta = 0.0007071067811865476\n",
    "for q in qs:\n",
    "    dqs = np.linspace(2,7,10)*dq0\n",
    "    ff = FFState(mu=mu, dmu=dmu, d=2, delta=delta, k_c=500)\n",
    "    ps = [ff.get_pressure(mu=mu, dmu=dmu,q = q, dq=dq).n for dq in dqs]\n",
    "    clear_output()\n",
    "    plt.plot(dqs * 1000, ps)"
   ]
  },
  {
   "cell_type": "markdown",
   "metadata": {},
   "source": [
    "# 3D Cases:\n",
    "* the 3D cases are very sensitive to the cutoff k_c"
   ]
  },
  {
   "cell_type": "markdown",
   "metadata": {},
   "source": [
    "### homogeneous density"
   ]
  },
  {
   "cell_type": "code",
   "execution_count": null,
   "metadata": {
    "scrolled": false
   },
   "outputs": [],
   "source": [
    "homogeneous_Density(mu=5, dmu=0.64, delta=1, dim=3)"
   ]
  },
  {
   "cell_type": "markdown",
   "metadata": {},
   "source": [
    "### Good accuracy"
   ]
  },
  {
   "cell_type": "code",
   "execution_count": null,
   "metadata": {},
   "outputs": [],
   "source": [
    "test_Thermodynamic(mu = 5, dmu = 0.64, dim = 3, k_c = 250, q = 0, dq = 0)"
   ]
  },
  {
   "cell_type": "markdown",
   "metadata": {},
   "source": [
    "### Poor density accurary"
   ]
  },
  {
   "cell_type": "code",
   "execution_count": null,
   "metadata": {},
   "outputs": [],
   "source": [
    "test_Thermodynamic(mu = 5, dmu = 0.64, dim = 3, k_c = 500, q = 0, dq = 0)"
   ]
  },
  {
   "cell_type": "code",
   "execution_count": null,
   "metadata": {},
   "outputs": [],
   "source": []
  }
 ],
 "metadata": {
  "kernelspec": {
   "display_name": "Python 3",
   "language": "python",
   "name": "python3"
  },
  "language_info": {
   "codemirror_mode": {
    "name": "ipython",
    "version": 3
   },
   "file_extension": ".py",
   "mimetype": "text/x-python",
   "name": "python",
   "nbconvert_exporter": "python",
   "pygments_lexer": "ipython3",
   "version": "3.7.2"
  }
 },
 "nbformat": 4,
 "nbformat_minor": 2
}
