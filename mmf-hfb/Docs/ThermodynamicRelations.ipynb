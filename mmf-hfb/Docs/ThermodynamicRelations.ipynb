{
 "cells": [
  {
   "cell_type": "markdown",
   "metadata": {},
   "source": [
    "# Thermodynamic Relations"
   ]
  },
  {
   "cell_type": "code",
   "execution_count": null,
   "metadata": {},
   "outputs": [],
   "source": [
    "import mmf_setup;mmf_setup.nbinit()\n",
    "%pylab inline --no-import-all\n",
    "from nbimports import * \n",
    "from mmf_hfb import tf_completion as tf\n",
    "from mmf_hfb.FuldeFerrelState import FFState\n",
    "import itertools\n",
    "from mmfutils.plot import imcontourf\n",
    "tf.MAX_DIVISION = 200\n",
    "clear_output()"
   ]
  },
  {
   "cell_type": "markdown",
   "metadata": {},
   "source": [
    "## 1D Example(Not Ground State)"
   ]
  },
  {
   "cell_type": "code",
   "execution_count": null,
   "metadata": {},
   "outputs": [],
   "source": [
    "def case_1d():\n",
    "    plt.figure(figsize(10,5))\n",
    "    mu = 5\n",
    "    dmu = 3\n",
    "    delta = 2\n",
    "    k_c = 200\n",
    "    dim = 1\n",
    "    q=1\n",
    "    dqs = np.linspace(0., 3, 40)*q\n",
    "    ff = FFState(mu=mu, dmu=dmu, delta=delta, dim=dim, k_c=k_c,fix_g=True)\n",
    "    states =[ff.check_superfluidity(mu=mu, dmu=dmu, q=q, dq=dq) for dq in dqs]\n",
    "    ps =[ff.get_pressure(mu=mu, dmu=dmu, q=q, dq=dq).n for dq in dqs]\n",
    "    plt.subplot(211)\n",
    "    plt.plot(dqs, states,'-', label='States')\n",
    "    plt.legend()\n",
    "    plt.title(f'$\\mu=${mu},d$\\mu$={dmu}, $\\Delta$={delta}, q={q}', fontsize=16)\n",
    "    plt.subplot(212)\n",
    "    plt.plot(dqs, ps, 'o', label='SF Pressure')\n",
    "    ps =[ff.get_pressure(mu=mu, dmu=dmu, q=q, delta=0, dq=dq).n for dq in dqs] # normal states\n",
    "    plt.plot(dqs, ps,'--', label='NS Pressure')\n",
    "    plt.axvline(q)  \n",
    "    plt.xlabel(f'$\\delta q$', fontsize=16)\n",
    "    plt.legend()\n",
    "    na, nb = ff.get_densities(mu=mu, dmu=dmu, q=q, dq=1.4)\n",
    "    return (na.n, nb.n)                              "
   ]
  },
  {
   "cell_type": "code",
   "execution_count": null,
   "metadata": {
    "scrolled": false
   },
   "outputs": [],
   "source": [
    "na,nb=case_1d()"
   ]
  },
  {
   "cell_type": "code",
   "execution_count": null,
   "metadata": {},
   "outputs": [],
   "source": [
    "na, nb"
   ]
  },
  {
   "cell_type": "code",
   "execution_count": null,
   "metadata": {},
   "outputs": [],
   "source": [
    "dq=1.5\n",
    "na * (1+ dq) + nb * (1 - dq)"
   ]
  },
  {
   "cell_type": "code",
   "execution_count": null,
   "metadata": {},
   "outputs": [],
   "source": [
    "def case_1d_spectrum(mu=5, dmu=3, delta=2, q=1, L=0, R=6, qN=10, dqN=40):\n",
    "    k_c = 200\n",
    "    dim = 1\n",
    "    qs= np.linspace(0,1,qN) * q\n",
    "    dqs = np.linspace(L, R, dqN) \n",
    "  \n",
    "    ff = FFState(mu=mu, dmu=dmu, delta=delta, dim=dim, k_c=k_c,fix_g=True)\n",
    "    \n",
    "    def get_state(q, dq):\n",
    "        dq = dq * q\n",
    "        return ff.check_superfluidity(mu=mu, dmu=dmu, q=q, dq=dq)\n",
    "    def get_press(q, dq, d=None):\n",
    "        dq = dq * q\n",
    "        return ff.get_pressure(mu=mu, dmu=dmu, delta=d, q=q, dq=dq).n\n",
    "    def reshape(x):\n",
    "        return np.array(x).reshape(qN, dqN)\n",
    "    ss = []\n",
    "    ps = []\n",
    "    pn = []\n",
    "    for q in qs:\n",
    "        for dq in dqs:\n",
    "            ss.append(get_state(q, dq))\n",
    "            ps.append(get_press(q, dq))\n",
    "            pn.append(get_press(q, dq, d=0))\n",
    "                      \n",
    "    return (qs, dqs, reshape(ss), reshape(ps), reshape(pn))"
   ]
  },
  {
   "cell_type": "code",
   "execution_count": null,
   "metadata": {},
   "outputs": [],
   "source": [
    "qs, dqs, ss, ps, pn = case_1d_spectrum(mu=5, dmu=1.55, delta=2, q=1, N=8, qN=10, dqN=30)"
   ]
  },
  {
   "cell_type": "code",
   "execution_count": null,
   "metadata": {},
   "outputs": [],
   "source": [
    "plt.figure(figsize=(15,5))\n",
    "plt.subplot(131)\n",
    "imcontourf(dqs, qs, ss.T)\n",
    "plt.subplot(132)\n",
    "imcontourf(dqs, qs, ps.T)\n",
    "plt.colorbar()\n",
    "plt.subplot(133)\n",
    "imcontourf(dqs, qs, pn.T)\n",
    "plt.colorbar()"
   ]
  },
  {
   "cell_type": "code",
   "execution_count": null,
   "metadata": {},
   "outputs": [],
   "source": [
    "ret1 = case_1d_spectrum(mu=5, dmu=1.95, delta=2, q=1, N=8, qN=10, dqN=30)"
   ]
  },
  {
   "cell_type": "code",
   "execution_count": null,
   "metadata": {},
   "outputs": [],
   "source": [
    "def plots(ret):\n",
    "    qs, dqs, ss, ps, pn  = ret\n",
    "    plt.figure(figsize=(15,5))\n",
    "    plt.subplot(131)\n",
    "    imcontourf(dqs, qs, ss.T)\n",
    "    plt.subplot(132)\n",
    "    imcontourf(dqs, qs, ps.T)\n",
    "    plt.colorbar()\n",
    "    plt.subplot(133)\n",
    "    imcontourf(dqs, qs, pn.T)\n",
    "    plt.colorbar()"
   ]
  },
  {
   "cell_type": "code",
   "execution_count": null,
   "metadata": {},
   "outputs": [],
   "source": [
    "plots(ret1)"
   ]
  },
  {
   "cell_type": "code",
   "execution_count": null,
   "metadata": {},
   "outputs": [],
   "source": [
    "ret2 = case_1d_spectrum(mu=5, dmu=3, delta=2, q=1, L=-3, R=3, qN=10, dqN=30)"
   ]
  },
  {
   "cell_type": "code",
   "execution_count": null,
   "metadata": {
    "scrolled": true
   },
   "outputs": [],
   "source": [
    "plots(ret2)"
   ]
  },
  {
   "cell_type": "code",
   "execution_count": null,
   "metadata": {},
   "outputs": [],
   "source": [
    "ret3 = case_1d_spectrum(mu=5, dmu=3, delta=2, q=1.2, N=8, qN=10, dqN=30)"
   ]
  },
  {
   "cell_type": "markdown",
   "metadata": {},
   "source": [
    "\\begin{align}\n",
    "k_a &= k + q + dq, \\qquad k_b = k+q - dq ,\\qquad\n",
    "\\epsilon_a = \\frac{\\hbar^2}{2m}k_a^2 - \\mu_a, \\qquad \\epsilon_b = \\frac{\\hbar^2}{2m}k_b^2 - \\mu_b,\\\\\n",
    "E&=\\sqrt{\\epsilon_+^2+\\abs{\\Delta}^2},\\qquad \\omega_+= \\epsilon_-+E, \\qquad \\omega_- = \\epsilon_- - E\\\\\n",
    "\\epsilon_+&= \\frac{\\hbar^2}{4m}(k_a^2+k_b^2) - \\mu_+= \\frac{\\hbar^2}{2m}\\left[(k+q)^2 + dq^2\\right] - \\mu_+\\\\\n",
    "\\epsilon_-&= \\frac{\\hbar^2}{4m}(k_a^2-k_b^2) - \\mu_-=\\frac{\\hbar^2}{m}(k +q)dq - \\mu_-\\tag{1}\\\\\n",
    "\\end{align}"
   ]
  },
  {
   "cell_type": "markdown",
   "metadata": {},
   "source": [
    "# Analytical Results for Free Fermi Gas\n",
    "* Check numerical results against analytical derivaions,[ECE 407 Farhan Rana]\n",
    "[ECE 407 Farhan Rana]: https://courses.cit.cornell.edu/mse5470/handout3.pdf 'Farhan Rana \"Free Electron Gas in 2D and 1D\"'"
   ]
  },
  {
   "cell_type": "markdown",
   "metadata": {},
   "source": [
    "### Energy Density for 1D free Fermi Gas($\\Delta=0$)\n",
    "$$\n",
    "\\mathcal{E}=\\frac{\\sqrt{2m}}{\\pi\\hbar}\\frac{E_F^{3/2}}{3}\\qquad n=\\frac{\\sqrt{2mE_F}}{\\pi \\hbar}\\tag{2}\n",
    "$$\n",
    "Since there are two components, then the overall energy density\n",
    "\\begin{align}\n",
    "\\mathcal{E}\n",
    "&=\\frac{\\sqrt{2m}}{\\pi\\hbar}\\frac{\\mu_a^{3/2}+\\mu_b^{3/2}}{3}=\\frac{\\sqrt{2m}}{\\pi\\hbar}\\frac{(\\mu+d\\mu)^{3/2}+(\\mu-d\\mu)^{3/2}}{3}\n",
    "\\end{align}"
   ]
  },
  {
   "cell_type": "markdown",
   "metadata": {},
   "source": [
    "### Energy Density for 2D free Fermi Gas($\\Delta=0$)\n",
    "For single component\n",
    "$$\n",
    "\\mathcal{E}=\\frac{m}{4\\pi\\hbar^2}E_F^2,\\qquad n=\\frac{m}{2\\pi\\hbar^2}E_F, \\qquad \\mathcal{E}=\\frac{1}{2}nE_F\\tag{3}\n",
    "$$\n",
    "\n",
    "Since there are two components, then the overall energy density\n",
    "\\begin{align}\n",
    "\\mathcal{E}\n",
    "&=\\frac{m}{4\\pi\\hbar^2}(\\mu_a^2+\\mu_b^2)=\\frac{m}{4\\pi\\hbar^2}\\left((\\mu+d\\mu)^2+(\\mu-d\\mu)^2\\right)\\\\\n",
    "\\end{align}"
   ]
  },
  {
   "cell_type": "markdown",
   "metadata": {},
   "source": [
    "### Energy Density for 3D free Fermi Gas($\\Delta=0$)\n",
    "For single component\n",
    "$$\n",
    "\\mathcal{E}=\\frac{\\hbar^2}{10m\\pi^2}k_F^5=\\frac{1}{10\\pi^2}\\frac{(2m)^{3/2}}{\\hbar^3}E_F^{5/2}, \\qquad n=\\frac{k_F^3}{3\\pi^2}=\\frac{1}{3\\pi^2}\\frac{(2m)^{3/2}}{\\hbar^3}E_F^{3/2}\\tag{4}\n",
    "$$\n",
    "Since there are two components, then the overall energy density\n",
    "\\begin{align}\n",
    "\\mathcal{E}\n",
    "&=\\frac{1}{10\\pi^2}\\frac{(2m)^{3/2}}{\\hbar^3}(\\mu_a^{5/2}+\\mu_b^{5/2})=\\frac{1}{10\\pi^2}\\frac{(2m)^{3/2}}{\\hbar^3}\\left((\\mu+d\\mu)^{5/2}+(\\mu+d\\mu)^{5/2}\\right)\\\\\n",
    "\\end{align}"
   ]
  },
  {
   "cell_type": "markdown",
   "metadata": {},
   "source": [
    "\\begin{align}\n",
    "\\frac{d E}{d n}\n",
    "&=\\frac{d E(n_a, n_b)}{d n}\\\\\n",
    "&=\\frac{\\partial E(n_a, n_b)}{\\partial n_a}\\frac{\\partial n_a}{\\partial n}+\\frac{\\partial E(n_a, n_b)}{\\partial n_b}\\frac{\\partial n_b}{\\partial n}\\\\\n",
    "&=\\frac{1}{2}\\left[\\frac{\\partial E(n_a, n_b)}{\\partial n_a}+\\frac{\\partial E(n_a, n_b)}{\\partial n_b}\\right]\\\\\n",
    "&=\\frac{\\mu_a + \\mu_b}{2}=\\mu\\tag{6}\n",
    "\\end{align}\n",
    "* Since $n=n_+=n_a + n_b$, $n_-=n_a - n_b$, so $n_a = (n_++n_-)/2$, $n_b = (n_+-n_-)/2$, then $\\frac{\\partial n_a}{\\partial n_+}=1/2$"
   ]
  },
  {
   "cell_type": "markdown",
   "metadata": {},
   "source": [
    "# Conditions for FF State\n",
    "* Thermodymamcally, for given $\\mu$,$d\\mu$, the pressure should be maximized with respect to $q$ and $dq$\n",
    "* $dq>q$, and dq can be many times of q, which means 2q is the speed difference\n",
    "* $dq=\\frac{n_+}{n_-}$, smaller density difference means bigger dq, or small q will give better chance to find a FF State"
   ]
  },
  {
   "cell_type": "code",
   "execution_count": null,
   "metadata": {},
   "outputs": [],
   "source": [
    "mu = 5\n",
    "dmu = 1\n",
    "delta = 0.5\n",
    "k_c = 200\n",
    "dim = 1\n",
    "if dim == 3:\n",
    "    k_c = 50"
   ]
  },
  {
   "cell_type": "code",
   "execution_count": null,
   "metadata": {},
   "outputs": [],
   "source": [
    "ff = FFState(mu=mu, dmu=dmu, delta=delta, dim=dim, k_c=k_c,fix_g=True)\n",
    "ff.bSuperfluidity"
   ]
  },
  {
   "cell_type": "code",
   "execution_count": null,
   "metadata": {
    "scrolled": false
   },
   "outputs": [],
   "source": [
    "dmus = np.linspace(0.7,1.6,15)\n",
    "bSuperfluidities = [ff.check_superfluidity(mu=mu, dmu=dmu, q=0, dq=0) for dmu in  dmus]\n",
    "plt.plot(dmus, bSuperfluidities)\n",
    "if dim==1:\n",
    "    min_dmu = 1.0\n",
    "    max_dmu= 1.15\n",
    "elif dim == 2:\n",
    "    min_dmu=2.7\n",
    "    max_dmu=4.1\n",
    "plt.axvline(min_dmu)\n",
    "plt.axvline(max_dmu)\n",
    "ff.check_superfluidity(mu=mu, dmu=max_dmu, q=0, dq=0)"
   ]
  },
  {
   "cell_type": "code",
   "execution_count": null,
   "metadata": {},
   "outputs": [],
   "source": [
    "dmu=.95\n",
    "ff.get_densities(mu=mu, dmu=dmu), ff.check_superfluidity(mu=mu, dmu=dmu)"
   ]
  },
  {
   "cell_type": "code",
   "execution_count": null,
   "metadata": {},
   "outputs": [],
   "source": [
    "ff.isFFS(mu=mu, dmu=dmu)"
   ]
  },
  {
   "cell_type": "code",
   "execution_count": null,
   "metadata": {},
   "outputs": [],
   "source": [
    "dmus = np.linspace(min_dmu, max_dmu, 10)\n",
    "dmu_qs = []"
   ]
  },
  {
   "cell_type": "code",
   "execution_count": null,
   "metadata": {},
   "outputs": [],
   "source": [
    "qs = np.linspace(0, 5, 100)\n",
    "for dmu in dmus:\n",
    "    max_q = 0\n",
    "    for q in reversed(qs):\n",
    "        if ff.check_superfluidity(mu=mu, dmu=dmu, q=q * dmu, dq=0):\n",
    "            max_q = q * dmu\n",
    "            break\n",
    "    print(dmu, max_q)\n",
    "    dmu_qs.append((dmu, max_q))"
   ]
  },
  {
   "cell_type": "code",
   "execution_count": null,
   "metadata": {},
   "outputs": [],
   "source": [
    "ff.check_superfluidity(mu=mu, dmu=2.91222222222222222, q=.7, dq=.01)"
   ]
  },
  {
   "cell_type": "code",
   "execution_count": null,
   "metadata": {
    "scrolled": false
   },
   "outputs": [],
   "source": [
    "id=0\n",
    "plt.figure(figsize=(20,15))\n",
    "for dmu_q in dmu_qs:\n",
    "    id=id+1\n",
    "    plt.subplot(3,4,id)\n",
    "    dmu, q_max = dmu_q\n",
    "    q = q_max * 1\n",
    "    dqs = np.linspace(0, 2, 20)*q\n",
    "    flags =[ff.check_superfluidity(mu=mu, dmu=dmu, q=q, dq=dq) for dq in dqs]\n",
    "    ps =[ff.get_pressure(mu=mu, dmu=3, q=q, dq=dq).n for dq in dqs]\n",
    "    plt.plot(dqs, flags)\n",
    "    plt.plot(dqs, ps)\n",
    "    plt.axvline(q)\n",
    "    plt.title(f\"$d\\mu$={dmu:4.4},q={q:4.4}\")"
   ]
  },
  {
   "cell_type": "code",
   "execution_count": null,
   "metadata": {
    "scrolled": true
   },
   "outputs": [],
   "source": [
    "ff.bSuperfluidity,ff.bStateSentinel"
   ]
  },
  {
   "cell_type": "markdown",
   "metadata": {},
   "source": [
    "# Search for FF States"
   ]
  },
  {
   "cell_type": "code",
   "execution_count": null,
   "metadata": {
    "scrolled": false
   },
   "outputs": [],
   "source": [
    "ff.bStateSentinel=True\n",
    "ff.bPolorized = True\n",
    "for dmu_q in reversed(dmu_qs):\n",
    "    dmu, max_q = dmu_q\n",
    "    print(dmu_q)\n",
    "    qs = np.linspace(0.001, max_q, 20)\n",
    "    dqs = np.linspace(1.001, 2, 10)\n",
    "    for q in qs:\n",
    "        print(f\"dmu={dmu},q={q}\")\n",
    "        ps = []\n",
    "        for dq_ in dqs:\n",
    "            try:\n",
    "                dq = dq_ * q\n",
    "                press = ff.get_pressure(mu=mu, dmu=dmu, q=q, dq=dq)\n",
    "                ps.append(press.n)\n",
    "            except:\n",
    "                # print(f\"dmu={dmu},q={q},dq={dq}\")\n",
    "                # if len(ps) > 1 and ps[1]>ps[0]:\n",
    "                #       print(q,dq, dmu, ps)\n",
    "                continue\n",
    "        print(ps)\n",
    "        for i in range(1, len(ps) - 1):\n",
    "            if ps[i]>= ps[i-1]:\n",
    "                print(f\"FF State: dmu={dmu}, q={q}, dq={dq}\")\n",
    "                break"
   ]
  },
  {
   "cell_type": "markdown",
   "metadata": {},
   "source": [
    "# A specific point"
   ]
  },
  {
   "cell_type": "code",
   "execution_count": null,
   "metadata": {
    "lines_to_next_cell": 0,
    "scrolled": true
   },
   "outputs": [],
   "source": [
    "dmu=1.3777777777777778\n",
    "q=6.888888888888889\n",
    "dq=0.8888888888888888\n",
    "dqs = np.linspace(0, 2 * dq, 10) \n",
    "ps = []\n",
    "for dq in dqs:\n",
    "    try:\n",
    "        ps.append(ff.get_pressure(mu=mu, dmu=dmu, q=q, dq=dq).n)\n",
    "    except:\n",
    "        break\n",
    "\n",
    "plt.plot(dqs[:len(ps)], ps)"
   ]
  },
  {
   "cell_type": "code",
   "execution_count": null,
   "metadata": {
    "lines_to_next_cell": 2
   },
   "outputs": [],
   "source": []
  }
 ],
 "metadata": {
  "jupytext": {
   "formats": "ipynb,py:light"
  },
  "kernelspec": {
   "display_name": "Python 3",
   "language": "python",
   "name": "python3"
  },
  "language_info": {
   "codemirror_mode": {
    "name": "ipython",
    "version": 3
   },
   "file_extension": ".py",
   "mimetype": "text/x-python",
   "name": "python",
   "nbconvert_exporter": "python",
   "pygments_lexer": "ipython3",
   "version": "3.7.2"
  }
 },
 "nbformat": 4,
 "nbformat_minor": 2
}
