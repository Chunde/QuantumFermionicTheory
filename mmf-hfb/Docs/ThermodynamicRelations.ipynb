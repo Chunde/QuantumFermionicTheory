{
 "cells": [
  {
   "cell_type": "markdown",
   "metadata": {},
   "source": [
    "# Thermodynamic Relations"
   ]
  },
  {
   "cell_type": "code",
   "execution_count": null,
   "metadata": {},
   "outputs": [],
   "source": [
    "import mmf_setup;mmf_setup.nbinit()\n",
    "%pylab inline --no-import-all\n",
    "from nbimports import * \n",
    "from mmf_hfb import tf_completion as tf\n",
    "from mmf_hfb.FuldeFerrelState import FFState\n",
    "from mmf_hfb import homogeneous\n",
    "import itertools\n",
    "import sys\n",
    "import os\n",
    "import inspect\n",
    "from os.path import join\n",
    "import json\n",
    "from json import dumps\n",
    "import re\n",
    "tf.MAX_DIVISION = 200\n",
    "clear_output()"
   ]
  },
  {
   "cell_type": "markdown",
   "metadata": {},
   "source": [
    "\\begin{align}\n",
    "k_a &= k + q + dq, \\qquad k_b = k+q - dq ,\\qquad\n",
    "\\epsilon_a = \\frac{\\hbar^2}{2m}k_a^2 - \\mu_a, \\qquad \\epsilon_b = \\frac{\\hbar^2}{2m}k_b^2 - \\mu_b,\\\\\n",
    "E&=\\sqrt{\\epsilon_+^2+\\abs{\\Delta}^2},\\qquad \\omega_+= \\epsilon_-+E, \\qquad \\omega_- = \\epsilon_- - E\\\\\n",
    "\\epsilon_+&= \\frac{\\hbar^2}{4m}(k_a^2+k_b^2) - \\mu_+= \\frac{\\hbar^2}{2m}\\left[(k+q)^2 + dq^2\\right] - \\mu_+\\\\\n",
    "\\epsilon_-&= \\frac{\\hbar^2}{4m}(k_a^2-k_b^2) - \\mu_-=\\frac{\\hbar^2}{m}(k +q)dq - \\mu_-\\tag{1}\\\\\n",
    "\\end{align}"
   ]
  },
  {
   "cell_type": "markdown",
   "metadata": {},
   "source": [
    "# Analytical Results for Free Fermi Gas\n",
    "* Check numerical results against analytical derivaions,[ECE 407 Farhan Rana]\n",
    "[ECE 407 Farhan Rana]: https://courses.cit.cornell.edu/mse5470/handout3.pdf 'Farhan Rana \"Free Electron Gas in 2D and 1D\"'"
   ]
  },
  {
   "cell_type": "markdown",
   "metadata": {},
   "source": [
    "### Energy Density for 1D free Fermi Gas($\\Delta=0$)\n",
    "$$\n",
    "\\mathcal{E}=\\frac{\\sqrt{2m}}{\\pi\\hbar}\\frac{E_F^{3/2}}{3}\\qquad n=\\frac{\\sqrt{2mE_F}}{\\pi \\hbar}\\\\\n",
    "\\frac{\\partial E}{\\partial n}=\\frac{\\partial E}{\\partial E_F}/\\frac{\\partial n}{\\partial E_F}=\\mu\\tag{2}\n",
    "$$\n",
    "Since there are two components, then the overall energy density\n",
    "\\begin{align}\n",
    "\\mathcal{E}\n",
    "&=\\frac{\\sqrt{2m}}{\\pi\\hbar}\\frac{\\mu_a^{3/2}+\\mu_b^{3/2}}{3}=\\frac{\\sqrt{2m}}{\\pi\\hbar}\\frac{(\\mu+d\\mu)^{3/2}+(\\mu-d\\mu)^{3/2}}{3}\n",
    "\\end{align}"
   ]
  },
  {
   "cell_type": "markdown",
   "metadata": {},
   "source": [
    "### Energy Density for 2D free Fermi Gas($\\Delta=0$)\n",
    "For single component\n",
    "$$\n",
    "\\mathcal{E}=\\frac{m}{4\\pi\\hbar^2}E_F^2,\\qquad n=\\frac{m}{2\\pi\\hbar^2}E_F, \\qquad \\mathcal{E}=\\frac{1}{2}nE_F\\\\\n",
    "\\frac{\\partial E}{\\partial n}=\\frac{\\partial E}{\\partial E_F}/\\frac{\\partial n}{\\partial E_F}=E_F=\\mu\\tag{3}\n",
    "$$\n",
    "\n",
    "Since there are two components, then the overall energy density\n",
    "\\begin{align}\n",
    "\\mathcal{E}\n",
    "&=\\frac{m}{4\\pi\\hbar^2}(\\mu_a^2+\\mu_b^2)=\\frac{m}{4\\pi\\hbar^2}\\left((\\mu+d\\mu)^2+(\\mu-d\\mu)^2\\right)\\\\\n",
    "\\end{align}"
   ]
  },
  {
   "cell_type": "markdown",
   "metadata": {},
   "source": [
    "### Energy Density for 3D free Fermi Gas($\\Delta=0$)\n",
    "For single component\n",
    "$$\n",
    "\\mathcal{E}=\\frac{\\hbar^2}{10m\\pi^2}k_F^5=\\frac{1}{10\\pi^2}\\frac{(2m)^{3/2}}{\\hbar^3}E_F^{5/2}, \\qquad n=\\frac{k_F^3}{3\\pi^2}=\\frac{1}{3\\pi^2}\\frac{(2m)^{3/2}}{\\hbar^3}E_F^{3/2}\\\\\n",
    "\\frac{\\partial E}{\\partial n}=\\frac{\\partial E}{\\partial E_F}/\\frac{\\partial n}{\\partial E_F}=E_F=\\mu \\tag{4}\n",
    "$$\n",
    "Since there are two components, then the overall energy density\n",
    "\\begin{align}\n",
    "\\mathcal{E}\n",
    "&=\\frac{1}{10\\pi^2}\\frac{(2m)^{3/2}}{\\hbar^3}(\\mu_a^{5/2}+\\mu_b^{5/2})=\\frac{1}{10\\pi^2}\\frac{(2m)^{3/2}}{\\hbar^3}\\left((\\mu+d\\mu)^{5/2}+(\\mu+d\\mu)^{5/2}\\right)\\\\\n",
    "\\end{align}"
   ]
  },
  {
   "cell_type": "markdown",
   "metadata": {},
   "source": [
    "# On the relation $\\frac{\\partial \\mathcal{E}}{\\partial n}$:\n",
    "* As we can see from the analytical formulas, both the particle density and energy density are power functions of the Fermi Energy at T=0.\n",
    "* Let $\\mathcal{E}=E(\\mu)$ and $n=n(\\mu)$\n",
    "\n",
    "$$\n",
    "\\frac{\\partial E}{\\partial n}=\\frac{\\partial E}{\\partial \\mu}/ \\frac{\\partial n}{\\partial \\mu}\n",
    "$$\n",
    "* It should be clear that the $\\frac{\\partial E}{\\partial n}$ is a function of $\\mu$ too, for one component, it almost always equal to $\\mu$"
   ]
  },
  {
   "cell_type": "markdown",
   "metadata": {},
   "source": [
    "## Two components\n",
    "* For Free Fermi Gas, each component's energy density and particle density only depend on its chemical potential, not depend on the chemical potential of another component.\n",
    "* The energy density of any component can be either expressed as: $\\mathcal{E_{a/b}}=\\mathcal{E_{a/b}(\\mu_{a/b})}$, or $\\mathcal{E_{a/b}}=\\mathcal{E_{a/b}(n_{a/b})}$\n",
    "\n",
    "\n",
    "\\begin{align}\n",
    "\\frac{dE}{dn}\n",
    "&=\\frac{\\frac{\\partial E}{\\partial \\mu}d\\mu+\\frac{\\partial E}{\\partial \\delta\\mu}d\\delta\\mu}{\\frac{\\partial n}{\\partial \\mu}d\\mu+\\frac{\\partial n}{\\partial \\delta\\mu}d\\delta\\mu}\n",
    "=\\frac{\\frac{\\partial E}{\\partial \\mu}d\\mu}{\\frac{\\partial n}{\\partial \\mu}d\\mu}\\\\\n",
    "&=\\frac{\\frac{\\partial E_a}{\\partial \\mu}+\\frac{\\partial E_b}{\\partial \\mu}}{\\frac{\\partial n_a}{\\partial \\mu}+\\frac{\\partial n_b}{\\partial \\mu}}\\\\\n",
    "&=\\frac{\\frac{\\partial E_a}{\\partial n_a}\\frac{\\partial n_a}{\\partial \\mu}+\\frac{\\partial E_b}{\\partial n_b}\\frac{\\partial n_b}{\\partial \\mu}}{\\frac{\\partial n_a}{\\partial \\mu}+\\frac{\\partial n_b}{\\partial \\mu}}\\\\\n",
    "&=\\frac{\\mu_a\\frac{\\partial n_a}{\\partial \\mu}+\\mu_b\\frac{\\partial n_b}{\\partial \\mu}}{\\frac{\\partial n_a}{\\partial \\mu}+\\frac{\\partial n_b}{\\partial \\mu}}\\\\\\tag{5}\n",
    "\\end{align}"
   ]
  },
  {
   "cell_type": "markdown",
   "metadata": {},
   "source": [
    "* In general $\\frac{\\partial n_a}{\\partial \\mu}\\ne\\frac{\\partial n_b}{\\partial \\mu}$, because  with the chain rule, $\\mu_a = \\mu + d\\mu$:\n",
    "$$\n",
    "\\frac{\\partial n_a}{\\partial \\mu}=\\frac{\\partial n_a}{\\partial \\mu_a}\\frac{\\partial \\mu_a}{\\partial \\mu}=\\frac{\\partial n_a}{\\partial \\mu_a}\\ne \\frac{\\partial n_b}{\\partial \\mu}\n",
    "$$\n",
    "* The LHS and RHS of the above relation will be evaluated at $\\mu_a$ and $\\mu_b$, which are in general different, unless $d\\mu = 0$, where $\\mu_a=\\mu_b$.\n",
    "* Only in the 2d cause,  $\\frac{\\partial n_a}{\\partial \\mu}=const$(see. Eq. (3))\n",
    "* For 1d and 3d,  $\\frac{\\partial n_a}{\\partial \\mu} \\ne const$ (see. Eq. (4-5)), this explains why for 1d and 3d, the bare total chemical potential is not equal to $\\mu$."
   ]
  },
  {
   "cell_type": "markdown",
   "metadata": {},
   "source": [
    "## Another Argument"
   ]
  },
  {
   "cell_type": "markdown",
   "metadata": {},
   "source": [
    "\\begin{align}\n",
    "\\frac{d E}{d n}\n",
    "&=\\frac{d E(n_a, n_b)}{d n}\\\\\n",
    "&=\\frac{\\partial E(n_a, n_b)}{\\partial n_a}\\frac{\\partial n_a}{\\partial n}+\\frac{\\partial E(n_a, n_b)}{\\partial n_b}\\frac{\\partial n_b}{\\partial n}\\\\\n",
    "&=\\frac{1}{2}\\left[\\frac{\\partial E(n_a, n_b)}{\\partial n_a}+\\frac{\\partial E(n_a, n_b)}{\\partial n_b}\\right]\\\\\n",
    "&=\\frac{\\mu_a + \\mu_b}{2}=\\mu\\tag{6}\n",
    "\\end{align}\n",
    "* Since $n=n_+=n_a + n_b$, $n_-=n_a - n_b$, so $n_a = (n_++n_-)/2$, $n_b = (n_+-n_-)/2$, then $\\frac{\\partial n_a}{\\partial n_+}=1/2$"
   ]
  },
  {
   "cell_type": "markdown",
   "metadata": {},
   "source": [
    "## 1d Example\n",
    "* Using 1d formula, let us check which argument is right.\n",
    "* $$\\mathcal{E}=\\frac{\\sqrt{2m}}{\\pi\\hbar}\\frac{\\mu^{3/2}}{3}\\qquad n=\\frac{\\sqrt{2m\\mu}}{\\pi \\hbar}\\qquad \\mu=\\frac{(\\pi\\hbar n)^2}{2m}$$"
   ]
  },
  {
   "cell_type": "markdown",
   "metadata": {},
   "source": [
    "* Rewrite $\\mathcal{E}$ as a function of n:\n",
    "$$\n",
    "\\mathcal{E}(n) = \\frac{\\pi^2\\hbar^2}{6m}n^3\n",
    "$$\n",
    "* For two component Free Fermi Gas:\n",
    "$$\n",
    "\\mathcal{E}(n_a, n_b) = \\frac{\\pi^2\\hbar^2}{6m}(n_a^3 + n_b^3)\\\\\n",
    "n_b=\\frac{\\sqrt{2m\\mu_a}}{\\pi \\hbar}\\qquad n_a=\\frac{\\sqrt{2m\\mu_b}}{\\pi \\hbar}\n",
    "$$\n",
    "* Check the one component relations:\n",
    "$$\n",
    "\\frac{\\partial \\mathcal{E}(n_a, n_b)}{\\partial n_a} = \\frac{(\\pi\\hbar n_a)^2}{2m} = \\mu_a=\\mu + \\delta\\mu\\\\\n",
    "\\frac{\\partial \\mathcal{E}(n_a, n_b)}{\\partial n_a} = \\frac{(\\pi\\hbar n_b)^2}{2m} = \\mu_b=\\mu - \\delta\\mu\\\\\n",
    "$$"
   ]
  },
  {
   "cell_type": "markdown",
   "metadata": {},
   "source": [
    "* Check the two-compoenet relatios:"
   ]
  },
  {
   "cell_type": "markdown",
   "metadata": {},
   "source": [
    "$$\n",
    "n=n_a + n_b = \\frac{\\sqrt{2m}}{\\pi \\hbar}(\\sqrt{\\mu_a}+\\sqrt{\\mu_a})\\\\\n",
    "\\delta n=n_a + n_b = \\frac{\\sqrt{2m}}{\\pi \\hbar}(\\sqrt{\\mu_a}-\\sqrt{\\mu_a})\\\\\n",
    "\\mathcal{E}(n_a, n_b) = \\frac{\\pi^2\\hbar^2}{6m}(n_a^3 + n_b^3)\\\\\n",
    "\\mathcal{E}(n_a, n_b) = \\frac{\\pi^2\\hbar^2}{6m}\\left[(n_a + n_b)^3 - 3n_an_b(n_a + n_b)\\right]\\\\\n",
    "$$\n",
    "* Rewrite above relation in terms of $n$ and $\\delta n$:\n",
    "\\begin{align}\n",
    "\\mathcal{E}(n, \\delta n) \n",
    "&= \\frac{\\pi^2\\hbar^2}{6m}\\left[(n_a + n_b)^3 - 3n_an_b(n_a + n_b)\\right]\\\\\n",
    "&= \\frac{\\pi^2\\hbar^2}{24m}(n^3+3n\\delta n^2)\n",
    "\\end{align}\n",
    "Then\n",
    "\\begin{align}\n",
    "\\frac{\\mathcal{\\partial E}(n, \\delta n) }{\\partial n}\n",
    "&= \\frac{\\pi^2\\hbar^2}{8m}(n^2+\\delta n^2)=\\frac{\\pi^2\\hbar^2}{2m}n_an_b\n",
    "\\end{align}"
   ]
  },
  {
   "cell_type": "markdown",
   "metadata": {},
   "source": [
    "$$\n",
    "\\mu = \\frac{\\mu_a + \\mu_b}{2}=\\frac{(\\pi\\hbar)^2}{4m}\\left(n_a^2+n_b^2\\right)\n",
    "$$"
   ]
  },
  {
   "cell_type": "markdown",
   "metadata": {},
   "source": [
    "* So $$\\frac{\\mathcal{\\partial E}(n, \\delta n) }{\\partial n}\\ne \\mu$$"
   ]
  },
  {
   "cell_type": "markdown",
   "metadata": {},
   "source": [
    "# Taking $q$ and $dq$ into account"
   ]
  },
  {
   "cell_type": "markdown",
   "metadata": {},
   "source": [
    "* For given $\\mu$, $d\\mu$, the Fermi surfaces are fixed\n",
    "* So, the presention of q and dq is equalent to shift the integral range from $(0,k_F)$ to $(q \\pm dq, k_F)$"
   ]
  },
  {
   "cell_type": "markdown",
   "metadata": {},
   "source": [
    "## Test Code\n",
    "* For Free Fermi Gas, use the ananlytical formuleas\n"
   ]
  },
  {
   "cell_type": "markdown",
   "metadata": {},
   "source": [
    "### Compute $\\mathcal{E}$ and $n_a$, $n_b$"
   ]
  },
  {
   "cell_type": "code",
   "execution_count": null,
   "metadata": {},
   "outputs": [],
   "source": [
    "def get_e_n(mu, dmu, q=0, dq=0, dim=1):\n",
    "    if dim == 1:\n",
    "        def f(e_F): #energy density\n",
    "            return np.sqrt(2)/np.pi * e_F**1.5/3.0\n",
    "        def g(e_F): #particle density\n",
    "            return np.sqrt(2 * e_F)/np.pi\n",
    "    elif dim == 2:\n",
    "        def f(e_F):\n",
    "            return  (e_F**2)/4.0/np.pi\n",
    "        def g(e_F):\n",
    "            return e_F/np.pi/2.0\n",
    "    elif dim == 3:\n",
    "        def f(e_F):\n",
    "            return  (e_F**2.5)*2.0**1.5/10.0/np.pi**2\n",
    "        def g(e_F):\n",
    "            return  ((2.0 * e_F)**1.5)/6.0/np.pi**2\n",
    "        \n",
    "    kF_a, kF_b = np.sqrt(2.0 * (mu+dmu)),np.sqrt(2.0 * (mu-dmu))\n",
    "    mu_a1, mu_b1, mu_a2, mu_b2 = (q+dq)**2/2.0, (q-dq)**2/2.0, (kF_a)**2/2.0, (kF_b)**2/2.0\n",
    "    E_a, E_b = f(mu_a2) - f(mu_a1), f(mu_b2) - f(mu_b1)\n",
    "    n_a, n_b = g(mu_a2) - g(mu_a1), g(mu_b2) - g(mu_b1)\n",
    "    energy_density = E_a + E_b\n",
    "    return energy_density, (n_a, n_b)"
   ]
  },
  {
   "cell_type": "markdown",
   "metadata": {},
   "source": [
    "### Compute $\\frac{d\\mathcal{E}}{dn}$ numerically"
   ]
  },
  {
   "cell_type": "code",
   "execution_count": null,
   "metadata": {},
   "outputs": [],
   "source": [
    "def get_dE_dn(mu, dmu, dim, q=0, dq=0):\n",
    "    dx = 1e-6\n",
    "    e1, n1 = get_e_n(mu=mu + dx, dmu=dmu, dim=dim, q=q, dq=dq)\n",
    "    e2, n2 = get_e_n(mu=mu - dx, dmu=dmu, dim=dim, q=q, dq=dq)\n",
    "    return (e1-e2)/(sum(n1)-sum(n2))"
   ]
  },
  {
   "cell_type": "markdown",
   "metadata": {},
   "source": [
    "### Compute $\\frac{dn}{d\\mu}$ analytically"
   ]
  },
  {
   "cell_type": "code",
   "execution_count": null,
   "metadata": {},
   "outputs": [],
   "source": [
    "def dn_dmu(x, dim=1):\n",
    "    if dim == 1:\n",
    "        return 1.0/np.pi/np.sqrt(2.0 * x)\n",
    "    elif dim == 2:\n",
    "        return 0.5/np.pi\n",
    "    else:\n",
    "        return np.sqrt(2.0 * x) / np.pi**2"
   ]
  },
  {
   "cell_type": "markdown",
   "metadata": {},
   "source": [
    "### Compute bare $\\mu$ analytically\n",
    "* Will yield same results as the numerical method 'get_dE_dn'"
   ]
  },
  {
   "cell_type": "code",
   "execution_count": null,
   "metadata": {},
   "outputs": [],
   "source": [
    "def compute_mu(mu, dmu, dim=1):\n",
    "    mu_a, mu_b = mu+dmu, mu-dmu\n",
    "    dn_dmu_a, dn_dmu_b = dn_dmu(mu_a, dim=dim), dn_dmu(mu_b, dim=dim)\n",
    "    return (mu_a * dn_dmu_a + mu_b * dn_dmu_b)/(dn_dmu_a + dn_dmu_b)"
   ]
  },
  {
   "cell_type": "markdown",
   "metadata": {},
   "source": [
    "### Test routine"
   ]
  },
  {
   "cell_type": "code",
   "execution_count": null,
   "metadata": {},
   "outputs": [],
   "source": [
    "def test_Thermodynamic(mu, dmu,delta0=1, dim=1, k_c=100, q=0, dq=0, T=0.0, dx=1e-6):\n",
    "    print(f\"mu={mu}\\tdmu={dmu}\\tkc={k_c}\\tq={q}\\tdq={dq}\\tdim={dim}\")    \n",
    "    ff = FFState(mu=mu, delta=delta0, dim=dim, k_c=k_c, T=T, fix_g=True)\n",
    "\n",
    "    def get_P(mu, dmu):\n",
    "        delta = ff.solve(mu=mu, dmu=dmu, q=q, dq=dq, a=0.8*delta0, b=1.2*delta0)\n",
    "        return ff.get_pressure(mu=mu, dmu=dmu, delta=delta, q=q, dq=dq)\n",
    "\n",
    "    def get_E_n(mu, dmu):\n",
    "        E = ff.get_energy_density(mu=mu, dmu=dmu, q=q, dq=dq)\n",
    "        na, nb = ff.get_densities(mu=mu, dmu=dmu, q=q, dq=dq)\n",
    "        return E, na, nb\n",
    "\n",
    "    def get_ns(mu, dmu):\n",
    "        return ff.get_densities(mu=mu, dmu=dmu, q=q, dq=dq)\n",
    "    \n",
    "    energy_density, (na, nb) = get_e_n(mu=mu, dmu=dmu, dim=dim, q=q, dq=dq)        \n",
    "    print(f\"{dim}D Free Fermi Gas: E={energy_density}\\tn_a={na}\\tn_b={nb}\\tn_p={na+nb}\")    \n",
    "    E1, na1, nb1 = get_E_n(mu=mu+dx, dmu=dmu)\n",
    "    E0, na0, nb0 = get_E_n(mu=mu-dx, dmu=dmu)\n",
    "    n0, n1 = na0 + nb0, na1 + nb1\n",
    "    print(f\"E1={E1.n}\\tE0={E0.n}\\tn1={(na1+nb1).n}\\tn0={(na0+nb0).n}\")\n",
    "    n_p = (get_P(mu+dx, dmu) - get_P(mu-dx, dmu))/2/dx\n",
    "    n_a, n_b = get_ns(mu, dmu)\n",
    "    n_a_ = (get_P(mu+dx/2, dmu+dx/2) - get_P(mu-dx/2, dmu - dx/2))/2/dx\n",
    "    n_b_ = (get_P(mu+dx/2, dmu-dx/2) - get_P(mu-dx/2, dmu + dx/2))/2/dx\n",
    "    print(f\"n_a={n_a.n}\\tNumerical  n_a={n_a_.n}\")\n",
    "    print(f\"n_b={n_b.n}\\tNumerical  n_b={n_b_.n}\")\n",
    "    print(f\"n_p={n_a.n+n_b.n}\\tNumerical  n_p={n_p.n}\")\n",
    "    print(f\"mu_a={mu + dmu}\\tNumerical mu_a={((E1-E0)/(na1-na0)).n}\")\n",
    "    print(f\"mu_b={mu - dmu}\\tNumerical mu_b={((E1-E0)/(nb1-nb0)).n}\")\n",
    "    print(f\"mu={mu}\\tNumerical mu={((E1-E0)/(n1-n0)).n}\")\n",
    "    assert np.allclose(n_a.n, n_a_.n, rtol=1e-2)\n",
    "    assert np.allclose(n_b.n, n_b_.n, rtol=1e-2)\n",
    "    assert np.allclose(n_p.n, (n_a+n_b).n, rtol=1e-2)\n",
    "    print(np.allclose(((E1-E0)/(n1-n0)).n, get_dE_dn(mu=mu,dmu=dmu,dim=dim)))\n",
    "    if not np.allclose(((E1-E0)/(n1-n0)).n, get_dE_dn(mu=mu,dmu=dmu,dim=dim)):\n",
    "        assert np.allclose(mu,((E1-E0)/(n1-n0)).n, rtol=1e-2)\n",
    "    \n",
    "def homogeneous_Density(mu, dmu, delta, dim):\n",
    "    \"\"\"return density,used for reference\"\"\"\n",
    "    return homogeneous.Homogeneous(dim = dim).get_ns(mus_eff=(mu+dmu, mu-dmu), delta=delta, N_twist=12)"
   ]
  },
  {
   "cell_type": "markdown",
   "metadata": {},
   "source": [
    "## 1D Cases "
   ]
  },
  {
   "cell_type": "markdown",
   "metadata": {},
   "source": [
    "* the following test case is interesting, it's failed when dmu=q=dq=0, this error goes away when fix g.\n",
    "* clearly, we can comfirm that, there is an error when fix $C$.\n",
    "* this can be used as a trace to fix the error."
   ]
  },
  {
   "cell_type": "markdown",
   "metadata": {},
   "source": [
    "### $\\Delta\\ne0$ Case"
   ]
  },
  {
   "cell_type": "code",
   "execution_count": null,
   "metadata": {
    "scrolled": true
   },
   "outputs": [],
   "source": [
    "test_Thermodynamic(mu=5, dmu=0.3, k_c=200, q=0.0, dq=0.0, dim=1, delta0=1.0)"
   ]
  },
  {
   "cell_type": "markdown",
   "metadata": {},
   "source": [
    "### $\\Delta=0$ Case"
   ]
  },
  {
   "cell_type": "code",
   "execution_count": null,
   "metadata": {
    "scrolled": true
   },
   "outputs": [],
   "source": [
    "test_Thermodynamic(mu=5, dmu=2.5, k_c=200, q=2, dq=1, dim=1, delta0=1.0)"
   ]
  },
  {
   "cell_type": "markdown",
   "metadata": {},
   "source": [
    "#### Compare to analytical calculation"
   ]
  },
  {
   "cell_type": "code",
   "execution_count": null,
   "metadata": {},
   "outputs": [],
   "source": [
    "compute_mu(mu=5, dmu=2.5, dim=1)"
   ]
  },
  {
   "cell_type": "markdown",
   "metadata": {},
   "source": [
    "# 2D Cases\n",
    "* As discussed above, the 2d case is different from 1d and 3d, as the relation $\\frac{dE}{dn}=\\mu$ is always satisfied in free fermi gas"
   ]
  },
  {
   "cell_type": "markdown",
   "metadata": {},
   "source": [
    "### $\\Delta\\ne0$ Case"
   ]
  },
  {
   "cell_type": "code",
   "execution_count": null,
   "metadata": {
    "scrolled": false
   },
   "outputs": [],
   "source": [
    "test_Thermodynamic(mu=5, dmu=.5, dim=2, q=1, dq=0.01, delta0=1, k_c=200, dx=1e-6)"
   ]
  },
  {
   "cell_type": "markdown",
   "metadata": {},
   "source": [
    "### $\\Delta=0$ Case"
   ]
  },
  {
   "cell_type": "code",
   "execution_count": null,
   "metadata": {},
   "outputs": [],
   "source": [
    "test_Thermodynamic(mu=5, dmu=2.5, dim=2, q=2, dq=0.01, delta0=3.0, k_c=100, dx=1e-3)"
   ]
  },
  {
   "cell_type": "markdown",
   "metadata": {},
   "source": [
    "#### Compare to analytical calculation"
   ]
  },
  {
   "cell_type": "code",
   "execution_count": null,
   "metadata": {},
   "outputs": [],
   "source": [
    "compute_mu(mu=5, dmu=2.5, dim=2)"
   ]
  },
  {
   "cell_type": "markdown",
   "metadata": {},
   "source": [
    "# 3D Cases:\n",
    "* the 3D cases are very sensitive to the cutoff k_c"
   ]
  },
  {
   "cell_type": "markdown",
   "metadata": {},
   "source": [
    "### $\\Delta\\ne0$ Case"
   ]
  },
  {
   "cell_type": "code",
   "execution_count": null,
   "metadata": {},
   "outputs": [],
   "source": [
    "test_Thermodynamic(mu = 5, dmu = .5, dim = 3, k_c = 100, q = 3, dq = 0, dx=1e-3)"
   ]
  },
  {
   "cell_type": "markdown",
   "metadata": {},
   "source": [
    "### $\\Delta=0$ Case"
   ]
  },
  {
   "cell_type": "code",
   "execution_count": null,
   "metadata": {},
   "outputs": [],
   "source": [
    "test_Thermodynamic(mu = 5, dmu = 2.5, dim = 3, k_c = 100, q = 3, dq = 0, dx=1e-3)"
   ]
  },
  {
   "cell_type": "code",
   "execution_count": null,
   "metadata": {},
   "outputs": [],
   "source": [
    "compute_mu(mu=5, dmu=2.5, dim=3)"
   ]
  },
  {
   "cell_type": "markdown",
   "metadata": {},
   "source": [
    "# Conditions for FF State\n",
    "* Thermodymamcally, for given $\\mu$,$d\\mu$, the pressure should be maximized with respect to $q$ and $dq$"
   ]
  },
  {
   "cell_type": "markdown",
   "metadata": {},
   "source": []
  },
  {
   "cell_type": "markdown",
   "metadata": {},
   "source": [
    "# Phase Diagram\n",
    "* Not working yet. "
   ]
  },
  {
   "cell_type": "code",
   "execution_count": null,
   "metadata": {},
   "outputs": [],
   "source": [
    "[=-[][][][][]]"
   ]
  },
  {
   "cell_type": "code",
   "execution_count": null,
   "metadata": {},
   "outputs": [],
   "source": [
    "currentdir = os.path.dirname(os.path.abspath(inspect.getfile(inspect.currentframe())))\n",
    "files = [f for f in os.listdir(join(currentdir,\"../\")) if re.match(r'1d_phase_map_data*', f)]\n",
    "rets = []\n",
    "for file in files:\n",
    "    file = join(currentdir,\"../\",file)\n",
    "    if os.path.exists(file):\n",
    "        with open(file,'r') as rf:\n",
    "            rets.extend(json.load(rf))\n",
    "            formattedData = []\n",
    "#find the dq with maximum pressure\n",
    "for items in rets:\n",
    "    mu = items['mu']\n",
    "    delta0 = items['delta']\n",
    "    data = items['data']\n",
    "    q = items['q']\n",
    "    na = items['na']\n",
    "    nb = items['nb']\n",
    "    g = items['g']\n",
    "    if len(data) > 0:\n",
    "        dmu,dq, delta, press = data[0]\n",
    "        for item in data:\n",
    "            if dmu == item[0]:\n",
    "                if item[3] > press:\n",
    "                    dq, press= item[1],item[3]\n",
    "            else:\n",
    "                formattedData.append((mu, dmu, delta0, delta, q, dq, press, g, na, nb))\n",
    "                dmu, dq, delta, press = item\n",
    "        formattedData.append((mu, dmu, delta0, delta, q, dq, press, g, na, nb))"
   ]
  },
  {
   "cell_type": "code",
   "execution_count": null,
   "metadata": {},
   "outputs": [],
   "source": [
    "data = formattedData\n",
    "plt.figure(figsize=(20, 5))\n",
    "plt.subplot(121)\n",
    "x,y,c,area =[],[],[],[]\n",
    "ShowNonFFState=True\n",
    "for item in data:\n",
    "    mu, dmu, delta0, delta, q, dq, press, g, na, nb = item\n",
    "    n = na+nb\n",
    "    if dmu > 0 and  dq> 0 and delta > 0:\n",
    "        x.append(-1.0 /g)\n",
    "        y.append(dmu/delta0)\n",
    "        c.append('r')\n",
    "        area.append(16)\n",
    "    elif ShowNonFFState:\n",
    "        x.append(-1.0 /g)\n",
    "        y.append(dmu/delta0)\n",
    "        c.append('b')\n",
    "        area.append(1)\n",
    "plt.scatter(x, y, s=area, c=c)\n",
    "plt.xlabel(r\"$-1/(g\\sqrt{n_{d\\mu=0}})$\", fontsize=20)\n",
    "plt.ylabel(r\"$d\\mu/\\Delta_0$\", fontsize=20)\n",
    "plt.ylim(0,1)"
   ]
  },
  {
   "cell_type": "code",
   "execution_count": null,
   "metadata": {},
   "outputs": [],
   "source": [
    "qs = [0.5]#np.linspace(0,3,4) # q does not change the pressure, you may use q = 1.5 or other values \n",
    "dq0 = 7.856742013183863e-5\n",
    "mu=0.5\n",
    "dmu = 0.00039283710065919316\n",
    "delta = 0.0007071067811865476\n",
    "for q in qs:\n",
    "    dqs = np.linspace(2,7,10)*dq0\n",
    "    ff = FFState(mu=mu, dim=2, delta=delta, k_c=100)\n",
    "    ps = [ff.get_pressure(mu=mu, dmu=dmu,q = q, dq=dq).n for dq in dqs]\n",
    "    clear_output()\n",
    "    plt.plot(dqs * 1000, ps)"
   ]
  },
  {
   "cell_type": "code",
   "execution_count": null,
   "metadata": {},
   "outputs": [],
   "source": [
    "%pylab inline --no-import-all\n",
    "from ipywidgets import interact\n",
    "def f(E, T):\n",
    "    T = max(T, 1e-32)\n",
    "    return 1./(1+np.exp(E/T))\n",
    "\n",
    "@interact(delta=(0, 5, 0.1),mu=(0, 10, 0.2),\n",
    "          dmu=(0, 5, 0.1),q = (0,5,0.1),\n",
    "          dq = (0,5,0.1),T=(0, 0.1, 0.01))\n",
    "def go(delta=0.1, mu=5.0, dmu=0.0,q=0, dq=0, T=0.02):\n",
    "    k = np.linspace(0, 5, 100)\n",
    "    hbar = m = kF = 1.0\n",
    "    kF, eF = np.sqrt(2*mu), mu\n",
    "    mu_a, mu_b = mu + dmu, mu - dmu\n",
    "    e_a, e_b = (hbar*(k+q+dq))**2/2/m - mu_a, (hbar*(k+q-dq))**2/2/m - mu_b\n",
    "    e_p, e_m = (e_a + e_b)/2, (e_a - e_b)/2\n",
    "    E = np.sqrt(e_p**2+abs(delta)**2)\n",
    "    w_p, w_m = e_m + E, e_m - E\n",
    "    f_p = 1 - e_p/E*(f(w_m, T) - f(w_p, T))\n",
    "    f_m = f(w_p, T) - f(-w_m, T)\n",
    "    f_a, f_b = (f_p+f_m)/2, (f_p-f_m)/2\n",
    "    plt.figure(figsize=(10,8))\n",
    "    plt.subplot(211);plt.grid()\n",
    "    plt.plot(k, f_a, label='a')\n",
    "    plt.plot(k, f_b, label='b');plt.legend()\n",
    "    plt.ylabel('n')\n",
    "    plt.subplot(212);plt.grid()\n",
    "    plt.axhline(0, c='y')\n",
    "    plt.plot(k, w_p/eF, k, w_m/eF)\n",
    "    plt.xlabel('$k/k_F$')\n",
    "    plt.ylabel(r'$\\omega_{\\pm}/\\epsilon_F$')"
   ]
  }
 ],
 "metadata": {
  "jupytext": {
   "formats": "ipynb,py:light"
  },
  "kernelspec": {
   "display_name": "Python 3",
   "language": "python",
   "name": "python3"
  },
  "language_info": {
   "codemirror_mode": {
    "name": "ipython",
    "version": 3
   },
   "file_extension": ".py",
   "mimetype": "text/x-python",
   "name": "python",
   "nbconvert_exporter": "python",
   "pygments_lexer": "ipython3",
   "version": "3.7.2"
  }
 },
 "nbformat": 4,
 "nbformat_minor": 2
}
