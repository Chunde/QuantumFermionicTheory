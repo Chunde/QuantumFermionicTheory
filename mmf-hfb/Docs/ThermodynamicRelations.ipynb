{
 "cells": [
  {
   "cell_type": "markdown",
   "metadata": {},
   "source": [
    "# Thermodynamic Relations"
   ]
  },
  {
   "cell_type": "code",
   "execution_count": 2,
   "metadata": {},
   "outputs": [
    {
     "data": {
      "text/html": [
       "<style>.grade {\n",
       "   background-color: #66FFCC;\n",
       "}\n",
       "</style>"
      ],
      "text/plain": [
       "<IPython.core.display.HTML object>"
      ]
     },
     "metadata": {},
     "output_type": "display_data"
    },
    {
     "data": {
      "application/javascript": [],
      "text/plain": [
       "<IPython.core.display.Javascript object>"
      ]
     },
     "metadata": {},
     "output_type": "display_data"
    },
    {
     "data": {
      "text/html": [
       "<script id=\"MathJax-Element-48\" type=\"math/tex\">\\newcommand{\\vect}[1]{\\mathbf{#1}}\n",
       "\\newcommand{\\uvect}[1]{\\hat{#1}}\n",
       "\\newcommand{\\abs}[1]{\\lvert#1\\rvert}\n",
       "\\newcommand{\\norm}[1]{\\lVert#1\\rVert}\n",
       "\\newcommand{\\I}{\\mathrm{i}}\n",
       "\\newcommand{\\ket}[1]{\\left|#1\\right\\rangle}\n",
       "\\newcommand{\\bra}[1]{\\left\\langle#1\\right|}\n",
       "\\newcommand{\\braket}[1]{\\langle#1\\rangle}\n",
       "\\newcommand{\\Braket}[1]{\\left\\langle#1\\right\\rangle}\n",
       "\\newcommand{\\op}[1]{\\mathbf{#1}}\n",
       "\\newcommand{\\mat}[1]{\\mathbf{#1}}\n",
       "\\newcommand{\\d}{\\mathrm{d}}\n",
       "\\newcommand{\\pdiff}[3][]{\\frac{\\partial^{#1} #2}{\\partial {#3}^{#1}}}\n",
       "\\newcommand{\\diff}[3][]{\\frac{\\d^{#1} #2}{\\d {#3}^{#1}}}\n",
       "\\newcommand{\\ddiff}[3][]{\\frac{\\delta^{#1} #2}{\\delta {#3}^{#1}}}\n",
       "\\newcommand{\\floor}[1]{\\left\\lfloor#1\\right\\rfloor}\n",
       "\\newcommand{\\ceil}[1]{\\left\\lceil#1\\right\\rceil}\n",
       "\\DeclareMathOperator{\\Tr}{Tr}\n",
       "\\DeclareMathOperator{\\erf}{erf}\n",
       "\\DeclareMathOperator{\\erfi}{erfi}\n",
       "\\DeclareMathOperator{\\sech}{sech}\n",
       "\\DeclareMathOperator{\\sgn}{sgn}\n",
       "\\DeclareMathOperator{\\order}{O}\n",
       "\\DeclareMathOperator{\\diag}{diag}\n",
       "\n",
       "\\newcommand{\\mylabel}[1]{\\label{#1}\\tag{#1}}\n",
       "\\newcommand{\\degree}{\\circ}</script>"
      ],
      "text/plain": [
       "<IPython.core.display.HTML object>"
      ]
     },
     "metadata": {},
     "output_type": "display_data"
    },
    {
     "data": {
      "text/html": [],
      "text/plain": [
       "<IPython.core.display.HTML object>"
      ]
     },
     "metadata": {},
     "output_type": "display_data"
    },
    {
     "data": {
      "text/html": [
       "\n",
       "<i>\n",
       "<p>This cell contains some definitions for equations and some CSS for styling\n",
       "  the notebook. If things look a bit strange, please try the following:\n",
       "<ul>\n",
       "  <li>Choose \"Trust Notebook\" from the \"File\" menu.</li>\n",
       "  <li>Re-execute this cell.</li>\n",
       "  <li>Reload the notebook.</li>\n",
       "</ul>\n",
       "</p>\n",
       "</i>\n"
      ],
      "text/plain": [
       "<IPython.core.display.HTML object>"
      ]
     },
     "metadata": {},
     "output_type": "display_data"
    },
    {
     "name": "stdout",
     "output_type": "stream",
     "text": [
      "Populating the interactive namespace from numpy and matplotlib\n"
     ]
    }
   ],
   "source": [
    "import mmf_setup;mmf_setup.nbinit()\n",
    "%pylab inline --no-import-all"
   ]
  },
  {
   "cell_type": "markdown",
   "metadata": {},
   "source": [
    "\\begin{align}\n",
    "k_a &= k + q + dq, \\qquad k_b = k+q - dq ,\\qquad\n",
    "\\epsilon_a = \\frac{\\hbar^2}{2m}k_a^2 - \\mu_a, \\qquad \\epsilon_b = \\frac{\\hbar^2}{2m}k_b^2 - \\mu_b,\\\\\n",
    "E&=\\sqrt{\\epsilon_+^2+\\abs{\\Delta}^2},\\qquad \\omega_+= \\epsilon_-+E, \\qquad \\omega_- = \\epsilon_- - E\\\\\n",
    "\\epsilon_+&= \\frac{\\hbar^2}{4m}(k_a^2+k_b^2) - \\mu_+= \\frac{\\hbar^2}{2m}\\left[(k+q)^2 + dq^2\\right] - \\mu_+\\\\\n",
    "\\epsilon_-&= \\frac{\\hbar^2}{4m}(k_a^2-k_b^2) - \\mu_-=\\frac{\\hbar^2}{m}(k +q)dq - \\mu_-\\tag{1}\\\\\n",
    "\\end{align}"
   ]
  },
  {
   "cell_type": "markdown",
   "metadata": {},
   "source": [
    "# Analytical Results for Free Fermi Gas\n",
    "* Check numerical results against analytical derivaions,[ECE 407 Farhan Rana]\n",
    "[ECE 407 Farhan Rana]: https://courses.cit.cornell.edu/mse5470/handout3.pdf 'Farhan Rana \"Free Electron Gas in 2D and 1D\"'"
   ]
  },
  {
   "cell_type": "markdown",
   "metadata": {},
   "source": [
    "### Energy Density for 1D free Fermi Gas($\\Delta=0$)\n",
    "$$\n",
    "\\mathcal{E}=\\frac{\\sqrt{2m}}{\\pi\\hbar}\\frac{E_F^{3/2}}{3}\\qquad n=\\frac{\\sqrt{2mE_F}}{\\pi \\hbar}\\tag{2}\n",
    "$$\n",
    "Since there are two components, then the overall energy density\n",
    "\\begin{align}\n",
    "\\mathcal{E}\n",
    "&=\\frac{\\sqrt{2m}}{\\pi\\hbar}\\frac{\\mu_a^{3/2}+\\mu_b^{3/2}}{3}=\\frac{\\sqrt{2m}}{\\pi\\hbar}\\frac{(\\mu+d\\mu)^{3/2}+(\\mu-d\\mu)^{3/2}}{3}\n",
    "\\end{align}"
   ]
  },
  {
   "cell_type": "markdown",
   "metadata": {},
   "source": [
    "### Energy Density for 2D free Fermi Gas($\\Delta=0$)\n",
    "For single component\n",
    "$$\n",
    "\\mathcal{E}=\\frac{m}{4\\pi\\hbar^2}E_F^2,\\qquad n=\\frac{m}{2\\pi\\hbar^2}E_F, \\qquad \\mathcal{E}=\\frac{1}{2}nE_F\\tag{3}\n",
    "$$\n",
    "\n",
    "Since there are two components, then the overall energy density\n",
    "\\begin{align}\n",
    "\\mathcal{E}\n",
    "&=\\frac{m}{4\\pi\\hbar^2}(\\mu_a^2+\\mu_b^2)=\\frac{m}{4\\pi\\hbar^2}\\left((\\mu+d\\mu)^2+(\\mu-d\\mu)^2\\right)\\\\\n",
    "\\end{align}"
   ]
  },
  {
   "cell_type": "markdown",
   "metadata": {},
   "source": [
    "### Energy Density for 3D free Fermi Gas($\\Delta=0$)\n",
    "For single component\n",
    "$$\n",
    "\\mathcal{E}=\\frac{\\hbar^2}{10m\\pi^2}k_F^5=\\frac{1}{10\\pi^2}\\frac{(2m)^{3/2}}{\\hbar^3}E_F^{5/2}, \\qquad n=\\frac{k_F^3}{3\\pi^2}=\\frac{1}{3\\pi^2}\\frac{(2m)^{3/2}}{\\hbar^3}E_F^{3/2}\\tag{4}\n",
    "$$\n",
    "Since there are two components, then the overall energy density\n",
    "\\begin{align}\n",
    "\\mathcal{E}\n",
    "&=\\frac{1}{10\\pi^2}\\frac{(2m)^{3/2}}{\\hbar^3}(\\mu_a^{5/2}+\\mu_b^{5/2})=\\frac{1}{10\\pi^2}\\frac{(2m)^{3/2}}{\\hbar^3}\\left((\\mu+d\\mu)^{5/2}+(\\mu+d\\mu)^{5/2}\\right)\\\\\n",
    "\\end{align}"
   ]
  },
  {
   "cell_type": "markdown",
   "metadata": {},
   "source": [
    "\\begin{align}\n",
    "\\frac{d E}{d n}\n",
    "&=\\frac{d E(n_a, n_b)}{d n}\\\\\n",
    "&=\\frac{\\partial E(n_a, n_b)}{\\partial n_a}\\frac{\\partial n_a}{\\partial n}+\\frac{\\partial E(n_a, n_b)}{\\partial n_b}\\frac{\\partial n_b}{\\partial n}\\\\\n",
    "&=\\frac{1}{2}\\left[\\frac{\\partial E(n_a, n_b)}{\\partial n_a}+\\frac{\\partial E(n_a, n_b)}{\\partial n_b}\\right]\\\\\n",
    "&=\\frac{\\mu_a + \\mu_b}{2}=\\mu\\tag{6}\n",
    "\\end{align}\n",
    "* Since $n=n_+=n_a + n_b$, $n_-=n_a - n_b$, so $n_a = (n_++n_-)/2$, $n_b = (n_+-n_-)/2$, then $\\frac{\\partial n_a}{\\partial n_+}=1/2$"
   ]
  },
  {
   "cell_type": "markdown",
   "metadata": {},
   "source": [
    "# Conditions for FF State\n",
    "* Thermodymamcally, for given $\\mu$,$d\\mu$, the pressure should be maximized with respect to $q$ and $dq$\n",
    "* $dq>q$, and dq can be many times of q, which means 2q is the speed difference\n",
    "* $dq=\\frac{n_+}{n_-}$, smaller density difference means bigger dq, or small q will give better chance to find a FF State"
   ]
  },
  {
   "cell_type": "code",
   "execution_count": null,
   "metadata": {
    "lines_to_next_cell": 2
   },
   "outputs": [],
   "source": []
  }
 ],
 "metadata": {
  "jupytext": {
   "formats": "ipynb,py:light"
  },
  "kernelspec": {
   "display_name": "Python 3",
   "language": "python",
   "name": "python3"
  },
  "language_info": {
   "codemirror_mode": {
    "name": "ipython",
    "version": 3
   },
   "file_extension": ".py",
   "mimetype": "text/x-python",
   "name": "python",
   "nbconvert_exporter": "python",
   "pygments_lexer": "ipython3",
   "version": "3.7.2"
  }
 },
 "nbformat": 4,
 "nbformat_minor": 2
}
