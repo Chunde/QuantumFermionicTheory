{
 "cells": [
  {
   "cell_type": "markdown",
   "metadata": {},
   "source": [
    "# Thermodynamic Relations"
   ]
  },
  {
   "cell_type": "code",
   "execution_count": null,
   "metadata": {},
   "outputs": [],
   "source": [
    "import mmf_setup;mmf_setup.nbinit()\n",
    "%pylab inline --no-import-all\n",
    "from nbimports import * \n",
    "from mmf_hfb import tf_completion as tf\n",
    "from mmf_hfb.FuldeFerrelState import FFState\n",
    "from mmf_hfb import homogeneous\n",
    "import itertools\n",
    "tf.MAX_DIVISION = 500"
   ]
  },
  {
   "cell_type": "markdown",
   "metadata": {},
   "source": [
    "### Energy Density for 1D free Fermi Gas($\\Delta=0$)\n",
    "$$\n",
    "\\mathcal{E}=\\frac{\\sqrt{2m}}{\\pi\\hbar}\\frac{E_F^{3/2}}{3}\n",
    "$$\n",
    "Since there are two components, then the overall energy density\n",
    "\\begin{align}\n",
    "\\mathcal{E}\n",
    "&=\\frac{\\sqrt{2m}}{\\pi\\hbar}\\frac{\\mu_a^{3/2}+\\mu_b^{3/2}}{3} \\\\\n",
    "&=\\frac{\\sqrt{2m}}{\\pi\\hbar}\\frac{(\\mu+d\\mu)^{3/2}+(\\mu-d\\mu)^{3/2}}{3}\n",
    "\\end{align}"
   ]
  },
  {
   "cell_type": "markdown",
   "metadata": {},
   "source": [
    "### Energy Density for 2D free Fermi Gas($\\Delta=0$)\n",
    "For single component\n",
    "$$\n",
    "\\mathcal{E}=\\frac{m}{4\\pi\\hbar^2}E_F^2\\\\\n",
    "n=\\frac{m}{\\pi\\hbar^2}E_F\\\\\n",
    "\\mathcal{E}=\\frac{1}{2}nE_F\n",
    "$$\n",
    "Since there are two components, then the overall energy density\n",
    "\\begin{align}\n",
    "\\mathcal{E}\n",
    "&=\\frac{m}{4\\pi\\hbar^2}(\\mu_a^2+\\mu_b^2)\\\\\n",
    "&=\\frac{m}{4\\pi\\hbar^2}\\left((\\mu+d\\mu)^2+(\\mu-d\\mu)^2\\right)\\\\\n",
    "\\end{align}"
   ]
  },
  {
   "cell_type": "markdown",
   "metadata": {},
   "source": [
    "### Energy Density for 3D free Fermi Gas($\\Delta=0$)\n",
    "For single component\n",
    "$$\n",
    "\\mathcal{E}=\\frac{\\hbar^2}{10m\\pi^2}k_F^5=\\frac{1}{10\\pi^2}\\frac{(2m)^{3/2}}{\\hbar^3}E_F^{5/2}\\\\\n",
    "n=\\frac{k_F^3}{3\\pi^2}\n",
    "$$\n",
    "Since there are two components, then the overall energy density\n",
    "\\begin{align}\n",
    "\\mathcal{E}\n",
    "&=\\frac{1}{10\\pi^2}\\frac{(2m)^{3/2}}{\\hbar^3}(\\mu_a^{5/2}+\\mu_b^{5/2})\\\\\n",
    "&=\\frac{1}{10\\pi^2}\\frac{(2m)^{3/2}}{\\hbar^3}\\left((\\mu+d\\mu)^{5/2}+(\\mu+d\\mu)^{5/2}\\right)\\\\\n",
    "\\end{align}"
   ]
  },
  {
   "cell_type": "markdown",
   "metadata": {},
   "source": [
    "## Test Code\n",
    "* The $\\Delta_0$ is set to unitary, which may be not good for large $mu$ and $dmu$"
   ]
  },
  {
   "cell_type": "code",
   "execution_count": null,
   "metadata": {},
   "outputs": [],
   "source": [
    "def test_Thermodynamic(mu, dmu,delta0=1, dim=1, k_c=100, q=0, dq=0):\n",
    "    print(f\"mu={mu}\\tdmu={dmu}\\tkc={k_c}\\tq={q}\\tdq={dq}\\tdim={dim}\")\n",
    "    dx = 1e-6\n",
    "    ff = FFState(dmu=dmu, mu=mu, delta=delta0, dim=dim, k_c=k_c, fix_g=False)\n",
    "    \n",
    "    def get_P(mu, dmu):\n",
    "        delta = ff.solve(mu=mu, dmu=dmu, q=q, dq=dq)\n",
    "        print(f\"Delta={delta}\")\n",
    "        return ff.get_pressure(mu=mu, dmu=dmu, delta=delta, q=q, dq=dq)\n",
    "\n",
    "    def get_E_n(mu, dmu):\n",
    "        E = ff.get_energy_density(mu=mu, dmu=dmu, q=q, dq=dq)\n",
    "        n = sum(ff.get_densities(mu=mu, dmu=dmu, q=q, dq=dq))\n",
    "        return E, n\n",
    "\n",
    "    def get_ns(mu, dmu):\n",
    "        return ff.get_densities(mu=mu, dmu=dmu, q=q, dq=dq)\n",
    "    if dim == 1:\n",
    "        energy_density = np.sqrt(2)/np.pi *( (mu+dmu)**1.5 + (mu-dmu)**1.5)/3.0\n",
    "    elif dim == 2:\n",
    "        energy_density = ((mu+dmu)**2 + (mu-dmu)**2)/4.0/np.pi\n",
    "    elif dim == 3:\n",
    "        energy_density = ((mu+dmu)**2.5 + (mu-dmu)**2.5)*2.0**1.5/10.0/np.pi**2\n",
    "    print(f\"Free Energy Density {dim}D:{energy_density}\")    \n",
    "    E1, n1 = get_E_n(mu=mu+dx, dmu=dmu)\n",
    "    E0, n0 = get_E_n(mu=mu-dx, dmu=dmu)\n",
    "    print(f\"E1={E1}\\tE0={E0}\")\n",
    "    n_p = (get_P(mu+dx, dmu) - get_P(mu-dx, dmu))/2/dx\n",
    "    n_a, n_b = get_ns(mu, dmu)\n",
    "    n_a_ = (get_P(mu+dx/2, dmu+dx/2) - get_P(mu-dx/2, dmu - dx/2))/2/dx\n",
    "    n_b_ = (get_P(mu+dx/2, dmu-dx/2) - get_P(mu-dx/2, dmu + dx/2))/2/dx\n",
    "    print(f\"n_a={n_a.n}\\tNumerical  n_a={n_a_.n}\")\n",
    "    print(f\"n_b={n_b.n}\\tNumerical  n_b={n_b_.n}\")\n",
    "    print(f\"n_p={n_a.n+n_b.n}\\tNumerical  n_p={n_p.n}\")\n",
    "    print(f\"mu={mu}\\tNumerical mu={((E1-E0)/(n1-n0)).n}\")\n",
    "    assert np.allclose(n_a.n, n_a_.n, rtol=1e-4)\n",
    "    assert np.allclose(n_b.n, n_b_.n, rtol=1e-4)\n",
    "    assert np.allclose(n_p.n, (n_a+n_b).n, rtol=1e-4)\n",
    "    assert np.allclose(mu,((E1-E0)/(n1-n0)).n, rtol=1e-2)\n",
    "    \n",
    "def homogeneous_Density(mu, dmu, delta, dim):\n",
    "    \"\"\"return density,used for reference\"\"\"\n",
    "    return homogeneous.Homogeneous(dim = dim).get_ns(mus_eff=(mu+dmu, mu-dmu), delta=delta, N_twist=12)"
   ]
  },
  {
   "cell_type": "markdown",
   "metadata": {},
   "source": [
    "## 1D Cases "
   ]
  },
  {
   "cell_type": "code",
   "execution_count": null,
   "metadata": {},
   "outputs": [],
   "source": [
    "homogeneous_Density(mu=5, dmu=0.5, delta=1, dim=1)"
   ]
  },
  {
   "cell_type": "markdown",
   "metadata": {},
   "source": [
    "### Good accurary for $\\mu_+=\\frac{\\partial E}{\\partial n_+}$"
   ]
  },
  {
   "cell_type": "code",
   "execution_count": null,
   "metadata": {
    "scrolled": true
   },
   "outputs": [],
   "source": [
    "test_Thermodynamic(mu=5, dmu=.5, k_c=200, q=0, dq=0, dim=1, delta0=1)"
   ]
  },
  {
   "cell_type": "code",
   "execution_count": null,
   "metadata": {},
   "outputs": [],
   "source": [
    "test_Thermodynamic(mu=5, dmu=2.5, k_c=100, q=.5, dq=1.0, dim=1, delta0=1)"
   ]
  },
  {
   "cell_type": "markdown",
   "metadata": {},
   "source": [
    "### Medium accurary"
   ]
  },
  {
   "cell_type": "code",
   "execution_count": null,
   "metadata": {
    "scrolled": false
   },
   "outputs": [],
   "source": [
    "test_Thermodynamic(mu=5, dmu=.5, k_c=200, q=2.0, dq=1.0, dim=1, delta0=1)"
   ]
  },
  {
   "cell_type": "code",
   "execution_count": null,
   "metadata": {},
   "outputs": [],
   "source": [
    "test_Thermodynamic(mu=5, dmu=.5, k_c=200, q=1.0, dq=1.0, dim=1, delta0=1)"
   ]
  },
  {
   "cell_type": "markdown",
   "metadata": {},
   "source": [
    "## Poor accurary for  $\\mu_+=\\frac{\\partial E}{\\partial n_+}$"
   ]
  },
  {
   "cell_type": "code",
   "execution_count": null,
   "metadata": {},
   "outputs": [],
   "source": [
    "homogeneous_Density(mu=5, dmu=2.5, delta=5, dim=1)"
   ]
  },
  {
   "cell_type": "code",
   "execution_count": null,
   "metadata": {
    "scrolled": false
   },
   "outputs": [],
   "source": [
    "test_Thermodynamic(mu=5, dmu=2.5, k_c=100, q=0, dq=0, dim=1, delta0=1)"
   ]
  },
  {
   "cell_type": "code",
   "execution_count": null,
   "metadata": {},
   "outputs": [],
   "source": [
    "test_Thermodynamic(mu=5, dmu=2.5, k_c=500, q=0, dq=0, dim=1, delta0=5)"
   ]
  },
  {
   "cell_type": "markdown",
   "metadata": {},
   "source": [
    "### $q$ and $dq$ do change the density"
   ]
  },
  {
   "cell_type": "code",
   "execution_count": null,
   "metadata": {},
   "outputs": [],
   "source": [
    "test_Thermodynamic(mu=5, dmu=2.5, k_c=100, q=.5, dq=1.0, dim=1, delta0=1)"
   ]
  },
  {
   "cell_type": "markdown",
   "metadata": {},
   "source": [
    "# 2D Cases"
   ]
  },
  {
   "cell_type": "code",
   "execution_count": null,
   "metadata": {},
   "outputs": [],
   "source": [
    "homogeneous_Density(mu=5, dmu=0.64, delta=1, dim=2)"
   ]
  },
  {
   "cell_type": "markdown",
   "metadata": {},
   "source": [
    "### Good accuracy"
   ]
  },
  {
   "cell_type": "code",
   "execution_count": null,
   "metadata": {
    "scrolled": true
   },
   "outputs": [],
   "source": [
    "test_Thermodynamic(mu=10, dmu=0.64, dim=2, q=0, dq=0, delta0=1, k_c=200)"
   ]
  },
  {
   "cell_type": "code",
   "execution_count": null,
   "metadata": {},
   "outputs": [],
   "source": [
    "test_Thermodynamic(mu=10, dmu=0.64, dim=2, q=1.0, dq=0.5, delta0=1, k_c=200)"
   ]
  },
  {
   "cell_type": "markdown",
   "metadata": {},
   "source": [
    "### A local maximum in pressure with $dq \\ne 0$"
   ]
  },
  {
   "cell_type": "code",
   "execution_count": null,
   "metadata": {},
   "outputs": [],
   "source": [
    "qs = [0.5]#np.linspace(0,3,4) # q does not change the pressure, you may use q = 1.5 or other values \n",
    "dq0 = 7.856742013183863e-5\n",
    "mu=0.5\n",
    "dmu = 0.00039283710065919316\n",
    "delta = 0.0007071067811865476\n",
    "for q in qs:\n",
    "    dqs = np.linspace(2,7,10)*dq0\n",
    "    ff = FFState(mu=mu, dmu=dmu, d=2, delta=delta, k_c=500)\n",
    "    ps = [ff.get_pressure(mu=mu, dmu=dmu,q = q, dq=dq).n for dq in dqs]\n",
    "    clear_output()\n",
    "    plt.plot(dqs * 1000, ps)"
   ]
  },
  {
   "cell_type": "markdown",
   "metadata": {},
   "source": [
    "# 3D Cases:\n",
    "* the 3D cases are very sensitive to the cutoff k_c"
   ]
  },
  {
   "cell_type": "markdown",
   "metadata": {},
   "source": [
    "### homogeneous density"
   ]
  },
  {
   "cell_type": "code",
   "execution_count": null,
   "metadata": {
    "scrolled": false
   },
   "outputs": [],
   "source": [
    "homogeneous_Density(mu=5, dmu=0.64, delta=1, dim=3)"
   ]
  },
  {
   "cell_type": "markdown",
   "metadata": {},
   "source": [
    "### Good accuracy"
   ]
  },
  {
   "cell_type": "code",
   "execution_count": null,
   "metadata": {},
   "outputs": [],
   "source": [
    "test_Thermodynamic(mu = 5, dmu = 0.64, dim = 3, k_c = 250, q = 0, dq = 0)"
   ]
  },
  {
   "cell_type": "markdown",
   "metadata": {},
   "source": [
    "### Poor density accurary"
   ]
  },
  {
   "cell_type": "code",
   "execution_count": null,
   "metadata": {},
   "outputs": [],
   "source": [
    "test_Thermodynamic(mu = 5, dmu = 0.64, dim = 3, k_c = 100, q = 0, dq = 0)"
   ]
  },
  {
   "cell_type": "code",
   "execution_count": null,
   "metadata": {},
   "outputs": [],
   "source": []
  }
 ],
 "metadata": {
  "kernelspec": {
   "display_name": "Python 3",
   "language": "python",
   "name": "python3"
  },
  "language_info": {
   "codemirror_mode": {
    "name": "ipython",
    "version": 3
   },
   "file_extension": ".py",
   "mimetype": "text/x-python",
   "name": "python",
   "nbconvert_exporter": "python",
   "pygments_lexer": "ipython3",
   "version": "3.7.2"
  }
 },
 "nbformat": 4,
 "nbformat_minor": 2
}
