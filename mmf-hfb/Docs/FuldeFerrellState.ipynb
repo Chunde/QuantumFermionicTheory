{
 "cells": [
  {
   "cell_type": "code",
   "execution_count": null,
   "metadata": {},
   "outputs": [],
   "source": [
    "import mmf_setup;mmf_setup.nbinit()\n",
    "%pylab inline --no-import-all\n",
    "from nbimports import *                # Conveniences like clear_output\n",
    "\n",
    "from mmf_hfb import homogeneous;reload(homogeneous)\n",
    "from mmf_hfb.homogeneous import Homogeneous1D,Homogeneous3D\n",
    "from scipy.optimize import brentq\n",
    "import math"
   ]
  },
  {
   "cell_type": "markdown",
   "metadata": {},
   "source": [
    "# Fulde-Ferrell State"
   ]
  },
  {
   "cell_type": "code",
   "execution_count": null,
   "metadata": {},
   "outputs": [],
   "source": [
    "h = Homogeneous3D(T=0, q=0)\n",
    "k0 = 1.0\n",
    "mu = k0**2/2\n",
    "eF = mu/0.5906055\n",
    "kF = np.sqrt(2*eF)\n",
    "n_p = kF**3/3/np.pi**2\n",
    "mus_eff = (mu,)*2\n",
    "delta = 1.16220056*mus_eff[0] \n",
    "ainv, n, mu = h.get_BCS_v_n_e_in_cylindrical(\n",
    "    delta=delta, mus_eff=mus_eff, k_c=100.0)\n",
    "print(f\"ainv={ainv}\\tn=({n})\\tmu=({mu})\")\n",
    "(n.sum(), n_p)"
   ]
  },
  {
   "cell_type": "code",
   "execution_count": null,
   "metadata": {},
   "outputs": [],
   "source": [
    "h = Homogeneous3D(T=0, q=0.9)\n",
    "k0 = 1.0\n",
    "mu = k0**2/2\n",
    "delta = 1.16220056*mu\n",
    "dmu = 1.1*delta\n",
    "eF = mu/0.5906055\n",
    "kF = np.sqrt(2*eF)\n",
    "mus_eff = (mu+dmu, mu-dmu)\n",
    "ainv, n, mu = h.get_BCS_v_n_e_in_cylindrical(\n",
    "    delta=delta, mus_eff=mus_eff, k_c=100.0)\n",
    "print(f\"ainv={ainv}\\tn=({n})\\tmu=({mu})\")"
   ]
  },
  {
   "cell_type": "markdown",
   "metadata": {},
   "source": [
    "# Special Momenta"
   ]
  },
  {
   "cell_type": "markdown",
   "metadata": {},
   "source": [
    "$$\n",
    "\\epsilon_a = \\frac{\\hbar^2}{2m}\\left[(k_z + q)^2 + k_{\\perp}^2\\right] - \\mu_a\\\\\n",
    "\\epsilon_b = \\frac{\\hbar^2}{2m}\\left[(k_z - q)^2 + k_{\\perp}^2\\right] - \\mu_b\\\\\n",
    "$$"
   ]
  },
  {
   "cell_type": "markdown",
   "metadata": {},
   "source": [
    "$$\n",
    "\\epsilon_+=\\frac{\\hbar^2}{2m}\\left(k_z^2 + q^2 + k_{\\perp}^2\\right) - \\mu_+\\\\\n",
    "\\epsilon_-=\\frac{\\hbar^2}{2m}4k_zq+ \\mu_-=\\frac{2\\hbar^2 k_zq}{m}- \\mu_-\n",
    "$$"
   ]
  },
  {
   "cell_type": "markdown",
   "metadata": {},
   "source": [
    "$$\n",
    "  \\epsilon_\\pm = \\frac{\\epsilon_a \\pm \\epsilon_b}{2}, \\qquad\n",
    "  \\mu_{\\pm} = \\frac{\\mu_a \\pm \\mu_b}{2}\\\\\n",
    "  \\epsilon_- = \\frac{2\\hbar^2qk_z }{m}- \\mu_-, \\qquad\n",
    "  \\epsilon_+ = \\frac{\\hbar^2k_z^2}{2m} + \\frac{\\hbar^2q^2}{2m}+\\frac{\\hbar^2k_{\\perp}^2}{2m} - \\mu_+,\\\\\n",
    "  \\omega_{\\pm} = \\epsilon_- \\pm \\sqrt{\\epsilon_+^2 + \\Delta^2}\n",
    "$$"
   ]
  },
  {
   "cell_type": "markdown",
   "metadata": {},
   "source": [
    "The special momenta occur when $\\omega_{\\pm}=0$ or $\\epsilon_- = \\mp \\sqrt{\\epsilon_+^2+\\Delta^2}$.\n",
    "\n",
    "$$\n",
    "  \\epsilon_-^2 = \\epsilon_+^2 + \\Delta^2\n",
    "$$"
   ]
  },
  {
   "cell_type": "markdown",
   "metadata": {},
   "source": [
    "In 3d case:\n",
    "$$\n",
    "\\epsilon_+ = \\frac{\\hbar^2k_z^2}{2m}+\\frac{\\hbar^2k_{\\perp}^2}{2m} + \\frac{\\hbar^2q^2}{2m} - \\mu_+,\\\\\n",
    "$$"
   ]
  },
  {
   "cell_type": "markdown",
   "metadata": {},
   "source": [
    "### Extremum Points\n",
    "To have extremum points, the first order derivative should be zero."
   ]
  },
  {
   "cell_type": "markdown",
   "metadata": {},
   "source": [
    "\\begin{align}\n",
    "\\frac{d\\epsilon_+}{dk_z}&=\\frac{\\hbar^2}{m}k_z \\\\\n",
    "\\frac{d\\epsilon_-}{dk_z}&=\\frac{2\\hbar^2q}{m}\\\\\n",
    "\\frac{\\partial \\omega_{\\pm}}{\\partial \\epsilon_-}&= 1\\\\\n",
    "\\frac{\\partial \\omega_{\\pm}}{\\partial \\epsilon_+}&= \\pm\\frac{\\epsilon_+}{\\sqrt{\\epsilon_+^2 +\\Delta^2}}\\\\\n",
    "\\frac{d\\omega_+}{dk_z}\n",
    "&=\\frac{\\partial \\omega_+}{\\partial \\epsilon_+}\\frac{d\\epsilon_+}{dk_z} + \\frac{\\partial \\omega_+}{\\partial \\epsilon_-}\\frac{d\\epsilon_-}{dk_z} \\\\\n",
    "&=\\frac{\\epsilon_+}{\\sqrt{\\epsilon_+^2 +\\Delta^2}}\\frac{d\\epsilon_+}{dk_z} + \\frac{d\\epsilon_-}{dk_z} \\\\\n",
    "&=\\frac{\\epsilon_+}{\\sqrt{\\epsilon_+^2 +\\Delta^2}}\\frac{\\hbar^2}{m}k_z + \\frac{2\\hbar^2q}{m} \\\\\n",
    "\\frac{d\\omega_-}{dk_z}\n",
    "&=\\frac{\\partial \\omega_-}{\\partial \\epsilon_+}\\frac{d\\epsilon_+}{dk_z} + \\frac{\\partial \\omega_-}{\\partial \\epsilon_-}\\frac{d\\epsilon_-}{dk_z} \\\\\n",
    "&=-\\frac{\\epsilon_+}{\\sqrt{\\epsilon_+^2 +\\Delta^2}}\\frac{d\\epsilon_+}{dk_z} + \\frac{d\\epsilon_-}{dk_z} \\\\\n",
    "&=-\\frac{\\epsilon_+}{\\sqrt{\\epsilon_+^2 +\\Delta^2}}\\frac{\\hbar^2}{m}k_z + \\frac{2\\hbar^2q}{m} \\\\\n",
    "\\end{align}"
   ]
  },
  {
   "cell_type": "markdown",
   "metadata": {},
   "source": [
    "So, the condition for the extremum points are:\n",
    "\n",
    "\\begin{align}\n",
    "\\frac{\\epsilon_+}{\\sqrt{\\epsilon_+^2 +\\Delta^2}}k_z + 2q=0\\\\\n",
    "-\\frac{\\epsilon_+}{\\sqrt{\\epsilon_+^2 +\\Delta^2}}k_z + 2q=0 \\\\\n",
    "\\end{align}\n"
   ]
  },
  {
   "cell_type": "markdown",
   "metadata": {},
   "source": [
    "The extremum can be solved numberically by assuming $k_z\\ne 0$:\n",
    "$$\n",
    "\\pm\\epsilon_+ k_z = 2q\\sqrt{\\epsilon_+^2 + \\Delta^2}\n",
    "$$"
   ]
  },
  {
   "cell_type": "markdown",
   "metadata": {},
   "source": [
    "# To Do For Chunde:"
   ]
  },
  {
   "cell_type": "markdown",
   "metadata": {},
   "source": [
    "Derive integrals for FF state.\n",
    "\n",
    "* $P = \\mu_+n_+ + \\mu_- n_- - \\mathcal{E}$.\n",
    "\n",
    "\n",
    "* You can easily compute $P(\\mu_+, \\mu_-, \\Delta, q)$ and $a_s^{-1}(\\mu_+, \\mu_-, \\Delta, q)$.\n",
    "* Solve $a_s^{-1} = a_s^{-1}(\\mu_+, \\mu_-, \\Delta, q)$ to get $\\Delta(\\mu_+,\\mu_-, q, a_s^{-1})$. (Recall, there may be no solution - you must also always consider the normal phase $\\Delta=0$.)\n",
    "* Now maximize, including $P(\\mu_+, \\mu_-, \\Delta=0, q)$:\n",
    "\n",
    "  $$\n",
    "    \\max_{q} P(\\mu_+, \\mu_-, a_s^{-1}, q).\n",
    "  $$"
   ]
  },
  {
   "cell_type": "markdown",
   "metadata": {},
   "source": [
    "## BdG \n",
    "We start with the issue of regularization.  The $T=0$ equations in $d$ dimensions can be expressed in terms of the gap $\\Delta$ and effective chemical potential $\\mu_{\\text{eff}} = \\mu_0 + g_cn_+/2$ where $g_c>0$ represents an attractive interaction:\n",
    "\n",
    "$$\n",
    "  \\Delta = g_c \\nu_c, \\qquad\n",
    "  \\mu_{eff}-\\mu_0=g_cn_+/2\\qquad\n",
    "  \\epsilon_+ = \\frac{\\hbar^2k^2}{2m} - \\mu_{\\text{eff}}, \\qquad\n",
    "  \\mathcal{E} = \\frac{E}{V} \n",
    "              = \\frac{\\hbar^2\\tau_c}{2m} - g_c(n_an_b+\\nu_c^\\dagger\\nu_c)\n",
    "              = \\frac{\\hbar^2\\tau_c}{2m} - \\Delta^\\dagger\\nu_c - \\frac{(\\mu_{\\text{eff}} - \\mu_0)n_+}{2},\n",
    "$$\n",
    "\n",
    "through the following integrals:\n",
    "  \n",
    "\\begin{align}\n",
    "  \\nu_c &= \\int_{c}\\frac{\\d^d{k}}{(2\\pi)^d}\\;\\frac{\\Delta}{2\\sqrt{\\epsilon_+^2 + \\Delta^2}}\n",
    "  &&\\sim \\int_{c}\\frac{\\d^d{k}}{(2\\pi)^d}\\;\\frac{m\\Delta}{\\hbar^2 k^2},\\tag{1}\\\\\n",
    "  \\tau_c &= \\int_c\\frac{\\d^d{k}}{(2\\pi)^d}\\; k^2\n",
    "    \\left[1 - \\frac{\\epsilon_+}{\\sqrt{\\epsilon_+^2 + \\abs{\\Delta}^2}}\\right]\n",
    "  &&\\sim \\int_c\\frac{\\d^d{k}}{(2\\pi)^d}\\; \n",
    "  \\frac{2m^2\\abs{\\Delta}^2}{\\hbar^4 k^2},\\tag{2}\\\\\n",
    "  n_+ &= \\int_c\\frac{\\d^d{k}}{(2\\pi)^d}\n",
    "    \\left[1 - \\frac{\\epsilon_+}{\\sqrt{\\epsilon_+^2 + \\abs{\\Delta}^2}}\\right]\n",
    "  &&\\sim \\int_c\\frac{\\d^d{k}}{(2\\pi)^d}\\; \n",
    "  \\frac{2m^2\\abs{\\Delta}^2}{\\hbar^4 k^4}. \\tag{3}\\\\\n",
    "  \\kappa_c &=\\int_c\\frac{\\d^d{k}}{(2\\pi)^d}\\;\\left(\\frac{\\hbar^2\\tau_c}{2m} - \\Delta^\\dagger \\nu_c\\right) \n",
    "  &&\\sim \\int_c\\frac{\\d^d{k}}{(2\\pi)^d}\\;\\frac{2m^2\\abs{\\Delta}^2\\mu_{\\text{eff}}}{\\hbar^4 k^4},\\tag{4}\n",
    "\\end{align}"
   ]
  },
  {
   "cell_type": "markdown",
   "metadata": {},
   "source": [
    "The total kinetic energy is $\\tau_+=\\tau_a + \\tau_b$:"
   ]
  },
  {
   "cell_type": "markdown",
   "metadata": {},
   "source": [
    "$$\n",
    "\\tau_+ = \\int_c\\frac{\\d^d{k}}{(2\\pi)^d}((k+q)^2+(-k+q)^2)\\left[1 - \\frac{\\epsilon_+}{\\sqrt{\\epsilon_+^2 + \\abs{\\Delta}^2}}\\right]\\\\\n",
    "\\tau_+ = 2\\int_c\\frac{\\d^d{k}}{(2\\pi)^d}(k^2+q^2)\\left[1 - \\frac{\\epsilon_+}{\\sqrt{\\epsilon_+^2 + \\abs{\\Delta}^2}}\\right]\n",
    "$$"
   ]
  },
  {
   "cell_type": "markdown",
   "metadata": {},
   "source": [
    "## Inverse scattering length"
   ]
  },
  {
   "cell_type": "markdown",
   "metadata": {},
   "source": [
    "\\begin{align}\n",
    "\\frac{1}{v_0} \n",
    "  &=\\frac{m}{4\\pi\\hbar^2 a}- \\frac{1}{2} \\int_c\\frac{d^3k}{(2\\pi)^3}{\\frac{1}{\\frac{\\hbar^2k^2}{2m} + \\frac{\\hbar^2q^2}{2m} - \\mu_+}}\\\\\n",
    "   &=\\frac{m}{4\\pi\\hbar^2 a}- \\Lambda\\\\\n",
    "\\Lambda \n",
    "&= \\frac{1}{2} \\int_c\\frac{d^3k}{(2\\pi)^3}{\\frac{1}{\\frac{\\hbar^2k^2}{2m} + \\frac{\\hbar^2q^2}{2m} - \\mu_+}}\\\\\n",
    "&=\\frac{m}{\\hbar^2}\\frac{k_c}{2\\pi^2} \\left(1 - \\frac{k_0}{2k_c}\\ln\\frac{k_c+k_0}{k_c-k_0}\\right)\n",
    "\\end{align}\n",
    "where\n",
    "$$\n",
    "  \\frac{\\hbar^2k_0^2}{2m} - (\\mu_+ - \\frac{\\hbar^2q^2}{2m}) = 0, \\qquad\n",
    "  \\frac{\\hbar^2k_c^2}{2m} - (\\mu_+ - \\frac{\\hbar^2q^2}{2m})= E_c\n",
    "$$"
   ]
  },
  {
   "cell_type": "markdown",
   "metadata": {},
   "source": [
    "\\begin{align}\n",
    "\\frac{m}{4\\pi\\hbar^2}a(\\mu_+,\\mu_-,\\delta,q)^{-1} &=\\frac{1}{v_0}- \\frac{m}{\\hbar^2}\\frac{k_c}{2\\pi^2} \\left(1 - \\frac{k_0}{2k_c}\\ln\\frac{1+k_0/k_c}{1-k_0/k_c}\\right)\n",
    "\\end{align}\n",
    "where\n",
    "$$\n",
    "  \\frac{k_0}{k_c} = \\sqrt{\\frac{\\mu_+ - \\frac{\\hbar^2q^2}{2m}}{E_c + \\mu_+ - \\frac{\\hbar^2q^2}{2m}}}\n",
    "$$"
   ]
  },
  {
   "cell_type": "markdown",
   "metadata": {},
   "source": [
    "\n",
    "\\begin{align}\n",
    "\\frac{1}{v_0} &= \\frac{m}{4\\pi\\hbar^2}a(\\mu_+,\\mu_-,\\delta,q)^{-1} + \\frac{m}{\\hbar^2}\\frac{k_c}{2\\pi^2} \\left(1 - \\frac{k_0}{2k_c}\\ln\\frac{1+k_0/k_c}{1-k_0/k_c}\\right)\\\\\n",
    "\\frac{1}{\\Delta}\\nu_c &= \\frac{m}{4\\pi\\hbar^2}a(\\mu_+,\\mu_-,\\delta,q)^{-1} + \\frac{m}{\\hbar^2}\\frac{k_c}{2\\pi^2} \\left(1 - \\frac{k_0}{2k_c}\\ln\\frac{1+k_0/k_c}{1-k_0/k_c}\\right)\\\\\n",
    "\\end{align}"
   ]
  },
  {
   "cell_type": "markdown",
   "metadata": {},
   "source": [
    "Substituting the integral for $\\nu_c$ yields:"
   ]
  },
  {
   "cell_type": "markdown",
   "metadata": {},
   "source": [
    "\\begin{align}\n",
    "\\int_{c}\\frac{dk^3}{(2\\pi)^3}\\frac{1}{2\\sqrt{\\epsilon_+^2 + \\Delta^2}}\\left(f(\\omega_-)-f(\\omega_+)\\right) &= \\frac{m}{4\\pi\\hbar^2}a^{-1}(\\mu_+,\\mu_-,\\delta,q) + \\frac{m}{\\hbar^2}\\frac{k_c}{2\\pi^2} \\left(1 - \\frac{k_0}{2k_c}\\ln\\frac{1+k_0/k_c}{1-k_0/k_c}\\right)\\tag{5}\\\\\n",
    "\\end{align}"
   ]
  },
  {
   "cell_type": "markdown",
   "metadata": {},
   "source": [
    "## Pressure integral"
   ]
  },
  {
   "cell_type": "markdown",
   "metadata": {},
   "source": [
    "### The total energy density"
   ]
  },
  {
   "cell_type": "markdown",
   "metadata": {},
   "source": [
    "\\begin{align}\n",
    "\\mathcal{E} &= \\frac{E}{V}= \\frac{\\hbar^2\\tau_+}{2m} - g_c(n_an_b+\\nu_c^\\dagger\\nu_c) \\\\\n",
    "              &= \\frac{\\hbar^2\\tau_+}{2m} - \\Delta^\\dagger\\nu_c - \\frac{(\\mu_{\\text{eff}} - \\mu_0)n_+}{2}\\\\\n",
    "              &= - \\frac{(\\mu_{\\text{eff}} - \\mu_0)n_+}{2} +\\frac{\\hbar^2\\tau_+}{2m} - \\Delta^\\dagger\\nu_c \\\\\n",
    "              \\mathcal{E}&= \\frac{\\hbar^2}{2m}\\int_c\\frac{\\d^3{k}}{(2\\pi)^3}k^2\n",
    "    \\left[1 - \\frac{\\epsilon_+}{\\sqrt{\\epsilon_+^2 + \\abs{\\Delta}^2}}\\right] - \\Delta^\\dagger\\int_{c}\\frac{\\d^3{k}}{(2\\pi)^3}\\frac{\\Delta}{2\\sqrt{\\epsilon_+^2 + \\Delta^2}} - \\frac{(\\mu_{\\text{eff}} - \\mu_0)n_+}{2}\\\\\n",
    "    &= \\int_c\\frac{\\d^3{k}}{(2\\pi)^3}\n",
    "    \\left[\\frac{\\hbar^2k^2}{2m}\\left(1 - \\frac{\\epsilon_+}{\\sqrt{\\epsilon_+^2 + \\abs{\\Delta}^2}}\\right) - \\frac{\\Delta^2}{2\\sqrt{\\epsilon_+^2 + \\Delta^2}}\\right] - \\frac{(\\mu_{\\text{eff}} - \\mu_0)n_+}{2},\n",
    "\\end{align}"
   ]
  },
  {
   "cell_type": "markdown",
   "metadata": {},
   "source": [
    "### Grand Canonical Potential"
   ]
  },
  {
   "cell_type": "markdown",
   "metadata": {},
   "source": [
    "\\begin{align}\n",
    "P(q)&=\n",
    "\\mu_+n_+ + \\mu_-n_- - \\frac{(\\mu_{\\text{eff}} - \\mu_0)n_+}{2}-( \\frac{\\hbar^2\\tau_c}{2m} - \\Delta^\\dagger\\nu_c )\\\\\n",
    "&=\\mu_+n_+ + \\mu_- n_- - \\frac{(\\mu_{\\text{eff}} - \\mu_0)n_+}{2}- \\int_c\\frac{k_{\\perp}dk_{\\perp}dk_z}{(2\\pi)^2}\n",
    "\\left[\\frac{\\hbar^2(k_{\\perp}^2+(k_z+q)^2)}{2m}\\left(1 - \\frac{\\epsilon_+}{\\sqrt{\\epsilon_+^2 + \\abs{\\Delta}^2}}\\right) - \\frac{\\Delta^2}{2\\sqrt{\\epsilon_+^2 + \\Delta^2}}\\right]\\\\\n",
    "&=\\mu_+\\int_c\\frac{d^3k}{(2\\pi)^3}\\left(1 - \\frac{\\epsilon^+_k}{E_k}\\bigl(f(\\omega_-) - f(\\omega_+)\\bigr)\\right) + \\mu_- \\int\\frac{\\d^3{k}}{(2\\pi)^3}\\bigl(f(\\omega_+) - f(-\\omega_-)\\bigr) - \\int_c\\frac{k_{\\perp}dk_{\\perp}dk_z}{(2\\pi)^2}\n",
    "\\left[\\frac{\\hbar^2(k_{\\perp}^2+(k_z+q)^2)}{2m}\\left(1 - \\frac{\\epsilon_+}{\\sqrt{\\epsilon_+^2 + \\abs{\\Delta}^2}}\\right) - \\frac{\\Delta^2}{2\\sqrt{\\epsilon_+^2 + \\Delta^2}}\\right] \\\\\n",
    "&=\\int_c\\frac{d^3k}{(2\\pi)^3}\n",
    "\\left[\\mu_+\\left(1 - \\frac{\\epsilon^+_k}{E_k}\\bigl(f(\\omega_-) - f(\\omega_+)\\bigr)\\right) + \\mu_- \\bigl(f(\\omega_+) - f(-\\omega_-)\\bigr) - \\frac{\\hbar^2k^2}{2m}\\left(1 - \\frac{\\epsilon_+}{\\sqrt{\\epsilon_+^2 + \\abs{\\Delta}^2}}\\right) - \\frac{\\Delta^2}{2\\sqrt{\\epsilon_+^2 + \\Delta^2}}\\right]\\tag{6}\\\\  \n",
    "\\end{align}"
   ]
  },
  {
   "cell_type": "markdown",
   "metadata": {},
   "source": [
    "## Maximize $P(\\mu_+,\\mu_-,\\Delta,q)$\n",
    "For any given $\\mu s$ and scattering length, to maximize $P$ is equivalent to have $\\frac{\\partial P}{\\partial q} = 0$, and $q$ shows up in any $k_z$, so in any part of the equation depends on $k$:"
   ]
  },
  {
   "cell_type": "code",
   "execution_count": null,
   "metadata": {},
   "outputs": [],
   "source": [
    "from mmf_hfb import FuldeFerrelState\n",
    "reload(FuldeFerrelState)\n",
    "from mmf_hfb import tf_completion as tf\n",
    "reload(tf)\n",
    "from mmf_hfb.FuldeFerrelState import get_pressure\n",
    "from mmf_hfb.tf_completion import *"
   ]
  },
  {
   "cell_type": "code",
   "execution_count": null,
   "metadata": {},
   "outputs": [],
   "source": [
    "qs = np.linspace(0,.0010,5)\n",
    "np.random.seed(1)\n",
    "m, hbar, kF = 1 + np.random.random(3)\n",
    "eF = (hbar*kF)**2/2/m\n",
    "nF = kF**3/3/np.pi**2\n",
    "mu = 0.59060550703283853378393810185221521748413488992993*eF\n",
    "delta = 0.68640205206984016444108204356564421137062514068346*eF\n",
    "args = dict(mu_a=mu, mu_b=mu, delta=delta, m_a=m, m_b=m, hbar=hbar, T=0.0)"
   ]
  },
  {
   "cell_type": "code",
   "execution_count": null,
   "metadata": {},
   "outputs": [],
   "source": [
    "np.random.seed(1)\n",
    "m, hbar, kF = 1 + np.random.random(3)\n",
    "eF = (hbar*kF)**2/2/m\n",
    "nF = kF**3/3/np.pi**2\n",
    "mu = 0.59060550703283853378393810185221521748413488992993*eF\n",
    "delta = 0.68640205206984016444108204356564421137062514068346*eF\n",
    "dmu = 0.9 * delta\n",
    "mu_a,mu_b= mu + dmu / 2,mu - dmu / 2\n",
    "args = dict(mu_a=mu + dmu / 2, mu_b=mu - dmu / 2, delta=delta, m_a=m, m_b=m, hbar=hbar, T=0.0)"
   ]
  },
  {
   "cell_type": "code",
   "execution_count": null,
   "metadata": {},
   "outputs": [],
   "source": [
    "qs = np.linspace(0.1,1.5,10)\n",
    "ps = [get_pressure(mu_a = mu_a,mu_b=mu_b,delta=delta,T=0,q=q).n for q in qs]"
   ]
  },
  {
   "cell_type": "code",
   "execution_count": null,
   "metadata": {},
   "outputs": [],
   "source": [
    "plt.plot(qs,ps)\n",
    "plt.ylabel('Pressure')\n",
    "plt.xlabel('q')\n",
    "plt.title(f\"mu_a={mu_a} mu_b={mu_b}\")"
   ]
  },
  {
   "cell_type": "markdown",
   "metadata": {},
   "source": [
    "### $\\tilde{C}$ vs delta"
   ]
  },
  {
   "cell_type": "code",
   "execution_count": null,
   "metadata": {},
   "outputs": [],
   "source": [
    "np.random.seed(1)\n",
    "m, hbar, kF = 1 + np.random.random(3)\n",
    "eF = (hbar*kF)**2/2/m\n",
    "nF = kF**3/3/np.pi**2\n",
    "mu = 0.59060550703283853378393810185221521748413488992993*eF\n",
    "delta = .68640205206984016444108204356564421137062514068346*eF\n",
    "args = dict(mu_a=mu, mu_b=mu, m_a=m,m_b=m, hbar=hbar, T=0.0)\n",
    "deltas = np.linspace(0, mu*2, 10)\n",
    "Cs = [tf.compute_C(d=3, delta=delta,q=0, **args) for delta in deltas]"
   ]
  },
  {
   "cell_type": "code",
   "execution_count": null,
   "metadata": {},
   "outputs": [],
   "source": [
    "Cns =[c.n for c in Cs]\n",
    "plt.plot(deltas, Cns)"
   ]
  },
  {
   "cell_type": "markdown",
   "metadata": {},
   "source": [
    "## Thermodynamic Relations\n",
    "The pressure of the system is given as:\n",
    "\\begin{align}\n",
    "P(q)&=\\mu_+n_+ + \\mu_-n_- -( \\frac{\\hbar^2\\tau_c}{2m} - \\Delta^\\dagger\\nu_c )\\\\\n",
    "&=\\mu_+n_+ + \\mu_-n_- -\\kappa\\\\\n",
    "\\end{align}\n",
    "the following two relation satisfied:\n",
    "* $n_a = \\frac{\\partial p(\\mu_a,\\mu_b)}{\\partial \\mu_a}$\n",
    "* $n_b = \\frac{\\partial p(\\mu_a,\\mu_b)}{\\partial \\mu_b}$"
   ]
  },
  {
   "cell_type": "markdown",
   "metadata": {},
   "source": [
    "However, a bit careful thought,it may not be that simply, the densities $n_+$, $n_-$ and $\\kappa$ also depend on $\\mu_a$, $\\mu_b$:\n",
    "\\begin{align}\n",
    "\\frac{\\partial P}{\\partial \\mu_a} \n",
    "&= \\frac{\\partial \\mu_+}{\\partial \\mu_a}n_+ + \\frac{\\partial n_+}{\\partial \\mu_a}\\mu_+  \\frac{\\partial \\mu_-}{\\partial \\mu_a}n_- + \\frac{\\partial n_-}{\\partial \\mu_a}\\mu_- + \\frac{\\partial \\kappa}{\\partial \\mu_a}\\\\\n",
    "&=\\frac{1}{2}n_+ +\\frac{1}{2}n_- +  \\frac{\\partial n_+}{\\partial \\mu_a}\\mu_+ + \\frac{\\partial n_-}{\\partial \\mu_a}\\mu_- + \\frac{\\partial \\kappa}{\\partial \\mu_a}\\\\\n",
    "&=n_a +  \\overbrace{\\frac{\\partial n_+}{\\partial \\mu_a}\\mu_+ + \\frac{\\partial n_-}{\\partial \\mu_a}\\mu_- + \\frac{\\partial \\kappa}{\\partial \\mu_a}}^{\\text{may not vanish}}\\\\\n",
    "\\end{align}"
   ]
  },
  {
   "cell_type": "markdown",
   "metadata": {},
   "source": [
    "<font color='red'>No, I miss couple of points:</font>\n",
    "* The $\\Delta$ also depends on $\\mu s$\n",
    "* The energy density $\\kappa$ may not be used in the calculation as it's reqularized version."
   ]
  },
  {
   "cell_type": "code",
   "execution_count": null,
   "metadata": {},
   "outputs": [],
   "source": [
    "def get_delta(mu_a, mu_b, m_a, m_b, T=0, hbar = 1, k_c = 10, q=0):\n",
    "    def f(delta):        \n",
    "        C = tf.compute_C(mu_a = mu_a,mu_b = mu_b,delta = delta,m_a = m_a,  m_b=m_b,d=3, hbar= hbar,T=T, q=q, k_c= k_c)\n",
    "        return C.n\n",
    "    return brentq(f, 0.5, 1.0)\n",
    "\n",
    "def get_pressure(mu_a, mu_b, delta=None, m=1, hbar=1, T=0, q=0):\n",
    "    if delta is None:\n",
    "        delta = get_delta(mu_a= mu_a, mu_b=mu_b, m_a=m, m_b=m,T=T, q=q)\n",
    "    args = dict(mu_a=mu_a, mu_b=mu_b, delta=delta,hbar=hbar,q=q,T=0.0)\n",
    "    mu_p,mu_m = (mu_a + mu_b)/2, (mu_a - mu_b)/2\n",
    "    args['m_a']=m\n",
    "    args['m_b']=m\n",
    "    n_p = tf.integrate_q(tf.n_p_integrand,d=3, **args)\n",
    "    n_m = tf.integrate_q(tf.n_m_integrand,d=3, **args)\n",
    "    kappa = 0#tf.integrate_q(tf.kappa_integrand,d=3,k_c=10.0, **args)\n",
    "    pressure = mu_p * n_p + mu_m * n_m - kappa\n",
    "    return pressure\n"
   ]
  },
  {
   "cell_type": "markdown",
   "metadata": {},
   "source": [
    "# Polarized Vortex"
   ]
  },
  {
   "cell_type": "markdown",
   "metadata": {},
   "source": [
    "We present here an analysis of a polarized vortex from the perspective of the Fulde-Ferrell (FF) state.  We start with the FF state in 1D."
   ]
  },
  {
   "cell_type": "markdown",
   "metadata": {},
   "source": [
    "### Define the FF class"
   ]
  },
  {
   "cell_type": "code",
   "execution_count": null,
   "metadata": {},
   "outputs": [],
   "source": [
    "from mmf_hfb import tf_completion as tf;reload(tf)\n",
    "from nbimports import *"
   ]
  },
  {
   "cell_type": "code",
   "execution_count": null,
   "metadata": {},
   "outputs": [],
   "source": [
    "from mmf_hfb import tf_completion as tf\n",
    "from nbimports import *\n",
    "\n",
    "class FF(object):\n",
    "    def __init__(self, mu=10, dmu=0.4, delta=1,\n",
    "                 m=1, T=0, hbar=1, k_c=100, d=2):\n",
    "        self.d = d\n",
    "        self.T = T\n",
    "        self.mu = mu\n",
    "        self.m = m\n",
    "        self.dmu = dmu\n",
    "        self.delta = delta\n",
    "        self.hbar = hbar\n",
    "        self._tf_args = dict(m_a=1, m_b=1, d=d, hbar=hbar, T=T, k_c=k_c)\n",
    "        self.C = tf.compute_C(mu_a=mu, mu_b=mu, delta=delta, q=0, **self._tf_args).n\n",
    "        self._tf_args.update(mu_a=mu + dmu, mu_b=mu - dmu)\n",
    "        \n",
    "    def f(self, delta, r, **kw):\n",
    "        args = dict(self._tf_args)\n",
    "        args.update(kw)\n",
    "        q = 1/r\n",
    "        return tf.compute_C(delta=delta, q=q, **args).n - self.C\n",
    "    \n",
    "    def get_densities(self, delta, r):\n",
    "        q = 1/r\n",
    "        mu_a, mu_b = self.mu + self.dmu, self.mu - self.dmu\n",
    "        mu_p,mu_m = (mu_a + mu_b)/2, (mu_a - mu_b)/2\n",
    "        args = dict(mu_a=mu_a, mu_b=mu_b, delta=delta, hbar=self.hbar,\n",
    "                    m_a=self.m, m_b=self.m, q=q, T=self.T)\n",
    "        n_p = tf.integrate_q(tf.n_p_integrand,d=self.d, **args)\n",
    "        n_m = tf.integrate_q(tf.n_m_integrand,d=self.d, **args)\n",
    "        return (n_p + n_m)/2, (n_p - n_m)/2\n",
    "\n",
    "    def get_pressure(self, delta, r):\n",
    "        q = 1/r\n",
    "        mu_a, mu_b = self.mu + self.dmu, self.mu - self.dmu\n",
    "        mu_p,mu_m = (mu_a + mu_b)/2, (mu_a - mu_b)/2\n",
    "        args = dict(mu_a=mu_a, mu_b=mu_b, delta=delta, hbar=self.hbar,\n",
    "                    m_a=self.m, m_b=self.m, q=q, T=self.T)\n",
    "  \n",
    "        n_p = tf.integrate_q(tf.n_p_integrand,d=self.d, **args)\n",
    "        n_m = tf.integrate_q(tf.n_m_integrand,d=self.d, **args)\n",
    "        kappa = tf.integrate_q(tf.kappa_integrand,d=self.d,k_c=10.0, **args)\n",
    "        pressure = mu_p * n_p + mu_m * n_m - kappa\n",
    "        return pressure\n",
    "\n",
    "        \n",
    "    def solve(self, r,a=0.8,b=1.2):\n",
    "        q = 1/r\n",
    "        def f(delta):\n",
    "            return self.C - tf.compute_C(delta=delta, q=q, **self._tf_args).n\n",
    "        try:\n",
    "            delta = brentq(f,a,b)\n",
    "            return delta\n",
    "        except:\n",
    "            return 0"
   ]
  },
  {
   "cell_type": "markdown",
   "metadata": {},
   "source": [
    "### Check solution ranges"
   ]
  },
  {
   "cell_type": "code",
   "execution_count": null,
   "metadata": {},
   "outputs": [],
   "source": [
    "mu=10\n",
    "dmu=0.4\n",
    "ff = FF(dmu=dmu, mu=mu, d=1)\n",
    "deltas = np.linspace(0,2,20)\n",
    "rs = [3,3.6,4,5,6]\n",
    "for r in rs:\n",
    "    fs = [ff.f(delta=delta, r=r, mu_a=mu+dmu, mu_b=mu-dmu) for delta in deltas]\n",
    "    plt.plot(deltas, fs, label=f'r={r}')\n",
    "plt.legend()\n",
    "plt.axhline(0);plt.axvline(1)"
   ]
  },
  {
   "cell_type": "code",
   "execution_count": null,
   "metadata": {
    "scrolled": true
   },
   "outputs": [],
   "source": [
    "ff = FF(dmu=.4, mu=10, d=1)\n",
    "ds = np.linspace(0,2.5,20)\n",
    "fs = [ff.f(delta=delta, r=np.inf, mu_a=mu+dmu, mu_b=mu-dmu) for delta in ds]\n",
    "plt.plot(ds, fs)\n",
    "plt.axhline(0);plt.axvline(1)"
   ]
  },
  {
   "cell_type": "markdown",
   "metadata": {},
   "source": [
    "### Compute $\\Delta$ and densities in radius direction"
   ]
  },
  {
   "cell_type": "code",
   "execution_count": null,
   "metadata": {
    "scrolled": false
   },
   "outputs": [],
   "source": [
    "ff = FF(dmu=.4, mu=10, d=1)\n",
    "ff = FF(dmu=.4, mu=10, d=1)\n",
    "ds = np.linspace(0,2,20)\n",
    "rs = np.append(np.linspace(3,4,10),[np.linspace(4.1,5,10),np.linspace(5.1,10,10)])\n",
    "deltas=[]\n",
    "densities=[]\n",
    "def min_index(fs):\n",
    "    min_value = fs[0]\n",
    "    min_index = 0\n",
    "    for i in range(1,len(fs)):\n",
    "        if fs[i] < min_value:\n",
    "            min_value = fs[i]\n",
    "            min_index = i\n",
    "    return min_index,min_value\n",
    "\n",
    "for r in rs:\n",
    "    fs = [ff.f(delta=delta, r=r, mu_a=mu+dmu, mu_b=mu-dmu) for delta in ds]\n",
    "    index, value = min_index(fs)\n",
    "    delta = 0\n",
    "    if value < 0:\n",
    "        delta = ff.solve(r=r,a= ds[index])\n",
    "        #assert delta > 0\n",
    "        if fs[0] > 0:\n",
    "            smaller_delta = ff.solve(r=r,a=ds[0],b=ds[index])\n",
    "            #print(f\"a smaller delta={smaller_delta} is found for r={r}\")\n",
    "            p1 = ff.get_pressure(delta=delta,r=r)\n",
    "            p2 = ff.get_pressure(delta=smaller_delta, r=r)\n",
    "            if(p2 > p1):\n",
    "                delta = smaller_delta\n",
    "            #delta = smaller_delta\n",
    "                \n",
    "    deltas.append(delta)\n",
    "    ns = ff.get_densities(delta=delta, r=r)\n",
    "    densities.append(ns)\n",
    "   "
   ]
  },
  {
   "cell_type": "markdown",
   "metadata": {},
   "source": [
    "#### Plot $\\Delta$ profile"
   ]
  },
  {
   "cell_type": "code",
   "execution_count": null,
   "metadata": {
    "scrolled": false
   },
   "outputs": [],
   "source": [
    "plt.plot(rs,deltas,'--')"
   ]
  },
  {
   "cell_type": "code",
   "execution_count": null,
   "metadata": {
    "scrolled": true
   },
   "outputs": [],
   "source": [
    "fig, ax1 = plt.subplots()\n",
    "left, bottom, width, height = [0.35, 0.4, 0.4, 0.4]\n",
    "ax2 = fig.add_axes([left, bottom, width, height])\n",
    "offset = 10\n",
    "ax1.plot(rs,deltas,'--', color='red')\n",
    "ax2.plot(rs[offset:],deltas[offset:],'--', color='green')\n",
    "ax1.set_xlabel(r'$r$')\n",
    "ax1.set_ylabel(r'$\\Delta$')"
   ]
  },
  {
   "cell_type": "markdown",
   "metadata": {},
   "source": [
    "#### Plot density profiles"
   ]
  },
  {
   "cell_type": "code",
   "execution_count": null,
   "metadata": {
    "scrolled": true
   },
   "outputs": [],
   "source": [
    "na=[]\n",
    "nb=[]\n",
    "for ns in densities:\n",
    "    na.append(ns[0].n)\n",
    "    nb.append(ns[1].n)\n",
    "    \n",
    "fig, ax1 = plt.subplots()\n",
    "\n",
    "left, bottom, width, height = [0.45, 0.6, 0.2, 0.2]\n",
    "ax2 = fig.add_axes([left, bottom, width, height])\n",
    "\n",
    "ax1.plot(rs,na,label=r\"$n_a$\")\n",
    "ax1.plot(rs,nb,label=r\"$n_b$\")\n",
    "\n",
    "ax1.set_xlabel(r'$r$')\n",
    "ax1.set_ylabel(r'$n$')\n",
    "offset = 15\n",
    "ax2.plot(rs[offset:],na[offset:],'--')\n",
    "ax2.plot(rs[offset:],nb[offset:],'--')\n",
    "fig.legend()"
   ]
  },
  {
   "cell_type": "markdown",
   "metadata": {},
   "source": [
    "### Some discussion"
   ]
  },
  {
   "cell_type": "code",
   "execution_count": null,
   "metadata": {},
   "outputs": [],
   "source": [
    "for r in [2.0, 3.0, 4.0]:\n",
    "    q = 1/r\n",
    "    mu = 10.0\n",
    "    dmu = 0.4\n",
    "    ff = FF(dmu=dmu, mu=mu, d=1)\n",
    "    deltas = np.linspace(0, 2, 100)\n",
    "    mu_a = mu + dmu + q**2/2\n",
    "    mu_b = mu - dmu + q**2/2\n",
    "    fs = [ff.f(delta=delta, r=r, mu_a=mu_a, mu_b=mu_b) for delta in deltas]\n",
    "    l, = plt.plot(deltas, fs, label=f'r={r}')\n",
    "    fs = [ff.f(delta=delta, r=-r, mu_a=mu_a, mu_b=mu_b) for delta in deltas]\n",
    "    plt.plot(deltas, fs, '--', c=l.get_c(), label=f'r={-r}')\n",
    "\n",
    "plt.legend()\n",
    "plt.axhline(0);plt.axvline(1)\n",
    "plt.xlabel(r'$\\Delta$')\n",
    "plt.ylabel(r'$C(q) - C(0)$')"
   ]
  },
  {
   "cell_type": "markdown",
   "metadata": {},
   "source": [
    "Here we see the behaviour of the gap equation for various values of $r=\\hbar/q$.  We have shifted the chemical potential here by $q^2/2m$ so that the gap equation remains the same. The lower curve is the unrestricted integral ($p=\\hbar k$):\n",
    "\n",
    "$$\n",
    "  \\int\\frac{\\d{k}}{(2\\pi)}\\;\n",
    "  \\frac{1}{2\\sqrt{\\left(\\frac{p^2}{2m}-\\mu_q\\right) + \\abs{\\Delta}^2}} \n",
    "  - \\tilde{C}(0), \\qquad\n",
    "  \\mu_q = \\mu - \\frac{q^2}{2m}.\n",
    "$$\n",
    "\n",
    "The upper curves are the same integrand, but only over the regions where $\\omega_+\\omega_- < 0$, which is restricted at lower values of the gap.  We can find this value by solving the equations $\\omega_{\\pm}'(k) = 0$ and $\\omega_{\\pm}(k) = 0$ to obtain the following equations:\n",
    "\n",
    "$$\n",
    "  \\pm p\\epsilon_+ = q E, \\qquad\n",
    "  \\epsilon_- = \\mp E\\\\\n",
    "  \\frac{p}{q}\\left(\\frac{p^2}{2m} - \\mu_q\\right) \n",
    "  = \\frac{pq}{m}+\\delta = \\pm E  \n",
    "$$"
   ]
  },
  {
   "cell_type": "markdown",
   "metadata": {},
   "source": [
    "$$\n",
    "  q = \\frac{-m\\delta}{p} \\pm \\sqrt{p^2 - 2m\\mu +\\frac{m^2\\delta^2}{p^2}}\n",
    "$$"
   ]
  },
  {
   "cell_type": "markdown",
   "metadata": {},
   "source": [
    "$$\n",
    "  \\mu_a = \\mu_+ + \\delta, \\qquad\n",
    "  \\mu_b = \\mu_- - \\delta, \\\\\n",
    "  \\epsilon_+ = \\frac{k^2}{2m} - \\Bigl(\\overbrace{\\mu - \\frac{q^2}{2m}}^{\\mu_q}\\Bigr),\n",
    "  \\qquad\n",
    "  \\epsilon_- = \\frac{-\\hbar^2 qk}{m} - \\delta.\n",
    "$$"
   ]
  },
  {
   "cell_type": "markdown",
   "metadata": {},
   "source": [
    "$$\n",
    "  (\\d{\\mu} - 2qk)^2 = \\Delta^2 + (k^2/2 - \\mu_q)^2\n",
    "$$"
   ]
  },
  {
   "cell_type": "markdown",
   "metadata": {},
   "source": [
    "$$\n",
    "  \\omega_\\pm = \\epsilon_- \\pm E\\\\\n",
    "  -2q \\pm \\frac{k\\epsilon_+}{E} = 0\n",
    "$$"
   ]
  },
  {
   "cell_type": "markdown",
   "metadata": {},
   "source": [
    "$$\n",
    "  4q^2(\\epsilon_+^2 + \\Delta^2) = 2(\\epsilon_+ + \\mu_q)\\epsilon_+^2\\\\\n",
    "  (\\d{\\mu} - 2qk)^2 - \\Delta^2 = \\epsilon_+^2\n",
    "$$"
   ]
  },
  {
   "cell_type": "markdown",
   "metadata": {},
   "source": [
    "$$\n",
    "\\pm\\epsilon_+ k_z = 2q\\sqrt{\\epsilon_+^2 + \\Delta^2}\n",
    "$$"
   ]
  },
  {
   "cell_type": "markdown",
   "metadata": {},
   "source": [
    "###  Determine Integrand Boundary"
   ]
  },
  {
   "cell_type": "code",
   "execution_count": null,
   "metadata": {},
   "outputs": [],
   "source": [
    "def find_extremum(delta, mu, dmu, q=0,kp=0, hbar=1, m=1):\n",
    "    kF = np.sqrt(2*mu*m)/hbar\n",
    "    def f(k):\n",
    "        ea = (k+q)**2 *hbar**2/2/m + (hbar*kp)**2/2/m - mu - dmu\n",
    "        eb = (k-q)**2 * hbar**2/2/m  + (hbar*kp)**2/2/m - mu + dmu\n",
    "        ep, em = (ea + eb)/2, (ea - eb)/2\n",
    "        E = np.sqrt(ep**2 + delta**2)\n",
    "        wp = em + E\n",
    "        return ep * k - 2 * q *E#(ep * k)**2 - 4*q**2* E\n",
    "    try:\n",
    "        return brentq(f,0.5*kF,2*kF)\n",
    "    except:\n",
    "        return None"
   ]
  },
  {
   "cell_type": "code",
   "execution_count": null,
   "metadata": {},
   "outputs": [],
   "source": [
    "f = find_extremum(1,1,1,1)"
   ]
  },
  {
   "cell_type": "code",
   "execution_count": null,
   "metadata": {
    "scrolled": true
   },
   "outputs": [],
   "source": [
    "def plot_dispersion(delta, q, mu, dmu):\n",
    "    kF = np.sqrt(2*mu)\n",
    "    k = np.linspace(0, 2*kF, 100)\n",
    "    ea, eb = (k+q)**2/2 - mu - dmu, (k-q)**2/2 - mu + dmu\n",
    "    ep, em = (ea + eb)/2, (ea - eb)/2\n",
    "    E = np.sqrt(ep**2 + delta**2)\n",
    "    wp, wm = em + E, em - E\n",
    "    plt.plot(k, wp)\n",
    "    plt.plot(k, wm)\n",
    "    plt.grid()\n",
    "    plt.ylim(-12,12)\n",
    "\n",
    "plot_dispersion(delta=1.0, mu=10.0, dmu=0.4, q=-1/3.3)\n",
    "    "
   ]
  },
  {
   "cell_type": "markdown",
   "metadata": {},
   "source": [
    "$$\n",
    "  \\Delta = e^{\\I q x}\\Delta_0\n",
    "$$"
   ]
  },
  {
   "cell_type": "code",
   "execution_count": null,
   "metadata": {},
   "outputs": [],
   "source": [
    "%debug"
   ]
  },
  {
   "cell_type": "code",
   "execution_count": null,
   "metadata": {},
   "outputs": [],
   "source": [
    "# Integration bug\n",
    "mu = 10.0\n",
    "dmu = 0.4\n",
    "args = dict(mu_a=mu+dmu, mu_b=mu-dmu, m_a=1, m_b=1, d=2, \n",
    "            hbar=1, T=0, k_c=100, delta=1.0)\n",
    "tf.compute_C(q=0.001, **args).n"
   ]
  },
  {
   "cell_type": "markdown",
   "metadata": {},
   "source": [
    "# Integrand Boundaries"
   ]
  },
  {
   "cell_type": "code",
   "execution_count": null,
   "metadata": {},
   "outputs": [],
   "source": [
    "import numba\n",
    "@numba.jit(nopython=True)\n",
    "def f(E, T):\n",
    "    \"\"\"Fermi distribution function.\"\"\"\n",
    "    if T == 0:\n",
    "        return (1 - np.sign(E))/2\n",
    "    else:\n",
    "        return 1./(1+np.exp(E/T))\n",
    "    \n",
    "@numba.jit(nopython=True)\n",
    "def nu_delta_integrand(ka2, kb2, mu_a, mu_b, delta=1, m_a=1, m_b=1, hbar=1, T=0):\n",
    "    e = hbar**2/2\n",
    "    e_a, e_b = e*ka2/m_a - mu_a, e*kb2/m_b - mu_b\n",
    "    e_m, e_p = (e_a - e_b)/2, (e_a + e_b)/2\n",
    "    E = np.sqrt(e_p**2 + abs(delta)**2)\n",
    "    w_m, w_p = e_m - E, e_m + E\n",
    "    f_nu = (f(w_m, T) - f(w_p, T))\n",
    "    return -0.5/E*f_nu\n",
    "\n",
    "@numba.jit(nopython=True)\n",
    "def C_integrand(ka2, kb2, mu_a, mu_b, delta=1, m_a=1, m_b=1, hbar=1, T=0):\n",
    "    e = hbar**2/2\n",
    "    e_a, e_b = e*ka2/m_a - mu_a, e*kb2/m_b - mu_b\n",
    "    e_m, e_p = (e_a - e_b)/2, (e_a + e_b)/2\n",
    "    E = np.sqrt(e_p**2 + abs(delta)**2)\n",
    "    w_m, w_p = e_m - E, e_m + E\n",
    "    f_nu = (f(w_m, T) - f(w_p, T))\n",
    "    return 0.5*(1/e_p - f_nu/E)"
   ]
  },
  {
   "cell_type": "code",
   "execution_count": null,
   "metadata": {},
   "outputs": [],
   "source": [
    "from mmf_hfb.Integrates import dquad_kF\n",
    "def dquad(f, kF=None, k_0=0, k_inf=np.inf, limit=50):\n",
    "    return dquad_kF(f, kF, k_0, k_inf, limit) \n",
    "\n",
    "def integrate_q(f, mu_a, mu_b, delta=1, m_a=1, m_b=1, d=3,\n",
    "                q=0.0, hbar=1.0, T=0.0, k_0=0, k_c=None):\n",
    "    args = (mu_a, mu_b, delta, m_a, m_b, hbar, T)\n",
    "    k_inf = np.inf if k_c is None else k_c\n",
    "    if d == 1:\n",
    "        def integrand(k):\n",
    "            k2_a = (k+q)**2\n",
    "            k2_b = (k-q)**2\n",
    "            return f(k2_a, k2_b, *args) / np.pi\n",
    "    elif d == 2:\n",
    "        def integrand(kp, kz):\n",
    "            k2_a = (kz+q)**2 + kp**2\n",
    "            k2_b = (kz-q)**2 + kp**2\n",
    "            return f(k2_a, k2_b, *args) / np.pi**2\n",
    "    elif d == 3:\n",
    "        def integrand(kp, kz):\n",
    "            k2_a = (kz+q)**2 + kp**2\n",
    "            k2_b = (kz-q)**2 + kp**2\n",
    "            assert(kp>=0)\n",
    "            return f(k2_a, k2_b, *args) * (kp/2/np.pi**2)\n",
    "    else:\n",
    "        raise ValueError(f\"Only d=1, 2, or 3 supported (got d={d})\")\n",
    "\n",
    "    mu = (mu_a + mu_b)/2\n",
    "    minv = (1/m_a + 1/m_b)/2\n",
    "    kF = math.sqrt(2*mu/minv)/hbar\n",
    "    if d == 1:\n",
    "        integrand = numba.cfunc(numba.float64(numba.float64))(integrand)\n",
    "        integrand = sp.LowLevelCallable(integrand.ctypes)\n",
    "        return (ufloat(*quad(func=integrand, a=0, b=kF, points=points))\n",
    "                +ufloat(*quad(func = integrand, a=kF, b=k_inf)))\n",
    "    return dquad(f=integrand, kF=kF, k_0=k_0, k_inf=k_inf, limit=100) / 4"
   ]
  },
  {
   "cell_type": "code",
   "execution_count": null,
   "metadata": {},
   "outputs": [],
   "source": [
    "def plot_nu_delta(mu, dmu, kF, q=1/3, delta=1, GN=100):\n",
    "    def integrand(kp, kz):\n",
    "        k2_a = (kz+q)**2 + kp**2\n",
    "        k2_b = (kz-q)**2 + kp**2\n",
    "        return nu_delta_integrand(ka2=k2_a, kb2=k2_b,mu_a=mu+dmu, mu_b=mu+dmu, delta=delta) / np.pi**2\n",
    "    kzs = np.linspace(0,2*kF, GN)\n",
    "    kps = np.linspace(0,2*kF, GN)\n",
    "    zz,pp = np.meshgrid(kzs,kps)\n",
    "    nu_delta = integrand(pp,zz)\n",
    "    plt.figure(figsize=(10, 5))\n",
    "    imcontourf(kps, kzs, nu_delta, aspect=1);\n",
    "    xx = np.linspace(0,1,GN) * kF\n",
    "    yy = ((kF)**2 - xx**2)**0.5 \n",
    "    plt.plot(xx,yy,c='r')\n",
    "    plt.colorbar()\n",
    "    \n",
    "def plot_C1(mu, dmu, kF, q=1/3, delta=1, GN=100):\n",
    "    def integrand(k):\n",
    "        k2_a = (k+q)**2\n",
    "        k2_b = (k-q)**2\n",
    "        return C_integrand(ka2=k2_a, kb2=k2_b, mu_a=mu+dmu, mu_b=mu+dmu, delta=delta) / np.pi**2\n",
    "    ks = np.linspace(0,2*kF, GN)\n",
    "\n",
    "    C_c = integrand(ks)\n",
    "    plt.figure(figsize=(10, 5))\n",
    "    plt.plot(ks,C_c,c='r')\n",
    "    plt.axvline(kF)\n",
    "\n",
    "def plot_C(mu, dmu, kF, q=1/3, delta=1, GN=100):\n",
    "    def integrand(kp, kz):\n",
    "        k2_a = (kz+q)**2 + kp**2\n",
    "        k2_b = (kz-q)**2 + kp**2\n",
    "        return C_integrand(ka2=k2_a, kb2=k2_b, mu_a=mu+dmu, mu_b=mu+dmu, delta=delta) / np.pi**2\n",
    "    kzs = np.linspace(0,2*kF, GN)\n",
    "    kps = np.linspace(0,2*kF, GN)\n",
    "    zz,pp = np.meshgrid(kzs,kps)\n",
    "    nu_delta = integrand(pp,zz)\n",
    "    xx = np.linspace(0,1,GN) * kF\n",
    "    yy = (kF**2 - xx**2)**0.5 \n",
    "    plt.figure(figsize=(10, 5))\n",
    "    plt.plot(xx,yy,c='r')\n",
    "    imcontourf(kps, kzs, nu_delta, aspect=1);\n",
    "    plt.colorbar()\n",
    "    \n",
    "def plot_w(mu, dmu, q, delta=1, m_a=1, m_b=1, hbar=1, T=0, GN=100):\n",
    "    mu_a, mu_b = mu + dmu, mu - dmu\n",
    "    def func(kp,kz):\n",
    "        ka2 = (kz+q)**2 + kp**2\n",
    "        kb2 = (kz-q)**2 + kp**2\n",
    "        e = hbar**2/2\n",
    "        e_a, e_b = e*ka2/m_a - mu_a, e*kb2/m_b - mu_b\n",
    "        e_m, e_p = (e_a - e_b)/2, (e_a + e_b)/2\n",
    "        E = np.sqrt(e_p**2 + abs(delta)**2)\n",
    "        w_m, w_p = e_m - E, e_m + E\n",
    "        return np.sign(w_m),np.sign(w_p)\n",
    "    kzs = np.linspace(0,2*kF, GN)\n",
    "    kps = np.linspace(0,2*kF, GN)\n",
    "    zz,pp = np.meshgrid(kzs,kps)\n",
    "    ws = func(pp,zz)\n",
    "    plt.figure(figsize=(15, 5))\n",
    "    plt.subplot(121)\n",
    "    imcontourf(kps, kzs, ws[0], aspect=1);\n",
    "    plt.colorbar()\n",
    "    plt.subplot(122)\n",
    "    imcontourf(kps, kzs, ws[1], aspect=1);\n",
    "    plt.colorbar()"
   ]
  },
  {
   "cell_type": "code",
   "execution_count": null,
   "metadata": {},
   "outputs": [],
   "source": [
    "GN =1000\n",
    "mu = 10\n",
    "dmu = .4\n",
    "q = 1/4\n",
    "m_a, m_b = 1,1\n",
    "delta = .25\n",
    "minv = (1/m_a + 1/m_b)/2\n",
    "kF = math.sqrt(2*(mu+dmu)/minv) #\n",
    "#integrate_q(f=nu_delta_integrand, k_c=100*kF, mu_a=mu+dmu, mu_b=mu-dmu, q=q)\n",
    "clear_output()\n",
    "plot_nu_delta(mu=mu, dmu=dmu, kF=kF, q=q, delta=delta, GN=GN)"
   ]
  },
  {
   "cell_type": "code",
   "execution_count": null,
   "metadata": {},
   "outputs": [],
   "source": [
    "plot_C1(mu=mu, dmu=dmu, kF=kF, q=q,delta=delta, GN=GN)"
   ]
  },
  {
   "cell_type": "code",
   "execution_count": null,
   "metadata": {},
   "outputs": [],
   "source": [
    "plot_C(mu=mu, dmu=dmu, kF=kF, q=q,delta=delta, GN=GN)"
   ]
  },
  {
   "cell_type": "code",
   "execution_count": null,
   "metadata": {},
   "outputs": [],
   "source": [
    "plot_w(mu=mu, dmu=dmu, q=q, delta=delta, GN=GN)"
   ]
  },
  {
   "cell_type": "markdown",
   "metadata": {},
   "source": [
    "### Analysis\n",
    "* From the above plot, we may find that the integral has a singular boundary belt which depends also on the $q$ and $d\\mu$ or ($\\mu s$), so we may need to carfully determine where that boundary spans.\n",
    "* It can be found that: as $q$ larger than $k_F$, the singluar region would almost gone, and the inegral region become smooth."
   ]
  },
  {
   "cell_type": "markdown",
   "metadata": {},
   "source": []
  },
  {
   "cell_type": "markdown",
   "metadata": {},
   "source": [
    "### Fix the density and set $\\kappa=0$"
   ]
  },
  {
   "cell_type": "code",
   "execution_count": null,
   "metadata": {},
   "outputs": [],
   "source": [
    "np.random.seed(1)\n",
    "m, hbar, kF = 1 + np.random.random(3)\n",
    "eF = (hbar*kF)**2/2/m\n",
    "nF = kF**3/3/np.pi**2\n",
    "mu = 0.59060550703283853378393810185221521748413488992993*eF\n",
    "q = 0\n",
    "delta = None# 0.68640205206984016444108204356564421137062514068346*eF\n",
    "delta = get_delta(mu_a= mu, mu_b=mu, m_a=m, m_b=m, q=q)\n",
    "args = dict( d=3, delta=delta,mu_a=mu,mu_b=mu, m_a=m, m_b=m, hbar=hbar,q=q, T=0.0)"
   ]
  },
  {
   "cell_type": "code",
   "execution_count": null,
   "metadata": {},
   "outputs": [],
   "source": [
    "np = tf.integrate_q(tf.n_p_integrand, **args)\n",
    "nm = tf.integrate_q(tf.n_m_integrand, **args)"
   ]
  },
  {
   "cell_type": "code",
   "execution_count": null,
   "metadata": {},
   "outputs": [],
   "source": [
    "def get_p(mu_a,mu_b):\n",
    "    mu_p,mu_m = (mu_a + mu_b)/2, (mu_a - mu_b)/2\n",
    "    return mu_p * np + mu_m * nm"
   ]
  },
  {
   "cell_type": "code",
   "execution_count": null,
   "metadata": {},
   "outputs": [],
   "source": [
    "dmu = 1e-10\n",
    "pa1 = get_p(mu+dmu,mu)\n",
    "pa2 = get_p(mu-dmu,mu)\n",
    "pb1 = get_p(mu,mu+dmu)\n",
    "pb2 = get_p(mu,mu-dmu)\n",
    "na_ = (pa1-pa2)/2/dmu\n",
    "nb_ = (pb1-pb2)/2/dmu\n",
    "na_,nb_,(np+nm)/2,(np-nm)/2"
   ]
  },
  {
   "cell_type": "code",
   "execution_count": null,
   "metadata": {},
   "outputs": [],
   "source": [
    "import numpy as np\n",
    "args = dict(delta=delta, m_a=m, m_b=m, hbar=hbar,q=q, T=0.0)\n",
    "n_p = tf.integrate_q(tf.n_p_integrand, mu_a=mu,mu_b = mu,**args)\n",
    "n_m = tf.integrate_q(tf.n_m_integrand, mu_a=mu,mu_b = mu,**args)\n",
    "n_a = (n_p + n_m)/2\n",
    "n_b = (n_p - n_m)/2\n",
    "dmu = 1e-10\n",
    "args = dict(delta=delta, hbar=hbar,q=q, T=0.0)\n",
    "n0 = get_pressure(mu_a=mu, mu_b=mu, **args)\n",
    "na1 = get_pressure(mu_a = mu - dmu,mu_b=mu, **args)\n",
    "na2 = get_pressure(mu_a = mu + dmu,mu_b=mu, **args)\n",
    "nb1 = get_pressure(mu_a = mu,mu_b=mu - dmu, **args)\n",
    "nb2 = get_pressure(mu_a = mu,mu_b=mu + dmu, **args)\n",
    "n_a_ = (na2 - na1)/2/dmu\n",
    "n_b_ = (nb2 - nb1)/2/dmu\n",
    "print((n_a,n_b),(n_a_,n_b_))\n",
    "#assert np.allclose(n_a.n,n_a_.n)\n",
    "#assert np.allclose(n_b.n,n_b_.n)"
   ]
  },
  {
   "cell_type": "markdown",
   "metadata": {},
   "source": [
    "# Mixed states"
   ]
  },
  {
   "cell_type": "markdown",
   "metadata": {},
   "source": [
    "$$\n",
    "  \\mu = \\pdiff{\\mathcal{E}(n)}{n}, \\qquad\n",
    "  n = \\pdiff{P(\\mu)}{\\mu}, \\qquad\n",
    "  P = \\mu n - \\mathcal{E}, \\qquad\n",
    "  \\mathcal{E} = \\mu n - P,\\\\\n",
    "  \\mathcal{E}_1 = n^2, \\qquad\n",
    "  \\mathcal{E}_2 = 1 + (n-1)^2\\\\\n",
    "  \\mu_1 = 2n, \\qquad \\mu_2 = 2(n-1)\\\\\n",
    "  n_1 = \\mu/2, \\qquad n_2 = 1+\\mu/2\\\\\n",
    "  P_1 = \\frac{\\mu^2}{4}, \\qquad\n",
    "  P_2 = \\mu - 1 + \\frac{\\mu^2}{4}\n",
    "$$\n",
    "\n",
    "First order transition at $\\mu_c = 1$, $P=\\mu_c^2/4$, with $n \\in (\\mu/2, 1 + \\mu/2)$ and\n",
    "$\\mathcal{E} = \\mu_c n - \\mu_c^2/4$."
   ]
  },
  {
   "cell_type": "code",
   "execution_count": null,
   "metadata": {},
   "outputs": [],
   "source": [
    "n = np.linspace(0,2,100)\n",
    "mu_c = 1\n",
    "E1 = n**2\n",
    "E2 = 1+(n-1)**2\n",
    "n_mix = np.linspace(mu_c/2, 1+mu_c/2, 100)\n",
    "E_mix = mu_c*n_mix - mu_c**2/4\n",
    "\n",
    "plt.subplot(121)\n",
    "plt.plot(n, E1, n, E2)\n",
    "plt.plot(n_mix, E_mix, '-k')\n",
    "plt.xlabel(r'$n$'); plt.ylabel(r'$\\mathcal{E}$');\n",
    "\n",
    "mu = np.linspace(0, 2, 100)\n",
    "P1 = mu**2/4\n",
    "P2 = mu**2/4 + mu - 1\n",
    "ax = plt.subplot(122); ax.yaxis.tick_right()\n",
    "plt.plot(mu, P1, mu, P2)\n",
    "plt.plot(mu, np.maximum(P1, P2), 'k')\n",
    "plt.xlabel(r'$\\mu$'); plt.ylabel('$P$');"
   ]
  },
  {
   "cell_type": "markdown",
   "metadata": {},
   "source": [
    "# FF States"
   ]
  },
  {
   "cell_type": "code",
   "execution_count": null,
   "metadata": {},
   "outputs": [],
   "source": [
    "Delta = 0.1\n",
    "k_z = np.linspace(0, 2, 100)\n",
    "k_perp = 0.9\n",
    "q = .0\n",
    "kF = 1.0\n",
    "\n",
    "dmu = 1.1*Delta\n",
    "E = np.sqrt(((k_z**2 + k_perp**2 + q**2)/2 - kF**2/2)**2 + Delta**2)\n",
    "Em = 2*q*k_z - dmu\n",
    "wp = Em + E\n",
    "wm = Em - E\n",
    "\n",
    "plt.plot(k_z, wp)\n",
    "plt.plot(k_z, wm)\n",
    "plt.axhline(0, ls=':', c='y')\n"
   ]
  },
  {
   "cell_type": "markdown",
   "metadata": {},
   "source": [
    "# Scattering length check in unitary case"
   ]
  },
  {
   "cell_type": "code",
   "execution_count": null,
   "metadata": {},
   "outputs": [],
   "source": [
    "h3 = Homogeneous3D(T=0.0)\n",
    "k0 = 1.0\n",
    "mu = k0**2/2\n",
    "eF = mu/0.5906055\n",
    "kF = np.sqrt(2*eF)\n",
    "n_p = kF**3/3/np.pi**2\n",
    "mus_eff = (mu,)*2\n",
    "delta =  1.16220056*mus_eff[0]\n",
    "k_c = 10.0\n",
    "Lambda = h3.get_inverse_scattering_length(mus_eff=mus_eff, delta=delta, k_c=k_c)/4/np.pi\n",
    "Lambda, -k_c/2/np.pi**2*k0/2/k_c*np.log((k_c+k0)/(k_c-k0)),k0**3/3/np.pi**2 "
   ]
  },
  {
   "cell_type": "code",
   "execution_count": null,
   "metadata": {},
   "outputs": [],
   "source": [
    "kc =np.linspace(1,20,20)\n",
    "plt.plot(kc,[h3.get_inverse_scattering_length(mus_eff=mus_eff, delta=delta, k_c=k)/4/np.pi for k in kc])"
   ]
  },
  {
   "cell_type": "code",
   "execution_count": null,
   "metadata": {},
   "outputs": [],
   "source": [
    "kc =np.linspace(20,200,20)\n",
    "plt.plot(kc,[h3.get_inverse_scattering_length(mus_eff=mus_eff, delta=delta, k_c=k)/4/np.pi for k in kc])"
   ]
  },
  {
   "cell_type": "code",
   "execution_count": null,
   "metadata": {},
   "outputs": [],
   "source": []
  }
 ],
 "metadata": {
  "kernelspec": {
   "display_name": "Python 3",
   "language": "python",
   "name": "python3"
  },
  "language_info": {
   "codemirror_mode": {
    "name": "ipython",
    "version": 3
   },
   "file_extension": ".py",
   "mimetype": "text/x-python",
   "name": "python",
   "nbconvert_exporter": "python",
   "pygments_lexer": "ipython3",
   "version": "3.7.2"
  },
  "toc": {
   "base_numbering": 1,
   "nav_menu": {},
   "number_sections": true,
   "sideBar": true,
   "skip_h1_title": false,
   "title_cell": "Table of Contents",
   "title_sidebar": "Contents",
   "toc_cell": false,
   "toc_position": {},
   "toc_section_display": true,
   "toc_window_display": false
  }
 },
 "nbformat": 4,
 "nbformat_minor": 2
}
