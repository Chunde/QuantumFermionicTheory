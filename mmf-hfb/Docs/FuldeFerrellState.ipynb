{
 "cells": [
  {
   "cell_type": "code",
   "execution_count": null,
   "metadata": {},
   "outputs": [],
   "source": [
    "import mmf_setup;mmf_setup.nbinit()\n",
    "%pylab inline --no-import-all\n",
    "from nbimports import *                # Conveniences like clear_output\n",
    "\n",
    "from scipy.optimize import brentq\n",
    "import math\n",
    "\n",
    "from mmf_hfb import tf_completion as tf\n",
    "reload(tf)\n",
    "import mmf_hfb.FuldeFerrelState\n",
    "reload(mmf_hfb.FuldeFerrelState)\n",
    "from mmf_hfb.FuldeFerrelState import FFState as FF"
   ]
  },
  {
   "cell_type": "markdown",
   "metadata": {},
   "source": [
    "# Polarized Vortex"
   ]
  },
  {
   "cell_type": "markdown",
   "metadata": {},
   "source": [
    "We present here an analysis of a polarized vortex from the perspective of the Fulde-Ferrell (FF) state.  We start with the FF state in 1D."
   ]
  },
  {
   "cell_type": "markdown",
   "metadata": {},
   "source": [
    "## Check Thermodynamic Relations"
   ]
  },
  {
   "cell_type": "code",
   "execution_count": 8,
   "metadata": {},
   "outputs": [
    {
     "name": "stdout",
     "output_type": "stream",
     "text": [
      "10.000+/-0.030 10\n",
      "2.83684+/-0.00005 2.836835894+/-0.000000005\n",
      "1.4184179471+/-0.0000000023 1.41842+/-0.00005\n",
      "1.4184179471+/-0.0000000023 1.41842+/-0.00005\n"
     ]
    }
   ],
   "source": [
    "mu = 10\n",
    "dmu = 0.4\n",
    "r = np.inf\n",
    "delta0 = 1\n",
    "ff = FF(dmu=dmu, mu=mu, delta=delta0, d=1, fix_g=False) # in 1d\n",
    "def get_P(mu, dmu):\n",
    "    mu_a = mu + dmu\n",
    "    mu_b = mu - dmu\n",
    "    delta = ff.solve(r=r, mu_a=mu_a, mu_b=mu_b)\n",
    "    return ff.get_pressure(mu_a=mu_a, mu_b=mu_b, delta=delta, r=r)    \n",
    "\n",
    "def get_E_n(mu, dmu=0):\n",
    "    mu_a = mu + dmu\n",
    "    mu_b = mu - dmu\n",
    "    E = ff.get_energy_density(mu_a=mu_a, mu_b=mu_b, r=r)\n",
    "    n = sum(ff.get_densities(mu_a=mu_a, mu_b=mu_b, r=r))\n",
    "    return E, n\n",
    "\n",
    "def get_ns(mu, dmu):\n",
    "    mu_a = mu + dmu\n",
    "    mu_b = mu - dmu\n",
    "    return ff.get_densities(mu_a=mu_a, mu_b=mu_b, r=r)    \n",
    "\n",
    "dx = 0.00001\n",
    "E1, n1 = get_E_n(mu+dx)\n",
    "E0, n0 = get_E_n(mu-dx)\n",
    "\n",
    "print((E1-E0)/(n1-n0), mu)\n",
    "\n",
    "\n",
    "dx = 1e-3\n",
    "n_p = (get_P(mu+dx, dmu) - get_P(mu-dx, dmu))/2/dx\n",
    "n_a, n_b = get_ns(mu, dmu)\n",
    "\n",
    "print(n_p, n_a+n_b)\n",
    "\n",
    "n_a_ = (get_P(mu+dx/2, dmu+dx/2) - get_P(mu-dx/2, dmu - dx/2))/2/dx\n",
    "n_b_ = (get_P(mu+dx/2, dmu-dx/2) - get_P(mu-dx/2, dmu + dx/2))/2/dx\n",
    "print(n_a, n_a_)\n",
    "print(n_b, n_b_)"
   ]
  },
  {
   "cell_type": "markdown",
   "metadata": {},
   "source": [
    "### Check Solution Ranges"
   ]
  },
  {
   "cell_type": "code",
   "execution_count": 9,
   "metadata": {},
   "outputs": [
    {
     "data": {
      "text/plain": [
       "<matplotlib.lines.Line2D at 0x147de564550>"
      ]
     },
     "execution_count": 9,
     "metadata": {},
     "output_type": "execute_result"
    },
    {
     "data": {
      "image/png": "[encoded data removed]",
      "text/plain": [
       "<Figure size 432x288 with 1 Axes>"
      ]
     },
     "metadata": {
      "needs_background": "light"
     },
     "output_type": "display_data"
    }
   ],
   "source": [
    "mu=10\n",
    "dmu=.4\n",
    "ff = FF(dmu=dmu, mu=mu, d=1)\n",
    "deltas = np.linspace(0,2,20)\n",
    "rs = [3,3.6,4,5,6]\n",
    "for r in rs:\n",
    "    fs = [ff.f(delta=delta, r=r, mu_a=mu+dmu, mu_b=mu-dmu) for delta in deltas]\n",
    "    plt.plot(deltas, fs, label=f'r={r}')\n",
    "plt.legend()\n",
    "plt.axhline(0);plt.axvline(1)"
   ]
  },
  {
   "cell_type": "markdown",
   "metadata": {},
   "source": [
    "### Compute $\\Delta$ and densities in radius direction"
   ]
  },
  {
   "cell_type": "code",
   "execution_count": 10,
   "metadata": {
    "scrolled": false
   },
   "outputs": [],
   "source": [
    "mu=10\n",
    "dmu=.4\n",
    "def min_index(fs):\n",
    "    min_value = fs[0]\n",
    "    min_index = 0\n",
    "    for i in range(1,len(fs)):\n",
    "        if fs[i] < min_value:\n",
    "            min_value = fs[i]\n",
    "            min_index = i\n",
    "    return min_index,min_value\n",
    "\n",
    "def compute_delta_ns(rs, d=1):\n",
    "    deltas=[]\n",
    "    densities=[]\n",
    "    ff = FF(dmu=1.4, mu=10, d=d)\n",
    "    ds = np.linspace(0,1.5,10)\n",
    "    for r in rs:\n",
    "        fs = [ff.f(delta=delta, r=r, mu_a=mu+dmu, mu_b=mu-dmu) for delta in ds]\n",
    "        index, value = min_index(fs)\n",
    "        delta = 0\n",
    "        if value < 0:\n",
    "            delta = ff.solve(r=r,a= ds[index], mu_a=mu+dmu, mu_b=mu-dmu)\n",
    "            #assert delta > 0\n",
    "            if fs[0] > 0:\n",
    "                smaller_delta = ff.solve(r=r,a=ds[0],b=ds[index], mu_a=mu+dmu, mu_b=mu-dmu)\n",
    "                #print(f\"a smaller delta={smaller_delta} is found for r={r}\")\n",
    "                p1 = ff.get_pressure(delta=delta, r=r, mu_a=mu+dmu, mu_b=mu-dmu)\n",
    "                p2 = ff.get_pressure(delta=smaller_delta, r=r, mu_a=mu+dmu, mu_b=mu-dmu)\n",
    "                print(f\"p1={p1}\\tp2={p2}\")\n",
    "                if(p2 > p1):\n",
    "                    delta = smaller_delta\n",
    "                #delta = smaller_delta\n",
    "\n",
    "        deltas.append(delta)\n",
    "        ns = ff.get_densities(delta=delta, r=r, mu_a=mu + dmu, mu_b=mu - dmu)\n",
    "        densities.append(ns)\n",
    "    return (deltas,densities)"
   ]
  },
  {
   "cell_type": "code",
   "execution_count": 11,
   "metadata": {
    "scrolled": true
   },
   "outputs": [],
   "source": [
    "deltas = []\n",
    "densities = []\n",
    "rs = np.linspace(0.1,1,10)\n",
    "ds, ns = compute_delta_ns(rs)\n",
    "deltas.extend(ds)\n",
    "densities.extend(ns)"
   ]
  },
  {
   "cell_type": "code",
   "execution_count": 12,
   "metadata": {},
   "outputs": [
    {
     "name": "stdout",
     "output_type": "stream",
     "text": [
      "p1=18.8830391647+/-0.0000000011\tp2=18.88294613+/-0.00000005\n",
      "p1=18.891215383+/-0.000000009\tp2=18.8907732344+/-0.0000000010\n",
      "p1=18.89866069+/-0.00000006\tp2=18.897654339+/-0.000000027\n",
      "p1=18.905459649+/-0.000000032\tp2=18.90371302+/-0.00000006\n",
      "p1=18.911684944+/-0.000000020\tp2=18.90905431+/-0.00000006\n",
      "p1=18.91739932+/-0.00000008\tp2=18.91376786+/-0.00000006\n",
      "p1=18.92265719+/-0.00000033\tp2=18.917930534+/-0.000000011\n",
      "p1=18.92750590+/-0.00000015\tp2=18.92160844+/-0.00000011\n"
     ]
    }
   ],
   "source": [
    "rs = np.linspace(2,4,20)\n",
    "ds, ns = compute_delta_ns(rs)\n",
    "deltas.extend(ds)\n",
    "densities.extend(ns)"
   ]
  },
  {
   "cell_type": "code",
   "execution_count": 13,
   "metadata": {},
   "outputs": [
    {
     "name": "stdout",
     "output_type": "stream",
     "text": [
      "p1=18.93177092+/-0.00000004\tp2=18.92470552+/-0.00000025\n",
      "p1=18.93961364+/-0.00000008\tp2=18.930027747+/-0.000000035\n",
      "p1=18.946411117+/-0.000000010\tp2=18.93420016+/-0.00000016\n",
      "p1=18.95234113+/-0.00000018\tp2=18.93745561+/-0.00000005\n",
      "p1=18.95754521+/-0.00000005\tp2=18.93997495+/-0.00000016\n"
     ]
    }
   ],
   "source": [
    "rs = np.linspace(4.1,8,20)\n",
    "ds, ns = compute_delta_ns(rs)\n",
    "deltas.extend(ds)\n",
    "densities.extend(ns)"
   ]
  },
  {
   "cell_type": "markdown",
   "metadata": {},
   "source": [
    "#### Plot $\\Delta$ profile"
   ]
  },
  {
   "cell_type": "code",
   "execution_count": 14,
   "metadata": {
    "scrolled": true
   },
   "outputs": [
    {
     "data": {
      "text/plain": [
       "Text(0, 0.5, '$\\\\Delta$')"
      ]
     },
     "execution_count": 14,
     "metadata": {},
     "output_type": "execute_result"
    },
    {
     "data": {
      "image/png": "[encoded data removed]",
      "text/plain": [
       "<Figure size 432x288 with 1 Axes>"
      ]
     },
     "metadata": {
      "needs_background": "light"
     },
     "output_type": "display_data"
    }
   ],
   "source": [
    "rs=np.append(np.linspace(0.1,1,10),[np.linspace(2,4,20),np.linspace(4.1,8,20)])\n",
    "fig, ax1 = plt.subplots()\n",
    "left, bottom, width, height = [0.55, 0.4, 0.3, 0.4]\n",
    "#ax2 = fig.add_axes([left, bottom, width, height])\n",
    "offset = 10\n",
    "ax1.plot(rs,deltas,'--', color='red')\n",
    "#ax2.plot(rs[offset:],deltas[offset:],'--', color='green')\n",
    "ax1.set_xlabel(r'$r$')\n",
    "ax1.set_ylabel(r'$\\Delta$')"
   ]
  },
  {
   "cell_type": "markdown",
   "metadata": {},
   "source": [
    "#### Plot density profiles"
   ]
  },
  {
   "cell_type": "code",
   "execution_count": 15,
   "metadata": {
    "scrolled": false
   },
   "outputs": [
    {
     "data": {
      "text/plain": [
       "<matplotlib.legend.Legend at 0x147e3263be0>"
      ]
     },
     "execution_count": 15,
     "metadata": {},
     "output_type": "execute_result"
    },
    {
     "data": {
      "image/png": "[encoded data removed]",
      "text/plain": [
       "<Figure size 432x288 with 2 Axes>"
      ]
     },
     "metadata": {
      "needs_background": "light"
     },
     "output_type": "display_data"
    }
   ],
   "source": [
    "na=[]\n",
    "nb=[]\n",
    "for ns in densities:\n",
    "    na.append(ns[0].n)\n",
    "    nb.append(ns[1].n)\n",
    "    \n",
    "fig, ax1 = plt.subplots()\n",
    "\n",
    "left, bottom, width, height = [0.45, 0.6, 0.2, 0.2]\n",
    "ax2 = fig.add_axes([left, bottom, width, height])\n",
    "\n",
    "ax1.plot(rs,na,label=r\"$n_a$\")\n",
    "ax1.plot(rs,nb,label=r\"$n_b$\")\n",
    "\n",
    "ax1.set_xlabel(r'$r$')\n",
    "ax1.set_ylabel(r'$n$')\n",
    "offset = 15\n",
    "offset1 = offset + 20\n",
    "ax2.plot(rs[offset:offset1],na[offset:offset1],'--')\n",
    "ax2.plot(rs[offset:offset1],nb[offset:offset1],'--')\n",
    "fig.legend()"
   ]
  },
  {
   "cell_type": "markdown",
   "metadata": {},
   "source": [
    "#### Plot Current Profiles"
   ]
  },
  {
   "cell_type": "markdown",
   "metadata": {},
   "source": [
    "The current for each component is defined:\n",
    "$$\n",
    "J_{a/b}(r) = n_{a/b}(r)  q=\\frac{n_{a/b}(r)}{r}\n",
    "$$"
   ]
  },
  {
   "cell_type": "code",
   "execution_count": 16,
   "metadata": {},
   "outputs": [
    {
     "data": {
      "text/plain": [
       "<matplotlib.legend.Legend at 0x147de7600b8>"
      ]
     },
     "execution_count": 16,
     "metadata": {},
     "output_type": "execute_result"
    },
    {
     "data": {
      "image/png": "[encoded data removed]",
      "text/plain": [
       "<Figure size 432x288 with 2 Axes>"
      ]
     },
     "metadata": {
      "needs_background": "light"
     },
     "output_type": "display_data"
    }
   ],
   "source": [
    "ja=[]\n",
    "jb=[]\n",
    "for i in range(len(rs)):\n",
    "    ja.append(na[i]/rs[i])\n",
    "    jb.append(nb[i]/rs[i])\n",
    "    \n",
    "fig, ax1 = plt.subplots()\n",
    "left, bottom, width, height = [0.45, 0.6, 0.2, 0.2]\n",
    "ax2 = fig.add_axes([left, bottom, width, height])\n",
    "\n",
    "ax1.plot(rs,ja,label=r\"$J_a$\")\n",
    "ax1.plot(rs,jb,label=r\"$J_b$\")\n",
    "\n",
    "ax1.set_xlabel(r'$r$')\n",
    "ax1.set_ylabel(r'$J$')\n",
    "offset = 5\n",
    "ax2.plot(rs[offset:],na[offset:],'--')\n",
    "ax2.plot(rs[offset:],nb[offset:],'--')\n",
    "fig.legend()"
   ]
  },
  {
   "cell_type": "markdown",
   "metadata": {},
   "source": [
    "## 2D Case\n",
    "The 2d data is genereated by the temporarily test code in ['FuldeFerrelState.py'](FuldeFerrelState.py), then output file is a json text file ['delta_ns.txt'](delta_ns.txt) in the same folder as  ['FuldeFerrelState.py'](FuldeFerrelState.py), that take very long time to do. Once that is done, you may copy the ['delta_ns.txt'](delta_ns.txt) file to the Doc foler, and run code in this section to get the plots.\n",
    "### Parallelization\n",
    "* To compute the 2d FF state is slow slow, we need to go multi-processing\n",
    "* Will be done in['FuldeFerrelState.py'](FuldeFerrelState.py) to generate the output\n",
    "* Load the output file ['delta_ns.txt'](delta_ns.txt), and plot here"
   ]
  },
  {
   "cell_type": "markdown",
   "metadata": {},
   "source": [
    "#### Load Data"
   ]
  },
  {
   "cell_type": "code",
   "execution_count": 17,
   "metadata": {
    "scrolled": true
   },
   "outputs": [],
   "source": [
    "import sys\n",
    "import os\n",
    "import inspect\n",
    "from os.path import join\n",
    "import json\n",
    "from json import dumps\n",
    "currentdir = os.path.dirname(os.path.abspath(inspect.getfile(inspect.currentframe())))\n",
    "file = join(currentdir,\"delta_ns.txt\")\n",
    "rs2 = []\n",
    "deltas2 = []\n",
    "na2 = []\n",
    "nb2 = []\n",
    "if os.path.exists(file):\n",
    "    with open(file,'r') as rf:\n",
    "        rs2,deltas2,na2,nb2 = json.load(rf)"
   ]
  },
  {
   "cell_type": "markdown",
   "metadata": {},
   "source": [
    "#### Plot $\\Delta$ Profile"
   ]
  },
  {
   "cell_type": "code",
   "execution_count": 18,
   "metadata": {
    "scrolled": true
   },
   "outputs": [
    {
     "data": {
      "text/plain": [
       "Text(0, 0.5, '$\\\\Delta$')"
      ]
     },
     "execution_count": 18,
     "metadata": {},
     "output_type": "execute_result"
    },
    {
     "data": {
      "image/png": "[encoded data removed]",
      "text/plain": [
       "<Figure size 432x288 with 1 Axes>"
      ]
     },
     "metadata": {
      "needs_background": "light"
     },
     "output_type": "display_data"
    }
   ],
   "source": [
    "fig, ax1 = plt.subplots()\n",
    "left, bottom, width, height = [0.2, 0.45, 0.3, 0.4]\n",
    "#ax2 = fig.add_axes([left, bottom, width, height])\n",
    "offset = 10\n",
    "ax1.plot(rs2,deltas2,'--', color='red')\n",
    "#ax2.plot(rs2[offset:],deltas2[offset:],'--', color='green')\n",
    "ax1.set_xlabel(r'$r$')\n",
    "ax1.set_ylabel(r'$\\Delta$')"
   ]
  },
  {
   "cell_type": "markdown",
   "metadata": {},
   "source": [
    "#### Plot Densities Profile"
   ]
  },
  {
   "cell_type": "code",
   "execution_count": 19,
   "metadata": {
    "scrolled": false
   },
   "outputs": [
    {
     "data": {
      "text/plain": [
       "<matplotlib.legend.Legend at 0x147e303c978>"
      ]
     },
     "execution_count": 19,
     "metadata": {},
     "output_type": "execute_result"
    },
    {
     "data": {
      "image/png": "[encoded data removed]",
      "text/plain": [
       "<Figure size 432x288 with 2 Axes>"
      ]
     },
     "metadata": {
      "needs_background": "light"
     },
     "output_type": "display_data"
    }
   ],
   "source": [
    "fig, ax1 = plt.subplots()\n",
    "left, bottom, width, height = [0.65, 0.66, 0.2, 0.2]\n",
    "ax2 = fig.add_axes([left, bottom, width, height])\n",
    "ax1.plot(rs2,na2,label=r\"$n_a$\")\n",
    "ax1.plot(rs2,nb2,label=r\"$n_b$\")\n",
    "ax1.set_xlabel(r'$r$')\n",
    "ax1.set_ylabel(r'$n$')\n",
    "offset =60\n",
    "offset1 = offset + 20\n",
    "ax2.plot(rs2[offset:offset1],na2[offset:offset1],'--')\n",
    "ax2.plot(rs2[offset:offset1],nb2[offset:offset1],'--')\n",
    "fig.legend()"
   ]
  },
  {
   "cell_type": "markdown",
   "metadata": {},
   "source": [
    "#### Plot Current Profile"
   ]
  },
  {
   "cell_type": "code",
   "execution_count": 20,
   "metadata": {
    "scrolled": true
   },
   "outputs": [
    {
     "data": {
      "text/plain": [
       "<matplotlib.legend.Legend at 0x147e2fa9c88>"
      ]
     },
     "execution_count": 20,
     "metadata": {},
     "output_type": "execute_result"
    },
    {
     "data": {
      "image/png": "[encoded data removed]",
      "text/plain": [
       "<Figure size 432x288 with 2 Axes>"
      ]
     },
     "metadata": {
      "needs_background": "light"
     },
     "output_type": "display_data"
    }
   ],
   "source": [
    "ja=[]\n",
    "jb=[]\n",
    "for i in range(len(rs2)):\n",
    "    ja.append(na2[i]/rs2[i])\n",
    "    jb.append(nb2[i]/rs2[i])\n",
    "    \n",
    "fig, ax1 = plt.subplots()\n",
    "\n",
    "left, bottom, width, height = [0.45, 0.34, 0.4, 0.5]\n",
    "ax2 = fig.add_axes([left, bottom, width, height])\n",
    "\n",
    "ax1.plot(rs2,ja,label=r\"$J_a$\")\n",
    "ax1.plot(rs2,jb,label=r\"$J_b$\")\n",
    "\n",
    "ax1.set_xlabel(r'$r$')\n",
    "ax1.set_ylabel(r'$J$')\n",
    "offset = 6\n",
    "ax2.plot(rs2[:offset],ja[:offset],'--')\n",
    "ax2.plot(rs2[:offset],jb[:offset],'--')\n",
    "fig.legend()"
   ]
  },
  {
   "cell_type": "markdown",
   "metadata": {},
   "source": [
    "### To-DO\n",
    "* 1)<font color='red'> Review the literature and see if you can find some results for 1D or 2D FF states for reference.</font>\n",
    "* 2)<font color='green'> Correctly implement the pressure and energy density and include high-precision tests of the thermodynamic relationships.</font>\n",
    "* 3)<font color='green'> Correct the integrations in 2D.</font>"
   ]
  },
  {
   "cell_type": "markdown",
   "metadata": {},
   "source": [
    "# Integrand Boundaries"
   ]
  },
  {
   "cell_type": "code",
   "execution_count": 21,
   "metadata": {},
   "outputs": [
    {
     "data": {
      "text/plain": [
       "Text(0, 0.5, '$C(q) - C(0)$')"
      ]
     },
     "execution_count": 21,
     "metadata": {},
     "output_type": "execute_result"
    },
    {
     "data": {
      "image/png": "[encoded data removed]",
      "text/plain": [
       "<Figure size 432x288 with 1 Axes>"
      ]
     },
     "metadata": {
      "needs_background": "light"
     },
     "output_type": "display_data"
    }
   ],
   "source": [
    "for r in [2.0, 3.0, 4.0]:\n",
    "    q = 1/r\n",
    "    mu = 10.0\n",
    "    dmu = 0.4\n",
    "    ff = FF(dmu=dmu, mu=mu, d=1)\n",
    "    deltas = np.linspace(0, 2, 100)\n",
    "    mu_a = mu + dmu + q**2/2\n",
    "    mu_b = mu - dmu + q**2/2\n",
    "    fs = [ff.f(delta=delta, r=r, mu_a=mu_a, mu_b=mu_b) for delta in deltas]\n",
    "    l, = plt.plot(deltas, fs, label=f'r={r}')\n",
    "    fs = [ff.f(delta=delta, r=-r, mu_a=mu_a, mu_b=mu_b) for delta in deltas]\n",
    "    plt.plot(deltas, fs, '--', c=l.get_c(), label=f'r={-r}')\n",
    "\n",
    "plt.legend()\n",
    "plt.axhline(0);plt.axvline(1)\n",
    "plt.xlabel(r'$\\Delta$')\n",
    "plt.ylabel(r'$C(q) - C(0)$')"
   ]
  },
  {
   "cell_type": "markdown",
   "metadata": {},
   "source": [
    "Here we see the behaviour of the gap equation for various values of $r=\\hbar/q$.  We have shifted the chemical potential here by $q^2/2m$ so that the gap equation remains the same. The lower curve is the unrestricted integral ($p=\\hbar k$):\n",
    "\n",
    "$$\n",
    "  \\int\\frac{\\d{k}}{(2\\pi)}\\;\n",
    "  \\frac{1}{2\\sqrt{\\left(\\frac{p^2}{2m}-\\mu_q\\right)^2 + \\abs{\\Delta}^2}} \n",
    "  - \\tilde{C}(0), \\qquad\n",
    "  \\mu_q = \\mu - \\frac{q^2}{2m}.\n",
    "$$\n",
    "\n",
    "The upper curves are the same integrand, but only over the regions where $\\omega_+\\omega_- < 0$, which is restricted at lower values of the gap.  We can find this value by solving the equations $\\omega_{\\pm}'(k) = 0$ and $\\omega_{\\pm}(k) = 0$ to obtain the following equations:\n",
    "\n",
    "$$\n",
    "  \\pm p\\epsilon_+ = q E, \\qquad\n",
    "  \\epsilon_- = \\mp E\\\\\n",
    "  \\frac{p}{q}\\left(\\frac{p^2}{2m} - \\mu_q\\right) \n",
    "  = \\frac{pq}{m}+\\delta = \\pm E  \n",
    "$$"
   ]
  },
  {
   "cell_type": "markdown",
   "metadata": {},
   "source": [
    "$$\n",
    "  q = \\frac{-m\\delta}{p} \\pm \\sqrt{p^2 - 2m\\mu +\\frac{m^2\\delta^2}{p^2}}\n",
    "$$"
   ]
  },
  {
   "cell_type": "markdown",
   "metadata": {},
   "source": [
    "$$\n",
    "  \\mu_a = \\mu_+ + \\delta, \\qquad\n",
    "  \\mu_b = \\mu_- - \\delta, \\\\\n",
    "  \\epsilon_+ = \\frac{k^2}{2m} - \\Bigl(\\overbrace{\\mu - \\frac{q^2}{2m}}^{\\mu_q}\\Bigr),\n",
    "  \\qquad\n",
    "  \\epsilon_- = \\frac{-\\hbar^2 qk}{m} - \\delta.\n",
    "$$"
   ]
  },
  {
   "cell_type": "markdown",
   "metadata": {},
   "source": [
    "$$\n",
    "  (\\d{\\mu} - 2qk)^2 = \\Delta^2 + (k^2/2 - \\mu_q)^2\n",
    "$$"
   ]
  },
  {
   "cell_type": "markdown",
   "metadata": {},
   "source": [
    "$$\n",
    "  \\omega_\\pm = \\epsilon_- \\pm E\\\\\n",
    "  -2q \\pm \\frac{k\\epsilon_+}{E} = 0\n",
    "$$"
   ]
  },
  {
   "cell_type": "markdown",
   "metadata": {},
   "source": [
    "$$\n",
    "  4q^2(\\epsilon_+^2 + \\Delta^2) = 2(\\epsilon_+ + \\mu_q)\\epsilon_+^2\\\\\n",
    "  (\\d{\\mu} - 2qk)^2 - \\Delta^2 = \\epsilon_+^2\n",
    "$$"
   ]
  },
  {
   "cell_type": "markdown",
   "metadata": {},
   "source": [
    "$$\n",
    "\\pm\\epsilon_+ k_z = 2q\\sqrt{\\epsilon_+^2 + \\Delta^2}\n",
    "$$"
   ]
  },
  {
   "cell_type": "markdown",
   "metadata": {},
   "source": [
    "###  Determine Integrand Boundary\n",
    "The $\\frac{\\nu}{\\Delta}$ integral\n",
    "\\begin{align}\n",
    "  \\nu_c &= -\\int_{c}\\frac{\\d^d{k}}{(2\\pi)^d}\\;\\frac{\\Delta}{2\\sqrt{\\epsilon_+^2 + \\Delta^2}}\n",
    "  &&\\sim -\\int_{c}\\frac{\\d^d{k}}{(2\\pi)^d}\\;\\frac{m\\Delta}{\\hbar^2 k^2},\\\\\n",
    " \\end{align}"
   ]
  },
  {
   "cell_type": "code",
   "execution_count": 22,
   "metadata": {},
   "outputs": [],
   "source": [
    "def find_extremum(delta, mu, dmu, q=0,kp=0, hbar=1, m=1, a=0, b=5, N=20):\n",
    "    kF = np.sqrt(2*mu*m)/hbar\n",
    "    def f(k):\n",
    "        ea = (k+q)**2 *hbar**2/2/m + (hbar*kp)**2/2/m - mu - dmu\n",
    "        eb = (k-q)**2 * hbar**2/2/m  + (hbar*kp)**2/2/m - mu + dmu\n",
    "        ep, em = (ea + eb)/2, (ea - eb)/2\n",
    "        E = np.sqrt(ep**2 + delta**2)\n",
    "        wp = em + E\n",
    "        return ep * k - 2 * q *E#(ep * k)**2 - 4*q**2* E\n",
    "    ks = np.linspace(a,b,N)\n",
    "    plt.plot(ks,f(ks),'--')\n",
    "    plt.axhline(0)\n",
    "    try:\n",
    "        return brentq(f,0.*kF,5*kF)\n",
    "    except:\n",
    "        return None"
   ]
  },
  {
   "cell_type": "code",
   "execution_count": 23,
   "metadata": {},
   "outputs": [
    {
     "data": {
      "text/plain": [
       "2.2360679774997894"
      ]
     },
     "execution_count": 23,
     "metadata": {},
     "output_type": "execute_result"
    },
    {
     "data": {
      "image/png": "[encoded data removed]",
      "text/plain": [
       "<Figure size 432x288 with 1 Axes>"
      ]
     },
     "metadata": {
      "needs_background": "light"
     },
     "output_type": "display_data"
    }
   ],
   "source": [
    "f = find_extremum(1,1,1,1)\n",
    "f"
   ]
  },
  {
   "cell_type": "code",
   "execution_count": 24,
   "metadata": {
    "scrolled": true
   },
   "outputs": [
    {
     "data": {
      "image/png": "[encoded data removed]",
      "text/plain": [
       "<Figure size 432x288 with 1 Axes>"
      ]
     },
     "metadata": {
      "needs_background": "light"
     },
     "output_type": "display_data"
    }
   ],
   "source": [
    "def plot_dispersion(delta, q, mu, dmu):\n",
    "    kF = np.sqrt(2*mu)\n",
    "    k = np.linspace(0, 2*kF, 100)\n",
    "    ea, eb = (k+q)**2/2 - mu - dmu, (k-q)**2/2 - mu + dmu\n",
    "    ep, em = (ea + eb)/2, (ea - eb)/2\n",
    "    E = np.sqrt(ep**2 + delta**2)\n",
    "    wp, wm = em + E, em - E\n",
    "    plt.plot(k, wp)\n",
    "    plt.plot(k, wm)\n",
    "    plt.grid()\n",
    "    plt.ylim(-12,12)\n",
    "\n",
    "plot_dispersion(delta=1.0, mu=10.0, dmu=0.4, q=-1/3.3)\n",
    "    "
   ]
  },
  {
   "cell_type": "markdown",
   "metadata": {},
   "source": [
    "$$\n",
    "  \\Delta = e^{\\I q x}\\Delta_0\n",
    "$$"
   ]
  },
  {
   "cell_type": "markdown",
   "metadata": {},
   "source": []
  },
  {
   "cell_type": "code",
   "execution_count": null,
   "metadata": {},
   "outputs": [],
   "source": [
    "from mmf_hfb.tf_completion import nu_delta_integrand, C_integrand, integrate_q"
   ]
  },
  {
   "cell_type": "code",
   "execution_count": null,
   "metadata": {},
   "outputs": [],
   "source": [
    "def plot_nu_delta(mu, dmu, kF, q=1/3, delta=1, GN=100):\n",
    "    def integrand(kp, kz):\n",
    "        k2_a = (kz+q)**2 + kp**2\n",
    "        k2_b = (kz-q)**2 + kp**2\n",
    "        return nu_delta_integrand(ka2=k2_a, kb2=k2_b,mu_a=mu+dmu, mu_b=mu+dmu,delta=1, m_a=1, m_b=1, hbar=1, T=0) / np.pi**2\n",
    "    kzs = np.linspace(0,2*kF, GN)\n",
    "    kps = np.linspace(0,2*kF, GN)\n",
    "    pp,zz = np.meshgrid(kps,kzs)\n",
    "    nu_delta = integrand(pp,zz)\n",
    "    #plt.figure(figsize=(10, 5))\n",
    "    imcontourf(kps, kzs, nu_delta, aspect=1);\n",
    "    xx = np.linspace(0,1,GN) * kF\n",
    "    yy = ((kF)**2 - xx**2)**0.5 \n",
    "    plt.plot(xx,yy,c='r')\n",
    "    plt.xlabel(r'$k_{\\perp}$')\n",
    "    plt.ylabel(r'$k_z$')\n",
    "    plt.colorbar()\n",
    "    \n",
    "def plot_C1(mu, dmu, kF, q=1/3, delta=1, GN=100):\n",
    "    def integrand(k):\n",
    "        k2_a = (k+q)**2\n",
    "        k2_b = (k-q)**2\n",
    "        return C_integrand(ka2=k2_a, kb2=k2_b, mu_a=mu+dmu, mu_b=mu+dmu, delta=delta,  m_a=1, m_b=1, hbar=1, T=0) / np.pi**2\n",
    "    ks = np.linspace(0,2*kF, GN)\n",
    "\n",
    "    C_c = integrand(ks)\n",
    "    plt.figure(figsize=(10, 5))\n",
    "    plt.plot(ks,C_c,c='r')\n",
    "    plt.axvline(kF)\n",
    "\n",
    "def plot_C2(mu, dmu, kF, q=1/3, delta=1, GN=100):\n",
    "    def integrand(kp, kz):\n",
    "        k2_a = (kz+q)**2 + kp**2\n",
    "        k2_b = (kz-q)**2 + kp**2\n",
    "        return C_integrand(ka2=k2_a, kb2=k2_b, mu_a=mu+dmu, mu_b=mu+dmu, delta=delta, m_a=1, m_b=1, hbar=1, T=0) / np.pi**2\n",
    "    kzs = np.linspace(0,2*kF, GN)\n",
    "    kps = np.linspace(0,2*kF, GN)\n",
    "    zz,pp = np.meshgrid(kzs,kps)\n",
    "    nu_delta = integrand(pp,zz)\n",
    "    xx = np.linspace(0,1,GN) * kF\n",
    "    yy = (kF**2 - xx**2)**0.5 \n",
    "    plt.figure(figsize=(10, 5))\n",
    "    plt.plot(xx,yy,c='r')\n",
    "    imcontourf(kps, kzs, nu_delta, aspect=1);\n",
    "    plt.colorbar()\n",
    "    \n",
    "def plot_w(mu, dmu, q, delta=1, m_a=1, m_b=1, hbar=1, T=0, GN=100):\n",
    "    mu_a, mu_b = mu + dmu, mu - dmu\n",
    "    def func(kp,kz):\n",
    "        ka2 = (kz+q)**2 + kp**2\n",
    "        kb2 = (kz-q)**2 + kp**2\n",
    "        e = hbar**2/2\n",
    "        e_a, e_b = e*ka2/m_a - mu_a, e*kb2/m_b - mu_b\n",
    "        e_m, e_p = (e_a - e_b)/2, (e_a + e_b)/2\n",
    "        E = np.sqrt(e_p**2 + abs(delta)**2)\n",
    "        w_m, w_p = e_m - E, e_m + E\n",
    "        return w_m,w_p\n",
    "    kzs = np.linspace(0,2*kF, GN)\n",
    "    kps = np.linspace(0,2*kF, GN)\n",
    "    zz,pp = np.meshgrid(kzs,kps)\n",
    "    ws = func(pp,zz)\n",
    "    plt.figure(figsize=(15, 5))\n",
    "    plt.subplot(121)\n",
    "    imcontourf(kps, kzs, ws[0], aspect=1);\n",
    "    plt.colorbar()\n",
    "    plt.subplot(122)\n",
    "    imcontourf(kps, kzs, ws[1], aspect=1);\n",
    "    plt.colorbar()"
   ]
  },
  {
   "cell_type": "code",
   "execution_count": null,
   "metadata": {},
   "outputs": [],
   "source": [
    "def find_delta_nu_extremum(delta, mu, dmu, q=0,kp=0, hbar=1, m=1, a=0, b=5, N=20):\n",
    "    kF = np.sqrt(2*mu*m)/hbar\n",
    "    def integrand(kp, kz):\n",
    "        k2_a = (kz+q)**2 + kp**2\n",
    "        k2_b = (kz-q)**2 + kp**2\n",
    "        return nu_delta_integrand(ka2=k2_a, kb2=k2_b,mu_a=mu+dmu, mu_b=mu+dmu,delta=1, m_a=1, m_b=1, hbar=1, T=0) / np.pi**2\n",
    "    \n",
    "    def f(k):\n",
    "        return integrand(k,kp)\n",
    "    ks = np.linspace(a,b,N)\n",
    "    plt.plot(ks,f(ks),'--')\n",
    "    plt.axhline(0)\n",
    "    kF = math.sqrt(2*(mu+dmu)/m) #\n",
    "    plt.axvline(kF)\n",
    "    try:\n",
    "        return brentq(f,0.*kF,5*kF)\n",
    "    except:\n",
    "        return None"
   ]
  },
  {
   "cell_type": "code",
   "execution_count": null,
   "metadata": {
    "scrolled": false
   },
   "outputs": [],
   "source": [
    "GN =100\n",
    "mu = 10\n",
    "dmu = .4\n",
    "q = 0\n",
    "m_a, m_b = 1,1\n",
    "delta = 0\n",
    "minv = (1/m_a + 1/m_b)/2\n",
    "kF = math.sqrt(2*(mu+dmu)/minv) #\n",
    "#integrate_q(f=nu_delta_integrand, k_c=100*kF, mu_a=mu+dmu, mu_b=mu-dmu, q=q)\n",
    "clear_output()\n",
    "plot_nu_delta(mu=mu, dmu=dmu, kF=kF, q=q, delta=delta, GN=GN)"
   ]
  },
  {
   "cell_type": "code",
   "execution_count": null,
   "metadata": {
    "scrolled": false
   },
   "outputs": [],
   "source": [
    "kp=3.5\n",
    "find_delta_nu_extremum(delta=delta, mu=mu, dmu=dmu, q=q, kp=kp,N=1000)"
   ]
  },
  {
   "cell_type": "code",
   "execution_count": null,
   "metadata": {},
   "outputs": [],
   "source": [
    "find_extremum(delta=delta, mu=mu, dmu=dmu, q=q,kp=3.2,N=100)"
   ]
  },
  {
   "cell_type": "code",
   "execution_count": null,
   "metadata": {
    "scrolled": true
   },
   "outputs": [],
   "source": [
    "plot_C1(mu=mu, dmu=dmu, kF=kF, q=q,delta=delta, GN=GN)"
   ]
  },
  {
   "cell_type": "code",
   "execution_count": null,
   "metadata": {},
   "outputs": [],
   "source": [
    "plot_C2(mu=mu, dmu=dmu, kF=kF, q=q,delta=delta, GN=GN)"
   ]
  },
  {
   "cell_type": "code",
   "execution_count": null,
   "metadata": {},
   "outputs": [],
   "source": [
    "plot_w(mu=mu, dmu=dmu, q=q, delta=delta, GN=GN)"
   ]
  },
  {
   "cell_type": "markdown",
   "metadata": {},
   "source": [
    "### Analysis\n",
    "* From the above plot, we may find that the integral has a singular boundary belt which depends also on the $q$ and $d\\mu$ or ($\\mu s$), so we may need to carfully determine where that boundary spans.\n",
    "* It can be found that: as $q$ larger than $k_F$, the singluar region would almost gone, and the inegral region become smooth."
   ]
  },
  {
   "cell_type": "markdown",
   "metadata": {},
   "source": []
  },
  {
   "cell_type": "markdown",
   "metadata": {},
   "source": [
    "### Fix the density and set $\\kappa=0$"
   ]
  },
  {
   "cell_type": "code",
   "execution_count": null,
   "metadata": {},
   "outputs": [],
   "source": [
    "np.random.seed(1)\n",
    "m, hbar, kF = 1 + np.random.random(3)\n",
    "eF = (hbar*kF)**2/2/m\n",
    "nF = kF**3/3/np.pi**2\n",
    "mu = 0.59060550703283853378393810185221521748413488992993*eF\n",
    "q = 0\n",
    "delta = None# 0.68640205206984016444108204356564421137062514068346*eF\n",
    "delta = get_delta(mu_a= mu, mu_b=mu, m_a=m, m_b=m, q=q)\n",
    "args = dict( d=3, delta=delta,mu_a=mu,mu_b=mu, m_a=m, m_b=m, hbar=hbar,q=q, T=0.0)"
   ]
  },
  {
   "cell_type": "code",
   "execution_count": null,
   "metadata": {},
   "outputs": [],
   "source": [
    "np = tf.integrate_q(tf.n_p_integrand, **args)\n",
    "nm = tf.integrate_q(tf.n_m_integrand, **args)"
   ]
  },
  {
   "cell_type": "code",
   "execution_count": null,
   "metadata": {},
   "outputs": [],
   "source": [
    "def get_p(mu_a,mu_b):\n",
    "    mu_p,mu_m = (mu_a + mu_b)/2, (mu_a - mu_b)/2\n",
    "    return mu_p * np + mu_m * nm"
   ]
  },
  {
   "cell_type": "code",
   "execution_count": null,
   "metadata": {},
   "outputs": [],
   "source": [
    "dmu = 1e-10\n",
    "pa1 = get_p(mu+dmu,mu)\n",
    "pa2 = get_p(mu-dmu,mu)\n",
    "pb1 = get_p(mu,mu+dmu)\n",
    "pb2 = get_p(mu,mu-dmu)\n",
    "na_ = (pa1-pa2)/2/dmu\n",
    "nb_ = (pb1-pb2)/2/dmu\n",
    "na_,nb_,(np+nm)/2,(np-nm)/2"
   ]
  },
  {
   "cell_type": "code",
   "execution_count": null,
   "metadata": {},
   "outputs": [],
   "source": [
    "import numpy as np\n",
    "args = dict(delta=delta, m_a=m, m_b=m, hbar=hbar,q=q, T=0.0)\n",
    "n_p = tf.integrate_q(tf.n_p_integrand, mu_a=mu,mu_b = mu,**args)\n",
    "n_m = tf.integrate_q(tf.n_m_integrand, mu_a=mu,mu_b = mu,**args)\n",
    "n_a = (n_p + n_m)/2\n",
    "n_b = (n_p - n_m)/2\n",
    "dmu = 1e-10\n",
    "args = dict(delta=delta, hbar=hbar,q=q, T=0.0)\n",
    "n0 = get_pressure(mu_a=mu, mu_b=mu, **args)\n",
    "na1 = get_pressure(mu_a = mu - dmu,mu_b=mu, **args)\n",
    "na2 = get_pressure(mu_a = mu + dmu,mu_b=mu, **args)\n",
    "nb1 = get_pressure(mu_a = mu,mu_b=mu - dmu, **args)\n",
    "nb2 = get_pressure(mu_a = mu,mu_b=mu + dmu, **args)\n",
    "n_a_ = (na2 - na1)/2/dmu\n",
    "n_b_ = (nb2 - nb1)/2/dmu\n",
    "print((n_a,n_b),(n_a_,n_b_))\n",
    "#assert np.allclose(n_a.n,n_a_.n)\n",
    "#assert np.allclose(n_b.n,n_b_.n)"
   ]
  },
  {
   "cell_type": "markdown",
   "metadata": {},
   "source": [
    "# Mixed states"
   ]
  },
  {
   "cell_type": "markdown",
   "metadata": {},
   "source": [
    "$$\n",
    "  \\mu = \\pdiff{\\mathcal{E}(n)}{n}, \\qquad\n",
    "  n = \\pdiff{P(\\mu)}{\\mu}, \\qquad\n",
    "  P = \\mu n - \\mathcal{E}, \\qquad\n",
    "  \\mathcal{E} = \\mu n - P,\\\\\n",
    "  \\mathcal{E}_1 = n^2, \\qquad\n",
    "  \\mathcal{E}_2 = 1 + (n-1)^2\\\\\n",
    "  \\mu_1 = 2n, \\qquad \\mu_2 = 2(n-1)\\\\\n",
    "  n_1 = \\mu/2, \\qquad n_2 = 1+\\mu/2\\\\\n",
    "  P_1 = \\frac{\\mu^2}{4}, \\qquad\n",
    "  P_2 = \\mu - 1 + \\frac{\\mu^2}{4}\n",
    "$$\n",
    "\n",
    "First order transition at $\\mu_c = 1$, $P=\\mu_c^2/4$, with $n \\in (\\mu/2, 1 + \\mu/2)$ and\n",
    "$\\mathcal{E} = \\mu_c n - \\mu_c^2/4$."
   ]
  },
  {
   "cell_type": "code",
   "execution_count": null,
   "metadata": {},
   "outputs": [],
   "source": [
    "n = np.linspace(0,2,100)\n",
    "mu_c = 1\n",
    "E1 = n**2\n",
    "E2 = 1+(n-1)**2\n",
    "n_mix = np.linspace(mu_c/2, 1+mu_c/2, 100)\n",
    "E_mix = mu_c*n_mix - mu_c**2/4\n",
    "\n",
    "plt.subplot(121)\n",
    "plt.plot(n, E1, n, E2)\n",
    "plt.plot(n_mix, E_mix, '-k')\n",
    "plt.xlabel(r'$n$'); plt.ylabel(r'$\\mathcal{E}$');\n",
    "\n",
    "mu = np.linspace(0, 2, 100)\n",
    "P1 = mu**2/4\n",
    "P2 = mu**2/4 + mu - 1\n",
    "ax = plt.subplot(122); ax.yaxis.tick_right()\n",
    "plt.plot(mu, P1, mu, P2)\n",
    "plt.plot(mu, np.maximum(P1, P2), 'k')\n",
    "plt.xlabel(r'$\\mu$'); plt.ylabel('$P$');"
   ]
  },
  {
   "cell_type": "markdown",
   "metadata": {},
   "source": [
    "# FF States"
   ]
  },
  {
   "cell_type": "code",
   "execution_count": null,
   "metadata": {},
   "outputs": [],
   "source": [
    "Delta = 0.1\n",
    "k_z = np.linspace(0, 2, 100)\n",
    "k_perp = 0.9\n",
    "q = .0\n",
    "kF = 1.0\n",
    "\n",
    "dmu = 1.1*Delta\n",
    "E = np.sqrt(((k_z**2 + k_perp**2 + q**2)/2 - kF**2/2)**2 + Delta**2)\n",
    "Em = 2*q*k_z - dmu\n",
    "wp = Em + E\n",
    "wm = Em - E\n",
    "\n",
    "plt.plot(k_z, wp)\n",
    "plt.plot(k_z, wm)\n",
    "plt.axhline(0, ls=':', c='y')\n"
   ]
  },
  {
   "cell_type": "markdown",
   "metadata": {},
   "source": [
    "# Scattering length check in unitary case"
   ]
  },
  {
   "cell_type": "code",
   "execution_count": null,
   "metadata": {},
   "outputs": [],
   "source": [
    "h3 = Homogeneous3D(T=0.0)\n",
    "k0 = 1.0\n",
    "mu = k0**2/2\n",
    "eF = mu/0.5906055\n",
    "kF = np.sqrt(2*eF)\n",
    "n_p = kF**3/3/np.pi**2\n",
    "mus_eff = (mu,)*2\n",
    "delta =  1.16220056*mus_eff[0]\n",
    "k_c = 10.0\n",
    "Lambda = h3.get_inverse_scattering_length(mus_eff=mus_eff, delta=delta, k_c=k_c)/4/np.pi\n",
    "Lambda, -k_c/2/np.pi**2*k0/2/k_c*np.log((k_c+k0)/(k_c-k0)),k0**3/3/np.pi**2 "
   ]
  },
  {
   "cell_type": "code",
   "execution_count": null,
   "metadata": {},
   "outputs": [],
   "source": [
    "kc =np.linspace(1,20,20)\n",
    "plt.plot(kc,[h3.get_inverse_scattering_length(mus_eff=mus_eff, delta=delta, k_c=k)/4/np.pi for k in kc])"
   ]
  },
  {
   "cell_type": "code",
   "execution_count": null,
   "metadata": {},
   "outputs": [],
   "source": [
    "kc =np.linspace(20,200,20)\n",
    "plt.plot(kc,[h3.get_inverse_scattering_length(mus_eff=mus_eff, delta=delta, k_c=k)/4/np.pi for k in kc])"
   ]
  },
  {
   "cell_type": "code",
   "execution_count": null,
   "metadata": {},
   "outputs": [],
   "source": []
  }
 ],
 "metadata": {
  "kernelspec": {
   "display_name": "Python 3",
   "language": "python",
   "name": "python3"
  },
  "language_info": {
   "codemirror_mode": {
    "name": "ipython",
    "version": 3
   },
   "file_extension": ".py",
   "mimetype": "text/x-python",
   "name": "python",
   "nbconvert_exporter": "python",
   "pygments_lexer": "ipython3",
   "version": "3.7.2"
  },
  "toc": {
   "base_numbering": 1,
   "nav_menu": {},
   "number_sections": true,
   "sideBar": true,
   "skip_h1_title": false,
   "title_cell": "Table of Contents",
   "title_sidebar": "Contents",
   "toc_cell": false,
   "toc_position": {},
   "toc_section_display": true,
   "toc_window_display": false
  }
 },
 "nbformat": 4,
 "nbformat_minor": 2
}
