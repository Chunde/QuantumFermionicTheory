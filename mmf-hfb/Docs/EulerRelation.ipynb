{
 "cells": [
  {
   "cell_type": "markdown",
   "metadata": {},
   "source": [
    "# Euler Relation for Pauli Matrices"
   ]
  },
  {
   "cell_type": "markdown",
   "metadata": {},
   "source": [
    "* Pauli Matrices:\n",
    "\n",
    "\\begin{align}\n",
    "  \\sigma_1 = \\sigma_x &=\n",
    "    \\begin{pmatrix}\n",
    "      0&1\\\\\n",
    "      1&0\n",
    "    \\end{pmatrix} \\\\\n",
    "  \\sigma_2 = \\sigma_y &=\n",
    "    \\begin{pmatrix}\n",
    "      0&-i\\\\\n",
    "      i&0\n",
    "    \\end{pmatrix} \\\\\n",
    "  \\sigma_3 = \\sigma_z &=\n",
    "    \\begin{pmatrix}\n",
    "      1&0\\\\\n",
    "      0&-1\n",
    "    \\end{pmatrix} \\,.\n",
    "\\end{align}\n",
    "$$\n",
    "\\sigma_x^2=\\sigma_y^2=\\sigma_z^2=-i\\sigma_x\\sigma_y\\sigma_z=\n",
    "\\begin{pmatrix}\n",
    "1&0\\\\\n",
    "0&1\\\\\n",
    "\\end{pmatrix}\n",
    "$$"
   ]
  },
  {
   "cell_type": "markdown",
   "metadata": {},
   "source": [
    "* A very useful relation\n",
    "\n",
    "\\begin{align}\n",
    "e^{ix\\sigma}\n",
    "&=1+ix\\sigma-\\frac{x^2}{2!} - \\frac{ix^3\\sigma}{3!} + \\frac{x^4}{4!}+ i\\frac{x^5\\sigma}{5!}+\\dots\\\\\n",
    "&=\\left[1 -\\frac{x^2}{2!}  + \\frac{x^4}{4!}+\\dots \\right] + i\\left[ x -  \\frac{x^3}{3!} + \\frac{x^5}{5!} + \\dots\\right]\\sigma\\\\\n",
    "&=cos(x)+i\\sigma sin(x)\n",
    "\\end{align}"
   ]
  },
  {
   "cell_type": "markdown",
   "metadata": {},
   "source": [
    "* Rewrite the off-diagnal terms\n",
    "\n",
    "$$\n",
    "\\begin{pmatrix}\n",
    "0 & e^{i\\theta}\\\\\n",
    "e^{-i\\theta}& 0\\\\\n",
    "\\end{pmatrix}=\\begin{pmatrix}\n",
    "0 & cos(\\theta) + i sin(\\theta)\\\\\n",
    "cos(\\theta)-isin(\\theta)& 0\\\\\n",
    "\\end{pmatrix}=cos(\\theta)\\sigma_x - sin(\\theta)\\sigma_y\n",
    "$$"
   ]
  },
  {
   "cell_type": "markdown",
   "metadata": {},
   "source": [
    "* The RHS of the last expression can be put as:\n",
    "\n",
    "$$\n",
    "cos(\\theta)\\sigma_x - sin(\\theta)\\sigma_y=e^{i\\theta\\sigma_z /2} \\sigma_x e^{-i\\theta\\sigma_z /2}\n",
    "$$"
   ]
  },
  {
   "cell_type": "code",
   "execution_count": null,
   "metadata": {},
   "outputs": [],
   "source": []
  }
 ],
 "metadata": {
  "jupytext": {
   "formats": "ipynb,py:light"
  },
  "kernelspec": {
   "display_name": "Python 3",
   "language": "python",
   "name": "python3"
  },
  "language_info": {
   "codemirror_mode": {
    "name": "ipython",
    "version": 3
   },
   "file_extension": ".py",
   "mimetype": "text/x-python",
   "name": "python",
   "nbconvert_exporter": "python",
   "pygments_lexer": "ipython3",
   "version": "3.7.2"
  }
 },
 "nbformat": 4,
 "nbformat_minor": 2
}
