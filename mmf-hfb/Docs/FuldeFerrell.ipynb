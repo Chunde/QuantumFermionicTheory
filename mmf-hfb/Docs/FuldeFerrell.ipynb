{
 "cells": [
  {
   "cell_type": "code",
   "execution_count": null,
   "metadata": {
    "init_cell": true
   },
   "outputs": [
    {
     "data": {
      "text/html": [
       "<style>.grade {\n",
       "   background-color: #66FFCC;\n",
       "}\n",
       "</style>"
      ],
      "text/plain": [
       "<IPython.core.display.HTML object>"
      ]
     },
     "metadata": {},
     "output_type": "display_data"
    },
    {
     "data": {
      "application/javascript": [],
      "text/plain": [
       "<IPython.core.display.Javascript object>"
      ]
     },
     "metadata": {},
     "output_type": "display_data"
    },
    {
     "data": {
      "text/html": [
       "<script id=\"MathJax-Element-48\" type=\"math/tex\">\\newcommand{\\vect}[1]{\\mathbf{#1}}\n",
       "\\newcommand{\\uvect}[1]{\\hat{#1}}\n",
       "\\newcommand{\\abs}[1]{\\lvert#1\\rvert}\n",
       "\\newcommand{\\norm}[1]{\\lVert#1\\rVert}\n",
       "\\newcommand{\\I}{\\mathrm{i}}\n",
       "\\newcommand{\\ket}[1]{\\left|#1\\right\\rangle}\n",
       "\\newcommand{\\bra}[1]{\\left\\langle#1\\right|}\n",
       "\\newcommand{\\braket}[1]{\\langle#1\\rangle}\n",
       "\\newcommand{\\Braket}[1]{\\left\\langle#1\\right\\rangle}\n",
       "\\newcommand{\\op}[1]{\\mathbf{#1}}\n",
       "\\newcommand{\\mat}[1]{\\mathbf{#1}}\n",
       "\\newcommand{\\d}{\\mathrm{d}}\n",
       "\\newcommand{\\D}[1]{\\mathcal{D}[#1]\\;}\n",
       "\\newcommand{\\pdiff}[3][]{\\frac{\\partial^{#1} #2}{\\partial {#3}^{#1}}}\n",
       "\\newcommand{\\diff}[3][]{\\frac{\\d^{#1} #2}{\\d {#3}^{#1}}}\n",
       "\\newcommand{\\ddiff}[3][]{\\frac{\\delta^{#1} #2}{\\delta {#3}^{#1}}}\n",
       "\\newcommand{\\floor}[1]{\\left\\lfloor#1\\right\\rfloor}\n",
       "\\newcommand{\\ceil}[1]{\\left\\lceil#1\\right\\rceil}\n",
       "\\DeclareMathOperator{\\Tr}{Tr}\n",
       "\\DeclareMathOperator{\\erf}{erf}\n",
       "\\DeclareMathOperator{\\erfi}{erfi}\n",
       "\\DeclareMathOperator{\\sech}{sech}\n",
       "\\DeclareMathOperator{\\sn}{sn}\n",
       "\\DeclareMathOperator{\\cn}{cn}\n",
       "\\DeclareMathOperator{\\dn}{dn}\n",
       "\\DeclareMathOperator{\\sgn}{sgn}\n",
       "\\DeclareMathOperator{\\order}{O}\n",
       "\\DeclareMathOperator{\\diag}{diag}\n",
       "\n",
       "\\newcommand{\\mylabel}[1]{\\label{#1}\\tag{#1}}\n",
       "\\newcommand{\\degree}{\\circ}</script>"
      ],
      "text/plain": [
       "<IPython.core.display.HTML object>"
      ]
     },
     "metadata": {},
     "output_type": "display_data"
    },
    {
     "data": {
      "text/html": [],
      "text/plain": [
       "<IPython.core.display.HTML object>"
      ]
     },
     "metadata": {},
     "output_type": "display_data"
    },
    {
     "data": {
      "text/html": [
       "\n",
       "<i>\n",
       "<p>This cell contains some definitions for equations and some CSS for styling\n",
       "  the notebook. If things look a bit strange, please try the following:\n",
       "<ul>\n",
       "  <li>Choose \"Trust Notebook\" from the \"File\" menu.</li>\n",
       "  <li>Re-execute this cell.</li>\n",
       "  <li>Reload the notebook.</li>\n",
       "</ul>\n",
       "</p>\n",
       "</i>\n"
      ],
      "text/plain": [
       "<IPython.core.display.HTML object>"
      ]
     },
     "metadata": {},
     "output_type": "display_data"
    },
    {
     "name": "stdout",
     "output_type": "stream",
     "text": [
      "Populating the interactive namespace from numpy and matplotlib\n"
     ]
    }
   ],
   "source": [
    "import mmf_setup;mmf_setup.nbinit()\n",
    "from mmfutils.contexts import NoInterrupt\n",
    "try: from importlib import reload\n",
    "except ImportError: pass\n",
    "%pylab inline --no-import-all"
   ]
  },
  {
   "cell_type": "markdown",
   "metadata": {},
   "source": [
    "# Fulde-Ferrell (FF) States"
   ]
  },
  {
   "cell_type": "markdown",
   "metadata": {},
   "source": [
    "Here we work through some details about the Fulde Ferrell state.  The corresponding code is in the following files:\n",
    "\n",
    "* [`tf_completion.py`](tf_completion.py)\n",
    "* [`fulde_ferrell.py`](fulde_ferrell.py)\n"
   ]
  },
  {
   "cell_type": "markdown",
   "metadata": {},
   "source": [
    "The first file contains all the integrals:\n",
    "\n",
    "* `n_p_integrand`:\n",
    "\n",
    "  $$\n",
    "    \\newcommand{\\E}{\\mathcal{E}}\\newcommand{\\e}{\\epsilon}\n",
    "    \\int \\frac{\\d^d{k}}{(2\\pi)^d}\\; \\left(1 - \\frac{\\e_+}{E}\\bigl(f_\\beta(\\omega_-) - f_\\beta(\\omega_+)\\bigr)\\right)\n",
    "  $$"
   ]
  },
  {
   "cell_type": "markdown",
   "metadata": {},
   "source": [
    "The idea of the FF state is that the gap has a form $\\Delta(z) = e^{\\I q z}\\Delta$.  By rotating the basis, we can absorb the $q$ into the kinetic energy:\n",
    "\n",
    "$$\n",
    "  \\mat{M} = \\begin{pmatrix}\n",
    "    \\frac{\\hbar^2[(k_z-q)^2 + k_\\perp^2]}{2m_a} - \\mu_a & \\Delta\\\\\n",
    "    \\Delta & -\\left(\\frac{\\hbar^2[(k_z+q)^2 + k_\\perp^2]}{2m_b} - \\mu_b\\right)\n",
    "  \\end{pmatrix}.\n",
    "$$\n",
    "\n",
    "The eigenvalues $\\omega_{\\pm}$ are zero when:\n",
    "\n",
    "$$\n",
    "  m_a = m_b = m, \\qquad k^2 = k_z^2 + k_\\perp^2, \\qquad\n",
    "  \\e_{\\pm} = \\frac{\\e_a \\pm \\e_b}{2}, \\\\\n",
    "  \\omega_{\\pm} = \\e_- \\pm \\sqrt{\\e_+^2 + \\abs{\\Delta}^2} = 0 \\quad \n",
    "  \\Rightarrow \\quad \\e_{-}^2 = \\e_+^2 + \\abs{\\Delta}^2,\\\\\n",
    "  \\e_+ = \\frac{\\hbar^2k^2}{2m} - \\overbrace{\\left(\\mu_+ - \\frac{\\hbar^2q^2}{2m}\\right)}^{\\mu_q},\\qquad\n",
    "  \\e_- = \\frac{qk_z\\hbar^2}{m} - \\mu_-,\\\\\n",
    "  k_\\perp^2 = -k_z^2 + \\frac{2m}{\\hbar^2}\\left(\\mu_q \\pm \\sqrt{\\left(\\frac{qk_z\\hbar^2}{m} - \\mu_-\\right)^2 - \\abs{\\Delta}^2}\\right).\n",
    "$$\n",
    "\n",
    "All the real parts of this equation can be used as `points` for accurate integration."
   ]
  },
  {
   "cell_type": "markdown",
   "metadata": {},
   "source": [
    "## Momentum Integrals"
   ]
  },
  {
   "cell_type": "markdown",
   "metadata": {},
   "source": [
    "To regulate the theory, we will need to compute integrals up to a cubic cutoff $k < k_c$.  We shall assume in the code that $k_c$ is much larger than any of these `points`."
   ]
  },
  {
   "cell_type": "markdown",
   "metadata": {},
   "source": [
    "## Gap Equation"
   ]
  },
  {
   "cell_type": "markdown",
   "metadata": {},
   "source": [
    "Our code takes as inputs: ($\\mu_+$, $\\mu_-$, $q$, $\\Delta$, $T$).  From these, we can compute $\\mat{M}$ and integrate all of the states up to $k_c$ or beyond.  The gap equation has the form:\n",
    "\n",
    "$$\n",
    "  \\tilde{C} = \\frac{-\\nu_c}{\\Delta} + \\Lambda_c = \\frac{m}{4\\pi \\hbar^2 a_s}\\\\\n",
    "  = \\lim_{k_c\\rightarrow \\infty}\n",
    "  \\left(\n",
    "    - \\int_{k<k_c}\\frac{\\d^d{k}}{(2\\pi)^d}\\;\n",
    "    \\frac{f_\\beta(\\omega_-) - f_\\beta(\\omega_+)}{2\\sqrt{\\e_+^2 + \\Delta^2}}\n",
    "    +\n",
    "    \\overbrace{\\frac{1}{2} \\int_{k<k_c}\\frac{\\d^d{k}}{(2\\pi)^d}\\;\\frac{1}{\\e_+ + \\I 0^+}}^{\\Lambda_c}\n",
    "  \\right)\n",
    "$$\n",
    "\n",
    "*Note: Computing this is a bit tricky. Numerically one cannot easily integrated the entire expression because of the poles at $\\epsilon_+ = 0$, however, the second integral can be computed analytically for finite $k_c$.  Thus, the computation of this term can proceed as follows, which is done in the function `compute_C()`:*\n",
    "\n",
    "$$\n",
    "  \\tilde{C} = \n",
    "    - \\int_{k<k_c}\\frac{\\d^d{k}}{(2\\pi)^d}\\;\n",
    "    \\frac{f_\\beta(\\omega_-) - f_\\beta(\\omega_+)}{2\\sqrt{\\e_+^2 + \\Delta^2}}\n",
    "  + \\Lambda_c(\\mu_q)\n",
    "  +  \\int_{k\\geq k_c}\\frac{\\d^d{k}}{(2\\pi)^d}\\;\\left(\n",
    "    -\\frac{f_\\beta(\\omega_-) - f_\\beta(\\omega_+)}{2\\sqrt{\\e_+^2 + \\Delta^2}}\n",
    "    + \\frac{1}{2\\e_+}\n",
    "  \\right).\n",
    "$$\n",
    "\n",
    "A physical theory holds $\\tilde{C}$ fixed (or as a predefined function of densities).  Thus, this equation must be solved to figure out $\\Delta$.  In the unitary limit, $\\tilde{C} = 0$.  Solving this equation is tricky, because the rhs might not even be monotonic.  There might also only be the single solution $\\Delta = 0$.\n",
    "\n",
    "\n",
    "\n",
    "As a result, one can construct states by fixing $\\Delta$ and then computing the interaction at which that state is self-consistent."
   ]
  },
  {
   "cell_type": "code",
   "execution_count": null,
   "metadata": {},
   "outputs": [],
   "source": [
    "import numpy as np\n",
    "import tf_completion as tf;reload(tf)\n",
    "\n",
    "np.random.seed(1)\n",
    "m, hbar, kF = 1 + np.random.random(3)\n",
    "eF = (hbar*kF)**2/2/m\n",
    "nF = kF**3/3/np.pi**2\n",
    "mu = 0.59060550703283853378393810185221521748413488992993*eF\n",
    "delta = 0.68640205206984016444108204356564421137062514068346*eF\n",
    "\n",
    "dmu = 0.5*delta\n",
    "args0 = dict(mu_a=mu+dmu, mu_b=mu-dmu, delta=delta, m_a=m, m_b=m, \n",
    "             hbar=hbar, d=3, T=0.0)\n",
    "\n",
    "# Make a FF state with q\n",
    "k_c = 10*kF\n",
    "q = -0.8*kF\n",
    "args = dict(args0, q=q, k_c=k_c)\n",
    "tf.compute_C(**args), tf.integrate_q(tf.n_m_integrand, **args)\n"
   ]
  },
  {
   "cell_type": "code",
   "execution_count": null,
   "metadata": {},
   "outputs": [],
   "source": [
    "from mmfutils.plot import imcontourf\n",
    "kz = np.linspace(-2, 2, 100)[:, None]\n",
    "kp = np.linspace(-2, 2, 100)[None, :]\n",
    "e = hbar**2/2/m\n",
    "e_a = e*((kz-q)**2 + kp**2) - args['mu_a']\n",
    "e_b = e*((kz+q)**2 + kp**2) - args['mu_b']\n",
    "e_p, e_m = (e_a + e_b)/2, (e_a - e_b)/2\n",
    "E = np.sqrt(e_p**2+abs(delta)**2)\n",
    "w_p, w_m = e_m + E, e_m - E\n",
    "plt.figure(figsize=(10,5))\n",
    "plt.subplot(121)\n",
    "imcontourf(kz, kp, np.sign(w_p), vmin=-1, vmax=1);plt.colorbar()\n",
    "plt.subplot(122)\n",
    "imcontourf(kz, kp, np.sign(w_m), vmin=-1, vmax=1);plt.colorbar()"
   ]
  },
  {
   "cell_type": "code",
   "execution_count": null,
   "metadata": {},
   "outputs": [],
   "source": [
    "ss = np.linspace(-2, 2, 50)\n",
    "res = []\n",
    "for s in ss:\n",
    "    dmu = s*delta\n",
    "    mu_a, mu_b = mu + dmu, mu - dmu\n",
    "    args = dict(args0, mu_a=mu_a, mu_b=mu_b)\n",
    "    n_p = tf.integrate(tf.n_p_integrand, **args)\n",
    "    n_m = tf.integrate(tf.n_m_integrand, **args)\n",
    "    res.append((n_p.n, n_m.n))\n",
    "\n",
    "res = np.asarray(res)\n",
    "plt.plot(ss, res);plt.xlabel('dmu/delta');plt.ylabel('n')"
   ]
  },
  {
   "cell_type": "code",
   "execution_count": null,
   "metadata": {},
   "outputs": [],
   "source": [
    "from scipy.optimize import brentq\n",
    "def get_delta(dmu=0, q=0, debug=False, **kw):\n",
    "    def f(delta):        \n",
    "        args = dict(args0)\n",
    "        \n",
    "        args['mu_a'], args['mu_b'] = mu + dmu, mu - dmu\n",
    "        args.update(kw)        \n",
    "        args['delta'] = delta\n",
    "        C = tf.compute_C(q=q, **args)\n",
    "        return C.n\n",
    "    if debug:\n",
    "        return f\n",
    "    return brentq(f, 0.5, 1.0)\n",
    "\n",
    "get_delta(dmu=0.5*delta, q=0), delta"
   ]
  },
  {
   "cell_type": "code",
   "execution_count": null,
   "metadata": {},
   "outputs": [],
   "source": [
    "f = get_delta(dmu=0.2*delta, q=0.5, debug=True)\n",
    "\n",
    "ss = np.linspace(0.3, 1.1, 20)\n",
    "plt.plot(ss, [f(s) for s in ss])\n"
   ]
  },
  {
   "cell_type": "code",
   "execution_count": null,
   "metadata": {},
   "outputs": [],
   "source": [
    "from scipy.optimize import brentq\n",
    "def get_delta(dmu=0, q=0, debug=False, **kw):\n",
    "    def f(delta):         \n",
    "        args = dict(args0)\n",
    "        args['mu_a'], args['mu_b'] = mu + dmu, mu - dmu\n",
    "        args.update(kw)        \n",
    "        args['delta'] = delta\n",
    "        C = tf.integrate(tf.C_integrand, k_c=10.0, **args)\n",
    "        return C.n\n",
    "    if debug:\n",
    "        return f\n",
    "    return brentq(f, 0.0, 1.0)\n",
    "\n",
    "ss = np.linspace(0.3, 1.1, 20)\n",
    "res = []\n",
    "for s in ss:\n",
    "    f = get_delta(dmu=s*delta, debug=True)\n",
    "    res.append(f(0.001))\n",
    "plt.plot(ss, res);plt.xlabel('dmu/delta');plt.ylabel('C(0)')"
   ]
  },
  {
   "cell_type": "code",
   "execution_count": null,
   "metadata": {},
   "outputs": [],
   "source": [
    "from scipy.optimize import brentq\n",
    "def get_delta(dmu=0, q=0, debug=False, **kw):\n",
    "    def f(delta):        \n",
    "        args = dict(args0)\n",
    " \n",
    "        args['mu_a'], args['mu_b'] = mu + dmu, mu - dmu\n",
    "        args.update(kw)        \n",
    "        args['delta'] = delta\n",
    "        C = tf.compute_C(**args)\n",
    "        return C.n\n",
    "    if debug:\n",
    "        return f\n",
    "    return brentq(f, 0.0, 1.0)\n",
    "\n",
    "ss = np.linspace(0.3, 1.1, 20)\n",
    "res = []\n",
    "for s in ss:\n",
    "    f = get_delta(dmu=s*delta, debug=True)\n",
    "    res.append(f(delta))\n",
    "plt.plot(ss, res);plt.xlabel('dmu/delta');plt.ylabel('C(0)')"
   ]
  },
  {
   "cell_type": "code",
   "execution_count": null,
   "metadata": {},
   "outputs": [],
   "source": [
    "ss = np.linspace(-4, 4, 100)\n",
    "res = []\n",
    "for s in ss:\n",
    "    args = dict(args0,delta=s*delta)\n",
    "    C = tf.compute_C(**args)\n",
    "    res.append(C.n)\n",
    "\n",
    "res = np.asarray(res)\n",
    "plt.plot(ss*delta, res);plt.xlabel('delta');plt.ylabel('C')"
   ]
  },
  {
   "cell_type": "markdown",
   "metadata": {},
   "source": [
    "# To Do"
   ]
  },
  {
   "cell_type": "markdown",
   "metadata": {},
   "source": [
    "* Check speed of `dblquad` vs nested calls to `quad`."
   ]
  },
  {
   "cell_type": "markdown",
   "metadata": {},
   "source": [
    "# Playing with FuldeFerrelState class."
   ]
  },
  {
   "cell_type": "code",
   "execution_count": null,
   "metadata": {},
   "outputs": [],
   "source": [
    "from uncertainties import unumpy as unp\n",
    "from mmfutils.plot import imcontourf\n",
    "from mmf_hfb import tf_completion, FuldeFerrelState;\n",
    "from scipy.integrate import IntegrationWarning\n",
    "reload(tf_completion);reload(FuldeFerrelState)\n",
    "import warnings\n",
    "warnings.simplefilter('error', IntegrationWarning)"
   ]
  },
  {
   "cell_type": "markdown",
   "metadata": {},
   "source": [
    "In the weak coupling regime, we expect to find FF states.  We start here:"
   ]
  },
  {
   "cell_type": "code",
   "execution_count": null,
   "metadata": {},
   "outputs": [],
   "source": [
    "N = 32\n",
    "L = 10.0\n",
    "k_c = np.pi*N/L\n",
    "dim = 1\n",
    "delta = 0.1\n",
    "mu = 10.0\n",
    "dmu = 0.11\n",
    "\n",
    "args = dict(mu=mu, dmu=dmu, delta=delta, k_c=k_c, dim=dim)\n",
    "f = FuldeFerrelState.FFState(fix_g=True, **args)\n",
    "f.get_g(delta=delta)"
   ]
  },
  {
   "cell_type": "code",
   "execution_count": null,
   "metadata": {},
   "outputs": [],
   "source": [
    "deltas = np.linspace(0, 0.16, 80)[:, None]\n",
    "dqs = np.linspace(0, 0.04, 80)[None, :]\n",
    "res = np.vectorize(lambda _d, _dq: f.get_g(delta=_d, dq=_dq) - f._g)(deltas, dqs)\n",
    "Ps = np.vectorize(lambda _d, _dq: f.get_pressure(delta=_d, dq=_dq))(deltas, dqs)"
   ]
  },
  {
   "cell_type": "markdown",
   "metadata": {},
   "source": [
    "Here is a plot tracing the solutions to the gap equation along with pressure.  In principle these can be combined to find the ground state at these chemical potentials.  I am a little worried that the 1D code has an error (no Hartree term.)"
   ]
  },
  {
   "cell_type": "code",
   "execution_count": null,
   "metadata": {},
   "outputs": [],
   "source": [
    "plt.subplot(121)\n",
    "imcontourf(deltas, dqs, np.sign(res))\n",
    "plt.xlabel('Delta'); plt.ylabel('dq')\n",
    "plt.colorbar(label='sign(g-g_0)')\n",
    "\n",
    "plt.subplot(122)\n",
    "imcontourf(deltas, dqs, unp.nominal_values(Ps))\n",
    "plt.xlabel('Delta'); plt.ylabel('dq')\n",
    "plt.colorbar(label='P')"
   ]
  },
  {
   "cell_type": "code",
   "execution_count": null,
   "metadata": {},
   "outputs": [],
   "source": [
    "deltas = np.linspace(0.001, delta, 40)\n",
    "deltas = np.linspace(0, 0.2, 20)\n",
    "z = [f.get_g(r=3.04, delta=_d) - f._g for _d in deltas]\n",
    "plt.plot(deltas, z)\n",
    "plt.axhline(0)"
   ]
  },
  {
   "cell_type": "code",
   "execution_count": null,
   "metadata": {},
   "outputs": [],
   "source": [
    "f._tf_args"
   ]
  },
  {
   "cell_type": "code",
   "execution_count": null,
   "metadata": {},
   "outputs": [],
   "source": [
    "N = 32\n",
    "L = 10.0\n",
    "k_c = np.pi*N/L\n",
    "mu = 10.0\n",
    "dmu = 2.0\n",
    "dmu = 6.5\n",
    "\n",
    "delta = 5.0\n",
    "delta = 8.0\n",
    "args = dict(mu=mu, dmu=dmu, delta=delta, k_c=k_c)\n",
    "f = FuldeFerrelState.FFState(fix_g=True, **args)\n",
    "deltas = np.linspace(0.001, delta, 40)\n",
    "deltas = np.linspace(0, 8.2, 20)\n",
    "z = [f.get_g(r=3.04, delta=_d) - f._g for _d in deltas]\n",
    "plt.plot(deltas, z)\n",
    "plt.axhline(0)"
   ]
  },
  {
   "cell_type": "markdown",
   "metadata": {},
   "source": [
    "## Integration Error"
   ]
  },
  {
   "cell_type": "code",
   "execution_count": null,
   "metadata": {},
   "outputs": [],
   "source": [
    "args"
   ]
  },
  {
   "cell_type": "code",
   "execution_count": null,
   "metadata": {},
   "outputs": [],
   "source": [
    "from mmf_hfb import tf_completion as tf\n",
    "N = 32\n",
    "L = 10.0\n",
    "k_c = np.pi*N/L\n",
    "mu = 10.0\n",
    "dmu = 6.5\n",
    "delta = 8.0\n",
    "r = 1.0\n",
    "q = 1./r\n",
    "m = hbar = 1\n",
    "mu_a, mu_b = mu + dmu, mu - dmu\n",
    "\n",
    "_args = [mu_a, mu_b, delta, 1, 1, 1, 0]\n",
    "#tf.integrate_q(tf.nu_delta_integrand, **args)\n",
    "kz = -4.59\n",
    "kp = np.linspace(0, k_c, 100)\n",
    "\n",
    "k2_a = (kz+q)**2 + kp**2\n",
    "k2_b = (kz-q)**2 + kp**2\n",
    "#plt.plot(kp, tf.nu_delta_integrand(k2_a, k2_b, *_args))\n",
    "pz = kz\n",
    "mu_q = mu - q**2/2\n",
    "D = (q*pz/m - dmu)**2 - delta**2\n",
    "A = 2*m*mu_q - pz**2\n",
    "print(np.sqrt(A + 2*m*np.sqrt(D))/hbar, k1)\n",
    "\n",
    "px = kz\n",
    "mu_q = mu - q**2/2/m\n",
    "sqrt0 = (q*px/m - dmu)**2 - delta**2\n",
    "sqrt1 = np.sqrt(sqrt0)\n",
    "sqrt2 = 2*m*(mu_q + sqrt1) - px**2\n",
    "sqrt3 = 2*m*(mu_q - sqrt1) - px**2\n",
    "k1 = np.sqrt(sqrt2)/hbar\n",
    "k2 = np.sqrt(sqrt3)/hbar\n",
    "sqrt2, \n",
    "#k1, k2\n"
   ]
  },
  {
   "cell_type": "code",
   "execution_count": null,
   "metadata": {},
   "outputs": [],
   "source": [
    "xs = []\n",
    "sp.integrate.quad(f, -6.744561989371367+0.001, -1.6457536310736816-0.001)"
   ]
  },
  {
   "cell_type": "code",
   "execution_count": null,
   "metadata": {},
   "outputs": [],
   "source": []
  },
  {
   "cell_type": "code",
   "execution_count": null,
   "metadata": {},
   "outputs": [],
   "source": [
    "#sp.integrate.quad(func, a=a, b=b)\n",
    "all_points = [a] + points + [b]\n",
    "for _a, _b in zip(all_points[:-1], all_points[1:]):\n",
    "    print((_a, _b))\n",
    "    print(sp.integrate.quad(func, a=_a, b=_b))\n"
   ]
  },
  {
   "cell_type": "code",
   "execution_count": null,
   "metadata": {},
   "outputs": [],
   "source": [
    "points"
   ]
  },
  {
   "cell_type": "code",
   "execution_count": null,
   "metadata": {},
   "outputs": [],
   "source": [
    "x1"
   ]
  },
  {
   "cell_type": "code",
   "execution_count": null,
   "metadata": {},
   "outputs": [],
   "source": [
    "#locals().update(sys._l1)\n",
    "from mmf_hfb.integrate import quad, partial\n",
    "x=x0\n",
    "quad(partial(func, x), a=y0_x(x), b=y1_x(x), points=points, **kw)\n",
    "0.0053154780215518005 - 0.005316021949098559"
   ]
  },
  {
   "cell_type": "code",
   "execution_count": null,
   "metadata": {},
   "outputs": [],
   "source": []
  },
  {
   "cell_type": "code",
   "execution_count": null,
   "metadata": {},
   "outputs": [],
   "source": [
    "x_ = x0\n",
    "a_=y0_x(x_)\n",
    "b_=y1_x(x_)\n",
    "xs = []\n",
    "def f(x):\n",
    "    xs.append(x)\n",
    "    return partial(func, x_)(x)\n",
    "quad(f, a=a_, b=b_, points=points, **kw)"
   ]
  },
  {
   "cell_type": "code",
   "execution_count": null,
   "metadata": {},
   "outputs": [],
   "source": [
    "fs = np.array(list(map(partial(func, x), xs)))\n",
    "plt.plot(xs, fs, '+')\n",
    "points"
   ]
  },
  {
   "cell_type": "code",
   "execution_count": null,
   "metadata": {},
   "outputs": [],
   "source": [
    "x0 = -4.6\n",
    "x1 = -4.59\n",
    "x = np.linspace(x0, x1, 100)\n",
    "func(x0)"
   ]
  },
  {
   "cell_type": "code",
   "execution_count": null,
   "metadata": {},
   "outputs": [],
   "source": [
    "%matplotlib notebook\n",
    "fs = np.array(list(map(func, xs)))"
   ]
  },
  {
   "cell_type": "code",
   "execution_count": null,
   "metadata": {},
   "outputs": [],
   "source": [
    "#plt.figure(figsize=(20,2))\n",
    "i = np.argsort(xs)\n",
    "plt.plot(np.asarray(xs)[i], np.asarray(fs)[i], '+', ms=1)\n",
    "#plt.vlines(points, -0.04, 0)\n",
    "#plt.savefig('tmp.pdf')\n",
    "#!open tmp.pdf"
   ]
  },
  {
   "cell_type": "code",
   "execution_count": null,
   "metadata": {},
   "outputs": [],
   "source": [
    "plt.plot(deltas, z, '-+')"
   ]
  },
  {
   "cell_type": "code",
   "execution_count": null,
   "metadata": {},
   "outputs": [],
   "source": [
    "rs = np.linspace(0.01, L/2, 100)\n",
    "ds = [f.solve(r=_r, a=0.001, b=2*delta) for _r in rs]"
   ]
  },
  {
   "cell_type": "code",
   "execution_count": null,
   "metadata": {},
   "outputs": [],
   "source": [
    "f.solve(r=0.01, a=0.001, b=2*delta)"
   ]
  },
  {
   "cell_type": "code",
   "execution_count": null,
   "metadata": {},
   "outputs": [],
   "source": [
    "plt.plot(rs, ds)"
   ]
  },
  {
   "cell_type": "code",
   "execution_count": null,
   "metadata": {},
   "outputs": [],
   "source": [
    "plt.plot(rs, ds)"
   ]
  },
  {
   "cell_type": "markdown",
   "metadata": {},
   "source": [
    "## Homogeneous"
   ]
  },
  {
   "cell_type": "code",
   "execution_count": null,
   "metadata": {},
   "outputs": [],
   "source": [
    "from mmf_hfb import tf_completion, FuldeFerrelState;\n",
    "from scipy.integrate import IntegrationWarning\n",
    "reload(tf_completion);reload(FuldeFerrelState)\n",
    "import warnings\n",
    "warnings.simplefilter('error', IntegrationWarning)"
   ]
  },
  {
   "cell_type": "code",
   "execution_count": null,
   "metadata": {},
   "outputs": [],
   "source": [
    "N = 32\n",
    "L = 10.0\n",
    "k_c = 20*np.pi*N/L\n",
    "mu = 10.0\n",
    "dmu = 2.0\n",
    "dmu = 6.5\n",
    "\n",
    "delta = 5.0\n",
    "delta = 8.0\n",
    "args = dict(mu=mu, dmu=dmu, delta=delta, k_c=k_c)\n",
    "f = FuldeFerrelState.FFState(fix_g=True, **args)"
   ]
  },
  {
   "cell_type": "code",
   "execution_count": null,
   "metadata": {},
   "outputs": [],
   "source": [
    "f.get_g(delta=0.1, mu=mu, dmu=dmu, q=q, dq=dq)"
   ]
  },
  {
   "cell_type": "code",
   "execution_count": null,
   "metadata": {},
   "outputs": [],
   "source": [
    "print(f.get_densities(q=0, dq=1.0, **args))"
   ]
  },
  {
   "cell_type": "code",
   "execution_count": null,
   "metadata": {},
   "outputs": [],
   "source": [
    "print(f.get_densities(q=0, dq=0, **args))\n",
    "\n",
    "q = 1.0\n",
    "print(f.get_densities(q=q, dq=0, **args))"
   ]
  },
  {
   "cell_type": "code",
   "execution_count": null,
   "metadata": {},
   "outputs": [],
   "source": [
    "q = 0\n",
    "dq = 1.0\n",
    "(f.get_pressure(mu=mu, dmu=dmu, q=q, dq=0), \n",
    " f.get_pressure(mu=mu, dmu=dmu, q=q, dq=dq))"
   ]
  },
  {
   "cell_type": "code",
   "execution_count": null,
   "metadata": {},
   "outputs": [],
   "source": [
    "P1 = (1, -1)\n",
    "P2 = np.polymul(P1, P1)\n",
    "P4 = np.polymul(P2, P2)\n",
    "P8 = np.polymul(P4, P4)\n",
    "P16 = np.polymul(P8, P8)\n",
    "P32 = np.polymul(P16, P16)\n",
    "x = np.linspace(1-0.001,1+0.001,100)\n",
    "plt.plot(x, (np.polyval(P8, x)- (x-1)**8))\n",
    "\n"
   ]
  },
  {
   "cell_type": "code",
   "execution_count": null,
   "metadata": {},
   "outputs": [],
   "source": [
    "deltas = np.linspace(0.001, delta, 40)\n",
    "deltas = np.linspace(0, 8.2, 20)\n",
    "z = [f.get_g(r=3.04, delta=_d) - f._g for _d in deltas]\n",
    "plt.plot(deltas, z)\n",
    "plt.axhline(0)"
   ]
  }
 ],
 "metadata": {
  "celltoolbar": "Initialization Cell",
  "kernelspec": {
   "display_name": "Python [conda env:work3]",
   "language": "python",
   "name": "conda-env-work3-py"
  },
  "language_info": {
   "codemirror_mode": {
    "name": "ipython",
    "version": 3
   },
   "file_extension": ".py",
   "mimetype": "text/x-python",
   "name": "python",
   "nbconvert_exporter": "python",
   "pygments_lexer": "ipython3",
   "version": "3.7.1"
  },
  "toc": {
   "base_numbering": 1,
   "nav_menu": {},
   "number_sections": true,
   "sideBar": true,
   "skip_h1_title": false,
   "title_cell": "Table of Contents",
   "title_sidebar": "Contents",
   "toc_cell": false,
   "toc_position": {
    "height": "calc(100% - 180px)",
    "left": "10px",
    "top": "150px",
    "width": "264.796875px"
   },
   "toc_section_display": true,
   "toc_window_display": true
  }
 },
 "nbformat": 4,
 "nbformat_minor": 2
}
