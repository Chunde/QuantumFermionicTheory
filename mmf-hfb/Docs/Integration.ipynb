{
 "cells": [
  {
   "cell_type": "code",
   "execution_count": 71,
   "metadata": {},
   "outputs": [
    {
     "data": {
      "text/html": [
       "<style>.grade {\n",
       "   background-color: #66FFCC;\n",
       "}\n",
       "</style>"
      ],
      "text/plain": [
       "<IPython.core.display.HTML object>"
      ]
     },
     "metadata": {},
     "output_type": "display_data"
    },
    {
     "data": {
      "application/javascript": [],
      "text/plain": [
       "<IPython.core.display.Javascript object>"
      ]
     },
     "metadata": {},
     "output_type": "display_data"
    },
    {
     "data": {
      "text/html": [
       "<script id=\"MathJax-Element-48\" type=\"math/tex\">\\newcommand{\\vect}[1]{\\mathbf{#1}}\n",
       "\\newcommand{\\uvect}[1]{\\hat{#1}}\n",
       "\\newcommand{\\abs}[1]{\\lvert#1\\rvert}\n",
       "\\newcommand{\\norm}[1]{\\lVert#1\\rVert}\n",
       "\\newcommand{\\I}{\\mathrm{i}}\n",
       "\\newcommand{\\ket}[1]{\\left|#1\\right\\rangle}\n",
       "\\newcommand{\\bra}[1]{\\left\\langle#1\\right|}\n",
       "\\newcommand{\\braket}[1]{\\langle#1\\rangle}\n",
       "\\newcommand{\\Braket}[1]{\\left\\langle#1\\right\\rangle}\n",
       "\\newcommand{\\op}[1]{\\mathbf{#1}}\n",
       "\\newcommand{\\mat}[1]{\\mathbf{#1}}\n",
       "\\newcommand{\\d}{\\mathrm{d}}\n",
       "\\newcommand{\\pdiff}[3][]{\\frac{\\partial^{#1} #2}{\\partial {#3}^{#1}}}\n",
       "\\newcommand{\\diff}[3][]{\\frac{\\d^{#1} #2}{\\d {#3}^{#1}}}\n",
       "\\newcommand{\\ddiff}[3][]{\\frac{\\delta^{#1} #2}{\\delta {#3}^{#1}}}\n",
       "\\newcommand{\\floor}[1]{\\left\\lfloor#1\\right\\rfloor}\n",
       "\\newcommand{\\ceil}[1]{\\left\\lceil#1\\right\\rceil}\n",
       "\\DeclareMathOperator{\\Tr}{Tr}\n",
       "\\DeclareMathOperator{\\erf}{erf}\n",
       "\\DeclareMathOperator{\\erfi}{erfi}\n",
       "\\DeclareMathOperator{\\sech}{sech}\n",
       "\\DeclareMathOperator{\\sgn}{sgn}\n",
       "\\DeclareMathOperator{\\order}{O}\n",
       "\\DeclareMathOperator{\\diag}{diag}\n",
       "\n",
       "\\newcommand{\\mylabel}[1]{\\label{#1}\\tag{#1}}\n",
       "\\newcommand{\\degree}{\\circ}</script>"
      ],
      "text/plain": [
       "<IPython.core.display.HTML object>"
      ]
     },
     "metadata": {},
     "output_type": "display_data"
    },
    {
     "data": {
      "text/html": [],
      "text/plain": [
       "<IPython.core.display.HTML object>"
      ]
     },
     "metadata": {},
     "output_type": "display_data"
    },
    {
     "data": {
      "text/html": [
       "\n",
       "<i>\n",
       "<p>This cell contains some definitions for equations and some CSS for styling\n",
       "  the notebook. If things look a bit strange, please try the following:\n",
       "<ul>\n",
       "  <li>Choose \"Trust Notebook\" from the \"File\" menu.</li>\n",
       "  <li>Re-execute this cell.</li>\n",
       "  <li>Reload the notebook.</li>\n",
       "</ul>\n",
       "</p>\n",
       "</i>\n"
      ],
      "text/plain": [
       "<IPython.core.display.HTML object>"
      ]
     },
     "metadata": {},
     "output_type": "display_data"
    }
   ],
   "source": [
    "import mmf_setup;mmf_setup.nbinit()"
   ]
  },
  {
   "cell_type": "markdown",
   "metadata": {},
   "source": [
    "$$\n",
    "  \\int \\frac{\\d^2{k}}{(2\\pi)^2} = \\int \\d{k_z}2\\int_{0}^{k_c}\\d{k_\\perp} \\frac{1}{4\\pi^2} f\n",
    "  = \\int \\d{k_z}\\int_{0}^{k_c}\\d{k_\\perp} \\frac{1}{2\\pi^2} f\\\\\n",
    "  \\int \\frac{\\d^3{k}}{(2\\pi)^3} = \\int\\d{k_z} 2\\pi \\int_{0}^{k_c}k_\\perp\\d{k_\\perp} \\frac{1}{8\\pi^3} f\n",
    "  = \\int \\d{k_z} \\int_{0}^{k_c}k_\\perp\\d{k_\\perp} \\frac{1}{4\\pi^2} f\\\\\n",
    "$$"
   ]
  },
  {
   "cell_type": "markdown",
   "metadata": {},
   "source": [
    "Here we consider integration of the BdG equations at $T=0$.  In particular, we identify when the integrands might have kinks in order to specify points of integration.  We start with the quasi-particle dispersion relationships which define the occupation numbers.  We allow for Fulde-Ferrell states with momentum $q$ along the $x$ axis. Kinks occur when these change sign:\n",
    "\n",
    "$$\n",
    "  \\omega_{\\pm} = \\epsilon_{\\pm} \\pm E, \\qquad\n",
    "  E = \\sqrt{\\epsilon_+^2+\\abs{\\Delta}^2},\\\\\n",
    "  \\epsilon_{\\pm} = \\frac{\\epsilon_a \\pm \\epsilon_b}{2}, \\qquad\n",
    "  \\epsilon_{a, b} = \\frac{(p_x \\pm q)^2 + p_\\perp^2}{2m} - \\mu_{a,b}.\n",
    "$$\n",
    "\n",
    "Simplifying, we have:\n",
    "\n",
    "$$\n",
    "  \\epsilon_{-} = \\frac{qp_x}{m} - \\mu_{-}, \\qquad\n",
    "  \\epsilon_{+} = \\frac{p_x^2 + p_\\perp^2}{2m} - \\Bigl(\\overbrace{\\mu_{+} - \\frac{q^2}{2m}}^{\\mu_q}\\Bigr), \n",
    "  \\qquad\n",
    "  \\mu_{\\pm} = \\frac{\\mu_{a} \\pm \\mu_{b}}{2}.\n",
    "$$\n",
    "\n",
    "Critical points occur when $\\omega_{\\pm} = 0$ which gives the following conditions:\n",
    "\n",
    "$$\n",
    "  \\epsilon_-^2 = \\epsilon_+^2 + \\abs{\\Delta}^2\\\\\n",
    "  \\left(\\frac{qp_x}{m} - \\mu_{-}\\right)^2 = \\left(\\frac{p_x^2 + p_\\perp^2}{2m} - \\mu_q\\right)^2 + \\abs{\\Delta}^2.\n",
    "$$\n",
    "\n",
    "This may be solved for $p_\\perp$ giving the following critical points:\n",
    "\n",
    "$$\n",
    "  p_\\perp^2 = 2m\\left(\\mu_q \\pm \\sqrt{\\left(\\frac{qp_x}{m} - \\mu_{-}\\right)^2 - \\abs{\\Delta}^2}\\right) - p_x^2.\n",
    "$$"
   ]
  },
  {
   "cell_type": "code",
   "execution_count": 73,
   "metadata": {},
   "outputs": [
    {
     "name": "stdout",
     "output_type": "stream",
     "text": [
      "Populating the interactive namespace from numpy and matplotlib\n"
     ]
    },
    {
     "data": {
      "application/vnd.jupyter.widget-view+json": {
       "model_id": "f047c9cd382b42fd9b1da00a727ef6bc",
       "version_major": 2,
       "version_minor": 0
      },
      "text/plain": [
       "interactive(children=(FloatSlider(value=0.0, description='q', max=2.0, step=0.2), FloatSlider(value=0.0, descr…"
      ]
     },
     "metadata": {},
     "output_type": "display_data"
    }
   ],
   "source": [
    "%pylab inline --no-import-all\n",
    "from ipywidgets import interact\n",
    "from mmfutils.plot import imcontourf\n",
    "m = 1\n",
    "\n",
    "mu = eF = 1.0\n",
    "pF = np.sqrt(2*m*eF)\n",
    "delta = 0.5*mu\n",
    "p_max = 2*pF\n",
    "\n",
    "@interact(dq=(-2, 2, 0.1), dmu=(-1.0, 1.0, 0.1), delta=(0, 1, 0.1),q=(0, 2, 0.2))\n",
    "def plot_regions(q=0, dq=0, dmu=0.4, delta=0.2):\n",
    "    delta = np.abs(delta)\n",
    "    p_x, p_perp = np.meshgrid(np.linspace(-p_max, p_max, 500),\n",
    "                              np.linspace(-p_max, p_max, 500),\n",
    "                              indexing='ij', sparse=True)\n",
    "    mu_a = mu + dmu\n",
    "    mu_b = mu - dmu\n",
    "    e_a = ((p_x + q + dq)**2 + p_perp**2)/2/m - mu_a\n",
    "    e_b = ((p_x + q - dq)**2 + p_perp**2)/2/m - mu_b\n",
    "    e_p, e_m = (e_a + e_b)/2.0, (e_a-e_b)/2.0\n",
    "    E = np.sqrt(e_p**2 + delta**2)\n",
    "    w_p, w_m = e_m + E, e_m - E\n",
    "    \n",
    "    # Analytic regions\n",
    "    p_x_ = (p_x + q).ravel()\n",
    "    mu_q = mu - dq**2/2/m\n",
    "    p_perp1_ = np.ma.sqrt(2*m*(mu_q + np.sqrt((dq*p_x_/m - dmu)**2 - delta**2)) - p_x_**2\n",
    "                         ).filled(np.nan)\n",
    "    p_perp2_ = np.ma.sqrt(2*m*(mu_q - np.sqrt((dq*p_x_/m - dmu)**2 - delta**2)) - p_x_**2\n",
    "                         ).filled(np.nan)\n",
    "    \n",
    "    p_x_special = np.ma.divide(m*(dmu - np.array([delta, -delta])), \n",
    "                               dq).filled(np.nan).tolist()\n",
    "    P = [1,  0, -4*(m*mu_q + dq**2), 8*m*dq*dmu, 4*m**2*(delta**2 + mu_q**2 - dmu**2)]\n",
    "    p_x_special.extend([p for p in np.roots(P) if p.imag == 0])\n",
    "    p_x_special = (np.array(p_x_special) - q).tolist()\n",
    "    plt.figure(figsize=(10,5))\n",
    "    plt.subplot(121)\n",
    "    imcontourf(p_x, p_perp, np.sign(w_p))\n",
    "    plt.plot(p_x, p_perp1_, p_x, p_perp2_)\n",
    "    plt.vlines(p_x_special, 0, p_max); plt.xlim(-p_max, p_max)\n",
    "    plt.xlabel('p_x');plt.ylabel('p_perp')\n",
    "    plt.subplot(122)    \n",
    "    imcontourf(p_x, p_perp, np.sign(-w_m))\n",
    "    plt.plot(p_x, p_perp1_, p_x, p_perp2_)\n",
    "    plt.vlines(p_x_special, 0, p_max); plt.xlim(-p_max, p_max)\n",
    "    plt.xlabel('p_x');plt.ylabel('p_perp')"
   ]
  },
  {
   "cell_type": "code",
   "execution_count": null,
   "metadata": {},
   "outputs": [],
   "source": [
    "mu = eF = 10.0\n",
    "pF = np.sqrt(2*m*eF)\n",
    "delta = 0.5*mu\n",
    "p_max = 2*pF\n",
    "plot_regions(q=1/3.0, dmu=6.5, delta=8.0)"
   ]
  },
  {
   "cell_type": "markdown",
   "metadata": {},
   "source": [
    "We thus have the correct regions.  The second task is to figure out where these regions start and end so we can indentify special points in $p_x$.  These occur when $\\d{p_x}/\\d{p_\\perp} = 0$, or when the right-hand side of the following expression diverges.  One condition is simple, but the condition that $p_\\perp = 0$ requires solving a quartic polynomial:\n",
    "\n",
    "$$\n",
    "  \\frac{\\d{p_\\perp}}{\\d{p_x}} = \\frac{1}{2p_\\perp}\\left(\\pm \\frac{2\\left(\\frac{qp_x}{m} - \\mu_{-}\\right)q}{\\sqrt{\\left(\\frac{qp_x}{m} - \\mu_{-}\\right)^2 - \\abs{\\Delta}^2}} - 2 p_x\\right), \\\\\n",
    "  \\left(\\frac{qp_x}{m} - \\mu_{-}\\right)^2 - \\abs{\\Delta}^2 = 0,\\\\\n",
    "  p_x = \\frac{m(\\mu_{-} \\pm \\abs{\\Delta})}{q}, \\qquad\n",
    "  \\left(\\frac{qp_x}{m} - \\mu_{-}\\right)^2 - \\abs{\\Delta}^2 = \\left(\\frac{p_x^2}{2m} - \\mu_q\\right)^2.\n",
    "$$"
   ]
  },
  {
   "cell_type": "markdown",
   "metadata": {},
   "source": [
    "The last condition can be solve numerically from the following polynomial:\n",
    "\n",
    "$$\n",
    "  p_x^4 - 4\\left(m\\mu_q + q^2\\right)p_x^2 + 8mq\\mu_-p_x + 4m^2\\left(\\abs{\\Delta}^2 + \\mu_q^2 - \\mu_-^2\\right) = 0\n",
    "$$"
   ]
  },
  {
   "cell_type": "markdown",
   "metadata": {},
   "source": [
    "$$\n",
    "  \\left(p_x^2 - 2m\\mu_q\\right)^2 + 4m^2\\abs{\\Delta}^2 - 4m^2\\left(\\frac{qp_x}{m} - 4m^2\\mu_{-}\\right)^2 = 0\n",
    "$$"
   ]
  },
  {
   "cell_type": "markdown",
   "metadata": {},
   "source": [
    "### Large $q$"
   ]
  },
  {
   "cell_type": "markdown",
   "metadata": {},
   "source": [
    "We now consider the limit of large $q$ (close to the core of a vortex).  The last equation can be rearranged as:\n",
    "\n",
    "$$\n",
    "  4m^2\\abs{\\Delta}^2 = 4m^2\\left(\\frac{qp_x}{m} - 4m^2\\mu_{-}\\right)^2 - \\left(p_x^2 - 2m\\mu_q\\right)^2.\n",
    "$$\n",
    "\n",
    "The rhs has a maximum when \n",
    "\n",
    "$$\n",
    "  8m^2\\left(\\frac{qp_x}{m} - 4m^2\\mu_{-}\\right)\\frac{q}{m} = 4p_x\\left(p_x^2 - 2m\\mu_q\\right),\n",
    "$$\n",
    "\n",
    "which, for large $q$ requires:\n",
    "\n",
    "$$\n",
    "  p_x \\approx \\frac{4m^3\\mu_{-}}{q}, \\qquad\n",
    "  4m^2\\abs{\\Delta}^2 =  - \\left(\\frac{16m^6\\mu_{-}^2}{q^2} - 2m\\mu_q\\right)^2.\n",
    "$$"
   ]
  },
  {
   "cell_type": "code",
   "execution_count": null,
   "metadata": {},
   "outputs": [],
   "source": [
    "p = np.linspace(-2,2,100)\n",
    "plt.plot(p, (p-1.0)**2 - (p**2-1.0)**2)"
   ]
  },
  {
   "cell_type": "code",
   "execution_count": null,
   "metadata": {},
   "outputs": [],
   "source": [
    "%pylab inline --no-import-all\n",
    "from mmf_hfb.integrate import dquad\n",
    "\n",
    "import sympy\n",
    "def f(y, x, x0=0, y0=0, np=np):\n",
    "        return np.exp(-(x-x0)**2 - (y-y0)**2)\n",
    "x, y = sympy.var(['x', 'y'], real=True)\n",
    "f_xy = f(y, x, x0=0, y0=0, np=sympy)\n",
    "f_xy.integrate((x, -np.inf, np.inf), (y, -np.inf, np.inf))\n",
    "f_xy.integrate((x, -1, 1), (y, -1, 1))\n",
    "\n",
    "\n",
    "x0 = -np.inf\n",
    "x1 = np.inf\n",
    "def y0_x(x):\n",
    "    return -np.inf\n",
    "def y1_x(x):\n",
    "    return np.inf\n",
    "\n",
    "points = [1e5]\n",
    "def points_y_x(x):\n",
    "    return points\n",
    "dquad(f, x0, x1, y0_x, y1_x, points, points_y_x)"
   ]
  },
  {
   "cell_type": "code",
   "execution_count": null,
   "metadata": {},
   "outputs": [],
   "source": [
    "_xs = []\n",
    "def f(x, x0=100):\n",
    "    global _xs\n",
    "    _xs.append(x)\n",
    "    return np.exp(-(x-x0)**2)\n",
    "    \n",
    "x = np.linspace(-10,10,100)\n",
    "plt.plot(x, f(x, x0=0))\n",
    "\n",
    "_xs = []\n",
    "from scipy.integrate import quad\n",
    "print(quad(f, -np.inf, np.inf))\n",
    "xs = np.array(_xs)"
   ]
  },
  {
   "cell_type": "code",
   "execution_count": null,
   "metadata": {},
   "outputs": [],
   "source": [
    "plt.plot(xs, f(xs), '+')"
   ]
  },
  {
   "cell_type": "code",
   "execution_count": null,
   "metadata": {},
   "outputs": [],
   "source": [
    "from functools import partial\n",
    "import numpy as np\n",
    "import scipy.integrate\n",
    "import scipy as sp\n",
    "from uncertainties import ufloat\n",
    "import math\n",
    "import cmath\n",
    "import numba\n",
    "import warnings\n",
    "def quad(func, a, b, points=None, **kw):\n",
    "    if points is not None and np.any(np.isinf([a, b])):\n",
    "        sign = 1\n",
    "        if b < a:\n",
    "            sign = -1\n",
    "            a, b = b, a\n",
    "        points = sorted([a, b] + [p for p in points if a < p and p < b])\n",
    "        res = [sp.integrate.quad(func=func, a=_a, b=_b, **kw)\n",
    "               for _a, _b in zip(points[:-1], points[1:])]\n",
    "        return sign * sum(ufloat(*_r) for _r in res)\n",
    "    else:\n",
    "        return ufloat(*sp.integrate.quad(func=func, a=a, b=b, points=points, **kw))\n",
    "\n",
    "\n",
    "def dquad(func, x0, x1, y0_x, y1_x, points_x=None, points_y_x=None, **kw):\n",
    "    def inner_integrand(x):\n",
    "        points = None\n",
    "        if points_y_x is not None:\n",
    "            points = points_y_x(x)\n",
    "        with warnings.catch_warnings():\n",
    "            warnings.filterwarnings('error')\n",
    "            try:\n",
    "                return quad(partial(func, x), a=y0_x(x), b=y1_x(x),points=points, **kw).n\n",
    "            except Warning as e:\n",
    "                print(x, y0_x(x),y1_x(x), points, kw)\n",
    "                \n",
    "        return quad(partial(func, x), a=y0_x(x), b=y1_x(x),points=points, **kw).n\n",
    "    \n",
    "    return quad(inner_integrand, x0, x1, points=points_x, **kw)"
   ]
  },
  {
   "cell_type": "code",
   "execution_count": null,
   "metadata": {},
   "outputs": [],
   "source": [
    "def integrate(f, mu_a, mu_b, delta, m_a, m_b, d=3,q=0, dq=0.0, hbar=1.0, T=0.0, k_0=0, k_c=None, limit=500):\n",
    "    k_inf = np.inf if k_c is None else k_c\n",
    "    delta = abs(delta)\n",
    "    args = (mu_a, mu_b, delta, m_a, m_b, hbar, T)\n",
    "    print(args)\n",
    "    if d == 1:\n",
    "        def integrand(k):\n",
    "            k2_a = (k + q + dq)**2\n",
    "            k2_b = (k + q - dq)**2\n",
    "            return f(k2_a, k2_b, *args) / np.pi\n",
    "    elif d == 2:\n",
    "        def integrand(kx, kp):\n",
    "            k2_a = (kx + q + dq)**2 + kp**2\n",
    "            k2_b = (kx + q - dq)**2 + kp**2\n",
    "            assert(kp>=0)\n",
    "            return f(k2_a, k2_b, *args) / (2*np.pi**2)\n",
    "    elif d == 3:\n",
    "        def integrand(kx, kp):\n",
    "            k2_a = (kx + q + dq)**2 + kp**2\n",
    "            k2_b = (kx + q - dq)**2 + kp**2\n",
    "            assert(kp>=0)\n",
    "            return f(k2_a, k2_b, *args) * (kp/4/np.pi**2)\n",
    "    else:\n",
    "        raise ValueError(f\"Only d=1, 2, or 3 supported (got d={d})\")\n",
    "\n",
    "    mu = (mu_a + mu_b)/2\n",
    "    dmu = (mu_a - mu_b)/2\n",
    "    minv = (1/m_a + 1/m_b)/2\n",
    "    mu_q = mu - dq**2/2*minv\n",
    "    assert m_a == m_b   # Need to re-derive for different masses\n",
    "    m = 1./minv\n",
    "    kF = np.sqrt(2*mu/minv)/hbar\n",
    "\n",
    "    p_x_special = (np.ma.divide(m*(dmu - np.array([delta, -delta])),dq).filled(np.nan)- q).tolist()\n",
    "\n",
    "    P = [1, 0, -4*(m*mu_q + dq**2),8*m*dq*dmu, 4*m**2*(delta**2 + mu_q**2 - dmu**2)]\n",
    "    p_x_special.extend([p.real - q for p in np.roots(P)])\n",
    "    points = sorted(set([x/hbar for x in p_x_special if not math.isnan(x)]))\n",
    "    if d == 1:\n",
    "        integrand = numba.cfunc(numba.float64(numba.float64))(integrand)\n",
    "        integrand = sp.LowLevelCallable(integrand.ctypes)\n",
    "        return quad(func=integrand, a=k_0, b=k_inf, points=points, limit=limit)\n",
    "\n",
    "  \n",
    "    def kp0(kx):\n",
    "        kx2 = kx**2\n",
    "        k_02 = k_0**2\n",
    "        if kx2 < k_02:\n",
    "            return math.sqrt(k_02 - kx2)\n",
    "        else:\n",
    "            return 0.0\n",
    "\n",
    "    def kp1(kx):\n",
    "        return math.sqrt(k_inf**2 - kx**2)\n",
    "\n",
    "    def kp_special(kx):\n",
    "        px = hbar*(kx + q)\n",
    "        D = (dq*px/m - dmu)**2 - delta**2\n",
    "        A = 2*m*mu_q - px**2\n",
    "        return (cmath.sqrt(A + 2*m*cmath.sqrt(D)).real/hbar,cmath.sqrt(A - 2*m*cmath.sqrt(D)).real/hbar)\n",
    "    \n",
    "    return dquad(func=integrand,x0=-k_inf, x1=k_inf,y0_x=kp0, y1_x=kp1,points_x=points,points_y_x=kp_special,limit=limit)\n"
   ]
  },
  {
   "cell_type": "code",
   "execution_count": null,
   "metadata": {
    "scrolled": true
   },
   "outputs": [],
   "source": [
    "from mmf_hfb import tf_completion as tf\n",
    "args = {'T': 0, 'd': 3, 'delta': 1.0000370124897544, 'dq': 0, 'hbar': 1, 'k_c': 100, 'm_a': 1, 'm_b': 1, 'mu_a': 5.6400999999999994, 'mu_b': 4.3601, 'q': 0}\n",
    "kappa = integrate(tf.kappa_integrand, limit= 500, **args)\n",
    "kappa"
   ]
  },
  {
   "cell_type": "markdown",
   "metadata": {},
   "source": [
    "-4.358431136964881 0.0 499.98100371716555 (1.1908404580715668, 1.1908404580715668) {'limit': 200}"
   ]
  },
  {
   "cell_type": "code",
   "execution_count": null,
   "metadata": {},
   "outputs": [],
   "source": [
    "q=0\n",
    "dq = 0\n",
    "_xs = []\n",
    "\n",
    "def func(kx, kp):\n",
    "    _xs.append(kp)\n",
    "    args = (5.6400999999999994, 4.3601, 1.0000370124897544, 1, 1, 1, 0)\n",
    "    k2_a = (kx + q + dq)**2 + kp**2\n",
    "    k2_b = (kx + q - dq)**2 + kp**2\n",
    "    return tf.kappa_integrand(k2_a, k2_b, *args) * (kp/4/np.pi**2)\n",
    "quad(partial(func, -0.5083886444002128), a=0, b=499.99974154091944,points=(3.130811597522146, 3.130811597522146), limit=500)"
   ]
  },
  {
   "cell_type": "code",
   "execution_count": null,
   "metadata": {},
   "outputs": [],
   "source": [
    "1.5379400874493416 + 1.5379400874493416"
   ]
  },
  {
   "cell_type": "code",
   "execution_count": null,
   "metadata": {},
   "outputs": [],
   "source": [
    "xs = np.array(_xs)\n",
    "def f(y):\n",
    "    return func(-4.358431136964881,y)\n",
    "ys = f(xs)"
   ]
  },
  {
   "cell_type": "code",
   "execution_count": null,
   "metadata": {
    "scrolled": false
   },
   "outputs": [],
   "source": [
    "x = np.linspace(0,5,1000)\n",
    "y = f(x)\n",
    "%matplotlib inline\n",
    "plt.plot(xs, ys, '+')\n",
    "plt.plot(x,y)\n",
    "plt.xlim(0,5)\n",
    "plt.savefig('tmp.pdf')"
   ]
  },
  {
   "cell_type": "code",
   "execution_count": null,
   "metadata": {},
   "outputs": [],
   "source": [
    "fs = np.array(list(map(f,xs)))\n",
    "%matplotlib inline\n",
    "#import mpld3\n",
    "#mpld3.enable_notebook()"
   ]
  },
  {
   "cell_type": "code",
   "execution_count": null,
   "metadata": {
    "scrolled": true
   },
   "outputs": [],
   "source": [
    "i=np.argsort(xs)\n",
    "#plt.figure(figsize=(20, 5))\n",
    "plt.plot(np.asarray(xs)[i], np.asarray(fs)[i],'+',ms=0.1)"
   ]
  },
  {
   "cell_type": "code",
   "execution_count": null,
   "metadata": {},
   "outputs": [],
   "source": [
    "from mmf_hfb.FuldeFerrelState import FFState as FF\n",
    "delta0 = 1\n",
    "mu=5\n",
    "dmu=0.64\n",
    "d=1\n",
    "q=1.0\n",
    "dq=0.5\n",
    "k_c=500\n",
    "dx = 1e-7\n",
    "ff = FF(dmu=dmu, mu=mu, delta=delta0, d=d, k_c=k_c, fix_g=True)\n",
    "\n",
    "def get_P(mu, dmu):\n",
    "    delta = ff.solve(mu=mu, dmu=dmu, q=q, dq=dq)\n",
    "    return ff.get_pressure(mu=mu, dmu=dmu, delta=delta, q=q, dq=dq)\n",
    "\n",
    "def get_E_n(mu, dmu):\n",
    "    E = ff.get_energy_density(mu=mu, dmu=dmu, q=q, dq=dq)\n",
    "    n = sum(ff.get_densities(mu=mu, dmu=dmu, q=q, dq=dq))\n",
    "    return E, n\n",
    "def get_density(q, dq):\n",
    "    return ff.get_energy_density(mu=mu, dmu=dmu, q=q, dq=dq)\n",
    "def get_ns(mu, dmu):\n",
    "    return ff.get_densities(mu=mu, dmu=dmu, q=q, dq=dq)\n",
    "\n",
    "\n",
    "E1, n1 = get_E_n(mu=mu+dx, dmu=dmu)\n",
    "E0, n0 = get_E_n(mu=mu-dx, dmu=dmu)\n",
    "\n",
    "n_p = (get_P(mu+dx, dmu) - get_P(mu-dx, dmu))/2/dx\n",
    "n_a, n_b = get_ns(mu, dmu)\n",
    "\n",
    "n_a_ = (get_P(mu+dx/2, dmu+dx/2) - get_P(mu-dx/2, dmu - dx/2))/2/dx\n",
    "n_b_ = (get_P(mu+dx/2, dmu-dx/2) - get_P(mu-dx/2, dmu + dx/2))/2/dx\n",
    "print(f\"n_a={n_a.n}\\tNumerical  n_a={n_a_.n}\")\n",
    "print(f\"n_b={n_b.n}\\tNumerical  n_b={n_b_.n}\")\n",
    "print(f\"n_p={n_a.n+n_b.n}\\tNumerical  n_p={n_p.n}\")\n",
    "print(f\"mu={mu}\\tNumerical mu={(E1-E0)/(n1-n0)}\")"
   ]
  },
  {
   "cell_type": "code",
   "execution_count": null,
   "metadata": {},
   "outputs": [],
   "source": [
    "dxs = np.linspace(-1,1,20)\n",
    "es = [ff.get_energy_density(mu=mu + dx, dmu=dmu, q=q, dq=dq).n for dx in dxs]\n",
    "ns = [sum(ff.get_densities(mu=mu + dx, dmu=dmu, q=q, dq=dq)).n for dx in dxs]"
   ]
  },
  {
   "cell_type": "code",
   "execution_count": null,
   "metadata": {},
   "outputs": [],
   "source": [
    "plt.plot(dxs, es)\n",
    "plt.plot(dxs, ns)"
   ]
  },
  {
   "cell_type": "code",
   "execution_count": null,
   "metadata": {},
   "outputs": [],
   "source": [
    "N = 32\n",
    "x = np.linspace(0, 1, N)\n",
    "y = np.linspace(0, 1, N)\n",
    "es = []\n",
    "for y_ in y:\n",
    "    for x_ in x:\n",
    "      es.append(get_density(x_,y_).n)  "
   ]
  },
  {
   "cell_type": "code",
   "execution_count": null,
   "metadata": {},
   "outputs": [],
   "source": [
    "from mmfutils.plot import imcontourf\n",
    "a = np.asarray(es).reshape(N,N)\n",
    "imcontourf(x,y,a.T)\n",
    "plt.colorbar()"
   ]
  },
  {
   "cell_type": "code",
   "execution_count": null,
   "metadata": {},
   "outputs": [],
   "source": [
    "plt.pcolormesh (x,y,a)\n",
    "plt.colorbar()"
   ]
  },
  {
   "cell_type": "code",
   "execution_count": null,
   "metadata": {},
   "outputs": [],
   "source": [
    "def cutoff_error(mu, dmu, d, k_c, q, dq,  dx = 1e-3):\n",
    "    delta0 = 1\n",
    "\n",
    "    ff = FF(dmu=dmu, mu=mu, delta=delta0, d=d, k_c=k_c, fix_g=True)\n",
    "    \n",
    "    def get_P(mu, dmu):\n",
    "        delta = ff.solve(mu=mu, dmu=dmu, q=q, dq=dq)\n",
    "        return ff.get_pressure(mu=mu, dmu=dmu, delta=delta, q=q, dq=dq)\n",
    "\n",
    "    def get_E_n(mu, dmu):\n",
    "        E = ff.get_energy_density(mu=mu, dmu=dmu, q=q, dq=dq)\n",
    "        n = sum(ff.get_densities(mu=mu, dmu=dmu, q=q, dq=dq))\n",
    "        return E, n\n",
    "\n",
    "    def get_ns(mu, dmu):\n",
    "        return ff.get_densities(mu=mu, dmu=dmu, q=q, dq=dq)\n",
    "    \n",
    "   \n",
    "    E1, n1 = get_E_n(mu=mu+dx, dmu=dmu)\n",
    "    E0, n0 = get_E_n(mu=mu-dx, dmu=dmu)\n",
    "    mu_ = (E1 - E0)/(n1 - n0)\n",
    "    n_p = (get_P(mu+dx, dmu) - get_P(mu-dx, dmu))/2/dx\n",
    "    n_a, n_b = get_ns(mu, dmu)\n",
    "\n",
    "    n_a_ = (get_P(mu+dx/2, dmu+dx/2) - get_P(mu-dx/2, dmu - dx/2))/2/dx\n",
    "    n_b_ = (get_P(mu+dx/2, dmu-dx/2) - get_P(mu-dx/2, dmu + dx/2))/2/dx\n",
    "    return n_a - n_a_"
   ]
  },
  {
   "cell_type": "code",
   "execution_count": null,
   "metadata": {},
   "outputs": [],
   "source": [
    "kcs = np.linspace(10, 1000, 10)\n",
    "errs = [cutoff_error(mu = 10, dmu = 0.64, d = 3, k_c = kc, q = 0, dq = 0, dx = 0.001).n for kc in kcs]"
   ]
  },
  {
   "cell_type": "code",
   "execution_count": null,
   "metadata": {},
   "outputs": [],
   "source": [
    "errs"
   ]
  },
  {
   "cell_type": "code",
   "execution_count": null,
   "metadata": {},
   "outputs": [],
   "source": [
    "plt.plot(kcs, errs)"
   ]
  },
  {
   "cell_type": "code",
   "execution_count": null,
   "metadata": {},
   "outputs": [],
   "source": []
  }
 ],
 "metadata": {
  "kernelspec": {
   "display_name": "Python 3",
   "language": "python",
   "name": "python3"
  },
  "language_info": {
   "codemirror_mode": {
    "name": "ipython",
    "version": 3
   },
   "file_extension": ".py",
   "mimetype": "text/x-python",
   "name": "python",
   "nbconvert_exporter": "python",
   "pygments_lexer": "ipython3",
   "version": "3.7.2"
  },
  "toc": {
   "base_numbering": 1,
   "nav_menu": {},
   "number_sections": true,
   "sideBar": true,
   "skip_h1_title": false,
   "title_cell": "Table of Contents",
   "title_sidebar": "Contents",
   "toc_cell": false,
   "toc_position": {},
   "toc_section_display": true,
   "toc_window_display": true
  }
 },
 "nbformat": 4,
 "nbformat_minor": 2
}
