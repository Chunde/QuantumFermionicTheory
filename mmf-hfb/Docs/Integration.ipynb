{
 "cells": [
  {
   "cell_type": "code",
   "execution_count": null,
   "metadata": {},
   "outputs": [],
   "source": [
    "import mmf_setup;mmf_setup.nbinit()"
   ]
  },
  {
   "cell_type": "markdown",
   "metadata": {},
   "source": [
    "Here we consider integration of the BdG equations at $T=0$.  In particular, we identify when the integrands might have kinks in order to specify points of integration.  We start with the quasi-particle dispersion relationships which define the occupation numbers.  We allow for Fulde-Ferrell states with momentum $q$ along the $x$ axis. Kinks occur when these change sign:\n",
    "\n",
    "$$\n",
    "  \\omega_{\\pm} = \\epsilon_{\\pm} \\pm E, \\qquad\n",
    "  E = \\sqrt{\\epsilon_+^2+\\abs{\\Delta}^2},\\\\\n",
    "  \\epsilon_{\\pm} = \\frac{\\epsilon_a \\pm \\epsilon_b}{2}, \\qquad\n",
    "  \\epsilon_{a, b} = \\frac{(p_x \\pm q)^2 + p_\\perp^2}{2m} - \\mu_{a,b}.\n",
    "$$\n",
    "\n",
    "Simplifying, we have:\n",
    "\n",
    "$$\n",
    "  \\epsilon_{-} = \\frac{qp_x}{m} - \\mu_{-}, \n",
    "  \\epsilon_{+} = \\frac{p_x^2 + p_\\perp^2}{2m} - \\Bigl(\\overbrace{\\mu_{+} - \\frac{q^2}{2m}}^{\\mu_q}\\Bigr), \n",
    "  \\qquad\n",
    "  \\mu_{\\pm} = \\frac{\\mu_{a} \\pm \\mu_{b}}{2}.\n",
    "$$\n",
    "\n",
    "Critical points occur when $\\omega_{\\pm} = 0$ which gives the following conditions:\n",
    "\n",
    "$$\n",
    "  \\epsilon_-^2 = \\epsilon_+^2 + \\abs{\\Delta}^2\\\\\n",
    "  \\left(\\frac{qp_x}{m} - \\mu_{-}\\right)^2 = \\left(\\frac{p_x^2 + p_\\perp^2}{2m} - \\mu_q\\right)^2 + \\abs{\\Delta}^2.\n",
    "$$\n",
    "\n",
    "This may be solved for $p_\\perp$ giving the following critical points:\n",
    "\n",
    "$$\n",
    "  p_\\perp^2 = 2m\\left(\\mu_q \\pm \\sqrt{\\left(\\frac{qp_x}{m} - \\mu_{-}\\right)^2 - \\abs{\\Delta}^2}\\right) - p_x^2.\n",
    "$$"
   ]
  },
  {
   "cell_type": "code",
   "execution_count": null,
   "metadata": {},
   "outputs": [],
   "source": [
    "%pylab inline --no-import-all\n",
    "from ipywidgets import interact\n",
    "from mmfutils.plot import imcontourf\n",
    "m = 1\n",
    "\n",
    "mu = eF = 1.0\n",
    "pF = np.sqrt(2*m*eF)\n",
    "delta = 0.5*mu\n",
    "p_max = 2*pF\n",
    "\n",
    "@interact(q=(0, 2, 0.1), dmu=(-1.0, 1.0, 0.1), delta=(0, 1, 0.1))\n",
    "def plot_regions(q=0, dmu=0.4, delta=0.2):\n",
    "    delta = np.abs(delta)\n",
    "    p_x, p_perp = np.meshgrid(*(np.linspace(0, p_max, 500),)*2,\n",
    "                              indexing='ij', sparse=True)\n",
    "    mu_a = mu + dmu\n",
    "    mu_b = mu - dmu\n",
    "    e_a = ((p_x+q)**2+p_perp**2)/2/m - mu_a\n",
    "    e_b = ((p_x-q)**2 + p_perp**2)/2/m - mu_b\n",
    "    e_p, e_m = (e_a + e_b)/2.0, (e_a-e_b)/2.0\n",
    "    E = np.sqrt(e_p**2 + delta**2)\n",
    "    w_p, w_m = e_m + E, e_m - E\n",
    "    \n",
    "    # Analytic regions\n",
    "    p_x_ = p_x.ravel()\n",
    "    mu_q = mu - q**2/2/m\n",
    "    p_perp1_ = np.ma.sqrt(2*m*(mu_q + np.sqrt((q*p_x_/m - dmu)**2 - delta**2)) - p_x_**2\n",
    "                         ).filled(np.nan)\n",
    "    p_perp2_ = np.ma.sqrt(2*m*(mu_q - np.sqrt((q*p_x_/m - dmu)**2 - delta**2)) - p_x_**2\n",
    "                         ).filled(np.nan)\n",
    "    p_x_special = np.ma.divide(m*(dmu - np.array([delta, -delta])), q).filled(np.nan)\n",
    "    plt.figure(figsize=(10,5))\n",
    "    plt.subplot(121)\n",
    "    imcontourf(p_x, p_perp, np.sign(w_p))\n",
    "    plt.plot(p_x_, p_perp1_, p_x, p_perp2_)\n",
    "    plt.vlines(p_x_special, 0, p_max); plt.xlim(0, p_max)\n",
    "    plt.xlabel('p_x');plt.ylabel('p_perp')\n",
    "    plt.subplot(122)    \n",
    "    imcontourf(p_x, p_perp, np.sign(-w_m))\n",
    "    plt.plot(p_x_, p_perp1_, p_x, p_perp2_)\n",
    "    plt.vlines(p_x_special, 0, p_max); plt.xlim(0, p_max)\n",
    "    plt.xlabel('p_x');plt.ylabel('p_perp')"
   ]
  },
  {
   "cell_type": "markdown",
   "metadata": {},
   "source": [
    "$$\n",
    "  2p_\\perp\\d{p_\\perp} = 2m\\left(\\mu_q \\pm \\sqrt{\\left(\\frac{qp_x}{m} - \\mu_{-}\\right)^2 - \\abs{\\Delta}^2}\\right) - p_x^2.\n",
    "$$\n",
    "\n"
   ]
  },
  {
   "cell_type": "markdown",
   "metadata": {},
   "source": [
    "We thus have the correct regions.  The second task is to figure out where these regions start and end so we can indentify special points in $p_x$.  These occur when $\\d{p_x}/\\d{p_\\perp} = 0$, or when the right-hand side of the following expression diverges.  One condition is simple, but the condition that $p_\\perp = 0$ requires solving a quartic polynomial:\n",
    "\n",
    "$$\n",
    "  \\frac{\\d{p_\\perp}}{\\d{p_x}} = \\frac{1}{2p_\\perp}\\left(\\pm \\frac{2\\left(\\frac{qp_x}{m} - \\mu_{-}\\right)q}{\\sqrt{\\left(\\frac{qp_x}{m} - \\mu_{-}\\right)^2 - \\abs{\\Delta}^2}} - 2 p_x\\right), \\\\\n",
    "  \\left(\\frac{qp_x}{m} - \\mu_{-}\\right)^2 - \\abs{\\Delta}^2 = 0,\\\\\n",
    "  p_x = \\frac{m(\\mu_{-} \\pm \\abs{\\Delta})}{q}, \\qquad\n",
    "  \\left(\\frac{qp_x}{m} - \\mu_{-}\\right)^2 - \\abs{\\Delta}^2 = \\left(\\frac{p_x^2}{2m} - \\mu_q\\right)^2.\n",
    "$$\n"
   ]
  },
  {
   "cell_type": "code",
   "execution_count": null,
   "metadata": {},
   "outputs": [],
   "source": []
  }
 ],
 "metadata": {
  "kernelspec": {
   "display_name": "Python [conda env:work3]",
   "language": "python",
   "name": "conda-env-work3-py"
  },
  "language_info": {
   "codemirror_mode": {
    "name": "ipython",
    "version": 3
   },
   "file_extension": ".py",
   "mimetype": "text/x-python",
   "name": "python",
   "nbconvert_exporter": "python",
   "pygments_lexer": "ipython3",
   "version": "3.7.1"
  },
  "toc": {
   "base_numbering": 1,
   "nav_menu": {},
   "number_sections": true,
   "sideBar": true,
   "skip_h1_title": false,
   "title_cell": "Table of Contents",
   "title_sidebar": "Contents",
   "toc_cell": false,
   "toc_position": {},
   "toc_section_display": true,
   "toc_window_display": false
  }
 },
 "nbformat": 4,
 "nbformat_minor": 2
}
