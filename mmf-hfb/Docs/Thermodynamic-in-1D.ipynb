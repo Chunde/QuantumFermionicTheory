{
 "cells": [
  {
   "cell_type": "code",
   "execution_count": null,
   "metadata": {},
   "outputs": [],
   "source": [
    "import mmf_setup;mmf_setup.nbinit()\n",
    "%pylab inline --no-import-all\n",
    "from nbimports import * \n",
    "from mmf_hfb import tf_completion as tf\n",
    "from mmf_hfb.FuldeFerrelState import FFState as FF\n",
    "from mmf_hfb import bcs, homogeneous\n",
    "from scipy.optimize import brentq\n",
    "from mmfutils.plot import imcontourf\n",
    "plt.figure(figsize(10,4))\n",
    "clear_output()"
   ]
  },
  {
   "cell_type": "markdown",
   "metadata": {},
   "source": [
    "# Test Thermodynamic in 1D\n",
    "* This is the self-consistent method, but not success yet."
   ]
  },
  {
   "cell_type": "markdown",
   "metadata": {},
   "source": [
    "## Check the effective \n",
    "* check if the effective mu is same as given in the homogeneous case"
   ]
  },
  {
   "cell_type": "code",
   "execution_count": null,
   "metadata": {},
   "outputs": [],
   "source": [
    "def test_efftive_mus():\n",
    "    \"\"\"Test a few values from Table I of Quick:1993.\"\"\"\n",
    "    lam_invs = [0.5]#,  1.5\n",
    "    mu_tilde_s = [0.0864]#,  2.0259\n",
    "    E_N_E_2_s =  [-0.3037]#,  4.4021\n",
    "    np.random.seed(1)\n",
    "    for i in range(len(lam_invs)):\n",
    "        lam_inv = lam_invs[i]\n",
    "        mu_tilde_ = mu_tilde_s[i]\n",
    "        E_N_E_2_ = E_N_E_2_s[i]\n",
    "        m = hbar=delta=1\n",
    "        delta = (0.1 + np.random.random(1))[0]\n",
    "        print(f\"m={m}, hbar={hbar}, delta={delta}\")\n",
    "        lam = 1./lam_inv\n",
    "\n",
    "        def _lam(mu_eff):\n",
    "            E_N_E_2, _lam = homogeneous.BCS(mu_eff=mu_eff, delta=delta)\n",
    "            return _lam - lam\n",
    "\n",
    "        mu_eff = brentq(_lam, 0.1, 20)\n",
    "\n",
    "        args = dict(mu_a=mu_eff, mu_b=mu_eff, delta=delta, m_a=m, m_b=m,\n",
    "                    hbar=hbar, T=0.0)\n",
    "    \n",
    "        n_p = tf.integrate(tf.n_p_integrand, dim=1, **args)\n",
    "        nu = tf.integrate(tf.nu_integrand, dim=1, **args)\n",
    "        v_0 = -delta/nu.n\n",
    "        mu = mu_eff - n_p.n*v_0/2\n",
    "        E_N_E_2, lam = homogeneous.BCS(mu_eff=mu_eff,  delta=delta)\n",
    "        mu_tilde = (hbar**2/m/v_0**2)*mu\n",
    "        assert np.allclose(lam, 1./lam_inv)\n",
    "        assert np.allclose(mu_tilde,mu_tilde_, atol=0.0005)\n",
    "        assert np.allclose(E_N_E_2, E_N_E_2_, atol=0.0005)\n",
    "        ff = FF(mu=mu, dmu=0, delta=delta, dim=1, k_c=np.inf, fix_g=True)\n",
    "        mus_eff = ff._get_effetive_mus(mu=mu, dmu=0, delta=delta, update_g=True)\n",
    "        ns = ff.get_densities(mu=mus_eff[0], dmu = mus_eff[1],delta=delta)\n",
    "        assert np.allclose(n_p.n, (ns[0] + ns[1]).n)\n",
    "        assert np.allclose(mus_eff[0], mu_eff)\n",
    "        assert np.allclose(v_0, -ff._g)"
   ]
  },
  {
   "cell_type": "code",
   "execution_count": null,
   "metadata": {
    "scrolled": false
   },
   "outputs": [],
   "source": [
    "test_efftive_mus()"
   ]
  },
  {
   "cell_type": "markdown",
   "metadata": {},
   "source": [
    "## Check Thermodynamics"
   ]
  },
  {
   "cell_type": "code",
   "execution_count": null,
   "metadata": {},
   "outputs": [],
   "source": [
    "def test_Thermodynamic_1d(mu, dmu, delta0=1, k_c=1000, q=0, dq=0,\n",
    "                 T=0.0,a=0.8, b=1.2, dx=1e-2):\n",
    "    \"\"\"test id case\"\"\"\n",
    "\n",
    "    ff = FF(mu=mu, dmu=dmu, delta=delta0, q=q, dq=dq, dim=1, k_c=k_c, T=T, \n",
    "            fix_g=True, bStateSentinel=True)\n",
    "    n_a, n_b, e, p, mus_eff = ff.get_ns_p_e_mus_1d(mu=mu, dmu=dmu, delta=delta0, q=q, dq=dq, k_c=k_c, update_g=True)\n",
    "\n",
    "    n_a_1, n_b_1, e1, p1, mus1 = ff.get_ns_p_e_mus_1d(mu=mu+dx, dmu=dmu, mus_eff=mus_eff, q=q, dq=dq, k_c=k_c, update_g=False)\n",
    "    n_a_2, n_b_2, e2, p2, mus2 = ff.get_ns_p_e_mus_1d(mu=mu-dx, dmu=dmu, mus_eff=mus_eff, q=q, dq=dq, k_c=k_c, update_g=False)\n",
    "    n_p_ = (p1 - p2)/2/dx\n",
    "    print(f\"Expected n_p={n_a + n_b}\\tNumerical n_p={n_p_}\")\n",
    "\n",
    "    # Fixed mu_b by changing mu and dmu with same value , as mu_b = mu - dmu\n",
    "    # Then dP / dx = n_a\n",
    "    n_a_1, n_b_1, e1, p1, mus1 = ff.get_ns_p_e_mus_1d(mu=mu+dx/2, dmu=dmu+dx/2, mus_eff=mus_eff, delta=delta0, q=q, dq=dq, k_c=k_c, update_g=False)\n",
    "    n_a_2, n_b_2, e2, p2, mus2 = ff.get_ns_p_e_mus_1d(mu=mu-dx/2, dmu=dmu-dx/2, mus_eff=mus_eff, delta=delta0, q=q, dq=dq, k_c=k_c, update_g=False)\n",
    "    n_a_ = (p1 - p2)/2/dx\n",
    "    print(f\"Expected n_a={n_a}\\tNumerical n_a={n_a_}\")\n",
    "\n",
    "    # Fixed mu_a by changing mu and dmu with opposite values , as mu_a = mu + dmu\n",
    "    # Then dP / dx = n_b\n",
    "    n_a_3, n_b_3, e3, p3, mus3 = ff.get_ns_p_e_mus_1d(mu=mu+dx/2, dmu=dmu-dx/2, mus_eff=mus_eff, delta=delta0, q=q, dq=dq, k_c=k_c, update_g=False)\n",
    "    n_a_4, n_b_4, e4, p4, mus4 = ff.get_ns_p_e_mus_1d(mu=mu-dx/2, dmu=dmu+dx/2, mus_eff=mus_eff, delta=delta0, q=q, dq=dq, k_c=k_c, update_g=False)\n",
    "    n_b_ = (p3 - p4)/2/dx\n",
    "\n",
    "    print(f\"Expected n_b={n_b}\\tNumerical n_b={n_b_}\")\n",
    "    assert np.allclose(n_a, n_a_)\n",
    "    assert np.allclose(n_b, n_b_)\n"
   ]
  },
  {
   "cell_type": "code",
   "execution_count": null,
   "metadata": {},
   "outputs": [],
   "source": [
    "test_Thermodynamic_1d(mu=3, dmu=0.5, delta0=1, k_c=100, q=0, dq=0, T=0.0,a=0.8, b=1.2, dx=1e-3)"
   ]
  },
  {
   "cell_type": "markdown",
   "metadata": {},
   "source": [
    "# Old Version\n",
    "* In the old version code, we do not have the Hartree term in the energy density"
   ]
  },
  {
   "cell_type": "code",
   "execution_count": null,
   "metadata": {},
   "outputs": [],
   "source": [
    "def test_Thermodynamic(mu, dmu, delta0=1, dim=3, k_c=100, q=0, dq=0, T=0.0,a=0.8, b=1.2, dx=1e-3):\n",
    "    ff = FF(mu=mu, dmu=dmu, delta=delta0, q=q, dq=dq, dim=dim, k_c=k_c, T=T, \n",
    "            fix_g=True, bStateSentinel=True)\n",
    "    def get_P(mu, dmu):\n",
    "        delta = ff.solve(mu=mu, dmu=dmu, q=q, dq=dq, a=0.8*delta0, b=1.2*delta0)\n",
    "        return ff.get_pressure(mu=mu, dmu=dmu, delta=delta, q=q, dq=dq)\n",
    "\n",
    "    def get_E_n(mu, dmu):\n",
    "        E = ff.get_energy_density(mu=mu, dmu=dmu, q=q, dq=dq)\n",
    "        na, nb = ff.get_densities(mu=mu, dmu=dmu, q=q, dq=dq)\n",
    "        return E, na, nb\n",
    "\n",
    "    def get_ns(mu, dmu):\n",
    "        return ff.get_densities(mu=mu, dmu=dmu, q=q, dq=dq)\n",
    "    \n",
    "    n_a, n_b = get_ns(mu, dmu)\n",
    "    n_a_ = (get_P(mu+dx/2, dmu+dx/2) - get_P(mu-dx/2, dmu - dx/2))/2/dx\n",
    "    n_b_ = (get_P(mu+dx/2, dmu-dx/2) - get_P(mu-dx/2, dmu + dx/2))/2/dx\n",
    "    print(f\"Expected n_a={n_a.n}\\tNumerical n_a={n_a_.n}\")\n",
    "    print(f\"Expected n_b={n_b.n}\\tNumerical n_b={n_b_.n}\")\n",
    "    assert np.allclose(n_a.n, n_a_.n)\n",
    "    assert np.allclose(n_b.n, n_b_.n)"
   ]
  },
  {
   "cell_type": "code",
   "execution_count": null,
   "metadata": {},
   "outputs": [],
   "source": [
    "test_Thermodynamic(mu=3, dmu=0.5, delta0=1, dim=1, k_c=100, q=0, dq=0, T=0.0,a=0.8, b=1.2, dx=1e-3)"
   ]
  },
  {
   "cell_type": "code",
   "execution_count": null,
   "metadata": {},
   "outputs": [],
   "source": []
  }
 ],
 "metadata": {
  "kernelspec": {
   "display_name": "Python 3",
   "language": "python",
   "name": "python3"
  },
  "language_info": {
   "codemirror_mode": {
    "name": "ipython",
    "version": 3
   },
   "file_extension": ".py",
   "mimetype": "text/x-python",
   "name": "python",
   "nbconvert_exporter": "python",
   "pygments_lexer": "ipython3",
   "version": "3.7.2"
  }
 },
 "nbformat": 4,
 "nbformat_minor": 2
}
