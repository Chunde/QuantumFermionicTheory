{
 "cells": [
  {
   "cell_type": "code",
   "execution_count": null,
   "metadata": {},
   "outputs": [],
   "source": [
    "import mmf_setup;mmf_setup.nbinit()\n",
    "%pylab inline --no-import-all\n",
    "from nbimports import * \n",
    "from mmf_hfb import tf_completion as tf\n",
    "from mmf_hfb.FuldeFerrelState import FFState\n",
    "import itertools\n",
    "from mmfutils.plot import imcontourf\n",
    "tf.MAX_DIVISION = 200\n",
    "plt.figure(figsize(10,4))\n",
    "clear_output()"
   ]
  },
  {
   "cell_type": "markdown",
   "metadata": {},
   "source": [
    "# Test Thermodynamic in 1D\n",
    "* This is the self-consistent method, but not success yet."
   ]
  },
  {
   "cell_type": "code",
   "execution_count": null,
   "metadata": {},
   "outputs": [],
   "source": [
    "def test_Thermodynamic_1d(mu, dmu, delta0=1, k_c=1000, q=0, dq=0,\n",
    "                 T=0.0,a=0.8, b=1.2, dx=1e-3):\n",
    "    \"\"\"test id case\"\"\"\n",
    "    ff = FFState(mu=mu, dmu=dmu, delta=delta0, q=q, dq=dq, dim=1, k_c=k_c, T=T, \n",
    "            fix_g=True, bStateSentinel=True)\n",
    "    n_a, n_b, e, p, mus = ff.get_ns_p_e_mus_1d(mu=mu, dmu=dmu, delta=delta0, q=q, dq=dq, k_c=k_c, update_g=True)\n",
    "    # fix the g computed from the last line, pass the effective mu to the following routine to have a  \n",
    "\n",
    "    # Fixed mu_b by changing mu and dmu with same value , as mu_b = mu - dmu\n",
    "    # Then dP / dx = n_a\n",
    "    n_a_1, n_b_1, e1, p1, mus1 = ff.get_ns_p_e_mus_1d(mu=mu+dx/2, dmu=dmu+dx/2, mus_eff=mus, q=q, dq=dq, k_c=k_c)\n",
    "    n_a_2, n_b_2, e2, p2, mus2 = ff.get_ns_p_e_mus_1d(mu=mu-dx/2, dmu=dmu-dx/2, mus_eff=mus, q=q, dq=dq, k_c=k_c)\n",
    "    n_a_ = (p1 - p2)/2/dx\n",
    "    print(f\"Expected n_a={n_a}\\tNumerical n_a={n_a_}\")\n",
    "\n",
    "    # Fixed mu_a by changing mu and dmu with opposite values , as mu_a = mu + dmu\n",
    "    # Then dP / dx = n_b\n",
    "    n_a_3, n_b_3, e3, p3, mus3 = ff.get_ns_p_e_mus_1d(mu=mu+dx/2, dmu=dmu-dx/2, mus_eff=mus, q=q, dq=dq, k_c=k_c)\n",
    "    n_a_4, n_b_4, e4, p4, mus4 = ff.get_ns_p_e_mus_1d(mu=mu-dx/2, dmu=dmu+dx/2, mus_eff=mus, q=q, dq=dq, k_c=k_c)\n",
    "    n_b_ = (p3 - p4)/2/dx\n",
    "\n",
    "    print(f\"Expected n_b={n_b}\\tNumerical n_b={n_b_}\")\n",
    "    assert np.allclose(n_a, n_a_)\n",
    "    assert np.allclose(n_b, n_b_)\n"
   ]
  },
  {
   "cell_type": "code",
   "execution_count": null,
   "metadata": {},
   "outputs": [],
   "source": [
    "test_Thermodynamic_1d(mu=3, dmu=0.5, delta0=1, k_c=100, q=0, dq=0, T=0.0,a=0.8, b=1.2, dx=1e-3)"
   ]
  },
  {
   "cell_type": "markdown",
   "metadata": {},
   "source": [
    "# Old Version\n",
    "* In the old version code, we do not have the Hartree term in the energy density"
   ]
  },
  {
   "cell_type": "code",
   "execution_count": null,
   "metadata": {},
   "outputs": [],
   "source": [
    "def test_Thermodynamic(mu, dmu, delta0=1, dim=3, k_c=100, q=0, dq=0, T=0.0,a=0.8, b=1.2, dx=1e-3):\n",
    "    ff = FFState(mu=mu, dmu=dmu, delta=delta0, q=q, dq=dq, dim=dim, k_c=k_c, T=T, \n",
    "            fix_g=True, bStateSentinel=True)\n",
    "    def get_P(mu, dmu):\n",
    "        delta = ff.solve(mu=mu, dmu=dmu, q=q, dq=dq, a=0.8*delta0, b=1.2*delta0)\n",
    "        return ff.get_pressure(mu=mu, dmu=dmu, delta=delta, q=q, dq=dq)\n",
    "\n",
    "    def get_E_n(mu, dmu):\n",
    "        E = ff.get_energy_density(mu=mu, dmu=dmu, q=q, dq=dq)\n",
    "        na, nb = ff.get_densities(mu=mu, dmu=dmu, q=q, dq=dq)\n",
    "        return E, na, nb\n",
    "\n",
    "    def get_ns(mu, dmu):\n",
    "        return ff.get_densities(mu=mu, dmu=dmu, q=q, dq=dq)\n",
    "    \n",
    "    n_a, n_b = get_ns(mu, dmu)\n",
    "    n_a_ = (get_P(mu+dx/2, dmu+dx/2) - get_P(mu-dx/2, dmu - dx/2))/2/dx\n",
    "    n_b_ = (get_P(mu+dx/2, dmu-dx/2) - get_P(mu-dx/2, dmu + dx/2))/2/dx\n",
    "    print(f\"Expected n_a={n_a.n}\\tNumerical n_a={n_a_.n}\")\n",
    "    print(f\"Expected n_b={n_b.n}\\tNumerical n_b={n_b_.n}\")\n",
    "    assert np.allclose(n_a.n, n_a_.n)\n",
    "    assert np.allclose(n_b.n, n_b_.n)"
   ]
  },
  {
   "cell_type": "code",
   "execution_count": null,
   "metadata": {},
   "outputs": [],
   "source": [
    "test_Thermodynamic(mu=3, dmu=0.5, delta0=1, dim=1, k_c=100, q=0, dq=0, T=0.0,a=0.8, b=1.2, dx=1e-3)"
   ]
  },
  {
   "cell_type": "code",
   "execution_count": null,
   "metadata": {},
   "outputs": [],
   "source": []
  }
 ],
 "metadata": {
  "kernelspec": {
   "display_name": "Python 3",
   "language": "python",
   "name": "python3"
  },
  "language_info": {
   "codemirror_mode": {
    "name": "ipython",
    "version": 3
   },
   "file_extension": ".py",
   "mimetype": "text/x-python",
   "name": "python",
   "nbconvert_exporter": "python",
   "pygments_lexer": "ipython3",
   "version": "3.7.2"
  }
 },
 "nbformat": 4,
 "nbformat_minor": 2
}
