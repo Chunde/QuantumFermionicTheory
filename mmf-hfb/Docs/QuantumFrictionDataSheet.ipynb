{
 "cells": [
  {
   "cell_type": "code",
   "execution_count": 1,
   "metadata": {},
   "outputs": [
    {
     "data": {
      "text/html": [
       "<style>.grade {\n",
       "   background-color: #66FFCC;\n",
       "}\n",
       "</style>"
      ],
      "text/plain": [
       "<IPython.core.display.HTML object>"
      ]
     },
     "metadata": {},
     "output_type": "display_data"
    },
    {
     "data": {
      "application/javascript": [],
      "text/plain": [
       "<IPython.core.display.Javascript object>"
      ]
     },
     "metadata": {},
     "output_type": "display_data"
    },
    {
     "data": {
      "text/html": [
       "<script id=\"MathJax-Element-48\" type=\"math/tex\">\\newcommand{\\vect}[1]{\\mathbf{#1}}\n",
       "\\newcommand{\\uvect}[1]{\\hat{#1}}\n",
       "\\newcommand{\\abs}[1]{\\lvert#1\\rvert}\n",
       "\\newcommand{\\norm}[1]{\\lVert#1\\rVert}\n",
       "\\newcommand{\\I}{\\mathrm{i}}\n",
       "\\newcommand{\\ket}[1]{\\left|#1\\right\\rangle}\n",
       "\\newcommand{\\bra}[1]{\\left\\langle#1\\right|}\n",
       "\\newcommand{\\braket}[1]{\\langle#1\\rangle}\n",
       "\\newcommand{\\Braket}[1]{\\left\\langle#1\\right\\rangle}\n",
       "\\newcommand{\\op}[1]{\\mathbf{#1}}\n",
       "\\newcommand{\\mat}[1]{\\mathbf{#1}}\n",
       "\\newcommand{\\d}{\\mathrm{d}}\n",
       "\\newcommand{\\pdiff}[3][]{\\frac{\\partial^{#1} #2}{\\partial {#3}^{#1}}}\n",
       "\\newcommand{\\diff}[3][]{\\frac{\\d^{#1} #2}{\\d {#3}^{#1}}}\n",
       "\\newcommand{\\ddiff}[3][]{\\frac{\\delta^{#1} #2}{\\delta {#3}^{#1}}}\n",
       "\\newcommand{\\floor}[1]{\\left\\lfloor#1\\right\\rfloor}\n",
       "\\newcommand{\\ceil}[1]{\\left\\lceil#1\\right\\rceil}\n",
       "\\DeclareMathOperator{\\Tr}{Tr}\n",
       "\\DeclareMathOperator{\\erf}{erf}\n",
       "\\DeclareMathOperator{\\erfi}{erfi}\n",
       "\\DeclareMathOperator{\\sech}{sech}\n",
       "\\DeclareMathOperator{\\sgn}{sgn}\n",
       "\\DeclareMathOperator{\\order}{O}\n",
       "\\DeclareMathOperator{\\diag}{diag}\n",
       "\n",
       "\\newcommand{\\mylabel}[1]{\\label{#1}\\tag{#1}}\n",
       "\\newcommand{\\degree}{\\circ}</script>"
      ],
      "text/plain": [
       "<IPython.core.display.HTML object>"
      ]
     },
     "metadata": {},
     "output_type": "display_data"
    },
    {
     "data": {
      "text/html": [],
      "text/plain": [
       "<IPython.core.display.HTML object>"
      ]
     },
     "metadata": {},
     "output_type": "display_data"
    },
    {
     "data": {
      "text/html": [
       "\n",
       "<i>\n",
       "<p>This cell contains some definitions for equations and some CSS for styling\n",
       "  the notebook. If things look a bit strange, please try the following:\n",
       "<ul>\n",
       "  <li>Choose \"Trust Notebook\" from the \"File\" menu.</li>\n",
       "  <li>Re-execute this cell.</li>\n",
       "  <li>Reload the notebook.</li>\n",
       "</ul>\n",
       "</p>\n",
       "</i>\n"
      ],
      "text/plain": [
       "<IPython.core.display.HTML object>"
      ]
     },
     "metadata": {},
     "output_type": "display_data"
    }
   ],
   "source": [
    "import mmf_setup;mmf_setup.nbinit()\n",
    "import matplotlib.pyplot as plt\n",
    "%pylab inline --no-import-all\n",
    "from nbimports import *\n",
    "import numpy as np"
   ]
  },
  {
   "cell_type": "markdown",
   "metadata": {},
   "source": [
    "# Define Some Helper Functions"
   ]
  },
  {
   "cell_type": "code",
   "execution_count": 2,
   "metadata": {},
   "outputs": [],
   "source": [
    "from mmf_hfb.BCSCooling import BCSCooling\n",
    "from mmf_hfb.SolverABM import ABMEvolverAdapter\n",
    "from mmf_hfb.Cooling import Cooling\n",
    "from mmf_hfb.Potentials import HarmonicOscillator\n",
    "from IPython.display import display, clear_output\n",
    "import time\n",
    "np.random.seed(1)\n",
    "\n",
    "def Normalize(psi, dx=0.1):\n",
    "    return psi/(psi.dot(psi.conj())*dx)**0.5\n",
    "\n",
    "def Prob(psi):\n",
    "    return np.abs(psi)**2\n",
    "   \n",
    "def check_uv_ir_error(x, psi, plot=False):\n",
    "    \"\"\"check if a lattice configuration(N, L, dx) is good\"\"\"\n",
    "    psi_k = np.fft.fft(psi)\n",
    "    psi_log = np.log10(abs(psi))\n",
    "    psi_log_k = np.log10(abs(psi_k))\n",
    "    if plot:\n",
    "        l, =plt.plot(x,psi_log_k)\n",
    "        plt.plot(x, psi_log,'--', c=l.get_c())\n",
    "        print(np.min(psi_log), np.min(psi_log_k))\n",
    "    assert np.min(psi_log_k) < -15"
   ]
  },
  {
   "cell_type": "markdown",
   "metadata": {},
   "source": [
    "# Lattice Configuration"
   ]
  },
  {
   "cell_type": "code",
   "execution_count": 3,
   "metadata": {},
   "outputs": [
    {
     "name": "stdout",
     "output_type": "stream",
     "text": [
      "-17.7887019787572 -inf\n"
     ]
    },
    {
     "name": "stderr",
     "output_type": "stream",
     "text": [
      "c:\\users\\chunde\\appdata\\local\\programs\\python\\python37\\lib\\site-packages\\ipykernel_launcher.py:19: RuntimeWarning: divide by zero encountered in log10\n"
     ]
    },
    {
     "data": {
      "image/png": "[encoded data removed]",
      "text/plain": [
       "<Figure size 432x288 with 1 Axes>"
      ]
     },
     "metadata": {
      "needs_background": "light"
     },
     "output_type": "display_data"
    }
   ],
   "source": [
    "N, dx = 128, 0.1\n",
    "args = dict(N=N, dx=dx, divs=(1, 1), beta0=1, beta_K=0, beta_V=0, beta_D=0, beta_Y=0, T=0, check_dE=False)\n",
    "b = BCSCooling(**args)\n",
    "x = b.xyz[0]\n",
    "gaussian = np.exp(-x**2)\n",
    "check_uv_ir_error(x=x, psi=gaussian, plot=True)"
   ]
  },
  {
   "cell_type": "markdown",
   "metadata": {},
   "source": [
    "# Compute Ground State\n",
    "* For any potential $V$, and any interaction $g$"
   ]
  },
  {
   "cell_type": "code",
   "execution_count": 4,
   "metadata": {},
   "outputs": [],
   "source": [
    "def get_ground_state(V, **args):\n",
    "    b = BCSCooling(**args)\n",
    "    x = b.xyz[0]\n",
    "    H = b._get_H(mu_eff=0, V=V)\n",
    "    U, E = b.get_U_E(H, transpose=True)\n",
    "    return Normalize(U[0], dx=b.dx)\n",
    "\n",
    "def random_gaussian_mixing(x):\n",
    "    n = np.random.randint(1, 10)\n",
    "    cs = np.random.random(n)\n",
    "    ns = np.random.randint(1, 10, size=n)\n",
    "    \n",
    "    ys = sum([c*np.exp(-x**2/n**2) for (c, n) in zip(cs, ns)])\n",
    "    return Normalize(ys)"
   ]
  },
  {
   "cell_type": "code",
   "execution_count": 5,
   "metadata": {
    "scrolled": false
   },
   "outputs": [
    {
     "data": {
      "text/plain": [
       "[<matplotlib.lines.Line2D at 0x1a39ebbc390>]"
      ]
     },
     "execution_count": 5,
     "metadata": {},
     "output_type": "execute_result"
    },
    {
     "data": {
      "image/png": "[encoded data removed]",
      "text/plain": [
       "<Figure size 432x288 with 1 Axes>"
      ]
     },
     "metadata": {
      "needs_background": "light"
     },
     "output_type": "display_data"
    }
   ],
   "source": [
    "y = random_gaussian_mixing(x)\n",
    "plt.plot(x,y)"
   ]
  },
  {
   "cell_type": "markdown",
   "metadata": {},
   "source": [
    "# Check Upper-Bound\n",
    "* Roughly check the max value of $\\beta_0$, $\\beta_V$, $\\beta_K$, $\\beta_D$, $\\beta_Y$"
   ]
  },
  {
   "cell_type": "code",
   "execution_count": 6,
   "metadata": {},
   "outputs": [],
   "source": [
    "beta_V=60\n",
    "beta_K=75\n",
    "beta_D=1000\n",
    "beta_Y=1"
   ]
  },
  {
   "cell_type": "markdown",
   "metadata": {},
   "source": [
    "# List of Cooling Configuration"
   ]
  },
  {
   "cell_type": "code",
   "execution_count": 7,
   "metadata": {},
   "outputs": [],
   "source": [
    "cooling_para_list=[dict(beta_V=beta_V, beta_K=beta_K, beta_D=beta_D, beta_Y=beta_Y),\n",
    "             dict(beta_V=beta_V, beta_K=beta_K, beta_D=beta_D, beta_Y=0),\n",
    "             dict(beta_V=beta_V, beta_K=beta_K, beta_D=0, beta_Y=beta_Y),\n",
    "             dict(beta_V=beta_V, beta_K=0, beta_D=beta_D, beta_Y=beta_Y),\n",
    "             dict(beta_V=0, beta_K=beta_K, beta_D=beta_D, beta_Y=beta_Y),\n",
    "             dict(beta_V=beta_V, beta_K=beta_K, beta_D=0, beta_Y=0),\n",
    "             dict(beta_V=beta_V, beta_K=0, beta_D=beta_D, beta_Y=0),\n",
    "             dict(beta_V=0, beta_K=beta_K, beta_D=beta_D, beta_Y=0),\n",
    "             dict(beta_V=beta_V, beta_K=0, beta_D=0, beta_Y=beta_Y),\n",
    "             dict(beta_V=0, beta_K=beta_K, beta_D=0, beta_Y=beta_Y),\n",
    "             dict(beta_V=0, beta_K=0, beta_D=beta_D, beta_Y=beta_Y),             \n",
    "             dict(beta_V=0, beta_K=beta_K, beta_D=0, beta_Y=0),\n",
    "             dict(beta_V=0, beta_K=0, beta_D=beta_D, beta_Y=0),\n",
    "             dict(beta_V=0, beta_K=0, beta_D=0, beta_Y=beta_Y),    \n",
    "             dict(beta_V=beta_V, beta_K=0, beta_D=0, beta_Y=0),\n",
    "]"
   ]
  },
  {
   "cell_type": "markdown",
   "metadata": {},
   "source": [
    "## List of Potentials"
   ]
  },
  {
   "cell_type": "code",
   "execution_count": 8,
   "metadata": {},
   "outputs": [
    {
     "data": {
      "text/plain": [
       "[<matplotlib.lines.Line2D at 0x1a3a0fdce10>]"
      ]
     },
     "execution_count": 8,
     "metadata": {},
     "output_type": "execute_result"
    },
    {
     "data": {
      "image/png": "[encoded data removed]",
      "text/plain": [
       "<Figure size 432x288 with 1 Axes>"
      ]
     },
     "metadata": {
      "needs_background": "light"
     },
     "output_type": "display_data"
    }
   ],
   "source": [
    "args = dict(N=N, dx=dx)\n",
    "V0 = 0*x\n",
    "V_HO = x**2/2\n",
    "V_PO = V0 + np.random.random()*V_HO +  + abs(x**2)*np.random.random()\n",
    "Vs = [0, V_HO, V_PO]\n",
    "plt.plot(V_PO)"
   ]
  },
  {
   "cell_type": "code",
   "execution_count": 9,
   "metadata": {},
   "outputs": [],
   "source": [
    "class TestCase(object):\n",
    "    def __init__(self, V, g, N, dx, eps=1e-2, psi=None, max_T=10, **args):\n",
    "        args.update(g=g, N=N, dx=dx)\n",
    "        self.b = BCSCooling(**args)\n",
    "        self.x = b.xyz[0]\n",
    "        self.V = V\n",
    "        self.eps = eps\n",
    "        self.max_T = max_T\n",
    "        self.g = g\n",
    "        self.N = N\n",
    "        self.dx = dx\n",
    "        self.psi = psi if psi is not None else random_gaussian_mixing(self.x)\n",
    "        self.psi0 = self.get_ground_state()       \n",
    "        \n",
    "    def get_ground_state(self):\n",
    "        b = self.b\n",
    "        H = b._get_H(mu_eff=0, V=self.V)\n",
    "        U, E = b.get_U_E(H, transpose=True)\n",
    "        psi0 = Normalize(U[0], dx=b.dx)\n",
    "        self.psi_0 = psi0\n",
    "        if self.g == 0:            \n",
    "            return psi0\n",
    "        else:\n",
    "            # imaginary cooling\n",
    "            for T in range(2, 10, 1):\n",
    "                print(f\"Imaginary Cooling with T={T}\")\n",
    "                ts, psiss = b.solve([psi0], T=5, beta_0=-1j, V=self.V, solver=ABMEvolverAdapter)\n",
    "                psis = psiss[0]\n",
    "                assert len(psis) > 2\n",
    "                E1, _ = b.get_E_Ns([psis[-1]], V=self.V)\n",
    "                E2, _ = b.get_E_Ns([psis[-2]], V=self.V)\n",
    "                print((E2 - E1)/E1)\n",
    "                if abs((E2 - E1)/E1)<1e-5:\n",
    "                    return psis[-1]\n",
    "            raise Exception(\"Failed to cool down to ground state.\")\n",
    "\n",
    "    def run(self):\n",
    "        b = self.b\n",
    "        E0, _ = b.get_E_Ns([self.psi0], V=self.V)\n",
    "        print(f\"E0={E0}\")\n",
    "        self.E0 = E0\n",
    "        Ts = (np.array(list(range(10)))+1)*0.5\n",
    "        args = dict(rtol=1e-5, atol=1e-6, V=self.V, solver=ABMEvolverAdapter)\n",
    "        self.physical_time = []\n",
    "        self.wall_time = []\n",
    "        self.Es = []\n",
    "        self.psis = []\n",
    "        for T in reversed(Ts):\n",
    "            start_time = time.time()\n",
    "            ts, psiss = b.solve([self.psi], T=T, **args)\n",
    "            wall_time = time.time()-start_time\n",
    "            E, _ = b.get_E_Ns([psiss[0][-1]], V=self.V)           \n",
    "            Es = [b.get_E_Ns([_psi], V=self.V)[0] for _psi in psiss[0]]\n",
    "            self.wall_time.append(wall_time)\n",
    "            self.physical_time.append(T)\n",
    "            self.Es.append(E)\n",
    "            self.psis.append(psiss[0][-1])\n",
    "            print(f\"physical time:{T}, wall time:{wall_time},dE:{(E-E0)/abs(E0)} \")\n",
    "            if abs((E - E0)/E0) > self.eps:               \n",
    "                break\n",
    "    \n",
    "    def plot(self, id=0):\n",
    "        E=self.Es[id]\n",
    "        psi = self.psis[id]\n",
    "        plt.plot(self.x, Prob(psi), \"--\", label='init')\n",
    "        plt.plot(self.x, Prob(self.psis[id]), '+', label=\"final\")\n",
    "        plt.plot(self.x, Prob(self.psi0), label='Ground')\n",
    "        b=self.b\n",
    "        plt.title(\n",
    "            f\"E0={self.E0:5.4},E={E:5.4}, $\" + r\"\\beta_0$\" +f\"={b.beta_0}, \"\n",
    "            +r\"$\\beta_V$\"+ f\"={b.beta_V}, \"+ r\" $\\beta_K$\" + f\"={b.beta_K}\"\n",
    "            +r\" $\\beta_D$\" + f\"={b.beta_D}\"+ r\" $\\beta_Y$\" + f\"={b.beta_Y}\")\n",
    "        plt.legend()"
   ]
  },
  {
   "cell_type": "code",
   "execution_count": 10,
   "metadata": {
    "scrolled": false
   },
   "outputs": [],
   "source": [
    "psi_init = random_gaussian_mixing(x)\n",
    "# args = dict(N=N, dx=dx, eps=1e-1, V=V_PO, beta_V=beta_V, g=1, psi=psi_init, check_dE=False)\n",
    "# testCases = []\n",
    "# t = TestCase(**args)\n",
    "# t.run(plot=True)\n",
    "# testCases.append(t)"
   ]
  },
  {
   "cell_type": "code",
   "execution_count": 11,
   "metadata": {},
   "outputs": [],
   "source": [
    "psi_init = random_gaussian_mixing(x)\n",
    "paras = []\n",
    "for g in [0, 1]:\n",
    "    for V in Vs:        \n",
    "        for para in reversed(cooling_para_list):\n",
    "            args = dict(N=N, dx=dx, eps=1e-1, V=V, beta_0=1, g=g, psi=psi_init, check_dE=False)\n",
    "            args.update(para)\n",
    "            paras.append(args)"
   ]
  },
  {
   "cell_type": "code",
   "execution_count": 12,
   "metadata": {},
   "outputs": [],
   "source": [
    "from mmf_hfb.ParallelHelper import PoolHelper\n",
    "def test_case_worker(para):\n",
    "    t = TestCase(**para)\n",
    "    t.run()\n",
    "    return t\n",
    "#res = PoolHelper.run(mqaud_worker_thread, paras=obj_twists_kp)"
   ]
  },
  {
   "cell_type": "code",
   "execution_count": 30,
   "metadata": {
    "scrolled": false
   },
   "outputs": [
    {
     "name": "stdout",
     "output_type": "stream",
     "text": [
      "E0=0.5697378852647634\n",
      "physical time:5.0, wall time:52.40199851989746,dE:878.6890051422336 \n"
     ]
    }
   ],
   "source": [
    "#t0 = test_case_worker(paras[40])"
   ]
  },
  {
   "cell_type": "code",
   "execution_count": null,
   "metadata": {},
   "outputs": [],
   "source": [
    "# res = PoolHelper.run(test_case_worker, paras=paras)"
   ]
  },
  {
   "cell_type": "code",
   "execution_count": 14,
   "metadata": {
    "scrolled": true
   },
   "outputs": [
    {
     "name": "stdout",
     "output_type": "stream",
     "text": [
      "E0=1.8740683821794332e-26\n"
     ]
    },
    {
     "name": "stderr",
     "output_type": "stream",
     "text": [
      "E:\\Physics\\quantum-fermion-theories\\mmf-hfb\\Docs\\..\\mmf_hfb\\SolverABM.py:89: ComplexWarning: Casting complex values to real discards the imaginary part\n",
      "  self.y = self.N*self.y/math.sqrt(self.y.conj().dot(self.y))\n"
     ]
    },
    {
     "name": "stdout",
     "output_type": "stream",
     "text": [
      "physical time:5.0, wall time:22.51208519935608,dE:6.622609696926509e+23 \n",
      "E0=1.8740683821794332e-26\n",
      "physical time:5.0, wall time:22.406883716583252,dE:6.622609696926509e+23 \n",
      "E0=1.8740683821794332e-26\n",
      "physical time:5.0, wall time:26.9910089969635,dE:7.642939789377701e+23 \n",
      "E0=1.8740683821794332e-26\n",
      "physical time:5.0, wall time:26.678138494491577,dE:7.642939789377701e+23 \n",
      "E0=1.8740683821794332e-26\n",
      "physical time:5.0, wall time:25.437098741531372,dE:2.6332028475960895e+28 \n",
      "E0=1.8740683821794332e-26\n",
      "physical time:5.0, wall time:25.290180921554565,dE:2.6332028475960895e+28 \n",
      "E0=1.8740683821794332e-26\n",
      "physical time:5.0, wall time:28.85017156600952,dE:7.642939787760339e+23 \n",
      "E0=1.8740683821794332e-26\n",
      "physical time:5.0, wall time:28.605241060256958,dE:7.642939787760339e+23 \n",
      "E0=1.8740683821794332e-26\n",
      "physical time:5.0, wall time:37.64585995674133,dE:2.6318466930851097e+28 \n",
      "E0=1.8740683821794332e-26\n",
      "physical time:5.0, wall time:38.101160526275635,dE:2.6318466930851097e+28 \n",
      "E0=1.8740683821794332e-26\n",
      "physical time:5.0, wall time:41.71412634849548,dE:7.642939789377508e+23 \n",
      "E0=1.8740683821794332e-26\n",
      "physical time:5.0, wall time:42.32295274734497,dE:7.642939789377508e+23 \n",
      "E0=1.8740683821794332e-26\n",
      "physical time:5.0, wall time:35.20041060447693,dE:7.044482761744749e+23 \n",
      "E0=1.8740683821794332e-26\n",
      "physical time:5.0, wall time:35.00021815299988,dE:7.044482761744749e+23 \n",
      "E0=1.8740683821794332e-26\n",
      "physical time:5.0, wall time:40.11725449562073,dE:2.6332028475960886e+28 \n",
      "E0=1.8740683821794332e-26\n",
      "physical time:5.0, wall time:40.11887335777283,dE:2.6332028475960886e+28 \n",
      "E0=1.8740683821794332e-26\n",
      "physical time:5.0, wall time:33.44844579696655,dE:2.6332028475960895e+28 \n",
      "E0=1.8740683821794332e-26\n",
      "physical time:5.0, wall time:33.51681733131409,dE:2.6332028475960895e+28 \n",
      "E0=1.8740683821794332e-26\n",
      "physical time:5.0, wall time:37.11407423019409,dE:6.622609696926533e+23 \n",
      "E0=1.8740683821794332e-26\n",
      "physical time:5.0, wall time:37.179476261138916,dE:6.622609696926533e+23 \n",
      "E0=1.8740683821794332e-26\n",
      "physical time:5.0, wall time:52.62786364555359,dE:2.631846693085108e+28 \n",
      "E0=1.8740683821794332e-26\n",
      "physical time:5.0, wall time:52.697596073150635,dE:2.631846693085108e+28 \n",
      "E0=1.8740683821794332e-26\n",
      "physical time:5.0, wall time:46.04625415802002,dE:2.6168355321964286e+28 \n",
      "E0=1.8740683821794332e-26\n",
      "physical time:5.0, wall time:46.06382632255554,dE:2.6168355321964286e+28 \n",
      "E0=1.8740683821794332e-26\n",
      "physical time:5.0, wall time:49.67495656013489,dE:7.044482761744737e+23 \n",
      "E0=1.8740683821794332e-26\n",
      "physical time:5.0, wall time:50.45323705673218,dE:7.044482761744737e+23 \n",
      "E0=1.8740683821794332e-26\n",
      "physical time:5.0, wall time:48.884068965911865,dE:2.6332028475960877e+28 \n",
      "E0=1.8740683821794332e-26\n",
      "physical time:5.0, wall time:48.63591432571411,dE:2.6332028475960877e+28 \n",
      "E0=1.8740683821794332e-26\n",
      "physical time:5.0, wall time:60.91693687438965,dE:2.616835532196435e+28 \n",
      "E0=1.8740683821794332e-26\n",
      "physical time:5.0, wall time:61.37817335128784,dE:2.616835532196435e+28 \n",
      "E0=0.49999999999999983\n",
      "physical time:5.0, wall time:22.543378591537476,dE:9.428186790583218e-05 \n",
      "physical time:4.5, wall time:20.264091968536377,dE:0.0002241474659457899 \n",
      "physical time:4.0, wall time:17.839998245239258,dE:0.0017915647405800656 \n",
      "physical time:3.5, wall time:15.651839256286621,dE:0.0063199040129177115 \n",
      "physical time:3.0, wall time:13.522685527801514,dE:0.008070086558832016 \n",
      "physical time:2.5, wall time:11.401939153671265,dE:0.012698308865252032 \n",
      "physical time:2.0, wall time:9.114589214324951,dE:0.040928776343870946 \n",
      "physical time:1.5, wall time:6.919799089431763,dE:0.40938241700270517 \n",
      "E0=0.49999999999999983\n",
      "physical time:5.0, wall time:22.732370376586914,dE:9.428186790583218e-05 \n",
      "physical time:4.5, wall time:20.662188291549683,dE:0.0002241474659457899 \n",
      "physical time:4.0, wall time:18.01946496963501,dE:0.0017915647405800656 \n",
      "physical time:3.5, wall time:15.90128779411316,dE:0.0063199040129177115 \n",
      "physical time:3.0, wall time:13.947091102600098,dE:0.008070086558832016 \n",
      "physical time:2.5, wall time:11.423598527908325,dE:0.012698308865252032 \n",
      "physical time:2.0, wall time:9.277462720870972,dE:0.040928776343870946 \n",
      "physical time:1.5, wall time:6.985610246658325,dE:0.40938241700270517 \n",
      "E0=0.49999999999999983\n",
      "physical time:5.0, wall time:27.207334518432617,dE:4.250567093376551 \n",
      "E0=0.49999999999999983\n",
      "physical time:5.0, wall time:27.826947450637817,dE:4.250567093376551 \n",
      "E0=0.49999999999999983\n",
      "physical time:5.0, wall time:25.86320447921753,dE:1004.4960941364607 \n",
      "E0=0.49999999999999983\n",
      "physical time:5.0, wall time:26.177903652191162,dE:1004.4960941364607 \n",
      "E0=0.49999999999999983\n",
      "physical time:5.0, wall time:29.779470443725586,dE:0.006164159672242488 \n",
      "physical time:4.5, wall time:27.001643657684326,dE:0.0063569588305200115 \n",
      "physical time:4.0, wall time:23.961548328399658,dE:0.0064847413699230545 \n",
      "physical time:3.5, wall time:20.74708843231201,dE:0.006999754482970413 \n",
      "physical time:3.0, wall time:17.529772758483887,dE:0.015826042357433352 \n",
      "physical time:2.5, wall time:14.54887580871582,dE:0.11601549136868476 \n",
      "E0=0.49999999999999983\n",
      "physical time:5.0, wall time:29.164854764938354,dE:0.006164159672242488 \n",
      "physical time:4.5, wall time:26.18463897705078,dE:0.0063569588305200115 \n",
      "physical time:4.0, wall time:23.105128288269043,dE:0.0064847413699230545 \n",
      "physical time:3.5, wall time:20.27450656890869,dE:0.006999754482970413 \n",
      "physical time:3.0, wall time:18.003103017807007,dE:0.015826042357433352 \n",
      "physical time:2.5, wall time:14.80793571472168,dE:0.11601549136868476 \n",
      "E0=0.49999999999999983\n",
      "physical time:5.0, wall time:39.62660622596741,dE:999.9049790143546 \n",
      "E0=0.49999999999999983\n",
      "physical time:5.0, wall time:38.158549070358276,dE:999.9049790143546 \n",
      "E0=0.49999999999999983\n",
      "physical time:5.0, wall time:42.30244064331055,dE:0.0061265856818882875 \n",
      "physical time:4.5, wall time:38.12797212600708,dE:0.006210391247343574 \n",
      "physical time:4.0, wall time:33.48445177078247,dE:0.006366069148791344 \n",
      "physical time:3.5, wall time:29.115047693252563,dE:0.0075079370531422355 \n",
      "physical time:3.0, wall time:24.953793048858643,dE:0.015151716610965931 \n",
      "physical time:2.5, wall time:20.691035985946655,dE:0.12157368428599995 \n",
      "E0=0.49999999999999983\n",
      "physical time:5.0, wall time:41.67456245422363,dE:0.0061265856818882875 \n",
      "physical time:4.5, wall time:37.28655529022217,dE:0.006210391247343574 \n",
      "physical time:4.0, wall time:33.250436305999756,dE:0.006366069148791344 \n",
      "physical time:3.5, wall time:28.897935390472412,dE:0.0075079370531422355 \n",
      "physical time:3.0, wall time:24.927406787872314,dE:0.015151716610965931 \n",
      "physical time:2.5, wall time:20.68188714981079,dE:0.12157368428599995 \n",
      "E0=0.49999999999999983\n",
      "physical time:5.0, wall time:35.1536386013031,dE:0.00010663553051404322 \n",
      "physical time:4.5, wall time:31.364712476730347,dE:0.0001900905063990655 \n",
      "physical time:4.0, wall time:28.165047883987427,dE:0.0011085179404889405 \n",
      "physical time:3.5, wall time:24.55012059211731,dE:0.004113780006172909 \n",
      "physical time:3.0, wall time:21.18694519996643,dE:0.005640959454895957 \n",
      "physical time:2.5, wall time:17.551294803619385,dE:0.0077834758333205105 \n",
      "physical time:2.0, wall time:14.111942291259766,dE:0.024390874185733165 \n",
      "physical time:1.5, wall time:10.546094417572021,dE:0.34197460081950437 \n",
      "E0=0.49999999999999983\n",
      "physical time:5.0, wall time:35.02447581291199,dE:0.00010663553051404322 \n",
      "physical time:4.5, wall time:31.676856517791748,dE:0.0001900905063990655 \n",
      "physical time:4.0, wall time:28.059200525283813,dE:0.0011085179404889405 \n",
      "physical time:3.5, wall time:24.47408175468445,dE:0.004113780006172909 \n",
      "physical time:3.0, wall time:21.2724187374115,dE:0.005640959454895957 \n",
      "physical time:2.5, wall time:17.62796640396118,dE:0.0077834758333205105 \n",
      "physical time:2.0, wall time:15.026187896728516,dE:0.024390874185733165 \n",
      "physical time:1.5, wall time:10.80601954460144,dE:0.34197460081950437 \n",
      "E0=0.49999999999999983\n",
      "physical time:5.0, wall time:40.39833688735962,dE:969.1620493549252 \n",
      "E0=0.49999999999999983\n",
      "physical time:5.0, wall time:39.950751066207886,dE:969.1620493549252 \n",
      "E0=0.49999999999999983\n",
      "physical time:5.0, wall time:33.52030396461487,dE:1004.4960941364601 \n",
      "E0=0.49999999999999983\n",
      "physical time:5.0, wall time:33.641234397888184,dE:1004.4960941364601 \n",
      "E0=0.49999999999999983\n",
      "physical time:5.0, wall time:38.09342312812805,dE:0.0011068240915331766 \n"
     ]
    },
    {
     "name": "stdout",
     "output_type": "stream",
     "text": [
      "physical time:4.5, wall time:34.23937797546387,dE:0.002184697382974555 \n",
      "physical time:4.0, wall time:29.76778769493103,dE:0.004327700944380843 \n",
      "physical time:3.5, wall time:25.932300329208374,dE:0.008635558940434222 \n",
      "physical time:3.0, wall time:22.26903772354126,dE:0.017443673291180135 \n",
      "physical time:2.5, wall time:18.518235445022583,dE:0.0360392346378159 \n",
      "physical time:2.0, wall time:14.769957304000854,dE:0.07729317348421808 \n",
      "physical time:1.5, wall time:11.127872705459595,dE:0.17916636684627013 \n",
      "E0=0.49999999999999983\n",
      "physical time:5.0, wall time:37.37022137641907,dE:0.0011068240915331766 \n",
      "physical time:4.5, wall time:33.4826283454895,dE:0.002184697382974555 \n",
      "physical time:4.0, wall time:29.975800037384033,dE:0.004327700944380843 \n",
      "physical time:3.5, wall time:26.095813274383545,dE:0.008635558940434222 \n",
      "physical time:3.0, wall time:22.62335705757141,dE:0.017443673291180135 \n",
      "physical time:2.5, wall time:18.563740491867065,dE:0.0360392346378159 \n",
      "physical time:2.0, wall time:14.815415859222412,dE:0.07729317348421808 \n",
      "physical time:1.5, wall time:11.162054538726807,dE:0.17916636684627013 \n",
      "E0=0.49999999999999983\n",
      "physical time:5.0, wall time:52.64666938781738,dE:999.249379659255 \n",
      "E0=0.49999999999999983\n",
      "physical time:5.0, wall time:53.35415863990784,dE:999.249379659255 \n",
      "E0=0.49999999999999983\n",
      "physical time:5.0, wall time:46.59494924545288,dE:1001.8708246173261 \n",
      "E0=0.49999999999999983\n",
      "physical time:5.0, wall time:45.99465560913086,dE:1001.8708246173261 \n",
      "E0=0.49999999999999983\n",
      "physical time:5.0, wall time:49.283318281173706,dE:0.0011047289982387691 \n",
      "physical time:4.5, wall time:44.484623670578,dE:0.0021815353203714647 \n",
      "physical time:4.0, wall time:39.516478538513184,dE:0.00432478013793103 \n",
      "physical time:3.5, wall time:47.92428374290466,dE:0.00864144661060318 \n",
      "physical time:3.0, wall time:29.706751108169556,dE:0.017496418198228343 \n",
      "physical time:2.5, wall time:24.73128366470337,dE:0.036310689282614286 \n",
      "physical time:2.0, wall time:19.71865963935852,dE:0.07828224578651258 \n",
      "physical time:1.5, wall time:14.8392174243927,dE:0.181542796164122 \n",
      "E0=0.49999999999999983\n",
      "physical time:5.0, wall time:49.29696297645569,dE:0.0011047289982387691 \n",
      "physical time:4.5, wall time:44.69503688812256,dE:0.0021815353203714647 \n",
      "physical time:4.0, wall time:39.956767320632935,dE:0.00432478013793103 \n",
      "physical time:3.5, wall time:34.746784925460815,dE:0.00864144661060318 \n",
      "physical time:3.0, wall time:30.02353262901306,dE:0.017496418198228343 \n",
      "physical time:2.5, wall time:25.19074535369873,dE:0.036310689282614286 \n",
      "physical time:2.0, wall time:20.090736150741577,dE:0.07828224578651258 \n",
      "physical time:1.5, wall time:15.076420307159424,dE:0.181542796164122 \n",
      "E0=0.49999999999999983\n",
      "physical time:5.0, wall time:48.29309606552124,dE:969.1619375415222 \n",
      "E0=0.49999999999999983\n",
      "physical time:5.0, wall time:48.544677734375,dE:969.1619375415222 \n",
      "E0=0.49999999999999983\n",
      "physical time:5.0, wall time:61.7120840549469,dE:996.3251395400016 \n",
      "E0=0.49999999999999983\n",
      "physical time:5.0, wall time:61.01791739463806,dE:996.3251395400016 \n",
      "E0=0.594023136572134\n",
      "physical time:5.0, wall time:22.815130949020386,dE:4.508059654806814e-05 \n",
      "physical time:4.5, wall time:20.535128116607666,dE:0.0001262197902183299 \n",
      "physical time:4.0, wall time:18.34693145751953,dE:0.0001677378101783234 \n",
      "physical time:3.5, wall time:15.929840087890625,dE:0.0010446209382750419 \n",
      "physical time:3.0, wall time:13.696979761123657,dE:0.007806493697055981 \n",
      "physical time:2.5, wall time:11.258650302886963,dE:0.010878096875551097 \n",
      "physical time:2.0, wall time:9.319490671157837,dE:0.019330575817239303 \n",
      "physical time:1.5, wall time:6.956272125244141,dE:0.09535080054715464 \n",
      "physical time:1.0, wall time:4.570937156677246,dE:5.035584144563808 \n",
      "E0=0.594023136572134\n",
      "physical time:5.0, wall time:23.024738788604736,dE:4.508059654806814e-05 \n",
      "physical time:4.5, wall time:20.551836729049683,dE:0.0001262197902183299 \n",
      "physical time:4.0, wall time:18.344362497329712,dE:0.0001677378101783234 \n",
      "physical time:3.5, wall time:16.07114887237549,dE:0.0010446209382750419 \n",
      "physical time:3.0, wall time:13.70096206665039,dE:0.007806493697055981 \n",
      "physical time:2.5, wall time:11.449282169342041,dE:0.010878096875551097 \n",
      "physical time:2.0, wall time:9.040183782577515,dE:0.019330575817239303 \n",
      "physical time:1.5, wall time:6.928945541381836,dE:0.09535080054715464 \n",
      "physical time:1.0, wall time:4.536943435668945,dE:5.035584144563808 \n",
      "E0=0.594023136572134\n",
      "physical time:5.0, wall time:27.285311937332153,dE:40.37201568819509 \n",
      "E0=0.594023136572134\n",
      "physical time:5.0, wall time:27.269724130630493,dE:40.37201568819509 \n",
      "E0=0.594023136572134\n",
      "physical time:5.0, wall time:25.425700187683105,dE:853.866514241825 \n",
      "E0=0.594023136572134\n",
      "physical time:5.0, wall time:25.45791721343994,dE:853.866514241825 \n",
      "E0=0.594023136572134\n",
      "physical time:5.0, wall time:29.42103362083435,dE:0.002154042828696814 \n",
      "physical time:4.5, wall time:26.042595863342285,dE:0.005576376616045414 \n",
      "physical time:4.0, wall time:23.800588846206665,dE:0.006142557857271765 \n",
      "physical time:3.5, wall time:20.275638341903687,dE:0.006271553099659094 \n",
      "physical time:3.0, wall time:17.569206953048706,dE:0.00665037117389445 \n",
      "physical time:2.5, wall time:14.627289056777954,dE:0.01784214477666061 \n",
      "physical time:2.0, wall time:11.576894521713257,dE:0.17633397602520023 \n",
      "E0=0.594023136572134\n",
      "physical time:5.0, wall time:29.367842435836792,dE:0.002154042828696814 \n",
      "physical time:4.5, wall time:27.32939338684082,dE:0.005576376616045414 \n",
      "physical time:4.0, wall time:24.090577363967896,dE:0.006142557857271765 \n",
      "physical time:3.5, wall time:20.497389316558838,dE:0.006271553099659094 \n",
      "physical time:3.0, wall time:17.38524055480957,dE:0.00665037117389445 \n",
      "physical time:2.5, wall time:14.645904541015625,dE:0.01784214477666061 \n",
      "physical time:2.0, wall time:11.68893575668335,dE:0.17633397602520023 \n",
      "E0=0.594023136572134\n",
      "physical time:5.0, wall time:38.654268741607666,dE:849.5481950263635 \n",
      "E0=0.594023136572134\n",
      "physical time:5.0, wall time:38.717824935913086,dE:849.5481950263635 \n",
      "E0=0.594023136572134\n",
      "physical time:5.0, wall time:41.96017336845398,dE:0.0020214320457923305 \n",
      "physical time:4.5, wall time:37.64172601699829,dE:0.005768801598773694 \n",
      "physical time:4.0, wall time:33.76574897766113,dE:0.006090675478917781 \n",
      "physical time:3.5, wall time:29.312117338180542,dE:0.006266204876068178 \n",
      "physical time:3.0, wall time:25.009604930877686,dE:0.006861981070979666 \n",
      "physical time:2.5, wall time:21.08037781715393,dE:0.019088773942317224 \n",
      "physical time:2.0, wall time:16.854952335357666,dE:0.19170985581296174 \n",
      "E0=0.594023136572134\n",
      "physical time:5.0, wall time:42.473966121673584,dE:0.0020214320457923305 \n",
      "physical time:4.5, wall time:37.79629731178284,dE:0.005768801598773694 \n",
      "physical time:4.0, wall time:33.19005370140076,dE:0.006090675478917781 \n",
      "physical time:3.5, wall time:29.316149950027466,dE:0.006266204876068178 \n",
      "physical time:3.0, wall time:25.259381532669067,dE:0.006861981070979666 \n",
      "physical time:2.5, wall time:21.226465702056885,dE:0.019088773942317224 \n",
      "physical time:2.0, wall time:16.851904153823853,dE:0.19170985581296174 \n",
      "E0=0.594023136572134\n",
      "physical time:5.0, wall time:35.543898820877075,dE:5.911985280039947e-05 \n",
      "physical time:4.5, wall time:31.709132194519043,dE:0.0001631250925182989 \n",
      "physical time:4.0, wall time:27.946221590042114,dE:0.00024959778795245817 \n",
      "physical time:3.5, wall time:25.004350900650024,dE:0.0008748290533617567 \n",
      "physical time:3.0, wall time:21.139851093292236,dE:0.005073475877973879 \n",
      "physical time:2.5, wall time:17.798184871673584,dE:0.007790427030547438 \n",
      "physical time:2.0, wall time:14.616124629974365,dE:0.013082948738507466 \n",
      "physical time:1.5, wall time:10.776871681213379,dE:0.06285960052227481 \n",
      "physical time:1.0, wall time:7.555725574493408,dE:2.343295471375175 \n",
      "E0=0.594023136572134\n",
      "physical time:5.0, wall time:35.3304557800293,dE:5.911985280039947e-05 \n",
      "physical time:4.5, wall time:31.88361358642578,dE:0.0001631250925182989 \n",
      "physical time:4.0, wall time:28.32490611076355,dE:0.00024959778795245817 \n",
      "physical time:3.5, wall time:24.727779865264893,dE:0.0008748290533617567 \n",
      "physical time:3.0, wall time:21.48946213722229,dE:0.005073475877973879 \n",
      "physical time:2.5, wall time:17.77589702606201,dE:0.007790427030547438 \n",
      "physical time:2.0, wall time:14.243046045303345,dE:0.013082948738507466 \n"
     ]
    },
    {
     "name": "stdout",
     "output_type": "stream",
     "text": [
      "physical time:1.5, wall time:10.664793014526367,dE:0.06285960052227481 \n",
      "physical time:1.0, wall time:7.1078126430511475,dE:2.343295471375175 \n",
      "E0=0.594023136572134\n",
      "physical time:5.0, wall time:41.09584426879883,dE:816.340005406955 \n",
      "E0=0.594023136572134\n",
      "physical time:5.0, wall time:40.10048294067383,dE:816.340005406955 \n",
      "E0=0.594023136572134\n",
      "physical time:5.0, wall time:33.44766902923584,dE:853.8665142418247 \n",
      "E0=0.594023136572134\n",
      "physical time:5.0, wall time:33.389116048812866,dE:853.8665142418247 \n",
      "E0=0.594023136572134\n",
      "physical time:5.0, wall time:36.95646142959595,dE:0.00039481558942339634 \n",
      "physical time:4.5, wall time:34.38559412956238,dE:0.0008445248588815958 \n",
      "physical time:4.0, wall time:30.63480281829834,dE:0.001809181195445439 \n",
      "physical time:3.5, wall time:25.935065984725952,dE:0.0038911591800928347 \n",
      "physical time:3.0, wall time:22.34545350074768,dE:0.008431229259311 \n",
      "physical time:2.5, wall time:18.653130292892456,dE:0.018569422492878622 \n",
      "physical time:2.0, wall time:14.80444049835205,dE:0.04232797110677414 \n",
      "physical time:1.5, wall time:11.145729303359985,dE:0.10417625490475191 \n",
      "E0=0.594023136572134\n",
      "physical time:5.0, wall time:37.128384828567505,dE:0.00039481558942339634 \n",
      "physical time:4.5, wall time:33.478315114974976,dE:0.0008445248588815958 \n",
      "physical time:4.0, wall time:29.790132761001587,dE:0.001809181195445439 \n",
      "physical time:3.5, wall time:26.296634912490845,dE:0.0038911591800928347 \n",
      "physical time:3.0, wall time:22.536489248275757,dE:0.008431229259311 \n",
      "physical time:2.5, wall time:19.64697289466858,dE:0.018569422492878622 \n",
      "physical time:2.0, wall time:15.243046760559082,dE:0.04232797110677414 \n",
      "physical time:1.5, wall time:11.163853883743286,dE:0.10417625490475191 \n",
      "E0=0.594023136572134\n",
      "physical time:5.0, wall time:52.65469002723694,dE:844.6097762542846 \n",
      "E0=0.594023136572134\n",
      "physical time:5.0, wall time:52.57847571372986,dE:844.6097762542846 \n",
      "E0=0.594023136572134\n",
      "physical time:5.0, wall time:46.02448034286499,dE:845.6688864876355 \n",
      "E0=0.594023136572134\n",
      "physical time:5.0, wall time:45.75900387763977,dE:845.6688864876355 \n",
      "E0=0.594023136572134\n",
      "physical time:5.0, wall time:49.51551008224487,dE:0.0003825824269739723 \n",
      "physical time:4.5, wall time:44.59986162185669,dE:0.0008184005910169307 \n",
      "physical time:4.0, wall time:40.69018578529358,dE:0.0017534099426801762 \n",
      "physical time:3.5, wall time:34.98695373535156,dE:0.0037719020762310806 \n",
      "physical time:3.0, wall time:30.429683923721313,dE:0.00817495713344855 \n",
      "physical time:2.5, wall time:25.295456647872925,dE:0.01800885869593449 \n",
      "physical time:2.0, wall time:20.00245761871338,dE:0.04103794530392284 \n",
      "physical time:1.5, wall time:15.06689167022705,dE:0.10093286404814347 \n",
      "E0=0.594023136572134\n",
      "physical time:5.0, wall time:50.4422881603241,dE:0.0003825824269739723 \n",
      "physical time:4.5, wall time:45.21376657485962,dE:0.0008184005910169307 \n",
      "physical time:4.0, wall time:39.58779573440552,dE:0.0017534099426801762 \n",
      "physical time:3.5, wall time:34.7472927570343,dE:0.0037719020762310806 \n",
      "physical time:3.0, wall time:29.76789689064026,dE:0.00817495713344855 \n",
      "physical time:2.5, wall time:24.82544779777527,dE:0.01800885869593449 \n",
      "physical time:2.0, wall time:20.111858129501343,dE:0.04103794530392284 \n",
      "physical time:1.5, wall time:15.546859741210938,dE:0.10093286404814347 \n",
      "E0=0.594023136572134\n",
      "physical time:5.0, wall time:48.62741994857788,dE:814.3669674762352 \n",
      "E0=0.594023136572134\n",
      "physical time:5.0, wall time:48.4034526348114,dE:814.3669674762352 \n",
      "E0=0.594023136572134\n",
      "physical time:5.0, wall time:60.949103355407715,dE:829.6828543081845 \n",
      "E0=0.594023136572134\n",
      "physical time:5.0, wall time:61.307695388793945,dE:829.6828543081845 \n",
      "Imaginary Cooling with T=2\n"
     ]
    },
    {
     "name": "stderr",
     "output_type": "stream",
     "text": [
      "E:\\Physics\\quantum-fermion-theories\\mmf-hfb\\Docs\\..\\mmf_hfb\\SolverABM.py:18: ComplexWarning: Casting complex values to real discards the imaginary part\n",
      "  self.N = math.sqrt(y.conj().dot(y))\n"
     ]
    },
    {
     "name": "stdout",
     "output_type": "stream",
     "text": [
      "0.0\n",
      "E0=0.03906250000000002\n",
      "physical time:5.0, wall time:24.883939504623413,dE:0.6253752974514297 \n",
      "E0=0.03906250000000002\n",
      "physical time:5.0, wall time:25.068970918655396,dE:0.6253752974514297 \n",
      "Imaginary Cooling with T=2\n",
      "0.0\n",
      "E0=0.039062500000000014\n",
      "physical time:5.0, wall time:30.11455535888672,dE:0.8087438344939352 \n",
      "E0=0.039062500000000014\n",
      "physical time:5.0, wall time:29.640417098999023,dE:0.8087438344939352 \n",
      "Imaginary Cooling with T=2\n",
      "0.0\n",
      "E0=493.5192825544682\n",
      "physical time:5.0, wall time:29.017407178878784,dE:-6.910783939373358e-16 \n",
      "physical time:4.5, wall time:25.718254566192627,dE:-6.910783939373358e-16 \n",
      "physical time:4.0, wall time:22.97364091873169,dE:-6.910783939373358e-16 \n",
      "physical time:3.5, wall time:20.27643370628357,dE:-6.910783939373358e-16 \n",
      "physical time:3.0, wall time:17.103681087493896,dE:-6.910783939373358e-16 \n",
      "physical time:2.5, wall time:15.62669849395752,dE:-6.910783939373358e-16 \n",
      "physical time:2.0, wall time:11.913755655288696,dE:-6.910783939373358e-16 \n",
      "physical time:1.5, wall time:9.13232135772705,dE:-6.910783939373358e-16 \n",
      "physical time:1.0, wall time:5.68539834022522,dE:-1.158938466632912e-12 \n",
      "physical time:0.5, wall time:2.8278164863586426,dE:-2.1938242957095213e-08 \n",
      "E0=493.5192825544682\n",
      "physical time:5.0, wall time:28.479116678237915,dE:-6.910783939373358e-16 \n",
      "physical time:4.5, wall time:25.38043451309204,dE:-6.910783939373358e-16 \n",
      "physical time:4.0, wall time:22.90945553779602,dE:-6.910783939373358e-16 \n",
      "physical time:3.5, wall time:19.85885524749756,dE:-6.910783939373358e-16 \n",
      "physical time:3.0, wall time:16.772475004196167,dE:-6.910783939373358e-16 \n",
      "physical time:2.5, wall time:14.202236652374268,dE:-6.910783939373358e-16 \n",
      "physical time:2.0, wall time:11.302189350128174,dE:-6.910783939373358e-16 \n",
      "physical time:1.5, wall time:8.588802814483643,dE:-6.910783939373358e-16 \n",
      "physical time:1.0, wall time:5.798734903335571,dE:-1.158938466632912e-12 \n",
      "physical time:0.5, wall time:2.843632459640503,dE:-2.1938242957095213e-08 \n",
      "Imaginary Cooling with T=2\n",
      "-1.7763568394002498e-16\n",
      "E0=0.039062500000000014\n",
      "physical time:5.0, wall time:32.82787108421326,dE:0.5563908542641626 \n",
      "E0=0.039062500000000014\n",
      "physical time:5.0, wall time:32.586411237716675,dE:0.5563908542641626 \n",
      "Imaginary Cooling with T=2\n",
      "-1.571284325881135e-06\n",
      "E0=491.0214633860501\n",
      "physical time:5.0, wall time:41.94908332824707,dE:0.004594917608005438 \n",
      "physical time:4.5, wall time:37.58508038520813,dE:0.004556486199687772 \n",
      "physical time:4.0, wall time:33.399240016937256,dE:0.004517688438591243 \n",
      "physical time:3.5, wall time:29.31299352645874,dE:0.004478514711204377 \n",
      "physical time:3.0, wall time:25.14588761329651,dE:0.004439015972624605 \n",
      "physical time:2.5, wall time:21.166277170181274,dE:0.004399193445816692 \n",
      "physical time:2.0, wall time:17.155609369277954,dE:0.004359045773953389 \n",
      "physical time:1.5, wall time:12.665518045425415,dE:0.004318544897411473 \n",
      "physical time:1.0, wall time:8.387917041778564,dE:0.0041416501416101596 \n",
      "physical time:0.5, wall time:4.329987287521362,dE:0.0007263259234104766 \n",
      "E0=491.0214633860501\n",
      "physical time:5.0, wall time:42.09528875350952,dE:0.004594917608005438 \n",
      "physical time:4.5, wall time:38.12517333030701,dE:0.004556486199687772 \n",
      "physical time:4.0, wall time:34.013092041015625,dE:0.004517688438591243 \n",
      "physical time:3.5, wall time:29.274638175964355,dE:0.004478514711204377 \n",
      "physical time:3.0, wall time:25.072937726974487,dE:0.004439015972624605 \n",
      "physical time:2.5, wall time:20.866877555847168,dE:0.004399193445816692 \n",
      "physical time:2.0, wall time:16.75718402862549,dE:0.004359045773953389 \n",
      "physical time:1.5, wall time:12.546146869659424,dE:0.004318544897411473 \n",
      "physical time:1.0, wall time:8.48296856880188,dE:0.0041416501416101596 \n",
      "physical time:0.5, wall time:4.242416143417358,dE:0.0007263259234104766 \n",
      "Imaginary Cooling with T=2\n",
      "0.0\n",
      "E0=0.039062500000000014\n",
      "physical time:5.0, wall time:46.32125926017761,dE:0.6419040585332206 \n",
      "E0=0.039062500000000014\n",
      "physical time:5.0, wall time:46.011236906051636,dE:0.6419040585332206 \n",
      "Imaginary Cooling with T=2\n",
      "0.0\n",
      "E0=0.03906250000000002\n",
      "physical time:5.0, wall time:39.23831295967102,dE:0.733114432202373 \n",
      "E0=0.03906250000000002\n",
      "physical time:5.0, wall time:39.86189603805542,dE:0.733114432202373 \n",
      "Imaginary Cooling with T=2\n",
      "0.0\n",
      "E0=493.5192825544683\n",
      "physical time:5.0, wall time:44.58330202102661,dE:-9.214378585831141e-16 \n",
      "physical time:4.5, wall time:39.76478934288025,dE:-9.214378585831141e-16 \n",
      "physical time:4.0, wall time:35.02517628669739,dE:-9.214378585831141e-16 \n",
      "physical time:3.5, wall time:30.570241928100586,dE:-9.214378585831141e-16 \n",
      "physical time:3.0, wall time:26.20012331008911,dE:-9.214378585831141e-16 \n",
      "physical time:2.5, wall time:22.02512526512146,dE:-1.266977055551782e-15 \n",
      "physical time:2.0, wall time:17.82202458381653,dE:-1.1517973232288927e-15 \n",
      "physical time:1.5, wall time:13.481260061264038,dE:-9.214378585831141e-16 \n",
      "physical time:1.0, wall time:9.304850339889526,dE:-1.202476405450964e-12 \n",
      "physical time:0.5, wall time:4.672950506210327,dE:-2.3176876468937242e-08 \n",
      "E0=493.5192825544683\n",
      "physical time:5.0, wall time:44.8479208946228,dE:-9.214378585831141e-16 \n",
      "physical time:4.5, wall time:39.608336448669434,dE:-9.214378585831141e-16 \n",
      "physical time:4.0, wall time:36.19252324104309,dE:-9.214378585831141e-16 \n",
      "physical time:3.5, wall time:31.092530012130737,dE:-9.214378585831141e-16 \n",
      "physical time:3.0, wall time:26.376277923583984,dE:-9.214378585831141e-16 \n",
      "physical time:2.5, wall time:22.661976099014282,dE:-1.266977055551782e-15 \n",
      "physical time:2.0, wall time:17.690385103225708,dE:-1.1517973232288927e-15 \n",
      "physical time:1.5, wall time:13.47633671760559,dE:-9.214378585831141e-16 \n",
      "physical time:1.0, wall time:8.926314115524292,dE:-1.202476405450964e-12 \n",
      "physical time:0.5, wall time:4.376067876815796,dE:-2.3176876468937242e-08 \n",
      "Imaginary Cooling with T=2\n",
      "-8.062581262602252e-16\n",
      "E0=493.51928255446813\n",
      "physical time:5.0, wall time:37.42150950431824,dE:-5.758986616144465e-16 \n",
      "physical time:4.5, wall time:33.824297189712524,dE:-8.062581262602252e-16 \n",
      "physical time:4.0, wall time:30.68195939064026,dE:-3.455391969686679e-16 \n",
      "physical time:3.5, wall time:26.506513595581055,dE:-9.214378585831145e-16 \n",
      "physical time:3.0, wall time:22.77565836906433,dE:-1.4282286808038274e-14 \n",
      "physical time:2.5, wall time:19.549153089523315,dE:-1.4336421282230032e-12 \n",
      "physical time:2.0, wall time:15.641781330108643,dE:-2.82008129854544e-10 \n",
      "physical time:1.5, wall time:11.397217035293579,dE:-2.7584663269043198e-08 \n",
      "physical time:1.0, wall time:8.029791355133057,dE:-2.1671133610110576e-06 \n",
      "physical time:0.5, wall time:3.8176920413970947,dE:-0.00042672241184889335 \n",
      "E0=493.51928255446813\n",
      "physical time:5.0, wall time:38.64949440956116,dE:-5.758986616144465e-16 \n",
      "physical time:4.5, wall time:36.61856460571289,dE:-8.062581262602252e-16 \n",
      "physical time:4.0, wall time:34.81047081947327,dE:-3.455391969686679e-16 \n",
      "physical time:3.5, wall time:28.097313404083252,dE:-9.214378585831145e-16 \n",
      "physical time:3.0, wall time:23.753580331802368,dE:-1.4282286808038274e-14 \n",
      "physical time:2.5, wall time:19.080151557922363,dE:-1.4336421282230032e-12 \n",
      "physical time:2.0, wall time:15.35039234161377,dE:-2.82008129854544e-10 \n",
      "physical time:1.5, wall time:11.911385297775269,dE:-2.7584663269043198e-08 \n",
      "physical time:1.0, wall time:7.899189472198486,dE:-2.1671133610110576e-06 \n",
      "physical time:0.5, wall time:3.7802271842956543,dE:-0.00042672241184889335 \n",
      "Imaginary Cooling with T=2\n",
      "0.0\n",
      "E0=0.03906250000000002\n",
      "physical time:5.0, wall time:41.826688289642334,dE:0.35047515036122884 \n",
      "E0=0.03906250000000002\n",
      "physical time:5.0, wall time:42.39685916900635,dE:0.35047515036122884 \n",
      "Imaginary Cooling with T=2\n",
      "-1.5720274622821497e-06\n",
      "E0=491.03213906016947\n",
      "physical time:5.0, wall time:62.86936807632446,dE:0.0045746090366480235 \n",
      "physical time:4.5, wall time:56.49190545082092,dE:0.004536179522439106 \n",
      "physical time:4.0, wall time:47.081212520599365,dE:0.004497381873241675 \n",
      "physical time:3.5, wall time:41.05181860923767,dE:0.004458206616260769 \n",
      "physical time:3.0, wall time:35.261454820632935,dE:0.004418704825709012 \n",
      "physical time:2.5, wall time:30.656301736831665,dE:0.004378877824174413 \n",
      "physical time:2.0, wall time:23.947609424591064,dE:0.004338724342942116 \n",
      "physical time:1.5, wall time:18.068788051605225,dE:0.004298218048474959 \n"
     ]
    },
    {
     "name": "stdout",
     "output_type": "stream",
     "text": [
      "physical time:1.0, wall time:11.908871173858643,dE:0.004125216407112002 \n",
      "physical time:0.5, wall time:5.977248430252075,dE:0.0007283944522615819 \n",
      "E0=491.03213906016947\n",
      "physical time:5.0, wall time:59.989407777786255,dE:0.0045746090366480235 \n",
      "physical time:4.5, wall time:55.95734214782715,dE:0.004536179522439106 \n",
      "physical time:4.0, wall time:49.36386060714722,dE:0.004497381873241675 \n",
      "physical time:3.5, wall time:43.04716968536377,dE:0.004458206616260769 \n",
      "physical time:3.0, wall time:35.621705293655396,dE:0.004418704825709012 \n",
      "physical time:2.5, wall time:29.383687019348145,dE:0.004378877824174413 \n",
      "physical time:2.0, wall time:23.7512264251709,dE:0.004338724342942116 \n",
      "physical time:1.5, wall time:18.23875141143799,dE:0.004298218048474959 \n",
      "physical time:1.0, wall time:11.769035816192627,dE:0.004125216407112002 \n",
      "physical time:0.5, wall time:6.0930094718933105,dE:0.0007283944522615819 \n",
      "Imaginary Cooling with T=2\n",
      "-9.651350888631747e-07\n",
      "E0=489.51758817831745\n",
      "physical time:5.0, wall time:52.59214448928833,dE:0.002094255360308257 \n",
      "physical time:4.5, wall time:47.64865207672119,dE:0.0020638247461941643 \n",
      "physical time:4.0, wall time:48.55324339866638,dE:0.0020333764618681296 \n",
      "physical time:3.5, wall time:39.108479738235474,dE:0.002002885936002393 \n",
      "physical time:3.0, wall time:45.069767475128174,dE:0.00197237799005731 \n",
      "physical time:2.5, wall time:34.09298801422119,dE:0.0019418403881531062 \n",
      "physical time:2.0, wall time:27.58253049850464,dE:0.0019112608468260517 \n",
      "physical time:1.5, wall time:20.66555619239807,dE:0.0018806641328984114 \n",
      "physical time:1.0, wall time:13.926467418670654,dE:0.0018500407882690256 \n",
      "physical time:0.5, wall time:7.2520387172698975,dE:0.0016925558067987475 \n",
      "E0=489.51758817831745\n",
      "physical time:5.0, wall time:68.12637042999268,dE:0.002094255360308257 \n",
      "physical time:4.5, wall time:61.79595232009888,dE:0.0020638247461941643 \n",
      "physical time:4.0, wall time:46.57769799232483,dE:0.0020333764618681296 \n",
      "physical time:3.5, wall time:38.02198529243469,dE:0.002002885936002393 \n",
      "physical time:3.0, wall time:32.01604914665222,dE:0.00197237799005731 \n",
      "physical time:2.5, wall time:30.418557167053223,dE:0.0019418403881531062 \n",
      "physical time:2.0, wall time:24.751805067062378,dE:0.0019112608468260517 \n",
      "physical time:1.5, wall time:18.659677743911743,dE:0.0018806641328984114 \n",
      "physical time:1.0, wall time:11.71308708190918,dE:0.0018500407882690256 \n",
      "physical time:0.5, wall time:6.164218425750732,dE:0.0016925558067987475 \n",
      "Imaginary Cooling with T=2\n",
      "0.0\n",
      "E0=0.03906250000000002\n",
      "physical time:5.0, wall time:64.12219166755676,dE:0.5203977165632518 \n",
      "E0=0.03906250000000002\n",
      "physical time:5.0, wall time:63.340216875076294,dE:0.5203977165632518 \n",
      "Imaginary Cooling with T=2\n",
      "4.607189292915576e-16\n",
      "E0=493.51928255446774\n",
      "physical time:5.0, wall time:54.17358660697937,dE:2.303594646457788e-16 \n",
      "physical time:4.5, wall time:56.95828700065613,dE:4.607189292915576e-16 \n",
      "physical time:4.0, wall time:54.85226321220398,dE:0.0 \n",
      "physical time:3.5, wall time:48.422340393066406,dE:2.303594646457788e-16 \n",
      "physical time:3.0, wall time:39.98714256286621,dE:-1.3130489484809392e-14 \n",
      "physical time:2.5, wall time:34.21105170249939,dE:-1.4150981913190192e-12 \n",
      "physical time:2.0, wall time:28.57370662689209,dE:-2.8021455106281217e-10 \n",
      "physical time:1.5, wall time:20.241962671279907,dE:-2.7840546677551483e-08 \n",
      "physical time:1.0, wall time:13.064368724822998,dE:-2.157627138100493e-06 \n",
      "physical time:0.5, wall time:6.022040843963623,dE:-0.0004223197780949886 \n",
      "E0=493.51928255446774\n",
      "physical time:5.0, wall time:62.89112663269043,dE:2.303594646457788e-16 \n",
      "physical time:4.5, wall time:57.048012256622314,dE:4.607189292915576e-16 \n",
      "physical time:4.0, wall time:44.065378189086914,dE:0.0 \n",
      "physical time:3.5, wall time:38.604944944381714,dE:2.303594646457788e-16 \n",
      "physical time:3.0, wall time:32.01077961921692,dE:-1.3130489484809392e-14 \n",
      "physical time:2.5, wall time:27.81499719619751,dE:-1.4150981913190192e-12 \n",
      "physical time:2.0, wall time:23.465558767318726,dE:-2.8021455106281217e-10 \n",
      "physical time:1.5, wall time:23.0425021648407,dE:-2.7840546677551483e-08 \n",
      "physical time:1.0, wall time:13.37644910812378,dE:-2.157627138100493e-06 \n",
      "physical time:0.5, wall time:6.65320611000061,dE:-0.0004223197780949886 \n",
      "Imaginary Cooling with T=2\n",
      "-9.66109864874489e-07\n",
      "E0=489.5203581001642\n",
      "physical time:5.0, wall time:82.66023254394531,dE:0.0020896796290492377 \n",
      "physical time:4.5, wall time:72.9384253025055,dE:0.0020592184794315806 \n",
      "physical time:4.0, wall time:56.07363796234131,dE:0.0020287395535557385 \n",
      "physical time:3.5, wall time:56.238218784332275,dE:0.001998218255694373 \n",
      "physical time:3.0, wall time:48.593799352645874,dE:0.001967679432681882 \n",
      "physical time:2.5, wall time:40.797054052352905,dE:0.0019371108366340818 \n",
      "physical time:2.0, wall time:32.42481803894043,dE:0.001906500171890344 \n",
      "physical time:1.5, wall time:23.941834688186646,dE:0.0018758722312487894 \n",
      "physical time:1.0, wall time:16.46072554588318,dE:0.0018452174449208553 \n",
      "physical time:0.5, wall time:7.954604148864746,dE:0.001687970259992123 \n",
      "E0=489.5203581001642\n",
      "physical time:5.0, wall time:82.23418664932251,dE:0.0020896796290492377 \n",
      "physical time:4.5, wall time:64.84749960899353,dE:0.0020592184794315806 \n",
      "physical time:4.0, wall time:56.5306179523468,dE:0.0020287395535557385 \n",
      "physical time:3.5, wall time:47.944270610809326,dE:0.001998218255694373 \n",
      "physical time:3.0, wall time:39.65817952156067,dE:0.001967679432681882 \n",
      "physical time:2.5, wall time:34.366535663604736,dE:0.0019371108366340818 \n",
      "physical time:2.0, wall time:33.78464126586914,dE:0.001906500171890344 \n",
      "physical time:1.5, wall time:23.74479103088379,dE:0.0018758722312487894 \n",
      "physical time:1.0, wall time:16.019859790802002,dE:0.0018452174449208553 \n",
      "physical time:0.5, wall time:7.499186992645264,dE:0.001687970259992123 \n",
      "Imaginary Cooling with T=2\n",
      "6.738941167976676e-09\n",
      "E0=0.6894875820896037\n",
      "physical time:5.0, wall time:29.613640785217285,dE:8.050302177075719e-05 \n",
      "physical time:4.5, wall time:26.90341067314148,dE:0.00028053406396124286 \n",
      "physical time:4.0, wall time:22.884150505065918,dE:0.0014964726336525577 \n",
      "physical time:3.5, wall time:20.29375410079956,dE:0.004924982982854864 \n",
      "physical time:3.0, wall time:17.764319896697998,dE:0.007369636410938648 \n",
      "physical time:2.5, wall time:15.111440658569336,dE:0.015549473382336325 \n",
      "physical time:2.0, wall time:11.420922040939331,dE:0.039604698122607765 \n",
      "physical time:1.5, wall time:9.112386465072632,dE:0.2993318231554783 \n",
      "E0=0.6894875820896037\n",
      "physical time:5.0, wall time:29.545504808425903,dE:8.050302177075719e-05 \n",
      "physical time:4.5, wall time:25.634161233901978,dE:0.00028053406396124286 \n",
      "physical time:4.0, wall time:22.454978227615356,dE:0.0014964726336525577 \n",
      "physical time:3.5, wall time:20.570565700531006,dE:0.004924982982854864 \n",
      "physical time:3.0, wall time:16.079061269760132,dE:0.007369636410938648 \n",
      "physical time:2.5, wall time:12.997281312942505,dE:0.015549473382336325 \n",
      "physical time:2.0, wall time:10.639907598495483,dE:0.039604698122607765 \n",
      "physical time:1.5, wall time:8.351218223571777,dE:0.2993318231554783 \n",
      "Imaginary Cooling with T=2\n",
      "8.410345610585271e-08\n",
      "E0=0.6994708097044542\n",
      "physical time:5.0, wall time:32.00240874290466,dE:2.1982895860593756 \n",
      "E0=0.6994708097044542\n",
      "physical time:5.0, wall time:32.12797689437866,dE:2.1982895860593756 \n",
      "Imaginary Cooling with T=2\n"
     ]
    },
    {
     "name": "stderr",
     "output_type": "stream",
     "text": [
      "E:\\Physics\\quantum-fermion-theories\\mmf-hfb\\Docs\\..\\mmf_hfb\\BCSCooling.py:423: RuntimeWarning: overflow encountered in square\n",
      "  return sum(np.abs(psis)**2)\n",
      "E:\\Physics\\quantum-fermion-theories\\mmf-hfb\\Docs\\..\\mmf_hfb\\BCSCooling.py:206: RuntimeWarning: invalid value encountered in true_divide\n",
      "  Hpsis = np.array(self.apply_H(psis, V=V))/(1j*self.hbar)\n",
      "E:\\Physics\\quantum-fermion-theories\\mmf-hfb\\Docs\\..\\mmf_hfb\\BCSCooling.py:357: RuntimeWarning: invalid value encountered in multiply\n",
      "  +self.beta_K*Kc_psi + Vd_psis[i] + V_Dyadic_psis[i])\n",
      "E:\\Physics\\quantum-fermion-theories\\mmf-hfb\\Docs\\..\\mmf_hfb\\BCSCooling.py:390: RuntimeWarning: invalid value encountered in cdouble_scalars\n",
      "  Hpsi -= psi.conj().dot(Hpsi)/psi.dot(psi.conj())*psi\n",
      "E:\\Physics\\quantum-fermion-theories\\mmf-hfb\\Docs\\..\\mmf_hfb\\SolverABM.py:89: RuntimeWarning: invalid value encountered in true_divide\n",
      "  self.y = self.N*self.y/math.sqrt(self.y.conj().dot(self.y))\n",
      "E:\\Physics\\quantum-fermion-theories\\mmf-hfb\\Docs\\..\\mmf_hfb\\BCSCooling.py:219: RuntimeWarning: invalid value encountered in true_divide\n",
      "  return Vc/N\n"
     ]
    },
    {
     "name": "stdout",
     "output_type": "stream",
     "text": [
      "nan\n",
      "Imaginary Cooling with T=3\n",
      "nan\n",
      "Imaginary Cooling with T=4\n",
      "nan\n",
      "Imaginary Cooling with T=5\n",
      "nan\n",
      "Imaginary Cooling with T=6\n",
      "nan\n",
      "Imaginary Cooling with T=7\n",
      "nan\n",
      "Imaginary Cooling with T=8\n",
      "nan\n",
      "Imaginary Cooling with T=9\n",
      "nan\n"
     ]
    },
    {
     "ename": "Exception",
     "evalue": "Failed to cool down to ground state.",
     "output_type": "error",
     "traceback": [
      "\u001b[1;31m---------------------------------------------------------------------------\u001b[0m",
      "\u001b[1;31mException\u001b[0m                                 Traceback (most recent call last)",
      "\u001b[1;32m<ipython-input-14-3463e67b9d94>\u001b[0m in \u001b[0;36m<module>\u001b[1;34m\u001b[0m\n\u001b[0;32m      1\u001b[0m \u001b[0mtestCases\u001b[0m \u001b[1;33m=\u001b[0m \u001b[1;33m[\u001b[0m\u001b[1;33m]\u001b[0m\u001b[1;33m\u001b[0m\u001b[1;33m\u001b[0m\u001b[0m\n\u001b[0;32m      2\u001b[0m \u001b[1;32mfor\u001b[0m \u001b[0margs\u001b[0m \u001b[1;32min\u001b[0m \u001b[0mparas\u001b[0m\u001b[1;33m:\u001b[0m\u001b[1;33m\u001b[0m\u001b[1;33m\u001b[0m\u001b[0m\n\u001b[1;32m----> 3\u001b[1;33m     \u001b[0mt\u001b[0m \u001b[1;33m=\u001b[0m \u001b[0mtest_case_worker\u001b[0m\u001b[1;33m(\u001b[0m\u001b[0margs\u001b[0m\u001b[1;33m)\u001b[0m\u001b[1;33m\u001b[0m\u001b[1;33m\u001b[0m\u001b[0m\n\u001b[0m\u001b[0;32m      4\u001b[0m     \u001b[0mt\u001b[0m\u001b[1;33m.\u001b[0m\u001b[0mrun\u001b[0m\u001b[1;33m(\u001b[0m\u001b[1;33m)\u001b[0m\u001b[1;33m\u001b[0m\u001b[1;33m\u001b[0m\u001b[0m\n\u001b[0;32m      5\u001b[0m     \u001b[0mtestCases\u001b[0m\u001b[1;33m.\u001b[0m\u001b[0mappend\u001b[0m\u001b[1;33m(\u001b[0m\u001b[0mt\u001b[0m\u001b[1;33m)\u001b[0m\u001b[1;33m\u001b[0m\u001b[1;33m\u001b[0m\u001b[0m\n",
      "\u001b[1;32m<ipython-input-12-2589a1445ec9>\u001b[0m in \u001b[0;36mtest_case_worker\u001b[1;34m(para)\u001b[0m\n\u001b[0;32m      1\u001b[0m \u001b[1;32mfrom\u001b[0m \u001b[0mmmf_hfb\u001b[0m\u001b[1;33m.\u001b[0m\u001b[0mParallelHelper\u001b[0m \u001b[1;32mimport\u001b[0m \u001b[0mPoolHelper\u001b[0m\u001b[1;33m\u001b[0m\u001b[1;33m\u001b[0m\u001b[0m\n\u001b[0;32m      2\u001b[0m \u001b[1;32mdef\u001b[0m \u001b[0mtest_case_worker\u001b[0m\u001b[1;33m(\u001b[0m\u001b[0mpara\u001b[0m\u001b[1;33m)\u001b[0m\u001b[1;33m:\u001b[0m\u001b[1;33m\u001b[0m\u001b[1;33m\u001b[0m\u001b[0m\n\u001b[1;32m----> 3\u001b[1;33m     \u001b[0mt\u001b[0m \u001b[1;33m=\u001b[0m \u001b[0mTestCase\u001b[0m\u001b[1;33m(\u001b[0m\u001b[1;33m**\u001b[0m\u001b[0mpara\u001b[0m\u001b[1;33m)\u001b[0m\u001b[1;33m\u001b[0m\u001b[1;33m\u001b[0m\u001b[0m\n\u001b[0m\u001b[0;32m      4\u001b[0m     \u001b[0mt\u001b[0m\u001b[1;33m.\u001b[0m\u001b[0mrun\u001b[0m\u001b[1;33m(\u001b[0m\u001b[1;33m)\u001b[0m\u001b[1;33m\u001b[0m\u001b[1;33m\u001b[0m\u001b[0m\n\u001b[0;32m      5\u001b[0m     \u001b[1;32mreturn\u001b[0m \u001b[0mt\u001b[0m\u001b[1;33m\u001b[0m\u001b[1;33m\u001b[0m\u001b[0m\n",
      "\u001b[1;32m<ipython-input-9-1d7682c81ec2>\u001b[0m in \u001b[0;36m__init__\u001b[1;34m(self, V, g, N, dx, eps, psi, max_T, **args)\u001b[0m\n\u001b[0;32m     11\u001b[0m         \u001b[0mself\u001b[0m\u001b[1;33m.\u001b[0m\u001b[0mdx\u001b[0m \u001b[1;33m=\u001b[0m \u001b[0mdx\u001b[0m\u001b[1;33m\u001b[0m\u001b[1;33m\u001b[0m\u001b[0m\n\u001b[0;32m     12\u001b[0m         \u001b[0mself\u001b[0m\u001b[1;33m.\u001b[0m\u001b[0mpsi\u001b[0m \u001b[1;33m=\u001b[0m \u001b[0mpsi\u001b[0m \u001b[1;32mif\u001b[0m \u001b[0mpsi\u001b[0m \u001b[1;32mis\u001b[0m \u001b[1;32mnot\u001b[0m \u001b[1;32mNone\u001b[0m \u001b[1;32melse\u001b[0m \u001b[0mrandom_gaussian_mixing\u001b[0m\u001b[1;33m(\u001b[0m\u001b[0mself\u001b[0m\u001b[1;33m.\u001b[0m\u001b[0mx\u001b[0m\u001b[1;33m)\u001b[0m\u001b[1;33m\u001b[0m\u001b[1;33m\u001b[0m\u001b[0m\n\u001b[1;32m---> 13\u001b[1;33m         \u001b[0mself\u001b[0m\u001b[1;33m.\u001b[0m\u001b[0mpsi0\u001b[0m \u001b[1;33m=\u001b[0m \u001b[0mself\u001b[0m\u001b[1;33m.\u001b[0m\u001b[0mget_ground_state\u001b[0m\u001b[1;33m(\u001b[0m\u001b[1;33m)\u001b[0m\u001b[1;33m\u001b[0m\u001b[1;33m\u001b[0m\u001b[0m\n\u001b[0m\u001b[0;32m     14\u001b[0m \u001b[1;33m\u001b[0m\u001b[0m\n\u001b[0;32m     15\u001b[0m     \u001b[1;32mdef\u001b[0m \u001b[0mget_ground_state\u001b[0m\u001b[1;33m(\u001b[0m\u001b[0mself\u001b[0m\u001b[1;33m)\u001b[0m\u001b[1;33m:\u001b[0m\u001b[1;33m\u001b[0m\u001b[1;33m\u001b[0m\u001b[0m\n",
      "\u001b[1;32m<ipython-input-9-1d7682c81ec2>\u001b[0m in \u001b[0;36mget_ground_state\u001b[1;34m(self)\u001b[0m\n\u001b[0;32m     33\u001b[0m                 \u001b[1;32mif\u001b[0m \u001b[0mabs\u001b[0m\u001b[1;33m(\u001b[0m\u001b[1;33m(\u001b[0m\u001b[0mE2\u001b[0m \u001b[1;33m-\u001b[0m \u001b[0mE1\u001b[0m\u001b[1;33m)\u001b[0m\u001b[1;33m/\u001b[0m\u001b[0mE1\u001b[0m\u001b[1;33m)\u001b[0m\u001b[1;33m<\u001b[0m\u001b[1;36m1e-5\u001b[0m\u001b[1;33m:\u001b[0m\u001b[1;33m\u001b[0m\u001b[1;33m\u001b[0m\u001b[0m\n\u001b[0;32m     34\u001b[0m                     \u001b[1;32mreturn\u001b[0m \u001b[0mpsis\u001b[0m\u001b[1;33m[\u001b[0m\u001b[1;33m-\u001b[0m\u001b[1;36m1\u001b[0m\u001b[1;33m]\u001b[0m\u001b[1;33m\u001b[0m\u001b[1;33m\u001b[0m\u001b[0m\n\u001b[1;32m---> 35\u001b[1;33m             \u001b[1;32mraise\u001b[0m \u001b[0mException\u001b[0m\u001b[1;33m(\u001b[0m\u001b[1;34m\"Failed to cool down to ground state.\"\u001b[0m\u001b[1;33m)\u001b[0m\u001b[1;33m\u001b[0m\u001b[1;33m\u001b[0m\u001b[0m\n\u001b[0m\u001b[0;32m     36\u001b[0m \u001b[1;33m\u001b[0m\u001b[0m\n\u001b[0;32m     37\u001b[0m     \u001b[1;32mdef\u001b[0m \u001b[0mrun\u001b[0m\u001b[1;33m(\u001b[0m\u001b[0mself\u001b[0m\u001b[1;33m)\u001b[0m\u001b[1;33m:\u001b[0m\u001b[1;33m\u001b[0m\u001b[1;33m\u001b[0m\u001b[0m\n",
      "\u001b[1;31mException\u001b[0m: Failed to cool down to ground state."
     ]
    }
   ],
   "source": [
    "testCases = []\n",
    "for args in paras:\n",
    "    t = test_case_worker(args)\n",
    "    t.run()\n",
    "    testCases.append(t)"
   ]
  },
  {
   "cell_type": "code",
   "execution_count": 16,
   "metadata": {},
   "outputs": [],
   "source": [
    "t0 = testCases[0]"
   ]
  },
  {
   "cell_type": "code",
   "execution_count": 19,
   "metadata": {},
   "outputs": [
    {
     "data": {
      "text/plain": [
       "0"
      ]
     },
     "execution_count": 19,
     "metadata": {},
     "output_type": "execute_result"
    }
   ],
   "source": [
    "t0.V"
   ]
  },
  {
   "cell_type": "code",
   "execution_count": 249,
   "metadata": {
    "scrolled": true
   },
   "outputs": [
    {
     "name": "stdout",
     "output_type": "stream",
     "text": [
      "beta_0=1 beta_V=60 beta_K=0 beta_D=0 beta_Y=0\n",
      "0.49999999999999983 11.861186504364014\n",
      "1.3841292128746083%100\n",
      "beta_0=1 beta_V=0 beta_K=0 beta_D=0 beta_Y=1\n",
      "0.49999999999999983 58.09382939338684\n",
      "6733.567722822036%100\n",
      "beta_0=1 beta_V=0 beta_K=0 beta_D=1000 beta_Y=0\n",
      "0.49999999999999983 53.005605936050415\n",
      "200899.2188272922%100\n",
      "beta_0=1 beta_V=0 beta_K=75 beta_D=0 beta_Y=0\n",
      "0.49999999999999983 15.653366804122925\n",
      "17.148426929599825%100\n",
      "beta_0=1 beta_V=0 beta_K=0 beta_D=1000 beta_Y=1\n",
      "0.49999999999999983 77.05473589897156\n",
      "199920.15157483183%100\n",
      "beta_0=1 beta_V=0 beta_K=75 beta_D=0 beta_Y=1\n",
      "0.49999999999999983 31.350701570510864\n",
      "1.6438239497996732%100\n",
      "beta_0=1 beta_V=60 beta_K=0 beta_D=0 beta_Y=1\n",
      "0.49999999999999983 18.840997457504272\n",
      "1.2252863424865765%100\n",
      "beta_0=1 beta_V=0 beta_K=75 beta_D=1000 beta_Y=0\n",
      "0.49999999999999983 82.35269141197205\n",
      "193850.78288054705%100\n",
      "beta_0=1 beta_V=60 beta_K=0 beta_D=1000 beta_Y=0\n",
      "0.49999999999999983 68.82430815696716\n",
      "200899.21882729218%100\n",
      "beta_0=1 beta_V=60 beta_K=75 beta_D=0 beta_Y=0\n",
      "0.49999999999999983 19.93890404701233\n",
      "5.7404811493692955%100\n",
      "beta_0=1 beta_V=0 beta_K=75 beta_D=1000 beta_Y=1\n",
      "0.49999999999999983 108.17673993110657\n",
      "199547.49895403377%100\n",
      "beta_0=1 beta_V=60 beta_K=0 beta_D=1000 beta_Y=1\n",
      "0.49999999999999983 94.86040687561035\n",
      "199006.71657093475%100\n",
      "beta_0=1 beta_V=60 beta_K=75 beta_D=0 beta_Y=1\n",
      "0.49999999999999983 26.650401830673218\n",
      "5.638807233342317%100\n",
      "beta_0=1 beta_V=60 beta_K=75 beta_D=1000 beta_Y=0\n",
      "0.49999999999999983 98.89720702171326\n",
      "193832.40821930813%100\n",
      "beta_0=1 beta_V=60 beta_K=75 beta_D=1000 beta_Y=1\n",
      "0.49999999999999983 123.4620509147644\n",
      "198043.9058487426%100\n"
     ]
    }
   ],
   "source": [
    "def show_des(t):\n",
    "    b = t.b\n",
    "    print(f\"beta_0={b.beta_0} beta_V={b.beta_V} beta_K={b.beta_K} beta_D={b.beta_D} beta_Y={b.beta_Y}\")\n",
    "    print(t.E0, t.wall_time)\n",
    "    print(f\"{t.dE*100/t.E0}%100\")\n",
    "    \n",
    "for t in testCases:\n",
    "    show_des(t)"
   ]
  },
  {
   "cell_type": "code",
   "execution_count": 246,
   "metadata": {},
   "outputs": [],
   "source": [
    "def test_cooling(plot_dE=True, use_ABM=False, T=0.5, plt_log=True, **args):   \n",
    "    b = BCSCooling(**args)\n",
    "    solver = ABMEvolverAdapter if use_ABM else None\n",
    "    h0 = HarmonicOscillator(w=1)\n",
    "    h = HarmonicOscillator()\n",
    "    da, db=b.divs    \n",
    "    x = b.xyz[0]\n",
    "    V = x**2/2\n",
    "    H0 = b._get_H(mu_eff=0, V=0)\n",
    "    H1 = b._get_H(mu_eff=0, V=V)\n",
    "    U0, E0 = b.get_U_E(H0, transpose=True)\n",
    "    U1, E1 = b.get_U_E(H1, transpose=True)\n",
    "    psi0 = h.get_wf(x)\n",
    "    psi0 = U1[0]\n",
    "    psi0 = Normalize(psi0, dx=b.dx)\n",
    "    psi = h0.get_wf(x, n=2)\n",
    "    psi = random_gaussian_mixing(x) # U0[1]\n",
    "    psi = Normalize(psi, dx=b.dx)\n",
    "    #b.erase_max_ks()\n",
    "    plt.figure(figsize=(10,5))\n",
    "    plt.subplot(121)\n",
    "    N0 = psi0.conj().dot(psi0)\n",
    "    ts, psiss = b.solve([psi], T=T, rtol=1e-5, atol=1e-6, V=V, solver=solver, method='BDF')\n",
    "    E0, _ = b.get_E_Ns([psi0], V=V)\n",
    "    Es = [b.get_E_Ns([_psi], V=V)[0] for _psi in psiss[0]]   \n",
    "    plt.plot(x, Prob(psiss[0][0]), \"+\", label='init')\n",
    "    plt.plot(x, Prob(psiss[0][-1]), '--',label=\"final\")\n",
    "    plt.plot(x, Prob(psi0), label='Ground')\n",
    "    plt.legend()\n",
    "    plt.subplot(122)\n",
    "    if plt_log:\n",
    "        plt.semilogy(ts[0][:-2], (Es[:-2] - E0)/abs(E0), label=\"E\")\n",
    "    else:\n",
    "        plt.plot(ts[0][:-2], (Es[:-2] - E0)/abs(E0), label=\"E\")\n",
    "    if plot_dE:\n",
    "        dE_dt= [-1*b.get_dE_dt([_psi], V=V) for _psi in psiss[0]]\n",
    "        plt.plot(ts[0][:-2], dE_dt[:-2], label='-dE/dt')\n",
    "        plt.axhline(0, linestyle='dashed')\n",
    "    plt.legend()\n",
    "    plt.axhline(0, linestyle='dashed')\n",
    "    plt.show()    \n",
    "    return psiss[0][-1]"
   ]
  },
  {
   "cell_type": "code",
   "execution_count": 204,
   "metadata": {},
   "outputs": [
    {
     "data": {
      "image/png": "[encoded data removed]",
      "text/plain": [
       "<Figure size 720x360 with 2 Axes>"
      ]
     },
     "metadata": {
      "needs_background": "light"
     },
     "output_type": "display_data"
    },
    {
     "name": "stdout",
     "output_type": "stream",
     "text": [
      "Wall time: 23.6 s\n"
     ]
    }
   ],
   "source": [
    "%%time \n",
    "args = dict(N=N, dx=dx,beta_V=beta_V, beta_K=0,  beta_D=0, beta_Y=0, T=5, divs=(1, 1), use_ABM=True, plt_log=True, check_dE=False)\n",
    "psi = test_cooling(plot_dE=False, **args)"
   ]
  },
  {
   "cell_type": "code",
   "execution_count": 138,
   "metadata": {},
   "outputs": [],
   "source": [
    "def test_cooling(plot_dE=True, use_ABM=False, T=0.5, **args):   \n",
    "    b = BCSCooling(**args)\n",
    "    solver = ABMEvolverAdapter if use_ABM else None\n",
    "    h0 = HarmonicOscillator(w=1)\n",
    "    h = HarmonicOscillator()\n",
    "    da, db=b.divs    \n",
    "    x = b.xyz[0]\n",
    "    V = x**2/2\n",
    "    H0 = b._get_H(mu_eff=0, V=0)\n",
    "    H1 = b._get_H(mu_eff=0, V=V)\n",
    "    U0, E0 = b.get_U_E(H0, transpose=True)\n",
    "    U1, E1 = b.get_U_E(H1, transpose=True)\n",
    "    psi0 = h.get_wf(x)\n",
    "    psi0 = U1[0]\n",
    "    psi0 = Normalize(psi0, dx=b.dx)\n",
    "    psi = h0.get_wf(x, n=2)\n",
    "    psi = random_gaussian_mixing(x) # U0[1]\n",
    "    psi = Normalize(psi, dx=b.dx)\n",
    "    #b.erase_max_ks()\n",
    "    plt.figure(figsize=(10,5))\n",
    "    plt.subplot(1,2,1)\n",
    "    N0 = psi0.conj().dot(psi0)\n",
    "    ts, psiss = b.solve([psi], T=T, rtol=1e-5, atol=1e-6, V=V,solver=solver, method='BDF')\n",
    "    E0, _ = b.get_E_Ns([psi0], V=V)\n",
    "    Es = [b.get_E_Ns([_psi], V=V)[0] for _psi in psiss[0]]   \n",
    "    plt.plot(x, Prob(psiss[0][0]), \"+\", label='init')\n",
    "    plt.plot(x, Prob(psiss[0][-1]), '--',label=\"final\")\n",
    "    plt.plot(x, Prob(psi0), label='Ground')\n",
    "    plt.legend()\n",
    "    plt.subplot(1,2,2)\n",
    "    plt.semilogy(ts[0][:-2], (Es[:-2] - E0)/abs(E0), label=\"E\")\n",
    "    if plot_dE:\n",
    "        dE_dt= [-1*b.get_dE_dt([_psi], V=V) for _psi in psiss[0]]\n",
    "        plt.plot(ts[0][:-2], dE_dt[:-2], label='-dE/dt')\n",
    "        plt.axhline(0, linestyle='dashed')\n",
    "    plt.legend()\n",
    "    plt.axhline(0, linestyle='dashed')\n",
    "    plt.show()    \n",
    "    return psiss[0][-1]"
   ]
  },
  {
   "cell_type": "code",
   "execution_count": 115,
   "metadata": {
    "scrolled": true
   },
   "outputs": [
    {
     "data": {
      "image/png": "[encoded data removed]",
      "text/plain": [
       "<Figure size 720x360 with 2 Axes>"
      ]
     },
     "metadata": {
      "needs_background": "light"
     },
     "output_type": "display_data"
    },
    {
     "name": "stdout",
     "output_type": "stream",
     "text": [
      "Wall time: 30.3 s\n"
     ]
    }
   ],
   "source": [
    "%%time \n",
    "args = dict(N=N, dx=dx, beta_0=1, beta_K=130, beta_V=0, beta_D=0, beta_Y=0, T=5, divs=(1, 1), use_ABM=True, check_dE=False)\n",
    "psi = test_cooling(plot_dE=False, **args)"
   ]
  },
  {
   "cell_type": "code",
   "execution_count": 80,
   "metadata": {},
   "outputs": [],
   "source": [
    "def Cooling(plot_dE=True, use_ABM=False, T=0.5, **args):\n",
    "    b = BCSCooling(**args)\n",
    "    solver = ABMEvolverAdapter if use_ABM else None\n",
    "    h0 = HarmonicOscillator(w=1)\n",
    "    h = HarmonicOscillator()\n",
    "    da, db=b.divs    \n",
    "    x = b.xyz[0]\n",
    "    V =  x**2/2\n",
    "    psi_0 = Normalize(np.sqrt(1.0 + 0.2*x*np.exp(-x**2)))\n",
    "    plt.figure(figsize=(10,5))\n",
    "    plt.subplot(1,2,1)\n",
    "    ts, psiss = b.solve([psi_0], T=T, rtol=1e-5, atol=1e-6, V=V,solver=solver, method='BDF')\n",
    "    psi0 = h0.get_wf(x=x, n=0)\n",
    "    N0 = psi0.conj().dot(psi0)\n",
    "    Ns = [_psi.conj().dot(_psi) for _psi in psiss[0]]\n",
    "    E0, _ = b.get_E_Ns([psi0], V=V)\n",
    "    Es = [b.get_E_Ns([_psi], V=V)[0] for _psi in psiss[0]]\n",
    "    dE_dt= [-1*b.get_dE_dt([_psi], V=V) for _psi in psiss[0]]\n",
    "    plt.plot(x, Prob(psiss[0][0]), \"+\", label='init')\n",
    "    plt.plot(x, Prob(psiss[0][-1]), '--',label=\"final\")\n",
    "    plt.plot(x, Prob(psi0), label='Ground')\n",
    "    plt.legend()\n",
    "    plt.subplot(1,2,2)\n",
    "    plt.semilogy(ts[0][:-2], (Es[:-2] - E0)/abs(E0), label=\"E\")\n",
    "    if plot_dE:\n",
    "        plt.plot(ts[0][:-2], dE_dt[:-2], label='-dE/dt')\n",
    "        plt.axhline(0, linestyle='dashed')\n",
    "    plt.legend()\n",
    "    plt.axhline(0, linestyle='dashed')\n",
    "    plt.show()    \n",
    "    return psiss[0][-1]"
   ]
  },
  {
   "cell_type": "code",
   "execution_count": 81,
   "metadata": {},
   "outputs": [
    {
     "data": {
      "image/png": "[encoded data removed]",
      "text/plain": [
       "<Figure size 720x360 with 2 Axes>"
      ]
     },
     "metadata": {
      "needs_background": "light"
     },
     "output_type": "display_data"
    },
    {
     "name": "stdout",
     "output_type": "stream",
     "text": [
      "Wall time: 17 s\n"
     ]
    }
   ],
   "source": [
    "%%time \n",
    "args = dict(N=128, dx=0.1,beta_0=-1j, beta_K=0, beta_V=0, beta_D=0, beta_Y=0, T=5, divs=(1, 1), use_ABM=True, check_dE=False)\n",
    "psi = Cooling(plot_dE=False, **args)"
   ]
  },
  {
   "cell_type": "code",
   "execution_count": 6,
   "metadata": {},
   "outputs": [],
   "source": [
    "args = dict(N=4, g=1)\n",
    "egs = [BCSCooling(beta_0=-1j, beta_V=0.0, beta_K=0.0, **args),\n",
    "       BCSCooling(beta_0=0.0, beta_V=0.0, beta_K=1.0, **args),\n",
    "       BCSCooling(beta_0=1.0, beta_V=0.0, beta_K=1.0, **args),      \n",
    "       BCSCooling(beta_0=0.0, beta_V=1.0, beta_K=0.0, **args),\n",
    "       BCSCooling(beta_0=1.0, beta_V=1.0, beta_K=0.0, **args),\n",
    "       BCSCooling(beta_0=0.0, beta_V=1.0, beta_K=1.0, **args),\n",
    "       BCSCooling(beta_0=1.0, beta_V=1.0, beta_K=1.0, **args)]\n",
    "labels = ['Imaginary Time',\n",
    "          'K', 'H+K',\n",
    "          'V', 'H+V',\n",
    "          'V+K', 'H+V+K']\n",
    "eg = egs[0]\n",
    "psi0 = 2*(np.random.random(eg.Nxyz[0]) + 1j*np.random.random(eg.Nxyz[0]) - 0.5 - 0.5j)\n",
    "V = np.array(psi0)*0\n",
    "x=egs[0].xyz[0]\n",
    "#psi0 = 0*x + 1.5 + 1.5*np.exp(-x**2/2)\n",
    "psi_ground = 0*psi0 + np.sqrt((abs(psi0)**2).mean())\n",
    "E0, N0 = eg.get_E_Ns([psi_ground], V=V)\n",
    "Es = [[] for _n in range(len(egs))]\n",
    "psis = [psi0.copy() for _n in range(len(egs))]\n",
    "t_max = 3.0\n",
    "Nstep = 4\n",
    "Ndata = int(np.round(t_max/eg.dt/Nstep))\n",
    "ts = np.arange(Ndata)*Nstep*eg.dt\n",
    "for _n in range(Ndata):\n",
    "    for n, eg in enumerate(egs):\n",
    "        ps = [psis[n]]\n",
    "        ps = eg.step(psis=ps, n=Nstep, V=V)\n",
    "        psis[n] = ps[0]\n",
    "        E, N = eg.get_E_Ns(psis=ps, V=V) \n",
    "        Es[n].append(E/E0 - 1.0)\n",
    "Es = np.asarray(Es)"
   ]
  },
  {
   "cell_type": "code",
   "execution_count": 7,
   "metadata": {},
   "outputs": [
    {
     "name": "stderr",
     "output_type": "stream",
     "text": [
      "c:\\users\\chunde\\appdata\\local\\programs\\python\\python37\\lib\\site-packages\\numpy\\core\\numeric.py:538: ComplexWarning: Casting complex values to real discards the imaginary part\n",
      "  return array(a, dtype, copy=False, order=order)\n"
     ]
    },
    {
     "data": {
      "text/plain": [
       "<matplotlib.legend.Legend at 0x251dd49b748>"
      ]
     },
     "execution_count": 7,
     "metadata": {},
     "output_type": "execute_result"
    },
    {
     "data": {
      "image/png": "[encoded data removed]",
      "text/plain": [
       "<Figure size 432x288 with 1 Axes>"
      ]
     },
     "metadata": {
      "needs_background": "light"
     },
     "output_type": "display_data"
    }
   ],
   "source": [
    "plt.semilogy(ts, Es[1], c='C0', ls=':', label=labels[1])\n",
    "plt.semilogy(ts, Es[2], c='C0', ls='-', label=labels[2])\n",
    "plt.semilogy(ts, Es[3], c='C1', ls=':', label=labels[3])\n",
    "plt.semilogy(ts, Es[4], c='C1', ls='-', label=labels[4])\n",
    "plt.semilogy(ts, Es[5], c='C2', ls=':', label=labels[5])\n",
    "plt.semilogy(ts, Es[6], c='C2', ls='-', label=labels[6])\n",
    "plt.semilogy(ts, Es[0], c='k', ls='-', label=labels[0], scaley=False)\n",
    "plt.xlabel(\"t\")\n",
    "plt.ylabel(\"E-E0\")\n",
    "plt.legend()"
   ]
  },
  {
   "cell_type": "code",
   "execution_count": null,
   "metadata": {},
   "outputs": [],
   "source": []
  }
 ],
 "metadata": {
  "jupytext": {
   "formats": "ipynb,py:light"
  },
  "kernelspec": {
   "display_name": "Python 3",
   "language": "python",
   "name": "python3"
  },
  "language_info": {
   "codemirror_mode": {
    "name": "ipython",
    "version": 3
   },
   "file_extension": ".py",
   "mimetype": "text/x-python",
   "name": "python",
   "nbconvert_exporter": "python",
   "pygments_lexer": "ipython3",
   "version": "3.7.2"
  }
 },
 "nbformat": 4,
 "nbformat_minor": 2
}
