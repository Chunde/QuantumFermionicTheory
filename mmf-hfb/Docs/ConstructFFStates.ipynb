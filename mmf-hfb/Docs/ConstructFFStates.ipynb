{
 "cells": [
  {
   "cell_type": "markdown",
   "metadata": {},
   "source": [
    "# Construct FF States"
   ]
  },
  {
   "cell_type": "code",
   "execution_count": null,
   "metadata": {},
   "outputs": [],
   "source": [
    "import mmf_setup;mmf_setup.nbinit()\n",
    "%pylab inline --no-import-all\n",
    "from nbimports import * \n",
    "from mmf_hfb import tf_completion as tf\n",
    "from mmf_hfb.FuldeFerrelState import FFState\n",
    "import itertools\n",
    "from mmfutils.plot import imcontourf\n",
    "tf.MAX_DIVISION = 200\n",
    "plt.figure(figsize(10,4))\n",
    "clear_output()"
   ]
  },
  {
   "cell_type": "markdown",
   "metadata": {},
   "source": [
    "* For a FF state, the ground state should have zero overall current:\n",
    "$$\n",
    "n_a (q + \\delta q) + n_b(q-\\delta q) = 0\n",
    "$$\n",
    "which means:\n",
    "$$\n",
    "\\frac{n_a}{n_b}=\\frac{\\delta q - q}{\\delta q +q}\n",
    "$$\n",
    "Let $n_a/n_b=r$, then\n",
    "$$\n",
    "\\frac{\\delta q}{q}=\\frac{1 + r}{1-r}=\\frac{n_a+n_b}{n_b-n_a}\n",
    "$$"
   ]
  },
  {
   "cell_type": "markdown",
   "metadata": {},
   "source": [
    "## 1D case\n",
    "* $d\\mu > \\Delta$ to have densities inbalance\n",
    "* set $bStateSentinel$ to True so the code will check if a valid solution to $\\Delta$ is found."
   ]
  },
  {
   "cell_type": "code",
   "execution_count": null,
   "metadata": {
    "scrolled": false
   },
   "outputs": [],
   "source": [
    "delta = 1\n",
    "mu = 2 * delta\n",
    "dmu = 1.5\n",
    "ff = FFState(mu=mu, dmu=dmu, delta=delta, dim=1, k_c=100,fix_g=True, bStateSentinel=True)"
   ]
  },
  {
   "cell_type": "markdown",
   "metadata": {},
   "source": [
    "* Check for densities\n",
    "* $q$ and $\\delta q$ can not be too large as there would be no solution to delta"
   ]
  },
  {
   "cell_type": "markdown",
   "metadata": {},
   "source": [
    "### Compute the densities"
   ]
  },
  {
   "cell_type": "code",
   "execution_count": null,
   "metadata": {},
   "outputs": [],
   "source": [
    "ns = ff.get_densities(mu=mu, dmu=dmu)\n",
    "na, nb = ns[0].n, ns[1].n"
   ]
  },
  {
   "cell_type": "markdown",
   "metadata": {},
   "source": [
    "### Fix $d\\mu$ and $g$\n",
    "* also fix $n_a/n_b$, while changing $\\mu$"
   ]
  },
  {
   "cell_type": "code",
   "execution_count": null,
   "metadata": {},
   "outputs": [],
   "source": [
    "r = na/nb\n",
    "k = 0.01 # select a scaling factor, start with small number"
   ]
  },
  {
   "cell_type": "code",
   "execution_count": null,
   "metadata": {},
   "outputs": [],
   "source": [
    "q, dq = (nb-na)*k, (na+nb)*k\n",
    "mus = np.linspace(-0.2,0.5,100) * 10 + mu\n",
    "ss = [ff.check_superfluidity(mu=mu, dmu=dmu, q=q, dq=dq) for mu in mus]\n",
    "plt.plot(mus,ss)"
   ]
  },
  {
   "cell_type": "code",
   "execution_count": null,
   "metadata": {},
   "outputs": [],
   "source": [
    "na * (q+dq) + nb*(q-dq)"
   ]
  },
  {
   "cell_type": "code",
   "execution_count": null,
   "metadata": {},
   "outputs": [],
   "source": [
    "mus = np.linspace(1.75,2.3,20) \n",
    "ns = [ ff.get_densities(mu=mu, dmu=dmu, q=q, dq=dq) for mu in mus]"
   ]
  },
  {
   "cell_type": "code",
   "execution_count": null,
   "metadata": {},
   "outputs": [],
   "source": [
    "rs = [n[0].n/n[1].n for n in ns]\n",
    "plt.axhline(r)\n",
    "plt.axvline(mu)\n",
    "plt.plot(mus, rs,'--', c='r')"
   ]
  },
  {
   "cell_type": "markdown",
   "metadata": {},
   "source": [
    "### Solve the $\\mu$ with the same density ratio"
   ]
  },
  {
   "cell_type": "code",
   "execution_count": null,
   "metadata": {},
   "outputs": [],
   "source": [
    "from scipy.optimize import brentq\n",
    "\n",
    "def f_mu(x):\n",
    "    ns = ff.get_densities(mu=x, dmu=dmu, q=q, dq=dq)\n",
    "    return ns[0].n/ns[1].n - r\n",
    "mu1 = brentq(f_mu, 2, 2.3)\n",
    "mu1"
   ]
  },
  {
   "cell_type": "markdown",
   "metadata": {},
   "source": [
    "### Check the current, should be zero"
   ]
  },
  {
   "cell_type": "code",
   "execution_count": null,
   "metadata": {
    "scrolled": true
   },
   "outputs": [],
   "source": [
    "j=ff.get_current(mu=mu1, dmu=dmu, q=q, dq=dq).n\n",
    "print(na, nb, j)\n",
    "assert na != nb\n",
    "assert np.allclose(j, 0)"
   ]
  },
  {
   "cell_type": "markdown",
   "metadata": {},
   "source": [
    "### Check Pressure\n",
    "* We just construct a FF ground state, now check the pressure"
   ]
  },
  {
   "cell_type": "code",
   "execution_count": null,
   "metadata": {},
   "outputs": [],
   "source": [
    "ff.get_pressure(mu=mu, dmu=dmu, q=q,dq=dq),ff.get_pressure(mu=mu, dmu=dmu, q=q,dq=dq, delta=0)"
   ]
  },
  {
   "cell_type": "markdown",
   "metadata": {},
   "source": [
    "* However, the normal state win in term of pressure\n",
    "* but we have a method to construct FF State, we can move to create a phase diagram"
   ]
  },
  {
   "cell_type": "markdown",
   "metadata": {},
   "source": [
    "## Check the range of  𝑑𝜇  that yields a solution to $\\Delta$"
   ]
  },
  {
   "cell_type": "code",
   "execution_count": null,
   "metadata": {},
   "outputs": [],
   "source": [
    "dmus = np.linspace(-1,1,30) * 0.1 * dmu + dmu\n",
    "states = [ff.check_superfluidity(mu=mu, dmu=dmu) for dmu in dmus]\n",
    "plt.plot(dmus, states)\n",
    "plt.axvline(dmu)"
   ]
  },
  {
   "cell_type": "markdown",
   "metadata": {},
   "source": [
    "## Check how $g$ changes with $d\\mu$"
   ]
  },
  {
   "cell_type": "markdown",
   "metadata": {},
   "source": [
    "$$\n",
    "\\frac{1}{g} = -\\frac{1}{2}\\int \\frac{d{k}}{2\\pi}\\frac{1}{E_k}\\bigl(f(\\omega_-)-f(\\omega_+)\\bigr).\n",
    "$$\n",
    "* So $g$ would not change until dmu exceeds the gap, where the occupancy change\n",
    "* Does not look exact"
   ]
  },
  {
   "cell_type": "code",
   "execution_count": null,
   "metadata": {
    "scrolled": false
   },
   "outputs": [],
   "source": [
    "dmus = np.linspace(-1.2 * delta, 1.2 * delta, 40)\n",
    "gs = [ff.get_g(mu=mu * 2, dmu=dmu, delta=delta, k_c=200) for dmu in dmus]\n",
    "plt.plot(dmus, gs,'--')\n",
    "plt.axvline(delta)\n",
    "plt.axvline(-delta)"
   ]
  },
  {
   "cell_type": "code",
   "execution_count": null,
   "metadata": {
    "scrolled": true
   },
   "outputs": [],
   "source": [
    "dmus = np.linspace(-1.2 * delta, 1.2 * delta, 40)\n",
    "gs = [ff.get_g(mu=mu * 5, dmu=dmu, delta=delta, k_c=200) for dmu in dmus]\n",
    "plt.plot(dmus, gs,'--')\n",
    "plt.axvline(delta)\n",
    "plt.axvline(-delta)"
   ]
  },
  {
   "cell_type": "code",
   "execution_count": null,
   "metadata": {},
   "outputs": [],
   "source": [
    "dmus = np.linspace(-1.2 * delta, 1.2 * delta, 40)\n",
    "gs = [ff.get_g(mu=mu * 2, dmu=dmu, delta=0.5* delta, k_c=200) for dmu in dmus]\n",
    "plt.plot(dmus, gs,'--')\n",
    "plt.axvline(delta)\n",
    "plt.axvline(-delta)"
   ]
  },
  {
   "cell_type": "markdown",
   "metadata": {},
   "source": [
    "## Fixed the ratio of $q$ and $\\delta q$\n",
    "* Change the $q$ and $\\delta q$ with fix $\\frac{q}{\\delta q}$\n",
    "* Issue: can't find a solution with zero net current"
   ]
  },
  {
   "cell_type": "code",
   "execution_count": null,
   "metadata": {
    "scrolled": true
   },
   "outputs": [],
   "source": [
    "dmu = 1.5\n",
    "na, nb = ff.get_densities(mu=mu, dmu=dmu)\n",
    "na, nb=na.n, nb.n\n",
    "print(na, nb)\n",
    "scale = 0.01\n",
    "ks = np.linspace(-scale,scale, 40)\n",
    "r = na/nb\n",
    "dns = []\n",
    "js = []\n",
    "for k in ks:\n",
    "    q, dq = (1 + r)*k, (1 - r)*k\n",
    "    na_, nb_ = ff.get_densities(mu=mu, dmu=dmu, q=q, dq=dq)\n",
    "    na_, nb_ = na_.n, nb_.n\n",
    "    dn = np.sqrt((na - na_)**2 + (nb - nb_)**2)\n",
    "    j = na_ * (q + dq) + nb_ * (q-dq)\n",
    "    dns.append(dn)\n",
    "    js.append(j)\n",
    "plt.plot(ks, dns)\n",
    "plt.plot(ks, js)\n",
    "plt.axvline(0)"
   ]
  },
  {
   "cell_type": "markdown",
   "metadata": {},
   "source": [
    "## Use Minimize Routine\n",
    "* Issue: different initial guess would yield different results"
   ]
  },
  {
   "cell_type": "code",
   "execution_count": null,
   "metadata": {},
   "outputs": [],
   "source": [
    "import scipy.optimize as optimize\n",
    "ff = FFState(mu=mu, dmu=dmu, delta=delta,dim=1, k_c=200,fix_g=True)\n",
    "def fun(para):\n",
    "    q, dq=para\n",
    "    return -ff.get_pressure(mu=mu, dmu=dmu, q=q, dq=dq).n"
   ]
  },
  {
   "cell_type": "code",
   "execution_count": null,
   "metadata": {
    "scrolled": true
   },
   "outputs": [],
   "source": [
    "initial_guess = (0.5,.8)\n",
    "result = optimize.minimize(fun, initial_guess)\n",
    "if result.success:\n",
    "    fitted_params = result.x\n",
    "    print(fitted_params)\n",
    "else:\n",
    "    raise ValueError(result.message)"
   ]
  },
  {
   "cell_type": "markdown",
   "metadata": {},
   "source": [
    "## Plots of $f_a$, $f_b$, $f_\\nu$"
   ]
  },
  {
   "cell_type": "code",
   "execution_count": null,
   "metadata": {},
   "outputs": [],
   "source": [
    "%pylab inline --no-import-all\n",
    "from ipywidgets import interact\n",
    "\n",
    "def f(E, T):\n",
    "    \"\"\"Fermi distribution function\"\"\"\n",
    "    T = max(T, 1e-12)\n",
    "    return 1./(1+np.exp(E/T))\n",
    "\n",
    "\n",
    "@interact(delta=(0, 1, 0.1), \n",
    "          mu_eF=(0, 2, 0.1),\n",
    "          dmu=(-0.4, 0.4, 0.01),\n",
    "          T=(0, 0.1, 0.01))\n",
    "def go(delta=0.1, mu_eF=1.0, dmu=0.0, T=0.02):\n",
    "    k = np.linspace(0, 1.4, 100)\n",
    "    hbar = m = kF = 1.0\n",
    "    eF = (hbar*kF)**2/2/m\n",
    "    mu = mu_eF*eF\n",
    "    #dmu = dmu_delta*delta\n",
    "    mu_a, mu_b = mu + dmu, mu - dmu\n",
    "    e_a, e_b = (hbar*k)**2/2/m - mu_a, (hbar*k)**2/2/m - mu_b\n",
    "    e_p, e_m = (e_a + e_b)/2, (e_a - e_b)/2\n",
    "    E = np.sqrt(e_p**2+abs(delta)**2)\n",
    "    w_p, w_m = e_m + E, e_m - E\n",
    "    \n",
    "    # Occupation numbers\n",
    "    f_p = 1 - e_p/E*(f(w_m, T) - f(w_p, T))\n",
    "    f_m = f(w_p, T) - f(-w_m, T)\n",
    "    f_a, f_b = (f_p+f_m)/2, (f_p-f_m)/2\n",
    "    f_nu = f(w_m, T) - f(w_p, T)\n",
    "    plt.subplot(211);plt.grid()\n",
    "    plt.plot(k/kF, f_a, label='a')\n",
    "    plt.plot(k/kF, f_b, label='b')\n",
    "    plt.plot(k/kF, f_nu, label=r'$\\nu$');plt.legend()\n",
    "    plt.ylabel('n')\n",
    "    plt.subplot(212);plt.grid()\n",
    "    plt.plot(k/kF, w_p/eF, k/kF, w_m/eF)\n",
    "    plt.xlabel('$k/k_F$')\n",
    "    plt.ylabel(r'$\\omega_{\\pm}/\\epsilon_F$')\n",
    "    plt.axhline(0, c='y')"
   ]
  },
  {
   "cell_type": "markdown",
   "metadata": {},
   "source": [
    "## Brutal Method"
   ]
  },
  {
   "cell_type": "code",
   "execution_count": null,
   "metadata": {},
   "outputs": [],
   "source": [
    "def case_1d(mu_delta=5, dmu_delta=3, q_delta = 0.5, dq_q=1, dq1_q=-3, dq2_q=3, delta=1, dim = 1, k_c=200):\n",
    "    plt.figure(figsize(10,5))\n",
    "    mu = mu_delta * delta\n",
    "    dmu = dmu_delta * delta\n",
    "    q = q_delta * delta\n",
    "    dqs = np.linspace(dq1_q, dq2_q, 40) * q\n",
    "    ff = FFState(mu=mu, dmu=dmu, delta=delta,q=q, dq=dq_q * q, dim=dim, k_c=k_c,fix_g=True)\n",
    "    states =[ff.check_superfluidity(mu=mu, dmu=dmu, q=q, dq=dq) for dq in dqs]\n",
    "    ps =[ff.get_pressure(mu=mu, dmu=dmu, q=q, dq=dq).n for dq in dqs]\n",
    "    plt.subplot(211)\n",
    "    plt.plot(dqs, states,'-', label='States')\n",
    "    plt.legend()\n",
    "    plt.title(f'$\\mu=${mu},d$\\mu$={dmu}, $\\Delta$={delta}, q={q}', fontsize=16)\n",
    "    plt.subplot(212)\n",
    "    plt.plot(dqs, ps, 'o', label='SF Pressure')\n",
    "    ps =[ff.get_pressure(mu=mu, dmu=dmu, q=q, delta=0, dq=dq).n for dq in dqs] # normal states\n",
    "    plt.plot(dqs, ps,'--', label='NS Pressure')\n",
    "    plt.axvline(q)  \n",
    "    plt.xlabel(f'$\\delta q$', fontsize=16)\n",
    "    plt.legend()\n",
    "    na, nb = ff.get_densities(mu=mu, dmu=dmu, q=q, dq=1.4)\n",
    "    return (na.n, nb.n)"
   ]
  },
  {
   "cell_type": "code",
   "execution_count": null,
   "metadata": {},
   "outputs": [],
   "source": [
    "na,nb=case_1d(mu_delta=2, dmu_delta=0.8, q_delta = .55, dq_q=1)"
   ]
  },
  {
   "cell_type": "code",
   "execution_count": null,
   "metadata": {},
   "outputs": [],
   "source": []
  }
 ],
 "metadata": {
  "kernelspec": {
   "display_name": "Python 3",
   "language": "python",
   "name": "python3"
  },
  "language_info": {
   "codemirror_mode": {
    "name": "ipython",
    "version": 3
   },
   "file_extension": ".py",
   "mimetype": "text/x-python",
   "name": "python",
   "nbconvert_exporter": "python",
   "pygments_lexer": "ipython3",
   "version": "3.7.2"
  }
 },
 "nbformat": 4,
 "nbformat_minor": 2
}
