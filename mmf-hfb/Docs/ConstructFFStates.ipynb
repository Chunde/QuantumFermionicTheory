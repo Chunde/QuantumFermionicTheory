{
 "cells": [
  {
   "cell_type": "markdown",
   "metadata": {},
   "source": [
    "# Construct FF States"
   ]
  },
  {
   "cell_type": "code",
   "execution_count": null,
   "metadata": {},
   "outputs": [],
   "source": [
    "import mmf_setup;mmf_setup.nbinit()\n",
    "%pylab inline --no-import-all\n",
    "from nbimports import * \n",
    "from mmf_hfb import tf_completion as tf\n",
    "from mmf_hfb.FuldeFerrelState import FFState\n",
    "import itertools\n",
    "from mmfutils.plot import imcontourf\n",
    "tf.MAX_DIVISION = 200\n",
    "plt.figure(figsize(10,4))\n",
    "clear_output()"
   ]
  },
  {
   "cell_type": "markdown",
   "metadata": {},
   "source": [
    "* For a FF state, the ground state should have zero overall current:\n",
    "$$\n",
    "n_a (q + \\delta q) + n_b(q-\\delta q) = 0\n",
    "$$\n",
    "which means:\n",
    "$$\n",
    "\\frac{n_a}{n_b}=\\frac{\\delta q - q}{\\delta q +q}\n",
    "$$\n",
    "Let $n_a/n_b=r$, then\n",
    "$$\n",
    "\\frac{\\delta q}{q}=\\frac{1 + r}{1-r}=\\frac{n_a+n_b}{n_b-n_a}\n",
    "$$"
   ]
  },
  {
   "cell_type": "code",
   "execution_count": null,
   "metadata": {
    "scrolled": false
   },
   "outputs": [],
   "source": [
    "delta = 1\n",
    "mu = 2 * delta\n",
    "dmu = 0.9\n",
    "ff = FFState(mu=mu, dmu=dmu, delta=delta, dim=1, k_c=100,fix_g=True, bStateSentinel=True)\n",
    "assert ff.bSuperfluidity"
   ]
  },
  {
   "cell_type": "code",
   "execution_count": null,
   "metadata": {},
   "outputs": [],
   "source": [
    "dmus = np.linspace(0.85, 1.1, 20) * dmu\n",
    "fs = [ff.f(mu=mu, dmu=dm, delta=delta) for dm in dmus]\n",
    "plt.plot(dmus, fs)\n",
    "plt.axvline(dmu)"
   ]
  },
  {
   "cell_type": "code",
   "execution_count": null,
   "metadata": {},
   "outputs": [],
   "source": [
    "ff.f(mu=mu, dmu=0.9, delta=delta), ff.f(mu=mu, dmu=0.8, delta=delta), ff.f(mu=mu, dmu=1.2, delta=delta)"
   ]
  },
  {
   "cell_type": "code",
   "execution_count": null,
   "metadata": {},
   "outputs": [],
   "source": [
    "ff.get_densities(mu=mu, dmu=.9)"
   ]
  },
  {
   "cell_type": "markdown",
   "metadata": {},
   "source": [
    "## Check how $g$ changes with $d\\mu$"
   ]
  },
  {
   "cell_type": "markdown",
   "metadata": {},
   "source": [
    "$$\n",
    "\\frac{1}{g} = -\\frac{1}{2}\\int \\frac{\\d{k}}{2\\pi}\\frac{1}{E_k}\\bigl(f(\\omega_-)-f(\\omega_+)\\bigr).\n",
    "$$\n",
    "* So g would not change until dmu exceeds the gap, where the occupancy change"
   ]
  },
  {
   "cell_type": "code",
   "execution_count": null,
   "metadata": {
    "scrolled": true
   },
   "outputs": [],
   "source": [
    "dmus = np.linspace(-1.2 * delta, 1.2 * delta, 40)\n",
    "gs = [ff.get_g(mu=mu, dmu=dmu, delta=delta, k_c=50) for dmu in dmus]\n",
    "plt.plot(dmus, gs,'--')\n",
    "plt.axvline(delta)\n",
    "plt.axvline(-delta)"
   ]
  },
  {
   "cell_type": "code",
   "execution_count": null,
   "metadata": {},
   "outputs": [],
   "source": [
    "dmus = np.linspace(-1.2 * delta, 1.2 * delta, 40)\n",
    "gs = [ff.get_g(mu=mu * 1.2, dmu=dmu * 1.2, delta=delta, k_c=50) for dmu in dmus]\n",
    "plt.plot(dmus, gs,'--')\n",
    "plt.axvline(delta)\n",
    "plt.axvline(-delta)"
   ]
  },
  {
   "cell_type": "markdown",
   "metadata": {},
   "source": [
    "## Check the range of $d\\mu$ that yields superfluid states"
   ]
  },
  {
   "cell_type": "code",
   "execution_count": null,
   "metadata": {
    "scrolled": true
   },
   "outputs": [],
   "source": [
    "dmus = np.linspace(-mu,mu,30)\n",
    "states = [ff.check_superfluidity(mu=mu, dmu=dmu) for dmu in dmus]\n",
    "plt.plot(dmus, states)"
   ]
  },
  {
   "cell_type": "code",
   "execution_count": null,
   "metadata": {},
   "outputs": [],
   "source": [
    "dmu = 1.5\n",
    "na, nb = ff.get_densities(mu=mu, dmu=dmu)\n",
    "na, nb=na.n, nb.n\n",
    "print(na, nb)\n",
    "scale = 0.01\n",
    "ks = np.linspace(-scale,scale, 100)\n",
    "r = na/nb\n",
    "dns = []\n",
    "js = []\n",
    "for k in ks:\n",
    "    q, dq = (1 + r)*k, (1 - r)*k\n",
    "    na_, nb_ = ff.get_densities(mu=mu, dmu=dmu, q=q, dq=dq)\n",
    "    na_, nb_ = na_.n, nb_.n\n",
    "    dn = np.sqrt((na - na_)**2 + (nb - nb_)**2)\n",
    "    j = na_ * (q + dq) + nb_ * (q-dq)\n",
    "    dns.append(dn)\n",
    "    js.append(j)\n",
    "plt.plot(ks, dns)\n",
    "plt.plot(ks, js)\n",
    "plt.axvline(0)"
   ]
  },
  {
   "cell_type": "code",
   "execution_count": null,
   "metadata": {},
   "outputs": [],
   "source": [
    "%pylab inline --no-import-all\n",
    "from ipywidgets import interact\n",
    "\n",
    "def f(E, T):\n",
    "    \"\"\"Fermi distribution function\"\"\"\n",
    "    T = max(T, 1e-12)\n",
    "    return 1./(1+np.exp(E/T))\n",
    "\n",
    "\n",
    "@interact(delta=(0, 1, 0.1), \n",
    "          mu_eF=(0, 2, 0.1),\n",
    "          dmu=(-0.4, 0.4, 0.01),\n",
    "          T=(0, 0.1, 0.01))\n",
    "def go(delta=0.1, mu_eF=1.0, dmu=0.0, T=0.02):\n",
    "    k = np.linspace(0, 1.4, 100)\n",
    "    hbar = m = kF = 1.0\n",
    "    eF = (hbar*kF)**2/2/m\n",
    "    mu = mu_eF*eF\n",
    "    #dmu = dmu_delta*delta\n",
    "    mu_a, mu_b = mu + dmu, mu - dmu\n",
    "    e_a, e_b = (hbar*k)**2/2/m - mu_a, (hbar*k)**2/2/m - mu_b\n",
    "    e_p, e_m = (e_a + e_b)/2, (e_a - e_b)/2\n",
    "    E = np.sqrt(e_p**2+abs(delta)**2)\n",
    "    w_p, w_m = e_m + E, e_m - E\n",
    "    \n",
    "    # Occupation numbers\n",
    "    f_p = 1 - e_p/E*(f(w_m, T) - f(w_p, T))\n",
    "    f_m = f(w_p, T) - f(-w_m, T)\n",
    "    f_a, f_b = (f_p+f_m)/2, (f_p-f_m)/2\n",
    "    f_nu = f(w_m, T) - f(w_p, T)\n",
    "    plt.subplot(211);plt.grid()\n",
    "    plt.plot(k/kF, f_a, label='a')\n",
    "    plt.plot(k/kF, f_b, label='b')\n",
    "    plt.plot(k/kF, f_nu, label=r'$\\nu$');plt.legend()\n",
    "    plt.ylabel('n')\n",
    "    plt.subplot(212);plt.grid()\n",
    "    plt.plot(k/kF, w_p/eF, k/kF, w_m/eF)\n",
    "    plt.xlabel('$k/k_F$')\n",
    "    plt.ylabel(r'$\\omega_{\\pm}/\\epsilon_F$')\n",
    "    plt.axhline(0, c='y')"
   ]
  },
  {
   "cell_type": "markdown",
   "metadata": {},
   "source": [
    "# Brutal Method"
   ]
  },
  {
   "cell_type": "code",
   "execution_count": null,
   "metadata": {},
   "outputs": [],
   "source": []
  }
 ],
 "metadata": {
  "kernelspec": {
   "display_name": "Python 3",
   "language": "python",
   "name": "python3"
  },
  "language_info": {
   "codemirror_mode": {
    "name": "ipython",
    "version": 3
   },
   "file_extension": ".py",
   "mimetype": "text/x-python",
   "name": "python",
   "nbconvert_exporter": "python",
   "pygments_lexer": "ipython3",
   "version": "3.7.2"
  }
 },
 "nbformat": 4,
 "nbformat_minor": 2
}
