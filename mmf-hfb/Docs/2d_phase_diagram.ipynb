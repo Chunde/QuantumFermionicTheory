{
 "cells": [
  {
   "cell_type": "markdown",
   "metadata": {},
   "source": [
    "# 2D Phase Diagram"
   ]
  },
  {
   "cell_type": "code",
   "execution_count": 1,
   "metadata": {},
   "outputs": [
    {
     "data": {
      "text/html": [
       "<style>.grade {\n",
       "   background-color: #66FFCC;\n",
       "}\n",
       "</style>"
      ],
      "text/plain": [
       "<IPython.core.display.HTML object>"
      ]
     },
     "metadata": {},
     "output_type": "display_data"
    },
    {
     "data": {
      "application/javascript": [],
      "text/plain": [
       "<IPython.core.display.Javascript object>"
      ]
     },
     "metadata": {},
     "output_type": "display_data"
    },
    {
     "data": {
      "text/html": [
       "<script id=\"MathJax-Element-48\" type=\"math/tex\">\\newcommand{\\vect}[1]{\\mathbf{#1}}\n",
       "\\newcommand{\\uvect}[1]{\\hat{#1}}\n",
       "\\newcommand{\\abs}[1]{\\lvert#1\\rvert}\n",
       "\\newcommand{\\norm}[1]{\\lVert#1\\rVert}\n",
       "\\newcommand{\\I}{\\mathrm{i}}\n",
       "\\newcommand{\\ket}[1]{\\left|#1\\right\\rangle}\n",
       "\\newcommand{\\bra}[1]{\\left\\langle#1\\right|}\n",
       "\\newcommand{\\braket}[1]{\\langle#1\\rangle}\n",
       "\\newcommand{\\Braket}[1]{\\left\\langle#1\\right\\rangle}\n",
       "\\newcommand{\\op}[1]{\\mathbf{#1}}\n",
       "\\newcommand{\\mat}[1]{\\mathbf{#1}}\n",
       "\\newcommand{\\d}{\\mathrm{d}}\n",
       "\\newcommand{\\pdiff}[3][]{\\frac{\\partial^{#1} #2}{\\partial {#3}^{#1}}}\n",
       "\\newcommand{\\diff}[3][]{\\frac{\\d^{#1} #2}{\\d {#3}^{#1}}}\n",
       "\\newcommand{\\ddiff}[3][]{\\frac{\\delta^{#1} #2}{\\delta {#3}^{#1}}}\n",
       "\\newcommand{\\floor}[1]{\\left\\lfloor#1\\right\\rfloor}\n",
       "\\newcommand{\\ceil}[1]{\\left\\lceil#1\\right\\rceil}\n",
       "\\DeclareMathOperator{\\Tr}{Tr}\n",
       "\\DeclareMathOperator{\\erf}{erf}\n",
       "\\DeclareMathOperator{\\erfi}{erfi}\n",
       "\\DeclareMathOperator{\\sech}{sech}\n",
       "\\DeclareMathOperator{\\sgn}{sgn}\n",
       "\\DeclareMathOperator{\\order}{O}\n",
       "\\DeclareMathOperator{\\diag}{diag}\n",
       "\n",
       "\\newcommand{\\mylabel}[1]{\\label{#1}\\tag{#1}}\n",
       "\\newcommand{\\degree}{\\circ}</script>"
      ],
      "text/plain": [
       "<IPython.core.display.HTML object>"
      ]
     },
     "metadata": {},
     "output_type": "display_data"
    },
    {
     "data": {
      "text/html": [],
      "text/plain": [
       "<IPython.core.display.HTML object>"
      ]
     },
     "metadata": {},
     "output_type": "display_data"
    },
    {
     "data": {
      "text/html": [
       "\n",
       "<i>\n",
       "<p>This cell contains some definitions for equations and some CSS for styling\n",
       "  the notebook. If things look a bit strange, please try the following:\n",
       "<ul>\n",
       "  <li>Choose \"Trust Notebook\" from the \"File\" menu.</li>\n",
       "  <li>Re-execute this cell.</li>\n",
       "  <li>Reload the notebook.</li>\n",
       "</ul>\n",
       "</p>\n",
       "</i>\n"
      ],
      "text/plain": [
       "<IPython.core.display.HTML object>"
      ]
     },
     "metadata": {},
     "output_type": "display_data"
    }
   ],
   "source": [
    "import mmf_setup;mmf_setup.nbinit()\n",
    "%pylab inline --no-import-all\n",
    "from nbimports import * "
   ]
  },
  {
   "cell_type": "markdown",
   "metadata": {},
   "source": [
    "## Load Json Data\n",
    "* To compute the phase diagram inside the notebook is not pratical as it's very computationally expensive. The job is done in a multi-process pool routine which generates data that can be loaded and present here."
   ]
  },
  {
   "cell_type": "code",
   "execution_count": 8,
   "metadata": {},
   "outputs": [
    {
     "data": {
      "text/plain": [
       "['2d_phase_map_data_04.txt']"
      ]
     },
     "execution_count": 8,
     "metadata": {},
     "output_type": "execute_result"
    }
   ],
   "source": [
    "import sys\n",
    "import os\n",
    "import inspect\n",
    "from os.path import join\n",
    "import json\n",
    "from json import dumps\n",
    "currentdir = os.path.dirname(os.path.abspath(inspect.getfile(inspect.currentframe())))\n",
    "files = []\n",
    "for i in [4]: # designed to support multiple files\n",
    "    files.append(f\"2d_phase_map_data_0{i}.txt\")\n",
    "rets = []\n",
    "for file in files:\n",
    "    file = join(currentdir,\"../\",file)\n",
    "    if os.path.exists(file):\n",
    "        with open(file,'r') as rf:\n",
    "            rets.extend(json.load(rf))\n",
    "files"
   ]
  },
  {
   "cell_type": "markdown",
   "metadata": {},
   "source": [
    "### Data format\n",
    "* The overall data is a list, each item in the list is a dict with 3 entries,  **mu** and **delta**($\\Delta_0$), and **data**\n",
    "* The format of the **data** is a list of array, each array is a tuple of 5 numbers,  corresond to: ($d\\mu$, dq, g, $\\Delta$, pressure). The $\\Delta$ is the new value when dq and dmu are not zero, so it may be different from the $\\Delta$ in the dict.\n",
    "\n"
   ]
  },
  {
   "cell_type": "markdown",
   "metadata": {},
   "source": [
    "#### The piece of code in the following cell find the maximum pressure for given(mu, $\\Delta_0$, dmu), which can determine if dq is zero or not"
   ]
  },
  {
   "cell_type": "code",
   "execution_count": 9,
   "metadata": {},
   "outputs": [],
   "source": [
    "formattedData = []\n",
    "#find the dq with maximum pressure\n",
    "for items in rets:\n",
    "    mu = items['mu']\n",
    "    delta = items['delta']\n",
    "    data = items['data']\n",
    "    if len(data) > 0:\n",
    "        ret = data[0]\n",
    "        dmu,dq, g, d, p = ret\n",
    "        for item in data:\n",
    "            if dmu == item[0]:\n",
    "                if item[4] > p:\n",
    "                    dq = item[1]\n",
    "                    p = item[4]\n",
    "            else:\n",
    "                formattedData.append((mu, g, dmu, dq, delta))\n",
    "                dmu, dq, g, d, p, = item\n",
    "        formattedData.append((mu, g, dmu, dq, delta))"
   ]
  },
  {
   "cell_type": "markdown",
   "metadata": {},
   "source": [
    "### Compute density\n",
    "* Take couple of minutes to compute the density"
   ]
  },
  {
   "cell_type": "code",
   "execution_count": 10,
   "metadata": {},
   "outputs": [],
   "source": [
    "from mmf_hfb import FuldeFerrelState; reload(FuldeFerrelState)\n",
    "ff = FuldeFerrelState.FFState(fix_g=True,k_c=500)\n",
    "data = []\n",
    "for i in range(len(formattedData)):\n",
    "    mu, g, dmu, dq, delta = formattedData[i]\n",
    "    na, nb = ff.get_densities(mu=mu, dmu=0, delta=delta)\n",
    "    data.append(formattedData[i] + (na.n, nb.n,))"
   ]
  },
  {
   "cell_type": "markdown",
   "metadata": {},
   "source": [
    "### Plot the phase diagram"
   ]
  },
  {
   "cell_type": "code",
   "execution_count": 11,
   "metadata": {},
   "outputs": [
    {
     "data": {
      "text/plain": [
       "Text(0, 0.5, '$d\\\\mu/\\\\Delta_0$')"
      ]
     },
     "execution_count": 11,
     "metadata": {},
     "output_type": "execute_result"
    },
    {
     "data": {
      "image/png": "[encoded data removed]",
      "text/plain": [
       "<Figure size 1440x360 with 2 Axes>"
      ]
     },
     "metadata": {
      "needs_background": "light"
     },
     "output_type": "display_data"
    }
   ],
   "source": [
    "plt.figure(figsize=(20, 5))\n",
    "plt.subplot(121)\n",
    "x,y,c,area =[],[],[],[]\n",
    "for item in data:\n",
    "    n = item[5] + item[6]\n",
    "    x.append(-1.0/(item[1] * np.sqrt(n)))\n",
    "    y.append(item[2]/item[4])\n",
    "    if item[3] > 0:\n",
    "        c.append('r')\n",
    "        area.append(16)\n",
    "    else:\n",
    "        c.append('b')\n",
    "        area.append(1)\n",
    "plt.scatter(x, y, s=area, c=c)\n",
    "plt.xlabel(r\"$-1/(g\\sqrt{n_{d\\mu=0}})$\", fontsize=20)\n",
    "plt.ylabel(r\"$d\\mu/\\Delta_0$\", fontsize=20)\n",
    "plt.subplot(122)\n",
    "x,y=[],[]\n",
    "for item in data:\n",
    "    x.append(item[4])\n",
    "    y.append(item[2]/item[4])\n",
    "\n",
    "plt.scatter(x, y, s=area, c=c)\n",
    "plt.xlabel(r\"$\\mu$\", fontsize=20)\n",
    "plt.ylabel(r\"$d\\mu/\\Delta_0$\", fontsize=20)"
   ]
  },
  {
   "cell_type": "code",
   "execution_count": null,
   "metadata": {},
   "outputs": [],
   "source": []
  }
 ],
 "metadata": {
  "kernelspec": {
   "display_name": "Python 3",
   "language": "python",
   "name": "python3"
  },
  "language_info": {
   "codemirror_mode": {
    "name": "ipython",
    "version": 3
   },
   "file_extension": ".py",
   "mimetype": "text/x-python",
   "name": "python",
   "nbconvert_exporter": "python",
   "pygments_lexer": "ipython3",
   "version": "3.7.2"
  }
 },
 "nbformat": 4,
 "nbformat_minor": 2
}
