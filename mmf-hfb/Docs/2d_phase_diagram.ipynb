{
 "cells": [
  {
   "cell_type": "markdown",
   "metadata": {},
   "source": [
    "# 2D Phase Diagram"
   ]
  },
  {
   "cell_type": "code",
   "execution_count": null,
   "metadata": {},
   "outputs": [],
   "source": [
    "import mmf_setup;mmf_setup.nbinit()\n",
    "%pylab inline --no-import-all\n",
    "from nbimports import * "
   ]
  },
  {
   "cell_type": "markdown",
   "metadata": {},
   "source": [
    "## A FF State point\n",
    "mu, g, dmu, dq, delta, na, nb\n",
    "* Pick a FF state\n",
    "* $\\mu=0.5$\n",
    "* g=-0.46649458220982054\n",
    "* $d\\mu=0.00039283710065919316$ \n",
    "* $dq=7.856742013183863e-05$\n",
    "* $\\Delta=0.0007071067811865476$\n",
    "* $n_a=0.07957751184849551$\n",
    "* $n_b=0.07957751184849551$)"
   ]
  },
  {
   "cell_type": "code",
   "execution_count": null,
   "metadata": {
    "scrolled": true
   },
   "outputs": [],
   "source": [
    "from mmf_hfb import FuldeFerrelState; reload(FuldeFerrelState)\n",
    "qs = [0.5]#np.linspace(0,3,4) # q does not change the pressure\n",
    "dq0 = 7.856742013183863e-5\n",
    "mu=0.5\n",
    "dmu = 0.00039283710065919316\n",
    "delta = 0.0007071067811865476\n",
    "for q in qs:\n",
    "    dqs = np.linspace(2,7,30)*dq0\n",
    "    ff = FuldeFerrelState.FFState(mu=mu, dmu=dmu, d=2, delta=delta, k_c=500)\n",
    "    ps = [ff.get_pressure(mu=mu, dmu=dmu,q = q, dq=dq).n for dq in dqs]\n",
    "    clear_output()\n",
    "    plt.plot(dqs * 1000, ps)"
   ]
  },
  {
   "cell_type": "markdown",
   "metadata": {},
   "source": [
    "## Load Json Data\n",
    "* To compute the phase diagram inside the notebook is not pratical as it's very computationally expensive. The job is done in a multi-process pool routine which generates data that can be loaded and present here."
   ]
  },
  {
   "cell_type": "code",
   "execution_count": null,
   "metadata": {},
   "outputs": [],
   "source": [
    "import sys\n",
    "import os\n",
    "import inspect\n",
    "from os.path import join\n",
    "import json\n",
    "from json import dumps\n",
    "currentdir = os.path.dirname(os.path.abspath(inspect.getfile(inspect.currentframe())))\n",
    "files = [\"3d_phase_map_data.txt\"]\n",
    "#for i in [2]: # To support multiple files\n",
    "#    files.append(f\"2d_phase_map_data_0{i}.txt\")\n",
    "rets = []\n",
    "for file in files:\n",
    "    file = join(currentdir,\"../\",file)\n",
    "    if os.path.exists(file):\n",
    "        with open(file,'r') as rf:\n",
    "            rets.extend(json.load(rf))\n",
    "files"
   ]
  },
  {
   "cell_type": "markdown",
   "metadata": {},
   "source": [
    "### Data format\n",
    "* The overall data is a list, each item in the list is a dict with 3 entries,  **mu** and **delta**($\\Delta_0$), and **data**\n",
    "* The format of the **data** is a list of array, each array is a tuple of 5 numbers,  corresond to: ($d\\mu$, dq, g, $\\Delta$, pressure). The $\\Delta$ is the new value when dq and dmu are not zero, so it may be different from the $\\Delta$ in the dict.\n",
    "\n"
   ]
  },
  {
   "cell_type": "markdown",
   "metadata": {},
   "source": [
    "#### The piece of code in the following cell find the maximum pressure for given(mu, $\\Delta_0$, dmu), which can determine if dq is zero or not"
   ]
  },
  {
   "cell_type": "code",
   "execution_count": null,
   "metadata": {},
   "outputs": [],
   "source": [
    "formattedData = []\n",
    "#find the dq with maximum pressure\n",
    "for items in rets:\n",
    "    mu = items['mu']\n",
    "    delta = items['delta']\n",
    "    data = items['data']\n",
    "    if len(data) > 0:\n",
    "        ret = data[0]\n",
    "        dmu,dq, g, d, p = ret\n",
    "        for item in data:\n",
    "            if dmu == item[0]:\n",
    "                if item[4] > p:\n",
    "                    dq = item[1]\n",
    "                    p = item[4]\n",
    "            else:\n",
    "                formattedData.append((mu, g, dmu, dq, delta))\n",
    "                dmu, dq, g, d, p = item\n",
    "        formattedData.append((mu, g, dmu, dq, delta))"
   ]
  },
  {
   "cell_type": "markdown",
   "metadata": {},
   "source": [
    "### Compute density\n",
    "* Take couple of minutes to compute the density"
   ]
  },
  {
   "cell_type": "code",
   "execution_count": null,
   "metadata": {
    "scrolled": true
   },
   "outputs": [],
   "source": [
    "ff = FuldeFerrelState.FFState(fix_g=True,k_c=100, d=3)\n",
    "data = []\n",
    "for i in range(len(formattedData)):\n",
    "    if len(formattedData[i]) > 5:\n",
    "        mu, g, dmu, dq, delta,na, nb = formattedData[i]\n",
    "    else:\n",
    "        mu, g, dmu, dq, delta = formattedData[i]\n",
    "    na, nb = ff.get_densities(mu=mu, dmu=0, delta=delta)\n",
    "    data.append(formattedData[i][:5] + (na.n, nb.n,))\n"
   ]
  },
  {
   "cell_type": "markdown",
   "metadata": {},
   "source": [
    "### Plot the phase diagram"
   ]
  },
  {
   "cell_type": "code",
   "execution_count": null,
   "metadata": {
    "scrolled": true
   },
   "outputs": [],
   "source": [
    "plt.figure(figsize=(20, 5))\n",
    "plt.subplot(121)\n",
    "x,y,c,area =[],[],[],[]\n",
    "for item in data:\n",
    "    n = item[5] + item[6]\n",
    "    x.append(-1.0/(item[1] * n**(1.0/3)))\n",
    "    y.append(item[2]/item[4])\n",
    "    if item[2] > 0 and item[3] > 0:\n",
    "        c.append('r')\n",
    "        area.append(16)\n",
    "    else:\n",
    "        c.append('b')\n",
    "        area.append(1)\n",
    "plt.scatter(x, y, s=area, c=c)\n",
    "plt.xlabel(r\"$-1/(g\\sqrt{n_{d\\mu=0}})$\", fontsize=20)\n",
    "plt.ylabel(r\"$d\\mu/\\Delta_0$\", fontsize=20)\n",
    "plt.subplot(122)\n",
    "x,y=[],[]\n",
    "for item in data:\n",
    "    x.append(item[4])\n",
    "    y.append(item[2]/item[4])\n",
    "\n",
    "plt.scatter(x, y, s=area, c=c)\n",
    "plt.xlabel(r\"$\\mu$\", fontsize=20)\n",
    "plt.ylabel(r\"$d\\mu/\\Delta_0$\", fontsize=20)"
   ]
  },
  {
   "cell_type": "markdown",
   "metadata": {},
   "source": [
    "Pressue is a function of $\\Delta$, $\\mu$, $d\\mu$, q, and dq:\n",
    "\n",
    "$$\n",
    "\\newcommand{\\E}{\\mathcal{E}}\n",
    "P(\\Delta, \\mu,d\\mu, q, dq)= n_a(\\Delta, \\mu,d\\mu, q, dq) \\mu_a + n_b(\\Delta, \\mu,d\\mu, q, dq) \\mu_b -\\E(\\Delta, \\mu,d\\mu, q, dq)\n",
    "$$\n",
    "where \n",
    "\n",
    "$$\n",
    "\\E = \\kappa\\\\\n",
    "n_a = \\frac{n_+ + n_-}{2} \\qquad\n",
    "n_b = \\frac{n_+ - n_-}{2}\\qquad\n",
    "\\mu_a = \\frac{\\mu_+ + \\mu_-}{2}\\qquad\n",
    "\\mu_b = \\frac{\\mu_+ - \\mu_-}{2}\\qquad\n",
    "f_{\\beta}(E) = \\frac{1}{1+e^{\\beta E}}.\n",
    "$$"
   ]
  },
  {
   "cell_type": "markdown",
   "metadata": {},
   "source": [
    "\\begin{align}\n",
    "\\newcommand\\intdk{\\int\\frac{\\d^d{k}}{(2\\pi)^d}\\;}\n",
    "\\newcommand\\q {\\partial dq}\n",
    "  n_+ &= \\intdk\\overbrace{\\left(1 - \\frac{\\epsilon^+_k}{E_k}\n",
    "               \\underbrace{\\bigl(f(\\omega_-) - f(\\omega_+)\\bigr)}_{f_\\nu}\n",
    "          \\right)}^{f_+}, &\n",
    "  n_- &= \\intdk\\overbrace{\\bigl(f(\\omega_+) - f(-\\omega_-)\\bigr)}^{f_-},\\\\\n",
    "  \\tau_+ &= \\intdk k^2f_+, &\n",
    "  \\tau_- &= \\intdk k^2f_-,\\\\\n",
    "  \\nu &= -\\intdk\\frac{\\Delta}{2E_k}\\overbrace{\\bigl(f(\\omega_-)-f(\\omega_+)\\bigr)}^{f_\\nu}, &\n",
    "  \\kappa &= \\intdk \\left(\\frac{\\hbar^2\\tau_+}{2m_+} - \\frac{\\abs{\\Delta}^2}{2E_k}f_\\nu\\right),\\\\\n",
    "\\end{align}"
   ]
  },
  {
   "cell_type": "markdown",
   "metadata": {},
   "source": [
    "Using the chain rule, we may be able to find the condition that maximize the pressure:\n",
    "\\begin{align}\n",
    "\\frac{\\partial P}{\\q} &= 0\\\\\n",
    "&=\\frac{\\partial n_a}{\\q}\\mu_a + \\frac{\\partial n_b}{\\q}\\mu_b -\\frac{\\partial \\kappa}{\\q}\\\\\n",
    "&=\\frac{\\partial (n_+ + n_-)}{4\\q}(\\mu_+ + \\mu_-) + \\frac{\\partial (n_+ - n_-)}{4\\q}(\\mu_+ - \\mu_-) -\\frac{\\partial \\kappa}{\\q}\\\\\n",
    "&=\\frac{\\partial n_+}{2\\q}\\mu_+ + \\frac{\\partial n_-}{2\\q}\\mu_- -\\frac{\\partial \\kappa}{\\q}\n",
    "\\end{align}\n",
    "With this we can perform chain rules:"
   ]
  },
  {
   "cell_type": "markdown",
   "metadata": {},
   "source": [
    "\\begin{align}\n",
    "k_a = k + q + dq, \\qquad k_b = k+q - dq \\\\\n",
    "\\epsilon_a = \\frac{\\hbar^2}{2m}k_a^2 - \\mu_a, \\qquad \\epsilon_b = \\frac{\\hbar^2}{2m}k_b^2 - \\mu_b\\\\\n",
    "E=\\sqrt{\\epsilon_+^2+\\abs{\\Delta}^2},\\qquad \\omega_+= \\epsilon_-+E, \\qquad \\omega_- = \\epsilon_- - E\n",
    "\\end{align}\n",
    "\\begin{align}\n",
    "\\epsilon_+\n",
    "&= \\frac{\\hbar^2}{4m}(k_a^2+k_b^2) - \\mu_+\\\\\n",
    "&= \\frac{\\hbar^2}{2m}\\left[(k+q)^2 + dq^2\\right] - \\mu_+\\\\\n",
    "\\epsilon_- \n",
    "&= \\frac{\\hbar^2}{4m}(k_a^2-k_b^2) - \\mu_-\\\\\n",
    "&=\\frac{\\hbar^2}{m}(k +q)dq - \\mu_-\\\\\n",
    "\\end{align}"
   ]
  },
  {
   "cell_type": "markdown",
   "metadata": {},
   "source": [
    "\\begin{align}\n",
    "\\frac{\\partial \\epsilon_+}{\\q}\n",
    "&= \\frac{\\hbar^2 dq}{m}\\\\\n",
    "\\frac{\\partial E}{\\q}\n",
    "&= \\frac{\\epsilon_+}{\\sqrt{\\epsilon_+^2 + \\abs{\\Delta}}}\\frac{\\partial \\epsilon_+}{\\q}\n",
    "\\end{align}"
   ]
  },
  {
   "cell_type": "markdown",
   "metadata": {},
   "source": [
    "\\begin{align}\n",
    "\\frac{\\partial n+}{\\q}\n",
    "&=\\intdk\\left[ \\frac{\\partial}{\\q}\\left(\\frac{\\epsilon_+}{E}\\right)f_{\\nu} + \\frac{\\epsilon_+}{E} \\frac{\\partial f_{\\nu}}{\\q}\\right]\\\\\n",
    "&=\\intdk\\left[\\left( \\frac{\\partial \\epsilon_+}{E\\q}-\\frac{ \\epsilon_+\\partial E}{E^2\\q}\\right)f_{\\nu} + \\frac{\\epsilon_+}{E} \\frac{\\partial}{\\q}f_{\\nu}\\right]\\\\\n",
    "&=\\intdk\\left[\\left(\\frac{\\hbar^2 dq}{mE} -\\frac{\\epsilon_+^2}{E^2\\sqrt{\\epsilon_+^2 + \\abs{\\Delta}}}\n",
    "\\right)\\frac{\\partial \\epsilon_+}{\\q}f_{\\nu} + \\frac{\\epsilon_+}{E} \\frac{\\partial}{\\q}f_{\\nu}\\right]\n",
    "\\end{align}"
   ]
  },
  {
   "cell_type": "markdown",
   "metadata": {},
   "source": [
    "\\begin{align}\n",
    "\\frac{\\partial n_-}{\\q}\n",
    "&=\\intdk\\left[ \\frac{\\partial}{\\q}f(\\omega_+)- \\frac{\\partial}{\\q}f(-\\omega_-)\\right]\n",
    "\\end{align}\n",
    "\\begin{align}\n",
    "  \\frac{\\partial \\kappa}{\\q} &= \\intdk \\left[\\frac{\\hbar^2}{2m_+}\\frac{\\partial \\tau_+}{\\q} - \\abs{\\Delta}^2\\frac{\\partial}{\\q}\\frac{f_\\nu}{2E}\\right],\\\\\n",
    "\\end{align}"
   ]
  },
  {
   "cell_type": "markdown",
   "metadata": {},
   "source": [
    "$$\n",
    "f_+ = 1 - \\frac{\\epsilon_+}{E}\\left(f(\\omega_-)-f(\\omega_+)\\right)\\\\\n",
    "f_-=f(\\omega_+)-f(-\\omega_-)\\\\\n",
    "f_a = \\frac{f_++f_-}{2}\\\\\n",
    "f_b = \\frac{f_+ - f_-}{2}\\\\\n",
    "$$"
   ]
  },
  {
   "cell_type": "markdown",
   "metadata": {},
   "source": [
    "\\begin{align}\n",
    "\\frac{\\partial f_+}{\\q}\n",
    "&=-\\left[\\frac{\\partial}{\\q}\\left(\\frac{\\epsilon_+}{E}\\right)\\left(f(\\omega_-)-f(\\omega_+)\\right)+\n",
    "\\frac{\\epsilon_+}{E}\\overbrace{\\frac{\\partial\\left(f(\\omega_-)-f(\\omega+)\\right) }{\\q}}^0\n",
    "\\right]\\\\\n",
    "&=-\\left[\\frac{\\partial}{\\q}\\left(\\frac{\\epsilon_+}{E}\\right)\\left(f(\\omega_-)-f(\\omega_+)\\right)\n",
    "\\right]\\\\\n",
    "\\end{align}"
   ]
  },
  {
   "cell_type": "markdown",
   "metadata": {},
   "source": [
    "\\begin{align}\n",
    "\\tau_+ \n",
    "&= k_a^2 f_a + k_b^2  f_b\\\\\n",
    "&=\\left[(k+q)^2 + dq^2\\right] f_+ + 2(k+q)dqf_-\\\\\n",
    "\\frac{\\partial \\tau_+}{\\q}\n",
    "&= 2dq f_+ + \\left[(k+q)^2 + dq^2\\right]\\frac{\\partial f_+}{\\q} + 2(k+q)f_- + 2(k+q)dq\\overbrace{\\frac{\\partial f_-}{\\q}}^0\\\\\n",
    "&= 2dq f_+ - \\left[(k+q)^2 + dq^2\\right]\\left[\\frac{\\partial}{\\q}\\left(\\frac{\\epsilon_+}{E}\\right)\\left(f(\\omega_-)-f(\\omega_+)\\right)\\right] + 2(k+q)f_- \\\\\\end{align}"
   ]
  },
  {
   "cell_type": "markdown",
   "metadata": {},
   "source": [
    "When $T=0$, $f(x)$ is a step function, its derviative is zero except at $x=0$:\n",
    "\n",
    "$$\n",
    "\\frac{\\partial f_{\\nu}}{\\q}=\\frac{\\partial f}{\\q}=0\n",
    "$$\n",
    "\n",
    "Then\n",
    "\\begin{align}\n",
    "\\frac{\\partial n_-}{\\q}\n",
    "&=\\intdk\\left[ \\frac{\\partial}{\\q}f(\\omega_+)- \\frac{\\partial}{\\q}f(-\\omega_-)\\right]=0\\\\\n",
    "\\frac{\\partial n_+}{\\q}\n",
    "&=\\intdk\\left[ \\frac{\\partial}{\\q}\\left(\\frac{\\epsilon_+}{E}\\right)f_{\\nu} + \\frac{\\epsilon_+}{E} \\frac{\\partial f_{\\nu}}{\\q}\\right]\\\\\n",
    "&=\\intdk \\frac{\\partial}{\\q}\\left(\\frac{\\epsilon_+}{E}\\right)f_{\\nu}\n",
    "\\end{align}"
   ]
  },
  {
   "cell_type": "markdown",
   "metadata": {},
   "source": [
    "\\begin{align}\n",
    "\\frac{\\partial \\tau_+}{\\q}\n",
    "&= 2dq f_+ + \\left[(k+q)^2 + dq^2\\right]\\frac{\\partial f_+}{\\q} + 2(k+q)f_-\n",
    "\\end{align}"
   ]
  },
  {
   "cell_type": "markdown",
   "metadata": {},
   "source": [
    "\\begin{align}\n",
    " \\kappa &= \\intdk \\left(\\frac{\\hbar^2\\tau_+}{2m_+} - \\frac{\\abs{\\Delta}^2}{2E_k}f_\\nu\\right),\\\\\n",
    " \\frac{\\partial \\kappa}{\\q}\n",
    " &= \\intdk \\left(\\frac{\\hbar^2}{2m_+}\\frac{\\partial \\tau_+}{\\q}+ \\frac{\\abs{\\Delta}^2\\partial E}{2E^2\\q}f_\\nu - \\frac{\\abs{\\Delta}^2}{2E_k}\\overbrace{\\frac{\\partial f_\\nu}{\\q}}^0\\right),\\\\\n",
    " &= \\intdk \\left(\\frac{\\hbar^2}{2m_+}\\frac{\\partial \\tau_+}{\\q}+ \\frac{\\abs{\\Delta}^2\\partial E}{2E^2\\q}f_\\nu \\right),\\\\ \n",
    " &= \\intdk \\left(\\frac{\\hbar^2}{2m_+}\\left(2dq f_+ - \\left[(k+q)^2 + dq^2\\right]\\left[\\frac{\\partial}{\\q}\\left(\\frac{\\epsilon_+}{E}\\right)\\left(f(\\omega_-)-f(\\omega_+)\\right)\\right] + 2(k+q)f_-\\right)+ \\frac{\\abs{\\Delta}^2\\partial E}{2E^2\\q}f_\\nu \\right),\\\\\n",
    "  &= \\intdk \\left[\\frac{\\hbar^2}{2m}\\left(2dq f_+ + 2(k+q)f_- - \\left[(k+q)^2 + dq^2\\right]f_{\\nu}\\frac{\\partial}{\\q}\\left(\\frac{\\epsilon_+}{E}\\right) \\right)+ \\frac{\\abs{\\Delta}^2\\partial E}{2E^2\\q}f_\\nu \\right],\\\\\n",
    " \\end{align}"
   ]
  },
  {
   "cell_type": "code",
   "execution_count": null,
   "metadata": {},
   "outputs": [],
   "source": []
  }
 ],
 "metadata": {
  "kernelspec": {
   "display_name": "Python 3",
   "language": "python",
   "name": "python3"
  },
  "language_info": {
   "codemirror_mode": {
    "name": "ipython",
    "version": 3
   },
   "file_extension": ".py",
   "mimetype": "text/x-python",
   "name": "python",
   "nbconvert_exporter": "python",
   "pygments_lexer": "ipython3",
   "version": "3.7.2"
  }
 },
 "nbformat": 4,
 "nbformat_minor": 2
}
