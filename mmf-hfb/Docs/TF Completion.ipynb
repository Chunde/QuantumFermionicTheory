{
 "cells": [
  {
   "cell_type": "code",
   "execution_count": 1,
   "metadata": {},
   "outputs": [
    {
     "data": {
      "text/html": [
       "<style>.grade {\n",
       "   background-color: #66FFCC;\n",
       "}\n",
       "</style>"
      ],
      "text/plain": [
       "<IPython.core.display.HTML object>"
      ]
     },
     "metadata": {},
     "output_type": "display_data"
    },
    {
     "data": {
      "application/javascript": [],
      "text/plain": [
       "<IPython.core.display.Javascript object>"
      ]
     },
     "metadata": {},
     "output_type": "display_data"
    },
    {
     "data": {
      "text/html": [
       "<script id=\"MathJax-Element-48\" type=\"math/tex\">\\newcommand{\\vect}[1]{\\mathbf{#1}}\n",
       "\\newcommand{\\uvect}[1]{\\hat{#1}}\n",
       "\\newcommand{\\abs}[1]{\\lvert#1\\rvert}\n",
       "\\newcommand{\\norm}[1]{\\lVert#1\\rVert}\n",
       "\\newcommand{\\I}{\\mathrm{i}}\n",
       "\\newcommand{\\ket}[1]{\\left|#1\\right\\rangle}\n",
       "\\newcommand{\\bra}[1]{\\left\\langle#1\\right|}\n",
       "\\newcommand{\\braket}[1]{\\langle#1\\rangle}\n",
       "\\newcommand{\\Braket}[1]{\\left\\langle#1\\right\\rangle}\n",
       "\\newcommand{\\op}[1]{\\mathbf{#1}}\n",
       "\\newcommand{\\mat}[1]{\\mathbf{#1}}\n",
       "\\newcommand{\\d}{\\mathrm{d}}\n",
       "\\newcommand{\\pdiff}[3][]{\\frac{\\partial^{#1} #2}{\\partial {#3}^{#1}}}\n",
       "\\newcommand{\\diff}[3][]{\\frac{\\d^{#1} #2}{\\d {#3}^{#1}}}\n",
       "\\newcommand{\\ddiff}[3][]{\\frac{\\delta^{#1} #2}{\\delta {#3}^{#1}}}\n",
       "\\newcommand{\\floor}[1]{\\left\\lfloor#1\\right\\rfloor}\n",
       "\\newcommand{\\ceil}[1]{\\left\\lceil#1\\right\\rceil}\n",
       "\\DeclareMathOperator{\\Tr}{Tr}\n",
       "\\DeclareMathOperator{\\erf}{erf}\n",
       "\\DeclareMathOperator{\\erfi}{erfi}\n",
       "\\DeclareMathOperator{\\sech}{sech}\n",
       "\\DeclareMathOperator{\\sgn}{sgn}\n",
       "\\DeclareMathOperator{\\order}{O}\n",
       "\\DeclareMathOperator{\\diag}{diag}\n",
       "\n",
       "\\newcommand{\\mylabel}[1]{\\label{#1}\\tag{#1}}\n",
       "\\newcommand{\\degree}{\\circ}</script>"
      ],
      "text/plain": [
       "<IPython.core.display.HTML object>"
      ]
     },
     "metadata": {},
     "output_type": "display_data"
    },
    {
     "data": {
      "text/html": [],
      "text/plain": [
       "<IPython.core.display.HTML object>"
      ]
     },
     "metadata": {},
     "output_type": "display_data"
    },
    {
     "data": {
      "text/html": [
       "\n",
       "<i>\n",
       "<p>This cell contains some definitions for equations and some CSS for styling\n",
       "  the notebook. If things look a bit strange, please try the following:\n",
       "<ul>\n",
       "  <li>Choose \"Trust Notebook\" from the \"File\" menu.</li>\n",
       "  <li>Re-execute this cell.</li>\n",
       "  <li>Reload the notebook.</li>\n",
       "</ul>\n",
       "</p>\n",
       "</i>\n"
      ],
      "text/plain": [
       "<IPython.core.display.HTML object>"
      ]
     },
     "metadata": {},
     "output_type": "display_data"
    }
   ],
   "source": [
    "import mmf_setup\n",
    "try: mmf_setup.nbinit()\n",
    "except: import nbinit"
   ]
  },
  {
   "cell_type": "markdown",
   "metadata": {},
   "source": [
    "# Thomas-Fermi Completion"
   ]
  },
  {
   "cell_type": "markdown",
   "metadata": {},
   "source": [
    "Here we tabulate the various integrands required for homogeneous quantities.  These are implemented in the `tf_completion.py` file."
   ]
  },
  {
   "cell_type": "markdown",
   "metadata": {},
   "source": [
    "$$\n",
    "  \\newcommand{\\E}{\\mathcal{E}}\n",
    "  \\newcommand{\\e}{\\epsilon}\n",
    "  \\mat{M} = \\begin{pmatrix}\n",
    "    \\overbrace{\\frac{\\hbar^2k_a^2}{2m_a} - \\mu_a}^{\\e_a} & \\Delta\\\\\n",
    "    \\Delta^\\dagger & - \\underbrace{\\left(\\frac{\\hbar^2k_b^2}{2m_b} - \\mu_b\\right)}_{\\e_b}\n",
    "  \\end{pmatrix},\\\\\n",
    "  \\e_{\\pm} = \\frac{\\e_a \\pm \\e_b}{2}, \\qquad\n",
    "  \\omega_{\\pm} = \\e_- \\pm \\overbrace{\\sqrt{\\e_+^2 + \\abs{\\Delta}^2}}^{E},\n",
    "$$\n",
    "\\begin{align}\n",
    "  \\newcommand{\\intdk}{\\int \\frac{\\d^d{k}}{(2\\pi)^d}\\;}\n",
    "  n_+ &= \\intdk\\overbrace{\\left(1 - \\frac{\\epsilon^+_k}{E_k}\n",
    "               \\underbrace{\\bigl(f_\\beta(\\omega_-) - f_\\beta(\\omega_+)\\bigr)}_{f_\\nu}\n",
    "          \\right)}^{f_+}, &\n",
    "  n_- &= \\intdk\\overbrace{\\bigl(f_\\beta(\\omega_+) - f_\\beta(-\\omega_-)\\bigr)}^{f_-},\\\\\n",
    "  n_a &= \\intdk\\overbrace{\\frac{f_+ + f_-}{2}}^{f_a}, &\n",
    "  n_b &= \\intdk\\overbrace{\\frac{f_+ - f_-}{2}}^{f_a},\\\\\n",
    "  \\tau_a &= \\intdk k_a^2f_a, &\n",
    "  \\tau_b &= \\intdk k_b^2f_b,\\\\\n",
    "  \\tau_+ &= \\intdk (k_a^2f_a + k_b^2f_b), &\n",
    "  \\tau_- &= \\intdk (k_a^2f_a - k_b^2f_b),\\\\\n",
    "  \\nu &= -\\intdk\\frac{\\Delta}{2E}\n",
    "  \\overbrace{\\bigl(f_\\beta(\\omega_-)-f_\\beta(\\omega_+)\\bigr)}^{f_\\nu}, &\n",
    "  \\kappa &= \\intdk \\left(\n",
    "    \\frac{\\hbar^2k_a^2}{2m_a}f_a + \\frac{\\hbar^2k_b^2}{2m_b}f_b \n",
    "    - \\frac{\\abs{\\Delta}^2}{2E}f_\\nu\\right),\\\\\n",
    "  \\tilde{C} &= \\frac{1}{2}\\intdk \\left(\n",
    "    \\frac{1}{\\epsilon_+ + \\I 0^+} - \\frac{f_\\nu}{E}\\right).\n",
    "\\end{align}"
   ]
  },
  {
   "cell_type": "markdown",
   "metadata": {},
   "source": [
    "## Series"
   ]
  },
  {
   "cell_type": "markdown",
   "metadata": {},
   "source": [
    "Some of these integrals converge poorly and are subject to roundoff error, so we consider the following series expansions valid at $T=0$ for $k_c$ large enough that $\\omega_- < 0$ and $\\omega_+ > 0$:"
   ]
  },
  {
   "cell_type": "code",
   "execution_count": 2,
   "metadata": {},
   "outputs": [
    {
     "data": {
      "image/png": "[encoded data removed]",
      "text/latex": [
       "$$\\frac{1}{1 + \\frac{\\left(\\frac{k^{2}}{2} - \\frac{\\mu_{a}}{2} - \\frac{\\mu_{b}}{2} + \\sqrt{\\Delta^{2} + \\left(- \\frac{k^{2}}{2} + \\frac{\\mu_{a}}{2} + \\frac{\\mu_{b}}{2}\\right)^{2}}\\right)^{2}}{\\Delta^{2}}}$$"
      ],
      "text/plain": [
       "                             1                             \n",
       "───────────────────────────────────────────────────────────\n",
       "                                                          2\n",
       "    ⎛                      ______________________________⎞ \n",
       "    ⎜                     ╱                            2 ⎟ \n",
       "    ⎜ 2                  ╱            ⎛   2           ⎞  ⎟ \n",
       "    ⎜k    μₐ   μ_b      ╱         2   ⎜  k    μₐ   μ_b⎟  ⎟ \n",
       "    ⎜── - ── - ─── +   ╱    \\Delta  + ⎜- ── + ── + ───⎟  ⎟ \n",
       "    ⎝2    2     2    ╲╱               ⎝  2    2     2 ⎠  ⎠ \n",
       "1 + ───────────────────────────────────────────────────────\n",
       "                                  2                        \n",
       "                            \\Delta                         "
      ]
     },
     "execution_count": 2,
     "metadata": {},
     "output_type": "execute_result"
    }
   ],
   "source": [
    "#  Here we use sympy to generate the series expansion in k_c\n",
    "import sympy;sympy.init_printing()\n",
    "k, mu_a, mu_b = sympy.var('k, mu_a, mu_b', real=True)\n",
    "d = sympy.var(r'\\Delta', positive=True)\n",
    "np = sympy\n",
    "np.arctan2 = np.atan2\n",
    "np.angle = np.arg\n",
    "a = k**2/2 - mu_a\n",
    "b = k**2/2 - mu_b\n",
    "e_m, e_p = (a-b)/2, (a+b)/2\n",
    "E = np.sqrt(e_p**2 + d**2)\n",
    "es = [e_m-E, e_m+E]\n",
    "thetas = np.arctan2(-E-e_p, d), np.atan2(E-e_p, d)\n",
    "us = np.exp(1j*np.angle(d))*list(map(np.cos, thetas))\n",
    "vs = list(map(np.sin,thetas))\n",
    "x = sympy.var('x', positive=True)\n",
    "(abs(us[0])**2)\n",
    "#.subs(k, 1/x).series(x, n=8).subs(x, 1/k)"
   ]
  },
  {
   "cell_type": "code",
   "execution_count": 10,
   "metadata": {},
   "outputs": [
    {
     "data": {
      "image/png": "[encoded data removed]",
      "text/latex": [
       "$$\\frac{2 \\Delta^{2}}{\\hbar^{6} k^{6}} + O\\left(\\frac{1}{k^{8}}; k\\rightarrow \\infty\\right)$$"
      ],
      "text/plain": [
       "        2               \n",
       "2⋅\\Delta     ⎛1        ⎞\n",
       "───────── + O⎜──; k → ∞⎟\n",
       "    6  6     ⎜ 8       ⎟\n",
       " \\h̅ ⋅k      ⎝k        ⎠"
      ]
     },
     "execution_count": 10,
     "metadata": {},
     "output_type": "execute_result"
    }
   ],
   "source": [
    "#  Here we use sympy to generate the series expansion in k_c\n",
    "import sympy;sympy.init_printing()\n",
    "q, mu_a, mu_b = sympy.var(\n",
    "    r'q, mu_a, mu_b', real=True)\n",
    "k, kz, kp, d, h, ma, mb = sympy.var(r'k, k_z, k_\\perp, \\Delta, \\hbar, m_a, m_b', positive=True)\n",
    "np = sympy\n",
    "np.arctan2 = np.atan2\n",
    "np.angle = np.arg\n",
    "q = 0\n",
    "ka2, kb2 = (kz - q)**2 + kp**2, (kz + q)**2 + kp**2\n",
    "ka2, kb2 = k**2, k**2\n",
    "ea, eb = h**2*ka2/2 - mu_a, h**2*kb2/2 - mu_b\n",
    "em, ep = (ea-eb)/2, (ea+eb)/2\n",
    "E = np.sqrt(ep**2 + d**2)\n",
    "es = [em-E, em+E]\n",
    "thetas = np.arctan2(-E-ep, d), np.atan2(E-ep, d)\n",
    "us = np.exp(1j*np.angle(d))*list(map(np.cos, thetas))\n",
    "vs = list(map(np.sin,thetas))\n",
    "x = sympy.var('x', positive=True)\n",
    "\n",
    "# T = 0 occupation factors\n",
    "f_nu = 1\n",
    "f_m = 0\n",
    "n_p = 1 - ep/E\n",
    "n_a = n_b = n_p/2\n",
    "tau_a, tau_b = ka2*n_a, kb2*n_b\n",
    "nu_delta = -f_nu/E/2\n",
    "C_tilde = nu_delta + 1/2/ep\n",
    "kappa = h**2*tau_a/2/ma + h**2*tau_b/2/mb + abs(d)*nu_delta\n",
    "#kappa.subs([(kz, kz/x), (kp, kp/x)]).series(x, n=2).subs(x, 1)\n",
    "#n_p.subs([(kz, k/x), (kp, k/x)]).series(x, n=8).subs(x, 1)\n",
    "C_tilde.subs([(k, 1/x)]).series(x, n=8).subs(x, 1/k)"
   ]
  },
  {
   "cell_type": "code",
   "execution_count": 40,
   "metadata": {},
   "outputs": [
    {
     "ename": "NotImplementedError",
     "evalue": "",
     "output_type": "error",
     "traceback": [
      "\u001b[0;31m---------------------------------------------------------------------------\u001b[0m",
      "\u001b[0;31mNotImplementedError\u001b[0m                       Traceback (most recent call last)",
      "\u001b[0;32m<ipython-input-40-fd163120e7be>\u001b[0m in \u001b[0;36m<module>\u001b[0;34m\u001b[0m\n\u001b[0;32m----> 1\u001b[0;31m \u001b[0;34m(\u001b[0m\u001b[0mabs\u001b[0m\u001b[0;34m(\u001b[0m\u001b[0mus\u001b[0m\u001b[0;34m[\u001b[0m\u001b[0;36m0\u001b[0m\u001b[0;34m]\u001b[0m\u001b[0;34m)\u001b[0m\u001b[0;34m**\u001b[0m\u001b[0;36m2\u001b[0m\u001b[0;34m)\u001b[0m\u001b[0;34m.\u001b[0m\u001b[0msubs\u001b[0m\u001b[0;34m(\u001b[0m\u001b[0mss\u001b[0m\u001b[0;34m)\u001b[0m\u001b[0;34m.\u001b[0m\u001b[0msubs\u001b[0m\u001b[0;34m(\u001b[0m\u001b[0mkz\u001b[0m\u001b[0;34m,\u001b[0m \u001b[0;36m1\u001b[0m\u001b[0;34m/\u001b[0m\u001b[0mx\u001b[0m\u001b[0;34m)\u001b[0m\u001b[0;34m.\u001b[0m\u001b[0mseries\u001b[0m\u001b[0;34m(\u001b[0m\u001b[0mx\u001b[0m\u001b[0;34m,\u001b[0m \u001b[0mn\u001b[0m\u001b[0;34m=\u001b[0m\u001b[0;36m8\u001b[0m\u001b[0;34m)\u001b[0m\u001b[0;31m#.subs(x, 1/k)\u001b[0m\u001b[0;34m\u001b[0m\u001b[0;34m\u001b[0m\u001b[0m\n\u001b[0m",
      "\u001b[0;32m/data/apps/conda/envs/work3/lib/python3.7/site-packages/sympy/core/expr.py\u001b[0m in \u001b[0;36mseries\u001b[0;34m(self, x, x0, n, dir, logx)\u001b[0m\n\u001b[1;32m   2667\u001b[0m \u001b[0;34m\u001b[0m\u001b[0m\n\u001b[1;32m   2668\u001b[0m         \u001b[0;32mif\u001b[0m \u001b[0mn\u001b[0m \u001b[0;32mis\u001b[0m \u001b[0;32mnot\u001b[0m \u001b[0;32mNone\u001b[0m\u001b[0;34m:\u001b[0m  \u001b[0;31m# nseries handling\u001b[0m\u001b[0;34m\u001b[0m\u001b[0;34m\u001b[0m\u001b[0m\n\u001b[0;32m-> 2669\u001b[0;31m             \u001b[0ms1\u001b[0m \u001b[0;34m=\u001b[0m \u001b[0mself\u001b[0m\u001b[0;34m.\u001b[0m\u001b[0m_eval_nseries\u001b[0m\u001b[0;34m(\u001b[0m\u001b[0mx\u001b[0m\u001b[0;34m,\u001b[0m \u001b[0mn\u001b[0m\u001b[0;34m=\u001b[0m\u001b[0mn\u001b[0m\u001b[0;34m,\u001b[0m \u001b[0mlogx\u001b[0m\u001b[0;34m=\u001b[0m\u001b[0mlogx\u001b[0m\u001b[0;34m)\u001b[0m\u001b[0;34m\u001b[0m\u001b[0;34m\u001b[0m\u001b[0m\n\u001b[0m\u001b[1;32m   2670\u001b[0m             \u001b[0mo\u001b[0m \u001b[0;34m=\u001b[0m \u001b[0ms1\u001b[0m\u001b[0;34m.\u001b[0m\u001b[0mgetO\u001b[0m\u001b[0;34m(\u001b[0m\u001b[0;34m)\u001b[0m \u001b[0;32mor\u001b[0m \u001b[0mS\u001b[0m\u001b[0;34m.\u001b[0m\u001b[0mZero\u001b[0m\u001b[0;34m\u001b[0m\u001b[0;34m\u001b[0m\u001b[0m\n\u001b[1;32m   2671\u001b[0m             \u001b[0;32mif\u001b[0m \u001b[0mo\u001b[0m\u001b[0;34m:\u001b[0m\u001b[0;34m\u001b[0m\u001b[0;34m\u001b[0m\u001b[0m\n",
      "\u001b[0;32m/data/apps/conda/envs/work3/lib/python3.7/site-packages/sympy/core/power.py\u001b[0m in \u001b[0;36m_eval_nseries\u001b[0;34m(self, x, n, logx)\u001b[0m\n\u001b[1;32m   1373\u001b[0m                         \u001b[0;32mreturn\u001b[0m \u001b[0;36m1\u001b[0m\u001b[0;34m/\u001b[0m\u001b[0mcollect\u001b[0m\u001b[0;34m(\u001b[0m\u001b[0mprefactor\u001b[0m\u001b[0;34m,\u001b[0m \u001b[0mx\u001b[0m\u001b[0;34m)\u001b[0m\u001b[0;34m\u001b[0m\u001b[0;34m\u001b[0m\u001b[0m\n\u001b[1;32m   1374\u001b[0m                     \u001b[0;32melse\u001b[0m\u001b[0;34m:\u001b[0m\u001b[0;34m\u001b[0m\u001b[0;34m\u001b[0m\u001b[0m\n\u001b[0;32m-> 1375\u001b[0;31m                         \u001b[0;32mraise\u001b[0m \u001b[0mNotImplementedError\u001b[0m\u001b[0;34m(\u001b[0m\u001b[0;34m)\u001b[0m\u001b[0;34m\u001b[0m\u001b[0;34m\u001b[0m\u001b[0m\n\u001b[0m\u001b[1;32m   1376\u001b[0m                 \u001b[0;32melse\u001b[0m\u001b[0;34m:\u001b[0m\u001b[0;34m\u001b[0m\u001b[0;34m\u001b[0m\u001b[0m\n\u001b[1;32m   1377\u001b[0m                     \u001b[0;32mraise\u001b[0m \u001b[0mNotImplementedError\u001b[0m\u001b[0;34m(\u001b[0m\u001b[0;34m)\u001b[0m\u001b[0;34m\u001b[0m\u001b[0;34m\u001b[0m\u001b[0m\n",
      "\u001b[0;31mNotImplementedError\u001b[0m: "
     ]
    }
   ],
   "source": [
    "(abs(us[0])**2).subs(ss).subs(kz, 1/x).series(x, n=8)#.subs(x, 1/k)"
   ]
  },
  {
   "cell_type": "code",
   "execution_count": null,
   "metadata": {},
   "outputs": [],
   "source": []
  }
 ],
 "metadata": {
  "kernelspec": {
   "display_name": "Python [conda env:work3]",
   "language": "python",
   "name": "conda-env-work3-py"
  },
  "language_info": {
   "codemirror_mode": {
    "name": "ipython",
    "version": 3
   },
   "file_extension": ".py",
   "mimetype": "text/x-python",
   "name": "python",
   "nbconvert_exporter": "python",
   "pygments_lexer": "ipython3",
   "version": "3.7.1"
  },
  "toc": {
   "base_numbering": 1,
   "nav_menu": {},
   "number_sections": true,
   "sideBar": true,
   "skip_h1_title": false,
   "title_cell": "Table of Contents",
   "title_sidebar": "Contents",
   "toc_cell": false,
   "toc_position": {},
   "toc_section_display": true,
   "toc_window_display": false
  }
 },
 "nbformat": 4,
 "nbformat_minor": 2
}
