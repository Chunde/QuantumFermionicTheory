{
 "cells": [
  {
   "cell_type": "code",
   "execution_count": null,
   "metadata": {},
   "outputs": [],
   "source": [
    "import mmf_setup;mmf_setup.nbinit()\n",
    "%pylab inline --no-import-all\n",
    "from nbimports import *            # Convenience functions like clear_output"
   ]
  },
  {
   "cell_type": "markdown",
   "metadata": {},
   "source": [
    "# Thomas-Fermi Completion"
   ]
  },
  {
   "cell_type": "markdown",
   "metadata": {},
   "source": [
    "Here we tabulate the various integrands required for homogeneous quantities.  These are implemented in the `tf_completion.py` file."
   ]
  },
  {
   "cell_type": "markdown",
   "metadata": {},
   "source": [
    "$$\n",
    "  \\newcommand{\\E}{\\mathcal{E}}\n",
    "  \\newcommand{\\e}{\\epsilon}\n",
    "  \\mat{M} = \\begin{pmatrix}\n",
    "    \\overbrace{\\frac{\\hbar^2k_a^2}{2m_a} - \\mu_a}^{\\e_a} & \\Delta\\\\\n",
    "    \\Delta^\\dagger & - \\underbrace{\\left(\\frac{\\hbar^2k_b^2}{2m_b} - \\mu_b\\right)}_{\\e_b}\n",
    "  \\end{pmatrix},\\\\\n",
    "  \\e_{\\pm} = \\frac{\\e_a \\pm \\e_b}{2}, \\qquad\n",
    "  \\omega_{\\pm} = \\e_- \\pm \\overbrace{\\sqrt{\\e_+^2 + \\abs{\\Delta}^2}}^{E},\n",
    "$$\n",
    "\\begin{align}\n",
    "  \\newcommand{\\intdk}{\\int \\frac{\\d^d{k}}{(2\\pi)^d}\\;}\n",
    "  n_+ &= \\intdk\\overbrace{\\left(1 - \\frac{\\epsilon^+_k}{E_k}\n",
    "               \\underbrace{\\bigl(f_\\beta(\\omega_-) - f_\\beta(\\omega_+)\\bigr)}_{f_\\nu}\n",
    "          \\right)}^{f_+}, &\n",
    "  n_- &= \\intdk\\overbrace{\\bigl(f_\\beta(\\omega_+) - f_\\beta(-\\omega_-)\\bigr)}^{f_-},\\\\\n",
    "  n_a &= \\intdk\\overbrace{\\frac{f_+ + f_-}{2}}^{f_a}, &\n",
    "  n_b &= \\intdk\\overbrace{\\frac{f_+ - f_-}{2}}^{f_a},\\\\\n",
    "  \\tau_a &= \\intdk k_a^2f_a, &\n",
    "  \\tau_b &= \\intdk k_b^2f_b,\\\\\n",
    "  \\tau_+ &= \\intdk (k_a^2f_a + k_b^2f_b), &\n",
    "  \\tau_- &= \\intdk (k_a^2f_a - k_b^2f_b),\\\\\n",
    "  \\nu &= -\\intdk\\frac{\\Delta}{2E}\n",
    "  \\overbrace{\\bigl(f_\\beta(\\omega_-)-f_\\beta(\\omega_+)\\bigr)}^{f_\\nu}, &\n",
    "  \\kappa &= \\intdk \\left(\n",
    "    \\frac{\\hbar^2k_a^2}{2m_a}f_a + \\frac{\\hbar^2k_b^2}{2m_b}f_b \n",
    "    - \\frac{\\abs{\\Delta}^2}{2E}f_\\nu\\right),\\\\\n",
    "  \\tilde{C} &= \\frac{1}{2}\\intdk \\left(\n",
    "    \\frac{1}{\\epsilon_+ + \\I 0^+} - \\frac{f_\\nu}{E}\\right).\n",
    "\\end{align}"
   ]
  },
  {
   "cell_type": "markdown",
   "metadata": {},
   "source": [
    "## Series"
   ]
  },
  {
   "cell_type": "markdown",
   "metadata": {},
   "source": [
    "Some of these integrals converge poorly and are subject to roundoff error, so we consider the following series expansions valid at $T=0$ for $k_c$ large enough that $\\omega_- < 0$ and $\\omega_+ > 0$:"
   ]
  },
  {
   "cell_type": "code",
   "execution_count": null,
   "metadata": {},
   "outputs": [],
   "source": [
    "#  Here we use sympy to generate the series expansion in k_c\n",
    "import sympy;sympy.init_printing()\n",
    "k, mu_a, mu_b = sympy.var('k, mu_a, mu_b', real=True)\n",
    "d = sympy.var(r'\\Delta', positive=True)\n",
    "np = sympy\n",
    "np.arctan2 = np.atan2\n",
    "np.angle = np.arg\n",
    "a = k**2/2 - mu_a\n",
    "b = k**2/2 - mu_b\n",
    "e_m, e_p = (a-b)/2, (a+b)/2\n",
    "E = np.sqrt(e_p**2 + d**2)\n",
    "es = [e_m-E, e_m+E]\n",
    "thetas = np.arctan2(-E-e_p, d), np.atan2(E-e_p, d)\n",
    "us = np.exp(1j*np.angle(d))*list(map(np.cos, thetas))\n",
    "vs = list(map(np.sin,thetas))\n",
    "x = sympy.var('x', positive=True)\n",
    "(abs(us[0])**2)\n",
    "#.subs(k, 1/x).series(x, n=8).subs(x, 1/k)"
   ]
  },
  {
   "cell_type": "code",
   "execution_count": null,
   "metadata": {},
   "outputs": [],
   "source": [
    "#  Here we use sympy to generate the series expansion in k_c\n",
    "import sympy;sympy.init_printing()\n",
    "q, mu_a, mu_b = sympy.var(\n",
    "    r'q, mu_a, mu_b', real=True)\n",
    "k, kz, kp, d, h, ma, mb = sympy.var(r'k, k_z, k_\\perp, \\Delta, \\hbar, m_a, m_b', positive=True)\n",
    "np = sympy\n",
    "np.arctan2 = np.atan2\n",
    "np.angle = np.arg\n",
    "q = 0\n",
    "ka2, kb2 = (kz - q)**2 + kp**2, (kz + q)**2 + kp**2\n",
    "ka2, kb2 = k**2, k**2\n",
    "ea, eb = h**2*ka2/2 - mu_a, h**2*kb2/2 - mu_b\n",
    "em, ep = (ea-eb)/2, (ea+eb)/2\n",
    "E = np.sqrt(ep**2 + d**2)\n",
    "es = [em-E, em+E]\n",
    "thetas = np.arctan2(-E-ep, d), np.atan2(E-ep, d)\n",
    "us = np.exp(1j*np.angle(d))*list(map(np.cos, thetas))\n",
    "vs = list(map(np.sin,thetas))\n",
    "x = sympy.var('x', positive=True)\n",
    "\n",
    "# T = 0 occupation factors\n",
    "f_nu = 1\n",
    "f_m = 0\n",
    "n_p = 1 - ep/E\n",
    "n_a = n_b = n_p/2\n",
    "tau_a, tau_b = ka2*n_a, kb2*n_b\n",
    "nu_delta = -f_nu/E/2\n",
    "C_tilde = nu_delta + 1/2/ep\n",
    "kappa = h**2*tau_a/2/ma + h**2*tau_b/2/mb + abs(d)*nu_delta\n",
    "#kappa.subs([(kz, kz/x), (kp, kp/x)]).series(x, n=2).subs(x, 1)\n",
    "#n_p.subs([(kz, k/x), (kp, k/x)]).series(x, n=8).subs(x, 1)\n",
    "C_tilde.subs([(k, 1/x)]).series(x, n=8).subs(x, 1/k)"
   ]
  },
  {
   "cell_type": "code",
   "execution_count": null,
   "metadata": {},
   "outputs": [],
   "source": [
    "(abs(us[0])**2).subs(ss).subs(kz, 1/x).series(x, n=8)#.subs(x, 1/k)"
   ]
  },
  {
   "cell_type": "code",
   "execution_count": null,
   "metadata": {},
   "outputs": [],
   "source": []
  }
 ],
 "metadata": {
  "kernelspec": {
   "display_name": "Python [conda env:work3]",
   "language": "python",
   "name": "conda-env-work3-py"
  },
  "language_info": {
   "codemirror_mode": {
    "name": "ipython",
    "version": 3
   },
   "file_extension": ".py",
   "mimetype": "text/x-python",
   "name": "python",
   "nbconvert_exporter": "python",
   "pygments_lexer": "ipython3",
   "version": "3.7.1"
  },
  "toc": {
   "base_numbering": 1,
   "nav_menu": {},
   "number_sections": true,
   "sideBar": true,
   "skip_h1_title": false,
   "title_cell": "Table of Contents",
   "title_sidebar": "Contents",
   "toc_cell": false,
   "toc_position": {},
   "toc_section_display": true,
   "toc_window_display": false
  }
 },
 "nbformat": 4,
 "nbformat_minor": 2
}
