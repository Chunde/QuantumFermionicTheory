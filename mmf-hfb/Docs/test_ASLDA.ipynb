{
 "cells": [
  {
   "cell_type": "code",
   "execution_count": 1,
   "metadata": {},
   "outputs": [
    {
     "data": {
      "text/html": [
       "<style>.grade {\n",
       "   background-color: #66FFCC;\n",
       "}\n",
       "</style>"
      ],
      "text/plain": [
       "<IPython.core.display.HTML object>"
      ]
     },
     "metadata": {},
     "output_type": "display_data"
    },
    {
     "data": {
      "application/javascript": [],
      "text/plain": [
       "<IPython.core.display.Javascript object>"
      ]
     },
     "metadata": {},
     "output_type": "display_data"
    },
    {
     "data": {
      "text/html": [
       "<script id=\"MathJax-Element-48\" type=\"math/tex\">\\newcommand{\\vect}[1]{\\mathbf{#1}}\n",
       "\\newcommand{\\uvect}[1]{\\hat{#1}}\n",
       "\\newcommand{\\abs}[1]{\\lvert#1\\rvert}\n",
       "\\newcommand{\\norm}[1]{\\lVert#1\\rVert}\n",
       "\\newcommand{\\I}{\\mathrm{i}}\n",
       "\\newcommand{\\ket}[1]{\\left|#1\\right\\rangle}\n",
       "\\newcommand{\\bra}[1]{\\left\\langle#1\\right|}\n",
       "\\newcommand{\\braket}[1]{\\langle#1\\rangle}\n",
       "\\newcommand{\\Braket}[1]{\\left\\langle#1\\right\\rangle}\n",
       "\\newcommand{\\op}[1]{\\mathbf{#1}}\n",
       "\\newcommand{\\mat}[1]{\\mathbf{#1}}\n",
       "\\newcommand{\\d}{\\mathrm{d}}\n",
       "\\newcommand{\\pdiff}[3][]{\\frac{\\partial^{#1} #2}{\\partial {#3}^{#1}}}\n",
       "\\newcommand{\\diff}[3][]{\\frac{\\d^{#1} #2}{\\d {#3}^{#1}}}\n",
       "\\newcommand{\\ddiff}[3][]{\\frac{\\delta^{#1} #2}{\\delta {#3}^{#1}}}\n",
       "\\newcommand{\\floor}[1]{\\left\\lfloor#1\\right\\rfloor}\n",
       "\\newcommand{\\ceil}[1]{\\left\\lceil#1\\right\\rceil}\n",
       "\\DeclareMathOperator{\\Tr}{Tr}\n",
       "\\DeclareMathOperator{\\erf}{erf}\n",
       "\\DeclareMathOperator{\\erfi}{erfi}\n",
       "\\DeclareMathOperator{\\sech}{sech}\n",
       "\\DeclareMathOperator{\\sgn}{sgn}\n",
       "\\DeclareMathOperator{\\order}{O}\n",
       "\\DeclareMathOperator{\\diag}{diag}\n",
       "\n",
       "\\newcommand{\\mylabel}[1]{\\label{#1}\\tag{#1}}\n",
       "\\newcommand{\\degree}{\\circ}</script>"
      ],
      "text/plain": [
       "<IPython.core.display.HTML object>"
      ]
     },
     "metadata": {},
     "output_type": "display_data"
    },
    {
     "data": {
      "text/html": [],
      "text/plain": [
       "<IPython.core.display.HTML object>"
      ]
     },
     "metadata": {},
     "output_type": "display_data"
    },
    {
     "data": {
      "text/html": [
       "\n",
       "<i>\n",
       "<p>This cell contains some definitions for equations and some CSS for styling\n",
       "  the notebook. If things look a bit strange, please try the following:\n",
       "<ul>\n",
       "  <li>Choose \"Trust Notebook\" from the \"File\" menu.</li>\n",
       "  <li>Re-execute this cell.</li>\n",
       "  <li>Reload the notebook.</li>\n",
       "</ul>\n",
       "</p>\n",
       "</i>\n"
      ],
      "text/plain": [
       "<IPython.core.display.HTML object>"
      ]
     },
     "metadata": {},
     "output_type": "display_data"
    },
    {
     "name": "stdout",
     "output_type": "stream",
     "text": [
      "Populating the interactive namespace from numpy and matplotlib\n"
     ]
    }
   ],
   "source": [
    "import mmf_setup;mmf_setup.nbinit(hgroot=False)\n",
    "from mmfutils.contexts import NoInterrupt\n",
    "import hfb_dir_init\n",
    "from mmfutils.plot import imcontourf\n",
    "from importlib import reload  # Python 3.4+\n",
    "import numpy as np\n",
    "from scipy.optimize import brentq\n",
    "from scipy.integrate import quad\n",
    "from uncertainties import ufloat\n",
    "import homogeneous;reload(homogeneous)\n",
    "import bcs;reload(bcs)\n",
    "from bcs import BCS\n",
    "import vortex_1d_aslda;reload(vortex_1d_aslda)\n",
    "import vortex_2d_aslda;reload(vortex_2d_aslda)\n",
    "import itertools  \n",
    "from IPython.display import display, clear_output\n",
    "%pylab inline --no-import-all\n"
   ]
  },
  {
   "cell_type": "code",
   "execution_count": 2,
   "metadata": {},
   "outputs": [],
   "source": [
    "hbar = 1\n",
    "m = 1\n",
    "mu_eff = 1.0\n",
    "n = 1.0\n",
    "e_F = 1.0\n",
    "k_F = np.sqrt(2*m*e_F)\n",
    "n_F = k_F**3/3/np.pi**2\n",
    "E_FG = 2./3*n_F*e_F\n",
    "mu = 0.59060550703283853378393810185221521748413488992993*e_F #I change this number\n",
    "delta = 0.68640205206984016444108204356564421137062514068346*e_F\n",
    "grid_size = 64\n",
    "lda = vortex_1d_aslda.ASLDA(Nx=grid_size)\n",
    "k_c = abs(lda.kx[0]).max()\n",
    "E_c = (lda.hbar*k_c)**2/2/lda.m\n",
    "lda = vortex_1d_aslda.ASLDA(Nx=grid_size, Lx=np.pi, E_c=E_c)"
   ]
  },
  {
   "cell_type": "code",
   "execution_count": 3,
   "metadata": {
    "scrolled": false
   },
   "outputs": [
    {
     "data": {
      "text/plain": [
       "[<matplotlib.lines.Line2D at 0x12c025392e8>]"
      ]
     },
     "execution_count": 3,
     "metadata": {},
     "output_type": "execute_result"
    },
    {
     "data": {
      "image/png": "[encoded data removed]",
      "text/plain": [
       "<Figure size 432x288 with 1 Axes>"
      ]
     },
     "metadata": {
      "needs_background": "light"
     },
     "output_type": "display_data"
    }
   ],
   "source": [
    "ps = np.linspace(-1,1,20)\n",
    "plt.plot(ps,lda._G(ps))"
   ]
  },
  {
   "cell_type": "markdown",
   "metadata": {},
   "source": [
    "Test the g(x) built in the functional, it should be very similar to the curve in Fig 1(PRL 101, 215301 (2008))"
   ]
  },
  {
   "cell_type": "code",
   "execution_count": 4,
   "metadata": {
    "scrolled": true
   },
   "outputs": [],
   "source": [
    "def g(x):\n",
    "    p = (1-x)/(1+x)\n",
    "    G = lda._G(p)\n",
    "    g = (G /((1+p)/2)**(5/3))**(3/5)\n",
    "    return g\n",
    "def ns(x):\n",
    "    return (1/(1+x),x/(1+x))"
   ]
  },
  {
   "cell_type": "code",
   "execution_count": 5,
   "metadata": {
    "scrolled": true
   },
   "outputs": [
    {
     "data": {
      "text/plain": [
       "[<matplotlib.lines.Line2D at 0x12c025d6a90>]"
      ]
     },
     "execution_count": 5,
     "metadata": {},
     "output_type": "execute_result"
    },
    {
     "data": {
      "image/png": "[encoded data removed]",
      "text/plain": [
       "<Figure size 432x288 with 1 Axes>"
      ]
     },
     "metadata": {
      "needs_background": "light"
     },
     "output_type": "display_data"
    }
   ],
   "source": [
    "x = np.linspace(0,1,50)\n",
    "plt.plot(x,g(x))"
   ]
  },
  {
   "cell_type": "code",
   "execution_count": 6,
   "metadata": {},
   "outputs": [
    {
     "data": {
      "text/plain": [
       "[<matplotlib.lines.Line2D at 0x12c02619e10>]"
      ]
     },
     "execution_count": 6,
     "metadata": {},
     "output_type": "execute_result"
    },
    {
     "data": {
      "image/png": "[encoded data removed]",
      "text/plain": [
       "<Figure size 432x288 with 1 Axes>"
      ]
     },
     "metadata": {
      "needs_background": "light"
     },
     "output_type": "display_data"
    }
   ],
   "source": [
    "plt.plot(x,lda._alpha_a(*ns(x)))\n",
    "plt.plot(x,lda._alpha_b(*ns(x)))"
   ]
  },
  {
   "cell_type": "markdown",
   "metadata": {},
   "source": []
  },
  {
   "cell_type": "code",
   "execution_count": 7,
   "metadata": {},
   "outputs": [],
   "source": [
    "class ASLDA_(vortex_1d_aslda.ASLDA):\n",
    "# a modified class from ASLDA with different alphas which are constant, so their derivatives are zero\n",
    "    def get_alphas(self, ns = None):\n",
    "        alpha_a,alpha_b,alpha_p =np.ones(self.Nx),np.ones(self.Nx),np.ones(self.Nx)\n",
    "        return (alpha_a,alpha_b,alpha_p)       \n",
    "        #return super().get_alphas(ns)\n",
    "    def _dp_dn(self,ns):\n",
    "        return (ns[0] * 0, ns[1]*0)\n",
    "    \n",
    "def iterate(lda, mudelta, na_avg=0.5, nb_avg=0.5, N_twist=0, **kw):\n",
    "    mu_a, mu_b, na,nb, mu_a_eff, mu_b_eff, delta,taus,kappa = mudelta\n",
    "    mus = (mu_a_eff, mu_b_eff)\n",
    "    if na is None:\n",
    "        na = np.ones(lda.Nx) * na_avg\n",
    "    if nb is None:\n",
    "        nb = np.ones(lda.Nx) * nb_avg\n",
    "    #H = lda.get_H(mus=mus,delta = delta,ns=(na,nb),taus = taus,kappa=kappa)\n",
    "    #if taus is not None:\n",
    "    #    taus[1]=-1 * taus[1]\n",
    "    ns_,taus_,kappa_ = lda.get_ns_taus_kappa_average_3d(mus=mus,delta = delta,ns=(na,nb),taus = taus,kappa=kappa,N_twist=N_twist) #lda.get_ns_taus_kappa(H) \n",
    "       \n",
    "    gx = lda.gx(ns_,taus_,kappa_)\n",
    "    na_,nb_ = ns_ # the new densities are not used in the iteration, just used for compute new mus\n",
    "    nomral_na = na_.mean() / (na_.mean() + nb_.mean())\n",
    "    nomral_nb = nb_.mean() / (na_.mean() + nb_.mean())\n",
    "    mu_a = mu_a*(1 + (na_avg - nomral_na))\n",
    "    mu_b = mu_b*(1 + (nb_avg - nomral_nb))\n",
    "    lr = 0.4\n",
    "    lo = 1 - lr\n",
    "    v_a,v_b = lda.get_modified_Vs(delta=delta,ns=(na_,nb_),taus=taus_,kappa=kappa_,alphas=lda.get_alphas((na_,nb_)))\n",
    "    mu_a_eff = mu_a + v_a * nb\n",
    "    mu_b_eff = mu_b + v_b * na\n",
    "    #delta = lda.g_eff*kappa \n",
    "    print(mu_a_eff.real.max(),mu_b_eff.real.max(),delta.real.max(), na_.real.mean(), nb_.real.mean(),gx.real.mean())\n",
    "    return (mu_a, mu_b,lo*na + lr*na_,lo*nb + lr*nb_, mu_a_eff, mu_b_eff, delta,taus_,kappa_)\n"
   ]
  },
  {
   "cell_type": "code",
   "execution_count": 8,
   "metadata": {},
   "outputs": [],
   "source": [
    "def test_iterate_ASLDA(N=5):\n",
    "    N_twist=1\n",
    "    grid_size = 8\n",
    "    aslda = ASLDA_(Nx=grid_size)\n",
    "    k_c = abs(aslda.kx).max()\n",
    "    E_c = (aslda.hbar*k_c)**2/2/aslda.m # 3 dimension, so E_c should have a factor of 3\n",
    "    aslda = ASLDA_(Nx=grid_size, Lx=0.46, E_c=E_c)\n",
    "    mu_eff = 1.0\n",
    "    k_F = np.sqrt(2*m*E_c)\n",
    "    n_F = k_F**3/3/np.pi**2\n",
    "    E_FG = 2./3*n_F*E_c\n",
    "    mu = 1# 0.59060550703283853378393810185221521748413488992993*E_c\n",
    "    delta = 0# 0.68640205206984016444108204356564421137062514068346*E_c\n",
    "    qT = (mu, mu) +(None,None)+ (mu_eff*np.ones(aslda.Nx),)*2 + (delta * np.ones((aslda.Nx),), None,None)\n",
    "    max_iteration = 5\n",
    "    v_0, n, mu, e_0 = homogeneous.get_BCS_v_n_e(delta=delta, mu_eff=mu_eff)\n",
    "    x = 1\n",
    "    with NoInterrupt(ignore=True) as interrupted:\n",
    "        while max_iteration > 0 and not interrupted:\n",
    "            if N < 0:\n",
    "                break\n",
    "            N = N - 1\n",
    "            qT = iterate(lda=aslda,mudelta = qT, N_twist=N_twist,na_avg=1/(1+x), nb_avg=x/(1+x), abs_tol=1e-2)\n",
    "            mu_a, mu_b, na,nb, mu_a_eff, mu_b_eff, delta,taus,kappa = qT\n",
    "            fig, axs = plt.subplots(nrows=1, ncols=2)\n",
    "            clear_output(wait=True)\n",
    "            plt1,plt2 = axs[0],axs[1]\n",
    "            plt1.plot(aslda.x,na.real)\n",
    "            plt1.plot(aslda.x,nb.real)\n",
    "            plt2.plot(aslda.x,mu_a_eff.real)\n",
    "            plt2.plot(aslda.x,mu_b_eff.real)\n",
    "            display(plt.gcf())\n",
    "            plt.gcf().clear()"
   ]
  },
  {
   "cell_type": "code",
   "execution_count": null,
   "metadata": {},
   "outputs": [],
   "source": []
  }
 ],
 "metadata": {
  "kernelspec": {
   "display_name": "Python 3",
   "language": "python",
   "name": "python3"
  },
  "language_info": {
   "codemirror_mode": {
    "name": "ipython",
    "version": 3
   },
   "file_extension": ".py",
   "mimetype": "text/x-python",
   "name": "python",
   "nbconvert_exporter": "python",
   "pygments_lexer": "ipython3",
   "version": "3.7.2"
  }
 },
 "nbformat": 4,
 "nbformat_minor": 2
}
