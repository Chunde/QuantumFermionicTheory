{
 "cells": [
  {
   "cell_type": "code",
   "execution_count": 1,
   "metadata": {
    "init_cell": true
   },
   "outputs": [
    {
     "data": {
      "text/html": [
       "<style>.grade {\n",
       "   background-color: #66FFCC;\n",
       "}\n",
       "</style>"
      ],
      "text/plain": [
       "<IPython.core.display.HTML object>"
      ]
     },
     "metadata": {},
     "output_type": "display_data"
    },
    {
     "data": {
      "application/javascript": [],
      "text/plain": [
       "<IPython.core.display.Javascript object>"
      ]
     },
     "metadata": {},
     "output_type": "display_data"
    },
    {
     "data": {
      "text/html": [
       "<script id=\"MathJax-Element-48\" type=\"math/tex\">\\newcommand{\\vect}[1]{\\mathbf{#1}}\n",
       "\\newcommand{\\uvect}[1]{\\hat{#1}}\n",
       "\\newcommand{\\abs}[1]{\\lvert#1\\rvert}\n",
       "\\newcommand{\\norm}[1]{\\lVert#1\\rVert}\n",
       "\\newcommand{\\I}{\\mathrm{i}}\n",
       "\\newcommand{\\ket}[1]{\\left|#1\\right\\rangle}\n",
       "\\newcommand{\\bra}[1]{\\left\\langle#1\\right|}\n",
       "\\newcommand{\\braket}[1]{\\langle#1\\rangle}\n",
       "\\newcommand{\\Braket}[1]{\\left\\langle#1\\right\\rangle}\n",
       "\\newcommand{\\op}[1]{\\mathbf{#1}}\n",
       "\\newcommand{\\mat}[1]{\\mathbf{#1}}\n",
       "\\newcommand{\\d}{\\mathrm{d}}\n",
       "\\newcommand{\\pdiff}[3][]{\\frac{\\partial^{#1} #2}{\\partial {#3}^{#1}}}\n",
       "\\newcommand{\\diff}[3][]{\\frac{\\d^{#1} #2}{\\d {#3}^{#1}}}\n",
       "\\newcommand{\\ddiff}[3][]{\\frac{\\delta^{#1} #2}{\\delta {#3}^{#1}}}\n",
       "\\newcommand{\\floor}[1]{\\left\\lfloor#1\\right\\rfloor}\n",
       "\\newcommand{\\ceil}[1]{\\left\\lceil#1\\right\\rceil}\n",
       "\\DeclareMathOperator{\\Tr}{Tr}\n",
       "\\DeclareMathOperator{\\erf}{erf}\n",
       "\\DeclareMathOperator{\\erfi}{erfi}\n",
       "\\DeclareMathOperator{\\sech}{sech}\n",
       "\\DeclareMathOperator{\\sgn}{sgn}\n",
       "\\DeclareMathOperator{\\order}{O}\n",
       "\\DeclareMathOperator{\\diag}{diag}\n",
       "\n",
       "\\newcommand{\\mylabel}[1]{\\label{#1}\\tag{#1}}\n",
       "\\newcommand{\\degree}{\\circ}</script>"
      ],
      "text/plain": [
       "<IPython.core.display.HTML object>"
      ]
     },
     "metadata": {},
     "output_type": "display_data"
    },
    {
     "data": {
      "text/html": [],
      "text/plain": [
       "<IPython.core.display.HTML object>"
      ]
     },
     "metadata": {},
     "output_type": "display_data"
    },
    {
     "data": {
      "text/html": [
       "\n",
       "<i>\n",
       "<p>This cell contains some definitions for equations and some CSS for styling\n",
       "  the notebook. If things look a bit strange, please try the following:\n",
       "<ul>\n",
       "  <li>Choose \"Trust Notebook\" from the \"File\" menu.</li>\n",
       "  <li>Re-execute this cell.</li>\n",
       "  <li>Reload the notebook.</li>\n",
       "</ul>\n",
       "</p>\n",
       "</i>\n"
      ],
      "text/plain": [
       "<IPython.core.display.HTML object>"
      ]
     },
     "metadata": {},
     "output_type": "display_data"
    }
   ],
   "source": [
    "import mmf_setup\n",
    "try: mmf_setup.nbinit()\n",
    "except: import nbinit\n",
    "import numpy as np\n",
    "from importlib import reload\n",
    "from mmfutils.contexts import NoInterrupt"
   ]
  },
  {
   "cell_type": "markdown",
   "metadata": {},
   "source": [
    "# Homogeneous Matter"
   ]
  },
  {
   "cell_type": "markdown",
   "metadata": {},
   "source": [
    "Here we tabulate the various integrands required for homogeneous quantities.  These are implemented in the `tf_completion.py` file.\n",
    "\n",
    "$$\n",
    "  \\newcommand{\\E}{\\mathcal{E}}\n",
    "  \\newcommand{\\e}{\\epsilon}\n",
    "  \\mat{M} = \\begin{pmatrix}\n",
    "    \\overbrace{\\frac{\\hbar^2k_a^2}{2m_a} - \\mu_a}^{\\e_a} & \\Delta\\\\\n",
    "    \\Delta^\\dagger & - \\underbrace{\\left(\\frac{\\hbar^2k_b^2}{2m_b} - \\mu_b\\right)}_{\\e_b}\n",
    "  \\end{pmatrix},\\\\\n",
    "  \\e_{\\pm} = \\frac{\\e_a \\pm \\e_b}{2}, \\qquad\n",
    "  \\omega_{\\pm} = \\e_- \\pm \\overbrace{\\sqrt{\\e_+^2 + \\abs{\\Delta}^2}}^{E},\n",
    "$$\n",
    "\\begin{align}\n",
    "  \\newcommand{\\intdk}{\\int \\frac{\\d^d{k}}{(2\\pi)^d}\\;}\n",
    "  n_+ &= \\intdk\\overbrace{\\left(1 - \\frac{\\epsilon^+_k}{E_k}\n",
    "               \\underbrace{\\bigl(f_\\beta(\\omega_-) - f_\\beta(\\omega_+)\\bigr)}_{f_\\nu}\n",
    "          \\right)}^{f_+}, &\n",
    "  n_- &= \\intdk\\overbrace{\\bigl(f_\\beta(\\omega_+) - f_\\beta(-\\omega_-)\\bigr)}^{f_-},\\\\\n",
    "  n_a &= \\intdk\\overbrace{\\frac{f_+ + f_-}{2}}^{f_a}, &\n",
    "  n_b &= \\intdk\\overbrace{\\frac{f_+ - f_-}{2}}^{f_a},\\\\\n",
    "  \\tau_a &= \\intdk k_a^2f_a, &\n",
    "  \\tau_b &= \\intdk k_b^2f_b,\\\\\n",
    "  \\tau_+ &= \\intdk (k_a^2f_a + k_b^2f_b), &\n",
    "  \\tau_- &= \\intdk (k_a^2f_a - k_b^2f_b),\\\\\n",
    "  \\nu &= -\\intdk\\frac{\\Delta}{2E}\n",
    "  \\overbrace{\\bigl(f_\\beta(\\omega_-)-f_\\beta(\\omega_+)\\bigr)}^{f_\\nu}, &\n",
    "  \\kappa &= \\intdk \\left(\n",
    "    \\frac{\\hbar^2k_a^2}{2m_a}f_a + \\frac{\\hbar^2k_b^2}{2m_b}f_b \n",
    "    - \\frac{\\abs{\\Delta}^2}{2E}f_\\nu\\right),\\\\\n",
    "  \\tilde{C} &= \\frac{1}{2}\\intdk \\left(\n",
    "    \\frac{1}{\\epsilon_+ + \\I 0^+} - \\frac{f_\\nu}{E}\\right).\n",
    "\\end{align}"
   ]
  },
  {
   "cell_type": "markdown",
   "metadata": {},
   "source": [
    "# Lattice"
   ]
  },
  {
   "cell_type": "markdown",
   "metadata": {},
   "source": [
    "When working on a lattice, one can use the homogeneous equations, by replacing the integral with a sum over lattice momenta.  We give the explicit relationships here for a box of length $L$ with $N$ points and index $n \\in [0, 1, \\cdots N-1]$.  Note that the ordering of the indices $m$ for $k_m$ is different than listed because of how the FFT is implemented numerically. (See the following code for the explicit ordering.)  The order listed can be obtained from this using `np.fft.fftshift()`.\n",
    "\n",
    "$$\n",
    "  \\d{x} = \\frac{L}{N}, \\qquad\n",
    "  x_n = \\left.n\\d{x}\\right|_{n=0}^{N-1} - \\frac{L}{2}, \\qquad\n",
    "  k_m = k_B + \\left.\\frac{2\\pi m}{L}\\right|_{m=-\\ceil{\\frac{N}{2}}}^{\\floor{\\frac{N-1}{2}}}\n",
    "      = \\frac{2\\pi m + \\theta_B}{L},\\\\\n",
    "  \\mat{U}_{mn} = e^{-\\I(x_n + L/2)k_m} = e^{-\\frac{2\\pi \\I nm}{N}}e^{-\\I Lk_m/2}, \\qquad\n",
    "  \\mat{U}^{-1} = \\frac{1}{N}\\mat{U}^{\\dagger}.\n",
    "$$\n",
    "\n",
    "Here we have included the Bloch momentum $k_B = \\frac{\\theta_B}{2\\pi L}$ used when one implements a twist $\\pi/2 \\leq \\theta_B < \\pi/2$ which acts to fill in the missing momenta."
   ]
  },
  {
   "cell_type": "code",
   "execution_count": 2,
   "metadata": {},
   "outputs": [],
   "source": [
    "import numpy as np\n",
    "N, L = 8, 2.0\n",
    "dx = L/N\n",
    "x = np.arange(N) * dx - L/2.0\n",
    "k = 2*np.pi * np.fft.fftfreq(N, dx)\n",
    "m = ((np.arange(N)+N//2) % N - N//2)\n",
    "k_ = 2*np.pi * m / L\n",
    "assert np.allclose(k, k_)\n",
    "assert np.allclose(np.fft.fftshift(m), np.arange(-(N-1)//2, (N+1)//2))\n",
    "assert np.allclose(np.fft.fftshift(m), np.arange(-np.ceil(N/2), np.floor((N+1)/2)))\n",
    "\n",
    "U = np.exp(-1j*(x[None, :] + L/2.0)*k[:, None])\n",
    "Uinv = U.conj().T/N\n",
    "f = np.random.random(N) + np.random.random(N)*1j - 0.5 - 0.5j\n",
    "assert np.allclose(np.fft.fft(f), U.dot(f))\n",
    "assert np.allclose(np.fft.ifft(f), np.linalg.inv(U).dot(f))\n",
    "assert np.allclose(np.fft.ifft(f), Uinv.dot(f))"
   ]
  },
  {
   "cell_type": "markdown",
   "metadata": {},
   "source": [
    "From this we can see that summing over all lattice momentum while averaging over twist will completely remove any IR components of the error leaving only those due to the limited maximum $k_c \\approx \\pi N/L = \\pi/\\d{x}$ which can only be removed by decreasing the lattice spacing $\\d{x}$.  For this reason, we usually provide the user with the option of specifying $\\d{x}$ rather than requiring both $L$ and $N$."
   ]
  },
  {
   "cell_type": "markdown",
   "metadata": {},
   "source": [
    "# Test Cases"
   ]
  },
  {
   "cell_type": "markdown",
   "metadata": {},
   "source": [
    "## 1D\n",
    "\n",
    "In 1D, we have the following:\n",
    "\n",
    "$$\n",
    "  n_+ = \\frac{k_F}{\\pi}, \\qquad \n",
    "  \\e_F = \\frac{\\hbar^2 k_F^2}{2m}, \\qquad\n",
    "  \\E_{FG} = \\frac{k_F^3}{3m\\pi} = \\frac{2}{3}n_+\\e_F, \\qquad\n",
    "  \\tilde{C} = -\\frac{m}{\\hbar^2k_F} = -\\frac{1}{g} = \\frac{1}{v_0} = -\\frac{\\nu}{\\Delta},\\\\\n",
    "  \\frac{\\mu}{\\e_F} = 0.28223521359748843,\\qquad\n",
    "  \\frac{\\Delta}{\\e_F} = 0.411726229961806.\n",
    "$$"
   ]
  },
  {
   "cell_type": "code",
   "execution_count": 5,
   "metadata": {},
   "outputs": [
    {
     "name": "stdout",
     "output_type": "stream",
     "text": [
      "1.000000000000+/-0.000000000007\n"
     ]
    },
    {
     "data": {
      "text/plain": [
       "(0.999999999999994, 0.31830988618384937)"
      ]
     },
     "execution_count": 5,
     "metadata": {},
     "output_type": "execute_result"
    }
   ],
   "source": [
    "import numpy as np\n",
    "from mmf_hfb import homogeneous;reload(homogeneous)\n",
    "hbar = m = kF = 1.0\n",
    "nF = kF/np.pi\n",
    "eF = (hbar*kF)**2/2/m\n",
    "E_FG = 2*nF*eF/3\n",
    "C_unit = m/hbar**2/kF\n",
    "\n",
    "Nx = 32\n",
    "Lx = 10.0\n",
    "\n",
    "mu = 0.28223521359748843*eF\n",
    "delta = 0.411726229961806*eF\n",
    "s = homogeneous.Homogeneous1D()\n",
    "res = s.get_BCS_v_n_e((mu, mu), delta)\n",
    "print(res.v_0)\n",
    "assert np.allclose(res.v_0.n, 1.0)\n",
    "assert np.allclose(sum(res.ns).n, nF)\n",
    "res.v_0.n, sum(res.ns).n"
   ]
  },
  {
   "cell_type": "code",
   "execution_count": 6,
   "metadata": {},
   "outputs": [
    {
     "data": {
      "text/plain": [
       "(1.0087570327010573, 0.3156047098287701)"
      ]
     },
     "execution_count": 6,
     "metadata": {},
     "output_type": "execute_result"
    }
   ],
   "source": [
    "# Here we do the same integrals using a grid:\n",
    "L = 10.0\n",
    "N = 32\n",
    "s = homogeneous.Homogeneous1D(Lxyz=(L,), Nxyz=(N,))\n",
    "res = s.get_BCS_v_n_e((mu, mu), delta, twist=1)\n",
    "res.v_0.n, sum(res.ns).n"
   ]
  },
  {
   "cell_type": "code",
   "execution_count": 7,
   "metadata": {},
   "outputs": [
    {
     "data": {
      "text/plain": [
       "(1.008757032701057, 0.3156047098287723)"
      ]
     },
     "execution_count": 7,
     "metadata": {},
     "output_type": "execute_result"
    }
   ],
   "source": [
    "# Now using the lattice code:\n",
    "from mmf_hfb import bcs;reload(bcs)\n",
    "\n",
    "s = bcs.BCS_1D(Nx=N, Lx=L)\n",
    "res = s.get_densities((mu, mu), delta)\n",
    "v_0 = -delta/res.nu.mean().real\n",
    "v_0, (res.n_a + res.n_b).mean()"
   ]
  },
  {
   "cell_type": "markdown",
   "metadata": {},
   "source": [
    "## 2D\n",
    "\n",
    "In 2D, we must compute results but we seem to have:\n",
    "\n",
    "$$\n",
    "  n_+ = \\frac{k_F^2}{2\\pi}, \\qquad\n",
    "  \\e_F = \\frac{\\hbar^2 k_F^2}{2m}, \\qquad\n",
    "  \\E_{FG} = \\frac{k_F^4}{8m\\pi} = \\frac{1}{2}n_+\\e_F, \\qquad\n",
    "  \\tilde{C} = 0 = -\\frac{1}{g_c} + \\Lambda_c = -\\frac{\\nu}{\\Delta} + \\Lambda_c,\\\\\n",
    "  \\frac{\\mu}{\\e_F} = \\frac{1}{2},\\qquad\n",
    "  \\frac{\\Delta}{\\e_F} = \\sqrt{2}\\\\\n",
    "$$"
   ]
  },
  {
   "cell_type": "code",
   "execution_count": 8,
   "metadata": {},
   "outputs": [
    {
     "data": {
      "text/plain": [
       "0.9999999999757271+/-4.1656876734067677e-10"
      ]
     },
     "execution_count": 8,
     "metadata": {},
     "output_type": "execute_result"
    }
   ],
   "source": [
    "import numpy as np\n",
    "from mmf_hfb import homogeneous;reload(homogeneous)\n",
    "hbar = m = kF = 1.0\n",
    "nF = kF**2/2/np.pi\n",
    "eF = (hbar*kF)**2/2/m\n",
    "E_FG = nF*eF/2\n",
    "\n",
    "N = 16\n",
    "L = 10.0\n",
    "\n",
    "mu = 0.5 * eF\n",
    "delta = np.sqrt(2) * eF\n",
    "s = homogeneous.Homogeneous2D()\n",
    "res = s.get_densities((mu, mu), delta)\n",
    "n_p = res.n_a + res.n_b\n",
    "assert np.allclose(n_p.n, nF)\n",
    "n_p/nF\n",
    "\n",
    "#res = s.get_BCS_v_n_e((mu, mu), delta)\n",
    "#assert np.allclose(res.v_0.n, 1.0)\n",
    "#assert np.allclose(sum(res.ns).n, nF)\n",
    "#res.v_0.n, sum(res.ns).n / nF"
   ]
  },
  {
   "cell_type": "code",
   "execution_count": 9,
   "metadata": {},
   "outputs": [
    {
     "data": {
      "text/plain": [
       "0.9835106492582562+/-0"
      ]
     },
     "execution_count": 9,
     "metadata": {},
     "output_type": "execute_result"
    }
   ],
   "source": [
    "# Here we do the same integrals using a grid:\n",
    "Nxyz = (N,)*2\n",
    "Lxyz = (L,)*2\n",
    "s = homogeneous.Homogeneous2D(Nxyz=Nxyz, Lxyz=Lxyz)\n",
    "res = s.get_densities((mu, mu), delta)\n",
    "(res.n_a + res.n_b)/nF"
   ]
  },
  {
   "cell_type": "code",
   "execution_count": 10,
   "metadata": {},
   "outputs": [
    {
     "data": {
      "text/plain": [
       "0.9835106492582563"
      ]
     },
     "execution_count": 10,
     "metadata": {},
     "output_type": "execute_result"
    }
   ],
   "source": [
    "# Now using the lattice code:\n",
    "from mmf_hfb import bcs;reload(bcs)\n",
    "\n",
    "s = bcs.BCS_2D(Nxy=Nxyz, Lxy=Lxyz)\n",
    "res = s.get_densities((mu, mu), delta)\n",
    "(res.n_a + res.n_b).mean()/nF"
   ]
  },
  {
   "cell_type": "markdown",
   "metadata": {},
   "source": [
    "## 3D\n",
    "\n",
    "Here we check the results for homogeneous matter in various dimensions.  In 3D can compare these with the results we know for the BdG equation (Eagles-Leggett model) at unitarity:\n",
    "\n",
    "$$\n",
    "  \\newcommand{\\E}{\\mathcal{E}}\\newcommand{\\e}{\\epsilon}\n",
    "  n_+ = n_a+n_b = \\frac{k_F^3}{3\\pi^2}, \\qquad\n",
    "  \\e_F = \\frac{\\hbar^2 k_F^2}{2m}, \\qquad\n",
    "  \\E_{FG} = \\frac{k_F^5}{10m\\pi^2} = \\frac{3}{5}n_+\\e_F, \\qquad\n",
    "  \\tilde{C} = 0,\n",
    "$$\n",
    "\\begin{align*}\n",
    "  \\xi = \\frac{\\E}{\\E_{FG}}\n",
    "      = \\frac{\\mu}{\\e_F} &= 0.59060550703283853378393810185221521748413488992993\\cdots\\\\\n",
    "  \\frac{\\Delta}{\\e_F} &= 0.68640205206984016444108204356564421137062514068346\\cdots\\\\\n",
    "  \\frac{\\Delta}{\\mu}& = 1.162200561790012570995259741628790656202543181557689\\cdots.\n",
    "\\end{align*}"
   ]
  },
  {
   "cell_type": "code",
   "execution_count": 11,
   "metadata": {},
   "outputs": [
    {
     "data": {
      "text/plain": [
       "0.9999999912515759+/-1.163608153715255e-08"
      ]
     },
     "execution_count": 11,
     "metadata": {},
     "output_type": "execute_result"
    }
   ],
   "source": [
    "import numpy as np\n",
    "from mmf_hfb import homogeneous;reload(homogeneous)\n",
    "hbar = m = kF = 1.0\n",
    "xi = 0.59060550703283853378393810185221521748413488992993\n",
    "nF = kF**3/3/np.pi**2\n",
    "eF = (hbar*kF)**2/2/m\n",
    "E_FG = 3*nF*eF/5\n",
    "\n",
    "N = 8\n",
    "L = 10.0\n",
    "\n",
    "mu = xi * eF\n",
    "delta = 0.68640205206984016444108204356564421137062514068346 * eF\n",
    "s = homogeneous.Homogeneous3D()\n",
    "res = s.get_densities((mu, mu), delta)\n",
    "n_p = res.n_a + res.n_b\n",
    "assert np.allclose(n_p.n, nF)\n",
    "n_p/nF"
   ]
  },
  {
   "cell_type": "code",
   "execution_count": 12,
   "metadata": {},
   "outputs": [
    {
     "data": {
      "text/plain": [
       "0.8814311004122932+/-0"
      ]
     },
     "execution_count": 12,
     "metadata": {},
     "output_type": "execute_result"
    }
   ],
   "source": [
    "# Here we do the same integrals using a grid:\n",
    "Nxyz = (N,)*3\n",
    "Lxyz = (L,)*3\n",
    "s = homogeneous.Homogeneous3D(Nxyz=Nxyz, Lxyz=Lxyz)\n",
    "res = s.get_densities((mu, mu), delta)\n",
    "(res.n_a + res.n_b)/nF"
   ]
  },
  {
   "cell_type": "code",
   "execution_count": 13,
   "metadata": {},
   "outputs": [
    {
     "data": {
      "text/plain": [
       "0.8814311004122934"
      ]
     },
     "execution_count": 13,
     "metadata": {},
     "output_type": "execute_result"
    }
   ],
   "source": [
    "# Now using the lattice code:\n",
    "from mmf_hfb import bcs;reload(bcs)\n",
    "\n",
    "s = bcs.BCS_3D(Nxyz=Nxyz, Lxyz=Lxyz)\n",
    "res = s.get_densities((mu, mu), delta)\n",
    "(res.n_a + res.n_b).mean()/nF"
   ]
  },
  {
   "cell_type": "markdown",
   "metadata": {},
   "source": [
    "# Error Check\n",
    "* We check how the relative errors for $\\nu_0$ and densities vary with respect to $N$, $L$, and twist number"
   ]
  },
  {
   "cell_type": "code",
   "execution_count": 30,
   "metadata": {},
   "outputs": [
    {
     "name": "stdout",
     "output_type": "stream",
     "text": [
      "Populating the interactive namespace from numpy and matplotlib\n",
      "2.201375026+/-0.000000007 [0.4225357371305345+/-2.324476854328613e-11\n",
      " 0.4225357371305345+/-2.324476854328613e-11] [0.06984038089885869+/-3.096506296556046e-09\n",
      " 0.06984038089885869+/-3.096506296556046e-09]\n"
     ]
    }
   ],
   "source": [
    "%pylab inline --no-import-all\n",
    "from mmf_hfb import bcs;reload(bcs)\n",
    "from mmf_hfb import homogeneous;reload(homogeneous)\n",
    "\n",
    "delta = 1.0\n",
    "mu_eff = 1.0\n",
    "m = 1.0\n",
    "v_0, n, mu, e_0 = homogeneous.Homogeneous1D().get_BCS_v_n_e((mu_eff,)*2, delta=delta)\n",
    "print(v_0,n,mu)\n",
    "N_twist = 2\n",
    "\n",
    "def get_err(N, L, N_twist=1):\n",
    "    b = homogeneous.Homogeneous1D(Nxyz=(N,), Lxyz=(L,))\n",
    "    res = b.get_BCS_v_n_e((mu_eff, mu_eff), delta, twist=N_twist)\n",
    "    na, nb = res.ns\n",
    "    k_max = np.pi*N/L\n",
    "    dn_UV = 2*m**2*delta**2/3/np.pi/k_max**3 + 8*m**3*mu_eff*delta**2/5/np.pi/k_max**5\n",
    "    dd_UV = res.v_0*m*delta/np.pi/k_max + 2*v_0*m**2*mu_eff/3/np.pi/k_max**3\n",
    "    return [[na.n.real + nb.n.real, res.v_0.n],[dn_UV, dd_UV]]\n",
    "\n",
    "def get_errs(Ns, Ls, N_twist=1):\n",
    "    Ns, Ls = np.asarray(Ns), np.asarray(Ls)\n",
    "    res_NL = []\n",
    "    res_UV = []\n",
    "    for L in Ls:\n",
    "        res_NL_ = []\n",
    "        res_UV_ = []\n",
    "        for N in Ns:\n",
    "            n_d, d_UV = get_err(N=N, L=L, N_twist=N_twist)\n",
    "            res_NL_.append(n_d)\n",
    "            res_UV_.append(d_UV)\n",
    "        res_NL.append(res_NL_)\n",
    "        res_UV.append(res_UV_)\n",
    "    return np.array([res_NL, res_UV])"
   ]
  },
  {
   "cell_type": "code",
   "execution_count": 31,
   "metadata": {},
   "outputs": [
    {
     "ename": "ValueError",
     "evalue": "operands could not be broadcast together with shapes (5,) (2,) ",
     "output_type": "error",
     "traceback": [
      "\u001b[0;31m---------------------------------------------------------------------------\u001b[0m",
      "\u001b[0;31mValueError\u001b[0m                                Traceback (most recent call last)",
      "\u001b[0;32m<ipython-input-31-2969abf84930>\u001b[0m in \u001b[0;36m<module>\u001b[0;34m\u001b[0m\n\u001b[1;32m      8\u001b[0m     \u001b[0mplt\u001b[0m\u001b[0;34m.\u001b[0m\u001b[0msubplot\u001b[0m\u001b[0;34m(\u001b[0m\u001b[0;36m101\u001b[0m \u001b[0;34m+\u001b[0m \u001b[0mlen\u001b[0m\u001b[0;34m(\u001b[0m\u001b[0mN_twists\u001b[0m\u001b[0;34m)\u001b[0m\u001b[0;34m*\u001b[0m\u001b[0;36m10\u001b[0m \u001b[0;34m+\u001b[0m \u001b[0m_n\u001b[0m\u001b[0;34m)\u001b[0m\u001b[0;34m\u001b[0m\u001b[0;34m\u001b[0m\u001b[0m\n\u001b[1;32m      9\u001b[0m     \u001b[0;32mfor\u001b[0m \u001b[0m_i\u001b[0m\u001b[0;34m,\u001b[0m \u001b[0mL\u001b[0m \u001b[0;32min\u001b[0m \u001b[0menumerate\u001b[0m\u001b[0;34m(\u001b[0m\u001b[0mLs\u001b[0m\u001b[0;34m)\u001b[0m\u001b[0;34m:\u001b[0m\u001b[0;34m\u001b[0m\u001b[0;34m\u001b[0m\u001b[0m\n\u001b[0;32m---> 10\u001b[0;31m         \u001b[0m_l\u001b[0m\u001b[0;34m,\u001b[0m \u001b[0;34m=\u001b[0m \u001b[0mplt\u001b[0m\u001b[0;34m.\u001b[0m\u001b[0mloglog\u001b[0m\u001b[0;34m(\u001b[0m\u001b[0mNs\u001b[0m\u001b[0;34m,\u001b[0m \u001b[0mabs\u001b[0m\u001b[0;34m(\u001b[0m\u001b[0mn_\u001b[0m\u001b[0;34m[\u001b[0m\u001b[0;34m:\u001b[0m\u001b[0;34m,\u001b[0m \u001b[0m_i\u001b[0m\u001b[0;34m]\u001b[0m\u001b[0;34m-\u001b[0m\u001b[0mn\u001b[0m\u001b[0;34m)\u001b[0m\u001b[0;34m/\u001b[0m\u001b[0mn\u001b[0m\u001b[0;34m,\u001b[0m \u001b[0;34m'--+'\u001b[0m\u001b[0;34m,\u001b[0m \u001b[0mlabel\u001b[0m\u001b[0;34m=\u001b[0m\u001b[0;34mf'$n({L})$'\u001b[0m\u001b[0;34m,\u001b[0m \u001b[0malpha\u001b[0m\u001b[0;34m=\u001b[0m\u001b[0;36m0.5\u001b[0m\u001b[0;34m)\u001b[0m\u001b[0;34m\u001b[0m\u001b[0;34m\u001b[0m\u001b[0m\n\u001b[0m\u001b[1;32m     11\u001b[0m         plt.loglog(Ns, abs(nu_[:, _i]-v_0)/v_0, '--o', c=_l.get_c(),\n\u001b[1;32m     12\u001b[0m                    label=r'$\\nu_0({})$'.format(L), alpha=0.5)\n",
      "\u001b[0;31mValueError\u001b[0m: operands could not be broadcast together with shapes (5,) (2,) "
     ]
    },
    {
     "data": {
      "image/png": "[encoded data removed]",
      "text/plain": [
       "<Figure size 1080x360 with 1 Axes>"
      ]
     },
     "metadata": {
      "needs_background": "light"
     },
     "output_type": "display_data"
    }
   ],
   "source": [
    "Ns = 2**np.arange(5, 10)\n",
    "Ls = [1.0, 10.0, 30.0]\n",
    "N_twists = [1, 2, 4]\n",
    "plt.figure(figsize=(5*len(N_twists), 5))\n",
    "for _n, N_twist in enumerate(N_twists):\n",
    "    res_NL, res_UV = get_errs(Ns=Ns, Ls=Ls, N_twist=N_twist)\n",
    "    n_, nu_ = np.array(res_NL).T\n",
    "    plt.subplot(101 + len(N_twists)*10 + _n)\n",
    "    for _i, L in enumerate(Ls):\n",
    "        _l, = plt.loglog(Ns, abs(n_[:, _i]-n)/n, '--+', label=f'$n({L})$', alpha=0.5)\n",
    "        plt.loglog(Ns, abs(nu_[:, _i]-v_0)/v_0, '--o', c=_l.get_c(),\n",
    "                   label=r'$\\nu_0({})$'.format(L), alpha=0.5)\n",
    "        plt.loglog(Ns, abs(res_UV[_i, :, 0])/n, ':', c=_l.get_c())\n",
    "        #plt.loglog(Ns, abs(res_UV[_i, :, 1])/delta, ':', c=_l.get_c())\n",
    "    plt.ylabel('Rel err')\n",
    "    plt.xlabel('N')\n",
    "    plt.legend()\n",
    "    plt.title(f\"N_twist={N_twist}\")"
   ]
  },
  {
   "cell_type": "markdown",
   "metadata": {},
   "source": [
    "It can be seen from the above plots, $\\nu$ seems to converge very poorly, while the density become accurater as $L$,$N$ and twist number increase."
   ]
  },
  {
   "cell_type": "markdown",
   "metadata": {},
   "source": [
    "## <font color=\"red\">Chunde: To Do</font>"
   ]
  },
  {
   "cell_type": "markdown",
   "metadata": {},
   "source": [
    "Demonstrate the IR and UV convergence of the finite basis."
   ]
  },
  {
   "cell_type": "code",
   "execution_count": 33,
   "metadata": {},
   "outputs": [
    {
     "ename": "TypeError",
     "evalue": "unsupported operand type(s) for -: 'complex' and 'AffineScalarFunc'",
     "output_type": "error",
     "traceback": [
      "\u001b[0;31m---------------------------------------------------------------------------\u001b[0m",
      "\u001b[0;31mTypeError\u001b[0m                                 Traceback (most recent call last)",
      "\u001b[0;32m<ipython-input-33-e30542d2718b>\u001b[0m in \u001b[0;36m<module>\u001b[0;34m\u001b[0m\n\u001b[1;32m      1\u001b[0m \u001b[0;32mfrom\u001b[0m \u001b[0mmmf_hfb\u001b[0m \u001b[0;32mimport\u001b[0m \u001b[0mbcs\u001b[0m\u001b[0;34m;\u001b[0m\u001b[0mreload\u001b[0m\u001b[0;34m(\u001b[0m\u001b[0mbcs\u001b[0m\u001b[0;34m)\u001b[0m\u001b[0;34m\u001b[0m\u001b[0;34m\u001b[0m\u001b[0m\n\u001b[1;32m      2\u001b[0m \u001b[0ms\u001b[0m \u001b[0;34m=\u001b[0m \u001b[0mbcs\u001b[0m\u001b[0;34m.\u001b[0m\u001b[0mBCS_1D\u001b[0m\u001b[0;34m(\u001b[0m\u001b[0mLx\u001b[0m\u001b[0;34m=\u001b[0m\u001b[0;36m32.0\u001b[0m\u001b[0;34m,\u001b[0m \u001b[0mNx\u001b[0m\u001b[0;34m=\u001b[0m\u001b[0;36m2\u001b[0m\u001b[0;34m)\u001b[0m\u001b[0;34m\u001b[0m\u001b[0;34m\u001b[0m\u001b[0m\n\u001b[0;32m----> 3\u001b[0;31m \u001b[0mres\u001b[0m \u001b[0;34m=\u001b[0m \u001b[0ms\u001b[0m\u001b[0;34m.\u001b[0m\u001b[0mget_densities\u001b[0m\u001b[0;34m(\u001b[0m\u001b[0mmus\u001b[0m\u001b[0;34m=\u001b[0m\u001b[0;34m(\u001b[0m\u001b[0mmu\u001b[0m\u001b[0;34m,\u001b[0m \u001b[0mmu\u001b[0m\u001b[0;34m)\u001b[0m\u001b[0;34m,\u001b[0m \u001b[0mdelta\u001b[0m\u001b[0;34m=\u001b[0m\u001b[0mdelta\u001b[0m\u001b[0;34m,\u001b[0m\u001b[0mN_twist\u001b[0m\u001b[0;34m=\u001b[0m\u001b[0;36m1\u001b[0m\u001b[0;34m)\u001b[0m\u001b[0;34m\u001b[0m\u001b[0;34m\u001b[0m\u001b[0m\n\u001b[0m\u001b[1;32m      4\u001b[0m \u001b[0mres\u001b[0m\u001b[0;34m.\u001b[0m\u001b[0mnu\u001b[0m\u001b[0;34m.\u001b[0m\u001b[0mmean\u001b[0m\u001b[0;34m(\u001b[0m\u001b[0;34m)\u001b[0m\u001b[0;34m,\u001b[0m \u001b[0;34m(\u001b[0m\u001b[0mres\u001b[0m\u001b[0;34m.\u001b[0m\u001b[0mn_a\u001b[0m \u001b[0;34m+\u001b[0m \u001b[0mres\u001b[0m\u001b[0;34m.\u001b[0m\u001b[0mn_b\u001b[0m\u001b[0;34m)\u001b[0m\u001b[0;34m.\u001b[0m\u001b[0mmean\u001b[0m\u001b[0;34m(\u001b[0m\u001b[0;34m)\u001b[0m\u001b[0;34m\u001b[0m\u001b[0;34m\u001b[0m\u001b[0m\n",
      "\u001b[0;32m~/work/others/quantum-fermion-theories/mmf_hfb/bcs.py\u001b[0m in \u001b[0;36mget_densities\u001b[0;34m(self, mus, delta, N_twist)\u001b[0m\n\u001b[1;32m    163\u001b[0m \u001b[0;34m\u001b[0m\u001b[0m\n\u001b[1;32m    164\u001b[0m     \u001b[0;32mdef\u001b[0m \u001b[0mget_densities\u001b[0m\u001b[0;34m(\u001b[0m\u001b[0mself\u001b[0m\u001b[0;34m,\u001b[0m \u001b[0mmus\u001b[0m\u001b[0;34m,\u001b[0m \u001b[0mdelta\u001b[0m\u001b[0;34m,\u001b[0m \u001b[0mN_twist\u001b[0m\u001b[0;34m=\u001b[0m\u001b[0;36m1\u001b[0m\u001b[0;34m)\u001b[0m\u001b[0;34m:\u001b[0m\u001b[0;34m\u001b[0m\u001b[0;34m\u001b[0m\u001b[0m\n\u001b[0;32m--> 165\u001b[0;31m         \u001b[0mR\u001b[0m\u001b[0;34m,\u001b[0m \u001b[0mRm\u001b[0m \u001b[0;34m=\u001b[0m \u001b[0mself\u001b[0m\u001b[0;34m.\u001b[0m\u001b[0mget_Rs\u001b[0m\u001b[0;34m(\u001b[0m\u001b[0mmus\u001b[0m\u001b[0;34m=\u001b[0m\u001b[0mmus\u001b[0m\u001b[0;34m,\u001b[0m \u001b[0mdelta\u001b[0m\u001b[0;34m=\u001b[0m\u001b[0mdelta\u001b[0m\u001b[0;34m,\u001b[0m \u001b[0mN_twist\u001b[0m\u001b[0;34m=\u001b[0m\u001b[0mN_twist\u001b[0m\u001b[0;34m)\u001b[0m\u001b[0;34m\u001b[0m\u001b[0;34m\u001b[0m\u001b[0m\n\u001b[0m\u001b[1;32m    166\u001b[0m         \u001b[0m_N\u001b[0m \u001b[0;34m=\u001b[0m \u001b[0mR\u001b[0m\u001b[0;34m.\u001b[0m\u001b[0mshape\u001b[0m\u001b[0;34m[\u001b[0m\u001b[0;36m0\u001b[0m\u001b[0;34m]\u001b[0m \u001b[0;34m//\u001b[0m \u001b[0;36m2\u001b[0m\u001b[0;34m\u001b[0m\u001b[0;34m\u001b[0m\u001b[0m\n\u001b[1;32m    167\u001b[0m         \u001b[0mr_a\u001b[0m \u001b[0;34m=\u001b[0m \u001b[0mR\u001b[0m\u001b[0;34m[\u001b[0m\u001b[0;34m:\u001b[0m\u001b[0m_N\u001b[0m\u001b[0;34m,\u001b[0m \u001b[0;34m:\u001b[0m\u001b[0m_N\u001b[0m\u001b[0;34m]\u001b[0m\u001b[0;34m\u001b[0m\u001b[0;34m\u001b[0m\u001b[0m\n",
      "\u001b[0;32m~/work/others/quantum-fermion-theories/mmf_hfb/bcs.py\u001b[0m in \u001b[0;36mget_Rs\u001b[0;34m(self, mus, delta, N_twist, abs_tol)\u001b[0m\n\u001b[1;32m    155\u001b[0m             \u001b[0mRp_Rm\u001b[0m \u001b[0;34m=\u001b[0m \u001b[0;36m0\u001b[0m\u001b[0;34m\u001b[0m\u001b[0;34m\u001b[0m\u001b[0m\n\u001b[1;32m    156\u001b[0m             \u001b[0;32mfor\u001b[0m \u001b[0mtwist\u001b[0m \u001b[0;32min\u001b[0m \u001b[0mtwists\u001b[0m\u001b[0;34m:\u001b[0m\u001b[0;34m\u001b[0m\u001b[0;34m\u001b[0m\u001b[0m\n\u001b[0;32m--> 157\u001b[0;31m                 \u001b[0mRp_Rm\u001b[0m \u001b[0;34m+=\u001b[0m \u001b[0mget_Rs\u001b[0m\u001b[0;34m(\u001b[0m\u001b[0mtwists\u001b[0m\u001b[0;34m=\u001b[0m\u001b[0;34m(\u001b[0m\u001b[0mtwist\u001b[0m\u001b[0;34m,\u001b[0m\u001b[0;34m)\u001b[0m\u001b[0;34m)\u001b[0m\u001b[0;34m\u001b[0m\u001b[0;34m\u001b[0m\u001b[0m\n\u001b[0m\u001b[1;32m    158\u001b[0m             \u001b[0mRp_Rm\u001b[0m \u001b[0;34m/=\u001b[0m \u001b[0mlen\u001b[0m\u001b[0;34m(\u001b[0m\u001b[0mtwists\u001b[0m\u001b[0;34m)\u001b[0m\u001b[0;34m\u001b[0m\u001b[0;34m\u001b[0m\u001b[0m\n\u001b[1;32m    159\u001b[0m \u001b[0;34m\u001b[0m\u001b[0m\n",
      "\u001b[0;32m~/work/others/quantum-fermion-theories/mmf_hfb/bcs.py\u001b[0m in \u001b[0;36mget_Rs\u001b[0;34m(twists)\u001b[0m\n\u001b[1;32m    143\u001b[0m         \u001b[0;32mdef\u001b[0m \u001b[0mget_Rs\u001b[0m\u001b[0;34m(\u001b[0m\u001b[0mtwists\u001b[0m\u001b[0;34m)\u001b[0m\u001b[0;34m:\u001b[0m\u001b[0;34m\u001b[0m\u001b[0;34m\u001b[0m\u001b[0m\n\u001b[1;32m    144\u001b[0m             \u001b[0;34m\"\"\"Return (R, Rm) with the specified twist.\"\"\"\u001b[0m\u001b[0;34m\u001b[0m\u001b[0;34m\u001b[0m\u001b[0m\n\u001b[0;32m--> 145\u001b[0;31m             \u001b[0mH\u001b[0m \u001b[0;34m=\u001b[0m \u001b[0mself\u001b[0m\u001b[0;34m.\u001b[0m\u001b[0mget_H\u001b[0m\u001b[0;34m(\u001b[0m\u001b[0mmus\u001b[0m\u001b[0;34m=\u001b[0m\u001b[0mmus\u001b[0m\u001b[0;34m,\u001b[0m \u001b[0mdelta\u001b[0m\u001b[0;34m=\u001b[0m\u001b[0mdelta\u001b[0m\u001b[0;34m,\u001b[0m \u001b[0mtwists\u001b[0m\u001b[0;34m=\u001b[0m\u001b[0mtwists\u001b[0m\u001b[0;34m)\u001b[0m\u001b[0;34m\u001b[0m\u001b[0;34m\u001b[0m\u001b[0m\n\u001b[0m\u001b[1;32m    146\u001b[0m             \u001b[0md\u001b[0m\u001b[0;34m,\u001b[0m \u001b[0mUV\u001b[0m \u001b[0;34m=\u001b[0m \u001b[0mnp\u001b[0m\u001b[0;34m.\u001b[0m\u001b[0mlinalg\u001b[0m\u001b[0;34m.\u001b[0m\u001b[0meigh\u001b[0m\u001b[0;34m(\u001b[0m\u001b[0mH\u001b[0m\u001b[0;34m)\u001b[0m\u001b[0;34m\u001b[0m\u001b[0;34m\u001b[0m\u001b[0m\n\u001b[1;32m    147\u001b[0m             \u001b[0mRp\u001b[0m \u001b[0;34m=\u001b[0m \u001b[0mUV\u001b[0m\u001b[0;34m.\u001b[0m\u001b[0mdot\u001b[0m\u001b[0;34m(\u001b[0m\u001b[0mself\u001b[0m\u001b[0;34m.\u001b[0m\u001b[0mf\u001b[0m\u001b[0;34m(\u001b[0m\u001b[0md\u001b[0m\u001b[0;34m)\u001b[0m\u001b[0;34m[\u001b[0m\u001b[0;34m:\u001b[0m\u001b[0;34m,\u001b[0m \u001b[0;32mNone\u001b[0m\u001b[0;34m]\u001b[0m\u001b[0;34m*\u001b[0m\u001b[0mUV\u001b[0m\u001b[0;34m.\u001b[0m\u001b[0mconj\u001b[0m\u001b[0;34m(\u001b[0m\u001b[0;34m)\u001b[0m\u001b[0;34m.\u001b[0m\u001b[0mT\u001b[0m\u001b[0;34m)\u001b[0m\u001b[0;34m\u001b[0m\u001b[0;34m\u001b[0m\u001b[0m\n",
      "\u001b[0;32m~/work/others/quantum-fermion-theories/mmf_hfb/bcs.py\u001b[0m in \u001b[0;36mget_H\u001b[0;34m(self, mus, delta, twists)\u001b[0m\n\u001b[1;32m    116\u001b[0m         \u001b[0mmu_b\u001b[0m \u001b[0;34m+=\u001b[0m \u001b[0mzero\u001b[0m\u001b[0;34m\u001b[0m\u001b[0;34m\u001b[0m\u001b[0m\n\u001b[1;32m    117\u001b[0m         \u001b[0mMu_a\u001b[0m\u001b[0;34m,\u001b[0m \u001b[0mMu_b\u001b[0m \u001b[0;34m=\u001b[0m \u001b[0mnp\u001b[0m\u001b[0;34m.\u001b[0m\u001b[0mdiag\u001b[0m\u001b[0;34m(\u001b[0m\u001b[0;34m(\u001b[0m\u001b[0mmu_a\u001b[0m \u001b[0;34m-\u001b[0m \u001b[0mv_a\u001b[0m\u001b[0;34m)\u001b[0m\u001b[0;34m.\u001b[0m\u001b[0mravel\u001b[0m\u001b[0;34m(\u001b[0m\u001b[0;34m)\u001b[0m\u001b[0;34m)\u001b[0m\u001b[0;34m,\u001b[0m \u001b[0mnp\u001b[0m\u001b[0;34m.\u001b[0m\u001b[0mdiag\u001b[0m\u001b[0;34m(\u001b[0m\u001b[0;34m(\u001b[0m\u001b[0mmu_b\u001b[0m \u001b[0;34m-\u001b[0m \u001b[0mv_b\u001b[0m\u001b[0;34m)\u001b[0m\u001b[0;34m.\u001b[0m\u001b[0mravel\u001b[0m\u001b[0;34m(\u001b[0m\u001b[0;34m)\u001b[0m\u001b[0;34m)\u001b[0m\u001b[0;34m\u001b[0m\u001b[0;34m\u001b[0m\u001b[0m\n\u001b[0;32m--> 118\u001b[0;31m         H = np.bmat([[K_a - Mu_a, Delta],\n\u001b[0m\u001b[1;32m    119\u001b[0m                      [Delta.conj(), -(K_b - Mu_b)]])\n\u001b[1;32m    120\u001b[0m         \u001b[0;32mreturn\u001b[0m \u001b[0mnp\u001b[0m\u001b[0;34m.\u001b[0m\u001b[0masarray\u001b[0m\u001b[0;34m(\u001b[0m\u001b[0mH\u001b[0m\u001b[0;34m)\u001b[0m\u001b[0;34m\u001b[0m\u001b[0;34m\u001b[0m\u001b[0m\n",
      "\u001b[0;31mTypeError\u001b[0m: unsupported operand type(s) for -: 'complex' and 'AffineScalarFunc'"
     ]
    }
   ],
   "source": [
    "from mmf_hfb import bcs;reload(bcs)\n",
    "s = bcs.BCS_1D(Lx=32.0, Nx=2)\n",
    "res = s.get_densities(mus=(mu, mu), delta=delta, N_twist=1)\n",
    "res.nu.mean(), (res.n_a + res.n_b).mean()"
   ]
  },
  {
   "cell_type": "markdown",
   "metadata": {},
   "source": [
    "$$\n",
    "  \\begin{pmatrix}\n",
    "    k^2 & 0\\\\\n",
    "    0 & -k^2\n",
    "  \\end{pmatrix}\n",
    "$$"
   ]
  },
  {
   "cell_type": "markdown",
   "metadata": {},
   "source": [
    "$$\n",
    "  n_a = \\sum_{n} \\abs{\\psi_n(x)}^2f(E_n), \\qquad\n",
    "  \\sum_{n}\\d{x} \\abs{\\psi(x_n)}^2 = 1, \\qquad\n",
    "  \\sum_{n}\\abs{u(x_n)}^2 = 1, \\qquad\n",
    "  \\psi_n(x) = \\frac{u_n(x)}{\\sqrt{\\d{x}}}\n",
    "$$"
   ]
  },
  {
   "cell_type": "markdown",
   "metadata": {},
   "source": [
    "## Error Check\n",
    "* We also need to check the errors for the vortex_2d class"
   ]
  },
  {
   "cell_type": "code",
   "execution_count": 12,
   "metadata": {},
   "outputs": [
    {
     "name": "stdout",
     "output_type": "stream",
     "text": [
      "Populating the interactive namespace from numpy and matplotlib\n"
     ]
    }
   ],
   "source": [
    "%pylab inline --no-import-all\n",
    "import bcs;reload(bcs)\n",
    "import homogeneous;reload(homogeneous)\n",
    "\n",
    "delta = 1.0\n",
    "mu_eff = 1.0\n",
    "m = 1.0\n",
    "v_0, n, mu, e_0 = homogeneous.get_BCS_v_n_e(delta=delta, mu_eff=mu_eff)\n",
    "\n",
    "def get_err(N, L, N_twist=1):\n",
    "    b = vortex_2d.BCS_1D(T=0, Nx=N, Lx=L)\n",
    "    res = b.get_densities(mus=(mu_eff, mu_eff), delta=delta,N_twist=N_twist)  \n",
    "    k_max = np.pi*N/L\n",
    "    dn_UV = 2*b.m**2*delta**2/3/np.pi/k_max**3 + 8*b.m**3*mu_eff*delta**2/5/np.pi/k_max**5\n",
    "    dd_UV = v_0*b.m*delta/np.pi/k_max + 2*v_0*b.m**2*mu_eff/3/np.pi/k_max**3\n",
    "    return [[(res.n_a + res.n_b).mean(), res.nu.mean()],[dn_UV, dd_UV]]\n",
    "\n",
    "def get_errs(Ns, Ls, N_twist=1):\n",
    "    Ns, Ls = np.asarray(Ns), np.asarray(Ls)\n",
    "    res_NL = []\n",
    "    res_UV = []\n",
    "    for L in Ls:\n",
    "        res_NL_ = []\n",
    "        res_UV_ = []\n",
    "        for N in Ns:\n",
    "            n_d, d_UV = get_err(N=N, L=L, N_twist=N_twist)\n",
    "            res_NL_.append(n_d)\n",
    "            res_UV_.append(d_UV)\n",
    "        res_NL.append(res_NL_)\n",
    "        res_UV.append(res_UV_)\n",
    "    return np.array([res_NL, res_UV])"
   ]
  },
  {
   "cell_type": "code",
   "execution_count": 15,
   "metadata": {},
   "outputs": [
    {
     "data": {
      "image/png": "[encoded data removed]",
      "text/plain": [
       "<Figure size 1080x360 with 3 Axes>"
      ]
     },
     "metadata": {
      "needs_background": "light"
     },
     "output_type": "display_data"
    }
   ],
   "source": [
    "Ns = 2**np.arange(5, 9)\n",
    "Ls = [1.0, 10.0, 30.0]\n",
    "N_twists = [1, 2, 4]\n",
    "plt.figure(figsize=(5*len(N_twists), 5))\n",
    "for _n, N_twist in enumerate(N_twists):\n",
    "    res_NL, res_UV = get_errs(Ns=Ns, Ls=Ls, N_twist=N_twist)\n",
    "    n_, nu_ = np.array(res_NL).T\n",
    "    plt.subplot(101 + len(N_twists)*10 + _n)\n",
    "    for _i, L in enumerate(Ls):\n",
    "        _l, = plt.loglog(Ns, abs(n_[:, _i]-n)/n, '--+', label=f'$n({L})$', alpha=0.5)\n",
    "        plt.loglog(Ns, abs(nu_[:, _i]-v_0)/v_0, '--o', c=_l.get_c(),\n",
    "                   label=r'$\\nu({})$'.format(L), alpha=0.5)\n",
    "        plt.loglog(Ns, abs(res_UV[_i, :, 0])/n, ':', c=_l.get_c())\n",
    "        #plt.loglog(Ns, abs(res_UV[_i, :, 1])/delta, ':', c=_l.get_c())\n",
    "    plt.ylabel('Rel err')\n",
    "    plt.xlabel('N')\n",
    "    plt.legend()\n",
    "    plt.title(f\"N_twist={N_twist}\")"
   ]
  },
  {
   "cell_type": "markdown",
   "metadata": {},
   "source": [
    "Things seems right for the density, but  not quite right for the $\\nu$, need to check again!"
   ]
  },
  {
   "cell_type": "markdown",
   "metadata": {},
   "source": [
    "# To-do\n",
    "* Workout how the error for $\\nu$ scales"
   ]
  },
  {
   "cell_type": "markdown",
   "metadata": {},
   "source": [
    "We start with the base BCS class which solves the problem in a 1D periodic universe.  This class will form the base for subsequent work, but is limited by the issue discussed above with discrete $k_n$.  As we shall see, there are two forms of errors: UV errors resulting from a limited $k_\\max = \\pi N/L$ and IR errors from the discrete $\\d{k} = \\pi/L$.  To estimate the UV errors, we consider the asymptotic form of the integrals:\n",
    "\n",
    "$$\n",
    "  \\delta_{UV}\\Delta = \\frac{v_0}{2}\\overbrace{2}^{\\pm k}\\int_{k_\\max}^{\\infty}\n",
    "    \\frac{\\d{k}}{2\\pi}\\;\\frac{\\Delta}{\\sqrt{\\epsilon_+^2 + \\Delta^2}} \n",
    "  \\approx v_0\\int_{k_\\max}^{\\infty} \\frac{\\d{k}}{2\\pi}\\;\\frac{2m\\Delta}{\\hbar^2k^2}\n",
    "  = \\frac{v_0m\\Delta}{\\pi\\hbar^2k_\\max} + \\frac{2v_0 m^2\\mu_\\mathrm{eff}}{3\\pi\\hbar^4k_\\max^3},\\\\\n",
    "  \\delta_{UV}n_+ = 2\\int_{k_\\max}^{\\infty}\\frac{\\d{k}}{2\\pi}\n",
    "    \\left[1 - \\frac{\\epsilon_+}{\\sqrt{\\epsilon_+^2 + \\abs{\\Delta}^2}}\\right]\n",
    "  \\approx \\int_{k_\\max}^{\\infty}\\frac{\\d{k}}{2\\pi}\n",
    "    \\frac{4m^2\\abs{\\Delta}^2}{\\hbar^4k^4}\n",
    "  = \\frac{2m^2\\abs{\\Delta}^2}{3\\pi\\hbar^4k_{\\max}^3} \n",
    "    + \\frac{8m^3\\mu_{\\mathrm{eff}}\\abs{\\Delta}^2}{5\\pi \\hbar^6 k_\\max^5}\n",
    "$$\n",
    "\n",
    "The error in $\\Delta$ is largest, so we can set the lattice spacing to achieve the desired accuracy:\n",
    "\n",
    "$$\n",
    "  \\frac{L}{N} \\lesssim \\frac{\\pi^2\\hbar^2}{v_0 m}\\frac{\\delta_{UV}\\Delta}{\\Delta}.\n",
    "$$"
   ]
  },
  {
   "cell_type": "code",
   "execution_count": null,
   "metadata": {},
   "outputs": [],
   "source": []
  }
 ],
 "metadata": {
  "celltoolbar": "Initialization Cell",
  "kernelspec": {
   "display_name": "Python [conda env:work3]",
   "language": "python",
   "name": "conda-env-work3-py"
  },
  "language_info": {
   "codemirror_mode": {
    "name": "ipython",
    "version": 3
   },
   "file_extension": ".py",
   "mimetype": "text/x-python",
   "name": "python",
   "nbconvert_exporter": "python",
   "pygments_lexer": "ipython3",
   "version": "3.7.1"
  },
  "toc": {
   "base_numbering": 1,
   "nav_menu": {},
   "number_sections": true,
   "sideBar": true,
   "skip_h1_title": false,
   "title_cell": "Table of Contents",
   "title_sidebar": "Contents",
   "toc_cell": false,
   "toc_position": {},
   "toc_section_display": true,
   "toc_window_display": true
  }
 },
 "nbformat": 4,
 "nbformat_minor": 2
}
