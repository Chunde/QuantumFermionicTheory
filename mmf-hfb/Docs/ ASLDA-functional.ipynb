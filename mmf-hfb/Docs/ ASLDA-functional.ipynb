{
 "cells": [
  {
   "cell_type": "markdown",
   "metadata": {},
   "source": [
    "# Derive the ASLDA functional form\n",
    "\n",
    "The energy density is given:\n",
    "\n",
    "$$\\mathscr{E}_{\\mathrm{ASLDA}}=\\frac{\\hbar^{2}}{m}\\left(\\alpha_{a}\\left(n_{a}, n_{b}\\right) \\frac{\\tau_{a}}{2}+\\alpha_{b}\\left(n_{a}, n_{b}\\right) \\frac{\\tau_{b}}{2}+D\\left(n_{a}, n_{b}\\right)\\right)+g \\nu^{\\dagger} \\nu$$"
   ]
  },
  {
   "cell_type": "markdown",
   "metadata": {},
   "source": [
    "Define:\n",
    "$$\\tau_+=\\tau_a + \\tau_b\\\\\n",
    "\\tau_-=\\tau_a - \\tau_b\\\\\n",
    "\\alpha_+=\\frac{\\alpha_a + \\alpha_b}{2}\\\\\n",
    "\\alpha_-=\\frac{\\alpha_a - \\alpha_b}{2}\\\\\n",
    "$$"
   ]
  },
  {
   "cell_type": "markdown",
   "metadata": {},
   "source": [
    "It can be found that:\n",
    "$$\n",
    "\\tau_a\\alpha_a + \\tau_b\\alpha_b=\\alpha_+\\tau_+ + \\alpha_-\\tau_-\n",
    "$$\n",
    "Then:\n",
    "$$\n",
    "\\mathscr{E}_{\\mathrm{ASLDA}}=\\frac{\\hbar^{2}}{2m}\\left(  \\alpha_+\\tau_+ +\\alpha_-\\tau_-+D\\left(n_{a}, n_{b}\\right)\\right)+g \\nu^{\\dagger} \\nu\n",
    "$$"
   ]
  },
  {
   "cell_type": "markdown",
   "metadata": {},
   "source": [
    "where $g$ is the effective $g$ defined as:\n",
    "$$\\tilde{C}\\left(n_{a}, n_{b}\\right)=-\\frac{\\alpha_{+} v}{\\Delta}+\\frac{1}{2} \\int \\frac{\\mathrm{d}^{3} \\mathbf{k}}{(2 \\pi)^{3}} \\frac{1}{\\frac{h^{2} k^{2}}{2 m}-\\frac{\\mu_{+}}{\\alpha_{+}}+\\mathrm{i} 0^{+}}=\\frac{\\alpha_{+}}{g_{\\mathrm{eff}}}+\\Lambda$$"
   ]
  },
  {
   "cell_type": "markdown",
   "metadata": {},
   "source": [
    "$$\n",
    "dC=d(\\frac{\\alpha_+}{g})+d\\Lambda\n",
    "$$\n",
    "The $d\\Lambda$ can be neglected here at this point, it will be checked more carefully later, so we have:\n",
    "$$\n",
    "dC=\\frac{d\\alpha_+}{g}-\\frac{\\alpha_+}{g^2}dg\n",
    "$$\n",
    "Solve $dg$:\n",
    "$$\n",
    "dg=-\\frac{g^2}{\\alpha_+}dC + \\frac{g}{\\alpha+}d\\alpha_+\n",
    "$$"
   ]
  },
  {
   "cell_type": "markdown",
   "metadata": {},
   "source": [
    "Vary with repect to $n_a$ and $n_b$:\n",
    "$$\n",
    "\\begin{align}\n",
    "\\frac{\\partial \\mathscr{E}_{\\mathrm{ASLDA}}}{\\partial n}\n",
    "&=\\frac{\\hbar^2}{2m}\\left(\\frac{\\partial \\alpha_+}{\\partial n}\\tau_+ + \\frac{\\partial \\alpha_-}{\\partial n}\\tau_- +\\frac{\\partial D}{\\partial n}\\right) - \\frac{g^2\\nu^{\\dagger}\\nu}{\\alpha_+}\\frac{\\partial C}{\\partial n}+\\frac{g\\nu^{\\dagger}\\nu}{\\alpha_+}\\frac{\\partial \\alpha_+}{\\partial n}\\\\\n",
    "&=\\frac{\\hbar^2}{2m}\\left(\\frac{\\partial \\alpha_+}{\\partial n}\\tau_+ + \\frac{\\partial \\alpha_-}{\\partial n}\\tau_- +\\frac{\\partial D}{\\partial n}\\right) - \\frac{\\Delta^{\\dagger}\\Delta}{\\alpha_+}\\frac{\\partial C}{\\partial n}-\\frac{\\Delta^{\\dagger}\\nu}{\\alpha_+}\\frac{\\partial \\alpha_+}{\\partial n}\\\\\n",
    "&=\\frac{\\hbar^2}{2m}\\frac{\\partial \\alpha_-}{\\partial n}\\tau_- + \\frac{\\partial \\alpha_a}{\\partial n}\\left(\\frac{\\hbar^2\\tau_+}{2m}-\\frac{\\Delta^{\\dagger}\\nu}{\\alpha_+}\\right)-\\frac{\\partial C}{\\partial n}\\frac{\\Delta^{\\dagger}\\Delta}{\\alpha_+}+\\frac{\\hbar^2}{m}\\frac{\\partial D}{\\partial n}\n",
    "\\end{align}\n",
    "$$\n",
    "In the second equation, $n=n_{a/b}$, we use the relation for simplification\n",
    "$$\n",
    "\\Delta=-g\\nu\n",
    "$$"
   ]
  },
  {
   "cell_type": "markdown",
   "metadata": {},
   "source": [
    "Be careful on the sign here($-$), it should be consistent when doing numerical calculation, in our code it's plus sign, so the second term inside the parensis the last equation should have positive sign"
   ]
  }
 ],
 "metadata": {
  "kernelspec": {
   "display_name": "Python 3",
   "language": "python",
   "name": "python3"
  },
  "language_info": {
   "codemirror_mode": {
    "name": "ipython",
    "version": 3
   },
   "file_extension": ".py",
   "mimetype": "text/x-python",
   "name": "python",
   "nbconvert_exporter": "python",
   "pygments_lexer": "ipython3",
   "version": "3.7.2"
  }
 },
 "nbformat": 4,
 "nbformat_minor": 2
}
