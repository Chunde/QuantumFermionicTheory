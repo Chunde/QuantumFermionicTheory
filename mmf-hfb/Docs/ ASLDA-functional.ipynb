{
 "cells": [
  {
   "cell_type": "code",
   "execution_count": 1,
   "metadata": {},
   "outputs": [
    {
     "data": {
      "text/html": [
       "<style>.grade {\n",
       "   background-color: #66FFCC;\n",
       "}\n",
       "</style>"
      ],
      "text/plain": [
       "<IPython.core.display.HTML object>"
      ]
     },
     "metadata": {},
     "output_type": "display_data"
    },
    {
     "data": {
      "application/javascript": [],
      "text/plain": [
       "<IPython.core.display.Javascript object>"
      ]
     },
     "metadata": {},
     "output_type": "display_data"
    },
    {
     "data": {
      "text/html": [
       "<script id=\"MathJax-Element-48\" type=\"math/tex\">\\newcommand{\\vect}[1]{\\mathbf{#1}}\n",
       "\\newcommand{\\uvect}[1]{\\hat{#1}}\n",
       "\\newcommand{\\abs}[1]{\\lvert#1\\rvert}\n",
       "\\newcommand{\\norm}[1]{\\lVert#1\\rVert}\n",
       "\\newcommand{\\I}{\\mathrm{i}}\n",
       "\\newcommand{\\ket}[1]{\\left|#1\\right\\rangle}\n",
       "\\newcommand{\\bra}[1]{\\left\\langle#1\\right|}\n",
       "\\newcommand{\\braket}[1]{\\langle#1\\rangle}\n",
       "\\newcommand{\\Braket}[1]{\\left\\langle#1\\right\\rangle}\n",
       "\\newcommand{\\op}[1]{\\mathbf{#1}}\n",
       "\\newcommand{\\mat}[1]{\\mathbf{#1}}\n",
       "\\newcommand{\\d}{\\mathrm{d}}\n",
       "\\newcommand{\\pdiff}[3][]{\\frac{\\partial^{#1} #2}{\\partial {#3}^{#1}}}\n",
       "\\newcommand{\\diff}[3][]{\\frac{\\d^{#1} #2}{\\d {#3}^{#1}}}\n",
       "\\newcommand{\\ddiff}[3][]{\\frac{\\delta^{#1} #2}{\\delta {#3}^{#1}}}\n",
       "\\newcommand{\\floor}[1]{\\left\\lfloor#1\\right\\rfloor}\n",
       "\\newcommand{\\ceil}[1]{\\left\\lceil#1\\right\\rceil}\n",
       "\\DeclareMathOperator{\\Tr}{Tr}\n",
       "\\DeclareMathOperator{\\erf}{erf}\n",
       "\\DeclareMathOperator{\\erfi}{erfi}\n",
       "\\DeclareMathOperator{\\sech}{sech}\n",
       "\\DeclareMathOperator{\\sgn}{sgn}\n",
       "\\DeclareMathOperator{\\order}{O}\n",
       "\\DeclareMathOperator{\\diag}{diag}\n",
       "\n",
       "\\newcommand{\\mylabel}[1]{\\label{#1}\\tag{#1}}\n",
       "\\newcommand{\\degree}{\\circ}</script>"
      ],
      "text/plain": [
       "<IPython.core.display.HTML object>"
      ]
     },
     "metadata": {},
     "output_type": "display_data"
    },
    {
     "data": {
      "text/html": [],
      "text/plain": [
       "<IPython.core.display.HTML object>"
      ]
     },
     "metadata": {},
     "output_type": "display_data"
    },
    {
     "data": {
      "text/html": [
       "\n",
       "<i>\n",
       "<p>This cell contains some definitions for equations and some CSS for styling\n",
       "  the notebook. If things look a bit strange, please try the following:\n",
       "<ul>\n",
       "  <li>Choose \"Trust Notebook\" from the \"File\" menu.</li>\n",
       "  <li>Re-execute this cell.</li>\n",
       "  <li>Reload the notebook.</li>\n",
       "</ul>\n",
       "</p>\n",
       "</i>\n"
      ],
      "text/plain": [
       "<IPython.core.display.HTML object>"
      ]
     },
     "metadata": {},
     "output_type": "display_data"
    }
   ],
   "source": [
    "import mmf_setup;mmf_setup.nbinit()\n",
    "%pylab inline --no-import-all\n",
    "from nbimports import * "
   ]
  },
  {
   "cell_type": "markdown",
   "metadata": {},
   "source": [
    "# Derive the ASLDA functional form\n",
    "\n",
    "The energy density is given:\n",
    "\n",
    "$$\\mathscr{E}_{\\mathrm{ASLDA}}=\\frac{\\hbar^{2}}{m}\\left(\\alpha_{a}\\left(n_{a}, n_{b}\\right) \\frac{\\tau_{a}}{2}+\\alpha_{b}\\left(n_{a}, n_{b}\\right) \\frac{\\tau_{b}}{2}+D\\left(n_{a}, n_{b}\\right)\\right)+g \\nu^{\\dagger} \\nu$$"
   ]
  },
  {
   "cell_type": "markdown",
   "metadata": {},
   "source": [
    "$$\n",
    "n_a=\\sum_k{\\abs{u_k}^2} \\qquad n_b=\\sum_k{\\abs{v_k}^2} \\qquad \\tau_a=\\sum_k{\\abs{\\nabla u_k}^2}\\qquad \\tau_a=\\sum_k{\\abs{\\nabla v_k}^2} \\qquad \\nu=\\sum_k{v_k^{*} u_k}\n",
    "$$"
   ]
  },
  {
   "cell_type": "markdown",
   "metadata": {},
   "source": [
    "$$\n",
    "d\\mathscr{E}=\\frac{\\hbar^2}{m}\\left(d\\alpha_a\\frac{\\tau_a}{2} + \\frac{\\alpha_a}{2}d\\tau_a+d\\alpha_b\\frac{\\tau_b}{2} + \\frac{\\alpha_b}{2}d\\tau_b + dD\\right) + dg\\nu^{\\dagger}\\nu + gd\\nu^{\\dagger}\\nu + g\\nu^{\\dagger}d\\nu\n",
    "$$"
   ]
  },
  {
   "cell_type": "markdown",
   "metadata": {},
   "source": [
    "Group terms that depend on $n_a, n_b$\n",
    "$$\n",
    "d\\mathscr{E}(n,\\tau, \\nu)=\\left[\\frac{\\hbar^2}{m}\\left(d\\alpha_a\\frac{\\tau_a}{2} +d\\alpha_b\\frac{\\tau_b}{2} + dD\\right) + dg\\nu^{\\dagger}\\nu \\right]+\\left[\\frac{\\hbar^2}{m}\\left(\\frac{\\alpha_a}{2}d\\tau_a+ \\frac{\\alpha_b}{2}d\\tau_b \\right)+ gd\\nu^{\\dagger}\\nu + g\\nu^{\\dagger}d\\nu\\right]$$"
   ]
  },
  {
   "cell_type": "markdown",
   "metadata": {},
   "source": [
    "$$\n",
    "\\begin{align}\n",
    "\\frac{\\partial E}{\\partial u}\n",
    "&=\\frac{\\partial E}{\\partial n_a}\\frac{\\partial n_a}{\\partial u}+\\frac{\\partial E}{\\partial \\tau_a}\\frac{\\partial \\tau_a}{\\partial u} + \\frac{\\partial E}{\\partial \\nu^{\\dagger}}\\frac{\\partial \\nu^{\\dagger}}{\\partial u}+\\frac{\\partial E}{\\partial \\nu}\\frac{\\partial \\nu}{\\partial u}\\\\\n",
    "&=V_a\\frac{\\partial n_a}{\\partial u}+\\frac{\\alpha_a \\hbar^2}{2m}\\frac{\\partial \\tau_a}{\\partial u} + \\Delta\\frac{\\partial \\nu^{\\dagger}}{\\partial u}+\\Delta^{\\dagger}\\frac{\\partial \\nu}{\\partial u}\n",
    "\\end{align}\n",
    "$$\n",
    "* where $V_a=\\frac{\\partial E}{\\partial n_a}$ will be compute later. Similarly\n",
    "$$\n",
    "\\begin{align}\n",
    "\\frac{\\partial E}{\\partial v}\n",
    "&=\\frac{\\partial E}{\\partial n_b}\\frac{\\partial n_b}{\\partial v}+\\frac{\\partial E}{\\partial \\tau_b}\\frac{\\partial \\tau_b}{\\partial v} + \\frac{\\partial E}{\\partial \\nu^{\\dagger}}\\frac{\\partial \\nu^{\\dagger}}{\\partial v}+\\frac{\\partial E}{\\partial \\nu}\\frac{\\partial \\nu}{\\partial v}\\\\\n",
    "&=V_b\\frac{\\partial n_b}{\\partial v}+\\frac{\\alpha_b \\hbar^2}{2m}\\frac{\\partial \\tau_b}{\\partial v} + \\Delta\\frac{\\partial \\nu^{\\dagger}}{\\partial v}+\\Delta^{\\dagger}\\frac{\\partial \\nu}{\\partial v}\n",
    "\\end{align}\n",
    "$$"
   ]
  },
  {
   "cell_type": "markdown",
   "metadata": {},
   "source": [
    "$$\n",
    "\\frac{\\partial n_a}{\\partial u}=2u\\qquad \\frac{\\partial n_b}{\\partial v}=2v\\qquad \\frac{\\partial \\nu^{\\dagger}}{\\partial u}=0\\qquad \\frac{\\partial \\nu}{\\partial u}=v^*\\qquad \\frac{\\partial \\nu^{\\dagger}}{\\partial v}=u^* \\qquad \\frac{\\partial \\nu}{\\partial u}=0\\qquad\n",
    "$$"
   ]
  },
  {
   "cell_type": "markdown",
   "metadata": {},
   "source": [
    "## Compute $V_a, V_b$\n",
    "Define:\n",
    "$$\\tau_+=\\tau_a + \\tau_b\\\\\n",
    "\\tau_-=\\tau_a - \\tau_b\\\\\n",
    "\\alpha_+=\\frac{\\alpha_a + \\alpha_b}{2}\\\\\n",
    "\\alpha_-=\\frac{\\alpha_a - \\alpha_b}{2}\\\\\n",
    "$$"
   ]
  },
  {
   "cell_type": "markdown",
   "metadata": {},
   "source": [
    "It can be found that:\n",
    "$$\n",
    "\\tau_a\\alpha_a + \\tau_b\\alpha_b=\\alpha_+\\tau_+ + \\alpha_-\\tau_-\n",
    "$$\n",
    "Then:\n",
    "$$\n",
    "\\mathscr{E}_{\\mathrm{ASLDA}}=\\frac{\\hbar^{2}}{2m}\\left(  \\alpha_+\\tau_+ +\\alpha_-\\tau_-+D\\left(n_{a}, n_{b}\\right)\\right)+g \\nu^{\\dagger} \\nu\n",
    "$$"
   ]
  },
  {
   "cell_type": "markdown",
   "metadata": {},
   "source": [
    "where $g$ is the effective $g$ defined as:\n",
    "$$\\tilde{C}\\left(n_{a}, n_{b}\\right)=-\\frac{\\alpha_{+} v}{\\Delta}+\\frac{1}{2} \\int \\frac{\\mathrm{d}^{3} \\mathbf{k}}{(2 \\pi)^{3}} \\frac{1}{\\frac{h^{2} k^{2}}{2 m}-\\frac{\\mu_{+}}{\\alpha_{+}}+\\mathrm{i} 0^{+}}=\\frac{\\alpha_{+}}{g_{\\mathrm{eff}}}+\\Lambda$$"
   ]
  },
  {
   "cell_type": "markdown",
   "metadata": {},
   "source": [
    "$$\n",
    "dC=d(\\frac{\\alpha_+}{g})+d\\Lambda\n",
    "$$\n",
    "The $d\\Lambda$ can be neglected here at this point, it will be checked more carefully later, so we have:\n",
    "$$\n",
    "dC=\\frac{d\\alpha_+}{g}-\\frac{\\alpha_+}{g^2}dg\n",
    "$$\n",
    "Solve $dg$:\n",
    "$$\n",
    "dg=-\\frac{g^2}{\\alpha_+}dC + \\frac{g}{\\alpha+}d\\alpha_+\n",
    "$$"
   ]
  },
  {
   "cell_type": "markdown",
   "metadata": {},
   "source": [
    "## $\\frac{\\partial \\mathscr{E}_{\\mathrm{ASLDA}}}{\\partial n}$ derivation"
   ]
  },
  {
   "cell_type": "markdown",
   "metadata": {},
   "source": [
    "Vary with repect to $n_a$ and $n_b$:\n",
    "$$\n",
    "\\begin{align}\n",
    "\\frac{\\partial \\mathscr{E}_{\\mathrm{ASLDA}}}{\\partial n}\n",
    "&=\\frac{\\hbar^2}{2m}\\left(\\frac{\\partial \\alpha_+}{\\partial n}\\tau_+ + \\frac{\\partial \\alpha_-}{\\partial n}\\tau_- +\\frac{\\partial D}{\\partial n}\\right) - \\frac{g^2\\nu^{\\dagger}\\nu}{\\alpha_+}\\frac{\\partial C}{\\partial n}+\\frac{g\\nu^{\\dagger}\\nu}{\\alpha_+}\\frac{\\partial \\alpha_+}{\\partial n}\\\\\n",
    "&=\\frac{\\hbar^2}{2m}\\left(\\frac{\\partial \\alpha_+}{\\partial n}\\tau_+ + \\frac{\\partial \\alpha_-}{\\partial n}\\tau_- +\\frac{\\partial D}{\\partial n}\\right) - \\frac{\\Delta^{\\dagger}\\Delta}{\\alpha_+}\\frac{\\partial C}{\\partial n}-\\frac{\\Delta^{\\dagger}\\nu}{\\alpha_+}\\frac{\\partial \\alpha_+}{\\partial n}\\\\\n",
    "&=\\frac{\\hbar^2}{2m}\\frac{\\partial \\alpha_-}{\\partial n}\\tau_- + \\frac{\\partial \\alpha_a}{\\partial n}\\left(\\frac{\\hbar^2\\tau_+}{2m}-\\frac{\\Delta^{\\dagger}\\nu}{\\alpha_+}\\right)-\\frac{\\partial C}{\\partial n}\\frac{\\Delta^{\\dagger}\\Delta}{\\alpha_+}+\\frac{\\hbar^2}{m}\\frac{\\partial D}{\\partial n}\n",
    "\\end{align}\n",
    "$$\n",
    "In the second equation, $n=n_{a/b}$, we use the relation for simplification\n",
    "$$\n",
    "\\Delta=-g\\nu\n",
    "$$"
   ]
  },
  {
   "cell_type": "markdown",
   "metadata": {},
   "source": [
    "Be careful on the sign here($-$), it should be consistent when doing numerical calculation, in our code it's plus sign, so the second term inside the parensis the last equation should have positive sign"
   ]
  },
  {
   "cell_type": "markdown",
   "metadata": {},
   "source": [
    "## $\\Lambda$ term"
   ]
  },
  {
   "cell_type": "markdown",
   "metadata": {},
   "source": []
  }
 ],
 "metadata": {
  "kernelspec": {
   "display_name": "Python 3",
   "language": "python",
   "name": "python3"
  },
  "language_info": {
   "codemirror_mode": {
    "name": "ipython",
    "version": 3
   },
   "file_extension": ".py",
   "mimetype": "text/x-python",
   "name": "python",
   "nbconvert_exporter": "python",
   "pygments_lexer": "ipython3",
   "version": "3.7.2"
  }
 },
 "nbformat": 4,
 "nbformat_minor": 2
}
