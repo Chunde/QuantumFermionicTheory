{
 "cells": [
  {
   "cell_type": "markdown",
   "metadata": {},
   "source": [
    "## BCS Code\n",
    "### <font color='green'>Single-Particle Hamiltonian Matrix</font>"
   ]
  },
  {
   "cell_type": "code",
   "execution_count": 1,
   "metadata": {},
   "outputs": [
    {
     "data": {
      "text/html": [
       "<style>.grade {\n",
       "   background-color: #66FFCC;\n",
       "}\n",
       "</style>"
      ],
      "text/plain": [
       "<IPython.core.display.HTML object>"
      ]
     },
     "metadata": {},
     "output_type": "display_data"
    },
    {
     "data": {
      "application/javascript": [],
      "text/plain": [
       "<IPython.core.display.Javascript object>"
      ]
     },
     "metadata": {},
     "output_type": "display_data"
    },
    {
     "data": {
      "text/html": [
       "<script id=\"MathJax-Element-48\" type=\"math/tex\">\\newcommand{\\vect}[1]{\\mathbf{#1}}\n",
       "\\newcommand{\\uvect}[1]{\\hat{#1}}\n",
       "\\newcommand{\\abs}[1]{\\lvert#1\\rvert}\n",
       "\\newcommand{\\norm}[1]{\\lVert#1\\rVert}\n",
       "\\newcommand{\\I}{\\mathrm{i}}\n",
       "\\newcommand{\\ket}[1]{\\left|#1\\right\\rangle}\n",
       "\\newcommand{\\bra}[1]{\\left\\langle#1\\right|}\n",
       "\\newcommand{\\braket}[1]{\\langle#1\\rangle}\n",
       "\\newcommand{\\Braket}[1]{\\left\\langle#1\\right\\rangle}\n",
       "\\newcommand{\\op}[1]{\\mathbf{#1}}\n",
       "\\newcommand{\\mat}[1]{\\mathbf{#1}}\n",
       "\\newcommand{\\d}{\\mathrm{d}}\n",
       "\\newcommand{\\pdiff}[3][]{\\frac{\\partial^{#1} #2}{\\partial {#3}^{#1}}}\n",
       "\\newcommand{\\diff}[3][]{\\frac{\\d^{#1} #2}{\\d {#3}^{#1}}}\n",
       "\\newcommand{\\ddiff}[3][]{\\frac{\\delta^{#1} #2}{\\delta {#3}^{#1}}}\n",
       "\\newcommand{\\floor}[1]{\\left\\lfloor#1\\right\\rfloor}\n",
       "\\newcommand{\\ceil}[1]{\\left\\lceil#1\\right\\rceil}\n",
       "\\DeclareMathOperator{\\Tr}{Tr}\n",
       "\\DeclareMathOperator{\\erf}{erf}\n",
       "\\DeclareMathOperator{\\erfi}{erfi}\n",
       "\\DeclareMathOperator{\\sech}{sech}\n",
       "\\DeclareMathOperator{\\sgn}{sgn}\n",
       "\\DeclareMathOperator{\\order}{O}\n",
       "\\DeclareMathOperator{\\diag}{diag}\n",
       "\n",
       "\\newcommand{\\mylabel}[1]{\\label{#1}\\tag{#1}}\n",
       "\\newcommand{\\degree}{\\circ}</script>"
      ],
      "text/plain": [
       "<IPython.core.display.HTML object>"
      ]
     },
     "metadata": {},
     "output_type": "display_data"
    },
    {
     "data": {
      "text/html": [],
      "text/plain": [
       "<IPython.core.display.HTML object>"
      ]
     },
     "metadata": {},
     "output_type": "display_data"
    },
    {
     "data": {
      "text/html": [
       "\n",
       "<i>\n",
       "<p>This cell contains some definitions for equations and some CSS for styling\n",
       "  the notebook. If things look a bit strange, please try the following:\n",
       "<ul>\n",
       "  <li>Choose \"Trust Notebook\" from the \"File\" menu.</li>\n",
       "  <li>Re-execute this cell.</li>\n",
       "  <li>Reload the notebook.</li>\n",
       "</ul>\n",
       "</p>\n",
       "</i>\n"
      ],
      "text/plain": [
       "<IPython.core.display.HTML object>"
      ]
     },
     "metadata": {},
     "output_type": "display_data"
    },
    {
     "name": "stdout",
     "output_type": "stream",
     "text": [
      "Populating the interactive namespace from numpy and matplotlib\n"
     ]
    }
   ],
   "source": [
    "import nbinit\n",
    "from mmfutils.contexts import NoInterrupt\n",
    "try: from importlib import reload\n",
    "except ImportError: pass\n",
    "%pylab inline --no-import-all"
   ]
  },
  {
   "cell_type": "markdown",
   "metadata": {},
   "source": [
    "$$\n",
    "  \\mat{H} = \\begin{pmatrix}\n",
    "    -\\frac{\\hbar^2 k^2}{2m} - \\mu_a +V_a & -\\Delta\\\\\n",
    "    -\\Delta^\\dagger & -\\left(-\\frac{\\hbar^2 k^2}{2m} - \\mu_b +V_b\\right)\n",
    "  \\end{pmatrix}, \\qquad\n",
    "  \\op{\\Psi} = \\begin{pmatrix}\n",
    "    \\op{a}_{k}\\\\\n",
    "    \\op{b}^\\dagger_{-k}\n",
    "  \\end{pmatrix}.\n",
    "$$\n",
    "\n",
    "The application of the kinetic energy would be as follows:\n",
    "\n",
    "$$\n",
    "  \\DeclareMathOperator{\\FFT}{FFT}\n",
    "  \\psi(x) = \n",
    "  -\\frac{\\hbar^2\\nabla_x^2\\psi(x)}{2m} \n",
    "  = \\FFT^{-1}\\Bigl(\\frac{\\hbar^2k^2}{2m}\\overbrace{\\FFT(\\psi)}^{\\int \\d{x}\\; e^{-\\I k x}\\psi(x)}\\Bigr)\n",
    "  = \\int\\frac{\\d{k}}{(2\\pi)}\\; e^{\\I k x} \\Bigl(\\frac{\\hbar^2k^2}{2m} \\int\\d{y}\\; e^{-\\I k y}\\psi(y) \\Bigr)\\\\\n",
    "  = \\int\\frac{\\d{k}}{(2\\pi)}\\d{y}\\; \\frac{e^{\\I k (x-y)}\\hbar^2k^2}{2m} \\psi(y).\n",
    "$$\n",
    "\n",
    "$$\n",
    "  \\FFT[\\psi(x)] = \\int\\d{x}\\; e^{-\\I k x}\\psi(x) = \\frac{L}{N}\\sum_{n} e^{-\\I k x_n}\\psi(x_n),\\\\\n",
    "  \\FFT^{-1}(\\psi_k) = \\int\\frac{\\d{k}}{(2\\pi)}\\; e^{\\I k x}\\psi_k = \\frac{1}{L}\\sum_{m} e^{\\I k_m x}\\psi_{k_m}.\n",
    "$$\n",
    "\n",
    "When doing both the FFT and the IFFT, the factors of $L$ cancel and we are left with an overall factor of $1/N$.  This can be split into two factors of $1/\\sqrt{N}$:\n",
    "\n",
    "$$\n",
    "  \\FFT^{-1}\\Bigl(f(k)\\FFT(\\psi)\\Bigr) = \\mat{U}^{-1}\\cdot \\diag(f_k) \\cdot \\mat{U} \\cdot \\psi\n",
    "  = \\sum_{xy}(U_{xk}^* f_k U_{ky}\\psi_y).\n",
    "$$\n",
    "\n",
    "Thus, the kinetic energy matrix is:\n",
    "\n",
    "$$\n",
    "  \\mat{K}_{xy} = \\frac{1}{N}\\frac{e^{\\I k (x-y)}\\hbar^2k^2}{2m}.\n",
    "$$"
   ]
  },
  {
   "cell_type": "markdown",
   "metadata": {},
   "source": [
    "$$\n",
    "  U_{kx} = \\frac{1}{\\sqrt{N}}e^{-\\I k x}, \\qquad\n",
    "  \\mat{U}^{-1} = \\mat{U}^\\dagger.\n",
    "$$"
   ]
  },
  {
   "cell_type": "markdown",
   "metadata": {},
   "source": [
    "Even all the above looks right to me, to get the code level, I have to struggle a lot to fully appreciate how it works.\n",
    "To better understand the way how the kenectic matrix is presented, let dig a bit more to the detail of how linear aglbra works here, let say the kenitic operator is $\\vec{T})$, from above derivation, we got:\n",
    "\n",
    "$$\n",
    "\\vec{T}\\psi(x)=\\frac{1}{N}\\sum_{ky}{e^{ikx-iky}f(k)}\\psi(y)\n",
    "$$\n",
    "\n",
    "the varibles $x$ and $k$ are spatial and wave-vector points. Pick one specific spatial position $x_1$, then\n",
    "\n",
    "\\begin{align}\n",
    "\\vec{T}\\psi(x)|_{x=x1}\n",
    "&=\\frac{1}{N}\\sum_{ky}{e^{ikx_1-iky}f(k)}\\phi(y)\\\\\n",
    "&=\\frac{1}{N}\\sum_{k}{e^{ikx_1}f(k)}\\left[e^{-iky_1}\\psi(y_1)+e^{-iky_2}\\psi(y_2)+...+ e^{-iky_N}\\psi(y_N)\\right]\n",
    "\\end{align}\n",
    "\n",
    "for different values of $x={x_1,x_2,...x_N}$, we have:\n",
    "\\begin{align}\n",
    "\\vec{T}\\psi(x)|_{x=x_1}=\\frac{1}{N}\\sum_{k}{e^{ikx_1}f(k)}\\left[e^{-iky_1}\\psi(y_1)+e^{-iky_2}\\psi(y_2)+...+ e^{-iky_N}\\psi(y_N)\\right]\\\\\n",
    "\\vec{T}\\psi(x)|_{x=x_2}=\\frac{1}{N}\\sum_{k}{e^{ikx_2}f(k)}\\left[e^{-iky_1}\\psi(y_1)+e^{-iky_2}\\psi(y_2)+...+ e^{-iky_N}\\psi(y_N)\\right]\\\\\n",
    "\\vdots\\\\\n",
    "\\vec{T}\\psi(x)|_{x=x_N}=\\frac{1}{N}\\sum_{k}{e^{ikx_N}f(k)}\\left[e^{-iky_1}\\psi(y_1)+e^{-iky_2}\\psi(y_2)+...+ e^{-iky_N}\\psi(y_N)\\right]\\\\\n",
    "\\end{align}\n",
    "The above result is can be put as a matrix times a column vector:"
   ]
  },
  {
   "cell_type": "markdown",
   "metadata": {},
   "source": [
    "$$\n",
    "  \\begin{pmatrix}\n",
    "    \\vec{T}\\psi(x)|_{x=x_1}\\\\\n",
    "    \\vec{T}\\psi(x)|_{x=x_2}\\\\\n",
    "    \\vdots\\\\\n",
    "    \\vec{T}\\psi(x)|_{x=x_N}\\\\\n",
    "  \\end{pmatrix} = \\frac{1}{N}\\begin{pmatrix}\n",
    "    \\sum_{k}{e^{ikx_1}e^{-iky_1}f(k)} & \\sum_{k}{e^{ikx_1}e^{-iky_2}f(k)}&...&\\sum_{k}{e^{ikx_1}e^{-iky_N}f(k)}\\\\\n",
    "    \\sum_{k}{e^{ikx_2}e^{-iky_1}f(k)} & \\sum_{k}{e^{ikx_2}e^{-iky_2}f(k)}&...&\\sum_{k}{e^{ikx_2}e^{-iky_N}f(k)}\\\\\n",
    "    \\vdots\\\\\n",
    "    \\sum_{k}{e^{ikx_N}e^{-iky_1}f(k)} & \\sum_{k}{e^{ikx_N}e^{-iky_2}f(k)}&...&\\sum_{k}{e^{ikx_N}e^{-iky_N}f(k)}\\\\\n",
    "  \\end{pmatrix}\n",
    " \\begin{pmatrix}\n",
    "    \\psi(y_1)\\\\\n",
    "    \\psi(y_2)\\\\\n",
    "    \\vdots\\\\\n",
    "    \\psi(y_N)\\\\\n",
    "  \\end{pmatrix}.\n",
    "$$"
   ]
  },
  {
   "cell_type": "markdown",
   "metadata": {},
   "source": [
    "The RHS matrix can be further decompose into three matrices:\n",
    "$$\n",
    " \\begin{pmatrix}\n",
    "    \\sum_{k}{e^{ikx_1}e^{-iky_1}f(k)} & \\sum_{k}{e^{ikx_1}e^{-iky_2}f(k)}&...&\\sum_{k}{e^{ikx_1}e^{-iky_N}f(k)}\\\\\n",
    "    \\sum_{k}{e^{ikx_2}e^{-iky_1}f(k)} & \\sum_{k}{e^{ikx_2}e^{-iky_2}f(k)}&...&\\sum_{k}{e^{ikx_2}e^{-iky_N}f(k)}\\\\\n",
    "    \\vdots\\\\\n",
    "    \\sum_{k}{e^{ikx_N}e^{-iky_1}f(k)} & \\sum_{k}{e^{ikx_N}e^{-iky_2}f(k)}&...&\\sum_{k}{e^{ikx_N}e^{-iky_N}f(k)}\\\\\n",
    "  \\end{pmatrix}=\n",
    "   \\begin{pmatrix}\n",
    "    e^{ik_1x_1} & e^{ik_2x_1}&...&e^{ik_Nx_1}\\\\\n",
    "    e^{ik_1x_2} & e^{ik_2x_2}&...&e^{ik_Nx_2}\\\\\n",
    "    \\vdots\\\\\n",
    "    e^{ik_1x_N} & e^{ik_2x_N}&...&e^{ik_Nx_N}\\\\\n",
    "  \\end{pmatrix}\n",
    "  \\begin{pmatrix}\n",
    "    f(k_1) & 0&...&0\\\\\n",
    "    0 & f(k_2)&...&0\\\\\n",
    "    \\vdots\\\\\n",
    "    0 & 0&...&f(k_N)\\\\\n",
    "  \\end{pmatrix}\n",
    " \\begin{pmatrix}\n",
    "    e^{-ik_1y_1} & e^{-ik_1y_2}&...&e^{-ik_1y_N}\\\\\n",
    "    e^{-ik_2y_1} & e^{-ik_2y_2}&...&e^{-ik_2y_N}\\\\\n",
    "    \\vdots\\\\\n",
    "    e^{-ik_Ny_1} & e^{-ik_Ny_2}&...&e^{-ik_Ny_N}\\\\\n",
    "  \\end{pmatrix}\n",
    "$$\n"
   ]
  },
  {
   "cell_type": "markdown",
   "metadata": {},
   "source": [
    "Now I convince myself that the kinetic matrix can be put as:\n",
    "\\begin{align}\n",
    "T&=U^\\dagger\\times diag[f(k)]\\times U\\\\\n",
    "U&=\\frac{1}{\\sqrt{N}}e^{-kx}\\\\\n",
    "U&=\\frac{1}{\\sqrt{N}}\n",
    "\\begin{pmatrix}\n",
    "    e^{-ik_1x_1} & e^{-ik_1x_2}&...&e^{-ik_1x_N}\\\\\n",
    "    e^{-ik_2x_1} & e^{-ik_2x_2}&...&e^{-ik_2x_N}\\\\\n",
    "    \\vdots\\\\\n",
    "    e^{-ik_Nx_1} & e^{-ik_Nx_2}&...&e^{-ik_Nx_N}\\\\\n",
    "  \\end{pmatrix}\n",
    "\\end{align}"
   ]
  },
  {
   "cell_type": "markdown",
   "metadata": {},
   "source": [
    "Or expanded as a row vector times a column vector:\n",
    "$$\n",
    "U = e^{-i\\begin{pmatrix}\n",
    "   k_1\\\\k_2\\\\\\vdots\\\\k_N\\\\\n",
    "  \\end{pmatrix}\\times  \n",
    "  \\begin{pmatrix}\n",
    "   x_1&x_2&...&x_N\\\\\n",
    "  \\end{pmatrix}\n",
    "  }\n",
    "$$"
   ]
  },
  {
   "cell_type": "code",
   "execution_count": null,
   "metadata": {},
   "outputs": [],
   "source": []
  },
  {
   "cell_type": "code",
   "execution_count": null,
   "metadata": {},
   "outputs": [],
   "source": []
  }
 ],
 "metadata": {
  "kernelspec": {
   "display_name": "Python 3",
   "language": "python",
   "name": "python3"
  },
  "language_info": {
   "codemirror_mode": {
    "name": "ipython",
    "version": 3
   },
   "file_extension": ".py",
   "mimetype": "text/x-python",
   "name": "python",
   "nbconvert_exporter": "python",
   "pygments_lexer": "ipython3",
   "version": "3.7.2"
  }
 },
 "nbformat": 4,
 "nbformat_minor": 2
}
