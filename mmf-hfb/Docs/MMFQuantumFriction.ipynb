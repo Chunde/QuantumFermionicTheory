{
 "cells": [
  {
   "cell_type": "markdown",
   "metadata": {},
   "source": [
    "# Subspace Cooling"
   ]
  },
  {
   "cell_type": "markdown",
   "metadata": {},
   "source": [
    "Here we organize the sp wavefunctions into groups as if they were located on different compute nodes."
   ]
  },
  {
   "cell_type": "code",
   "execution_count": null,
   "metadata": {},
   "outputs": [],
   "source": [
    "import mmf_setup;mmf_setup.nbinit()\n",
    "%pylab inline --no-import-all\n",
    "from importlib import reload\n",
    "import mmf_hfb.subspace_cooling;reload(mmf_hfb.subspace_cooling)\n",
    "b = mmf_hfb.subspace_cooling.SubspaceCooling(N=64, L=24)\n",
    "\n",
    "Nodes = 1\n",
    "wf_per_node = 10\n",
    "N = Nodes*wf_per_node\n",
    "n0 = 10               # Start filling plane-waves from here.\n",
    "w = 1.0\n",
    "\n",
    "b.V_ext = b.m*(w*b.x)**2/2\n",
    "E0 = b.hbar*w*sum(np.arange(N) + 0.5)\n",
    "\n",
    "ks = b.kx[np.argsort(abs(b.kx))]\n",
    "Psis = []\n",
    "n = n0\n",
    "for node in range(Nodes):\n",
    "    # Assumes 1D\n",
    "    psis = np.exp(1j*ks[n:n+wf_per_node][:,None]*b.x[None,...])/np.sqrt(b.Lxyz)\n",
    "    n += wf_per_node\n",
    "    Psis.append(psis)\n",
    "    \n",
    "assert np.allclose(b.get_N(Psis), Nodes*wf_per_node)"
   ]
  },
  {
   "cell_type": "code",
   "execution_count": null,
   "metadata": {},
   "outputs": [],
   "source": [
    "# Here is how we compute the dot products.\n",
    "norm = psis.conj().dot(psis.T)\n",
    "HPsis = b.apply_H(Psis)\n",
    "E, N = b.get_E_N(Psis)\n",
    "E"
   ]
  },
  {
   "cell_type": "code",
   "execution_count": null,
   "metadata": {},
   "outputs": [],
   "source": [
    "ts, ys = b.solve(Psis, T=1.5, rtol=1e-8, atol=1e-8)\n",
    "Es, Ns = np.transpose([b.get_E_N(psis) for psis in ys])\n",
    "ns = [b.get_density(psis) for psis in ys]\n",
    "Es, E0"
   ]
  },
  {
   "cell_type": "code",
   "execution_count": null,
   "metadata": {},
   "outputs": [],
   "source": [
    "plt.semilogy(ts, abs(Es-E0))"
   ]
  },
  {
   "cell_type": "code",
   "execution_count": null,
   "metadata": {},
   "outputs": [],
   "source": [
    "plt.semilogy(ts, abs(Es-E0))"
   ]
  },
  {
   "cell_type": "code",
   "execution_count": null,
   "metadata": {},
   "outputs": [],
   "source": [
    "np.diag(ys[-1].dot(ys[-1].conj().T))"
   ]
  },
  {
   "cell_type": "code",
   "execution_count": null,
   "metadata": {},
   "outputs": [],
   "source": []
  },
  {
   "cell_type": "code",
   "execution_count": null,
   "metadata": {},
   "outputs": [],
   "source": []
  }
 ],
 "metadata": {
  "kernelspec": {
   "display_name": "Python [conda env:_gpe3]",
   "language": "python",
   "name": "conda-env-_gpe3-py"
  },
  "language_info": {
   "codemirror_mode": {
    "name": "ipython",
    "version": 3
   },
   "file_extension": ".py",
   "mimetype": "text/x-python",
   "name": "python",
   "nbconvert_exporter": "python",
   "pygments_lexer": "ipython3",
   "version": "3.7.3"
  },
  "toc": {
   "base_numbering": 1,
   "nav_menu": {},
   "number_sections": true,
   "sideBar": true,
   "skip_h1_title": false,
   "title_cell": "Table of Contents",
   "title_sidebar": "Contents",
   "toc_cell": false,
   "toc_position": {},
   "toc_section_display": true,
   "toc_window_display": false
  }
 },
 "nbformat": 4,
 "nbformat_minor": 2
}
