{
 "cells": [
  {
   "cell_type": "code",
   "execution_count": 2,
   "metadata": {},
   "outputs": [
    {
     "data": {
      "text/html": [
       "<style>.grade {\n",
       "   background-color: #66FFCC;\n",
       "}\n",
       "</style>"
      ],
      "text/plain": [
       "<IPython.core.display.HTML object>"
      ]
     },
     "metadata": {},
     "output_type": "display_data"
    },
    {
     "data": {
      "application/javascript": [],
      "text/plain": [
       "<IPython.core.display.Javascript object>"
      ]
     },
     "metadata": {},
     "output_type": "display_data"
    },
    {
     "data": {
      "text/html": [
       "<script id=\"MathJax-Element-48\" type=\"math/tex\">\\newcommand{\\vect}[1]{\\mathbf{#1}}\n",
       "\\newcommand{\\uvect}[1]{\\hat{#1}}\n",
       "\\newcommand{\\abs}[1]{\\lvert#1\\rvert}\n",
       "\\newcommand{\\norm}[1]{\\lVert#1\\rVert}\n",
       "\\newcommand{\\I}{\\mathrm{i}}\n",
       "\\newcommand{\\ket}[1]{\\left|#1\\right\\rangle}\n",
       "\\newcommand{\\bra}[1]{\\left\\langle#1\\right|}\n",
       "\\newcommand{\\braket}[1]{\\langle#1\\rangle}\n",
       "\\newcommand{\\Braket}[1]{\\left\\langle#1\\right\\rangle}\n",
       "\\newcommand{\\op}[1]{\\mathbf{#1}}\n",
       "\\newcommand{\\mat}[1]{\\mathbf{#1}}\n",
       "\\newcommand{\\d}{\\mathrm{d}}\n",
       "\\newcommand{\\pdiff}[3][]{\\frac{\\partial^{#1} #2}{\\partial {#3}^{#1}}}\n",
       "\\newcommand{\\diff}[3][]{\\frac{\\d^{#1} #2}{\\d {#3}^{#1}}}\n",
       "\\newcommand{\\ddiff}[3][]{\\frac{\\delta^{#1} #2}{\\delta {#3}^{#1}}}\n",
       "\\newcommand{\\floor}[1]{\\left\\lfloor#1\\right\\rfloor}\n",
       "\\newcommand{\\ceil}[1]{\\left\\lceil#1\\right\\rceil}\n",
       "\\DeclareMathOperator{\\Tr}{Tr}\n",
       "\\DeclareMathOperator{\\erf}{erf}\n",
       "\\DeclareMathOperator{\\erfi}{erfi}\n",
       "\\DeclareMathOperator{\\sech}{sech}\n",
       "\\DeclareMathOperator{\\sgn}{sgn}\n",
       "\\DeclareMathOperator{\\order}{O}\n",
       "\\DeclareMathOperator{\\diag}{diag}\n",
       "\n",
       "\\newcommand{\\mylabel}[1]{\\label{#1}\\tag{#1}}\n",
       "\\newcommand{\\degree}{\\circ}</script>"
      ],
      "text/plain": [
       "<IPython.core.display.HTML object>"
      ]
     },
     "metadata": {},
     "output_type": "display_data"
    },
    {
     "data": {
      "text/html": [],
      "text/plain": [
       "<IPython.core.display.HTML object>"
      ]
     },
     "metadata": {},
     "output_type": "display_data"
    },
    {
     "data": {
      "text/html": [
       "\n",
       "<i>\n",
       "<p>This cell contains some definitions for equations and some CSS for styling\n",
       "  the notebook. If things look a bit strange, please try the following:\n",
       "<ul>\n",
       "  <li>Choose \"Trust Notebook\" from the \"File\" menu.</li>\n",
       "  <li>Re-execute this cell.</li>\n",
       "  <li>Reload the notebook.</li>\n",
       "</ul>\n",
       "</p>\n",
       "</i>\n"
      ],
      "text/plain": [
       "<IPython.core.display.HTML object>"
      ]
     },
     "metadata": {},
     "output_type": "display_data"
    }
   ],
   "source": [
    "import mmf_setup;mmf_setup.nbinit(hgroot=False)\n",
    "from mmfutils.contexts import NoInterrupt\n",
    "import hfb_dir_init\n",
    "from mmfutils.plot import imcontourf\n",
    "from importlib import reload  # Python 3.4+"
   ]
  },
  {
   "cell_type": "markdown",
   "metadata": {},
   "source": [
    "# Understanding 2D BdG Numerical Simulation\n",
    "I find it's not easy to make a smooth translation from abstract knowledge of quantum theory to 2D numerical code, it's good to decompose all details first, and make connection to every line of code."
   ]
  },
  {
   "cell_type": "markdown",
   "metadata": {},
   "source": [
    "start with schodinger equation for 2D system, it should look like:\n",
    "$$\n",
    "H(x,y,t)\\psi(x,y)=E\\psi(x,y)\n",
    "$$\n",
    "\n",
    "the wavefunction in a 2D grid can be presented as a 2D matrix\n",
    "$$\\psi =\n",
    "\\begin{pmatrix}\n",
    "    \\psi_{1,1} & \\psi_{1,2}&...&\\psi_{1,N}\\\\\n",
    "    \\psi_{2,1} & \\psi_{2,1}&...&\\psi_{1,N}\\\\\n",
    "    \\vdots\\\\\n",
    "    e^\\psi_{N,1} & \\psi_{N,2}&...&\\psi_{N,N}\\\\\n",
    "\\end{pmatrix}\n",
    "$$"
   ]
  },
  {
   "cell_type": "markdown",
   "metadata": {},
   "source": [
    "Then, for any operator, it's matrix element form can be defined as:\n",
    "\n",
    "\\begin{align}\n",
    "O_{m,n}&=\\braket{\\psi_m |\\hat{O}|\\psi_n}\\\\\n",
    "&= \\int dx dy {}\\psi_{m}^*(x,y)\\hat{O}\\psi_n(x,y) \\\\\n",
    "&=\\Delta_x\\Delta_y\\sum_{x,y} ???\n",
    "\\end{align}"
   ]
  },
  {
   "cell_type": "markdown",
   "metadata": {},
   "source": [
    "Depends on what the operator, if $\\hat{O}$ is potential operator depends only on spatial coordinate $x,y$, we can easily have: \n",
    "\\begin{align}\n",
    "O_{m,n}&=\\braket{\\psi_m |\\hat{O}|\\psi_n}\\\\\n",
    "&= \\int dx dy {}\\psi_m(x,y)\\hat{O}(x,y)\\psi_n(x,y) \\\\\n",
    "&=\\Delta_x\\Delta_y\\sum_{x,y} \\psi_m^*(x,y)\\hat{O}(x,y)\\psi_n(x,y) \\\\\n",
    "&=\\Delta_x\\Delta_y (\\psi_{1,1}^* O_{1,1}\\psi_{1,1}+ \\psi_{1,2}^* O_{1,2}\\psi_{1,2} +...+\\psi_{2,1}^* O_{2,1}\\psi_{2,1}+ \\psi_{2,1}^* O_{2,1}\\psi_{2,1} +...+...) \\\\\n",
    "&=\\Delta_x\\Delta_y (\\abs{\\psi_{1,1}}^2 O_{1,1}+ \\abs{\\psi_{1,2}}^2 O_{1,2} +...+\\abs{\\psi_{2,1}}^2 O_{2,1}+ \\abs{\\psi_{2,1}}^2 O_{2,1} +...+...) \\\\\n",
    "&=O(x,y)\n",
    "\\end{align}\n",
    "where $\\Delta_x, \\Delta_y$ are the lattice spacings, and operators that depends only on spacial freedoms are trial, as we can see we just need to descetize them in lattice. **What's a fool I am to go through such long way to find it, LOL!**"
   ]
  },
  {
   "cell_type": "markdown",
   "metadata": {},
   "source": [
    "### Fourier integral to Fourier series"
   ]
  },
  {
   "cell_type": "markdown",
   "metadata": {},
   "source": [
    "Similar as the 1D FFT\n",
    "$$\n",
    "  FFT[\\psi(x)] = \\int\\d{x}\\; e^{-\\I k x}\\psi(x) = \\frac{L}{N}\\sum_{n} e^{-\\I k x_n}\\psi(x_n),\\\\\n",
    "  FFT^{-1}(\\psi_k) = \\int\\frac{\\d{k}}{(2\\pi)}\\; e^{\\I k x}\\psi_k = \\frac{1}{L}\\sum_{m} e^{\\I k_m x}\\psi_{k_m}.\n",
    "$$\n",
    "we can extend these relations to 2D case without difficulty:\n",
    "$$\n",
    "  FFT[\\psi(x,y)] = \\int dx dy e^{-i(k_x x +k_y y)}\\psi(x) = \\frac{L_x L_y}{N_x N_y}\\sum_{m,n} e^{-i (k_m x_m + k_n y_n)}\\psi(x_n,y_n)\\tag{1},\\\\\n",
    "$$\n",
    "$$\n",
    "  FFT^{-1}[\\psi(k_x,k_y)] = \\int\\frac{dk_x dk_y}{(4\\pi^2)}\\; e^{i (k_x x + k_y y)}\\psi(k_x, k_y) = \\frac{1}{L_x L_y}\\sum_{m,n} e^{i (k_m x_m + k_n y_n)}\\psi(k_m,k_n) \\tag{2}\n",
    "$$"
   ]
  },
  {
   "cell_type": "markdown",
   "metadata": {},
   "source": [
    "For operators like kinetic operator, we may need to use Fourier transform to change the basis and backward. The kinetic term for 2D system is:\n",
    "\n",
    "$$\n",
    "\\hat{T}=\\frac{-\\hbar^2}{2m}\\left[\\frac{\\partial^2 }{\\partial x^2}+\\frac{\\partial^2 }{\\partial y^2}\\right]\\tag{3}\n",
    "$$\n",
    "when it acts on an wavefunction $\\psi(x,y)$, yields another function $\\phi(x,y)$\n",
    "$$\n",
    "\\phi(x,y)=\\hat{T}\\psi(x,y)=\\frac{-\\hbar^2}{2m}\\left[\\frac{\\partial^2 }{\\partial x^2}+\\frac{\\partial^2 }{\\partial y^2}\\right]\\psi(x,y)\\tag{4}\n",
    "$$\n",
    "To make is more obviouse for computationn purpose, we use Fourier transform:"
   ]
  },
  {
   "cell_type": "markdown",
   "metadata": {},
   "source": [
    "$$\n",
    "\\psi(x,y)=\\frac{1}{2\\pi}\\int dk_x dk_y\\psi(k_x,k_y)e^{-i(k_xx+k_yy)}\\tag{5}\n",
    "$$\n",
    "where $\\psi(k_x,k_y)$ is just Fourier transfrom of $\\psi$, in mometum space.\n",
    "$$\n",
    "\\psi(k_x,k_y)=\\frac{1}{2\\pi} \\int dx dy \\psi(x,y)e^{i(k_xx+k_yy)}\\tag{6}\n",
    "$$\n",
    "\n",
    "If $\\psi(x,y)$ is represented as (1), we can elimilate the second order partial differitial to get:"
   ]
  },
  {
   "cell_type": "markdown",
   "metadata": {},
   "source": [
    "\\begin{align}\n",
    "\\phi(x,y)&=\\hat{T}\\psi(x,y)\\\\\n",
    "&=\\frac{-\\hbar^2}{2m}\\left[\\frac{\\partial^2 }{\\partial x^2}+\\frac{\\partial^2 }{\\partial y^2}\\right]\\psi(x,y)\\\\\n",
    "&=\\frac{\\hbar^2}{2m}\\frac{1}{2\\pi} \\int dk_x dk_y \\left[k_x^2 +k_y^2 \\right]\\psi(k_x,k_y)e^{-i(k_xx+k_yy)}\\\\\n",
    "&=\\frac{\\hbar^2}{2m}\\frac{1}{4\\pi^2} \\int dk_x dk_y dx' dy' \\left[k_x^2 +k_y^2 \\right]\\psi(x',y')e^{-i(k_xx+k_yy-k_xx'- k_yy')}\\tag{7}\n",
    "\\end{align}"
   ]
  },
  {
   "cell_type": "markdown",
   "metadata": {},
   "source": [
    "Transfrom from integral to summation yiels:\n",
    "$$\n",
    "\\phi(x,y) = \\frac{\\hbar^2}{2m}\\frac{1}{4\\pi^2} \\frac{1}{N_xN_y} \\sum_{k,l,m,n}\\left[k_{x_k}^2+k_{y_l}^2\\right]\\psi(x'_m,y'_n)e^{-i\\left[k_{x_k}(x-x'_m)+k_{y_l}(y-y'_n)\\right]}\\\\\n",
    "=\\sum_{k_x,k_y,m,n}f(k_x,k_y)\\psi(x'_m,y'_n)e^{-i\\left[k_x(x-x'_m)+k_y(y-y'_n)\\right]}\\tag{8}\n",
    "$$\n",
    "where\n",
    "\n",
    "$$\n",
    "f(k_x,k_y)=\\frac{\\hbar^2}{2m}\\frac{1}{4\\pi^2} \\frac{1}{N_xN_y} (k_x^2+k_y^2)\n",
    "$$\n",
    "\n",
    "\n",
    "\n",
    "Now, to present on matrix or tensor form, we need to represent the LHS as a matrix:"
   ]
  },
  {
   "cell_type": "markdown",
   "metadata": {},
   "source": [
    "\\begin{align}\n",
    "\\phi(x,y)\n",
    "&=\\sum_{k_x,k_y}f(k_x,k_y)e^{-i(k_xx+k_yy)}\\left\\{\n",
    "\\left[\\psi(x'_1,y'_1)e^{i(k_xx'_1+k_yy'_1)} + \\psi(x'_1,y'_2)e^{i(k_xx'_1+k_yy'_2)} +...+\\psi(x'_1,y'_{N_y})e^{i(k_xx'_1+k_yy'_{N_y})}\\right] +\\\\\n",
    "\\left[\\psi(x'_2,y'_1)e^{i(k_xx'_2+k_yy'_1)} + \\psi(x'_2,y'_2)e^{i(k_xx'_2+k_yy'_2)} +...+\\psi(x'_2,y'_{N_y})e^{i(k_xx'_2+k_yy'_{N_y})}\\right] +\\\\\n",
    "\\vdots \\\\\n",
    "\\left[\\psi(x'_{N_x},y'_1)e^{i(k_xx'_{N_x}+k_yy'_1)} + \\psi(x'_{N_x},y'_{N_x})e^{i(k_xx'_{N_x}+k_yy'_2)} +...+\\psi(x'_{N_x},y'_{N_y})e^{i(k_xx'_{N_x}+k_yy'_{N_y})}\\right]\n",
    "\\right\\} \\tag{9}\n",
    "\\end{align}"
   ]
  },
  {
   "cell_type": "markdown",
   "metadata": {},
   "source": [
    "The braket terms can be rearragned as:\n",
    "$$\n",
    "e^{ik_xx'_1}\\left[\\psi(x'_1,y'_1)e^{ik_yy'_1} + \\psi(x'_1,y'_2)e^{ik_yy'_2}+...\\psi(x'_1,y'_{N_y})e^{ik_yy'_{N_y}}\\right] +\\\\\n",
    "e^{ik_xx'_2}\\left[\\psi(x'_2,y'_1)e^{ik_yy'_1} + \\psi(x'_2,y'_2)e^{ik_yy'_2}+...\\psi(x'_2,y'_{N_y})e^{ik_yy'_{N_y}}\\right] +\\\\\n",
    "\\vdots\\\\\n",
    "e^{ik_xx'_{x_N}}\\left[\\psi(x'_{x_N},y'_1)e^{ik_yy'_1} + \\psi(x'_{x_N},y'_2)e^{ik_yy'_2}+...\\psi(x'_{x_N},y'_{N_y})e^{ik_yy'_{N_y}}\\right] \\tag{10}\n",
    "$$"
   ]
  },
  {
   "cell_type": "markdown",
   "metadata": {},
   "source": [
    "Careful obervation it can be found we can put this into matrix form, and define it as:\n",
    "$$\n",
    "  M(k_x,k_y)=\\begin{pmatrix}\n",
    "    e^{ik_xx'_1} & e^{ik_xx'_2} & ... e^{ik_xx'_{N_x}}\n",
    "  \\end{pmatrix} \n",
    "  \\begin{pmatrix}\n",
    "    \\psi(x'_1,y'_1) & \\psi(x'_1,y'_2)&...&\\psi(x'_1,y'_{N_y})\\\\\n",
    "    \\psi(x'_2,y'_1) & \\psi(x'_2,y'_2)&...&\\psi(x'_2,y'_{N_y})\\\\\n",
    "    \\vdots\\\\\n",
    "    \\psi(x'_{N_x},y'_1) & \\psi(x'_{N_x},y'_2)&...&\\psi(x'_{N_x},y'_{N_y})\\\\\n",
    "  \\end{pmatrix}\n",
    " \\begin{pmatrix}\n",
    "    e^{ik_yy'_1}\\\\\n",
    "    e^{ik_yy'_2}\\\\\n",
    "    \\vdots\\\\\n",
    "    e^{ik_yy'_{N_y}}\\\\\n",
    "  \\end{pmatrix}.\\tag{11}\n",
    "$$"
   ]
  },
  {
   "cell_type": "markdown",
   "metadata": {},
   "source": [
    "Then $\\phi(x,y)$ can be put as:\n",
    "\\begin{align}\n",
    "\\phi(x,y) \n",
    "&= \\sum_{k_x,k_y} f(k_x,k_y)M(k_x,k_y)e^{-i(k_xx+k_yy)} \\\\\n",
    "&=\n",
    "\\begin{pmatrix}\n",
    "    e^{-ik_{x_1}x} & e^{-ik_{x_2}x} & ... e^{-ik_{x_{N_x}}x}\n",
    "  \\end{pmatrix} \n",
    "  \\begin{pmatrix}\n",
    "     Mf(k_{x_1},k_{y_1}) & Mf(k_{x_1},k_{y_2}&...&Mf(k_{x_1},k_{y_{N_y}})\\\\\n",
    "    Mf(k_{x_2},k_{y_1}) & Mf(k_{x_2},k_{y_2}&...&Mf(k_{x_2},k_{y_{N_y}})\\\\\n",
    "    \\vdots\\\\\n",
    "    Mf(k_{x_{N_x}},k_{y_1}) & Mf(k_{x_{N_x}},k_{y_2}&...&Mf(k_{x_{N_x}},k_{y_{N_y}})\\\\\n",
    "  \\end{pmatrix}\n",
    " \\begin{pmatrix}\n",
    "    e^{-ik_{y_1}y}\\\\\n",
    "    e^{-ik_{y_2}y}\\\\\n",
    "    \\vdots\\\\\n",
    "    e^{-ik_{y_{N_y}}y}\\\\\n",
    "  \\end{pmatrix}.\\tag{12}\n",
    "\\end{align}\n"
   ]
  },
  {
   "cell_type": "markdown",
   "metadata": {},
   "source": [
    "where $Mf$ is a matrix eqaul to the elementwise product of two matrix with the same dimension $N_x\\times N_y$.\n",
    "\n",
    "if the indics $x,y$ run over all values, we can get the $\\phi(x,y)$ in grid:\n",
    "$$\n",
    "[\\phi]=U_x^T Mf U_y\n",
    "$$\n",
    "where\n",
    "$$\n",
    "U_x = \n",
    "\\begin{pmatrix}\n",
    "    e^{-ik_{x_1}x_1}&  e^{-ik_{x_1}x_2}&...&e^{-ik_{x_1}x_{N_x}}\\\\\n",
    "    e^{-ik_{x_2}x_1}&  e^{-ik_{x_2}x_2}&...&e^{-ik_{x_2}x_{N_x}}\\\\\n",
    "    \\vdots\\\\\n",
    "    e^{-ik_{x_{N_x}}x_1}&  e^{-ik_{x_{N_x}}x_2}&...&e^{-ik_{x_{N_x}}x_{N_x}}\\\\\n",
    "  \\end{pmatrix}\\tag{13}\n",
    "  $$\n",
    "  \n",
    "  $$\n",
    "U_y = \n",
    "\\begin{pmatrix}\n",
    "    e^{-ik_{y_1}y_1}&  e^{-ik_{y_1}y_2}&...&e^{-ik_{y_1}y_{N_y}}\\\\\n",
    "    e^{-ik_{y_2}y_1}&  e^{-ik_{y_2}y_2}&...&e^{-ik_{y_2}y_{N_y}}\\\\\n",
    "    \\vdots\\\\\n",
    "    e^{-ik_{y_{N_y}}x_1}&  e^{-ik_{y_{N_x}}x_2}&...&e^{-ik_{y_{N_y}}y_{N_y}}\\\\\n",
    "  \\end{pmatrix} \\tag{14}\n",
    "$$\n",
    "and \n",
    "$$\n",
    "[f]=\\frac{\\hbar^2}{2m}\\frac{1}{N_xN_y}\n",
    "\\begin{pmatrix}\n",
    "    k_{x_1}^2 +  k_{y_1}^2&  k_{x_1}^2 +  k_{y_2}^2&...& k_{x_1}^2 +  k_{y_{N_y}}^2\\\\\n",
    "    k_{x_2}^2 +  k_{y_1}^2&  k_{x_2}^2 +  k_{y_2}^2&...& k_{x_2}^2 +  k_{y_{N_y}}^2\\\\\n",
    "    \\vdots\\\\\n",
    "    k_{x_{N_x}}^2 +  k_{y_1}^2&  k_{x_{N_x}}^2 +  k_{y_2}^2&...& k_{x_{N_x}}^2 +  k_{y_{N_y}}^2\\\\\n",
    "  \\end{pmatrix} \\tag{15}\n",
    "$$\n",
    "\n",
    "and \n",
    "$$\n",
    "[M] = U_x^* [\\psi] U_y^\\dagger\n",
    "$$"
   ]
  },
  {
   "cell_type": "markdown",
   "metadata": {},
   "source": [
    "Since $Mf$ is the elementwise product of two matrix, we can factor out the $[\\psi]$\n",
    "\n",
    "$$\n",
    "Mf= [f] U_x^*[\\psi] U_y^\\dagger = U_x^*[f]U_y^\\dagger [\\psi] \\tag{16}\n",
    "$$"
   ]
  },
  {
   "cell_type": "markdown",
   "metadata": {},
   "source": [
    "Then the $[\\phi]$ can be put as:\n",
    "\n",
    "$$\n",
    "[\\phi] = U_x^T U_x^*[f]U_y^\\dagger U_y [\\psi] \\tag{17}\n",
    "$$\n",
    "\n",
    "Or the kinectic matrix can be written:\n",
    "$$\n",
    "[\\hat{T}] = U_x^T U_x^*[f]U_y^\\dagger U_y \\tag{18}\n",
    "$$"
   ]
  },
  {
   "cell_type": "markdown",
   "metadata": {},
   "source": [
    "<font color='red'>**I got a feeling that something goes wrong with above derivation, the T matrix and wavefunction vector should satisfy the matrix dot vector convention.**</font>"
   ]
  },
  {
   "cell_type": "markdown",
   "metadata": {},
   "source": [
    "Let's go back to equation (10)\n",
    "\n",
    "$$\n",
    "e^{ik_xx'_1}\\left[\\psi(x'_1,y'_1)e^{ik_yy'_1} + \\psi(x'_1,y'_2)e^{ik_yy'_2}+...\\psi(x'_1,y'_{N_y})e^{ik_yy'_{N_y}}\\right] +\\\\\n",
    "e^{ik_xx'_2}\\left[\\psi(x'_2,y'_1)e^{ik_yy'_1} + \\psi(x'_2,y'_2)e^{ik_yy'_2}+...\\psi(x'_2,y'_{N_y})e^{ik_yy'_{N_y}}\\right] +\\\\\n",
    "\\vdots\\\\\n",
    "e^{ik_xx'_{x_N}}\\left[\\psi(x'_{x_N},y'_1)e^{ik_yy'_1} + \\psi(x'_{x_N},y'_2)e^{ik_yy'_2}+...\\psi(x'_{x_N},y'_{N_y})e^{ik_yy'_{N_y}}\\right] \\tag{10}\n",
    "$$"
   ]
  },
  {
   "cell_type": "markdown",
   "metadata": {},
   "source": [
    "if we treat $e^{i(k_xx'_m + k_yy'_n}$ as a vector of size $N_x \\times N_y$ and $\\psi$ also with a same size 1d vector, then (10) can be put as:\n",
    "\\begin{align}\n",
    "M(k_x,k_y)\\psi&=\n",
    " \\begin{pmatrix}\n",
    "    e^{i(k_xx_1+k_yy_1)}& e^{i(k_xx_1+k_yy_2)}&...& e^{i(k_xx_1+k_yy_{N_y})}& e^{i(k_xx_2+k_yy_1)}&&...&e^{i(k_xx_2+k_yy_{N_y})}&...& e^{-i(k_xx_{N_x}+k_yy_{N_y})}\n",
    "  \\end{pmatrix}\n",
    "  \\begin{pmatrix}\n",
    "    \\psi_{1,1}\\\\\n",
    "    \\psi_{1,2} \\\\\n",
    "    \\vdots\\\\\n",
    "    \\psi_{1,N_y} \\\\\n",
    "    \\psi_{2,1}\\\\\n",
    "    \\vdots\\\\\n",
    "    \\psi_{2,N_y}\\\\\n",
    "    \\vdots\\\\\n",
    "    \\psi_{N_x,N_y}\n",
    "  \\end{pmatrix}\\\\\n",
    "   &=\\sum_{n}^{N}U(k_x,k_y)_n \\psi_n  \\tag{19}\n",
    " \\end{align}\n",
    "\n",
    "Define\n",
    "\n",
    "$$\n",
    "M'(k_x,k_y)=\\sum_{n}^{N}U(k_x,k_y)_n f_n \n",
    "$$\n",
    "\n",
    "where $N=N_x\\times N_y$\n",
    "\n",
    "  \n",
    "  The equation (12) need to be modified too:"
   ]
  },
  {
   "cell_type": "markdown",
   "metadata": {},
   "source": [
    "\\begin{align}\n",
    "\\phi(x,y) \n",
    "&= \\sum_{k_x,k_y} M'(k_x,k_y)e^{-i(k_xx+k_yy)} \\\\\n",
    "&= \\begin{pmatrix}\n",
    "    e^{-i(k_{x_1}x+k_{x_1}y)}& e^{-i(k_{x_1}x+k_{y_2}y)}&...&e^{-i(k_{x_1}x+k_{y_{N_y}}y)}& e^{-i(k_{x_2}x+k_{y_1}y)}&&...&e^{-i(k_{x_2}x+k_{y_{N_y}}y)}&...& e^{-i(k_{x_{N_x}}x+k_{y_{N_y}}y)}\n",
    "  \\end{pmatrix}\n",
    "  \\begin{pmatrix}\n",
    "    M'_{1,1}\\\\\n",
    "    M'_{1,2} \\\\\n",
    "    \\vdots\\\\\n",
    "    M'_{1,N_y} \\\\\n",
    "    M'_{2,1}\\\\\n",
    "    \\vdots\\\\\n",
    "    M'_{2,N_y}\\\\\n",
    "    \\vdots\\\\\n",
    "    M'_{N_x,N_y}\n",
    "  \\end{pmatrix}\\\\\n",
    "   &=\\begin{pmatrix}\n",
    "    e^{-i(k_{x_1}x+k_{x_1}y)}& e^{-i(k_{x_1}x+k_{y_2}y)}&...&e^{-i(k_{x_1}x+k_{y_{N_y}}y)}& e^{-i(k_{x_2}x+k_{y_1}y)}&&...&e^{-i(k_{x_2}x+k_{y_{N_y}}y)}&...& e^{-i(k_{x_{N_x}}x+k_{y_{N_y}}y)}\n",
    "  \\end{pmatrix} M'\n",
    " \\end{align} "
   ]
  },
  {
   "cell_type": "markdown",
   "metadata": {},
   "source": [
    "Now it's much clear, if we run $x, y$ over all pair of values, we get:\n",
    "$$\n",
    "[\\phi]= \\hat{U} M'\\psi\n",
    "$$\n",
    "\n",
    "where \n",
    "$$\n",
    "\\hat{U} \n",
    "=\\begin{pmatrix}\n",
    "    e^{-i(k_{x_1}x_1+k_{y_1}y_1)}& e^{-i(k_{x_1}x_1+k_{y_2}y_1)}&...&e^{-i(k_{x_1}x_1+k_{y_{N_y}}y_1)}& e^{-i(k_{x_2}x_1+k_{y_1}y_1)}&&...&e^{-i(k_{x_2}x_1+k_{y_{N_y}}y_1)}&...& e^{-i(k_{x_{N_x}}x_1+k_{y_{N_y}}y_1)} \\\\\n",
    "    e^{-i(k_{x_1}x_1+k_{y_1}y_2)}& e^{-i(k_{x_1}x_1+k_{y_2}y_2)}&...&e^{-i(k_{x_1}x_1+k_{y_{N_y}}y_2)}& e^{-i(k_{x_2}x_1+k_{y_1}y_2)}&&...&e^{-i(k_{x_2}x_1+k_{y_{N_y}}y_2)}&...& e^{-i(k_{x_{N_x}}x_1+k_{y_{N_y}}y_2)} \\\\\n",
    "    \\vdots \\\\\n",
    "   e^{-i(k_{x_1}x_{N_x}+k_{y_1}y_{N_y})}& e^{-i(k_{x_1}x_{N_x}+k_{y_2}y_{N_y})}&...&e^{-i(k_{x_1}x_{N_x}+k_{y_{N_y}}y_{N_y})}& e^{-i(k_{x_2}x_{N_x}+k_{y_1}y_{N_y})}&&...&e^{-i(k_{x_2}x_{N_x}+k_{y_{N_y}}y_{N_y})}&...& e^{-i(k_{x_{N_x}}x_{N_x}+k_{y_{N_y}}y_{N_y})} \\\\\n",
    "  \\end{pmatrix}\n",
    "$$\n"
   ]
  },
  {
   "cell_type": "markdown",
   "metadata": {},
   "source": [
    "A bit careful examination, it's not hard to find:\n",
    "$$\n",
    "\\phi=\\hat{U}M'=\\hat{U}f\\hat{U}^\\dagger \\psi\n",
    "$$\n",
    "\n",
    "which means:\n",
    "$$\n",
    "[\\hat{T}] = \\hat{U}f\\hat{U}^\\dagger \\tag{20}\n",
    "$$"
   ]
  },
  {
   "cell_type": "markdown",
   "metadata": {},
   "source": [
    "Now, result (20) seems to make sense, it may be used to check if it agree with Dr. Forbes' code:"
   ]
  },
  {
   "cell_type": "code",
   "execution_count": 3,
   "metadata": {},
   "outputs": [],
   "source": [
    "from __future__ import division\n",
    "import itertools\n",
    "import numpy as np\n",
    "import scipy.integrate\n",
    "from mmfutils.math.integrate import mquad\n",
    "\n",
    "class BCS(object):\n",
    "    hbar = 1.0\n",
    "    m = 1.0\n",
    "    def __init__(self, Nxy=(32, 32), Lxy=(10.0, 10.0), dx=None, T=0,E_c=np.inf):\n",
    "      \n",
    "        dy = dx\n",
    "        if dx is None:\n",
    "            dx, dy = np.divide(Lxy, Nxy)\n",
    "        elif Lxy is None:\n",
    "            Lxy = np.prod(Nxy, dx)\n",
    "        elif Nxy is None:\n",
    "            Nxy = np.ceil(Lxy / dx).astype(int)\n",
    "\n",
    "        Nx, Ny = Nxy\n",
    "        Lx, Ly = Lxy\n",
    "        self.xy = ((np.arange(Nx) * dx - Lx / 2)[:, None],# half of the length\n",
    "                   (np.arange(Ny) * dy - Ly / 2)[None, :])\n",
    "        \n",
    "        self.kxy = (2*np.pi * np.fft.fftfreq(Nx, dx)[:, None],\n",
    "                    2*np.pi * np.fft.fftfreq(Ny, dy)[None, :])\n",
    "        self.dx = dx\n",
    "        \n",
    "        self.Nxy = tuple(Nxy)\n",
    "        self.Lxy = tuple(Lxy)\n",
    "        self.T = T\n",
    "        self.E_c = E_c\n",
    "        \n",
    "    def get_Ks(self, twist=(0, 0)):\n",
    "    \n",
    "        mat_shape = (np.prod(self.Nxy),)*2\n",
    "        tensor_shape = self.Nxy + self.Nxy\n",
    "        K = np.eye(mat_shape[0]).reshape(tensor_shape)\n",
    "        K = self.hbar**2/2/self.m *self.ifftn(sum(_k**2 for _k in self.kxy)[:, :,  None, None]*self.fftn(K)).reshape((np.prod(self.Nxy),)*2).reshape(mat_shape)\n",
    "        return K\n",
    "\n",
    "    def fftn(self, y):\n",
    "            return np.fft.fftn(y, axes=(0,1))\n",
    "            \n",
    "    def ifftn(self, y):\n",
    "            return np.fft.ifftn(y, axes=(0,1))         \n",
    "   "
   ]
  },
  {
   "cell_type": "code",
   "execution_count": 4,
   "metadata": {},
   "outputs": [],
   "source": [
    "# The code is a bit silly, but it works, and it's connected to all what I have done above\n",
    "# Obviously can be shorten a lot \n",
    "def getKineticMatrix(s):\n",
    "    U = []\n",
    "    for x in s.xy[0].ravel():\n",
    "        for y in s.xy[0].ravel():\n",
    "            for kx in s.kxy[0].ravel():\n",
    "                for ky in s.kxy[1].ravel():\n",
    "                    U.append(np.exp(-1j*(kx * x + ky * y)) )\n",
    "\n",
    "    a= np.reshape(U,(np.prod(s.Nxy),)*2 )\n",
    "\n",
    "    f = []\n",
    "    for k1 in s.kxy[0].ravel():\n",
    "        for k2 in s.kxy[1].ravel():\n",
    "            f.append((k1**2 + k2**2 )/2)\n",
    "    b = np.diag(f) / np.prod(s.Nxy)\n",
    "    T=np.matmul(a,b)\n",
    "    T2 = np.matmul(T,a.conj().T)\n",
    "    return T2"
   ]
  },
  {
   "cell_type": "code",
   "execution_count": 5,
   "metadata": {},
   "outputs": [],
   "source": [
    "s = BCS(Nxy=(2**1,)*2)\n",
    "T1 = s.get_Ks()\n",
    "s.Nxy\n",
    "T2 = getKineticMatrix(s)\n",
    "assert np.allclose(T1, T2)"
   ]
  },
  {
   "cell_type": "code",
   "execution_count": 6,
   "metadata": {},
   "outputs": [],
   "source": [
    "for n in range(1,5):\n",
    "    s = BCS(Nxy=(2**n,)*2)\n",
    "    T1 = s.get_Ks()\n",
    "    s.Nxy\n",
    "    T2 = getKineticMatrix(s)\n",
    "    assert np.allclose(T1, T2)"
   ]
  },
  {
   "cell_type": "markdown",
   "metadata": {},
   "source": [
    "They agree, cheers!"
   ]
  },
  {
   "cell_type": "markdown",
   "metadata": {},
   "source": [
    "# Understanding ASLDA\n",
    "## Modified kinetic density matrix\n",
    "In the ASLDA, the kinetic density matrix changed, unlike in homogenous case above, which is just second differential operators, we need to derive it form from mathmetical form:\n",
    "\n",
    "$$\n",
    "\\begin{pmatrix}\n",
    "K_a - \\mu_a + V_a & \\Delta^\\dagger \\\\\n",
    "\\Delta & -K_b+\\mu_b - V_b\\\\\n",
    "\\end{pmatrix}\n",
    "\\begin{pmatrix}\n",
    "u_n\\\\\n",
    "v_n\n",
    "\\end{pmatrix}=E_n\n",
    "\\begin{pmatrix}\n",
    "u_n\\\\\n",
    "v_n\n",
    "\\end{pmatrix}\n",
    "$$\n",
    "\n",
    "where the $K_a, K_b$ is defined:\n",
    "\n",
    "\\begin{align}\n",
    "K_au\n",
    "&=-\\frac{\\hbar^2}{2m}\\nabla(\\alpha_a(n_a,n_b))\\nabla u)\\\\\n",
    "&=-\\frac{\\hbar^2}{2m}\\left[\\nabla\\alpha_a\\nabla + \\alpha\\nabla^2\\right]u \\tag{21}\n",
    "\\end{align}\n",
    "\n",
    "$$\n",
    "\\nabla = i\\frac{\\partial}{\\partial x} + j \\frac{\\partial}{\\partial y}\n",
    "$$\n"
   ]
  },
  {
   "cell_type": "markdown",
   "metadata": {},
   "source": [
    "What we need to do is to put (21) into a matrix representation, we can use the same reasoning as we did in the last section, and the result can be gotten:\n",
    "\\begin{align}\n",
    "\\nabla \\alpha_a \\nabla + \\alpha\\nabla^2 \n",
    "&=Diag(\\hat{\\nabla}\\alpha)\\hat{\\nabla} +  Diag(\\alpha)\\hat{U}f\\hat{U}^\\dagger\n",
    "&=Diag(\\hat{\\nabla}\\alpha)\\hat{\\nabla} +  Diag(\\alpha)\\hat{T}\n",
    "\\end{align}\n",
    "where \n",
    "$$\n",
    "\\hat{\\nabla} =\\hat{U}g\\hat{U}^\\dagger\n",
    "$$\n",
    "and\n",
    "$$\n",
    "g(k_a,k_b) =  -i(k_a + k_b)\\\\\n",
    "f(k_a,k_b) = -(k_a^2 + k_b^2)\n",
    "$$"
   ]
  },
  {
   "cell_type": "markdown",
   "metadata": {},
   "source": [
    "## Potential terms\n",
    "The potential terms is not totally different from the simple external potentials, we need to incorporate lots of tems into the modified potentials, as can be seen from their expressions:\n",
    "\n",
    "$$\n",
    "V_a=\\frac{\\partial\\alpha_-(n_a,n_b)}{\\partial n_a}\\frac{\\hbar^2\\tau_-}{2m} + \\frac{\\partial \\alpha_+(n_a,n_b)}{\\partial n_a}\\left(\\frac{\\hbar^2\\tau_+}{2m} - \\frac{\\Delta^\\dagger\\upsilon}{\\alpha_+(n_a,n_b)}\\right)-\\frac{\\partial\\tilde{C}(n_a,n_b)}{\\partial n_a}\\frac{\\Delta^\\dagger \\Delta}{\\alpha_+} + \\frac{\\hbar^2}{m} \\frac{\\partial D(n_a,n_b)}{\\partial n_a}+U_a(r)\n",
    "$$\n",
    "where\n",
    "\n",
    "\\begin{align}\n",
    "n_a(r)&=\\sum_{\\abs{E_n}<E_c} \\abs{u_n(r)}^2 f_\\beta(E_n)\\\\\n",
    "n_b(r)&=\\sum_{\\abs{E_n}<E_c} \\abs{v_n(r)}^2 f_\\beta(-E_n)\\\\\n",
    "\\tau_a(r)&=\\sum_{\\abs{E_n}<E_c} \\abs{\\nabla u_n(r)}^2 f_\\beta(E_n)\\\\\n",
    "\\tau_b(r)&=\\sum_{\\abs{E_n}<E_c} \\abs{\\nabla v_n(r)}^2 f_\\beta(-E_n)\\\\\n",
    "p(r)&=\\frac{n_a(r)-n_b(r)}{n_a(r)+n_b(r)}\\\\\n",
    "\\alpha(p)&=1.094+0.156p \\left(1-\\frac{2p^2}{3}+\\frac{p^4}{5}\\right)-0.532p^2\\left(1-p^2+\\frac{p^4}{3} \\right)\\\\\n",
    "\\alpha_a(n_a,n_b)&=\\alpha(p)\\\\\n",
    "\\alpha_b(n_a,n_b)&=\\alpha(-p)\\\\\n",
    "\\alpha_{\\pm}(n_a,n_b)&=\\frac{1}{2}\\left[\\alpha_a(n_a,n_b)\\pm\\alpha_b(n_a,n_b)\\right]\\\\\n",
    "\\tau_{\\pm}&=\\tau_a \\pm \\tau_b\\\\\n",
    "G(p)&=0.357+0.642p^2\\\\\n",
    "\\tilde{C}(n_a,n_b)&=\\frac{\\alpha_+(p)(n_a+n_b)^{1/3}}{\\gamma(p)}\\\\\n",
    "D(n_a,n_b)&=\\frac{\\left(6\\pi^2(n_a+n_b)\\right)^{5/3}}{20\\pi^2}\\left[G(p)-\\alpha(p)\\left(\\frac{1+p}{2}\\right)^{5/3}-\\alpha(-p)\\left(\\frac{1-p}{2}\\right)^{5/3}\\right]\n",
    "\\end{align}"
   ]
  },
  {
   "cell_type": "markdown",
   "metadata": {},
   "source": [
    "The partial derivatives then can be calculated:\n",
    "\\begin{align}\n",
    "\\frac{\\partial \\alpha_-}{\\partial n_a}&=\\frac{1}{2}\\\\\n",
    "\\frac{\\partial \\alpha_-}{\\partial n_b}&=-\\frac{1}{2}\\\\\n",
    "\\frac{\\partial p}{\\partial n_a}&=\\frac{2 n_b}{\\left(n_a+n_b\\right)^2}\\\\\n",
    "\\frac{\\partial p}{\\partial n_b}&=-\\frac{2 n_a}{\\left(n_a+n_b\\right)^2}\\\\\n",
    "\\frac{d\\alpha}{dp}\n",
    "&=0.156 \\left(\\frac{4 p^3}{5}+\\frac{4 p}{3}\\right) p-1.064 \\left(\\frac{p^4}{3}-p^2+1\\right) p+0.156 \\left(\\frac{p^4}{5}+\\frac{2 p^2}{3}+1\\right)-0.532 \\left(\\frac{4 p^3}{3}-2 p\\right) p^2\\\\\n",
    "&=-1.064 p^5+0.156 p^4+2.128 p^3+0.312 p^2-1.064 p+0.156\\\\\n",
    "\\frac{d \\alpha_+}{d p}&=-1.064 p^5+2.128 p^3-1.064 p\\\\\n",
    "\\frac{d \\alpha_-}{d p}&=0.156 \\left(p^2+1.\\right)^2\\\\\n",
    "\\end{align}"
   ]
  },
  {
   "cell_type": "markdown",
   "metadata": {},
   "source": [
    "### Use Chain Rule\n",
    "The above equation are too long, instead I should use parameter $p$ instead to simply the calculation.\n",
    "$$\n",
    "D(n_a,n_b)=\\frac{\\left(6\\pi^2(n_a+n_b)\\right)^{5/3}}{20\\pi^2}\\left[G(p)-\\alpha(p)\\left(\\frac{1+p}{2}\\right)^{5/3}-\\alpha(-p)\\left(\\frac{1-p}{2}\\right)^{5/3}\\right]\n",
    "$$\n"
   ]
  },
  {
   "cell_type": "markdown",
   "metadata": {},
   "source": [
    "\n",
    "\\begin{align}\n",
    "\\frac{\\partial D}{\\partial n_a}&=\\frac{18\\pi^2(6\\pi^2(n_a+n_b))^{2/3}}{100\\pi^2} D'(p)+\\frac{\\left(6\\pi^2(n_a+n_b)\\right)^{5/3}}{20\\pi^2} \\frac{\\partial D'}{\\partial p}\\frac{dp}{d n_a}\\\\\n",
    "&=\\frac{18(6\\pi^2(n_a+n_b))^{2/3}}{100}D'(p)+\\frac{\\left(6\\pi^2(n_a+n_b)\\right)^{5/3}}{20\\pi^2}\\frac{\\partial D'}{\\partial p}\\frac{dp}{d n_a}\n",
    "\\end{align}\n",
    "\n",
    "\n",
    "where\n",
    "\n",
    "\\begin{align}\n",
    "D'(p)&=\\left[G(p)-\\alpha(p)\\left(\\frac{1+p}{2}\\right)^{5/3}-\\alpha(-p)\\left(\\frac{1-p}{2}\\right)^{5/3}\\right]\\\\\n",
    "\\frac{\\partial D'}{\\partial p}&=\\begin{split}\n",
    "0.623451 p_--0.623451 p_++p \\left(0.204107 p_-+0.204107 p_++p \\left(-0.516148 p_-+\\\\\n",
    "0.516148 p_++p \\left(-0.823148 p_--0.823148 p_++p \\left(0.998697 p_--0.998697 p_++\\\\\n",
    "p \\left(-0.428233 p p_-+0.269623 p_-+0.428233 p p_++0.269623 p_+\\right)\\right)\\right)\\right)+1.284\\right)\n",
    "\\end{split}\\\\\n",
    "\\end{align}\n",
    "where \n",
    "\n",
    "$$\n",
    "p_+=(p+1)^{2/3}\\\\\n",
    "p_-=(1-p)^{2/3}\n",
    "$$"
   ]
  },
  {
   "cell_type": "markdown",
   "metadata": {},
   "source": [
    "## Derivatives Numerical Check\n",
    "### 1D Case"
   ]
  },
  {
   "cell_type": "code",
   "execution_count": 7,
   "metadata": {},
   "outputs": [
    {
     "name": "stdout",
     "output_type": "stream",
     "text": [
      "Populating the interactive namespace from numpy and matplotlib\n"
     ]
    }
   ],
   "source": [
    "%pylab inline\n",
    "N = 64\n",
    "L = 2*np.pi\n",
    "dx = L / N\n",
    "x = np.arange(N) * dx - L / 2\n",
    "k = 2*np.pi * np.fft.fftfreq(N, dx)\n",
    "D = (-np.diag(np.ones(N)) + np.diag(np.ones(N-1), k=1))/dx\n",
    "D[-1, 0] = 1./dx\n",
    "D2 = -D.dot(D.T.conj())"
   ]
  },
  {
   "cell_type": "code",
   "execution_count": 8,
   "metadata": {},
   "outputs": [
    {
     "name": "stderr",
     "output_type": "stream",
     "text": [
      "c:\\users\\chunde\\appdata\\local\\programs\\python\\python37\\lib\\site-packages\\numpy\\core\\numeric.py:538: ComplexWarning: Casting complex values to real discards the imaginary part\n",
      "  return array(a, dtype, copy=False, order=order)\n"
     ]
    },
    {
     "data": {
      "image/png": "[encoded data removed]",
      "text/plain": [
       "<Figure size 432x288 with 1 Axes>"
      ]
     },
     "metadata": {
      "needs_background": "light"
     },
     "output_type": "display_data"
    }
   ],
   "source": [
    "D = np.fft.ifft(-1j*k*np.fft.fft(np.eye(N), axis=1), axis=1)\n",
    "f = np.sin(x)\n",
    "plt.plot(x, np.cos(x))\n",
    "plt.plot(x, np.fft.ifft(-1j*k*np.fft.fft(f)), '+')   # This minus sign seems wrong.  Why?\n",
    "plt.plot(x, D.dot(f), '|')\n",
    "D2 = -D.dot(D.T.conj())"
   ]
  },
  {
   "cell_type": "code",
   "execution_count": 9,
   "metadata": {},
   "outputs": [
    {
     "data": {
      "text/plain": [
       "[<matplotlib.lines.Line2D at 0x2985b8c2e10>]"
      ]
     },
     "execution_count": 9,
     "metadata": {},
     "output_type": "execute_result"
    },
    {
     "data": {
      "image/png": "[encoded data removed]",
      "text/plain": [
       "<Figure size 432x288 with 1 Axes>"
      ]
     },
     "metadata": {
      "needs_background": "light"
     },
     "output_type": "display_data"
    }
   ],
   "source": [
    "f = np.sin(x)\n",
    "plt.plot(x, D.dot(f), '+')\n",
    "plt.plot(x, np.cos(x))"
   ]
  },
  {
   "cell_type": "code",
   "execution_count": 10,
   "metadata": {},
   "outputs": [
    {
     "data": {
      "text/plain": [
       "[<matplotlib.lines.Line2D at 0x2985db6fc18>]"
      ]
     },
     "execution_count": 10,
     "metadata": {},
     "output_type": "execute_result"
    },
    {
     "data": {
      "image/png": "[encoded data removed]",
      "text/plain": [
       "<Figure size 432x288 with 1 Axes>"
      ]
     },
     "metadata": {
      "needs_background": "light"
     },
     "output_type": "display_data"
    }
   ],
   "source": [
    "f = np.sin(x)\n",
    "plt.plot(x, D2.dot(f), '+')\n",
    "plt.plot(x, -np.sin(x))"
   ]
  },
  {
   "cell_type": "markdown",
   "metadata": {},
   "source": [
    "### 2D Case"
   ]
  },
  {
   "cell_type": "code",
   "execution_count": 11,
   "metadata": {},
   "outputs": [],
   "source": [
    "def fft2(y):\n",
    "    return np.fft.fftn(y, axes=(0,1))           \n",
    "def ifft2(y):\n",
    "    return np.fft.ifftn(y, axes=(0,1))\n",
    "def f(x,y):\n",
    "    return np.sin(x + y)"
   ]
  },
  {
   "cell_type": "code",
   "execution_count": 12,
   "metadata": {},
   "outputs": [
    {
     "data": {
      "image/png": "[encoded data removed]",
      "text/plain": [
       "<Figure size 432x288 with 2 Axes>"
      ]
     },
     "metadata": {
      "needs_background": "light"
     },
     "output_type": "display_data"
    }
   ],
   "source": [
    "N = 32\n",
    "L = 2*np.pi\n",
    "dx = L/N\n",
    "dy = dx\n",
    "x = np.linspace(0,L,N) - L/2\n",
    "y = np.linspace(0,L,N) - L/2\n",
    "xx,yy = np.meshgrid(x,y)\n",
    "z = np.sin(xx + yy) # sin(x^2 + y^2)\n",
    "plt.contourf(x,y,z)\n",
    "plt.plot(x,z[16])\n",
    "plt.colorbar()\n",
    "mat_shape = (N**2,)*2\n",
    "Nxy = (N,N)\n",
    "kxy = (2*np.pi * np.fft.fftfreq(N, dx)[:, None],2*np.pi * np.fft.fftfreq(N, dy)[None, :])\n",
    "tensor_shape = (N,N,N,N)"
   ]
  },
  {
   "cell_type": "code",
   "execution_count": 13,
   "metadata": {},
   "outputs": [
    {
     "name": "stderr",
     "output_type": "stream",
     "text": [
      "c:\\users\\chunde\\appdata\\local\\programs\\python\\python37\\lib\\site-packages\\ipykernel_launcher.py:3: DeprecationWarning: Calling np.sum(generator) is deprecated, and in the future will give a different result. Use np.sum(np.fromiter(generator)) or the python sum builtin instead.\n",
      "  This is separate from the ipykernel package so we can avoid doing imports until\n",
      "c:\\users\\chunde\\appdata\\local\\programs\\python\\python37\\lib\\site-packages\\ipykernel_launcher.py:4: DeprecationWarning: Calling np.sum(generator) is deprecated, and in the future will give a different result. Use np.sum(np.fromiter(generator)) or the python sum builtin instead.\n",
      "  after removing the cwd from sys.path.\n"
     ]
    }
   ],
   "source": [
    "nabla = np.eye(mat_shape[0]).reshape(tensor_shape)\n",
    "K = np.eye(mat_shape[0]).reshape(tensor_shape)\n",
    "D1 = ifft2(1j*sum(_k  for _k in kxy)[:, :,  None, None]*fft2(nabla)).reshape((np.prod(Nxy),)*2).reshape(mat_shape)\n",
    "D2 = ifft2(sum(-_k**2 for _k in kxy)[:, :,  None, None]*fft2(K)).reshape((np.prod(Nxy),)*2).reshape(mat_shape)"
   ]
  },
  {
   "cell_type": "code",
   "execution_count": 14,
   "metadata": {},
   "outputs": [
    {
     "data": {
      "text/plain": [
       "<matplotlib.colorbar.Colorbar at 0x2985dd04e10>"
      ]
     },
     "execution_count": 14,
     "metadata": {},
     "output_type": "execute_result"
    },
    {
     "data": {
      "image/png": "[encoded data removed]",
      "text/plain": [
       "<Figure size 432x288 with 2 Axes>"
      ]
     },
     "metadata": {
      "needs_background": "light"
     },
     "output_type": "display_data"
    }
   ],
   "source": [
    "z1=D1.dot(z.ravel()).reshape(N,N)\n",
    "imcontourf(x,y,z1.real)\n",
    "#plt.plot(x,z1[32])\n",
    "plt.colorbar()"
   ]
  },
  {
   "cell_type": "code",
   "execution_count": 15,
   "metadata": {},
   "outputs": [
    {
     "data": {
      "text/plain": [
       "<matplotlib.colorbar.Colorbar at 0x2985ddaf2b0>"
      ]
     },
     "execution_count": 15,
     "metadata": {},
     "output_type": "execute_result"
    },
    {
     "data": {
      "image/png": "[encoded data removed]",
      "text/plain": [
       "<Figure size 432x288 with 2 Axes>"
      ]
     },
     "metadata": {
      "needs_background": "light"
     },
     "output_type": "display_data"
    }
   ],
   "source": [
    "#z2 = (2*xx + 2 * yy) * np.cos(xx**2+yy**2)\n",
    "z2 = 2*np.cos(xx+yy)#np.cos(xx)*np.cos(yy)-np.sin(xx)*np.sin(yy)# (2*yy+2*xx)* np.cos(xx**2+yy**2)\n",
    "imcontourf(x,y,z2)\n",
    "#plt.plot(x,z2[32])\n",
    "plt.colorbar()"
   ]
  },
  {
   "cell_type": "code",
   "execution_count": 16,
   "metadata": {},
   "outputs": [
    {
     "data": {
      "text/plain": [
       "(False, True)"
      ]
     },
     "execution_count": 16,
     "metadata": {},
     "output_type": "execute_result"
    }
   ],
   "source": [
    "np.allclose(z1,z1.T.conj()),np.allclose(z2,z2.T.conj())"
   ]
  },
  {
   "cell_type": "code",
   "execution_count": 17,
   "metadata": {},
   "outputs": [
    {
     "data": {
      "text/plain": [
       "<matplotlib.colorbar.Colorbar at 0x2985dc6edd8>"
      ]
     },
     "execution_count": 17,
     "metadata": {},
     "output_type": "execute_result"
    },
    {
     "data": {
      "image/png": "[encoded data removed]",
      "text/plain": [
       "<Figure size 432x288 with 2 Axes>"
      ]
     },
     "metadata": {
      "needs_background": "light"
     },
     "output_type": "display_data"
    }
   ],
   "source": [
    "z3=D1.dot(z1.ravel()).reshape(N,N)#D2.dot(z.ravel()).reshape(N,N)\n",
    "imcontourf(x,y,z3.real, vmin=-2.0, vmax=2.0)\n",
    "#plt.plot(x,z1[32])\n",
    "plt.colorbar()"
   ]
  },
  {
   "cell_type": "code",
   "execution_count": 18,
   "metadata": {},
   "outputs": [
    {
     "data": {
      "text/plain": [
       "<matplotlib.colorbar.Colorbar at 0x2985dc241d0>"
      ]
     },
     "execution_count": 18,
     "metadata": {},
     "output_type": "execute_result"
    },
    {
     "data": {
      "image/png": "[encoded data removed]",
      "text/plain": [
       "<Figure size 432x288 with 2 Axes>"
      ]
     },
     "metadata": {
      "needs_background": "light"
     },
     "output_type": "display_data"
    }
   ],
   "source": [
    "#z2 = (2*xx + 2 * yy) * np.cos(xx**2+yy**2)\n",
    "z4 =-4*np.sin(xx+yy)#-2*(np.sin(xx)*np.cos(yy)+np.cos(xx)*np.sin(yy))#4*np.cos(xx**2 + yy**2) -4*(xx+yy)**2*np.sin(xx**2+yy**2)\n",
    "plt.contourf(x,y,z4)\n",
    "#plt.plot(x,z2[32])\n",
    "plt.colorbar()"
   ]
  },
  {
   "cell_type": "markdown",
   "metadata": {},
   "source": [
    "### Better Solutions\n",
    "\n",
    "$$\n",
    "  \\int\\left(\\alpha(x) \\frac{\\hbar^2}{2m}\\tau(x) + D(n)\\right)\\d{x}\n",
    "$$\n",
    "$$\n",
    "  E = \\sum_x\\alpha(x)|\\nabla\\psi(x)|^2\\\\\n",
    "$$\n",
    "$$\n",
    "  E = \\sum_x\\alpha(x) \\psi'(x){\\psi^\\dagger}'(x)\n",
    "$$\n",
    "\n",
    "$$\n",
    "  \\psi^\\dagger\\cdot D^\\dagger \\cdot A \\cdot  D\\cdot\\psi\\\\\n",
    "  K = D^\\dagger \\cdot A \\cdot  D\n",
    "$$\n",
    "\n",
    "\n",
    "\n",
    "$$\n",
    "  (AB)' = A'B + AB'\\\\\n",
    "  D\\cdot(AB) = [D\\cdot A]B + A[D\\cdot B]\n",
    "$$"
   ]
  },
  {
   "cell_type": "code",
   "execution_count": 19,
   "metadata": {},
   "outputs": [
    {
     "name": "stdout",
     "output_type": "stream",
     "text": [
      "Populating the interactive namespace from numpy and matplotlib\n"
     ]
    },
    {
     "name": "stderr",
     "output_type": "stream",
     "text": [
      "c:\\users\\chunde\\appdata\\local\\programs\\python\\python37\\lib\\site-packages\\IPython\\core\\magics\\pylab.py:160: UserWarning: pylab import has clobbered these variables: ['ifft2', 'f', 'fft2']\n",
      "`%matplotlib` prevents importing * from pylab and numpy\n",
      "  \"\\n`%matplotlib` prevents importing * from pylab and numpy\"\n"
     ]
    },
    {
     "data": {
      "image/png": "[encoded data removed]",
      "text/plain": [
       "<Figure size 432x288 with 1 Axes>"
      ]
     },
     "metadata": {
      "needs_background": "light"
     },
     "output_type": "display_data"
    }
   ],
   "source": [
    "%pylab inline\n",
    "import numpy as np\n",
    "N = 64\n",
    "L = 2*np.pi\n",
    "dx = L / N\n",
    "x = np.arange(N) * dx - L / 2\n",
    "k = 2*np.pi * np.fft.fftfreq(N, dx)\n",
    "D = (-np.diag(np.ones(N)) + np.diag(np.ones(N-1), k=1))/dx\n",
    "D[-1, 0] = 1./dx\n",
    "D2 = -D.dot(D.T.conj())\n",
    "\n",
    "\n",
    "D = np.fft.ifft(-1j*k*np.fft.fft(np.eye(N), axis=1), axis=1)\n",
    "f = np.sin(x)\n",
    "plt.plot(x, np.cos(x))\n",
    "plt.plot(x, np.fft.ifft(-1j*k*np.fft.fft(f)), '+')   # This minus sign seems wrong.  Why?\n",
    "plt.plot(x, D.dot(f), '|')\n",
    "D2 = -D.dot(D.T.conj())"
   ]
  },
  {
   "cell_type": "markdown",
   "metadata": {},
   "source": [
    "$$\n",
    "  (A\\psi')' = A' \\psi' + A\\psi''\\\\\n",
    "  (A\\psi)'' = (A'\\psi + A\\psi')' = (A''\\psi + A\\psi'' + 2 A'\\psi')\\\\\n",
    " A'\\psi' = \\frac{(A\\psi)'' - A''\\psi - A\\psi''}{2}\\\\\n",
    "  (A\\psi')' = \\frac{(A\\psi)'' - A''\\psi + A\\psi''}{2}\n",
    "$$"
   ]
  },
  {
   "cell_type": "markdown",
   "metadata": {},
   "source": [
    "I need to reformula the above argument a bit carefully\n",
    "\n",
    "\\begin{align}\n",
    "(\\alpha \\psi')'&=\\alpha'\\psi' + \\alpha \\psi'' \\\\\n",
    "(\\alpha \\psi)''&=(\\alpha'\\psi+\\alpha\\psi')'\\\\\n",
    "&=(\\alpha''\\psi+\\alpha\\psi''+2\\alpha'\\psi')\\\\\n",
    "\\alpha'\\psi'&=\\frac{(\\alpha\\psi)'' -\\alpha''\\psi-\\alpha\\psi''}{2}\\\\\n",
    "so\\\\\n",
    "(\\alpha\\psi')'&=\\frac{(\\alpha\\psi)''-\\alpha''\\psi+\\alpha\\psi''}{2}\n",
    "\\end{align}"
   ]
  },
  {
   "cell_type": "markdown",
   "metadata": {},
   "source": [
    "The interesting part of the relation is the $(\\alpha\\psi)''$, which can be put in martrix form as: $D2.dot(diag(\\alpha))$, change a vector of $\\alpha$ to a diagnized matrix will automatically make the operator works properly, that's really amazing!"
   ]
  },
  {
   "cell_type": "code",
   "execution_count": 20,
   "metadata": {},
   "outputs": [
    {
     "name": "stdout",
     "output_type": "stream",
     "text": [
      "False\n"
     ]
    }
   ],
   "source": [
    "# Numerical checks of the formula\n",
    "alpha = np.exp(np.sin(x))\n",
    "A = np.diag(alpha)\n",
    "K_ = np.diag(D.dot(alpha)).dot(D) + A.dot(D2)\n",
    "print(np.allclose(K_, K_.conj().T))\n",
    "#K=A.D2-D2.A\n",
    "K = (A.dot(D2) - np.diag(D2.dot(alpha)) + D2.dot(A))/2\n",
    "assert np.allclose(D2, D2.conj().T)\n",
    "assert np.allclose(K, K.conj().T)"
   ]
  },
  {
   "cell_type": "markdown",
   "metadata": {},
   "source": [
    "## Error Analysis"
   ]
  },
  {
   "cell_type": "code",
   "execution_count": 21,
   "metadata": {},
   "outputs": [
    {
     "name": "stdout",
     "output_type": "stream",
     "text": [
      "Populating the interactive namespace from numpy and matplotlib\n"
     ]
    }
   ],
   "source": [
    "%pylab inline --no-import-all\n",
    "import bcs;reload(bcs)\n",
    "import homogeneous;reload(homogeneous)\n",
    "\n",
    "delta = 1.0\n",
    "mu_eff = 1.0\n",
    "m = 1.0\n",
    "v_0, n, mu, e_0 = homogeneous.get_BCS_v_n_e(delta=delta, mu_eff=mu_eff)\n",
    "\n",
    "N_twist = 2\n",
    "\n",
    "def get_err(N, L, N_twist=1):\n",
    "    b = bcs.BCS(T=0, N=N, L=L)\n",
    "    R = b.get_R(mus=(mu_eff, mu_eff), delta=delta, N_twist=N_twist)\n",
    "    na = np.diag(R)[:N]/b.dx\n",
    "    nb = (1 - np.diag(R)[N:])/b.dx\n",
    "    kappa = - np.diag(R[:N, N:])/b.dx\n",
    "\n",
    "    k_max = np.pi*N/L\n",
    "    dn_UV = 2*b.m**2*delta**2/3/np.pi/k_max**3 + 8*b.m**3*mu_eff*delta**2/5/np.pi/k_max**5\n",
    "    dd_UV = v_0*b.m*delta/np.pi/k_max + 2*v_0*b.m**2*mu_eff/3/np.pi/k_max**3\n",
    "    return [[na[0].real + nb[0].real, -v_0*kappa[0].real],[dn_UV, dd_UV]]\n",
    "\n",
    "def get_errs(Ns, Ls, N_twist=1):\n",
    "    Ns, Ls = np.asarray(Ns), np.asarray(Ls)\n",
    "    res_NL = []\n",
    "    res_UV = []\n",
    "    for L in Ls:\n",
    "        res_NL_ = []\n",
    "        res_UV_ = []\n",
    "        for N in Ns:\n",
    "            n_d, d_UV = get_err(N=N, L=L, N_twist=N_twist)\n",
    "            res_NL_.append(n_d)\n",
    "            res_UV_.append(d_UV)\n",
    "        res_NL.append(res_NL_)\n",
    "        res_UV.append(res_UV_)\n",
    "    return np.array([res_NL, res_UV])"
   ]
  },
  {
   "cell_type": "code",
   "execution_count": 22,
   "metadata": {},
   "outputs": [
    {
     "data": {
      "image/png": "[encoded data removed]",
      "text/plain": [
       "<Figure size 1080x360 with 3 Axes>"
      ]
     },
     "metadata": {
      "needs_background": "light"
     },
     "output_type": "display_data"
    }
   ],
   "source": [
    "Ns = 2**np.arange(5, 9)\n",
    "Ls = [1.0, 10.0, 30.0]\n",
    "N_twists = [1, 2, 4]\n",
    "plt.figure(figsize=(5*len(N_twists), 5))\n",
    "for _n, N_twist in enumerate(N_twists):\n",
    "    res_NL, res_UV = get_errs(Ns=Ns, Ls=Ls, N_twist=N_twist)\n",
    "    n_, d_ = np.array(res_NL).T\n",
    "    plt.subplot(101 + len(N_twists)*10 + _n)\n",
    "    for _i, L in enumerate(Ls):\n",
    "        _l, = plt.loglog(Ns, abs(n_[:, _i]-n)/n, '--+', label='$n({})$'.format(L), alpha=0.5)\n",
    "        plt.loglog(Ns, abs(d_[:, _i]-delta)/delta, '--o', c=_l.get_c(),\n",
    "                   label=r'$\\Delta({})$'.format(L), alpha=0.5)\n",
    "        plt.loglog(Ns, abs(res_UV[_i, :, 0])/n, ':', c=_l.get_c())\n",
    "        plt.loglog(Ns, abs(res_UV[_i, :, 1])/delta, ':', c=_l.get_c())\n",
    "    plt.ylabel('Rel err')\n",
    "    plt.xlabel('N')\n",
    "    plt.legend()\n",
    "    plt.title(\"N_twist={}\".format(N_twist))"
   ]
  },
  {
   "cell_type": "code",
   "execution_count": 23,
   "metadata": {},
   "outputs": [
    {
     "data": {
      "text/plain": [
       "<matplotlib.legend.Legend at 0x2985f01d978>"
      ]
     },
     "execution_count": 23,
     "metadata": {},
     "output_type": "execute_result"
    },
    {
     "data": {
      "image/png": "[encoded data removed]",
      "text/plain": [
       "<Figure size 432x288 with 1 Axes>"
      ]
     },
     "metadata": {
      "needs_background": "light"
     },
     "output_type": "display_data"
    }
   ],
   "source": [
    "L = 0.46\n",
    "N = 2**8\n",
    "N_twists = 2**np.arange(0,6)\n",
    "\n",
    "res = np.array([get_err(N=N, L=L, N_twist=N_twist)[0]\n",
    "                for N_twist in N_twists])\n",
    "plt.loglog(N_twists, abs(res[:,0] - n)/n, '--+', label='$n$')\n",
    "plt.loglog(N_twists, abs(res[:,1] - delta)/delta, '--o', label=r'$\\Delta$')\n",
    "plt.legend()"
   ]
  },
  {
   "cell_type": "code",
   "execution_count": 24,
   "metadata": {},
   "outputs": [],
   "source": [
    "Ls = np.linspace(10.0, 30.0, 20)\n",
    "res = []\n",
    "for L in Ls:\n",
    "    b = bcs.BCS(T=0, N=2**10, L=L)\n",
    "    N = b.N\n",
    "    R = b.get_R(mus=(mu_eff, mu_eff), delta=delta)\n",
    "    na = np.diag(R)[:N]/b.dx\n",
    "    nb = (1 - np.diag(R)[N:])/b.dx\n",
    "    kappa = - np.diag(R[:N, N:])/b.dx\n",
    "    #na, nb, kappa\n",
    "    res.append((na[0].real + nb[0].real, -v_0*kappa[0].real))\n",
    "n_, d_ = np.array(res).T"
   ]
  },
  {
   "cell_type": "code",
   "execution_count": 25,
   "metadata": {},
   "outputs": [
    {
     "data": {
      "text/plain": [
       "<matplotlib.legend.Legend at 0x2985ea16d30>"
      ]
     },
     "execution_count": 25,
     "metadata": {},
     "output_type": "execute_result"
    },
    {
     "data": {
      "image/png": "[encoded data removed]",
      "text/plain": [
       "<Figure size 432x288 with 1 Axes>"
      ]
     },
     "metadata": {
      "needs_background": "light"
     },
     "output_type": "display_data"
    }
   ],
   "source": [
    "_l_n, = plt.loglog(Ls, abs(n_-n)/n, '--+', label='$n$', alpha=0.5)\n",
    "_l_d, = plt.loglog(Ls, abs(d_-delta)/delta, '--o', label=r'$\\Delta$', alpha=0.5)\n",
    "plt.loglog(Ls, abs(1./Ls**3)/n, ':', c=_l_n.get_c())\n",
    "plt.loglog(Ls, abs(1./Ls**3)/delta, ':', c=_l_d.get_c())\n",
    "\n",
    "plt.ylabel('Rel err')\n",
    "plt.xlabel('L')\n",
    "plt.legend()"
   ]
  },
  {
   "cell_type": "markdown",
   "metadata": {},
   "source": [
    "# How to extend the 2d Lattice code to 3D?\n"
   ]
  },
  {
   "cell_type": "markdown",
   "metadata": {},
   "source": [
    "If we assume the z direction is homogenous, then the wavefuction can be expressed as:\n",
    "$$\n",
    "\\psi(x,y,z)=\\psi(x,y)\\psi(z)\n",
    "$$\n",
    "and from the Schödinger equation:\n",
    "$$\n",
    "-\\frac{\\hbar^2}{2m}\\left[\\frac{\\partial^2}{\\partial x^2}+\\frac{\\partial^2}{\\partial y^2}+\\frac{\\partial^2}{\\partial z^2}\\right]\\psi(x,y,z) + V(x,y)\\psi(x,y,z)=(E_{xy} + E_z)\\psi(x,y,z)\\\\\n",
    "-\\frac{\\hbar^2}{2m}\\left[\\frac{\\partial^2}{\\partial x^2}+\\frac{\\partial^2}{\\partial y^2}+\\frac{\\partial^2}{\\partial z^2}\\right]\\psi(x,y)\\psi(z) + V(x,y)\\psi(x,y)\\psi(z)=(E_{xy} + E_z)\\psi(x,y)\\psi(z)\n",
    "$$\n"
   ]
  },
  {
   "cell_type": "markdown",
   "metadata": {},
   "source": [
    "The overall equation can be decomposed into two seperate equations:\n",
    "$$\n",
    "-\\frac{\\hbar^2}{2m}\\left[\\frac{\\partial^2}{\\partial x^2}+\\frac{\\partial^2}{\\partial y^2}\\right]\\psi(x,y) + V(x,y)\\psi(x,y)=E_{xy}\\psi(x,y)\\\\\n",
    "-\\frac{\\hbar^2}{2m}\\left[\\frac{\\partial^2}{\\partial z^2}\\right]\\psi(z)=E_z\\psi(z)\n",
    "$$\n",
    "So if we have lattice for x-y direction, to extend to 3d case, we may only add a const term to the kenitic terms."
   ]
  },
  {
   "cell_type": "markdown",
   "metadata": {},
   "source": []
  }
 ],
 "metadata": {
  "kernelspec": {
   "display_name": "Python 3",
   "language": "python",
   "name": "python3"
  },
  "language_info": {
   "codemirror_mode": {
    "name": "ipython",
    "version": 3
   },
   "file_extension": ".py",
   "mimetype": "text/x-python",
   "name": "python",
   "nbconvert_exporter": "python",
   "pygments_lexer": "ipython3",
   "version": "3.7.2"
  }
 },
 "nbformat": 4,
 "nbformat_minor": 2
}
