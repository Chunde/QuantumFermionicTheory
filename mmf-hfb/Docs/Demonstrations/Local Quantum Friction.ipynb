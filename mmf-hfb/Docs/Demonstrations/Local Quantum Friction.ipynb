{
 "cells": [
  {
   "cell_type": "code",
   "execution_count": 11,
   "metadata": {},
   "outputs": [
    {
     "data": {
      "text/html": [
       "<style>.grade {\n",
       "   background-color: #66FFCC;\n",
       "}\n",
       "</style>"
      ],
      "text/plain": [
       "<IPython.core.display.HTML object>"
      ]
     },
     "metadata": {},
     "output_type": "display_data"
    },
    {
     "data": {
      "application/javascript": [],
      "text/plain": [
       "<IPython.core.display.Javascript object>"
      ]
     },
     "metadata": {},
     "output_type": "display_data"
    },
    {
     "data": {
      "text/html": [
       "<script id=\"MathJax-Element-48\" type=\"math/tex\">\\newcommand{\\vect}[1]{\\mathbf{#1}}\n",
       "\\newcommand{\\uvect}[1]{\\hat{#1}}\n",
       "\\newcommand{\\abs}[1]{\\lvert#1\\rvert}\n",
       "\\newcommand{\\norm}[1]{\\lVert#1\\rVert}\n",
       "\\newcommand{\\I}{\\mathrm{i}}\n",
       "\\newcommand{\\ket}[1]{\\left|#1\\right\\rangle}\n",
       "\\newcommand{\\bra}[1]{\\left\\langle#1\\right|}\n",
       "\\newcommand{\\braket}[1]{\\langle#1\\rangle}\n",
       "\\newcommand{\\Braket}[1]{\\left\\langle#1\\right\\rangle}\n",
       "\\newcommand{\\op}[1]{\\mathbf{#1}}\n",
       "\\newcommand{\\mat}[1]{\\mathbf{#1}}\n",
       "\\newcommand{\\d}{\\mathrm{d}}\n",
       "\\newcommand{\\pdiff}[3][]{\\frac{\\partial^{#1} #2}{\\partial {#3}^{#1}}}\n",
       "\\newcommand{\\diff}[3][]{\\frac{\\d^{#1} #2}{\\d {#3}^{#1}}}\n",
       "\\newcommand{\\ddiff}[3][]{\\frac{\\delta^{#1} #2}{\\delta {#3}^{#1}}}\n",
       "\\newcommand{\\floor}[1]{\\left\\lfloor#1\\right\\rfloor}\n",
       "\\newcommand{\\ceil}[1]{\\left\\lceil#1\\right\\rceil}\n",
       "\\DeclareMathOperator{\\Tr}{Tr}\n",
       "\\DeclareMathOperator{\\erf}{erf}\n",
       "\\DeclareMathOperator{\\erfi}{erfi}\n",
       "\\DeclareMathOperator{\\sech}{sech}\n",
       "\\DeclareMathOperator{\\sgn}{sgn}\n",
       "\\DeclareMathOperator{\\order}{O}\n",
       "\\DeclareMathOperator{\\diag}{diag}\n",
       "\n",
       "\\newcommand{\\mylabel}[1]{\\label{#1}\\tag{#1}}\n",
       "\\newcommand{\\degree}{\\circ}</script>"
      ],
      "text/plain": [
       "<IPython.core.display.HTML object>"
      ]
     },
     "metadata": {},
     "output_type": "display_data"
    },
    {
     "data": {
      "text/html": [],
      "text/plain": [
       "<IPython.core.display.HTML object>"
      ]
     },
     "metadata": {},
     "output_type": "display_data"
    },
    {
     "data": {
      "text/html": [
       "\n",
       "<i>\n",
       "<p>This cell contains some definitions for equations and some CSS for styling\n",
       "  the notebook. If things look a bit strange, please try the following:\n",
       "<ul>\n",
       "  <li>Choose \"Trust Notebook\" from the \"File\" menu.</li>\n",
       "  <li>Re-execute this cell.</li>\n",
       "  <li>Reload the notebook.</li>\n",
       "</ul>\n",
       "</p>\n",
       "</i>\n"
      ],
      "text/plain": [
       "<IPython.core.display.HTML object>"
      ]
     },
     "metadata": {},
     "output_type": "display_data"
    },
    {
     "name": "stdout",
     "output_type": "stream",
     "text": [
      "Populating the interactive namespace from numpy and matplotlib\n"
     ]
    },
    {
     "ename": "ModuleNotFoundError",
     "evalue": "No module named 'nbimports'",
     "output_type": "error",
     "traceback": [
      "\u001b[1;31m---------------------------------------------------------------------------\u001b[0m",
      "\u001b[1;31mModuleNotFoundError\u001b[0m                       Traceback (most recent call last)",
      "\u001b[1;32m<ipython-input-11-4b1d10463022>\u001b[0m in \u001b[0;36m<module>\u001b[1;34m\u001b[0m\n\u001b[0;32m      1\u001b[0m \u001b[1;32mimport\u001b[0m \u001b[0mmmf_setup\u001b[0m\u001b[1;33m;\u001b[0m\u001b[0mmmf_setup\u001b[0m\u001b[1;33m.\u001b[0m\u001b[0mnbinit\u001b[0m\u001b[1;33m(\u001b[0m\u001b[1;33m)\u001b[0m\u001b[1;33m\u001b[0m\u001b[1;33m\u001b[0m\u001b[0m\n\u001b[0;32m      2\u001b[0m \u001b[0mget_ipython\u001b[0m\u001b[1;33m(\u001b[0m\u001b[1;33m)\u001b[0m\u001b[1;33m.\u001b[0m\u001b[0mrun_line_magic\u001b[0m\u001b[1;33m(\u001b[0m\u001b[1;34m'pylab'\u001b[0m\u001b[1;33m,\u001b[0m \u001b[1;34m'inline --no-import-all'\u001b[0m\u001b[1;33m)\u001b[0m\u001b[1;33m\u001b[0m\u001b[1;33m\u001b[0m\u001b[0m\n\u001b[1;32m----> 3\u001b[1;33m \u001b[1;32mfrom\u001b[0m \u001b[0mnbimports\u001b[0m \u001b[1;32mimport\u001b[0m \u001b[1;33m*\u001b[0m\u001b[1;33m\u001b[0m\u001b[1;33m\u001b[0m\u001b[0m\n\u001b[0m",
      "\u001b[1;31mModuleNotFoundError\u001b[0m: No module named 'nbimports'"
     ]
    }
   ],
   "source": [
    "import mmf_setup;mmf_setup.nbinit()\n",
    "%pylab inline --no-import-all\n",
    "from nbimports import *"
   ]
  },
  {
   "cell_type": "markdown",
   "metadata": {},
   "source": [
    "# Local Quantum Friction"
   ]
  },
  {
   "cell_type": "markdown",
   "metadata": {},
   "source": [
    "## Introduction\n",
    "\n",
    "A common problem with both simulations and experiments is to prepare a quantum system in the ground state.  Experimentally one can usually obtain a good approximation of the ground state by allowing high-energy particles to evaporate at the cost of losing particles.  (The real problem is when one wants to prepare a ground state with a single particle.)  Here we discuss a particular technique useful for finding the ground state of quantum simulations suitable for application to large systems that require high-performance computing (HPC) clusters.\n",
    "\n",
    "## Fermionic DFT\n",
    "\n",
    "With simulations, one has a variety of techniques, but with varying computational cost.  The motivation for the method described here is that of finding the ground state in a systems of fermions using density functional theory (DFT).  The state of a fermionic DFT consists of a set of single-particle states $\\psi = \\{\\psi_n\\}$.  Each of these single-particle states $\\psi_n$ must be orthogonal to each of the others to ensure that the Pauli exclusion principle is satisfied.  (The physical state used in the DFT is a Slater determinant of these \"orbitals\".)  The challend is that, for larger systems, these states can comprise terrabytes of data, and must be distributed over a HPC cluster.  Most of the minimization techniques destroy the orthogonality of these single-particle states, requireing continual reorthogonalization (i.e. via the Gram-Schmidt process) which communication between all of the compute nodes.  Communication is one of the slowest aspects of computing on a cluster, and this communication effectively prohibits the application of standard minimization techniques for large systems.\n",
    "\n",
    "In contrast, real-time evolution by applying the Hamiltonian can be efficiently implemented efficiently.  Such evolution \n",
    "\n",
    "$$\n",
    "  \\newcommand{\\I}{\\mathrm{i}}\n",
    "  \\newcommand{\\d}{\\mathrm{d}}\n",
    "  \\newcommand{\\vect}[1]{\\vec{#1}}\n",
    "  \\newcommand{\\op}[1]{\\hat{#1}}\n",
    "  \\newcommand{\\abs}[1]{\\lvert#1\\rvert}\n",
    "  \\newcommand{\\pdiff}[2]{\\frac{\\partial #1}{\\partial #2}}\n",
    "  \\newcommand{\\ket}[1]{\\lvert#1\\rangle}\n",
    "  \\newcommand{\\bra}[1]{\\langle#1\\rvert}\n",
    "  \\newcommand{\\braket}[1]{\\langle#1\\rangle}\n",
    "  \\DeclareMathOperator{\\Tr}{Tr}\n",
    "  \\I \\hbar\\pdiff{\\psi_n}{t} = \\op{H}\\psi_n.\n",
    "$$\n",
    "\n",
    "requires communicating the same Hamiltonian $\\op{H}[\\{\\psi_n\\}]$ to each of the nodes, but this typically only requires sending the effective potential - the equivalent of a single wavefunction of information - to each of the nodes which is feasible for large states.  (Technically, this is computed by a single reduce operation over the cluster.)\n",
    "\n",
    "The method of local quantum friction discussed here provides real-time evolution with a modified Hamiltonian $\\op{H}_f$ so as to remove energy from the system while maintaining orthonormality of the single-particle states.  We shall demonstrate this technique here using bosons simulated with the GPE.  Since the bosonic DFT depends on a single wavefunction (sometimes called an \"orbital free\" DFT), one has access to the other techniques, but we proceed keeping the fermionic example in mind."
   ]
  },
  {
   "cell_type": "markdown",
   "metadata": {},
   "source": [
    "## Formulation"
   ]
  },
  {
   "cell_type": "markdown",
   "metadata": {},
   "source": [
    "Consider the GPE: the ground state can be defined as a constrained variation of an energy functional $E[\\psi]$ while fixing the particle number $N[\\psi]$.  The variational condition defines the time-evolution of the system:\n",
    "\n",
    "$$\n",
    "  \\I \\hbar\\pdiff{\\psi}{t} \n",
    "  = (\\op{H}[\\psi] - \\mu)\\psi\n",
    "  = \\pdiff{(E[\\psi] - \\mu N[\\psi])}{\\psi^\\dagger},\\\\\n",
    "  E[\\psi] = \\int \\d^3\\vect{x}\\left(\n",
    "    \\frac{\\hbar^2\\abs{\\vect{\\nabla}\\psi}^2}{2m} \n",
    "    + \\frac{g}{2}n^2(\\vect{x})\n",
    "    + V(\\vect{x})n(\\vect{x})\n",
    "  \\right),\n",
    "  \\qquad\n",
    "  N[\\psi] = \\int \\d^3{x}\\; n(\\vect{x}),\\\\\n",
    "  n(\\vect{x}) = \\abs{\\psi(\\vect{x})}^2.\n",
    "$$\n",
    "\n",
    "This gives rise to the usual GPE effective Hamiltonian:\n",
    "\n",
    "$$\n",
    "  \\op{H}[\\psi] = \\frac{-\\hbar^2\\nabla^2}{2m} + gn(\\vect{x}) + V(\\vect{x}).\n",
    "$$"
   ]
  },
  {
   "cell_type": "markdown",
   "metadata": {},
   "source": [
    "### Imaginary Time Cooling"
   ]
  },
  {
   "cell_type": "markdown",
   "metadata": {},
   "source": [
    "The most straight-forward approach to the minimization problem is the method of steepest descent - going downhill:\n",
    "\n",
    "$$\n",
    "  \\d \\psi \\propto -\\pdiff{E[\\psi]}{\\psi^\\dagger} \\propto - \\op{H}\\psi.\n",
    "$$\n",
    "\n",
    "*Note: There is a slight subtlety here since we are minimizing a function of a complex field $\\psi$.  A careful treatment breaking $\\psi$ into real and imaginary parts coupled with the fact that the energy is a real symmetric function $E[\\psi^\\dagger, \\psi] = E[\\psi, \\psi^\\dagger]$ shows that $\\d{\\psi} \\propto -\\partial{E}/\\partial{\\psi^\\dagger}$ indeed gives the correct descent diretion.*\n",
    "\n",
    "Thus, we can implement a continuous gradient descent if we evolve\n",
    "\n",
    "$$\n",
    "  \\hbar\\pdiff{\\psi}{\\tau} = - \\op{H}\\psi = - \\I\\hbar \\pdiff{\\psi}{t}\n",
    "$$\n",
    "\n",
    "with respect $\\tau = -\\I t$ which is equivalent to our original evolution with respect to an \"imaginary time\" $t = \\I \\tau$.  Mathematically, this can be expressed by including a \"cooling phase\" in front of the evolution:\n",
    "\n",
    "$$\n",
    "  e^{\\I\\phi} \\I\\hbar \\pdiff{\\psi}{t} = \\op{H}\\psi.\n",
    "$$\n",
    "\n",
    "Real-time evolution is implemented when $e^{\\I \\phi} = 1$, while imaginary-time cooling is implemented when $e^{\\I\\phi} = \\I$.  Complex-time evolution with $e^{\\I\\phi} \\propto 1 + \\epsilon \\I$ can be used to mimic superfluid dynamics with dissipation.  This is implemented in the simulations through the cooling parameter $\\epsilon$.  Imaginary time cooling is realized with large values of $\\epsilon$.\n",
    "\n",
    "Directly implementing evolution with an imaginary component to the phase will not only reduce the energy, but will also reduce the particle number.  Generally this is not desirable, so we must rescale the wave-function to restore the particle number.  Scaling the wavefunction $\\psi \\rightarrow s(t)\\psi$ corresponds to a term in the evolution $\\partial \\psi/\\partial t \\propto s'(t)\\psi$.  This can be implemented by adding a constant to Hamiltonian, aka a chemical potential:\n",
    "\n",
    "$$\n",
    "  e^{\\I\\phi} \\I\\hbar \\pdiff{\\psi}{t} = (\\op{H} - \\mu)\\psi.\n",
    "$$\n",
    "\n",
    "A little investigation shows that one should take:\n",
    "\n",
    "$$\n",
    "  \\mu(t) = \\frac{\\braket{\\psi|\\op{H}|\\psi}}{\\braket{\\psi|\\psi}}.\n",
    "$$\n",
    "\n",
    "Expressed in another way, we make the change in the state $\\ket{\\d\\psi} \\propto \\op{H}\\ket{\\psi}$ orthogonal to $\\ket{\\psi}$ so that the state simply \"rotates\" without changing length:\n",
    "\n",
    "$$\n",
    "  \\ket{\\d\\psi} \\propto (\\op{H} - \\mu)\\ket{\\psi}, \\qquad \\braket{\\d\\psi|\\psi} = 0.\n",
    "$$\n",
    "\n",
    "This immediately gives the condition $\\mu = \\braket{\\op{H}}$ given above, which will preserve the normalization of the state no-matter what the cooling phase.  *Incidentally, even if one performs real-time evolution, using such a chemical potential can be numerically advantageous as it minimizes the phase evolution of the state.  This has not physical significance, but reduces numerical errors and allows one to use larger time-steps.*"
   ]
  },
  {
   "cell_type": "markdown",
   "metadata": {},
   "source": [
    "### Example 1: Cooling"
   ]
  },
  {
   "cell_type": "markdown",
   "metadata": {},
   "source": [
    "Run the following simulation of a highly-excited superfluid and explore the effect of the cooling phase.  The simulation starts with a BEC in a cylindrical trap rotating with a high angular velocity.  You can addjust the cooling parameter $\\epsilon$ with the first slider.  For large amounts of cooling, you should see the system rapidly lose energy to form a set of orbiting vortices."
   ]
  },
  {
   "cell_type": "code",
   "execution_count": 7,
   "metadata": {},
   "outputs": [
    {
     "data": {
      "application/javascript": [
       "IPython.OutputArea.prototype._should_scroll = function(lines) { return false; }\n"
      ],
      "text/plain": [
       "<IPython.core.display.Javascript object>"
      ]
     },
     "metadata": {},
     "output_type": "display_data"
    }
   ],
   "source": [
    "%%javascript\n",
    "IPython.OutputArea.prototype._should_scroll = function(lines) { return false; }"
   ]
  },
  {
   "cell_type": "code",
   "execution_count": 8,
   "metadata": {},
   "outputs": [],
   "source": [
    "# Does not work on CoLab yet\n",
    "from mmf_setup.set_path import hgroot\n",
    "from importlib import reload\n",
    "#from super_hydro.client import notebook;reload(notebook)\n",
    "#notebook.run(model='gpe.BEC', Nx=64, Ny=64)"
   ]
  },
  {
   "cell_type": "markdown",
   "metadata": {},
   "source": [
    "### Quantum Friction"
   ]
  },
  {
   "cell_type": "markdown",
   "metadata": {},
   "source": [
    "One can derive cooling from another perspective which allows the desired generalization.  Consider how the energy of the system $E[\\psi]$ changes when we evolve the system with a \"cooling\" Hamiltonian $\\op{H}_c = \\op{H}_c^\\dagger$, which we restrict:\n",
    "\n",
    "$$\n",
    "  \\I\\hbar \\ket{\\dot{\\psi}} \\equiv \\I\\hbar \\pdiff{\\ket{\\psi}}{t}\n",
    "  = \\op{H}_{c}\\ket{\\psi}.\n",
    "$$\n",
    "\n",
    "The change in the energy is:\n",
    "\n",
    "\\begin{align}\n",
    "  \\dot{E} &= \\bra{\\dot{\\psi}}\\pdiff{E}{\\bra{\\psi}} + \\pdiff{E}{\\ket{\\psi}}\\ket{\\dot{\\psi}},\\\\\n",
    "          &= \\braket{\\dot{\\psi}|\\op{H}|\\psi} + \\braket{\\psi|\\op{H}|\\dot{\\psi}},\\\\\n",
    "          &= \\frac{-\\braket{\\psi|\\op{H}_c\\op{H}|\\psi} + \\braket{\\psi|\\op{H}\\op{H}_c|\\psi}}{\\I\\hbar}\n",
    "          = \\frac{\\braket{\\psi|[\\op{H},\\op{H}_c]|\\psi}}{\\I\\hbar}.\n",
    "\\end{align}\n",
    "\n",
    "If we can choose $\\op{H}_c$ to ensure that the last term is negative-definite, then we have a cooling procedure.  The last term can be more usefully expressed in terms of the normalized density operator $\\op{R} = \\ket{\\psi}\\bra{\\psi}/\\braket{\\psi|\\psi}$ and using the cyclic property of the trace:\n",
    "\n",
    "$$\n",
    "  \\frac{\\braket{\\psi|[\\op{H},\\op{H}_c]|\\psi}}{\\braket{\\psi|\\psi}} \n",
    "  = \\Tr\\left(\\op{R}[\\op{H},\\op{H}_c]\\right)\n",
    "  = \\Tr\\left(\\op{H}_c[\\op{R},\\op{H}]\\right),\\qquad\n",
    "  \\hbar\\dot{E} = -\\braket{\\psi|\\psi}\\Tr\\left(\\I[\\op{R},\\op{H}]\\op{H}_c\\right).\n",
    "$$\n",
    "\n",
    "This gives the optimal choice:\n",
    "\n",
    "$$\n",
    "  \\op{H}_c = \\left(\\I[\\op{R},\\op{H}]\\right)^{\\dagger}\n",
    "           = \\I[\\op{R},\\op{H}], \\qquad\n",
    "  \\hbar\\dot{E} = -\\braket{\\psi|\\psi}\\Tr(\\op{H}_c^\\dagger\\op{H}_c),\n",
    "$$\n",
    "\n",
    "ensuring a continuous steepest descent.  It turns out that this choice is equivalent to imaginary time cooling with rescaling:\n",
    "\n",
    "$$\n",
    "  \\op{H}_c = \\frac{-\\I}{\\braket{\\psi|\\psi}}\n",
    "  (\\op{H}\\ket{\\psi}\\bra{\\psi}-\\ket{\\psi}\\bra{\\psi}\\op{H})\\\\\n",
    "  \\I\\ket{\\dot{\\psi}} = \\op{H}_c\\ket{\\psi} \n",
    "  = -\\I\\left(\n",
    "    \\op{H} - \\frac{\\braket{\\psi|\\op{H}|\\psi}}{\\braket{\\psi|\\psi}}\n",
    "  \\right)\\ket{\\psi}\n",
    "  = -\\I(\\op{H} - \\mu)\\ket{\\psi}.\n",
    "$$\n",
    "\n",
    "*One can include an arbitrary real constant in $\\op{H}_c$ but this just amounts to rescaling $t$.  It might be tempting to include a large constant so that the energy decreases rapidly, but then one will need to take correspondingly smaller time-steps exactly negating the effect.*\n",
    "\n",
    "*From now on, we will assume our states are properly normalized, dropping the factors of $\\braket{\\psi|\\psi} = 1$.*"
   ]
  },
  {
   "cell_type": "markdown",
   "metadata": {},
   "source": [
    "### Fermions"
   ]
  },
  {
   "cell_type": "markdown",
   "metadata": {},
   "source": [
    "Now consider the same approach for cooling an orbital based DFT (Hatree-Fock) whose states are formed as a Slater determinant of $N$ orthonormal single-particle states $\\ket{\\psi_n}$ where $\\braket{\\psi_m|\\psi_n} = \\delta_{mn}$.  In this case, the density matrix has the form:\n",
    "\n",
    "$$\n",
    "  \\op{R} = \\sum_{n}\\ket{\\psi_n}\\bra{\\psi_n}.\n",
    "$$\n",
    "\n",
    "The same formulation applies with maximal cooling being realized for $\\op{H}_c = \\I[\\op{R},\\op{H}]$ so that\n",
    "\n",
    "$$\n",
    "  \\op{H}_c\\ket{\\psi_i} = -\\I\\sum_{n}\\left(\n",
    "    \\op{H}\\ket{\\psi_n}\\braket{\\psi_n|\\psi_i}\n",
    "    -\n",
    "    \\ket{\\psi_n}\\braket{\\psi_n|\\op{H}|\\psi_i}\n",
    "  \\right)\n",
    "  = -\\I\\left(\n",
    "    \\op{H}\\ket{\\psi_i}\n",
    "    -\n",
    "    \\sum_{n}\\ket{\\psi_n}\\braket{\\psi_n|\\op{H}|\\psi_i}\n",
    "  \\right).\n",
    "$$\n",
    "\n",
    "This again amounts to imaginary time evolution with $\\op{H}$ plus additional corrections to ensure that the evolution maintains the orthonormality of the single-particle states $\\braket{\\psi_m|\\psi_n} = \\delta_{mn}$ (effecting a continuous Gram-Schmidt process). It is clear that overlaps between all states $H_{ni}=\\braket{\\psi_n|\\op{H}|\\psi_i}$ must be computed, making this approach expensive in terms of communication.\n",
    "\n",
    "*As before, we will now assume that all single-particle states are orthonormal $\\braket{\\psi_m|\\psi_n} = \\delta_{mn}$.*"
   ]
  },
  {
   "cell_type": "markdown",
   "metadata": {},
   "source": [
    "### Local Formulation"
   ]
  },
  {
   "cell_type": "markdown",
   "metadata": {},
   "source": [
    "Instead, one can use the same formalism, but consider alternative forms of $\\op{H}_c$ that are easier to compute.  In particular, one can consider local operators in position or momentum space:\n",
    "\n",
    "$$\n",
    "  \\op{H}_c = \\beta_K\\op{K}_c + \\beta_V\\op{V}_c\n",
    "$$\n",
    "\n",
    "where $\\op{V}_c$ is a potential diagonal in position space $\\braket{x|\\op{V}_c|x} = V_c(x)$ and $\\op{K}_c$ is \"potential\" diagonal in momentum space $\\braket{k|\\op{K}_c|k} = K_c(k)$:\n",
    "\n",
    "$$\n",
    "  \\op{K}_c = \\int\\frac{\\d{k}}{2\\pi}\\;\\ket{k}K_c(k)\\bra{k}, \\qquad\n",
    "  \\op{V}_c = \\int\\d{x}\\;\\ket{x}V_c(x)\\bra{x}.\n",
    "$$\n",
    "\n",
    "Proceeding as before, we can assure that the energy decreases if\n",
    "\n",
    "\\begin{gather}\n",
    "  \\hbar \\dot{E} = -\\I\\Tr(\\op{H}_c[\\op{R}, \\op{H}]) \\leq 0\\\\\n",
    "  \\begin{aligned}\n",
    "    V_c(x) &= \\I\\braket{x|[\\op{R},\\op{H}]|x} \n",
    "           = \\hbar \\dot{n}(x), &\n",
    "    K_c(k) &= \\I\\braket{k|[\\op{R},\\op{H}]|k}\n",
    "           = \\hbar\\dot{n}(k),\n",
    "  \\end{aligned}\n",
    "\\end{gather}\n",
    "\n",
    "where the time-derivatives are taken with respect to evolution with the original Hamiltonian:\n",
    "\n",
    "$$\n",
    "  \\hbar\\dot{n}(x) = \\hbar\\braket{x|\\dot{\\op{R}}|x} \n",
    "                  = -\\I\\braket{x|[\\op{H},\\op{R}]|x}, \\qquad\n",
    "  \\hbar\\dot{n}(k) = \\hbar\\braket{k|\\dot{\\op{R}}|k} \n",
    "                 = -\\I\\braket{k|[\\op{H},\\op{R}]|k}.\n",
    "$$\n",
    "\n",
    "*If the Hamiltonian separates $\\op{H} = \\op{K} + \\op{V}$ into pieces that are local in momentum and position space respectively, then we can simplify these:*\n",
    "\n",
    "$$\n",
    "  \\braket{x|[\\op{R},\\op{H}]|x} = \\braket{x|[\\op{R},\\op{K}]|x},\n",
    "  \\qquad\n",
    "  \\braket{k|[\\op{R},\\op{H}]|k} = \\braket{k|[\\op{R},\\op{V}]|k}.\n",
    "$$\n",
    "\n",
    "The meaning of these \"cooling\" potential is elucidated by considering the continuity equation:\n",
    "\n",
    "$$\n",
    "  \\dot{n}(x) = -\\vect{\\nabla}\\cdot\\vect{j}(x) \\propto V_c(x).\n",
    "$$\n",
    "\n",
    "The if the density is increasing at $x$ due to converging current, then the cooling potential will increase at this point to slow the converging flow, thereby removing kinetic energy from the system.  The interpretation for $V_K(k)$ is similar in the dual space, though less conventional."
   ]
  },
  {
   "cell_type": "markdown",
   "metadata": {},
   "source": [
    "Here are some explicit formulae:\n",
    "\n",
    "$$\n",
    "  V_c(x) = 2\\Im\\Bigl(\\psi^*(x)\\braket{x|\\op{K}|\\psi}\\Bigr)\n",
    "         = 2\\Im\\Bigl(\\psi^*(x)\\braket{x|\\op{H}|\\psi}\\Bigr),\\qquad\n",
    "  K_c(k) = 2\\Im\\Bigl(\\psi^*(k)\\braket{k|\\op{V}|\\psi}\\Bigr)\n",
    "         = 2\\Im\\Bigl(\\psi^*(k)\\braket{k|\\op{H}|\\psi_}\\Bigr).\n",
    "$$\n",
    "\n",
    "Thus, we can simply apply the original Hamiltonian $\\op{H}$ to $\\ket{\\psi}$ and consider the diagonal pieces in position and momentum space.  In the fermionic cases, these would need to be summed over all single-particle wave-functions.\n",
    "\n",
    "$$\n",
    "  V_c(x) = \\sum_i 2\\Im\\Bigl(\\psi_i^*(x)\\braket{x|\\op{K}|\\psi_i}\\Bigr),\\qquad\n",
    "  K_c(k) = \\sum_i 2\\Im\\Bigl(\\psi_i^*(k)\\braket{k|\\op{V}|\\psi_i}\\Bigr).\n",
    "$$\n"
   ]
  },
  {
   "cell_type": "markdown",
   "metadata": {},
   "source": [
    "#### Normalization"
   ]
  },
  {
   "cell_type": "markdown",
   "metadata": {},
   "source": [
    "To properly normalize these, we decompose $\\op{H}_c$ into an orthonormal basis of operators with [Frobenius inner product](https://en.wikipedia.org/wiki/Frobenius_inner_product):\n",
    "\n",
    "$$\n",
    "  \\braket{\\op{A}, \\op{B}}_F = \\frac{1}{N}\\Tr(\\op{A}^\\dagger\\op{B}).\n",
    "$$\n",
    "\n",
    "This is motivated by the condition that minimizing the energy requires\n",
    "\n",
    "$$\n",
    "  \\hbar\\dot{E} = -\\Tr\\left(\\I[\\op{R},\\op{H}]\\op{H}_c\\right)\n",
    "               = -\\braket{\\I[\\op{R},\\op{H}], \\op{H}_c}_F \\leq 0.\n",
    "$$\n",
    "\n",
    "Thus, given an orthonormal basis, we can take any linear combination of the components of $\\I[\\op{R},\\op{H}]$ in that basis with **positive real coefficients** and we will obtain a cooling Hamiltonian."
   ]
  },
  {
   "cell_type": "markdown",
   "metadata": {},
   "source": [
    "To properly normalize the states, consider the following relationships expressed in terms of a box of length $L$ with $N$ lattice points $x_n = na$ where $a=L/N \\equiv \\d{x}$ is the lattice spacing, and the wave-numbers are $k_n = 2\\pi n/L$ with spacing $\\d{k} \\equiv 2\\pi / L$.  We use the position basis $\\ket{x}$ and momentum basis $\\ket{k}$ with the following normalizations (continuum on the left, discrete on the right):\n",
    "\n",
    "\\begin{align}\n",
    "  \\op{1} = \\int\\d{x}\\;\\ket{x}\\bra{x} \n",
    "  &\\equiv\n",
    "  \\frac{L}{N}\\sum_n \\ket{x_n}\\bra{x_n},\n",
    "  &\n",
    "  \\op{1} = \\int \\frac{\\d{k}}{2\\pi}\\;\\ket{k}\\bra{k}\n",
    "  &\\equiv\n",
    "  \\frac{1}{L}\\sum_n \\ket{k_n}\\bra{k_n},\\\\\n",
    "  \\braket{x_m|x_n} = \\delta(x_m-x_n) \n",
    "  &\\equiv \\frac{1}{\\d{x}}\\delta_{mn} = \\frac{N}{L}\\delta_{mn}, \n",
    "  &\n",
    "  \\braket{k_m|k_n} = (2\\pi)\\delta(k_m-k_n) \n",
    "  &\\equiv \\frac{2\\pi}{\\d{k}}\\delta_{mn} = L\\delta_{mn}.\n",
    "\\end{align}\n",
    "\n",
    "The overlaps and discrete Fourier transforms implemented numerically compute the following:\n",
    "\n",
    "\\begin{align}\n",
    "  \\DeclareMathOperator{\\FFT}{FFT}\n",
    "  \\braket{x_m|k_n} = e^{\\I x_m k_n} \n",
    "  &\\equiv e^{2\\pi\\I m n/N},\\\\\n",
    "  \\FFT[\\psi](k_m)\n",
    "  = \\frac{\\braket{k_m|\\psi}}{\\d{x}}\n",
    "  = \\frac{1}{\\d{x}}\\int\\d{x} \\braket{k_m|x}\\braket{x|\\psi}\n",
    "  = \\frac{N}{L}\\int\\d{x} e^{-\\I x k_m}\\psi(x)\n",
    "  &\\equiv\n",
    "  \\sum_{n} e^{-2\\pi \\I nm/N}\\psi(x_n),\\\\\n",
    "  \\FFT^{1}[\\psi](x_n)\n",
    "  = \\d{x}\\braket{x_n|\\psi}\n",
    "  = \\d{x}\\int\\frac{\\d{k}}{2\\pi}\\; \\braket{x_n|k}\\braket{k|\\psi}\n",
    "  = \\frac{L}{N}\\int\\frac{\\d{k}}{2\\pi}\\; e^{\\I x_n k}\\tilde{\\psi}(k)\n",
    "  &\\equiv\n",
    "  \\frac{1}{N}\\sum_{m} e^{2\\pi \\I n m / N}\\tilde{\\psi}(k_m).\n",
    "\\end{align}\n"
   ]
  },
  {
   "cell_type": "code",
   "execution_count": 9,
   "metadata": {},
   "outputs": [],
   "source": [
    "import numpy as np\n",
    "N = 4\n",
    "L = 10.0\n",
    "dx = L/N\n",
    "x = np.arange(N)*dx\n",
    "k = 2*np.pi * ((np.arange(N) + N//2) % N - N//2) / L\n",
    "assert np.allclose(k, 2*np.pi * np.fft.fftfreq(N, dx))\n",
    "np.random.seed(2)\n",
    "psi = np.random.random(N) + 1j*np.random.random(N) - 0.5 - 0.5j\n",
    "psi_k = np.exp(-1j*k[:, None]*x[None, :]).dot(psi)\n",
    "psi_ = np.exp(1j*k[None, :]*x[:, None]).dot(psi_k)/N\n",
    "assert(np.allclose(psi_k, np.fft.fft(psi)))\n",
    "assert(np.allclose(psi_, np.fft.ifft(psi_k)))"
   ]
  },
  {
   "cell_type": "markdown",
   "metadata": {},
   "source": [
    "With these normalizations, we have the following basis matrices for the space of operators diagonal in position and momentum space:\n",
    "\n",
    "$$\n",
    "  \\op{1}, \\qquad\n",
    "  \\op{V}_x = \\frac{L}{\\sqrt{N}}\\ket{x}\\bra{x}, \\qquad\n",
    "  \\op{K}_k = \\frac{\\sqrt{N}}{L}\\ket{k}\\bra{k},\\\\\n",
    "  \\braket{\\op{V}_{x_m}, \\op{V}_{x_n}}_F = \n",
    "  \\braket{\\op{K}_{k_m}, \\op{K}_{k_n}}_F = \\delta_{mn}, \\qquad\n",
    "  \\braket{\\op{I}, \\op{I}}_F = 1.  \n",
    "$$\n",
    "\n",
    "This gives the following normalizations:\n",
    "\n",
    "$$\n",
    "  \\op{V}_c = \\int \\d{x}\\;\\ket{x}V_c(x)\\bra{x}, \\qquad\n",
    "  V_c(x) = \\I\\frac{L}{N}\\braket{x|[\\op{R},\\op{H}|x}\n",
    "         = 2\\d{x}\\Im\\frac{\\psi^*(x)[H\\psi](x)}{N_{tot}}\n",
    "         = \\hbar \\d{x} \\frac{\\dot{n}(x)}{\\braket{\\psi|\\psi}},\\\\\n",
    "  \\op{K}_c = \\int \\frac{\\d{k}}{2\\pi}\\;\\ket{k}K_c(k)\\bra{k}, \\qquad\n",
    "  K_c(k) = \\I\\frac{1}{L}\\braket{k|[\\op{R},\\op{H}|k}\n",
    "         = 2\\Im\\frac{\\psi^*(k)[H\\psi](k)}{N_{tot} L}\n",
    "         = \\hbar\\frac{\\dot{n}_{k}}{L N_{tot}}\n",
    "$$\n",
    "\n",
    "where $\\psi(k) = \\braket{k|\\psi} = \\d{x} \\FFT(\\psi)$.\n",
    "\n",
    "$$\n",
    "  \\op{V}_c = \\int \\d{x}\\;\\ket{x}V_c(x)\\bra{x}, \\qquad\n",
    "  V_c(x) = \\hbar \\d{x} \\frac{\\dot{n}(x)}{N_{tot}},\\\\\n",
    "  \\op{K}_c = \\int \\frac{\\d{k}}{2\\pi}\\;\\ket{k}K_c(k)\\bra{k}, \\qquad\n",
    "  K_c(k) = \\hbar\\frac{\\dot{n}_{k}}{L N_{tot}}\n",
    "$$\n",
    "\n",
    "\n",
    "\n",
    "Note: to formally make the bases $\\op{V}_x$ and $\\op{K}_k$ orthogonal, we should subtract off the common component of the identity:\n",
    "\n",
    "$$\n",
    "  \\op{V}_x = \\frac{L\\ket{x}\\bra{x} - \\op{1}}{\\sqrt{N-1}}, \\qquad\n",
    "  \\op{K}_k = \\frac{\\frac{N}{L}\\ket{k}\\bra{k} - \\op{1}}{\\sqrt{N-1}},\\qquad\n",
    "  \\braket{\\op{V}_x, \\op{K}_k}_F = 0.\n",
    "$$"
   ]
  },
  {
   "cell_type": "markdown",
   "metadata": {},
   "source": [
    "## Departure from Locality"
   ]
  },
  {
   "cell_type": "markdown",
   "metadata": {},
   "source": [
    "We can generalize these operators slightly to cool in a non-local fashion.  For example, consider the following cooling Hamiltonian.  (The motivation here is that the operators $\\op{D}$ are derivatives, so this Hamiltonian is quasi-local.)\n",
    "\n",
    "$$\n",
    "  \\op{H}_c = \\int \\d{x}\\; \\op{D}_a^\\dagger\\ket{x}V_{ab}(x)\\bra{x}\\op{D}_b + \\text{h.c.},\\\\\n",
    "  \\hbar \\dot{E} = -\\I\\left(\n",
    "    \\int\\d{x}\\;V_{ab}(x)\n",
    "    \\braket{x|\\op{D}_b[\\op{R},\\op{H}]\\op{D}_a^\\dagger|x}\n",
    "    + \\text{h.c.}\n",
    "  \\right).\n",
    "$$\n",
    "\n",
    "We can ensure cooling if we take:\n",
    "\n",
    "$$\n",
    "  \\hbar V_{ab}(x) \n",
    "  = (\\I\\hbar\\braket{x|\\op{D}_b[\\op{R},\\op{H}]\\op{D}_a^\\dagger|x})^*\n",
    "  = \\I\\hbar\\braket{x|\\op{D}_a[\\op{R},\\op{H}]\\op{D}_b^\\dagger|x}\\\\\n",
    "  = \\braket{x|\\op{D}_a|\\psi}\\braket{x|\\op{D}_b|\\dot{\\psi}}^*\n",
    "  + \\braket{x|\\op{D}_a|\\dot{\\psi}}\\braket{x|\\op{D}_b|\\psi}^*.\n",
    "$$\n",
    "\n",
    "If $\\op{D}_{a,b}(x)$ are just derivative operators $\\braket{x|\\op{D}_{a}|\\psi} = \\psi^{(a)}(x)$, then we have\n",
    "\n",
    "$$\n",
    "  \\hbar V_{ab}(x) \n",
    "  = \\psi^{(a)}(x)\\overline{\\dot{\\psi}^{(b)}(x)}\n",
    "  + \\dot{\\psi}^{(a)}(x)\\overline{\\psi^{(b)}(x)},\n",
    "$$\n",
    "\n",
    "where\n",
    "\n",
    "$$\n",
    "  \\dot{\\psi}(x) = -\\I\\hbar\\braket{x|\\op{H}|\\psi}\n",
    "$$\n",
    "\n",
    "is the time-derivative with respect to the original Hamiltonian.  Note that these \"potentials\" are no longer diagonal in either momentum or position space, so they should be implemented in the usual fashion with an integrator like ABM."
   ]
  },
  {
   "cell_type": "markdown",
   "metadata": {},
   "source": [
    "### Aurel's Notes"
   ]
  },
  {
   "cell_type": "markdown",
   "metadata": {},
   "source": [
    "In Aurel's notes, he considers:\n",
    "\n",
    "\\begin{align}\n",
    "  V_0(x) &= 2V_{00}(x) = \\sum_{n}\\left(\n",
    "    \\psi_n(x)\\dot{\\psi}_n^*(x) + \\dot{\\psi}_n(x)\\psi_n^*(x)\n",
    "  \\right)\n",
    "  = \\sum_{n} \\pdiff{\\psi_n(x)\\psi_n^*(x)}{t}\n",
    "  = \\sum_{n} \\dot{n}_n(x), \\\\\n",
    "  \\vect{V}_1(x) &= V_{0i}(x) \n",
    "    = \\sum_{n}\\left(\n",
    "      \\psi_n(x)\\vect{\\nabla}\\dot{\\psi}_n^*(x)\n",
    "      + \\dot{\\psi}_n(x)\\vect{\\nabla}\\psi_n^*(x)\\right)\n",
    "    = \\sum_{n}\\pdiff{}{t}\\left(\n",
    "      \\psi_n(x)\\vect{\\nabla}\\psi_n^*(x)\\right)\\\\\n",
    "  \\overleftrightarrow{V_2}(x) &= V_{ij}(x)\n",
    "    = \\sum_{n}\\left(\n",
    "      \\overleftarrow{\\nabla}\\psi_n(x)\\overrightarrow{\\nabla}\\dot{\\psi}_n^*(x)\n",
    "      + \\overleftarrow{\\nabla}\\dot{\\psi}_n(x)\\overrightarrow{\\nabla}\\psi_n^*(x)\\right)  \n",
    "    = \\sum_{n}\\pdiff{}{t}\\left(\n",
    "      \\overleftarrow{\\nabla}\\psi_n(x)\\overrightarrow{\\nabla}\\psi_n^*(x)\n",
    "\\right)\\\\  \n",
    "\\end{align}"
   ]
  },
  {
   "cell_type": "markdown",
   "metadata": {},
   "source": [
    "# Explicit Demonstration"
   ]
  },
  {
   "cell_type": "markdown",
   "metadata": {},
   "source": [
    "Here we provide an explicit demonstration with a 1D or 2D BEC in a box.  We start with a simple class that uses the split-operator evolution method to evolve with:\n",
    "\n",
    "$$\n",
    "  \\op{H}_c = \\beta_0 \\op{H} + \\beta_V \\op{V}_c + \\beta_K \\op{K}_c.\n",
    "$$\n",
    "\n",
    "At each step we renormalize the state, so if $\\beta = -\\I$, then imaginary time evolution is implemented with $\\op{H}_c = \\I[\\op{R}, \\op{H}] + \\cdots$.  This is not the most efficient implementation (excessive FFT calls are made) but the structure should be clear.  Following this, we implement a standard integrator that can deal with the non-local extensions."
   ]
  },
  {
   "cell_type": "code",
   "execution_count": 12,
   "metadata": {},
   "outputs": [
    {
     "data": {
      "image/png": "[encoded data removed]",
      "text/plain": [
       "<Figure size 720x360 with 2 Axes>"
      ]
     },
     "metadata": {
      "needs_background": "light"
     },
     "output_type": "display_data"
    }
   ],
   "source": [
    "from mmf_setup.set_path import hgroot\n",
    "from super_hydro.contexts import NoInterrupt\n",
    "from IPython.display import clear_output\n",
    "from importlib import reload\n",
    "import quantum_friction;reload(quantum_friction)\n",
    "\n",
    "from quantum_friction import StateBase\n",
    "\n",
    "plt.figure(figsize=(10,5))\n",
    "ax1 = plt.subplot(121)\n",
    "ax2 = plt.subplot(122)\n",
    "for Nx in [128, 256, 512]:\n",
    "    s = StateBase(Nxyz=(Nx,), beta_0=-1j)\n",
    "    s.g = -1\n",
    "    r2 = sum(_x**2 for _x in s.xyz)\n",
    "    psi_0 = s.zero + np.exp(-r2/2.0)*np.exp(1j*s.xyz[0])\n",
    "\n",
    "    ts, psis = s.solve(psi_0, T=20, rtol=1e-5, atol=1e-6, method='BDF')\n",
    "    psi0 = psis[-1]\n",
    "    E0, N0 = s.get_E_N(psi0)\n",
    "    Es = [s.get_E_N(_psi)[0] for _psi in psis]\n",
    "\n",
    "    line, = ax1.semilogy(ts[:-2], (Es[:-2] - E0)/abs(E0), label=f\"Nx={Nx}\")\n",
    "    plt.sca(ax2)\n",
    "    s.plot(psi0, c=line.get_c(), alpha=0.5)\n",
    "\n",
    "plt.sca(ax1)\n",
    "plt.legend()\n",
    "plt.xlabel('t')\n",
    "plt.ylabel('abs((E-E0)/E0)');"
   ]
  },
  {
   "cell_type": "markdown",
   "metadata": {},
   "source": [
    "This demonstrates that for a bright soliton, imaginary time cooling cools at the same rate, independent of the box size."
   ]
  },
  {
   "cell_type": "code",
   "execution_count": null,
   "metadata": {},
   "outputs": [],
   "source": [
    "from mmf_setup.set_path import hgroot\n",
    "from super_hydro.contexts import NoInterrupt\n",
    "from IPython.display import clear_output\n",
    "from importlib import reload\n",
    "import quantum_friction;reload(quantum_friction)\n",
    "\n",
    "from quantum_friction import StateBase\n",
    "\n",
    "plt.figure(figsize=(10,5))\n",
    "ax1 = plt.subplot(121)\n",
    "ax2 = plt.subplot(122)\n",
    "for Nx in [128, 256, 512]:\n",
    "    s = StateBase(Nxyz=(Nx,), beta_0=-1j)\n",
    "    s.g = 1\n",
    "    r2 = sum(_x**2 for _x in s.xyz)\n",
    "    x = s.xyz[0]\n",
    "    psi_0 = np.sqrt(1.0 + s.zero + 0.2*x*np.exp(-r2))\n",
    "\n",
    "    ts, psis = s.solve(psi_0, T=2, rtol=1e-5, atol=1e-6, method='BDF')\n",
    "    psi0 = psis[-1]\n",
    "    E0, N0 = s.get_E_N(psi0)\n",
    "    Es = [s.get_E_N(_psi)[0] for _psi in psis]\n",
    "\n",
    "    line, = ax1.semilogy(ts[:-2], Es[:-2] - E0, label=f\"Nx={Nx}\")\n",
    "    plt.sca(ax2)\n",
    "    s.plot(psi_0, c=line.get_c(), alpha=0.5)\n",
    "    s.plot(psi0, c=line.get_c(), alpha=0.5)\n",
    "    \n",
    "plt.sca(ax1)\n",
    "plt.legend()\n",
    "plt.xlabel('t')\n",
    "plt.ylabel('E-E0');"
   ]
  },
  {
   "cell_type": "code",
   "execution_count": null,
   "metadata": {},
   "outputs": [],
   "source": [
    "np.random.seed(2)\n",
    "psi = s.unpack(np.random.random(2*np.prod(s.Nxyz)) - 0.5)\n",
    "Vc = s.get_Vc(psi)\n",
    "Kc = s.get_Kc(psi)\n",
    "Hc = s.get_Hc(psi)\n",
    "#np.diag(Hc) - Vc\n",
    "Hc_k = np.fft.ifft(np.fft.fft(Hc, axis=0), axis=1)\n",
    "np.diag(Hc_k).real - Kc"
   ]
  },
  {
   "cell_type": "code",
   "execution_count": null,
   "metadata": {},
   "outputs": [],
   "source": [
    "reload(quantum_friction)\n",
    "from quantum_friction import StateBase\n",
    "s = StateBase(Nxyz=(32, 32), beta_0=-1.0j, beta_V=0.0, beta_K=0.0)\n",
    "#s = StateBase(Nxyz=(32, 32), beta_0=-1j)\n",
    "x, y = s.xyz\n",
    "x0 = 0.5\n",
    "phase = ((x-x0) + 1j*y)*((x+x0) - 1j*y)\n",
    "psi0 = 1.0*np.exp(1j*np.angle(phase))\n",
    "ts, psis = s.solve(psi0, T=1.0, rtol=1e-5, atol=1e-6)\n",
    "display(s.plot(psis[-1]));\n"
   ]
  },
  {
   "cell_type": "code",
   "execution_count": null,
   "metadata": {},
   "outputs": [],
   "source": [
    "NoInterrupt.unregister()\n",
    "with NoInterrupt() as interrupted:\n",
    "    for t, psi in zip(ts, psis):\n",
    "        if interrupted:\n",
    "            break\n",
    "        plt.clf()\n",
    "        display(s.plot(psi))\n",
    "        print(t)\n",
    "        clear_output(wait=True)"
   ]
  },
  {
   "cell_type": "code",
   "execution_count": null,
   "metadata": {},
   "outputs": [],
   "source": [
    "    def step(self, psi, n=1):\n",
    "        \"\"\"Evolve the state psi by applying n steps of the \n",
    "        Split-Operator method.\"\"\"\n",
    "        psi = self.apply_expK(psi, factor=0.5)\n",
    "        for n in range(n):\n",
    "            psi = self.apply_expV(psi)\n",
    "            psi = self.apply_expK(psi)\n",
    "        psi = self.apply_expK(psi, factor=-0.5)\n",
    "        return psi\n",
    "\n",
    "    def apply_expK(self, psi, factor=1):\n",
    "        psi_k = np.fft.fft(psi)\n",
    "        Kc = self.get_Kc(psi=psi)\n",
    "        K = self.beta_0*self._K2 + self.beta_K*Kc\n",
    "        psi_new = np.fft.ifft(np.exp(-1j*self.dt*factor*K) * psi_k)\n",
    "        psi_new *= np.sqrt((abs(psi)**2).sum()\n",
    "                           / (abs(psi_new)**2).sum())\n",
    "        return psi_new\n",
    "        \n",
    "    def apply_expV(self, psi, factor=1):\n",
    "        Vc = self.get_Vc(psi)\n",
    "        n = self.get_density(psi)\n",
    "        V0 = self.get_V(psi)\n",
    "        V = self.beta_0*V0 + self.beta_V*Vc\n",
    "        psi_new = np.exp(-1j*self.dt*factor*V) * psi\n",
    "        psi_new *= np.sqrt((abs(psi)**2).sum()\n",
    "                           / (abs(psi_new)**2).sum())\n",
    "        return psi_new\n",
    "\n",
    "    def get_V(self, psi):\n",
    "        \"\"\"Return the complete potential included g*n.\"\"\"\n",
    "        n = self.get_density(psi)\n",
    "        return self.g*n\n",
    "    \n",
    "    def get_Vc(self, psi):\n",
    "        n = self.get_density(psi)\n",
    "        psi_k = np.fft.fft(psi)\n",
    "        Kpsi = np.fft.ifft(self._K2*psi_k)\n",
    "        Vc = 2*(psi.conj()*Kpsi).imag / n.sum()\n",
    "        return Vc\n",
    "\n",
    "    def get_Kc(self, psi):\n",
    "        n = self.get_density(psi)\n",
    "        N = n.sum()*self.dx\n",
    "        psi_k = np.fft.fft(psi)*self.dx\n",
    "        V = self.get_V(psi)\n",
    "        Vpsi_k = np.fft.fft(V*psi)*self.dx\n",
    "        Kc = 2*(psi_k.conj()*Vpsi_k).imag / self.L / n.sum()\n",
    "        return Kc\n",
    "\n",
    "    def get_E_N(self, psi):\n",
    "        \"\"\"Return the energy and particle number `(E,N)`.\"\"\"\n",
    "        dx = self.dx\n",
    "        n = self.get_density(psi)\n",
    "        K = abs(np.fft.ifft(self.hbar*self.k*np.fft.fft(psi)))**2/2/self.m\n",
    "        E = ((self.g*n**2/2 + K).sum()*dx).real\n",
    "        N = n.sum()*dx\n",
    "        return E, N\n",
    "    \n",
    "    def plot(self, psi):\n",
    "        plt.clf()\n",
    "        plt.subplot(121)\n",
    "        plt.plot(self.x, abs(psi)**2)\n",
    "        plt.ylim(0,2)\n",
    "        plt.twinx()\n",
    "        Vc = self.get_Vc(psi)\n",
    "        plt.plot(self.x, Vc, 'C1')\n",
    "        Kc = self.get_Kc(psi)\n",
    "        y = abs(np.fft.ifft(Kc)*len(self.x))**2\n",
    "        plt.plot(self.x, y, 'C2')\n",
    "        E, N = self.get_E_N(psi)\n",
    "        plt.suptitle(f\"E={E:.4f}, N={N:.4f}\")\n",
    "        return plt.gcf()\n",
    "\n",
    "    def _plot(self, psi):\n",
    "        plt.clf()\n",
    "        plt.plot(self.x, abs(psi)**2)\n",
    "        plt.ylim(0,2)\n",
    "        plt.twinx()\n",
    "        Kc = self.get_Kc(psi)\n",
    "        y = np.fft.ifft(Kc)\n",
    "        print(abs(y.real).max(), abs(y.imag).max())\n",
    "        y /= abs(y).max()\n",
    "        plt.plot(self.x, y.real, 'C2')\n",
    "        plt.ylim(-1,1)\n",
    "        E, N = self.get_E_N(psi)\n",
    "        plt.suptitle(f\"E={E:.4f}, N={N:.4f}\")\n",
    "        return plt.gcf()\n",
    "    "
   ]
  },
  {
   "cell_type": "code",
   "execution_count": null,
   "metadata": {},
   "outputs": [],
   "source": [
    "%pylab inline --no-import-all\n",
    "import numpy as np\n",
    "class CoolingEg(object):\n",
    "    g = hbar = m = 1.0\n",
    "    def __init__(self, beta_0=1.0, beta_V=1.0 ,beta_K=1.0, \n",
    "                 N=256, dx=0.1,\n",
    "                 dt_Emax=1.0):\n",
    "        \"\"\"\n",
    "        Arguments\n",
    "        ---------\n",
    "        beta_0 : complex\n",
    "           Portion of the original Hamiltonian H to include in evolution.\n",
    "           Make -1j for imaginary time cooling.\n",
    "        beta_V : float\n",
    "           Portion of the position cooling potential V_c.\n",
    "        beta_K : float\n",
    "            Portion of the momentum cooling potential K_c.\n",
    "        \"\"\"\n",
    "        self.N = N\n",
    "        self.dx = dx\n",
    "        self.L = dx*N\n",
    "        self.x = np.arange(N)*dx - self.L/2\n",
    "        self.k = 2*np.pi * np.fft.fftfreq(N, dx)\n",
    "        self.beta_0 = beta_0\n",
    "        self.beta_V = beta_V\n",
    "        self.beta_K = beta_K\n",
    "        \n",
    "        # Pre-compute the kinetic energy\n",
    "        self._K2 = (self.hbar*self.k)**2/2/self.m\n",
    "        self.Emax = self._K2.max()\n",
    "        self.dt = dt_Emax * self.hbar/self.Emax\n",
    "\n",
    "    def step(self, psi, n=1):\n",
    "        \"\"\"Evolve the state psi by applying n steps of the \n",
    "        Split-Operator method.\"\"\"\n",
    "        psi = self.apply_expK(psi, factor=0.5)\n",
    "        for n in range(n):\n",
    "            psi = self.apply_expV(psi)\n",
    "            psi = self.apply_expK(psi)\n",
    "        psi = self.apply_expK(psi, factor=-0.5)\n",
    "        return psi\n",
    "\n",
    "    def get_density(self, psi):\n",
    "        return abs(psi)**2\n",
    "    \n",
    "    def apply_expK(self, psi, factor=1):\n",
    "        psi_k = np.fft.fft(psi)\n",
    "        Kc = self.get_Kc(psi=psi)\n",
    "        K = self.beta_0*self._K2 + self.beta_K*Kc\n",
    "        psi_new = np.fft.ifft(np.exp(-1j*self.dt*factor*K) * psi_k)\n",
    "        psi_new *= np.sqrt((abs(psi)**2).sum()\n",
    "                           / (abs(psi_new)**2).sum())\n",
    "        return psi_new\n",
    "        \n",
    "    def apply_expV(self, psi, factor=1):\n",
    "        Vc = self.get_Vc(psi)\n",
    "        n = self.get_density(psi)\n",
    "        V0 = self.get_V(psi)\n",
    "        V = self.beta_0*V0 + self.beta_V*Vc\n",
    "        psi_new = np.exp(-1j*self.dt*factor*V) * psi\n",
    "        psi_new *= np.sqrt((abs(psi)**2).sum()\n",
    "                           / (abs(psi_new)**2).sum())\n",
    "        return psi_new\n",
    "\n",
    "    def get_V(self, psi):\n",
    "        \"\"\"Return the complete potential included g*n.\"\"\"\n",
    "        n = self.get_density(psi)\n",
    "        return self.g*n\n",
    "    \n",
    "    def get_Vc(self, psi):\n",
    "        n = self.get_density(psi)\n",
    "        psi_k = np.fft.fft(psi)\n",
    "        Kpsi = np.fft.ifft(self._K2*psi_k)\n",
    "        Vc = 2*(psi.conj()*Kpsi).imag / n.sum()\n",
    "        return Vc\n",
    "\n",
    "    def get_Kc(self, psi):\n",
    "        n = self.get_density(psi)\n",
    "        N = n.sum()*self.dx\n",
    "        psi_k = np.fft.fft(psi)*self.dx\n",
    "        V = self.get_V(psi)\n",
    "        Vpsi_k = np.fft.fft(V*psi)*self.dx\n",
    "        Kc = 2*(psi_k.conj()*Vpsi_k).imag / self.L / n.sum()\n",
    "        return Kc\n",
    "\n",
    "    def get_E_N(self, psi):\n",
    "        \"\"\"Return the energy and particle number `(E,N)`.\"\"\"\n",
    "        dx = self.dx\n",
    "        n = self.get_density(psi)\n",
    "        K = abs(np.fft.ifft(self.hbar*self.k*np.fft.fft(psi)))**2/2/self.m\n",
    "        E = ((self.g*n**2/2 + K).sum()*dx).real\n",
    "        N = n.sum()*dx\n",
    "        return E, N\n",
    "    \n",
    "    def apply_H(self, psi):\n",
    "        psi_k = np.fft.fft(psi)\n",
    "        Kpsi = np.fft.ifft(self._K2*psi_k)\n",
    "        Vpsi = self.get_V(psi)*psi\n",
    "        return Kpsi + Vpsi\n",
    "\n",
    "    def get_H(self, psi):\n",
    "        \"\"\"Return the Hamiltonian in position space.\"\"\"\n",
    "        U = np.fft.fft(np.eye(self.N), axis=0)\n",
    "        K = np.linalg.solve(U, self._K2[:, None]*U)\n",
    "        V = np.diag(self.get_V(psi))\n",
    "        H = K + V\n",
    "        assert np.allclose(self.apply_H(psi), H.dot(psi))\n",
    "        return H\n",
    "\n",
    "    def get_Hc(self, psi):\n",
    "        \"\"\"Return the full cooling Hamiltonian in position space.\"\"\"\n",
    "        n = self.get_density(psi)\n",
    "        Hpsi = self.apply_H(psi)\n",
    "        Hc = 1j*psi[:,None]*Hpsi.conj()[None,:] \n",
    "        Hc += Hc.conj().T\n",
    "        Hc /= n.sum()\n",
    "        return Hc\n",
    "    \n",
    "    def plot(self, psi):\n",
    "        plt.clf()\n",
    "        plt.subplot(121)\n",
    "        plt.plot(self.x, abs(psi)**2)\n",
    "        plt.ylim(0,2)\n",
    "        plt.twinx()\n",
    "        Vc = self.get_Vc(psi)\n",
    "        plt.plot(self.x, Vc, 'C1')\n",
    "        Kc = self.get_Kc(psi)\n",
    "        y = abs(np.fft.ifft(Kc)*len(self.x))**2\n",
    "        plt.plot(self.x, y, 'C2')\n",
    "        E, N = self.get_E_N(psi)\n",
    "        plt.suptitle(f\"E={E:.4f}, N={N:.4f}\")\n",
    "        return plt.gcf()\n",
    "\n",
    "    def _plot(self, psi):\n",
    "        plt.clf()\n",
    "        plt.plot(self.x, abs(psi)**2)\n",
    "        plt.ylim(0,2)\n",
    "        plt.twinx()\n",
    "        Kc = self.get_Kc(psi)\n",
    "        y = np.fft.ifft(Kc)\n",
    "        print(abs(y.real).max(), abs(y.imag).max())\n",
    "        y /= abs(y).max()\n",
    "        plt.plot(self.x, y.real, 'C2')\n",
    "        plt.ylim(-1,1)\n",
    "        E, N = self.get_E_N(psi)\n",
    "        plt.suptitle(f\"E={E:.4f}, N={N:.4f}\")\n",
    "        return plt.gcf()\n",
    "    "
   ]
  },
  {
   "cell_type": "code",
   "execution_count": null,
   "metadata": {},
   "outputs": [],
   "source": [
    "args = dict(N=4)\n",
    "egs = [CoolingEg(beta_0=-1j, beta_V=0.0, beta_K=0.0, **args),\n",
    "       CoolingEg(beta_0=0.0, beta_V=0.0, beta_K=1.0, **args),\n",
    "       CoolingEg(beta_0=1.0, beta_V=0.0, beta_K=1.0, **args),      \n",
    "       CoolingEg(beta_0=0.0, beta_V=1.0, beta_K=0.0, **args),\n",
    "       CoolingEg(beta_0=1.0, beta_V=1.0, beta_K=0.0, **args),\n",
    "       CoolingEg(beta_0=0.0, beta_V=1.0, beta_K=1.0, **args),\n",
    "       CoolingEg(beta_0=1.0, beta_V=1.0, beta_K=1.0, **args)]\n",
    "labels = ['Imaginary Time',\n",
    "          'K', 'H+K',\n",
    "          'V', 'H+V',\n",
    "          'V+K', 'H+V+K']\n",
    "eg = egs[0]\n",
    "psi0 = 2*(np.random.random(eg.N) + 1j*np.random.random(eg.N) - 0.5 - 0.5j)\n",
    "#psi0 = 0*eg.x + 1.5 + 1.5*np.exp(-eg.x**2/2)\n",
    "psi_ground = 0*psi0 + np.sqrt((abs(psi0)**2).mean())\n",
    "E0, N0 = eg.get_E_N(psi_ground)\n",
    "Es = [[] for _n in range(len(egs))]\n",
    "psis = [psi0.copy() for _n in range(len(egs))]\n",
    "t_max = 3.0\n",
    "Nstep = 4\n",
    "Ndata = int(np.round(t_max/eg.dt/Nstep))\n",
    "ts = np.arange(Ndata)*Nstep*eg.dt\n",
    "for _n in range(Ndata):\n",
    "    for n, eg in enumerate(egs):\n",
    "        psis[n] = eg.step(psis[n], Nstep)\n",
    "        E, N = eg.get_E_N(psis[n]) \n",
    "        Es[n].append(E/E0 - 1.0)\n",
    "Es = np.asarray(Es)"
   ]
  },
  {
   "cell_type": "code",
   "execution_count": null,
   "metadata": {},
   "outputs": [],
   "source": [
    "Hc = eg.get_Hc(psi0)\n",
    "H = eg.get_H(psi0)\n",
    "mu = (psi0.conj()*H.dot(psi0)).sum()/(abs(psi0)**2).sum()\n",
    "dpsi = (H.dot(psi0)-mu*psi0)/1j\n",
    "dpsic = Hc.dot(psi0)\n",
    "dpsi, dpsic"
   ]
  },
  {
   "cell_type": "code",
   "execution_count": null,
   "metadata": {},
   "outputs": [],
   "source": [
    "eg.get_Vc(psi0), np.diag(Hc)"
   ]
  },
  {
   "cell_type": "code",
   "execution_count": null,
   "metadata": {},
   "outputs": [],
   "source": [
    "_n = 0\n",
    "plt.semilogy(ts, Es[1], c='C0', ls=':', label=labels[1])\n",
    "plt.semilogy(ts, Es[2], c='C0', ls='-', label=labels[2])\n",
    "plt.semilogy(ts, Es[3], c='C1', ls=':', label=labels[3])\n",
    "plt.semilogy(ts, Es[4], c='C1', ls='-', label=labels[4])\n",
    "plt.semilogy(ts, Es[5], c='C2', ls=':', label=labels[5])\n",
    "plt.semilogy(ts, Es[6], c='C2', ls='-', label=labels[6])\n",
    "plt.semilogy(ts, Es[0], c='k', ls='-', label=labels[0], scaley=False)\n",
    "plt.xlabel(\"t\")\n",
    "plt.ylabel(\"E-E0\")\n",
    "plt.legend()\n",
    "#plt.ylim(6, 7)\n",
    "plt.savefig(\"Cooling.pdf\")"
   ]
  },
  {
   "cell_type": "code",
   "execution_count": null,
   "metadata": {},
   "outputs": [],
   "source": [
    "np.diag(eg.get_H(psi0)).round(2), eg.get_Vc(psi0)"
   ]
  },
  {
   "cell_type": "code",
   "execution_count": null,
   "metadata": {},
   "outputs": [],
   "source": [
    "%debug"
   ]
  },
  {
   "cell_type": "code",
   "execution_count": null,
   "metadata": {},
   "outputs": [],
   "source": [
    "I = np.eye(eg.N)\n",
    "U = np.fft.fft(I, axis=0)\n",
    "H1 = eg._K2[:, None]*U\n",
    "H = np.linalg.solve(U, H1)\n",
    "assert np.allclose(U.dot(psi0), np.fft.fft(psi0))\n",
    "assert np.allclose(H1.dot(psi0), eg._K2*np.fft.fft(psi0))\n",
    "assert np.allclose(H.dot(psi0), np.fft.ifft(eg._K2*np.fft.fft(psi0)))\n"
   ]
  },
  {
   "cell_type": "code",
   "execution_count": null,
   "metadata": {},
   "outputs": [],
   "source": [
    "_n = 0\n",
    "plt.semilogy(ts, Es[1], c='C0', ls=':', label=labels[1])\n",
    "plt.semilogy(ts, Es[2], c='C0', ls='-', label=labels[2])\n",
    "plt.semilogy(ts, Es[3], c='C1', ls=':', label=labels[3])\n",
    "plt.semilogy(ts, Es[4], c='C1', ls='-', label=labels[4])\n",
    "plt.semilogy(ts, Es[5], c='C2', ls=':', label=labels[5])\n",
    "plt.semilogy(ts, Es[6], c='C2', ls='-', label=labels[6])\n",
    "plt.semilogy(ts, Es[0], c='k', ls='-', label=labels[0], scaley=False)\n",
    "plt.xlabel(\"t\")\n",
    "plt.ylabel(\"E-E0\")\n",
    "plt.legend()\n",
    "#plt.ylim(6, 7)\n",
    "plt.savefig(\"Cooling.pdf\")"
   ]
  },
  {
   "cell_type": "code",
   "execution_count": null,
   "metadata": {},
   "outputs": [],
   "source": [
    "# Animation, but does not work on CoLab yet.\n",
    "from mmf_setup.set_path import hgroot\n",
    "from super_hydro.contexts import NoInterrupt\n",
    "from IPython.display import clear_output\n",
    "\n",
    "eg = CoolingEg(dt_Emax=1.0, beta_0=1.0, beta_V=1, beta_K=1)\n",
    "psi = 1*psi0\n",
    "NoInterrupt.unregister()\n",
    "with NoInterrupt() as interrupted:\n",
    "    while not interrupted:\n",
    "        psi = eg.step(psi, 100)\n",
    "        display(eg.plot(psi))\n",
    "        clear_output(wait=True)        "
   ]
  },
  {
   "cell_type": "markdown",
   "metadata": {},
   "source": [
    "## Local Friction"
   ]
  },
  {
   "cell_type": "markdown",
   "metadata": {},
   "source": [
    "Here we demonstrate how the cooling potential $\\op{V}_c$ can be used to implement semi-absorbing boundary conditions.  We simply multiply $V_c(x)$ by a non-negative function $f(x) \\geq 0$ which only enables this at the boundaries:"
   ]
  },
  {
   "cell_type": "markdown",
   "metadata": {},
   "source": [
    "$$\n",
    "  \\op{V}_c = \\int\\d{x}\\;\\ket{x}f(x)V_c(x)\\bra{x}.\n",
    "$$\n",
    "\n",
    "Proceeding as before, we can assure that the energy decreases if $f(x) \\geq 0$ and\n",
    "\n",
    "$$\n",
    "  \\hbar \\dot{E} = -\\I\\int\\d{x}\\; f(x)V_c(x)\\braket{x|[\\op{R}, \\op{H}]|x} \\leq 0,\n",
    "  \\qquad\n",
    "  V_c(x) = \\I\\braket{x|[\\op{R},\\op{H}]|x} = \\hbar \\dot{n}(x),\n",
    "$$\n",
    "\n",
    "as before."
   ]
  },
  {
   "cell_type": "code",
   "execution_count": null,
   "metadata": {},
   "outputs": [],
   "source": [
    "class CoolingBoundary(CoolingEg):\n",
    "    def __init__(self, **kw):\n",
    "        super().__init__(**kw)\n",
    "        self.beta_K = 0\n",
    "        self.mask = np.where(abs(self.x) < 0.8*self.L/2,\n",
    "                             0.0, \n",
    "                             1.0)\n",
    "    def get_Vc(self, psi):\n",
    "        return super().get_Vc(psi)*self.mask"
   ]
  },
  {
   "cell_type": "markdown",
   "metadata": {},
   "source": [
    "$$\n",
    "  \\hbar\\dot{n} = \\I \\psi^\\dagger(x)\\braket{x|\\op{K}|\\psi} + \\text{h.c.}\n",
    "$$"
   ]
  },
  {
   "cell_type": "code",
   "execution_count": null,
   "metadata": {},
   "outputs": [],
   "source": [
    "eg = CoolingBoundary(beta_V=10.0, dt_Emax=0.1)\n",
    "psi = 0*eg.x + 1 + 1.0*np.exp(-eg.x**2/2)\n",
    "NoInterrupt.unregister()\n",
    "with NoInterrupt() as interrupted:\n",
    "    while not interrupted:\n",
    "        psi = eg.step(psi, 1000)\n",
    "        display(eg.plot(psi))\n",
    "        clear_output(wait=True)        "
   ]
  },
  {
   "cell_type": "markdown",
   "metadata": {},
   "source": [
    "$$\n",
    "  \\I\\hbar\\dot{\\psi}_k(y) =(H\\psi)(y)+ \\int \\dot{\\rho}(y,x)\\psi_k(x)\\d{x}\\\\\n",
    "  \\I\\hbar\\dot{\\psi}_k(y) =(H\\psi)(y) + V_c(x)\\psi(x) \n",
    "                         + \\int V_k(y-x)\\psi_k(x)\\d{x}\n",
    "         + \\int V_+(y+x)V_-(y-x)\\psi_k(x)\\d{x}\n",
    "$$"
   ]
  },
  {
   "cell_type": "code",
   "execution_count": null,
   "metadata": {},
   "outputs": [],
   "source": []
  }
 ],
 "metadata": {
  "kernelspec": {
   "display_name": "Python 3",
   "language": "python",
   "name": "python3"
  },
  "language_info": {
   "codemirror_mode": {
    "name": "ipython",
    "version": 3
   },
   "file_extension": ".py",
   "mimetype": "text/x-python",
   "name": "python",
   "nbconvert_exporter": "python",
   "pygments_lexer": "ipython3",
   "version": "3.7.2"
  },
  "toc": {
   "base_numbering": 1,
   "nav_menu": {},
   "number_sections": true,
   "sideBar": true,
   "skip_h1_title": true,
   "title_cell": "Table of Contents",
   "title_sidebar": "Contents",
   "toc_cell": false,
   "toc_position": {},
   "toc_section_display": true,
   "toc_window_display": true
  }
 },
 "nbformat": 4,
 "nbformat_minor": 2
}
