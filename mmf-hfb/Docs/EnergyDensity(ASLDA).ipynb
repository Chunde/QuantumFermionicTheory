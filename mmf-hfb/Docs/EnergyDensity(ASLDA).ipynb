{
 "cells": [
  {
   "cell_type": "code",
   "execution_count": null,
   "metadata": {
    "init_cell": true
   },
   "outputs": [
    {
     "data": {
      "text/html": [
       "<style>.grade {\n",
       "   background-color: #66FFCC;\n",
       "}\n",
       "</style>"
      ],
      "text/plain": [
       "<IPython.core.display.HTML object>"
      ]
     },
     "metadata": {},
     "output_type": "display_data"
    },
    {
     "data": {
      "application/javascript": [],
      "text/plain": [
       "<IPython.core.display.Javascript object>"
      ]
     },
     "metadata": {},
     "output_type": "display_data"
    },
    {
     "data": {
      "text/html": [
       "<script id=\"MathJax-Element-48\" type=\"math/tex\">\\newcommand{\\vect}[1]{\\mathbf{#1}}\n",
       "\\newcommand{\\uvect}[1]{\\hat{#1}}\n",
       "\\newcommand{\\abs}[1]{\\lvert#1\\rvert}\n",
       "\\newcommand{\\norm}[1]{\\lVert#1\\rVert}\n",
       "\\newcommand{\\I}{\\mathrm{i}}\n",
       "\\newcommand{\\ket}[1]{\\left|#1\\right\\rangle}\n",
       "\\newcommand{\\bra}[1]{\\left\\langle#1\\right|}\n",
       "\\newcommand{\\braket}[1]{\\langle#1\\rangle}\n",
       "\\newcommand{\\Braket}[1]{\\left\\langle#1\\right\\rangle}\n",
       "\\newcommand{\\op}[1]{\\mathbf{#1}}\n",
       "\\newcommand{\\mat}[1]{\\mathbf{#1}}\n",
       "\\newcommand{\\d}{\\mathrm{d}}\n",
       "\\newcommand{\\pdiff}[3][]{\\frac{\\partial^{#1} #2}{\\partial {#3}^{#1}}}\n",
       "\\newcommand{\\diff}[3][]{\\frac{\\d^{#1} #2}{\\d {#3}^{#1}}}\n",
       "\\newcommand{\\ddiff}[3][]{\\frac{\\delta^{#1} #2}{\\delta {#3}^{#1}}}\n",
       "\\newcommand{\\floor}[1]{\\left\\lfloor#1\\right\\rfloor}\n",
       "\\newcommand{\\ceil}[1]{\\left\\lceil#1\\right\\rceil}\n",
       "\\DeclareMathOperator{\\Tr}{Tr}\n",
       "\\DeclareMathOperator{\\erf}{erf}\n",
       "\\DeclareMathOperator{\\erfi}{erfi}\n",
       "\\DeclareMathOperator{\\sech}{sech}\n",
       "\\DeclareMathOperator{\\sgn}{sgn}\n",
       "\\DeclareMathOperator{\\order}{O}\n",
       "\\DeclareMathOperator{\\diag}{diag}\n",
       "\n",
       "\\newcommand{\\mylabel}[1]{\\label{#1}\\tag{#1}}\n",
       "\\newcommand{\\degree}{\\circ}</script>"
      ],
      "text/plain": [
       "<IPython.core.display.HTML object>"
      ]
     },
     "metadata": {},
     "output_type": "display_data"
    },
    {
     "data": {
      "text/html": [],
      "text/plain": [
       "<IPython.core.display.HTML object>"
      ]
     },
     "metadata": {},
     "output_type": "display_data"
    },
    {
     "data": {
      "text/html": [
       "\n",
       "<i>\n",
       "<p>This cell contains some definitions for equations and some CSS for styling\n",
       "  the notebook. If things look a bit strange, please try the following:\n",
       "<ul>\n",
       "  <li>Choose \"Trust Notebook\" from the \"File\" menu.</li>\n",
       "  <li>Re-execute this cell.</li>\n",
       "  <li>Reload the notebook.</li>\n",
       "</ul>\n",
       "</p>\n",
       "</i>\n"
      ],
      "text/plain": [
       "<IPython.core.display.HTML object>"
      ]
     },
     "metadata": {},
     "output_type": "display_data"
    },
    {
     "name": "stdout",
     "output_type": "stream",
     "text": [
      "Populating the interactive namespace from numpy and matplotlib\n"
     ]
    }
   ],
   "source": [
    "import mmf_setup;mmf_setup.nbinit()\n",
    "%pylab inline --no-import-all\n",
    "from nbimports import *            # Convenience functions like clear_output"
   ]
  },
  {
   "cell_type": "markdown",
   "metadata": {},
   "source": [
    "## Potential terms\n",
    "The potential terms is not totally different from the simple external potentials, we need to incorporate lots of tems into the modified potentials, as can be seen from their expressions:\n",
    "\n",
    "$$\n",
    "V_a=\\frac{\\partial\\alpha_-(n_a,n_b)}{\\partial n_a}\\frac{\\hbar^2\\tau_-}{2m} + \\frac{\\partial \\alpha_+(n_a,n_b)}{\\partial n_a}\\left(\\frac{\\hbar^2\\tau_+}{2m} - \\frac{\\Delta^\\dagger\\upsilon}{\\alpha_+(n_a,n_b)}\\right)-\\frac{\\partial\\tilde{C}(n_a,n_b)}{\\partial n_a}\\frac{\\Delta^\\dagger \\Delta}{\\alpha_+} + \\frac{\\hbar^2}{m} \\frac{\\partial D(n_a,n_b)}{\\partial n_a}+U_a(r)\n",
    "$$\n",
    "where\n",
    "\n",
    "\\begin{align}\n",
    "n_a(r)&=\\sum_{\\abs{E_n}<E_c} \\abs{u_n(r)}^2 f_\\beta(E_n)\\\\\n",
    "n_b(r)&=\\sum_{\\abs{E_n}<E_c} \\abs{v_n(r)}^2 f_\\beta(-E_n)\\\\\n",
    "\\tau_a(r)&=\\sum_{\\abs{E_n}<E_c} \\abs{\\nabla u_n(r)}^2 f_\\beta(E_n)\\\\\n",
    "\\tau_b(r)&=\\sum_{\\abs{E_n}<E_c} \\abs{\\nabla v_n(r)}^2 f_\\beta(-E_n)\\\\\n",
    "p(r)&=\\frac{n_a(r)-n_b(r)}{n_a(r)+n_b(r)}\\\\\n",
    "\\alpha(p)&=1.094+0.156p \\left(1-\\frac{2p^2}{3}+\\frac{p^4}{5}\\right)-0.532p^2\\left(1-p^2+\\frac{p^4}{3} \\right)\\\\\n",
    "\\alpha_a(n_a,n_b)&=\\alpha(p)\\\\\n",
    "\\alpha_b(n_a,n_b)&=\\alpha(-p)\\\\\n",
    "\\alpha_{\\pm}(n_a,n_b)&=\\frac{1}{2}\\left[\\alpha_a(n_a,n_b)\\pm\\alpha_b(n_a,n_b)\\right]\\\\\n",
    "\\tau_{\\pm}&=\\tau_a \\pm \\tau_b\\\\\n",
    "G(p)&=0.357+0.642p^2\\\\\n",
    "\\tilde{C}(n_a,n_b)&=\\frac{\\alpha_+(p)(n_a+n_b)^{1/3}}{\\gamma(p)}\\\\\n",
    "D(n_a,n_b)&=\\frac{\\left(6\\pi^2(n_a+n_b)\\right)^{5/3}}{20\\pi^2}\\left[G(p)-\\alpha(p)\\left(\\frac{1+p}{2}\\right)^{5/3}-\\alpha(-p)\\left(\\frac{1-p}{2}\\right)^{5/3}\\right]\\\\\n",
    "D(n_a,n_b)&=\\frac{\\left(6\\pi^2(n_a+n_b)\\right)^{5/3}}{20\\pi^2}2^{-2/3}\\beta(p)\\\\\n",
    "\\end{align}"
   ]
  },
  {
   "cell_type": "markdown",
   "metadata": {},
   "source": [
    "## Energy density\n",
    "Here I will compare all the possible forms of energy density show up in papers(all from ASLDA by Dr.Forbes and his cooperators) I read. All in all, I need to make sure the one given in the ASLDA review paper is the one that rules all others.\n",
    "$$\n",
    "\\varepsilon_{ASLDA}=\\frac{\\hbar^2}{m}\\left(\\alpha_a(n_a,n_b)\\frac{\\tau_a}{2}+\\alpha_b(n_a,n_b)\\frac{tau_b}{2}+D(n_a,n_b)\\right)+g_{eff}\\nu^\\dagger\\nu\n",
    "$$\n",
    "For SLDA phase:\n",
    "$$\n",
    "\\varepsilon_{SLDA}=\\frac{\\hbar^2}{m}\\left(\\alpha_a(n_a,n_b)\\frac{\\tau_a}{2}+\\alpha_b(n_a,n_b)\\frac{tau_b}{2}+D(n_a,n_b)\\right)+g_{eff}\\nu^\\dagger\\nu\n",
    "$$\n",
    "For normal Phase:\n",
    "$$\n",
    "\\varepsilon_{Normal}=\\frac{\\hbar^2}{m}\\frac{\\left(6\\pi^2(n_a+n_b)\\right)^{5/3}}{20\\pi^2}G(p)\n",
    "$$"
   ]
  },
  {
   "cell_type": "markdown",
   "metadata": {},
   "source": [
    "For normal phase, when $\\Delta=0$, $\\nu=0$, then:\n",
    "\\begin{align}\n",
    "\\varepsilon_{ASLDA}&=\\frac{\\hbar^2}{m}\\left(\\alpha_a(n_a,n_b)\\frac{\\tau_a}{2}+\\alpha_b(n_a,n_b)\\frac{\\tau_b}{2}+D(n_a,n_b)\\right)\\\\\n",
    "&=\\frac{\\hbar^2}{m}\\left(\\alpha_a(n_a,n_b)\\frac{\\tau_a}{2}+\\alpha_b(n_a,n_b)\\frac{\\tau_b}{2}\\right) + \\frac{\\hbar^2}{m}D(n_a,n_b)\\\\\n",
    "&=\\frac{\\hbar^2}{m}\\left(\\alpha_a(n_a,n_b)\\frac{\\tau_a}{2}+\\alpha_b(n_a,n_b)\\frac{\\tau_b}{2}\\right)-\\frac{\\left(6\\pi^2\\hbar^2(n_a+n_b)\\right)^{5/3}}{20m\\pi^2}\\left[\\alpha(p)\\left(\\frac{1+p}{2}\\right)^{5/3}+\\alpha(-p)\\left(\\frac{1-p}{2}\\right)^{5/3}\\right]+\\varepsilon_{Normal}\n",
    "\\end{align}\n"
   ]
  },
  {
   "cell_type": "code",
   "execution_count": null,
   "metadata": {},
   "outputs": [],
   "source": []
  }
 ],
 "metadata": {
  "celltoolbar": "Initialization Cell",
  "kernelspec": {
   "display_name": "Python 3",
   "language": "python",
   "name": "python3"
  },
  "language_info": {
   "codemirror_mode": {
    "name": "ipython",
    "version": 3
   },
   "file_extension": ".py",
   "mimetype": "text/x-python",
   "name": "python",
   "nbconvert_exporter": "python",
   "pygments_lexer": "ipython3",
   "version": "3.7.2"
  },
  "toc": {
   "base_numbering": 1,
   "nav_menu": {},
   "number_sections": true,
   "sideBar": true,
   "skip_h1_title": false,
   "title_cell": "Table of Contents",
   "title_sidebar": "Contents",
   "toc_cell": false,
   "toc_position": {},
   "toc_section_display": true,
   "toc_window_display": false
  }
 },
 "nbformat": 4,
 "nbformat_minor": 2
}
