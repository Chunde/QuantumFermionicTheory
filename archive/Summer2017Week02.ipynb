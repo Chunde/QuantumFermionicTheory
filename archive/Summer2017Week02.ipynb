{
 "cells": [
  {
   "cell_type": "markdown",
   "metadata": {
    "collapsed": false
   },
   "source": [
    "5/22/2017\n",
    "<font color='red'>Today I came to the department around 10:10 am</font><hr>\n",
    "<font color='Blue'>The first thing I did was starting the machine and locking the lasers, as well as taking some calibration data<br>\n",
    "The second thing was trying to fix the simulation errors via talking to Qingze and Dr. Forbes. Not solved yet!</font><hr>\n",
    "<font color='red'>Left around 7:30pm.</font><hr>"
   ]
  },
  {
   "cell_type": "markdown",
   "metadata": {
    "collapsed": false
   },
   "source": [
    "5/23/2017\n",
    "<font color='red'>Today I came to the department around 9: 30 am</font><hr>\n",
    "<font color='blue'> I did the simulation check, and talked to Qingze</font><br>\n",
    "<font color='blue'> With the help of Dr. Forbe, I figure out the simulation issue is due to the compling stregth, which is too big and cause errors</font><br>\n",
    "<font color='blue'> After some more debugging and discussion with Qingze, it seems that the code works properly</font><hr>\n",
    "<font color='red'>Left around 6:30pm.</font><hr>"
   ]
  },
  {
   "cell_type": "markdown",
   "metadata": {
    "collapsed": false
   },
   "source": [
    "5/24/2017\n",
    "<font color='red'>Today I came to the department around 10：00 am</font><hr>\n",
    "<font color='blue'> I was playing withthe parementer and started tranlating the Python code into C++ code to have reasonalbe simulation speed.</font><hr>\n",
    "<font color='red'>Left around 7:00pm.</font><hr>"
   ]
  },
  {
   "cell_type": "markdown",
   "metadata": {
    "collapsed": false
   },
   "source": [
    "5/25/2018\n",
    "<font color='red'>Today I came to the department around 9:40 am</font><hr>\n",
    "<font color='blue'>Read the selected arXiv papers</font>\n",
    "<font color='blue'> read the paper for the jounal club</font><hr>\n",
    "<font color='red'>Left around 7:10pm.</font><hr>"
   ]
  },
  {
   "cell_type": "markdown",
   "metadata": {
    "collapsed": false
   },
   "source": [
    "5/19/2018\n",
    "<font color='red'>Today I came to the department around 9:30 am</font><hr>\n",
    "<font color='blue'>The first thing I did was helping turn on the old machine with Vandna, in order to do it some days later by myself so they can have the machine ready earlier</font>\n",
    "<font color='blue'> The second thing is to use the lasers in the new lab to setup the DMD thing, but due to the very bad profile of the laser beam, it not worked as well as before, I may neeed a optical component to adjust the beam profile a bit.</font><hr>\n",
    "<font color='red'>Left around 7:00pm.</font><hr>"
   ]
  }
 ],
 "metadata": {
  "kernelspec": {
   "display_name": "Python 2 (Ubuntu Linux)",
   "language": "python",
   "name": "python2-ubuntu"
  },
  "language_info": {
   "codemirror_mode": {
    "name": "ipython",
    "version": 2
   },
   "file_extension": ".py",
   "mimetype": "text/x-python",
   "name": "python",
   "nbconvert_exporter": "python",
   "pygments_lexer": "ipython2",
   "version": "2.7.10"
  }
 },
 "nbformat": 4,
 "nbformat_minor": 0
}