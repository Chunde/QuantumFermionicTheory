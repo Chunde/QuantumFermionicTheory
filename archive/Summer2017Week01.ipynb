{
 "cells": [
  {
   "cell_type": "markdown",
   "metadata": {
    "collapsed": false
   },
   "source": [
    "5/15/2017\n",
    "<font color='red'>Today I came to the department around 9:10 am</font><hr>\n",
    "<font color='Blue'>The first thing I did was learning the differential geometry<br>\n",
    "The second thing was finishing the code for the coupling BEC simulation, I fixed bugs and did some basic test to make sure things were not too far off. I will continue tomorrow, and may need to talk to Khalid.</font><hr>\n",
    "<font color='red'>Left around 6:30pm.</font><hr>"
   ]
  },
  {
   "cell_type": "markdown",
   "metadata": {
    "collapsed": false
   },
   "source": [
    "5/16/2017\n",
    "<font color='red'>Today I came to the department around 9:30 am</font><hr>\n",
    "<font color='blue'> The first thing I did was reading paper on Adiabatic Elimination.</font><br>\n",
    "<font color='blue'> The second thing I did was moving the DMD staff to the new room and set them up</font><br>\n",
    "<font color='blue'> The third thing I did was trying to fix the VB program for WinView.</font><br>\n",
    "I also talked to Khalid, but issues were left unsolved. I need to derived everything myself.<hr>\n",
    "<font color='red'>Left around 7:00pm.</font><hr>"
   ]
  },
  {
   "cell_type": "markdown",
   "metadata": {
    "collapsed": false
   },
   "source": [
    "5/17/2017\n",
    "<font color='red'>Today I came to the department around 8:30 am</font><hr>\n",
    "<font color='blue'> The majoy thing I did was to upgrade the graderfather old code to VB.Net, the modification is non-trial as difference between VB 6.0 and VB.NET. I also fixed many bugs found in the code, which will cause the program crash.</font><hr>\n",
    "<font color='red'>Left around 7:00pm.</font><hr>"
   ]
  },
  {
   "cell_type": "markdown",
   "metadata": {
    "collapsed": false
   },
   "source": [
    "5/18/2018\n",
    "<font color='red'>Today I came to the department around 9:30 am</font><hr>\n",
    "<font color='blue'>The first thing I did was deriving the GP equation by myself so I could be able to understand the simulation better.The coupled BEC simulation looks totally wrong, I have to fix it</font>\n",
    "<font color='blue'> Then I read the paper for the jounal club</font><hr>\n",
    "<font color='red'>Left around 7:30pm.</font><hr>"
   ]
  },
  {
   "cell_type": "markdown",
   "metadata": {
    "collapsed": false
   },
   "source": [
    "5/19/2018\n",
    "<font color='red'>Today I came to the department around 9:30 am</font><hr>\n",
    "<font color='blue'>The first thing I did was helping turn on the old machine with Vandna, in order to do it some days later by myself so they can have the machine ready earlier</font>\n",
    "<font color='blue'> The second thing is to use the lasers in the new lab to setup the DMD thing, but due to the very bad profile of the laser beam, it not worked as well as before, I may neeed a optical component to adjust the beam profile a bit.</font><hr>\n",
    "<font color='red'>Left around 7:00pm.</font><hr>"
   ]
  }
 ],
 "metadata": {
  "kernelspec": {
   "display_name": "Python 2 (Ubuntu Linux)",
   "language": "python",
   "name": "python2-ubuntu"
  },
  "language_info": {
   "codemirror_mode": {
    "name": "ipython",
    "version": 2
   },
   "file_extension": ".py",
   "mimetype": "text/x-python",
   "name": "python",
   "nbconvert_exporter": "python",
   "pygments_lexer": "ipython2",
   "version": "2.7.10"
  }
 },
 "nbformat": 4,
 "nbformat_minor": 0
}