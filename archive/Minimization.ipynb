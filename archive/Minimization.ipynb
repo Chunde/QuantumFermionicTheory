{
 "cells": [
  {
   "cell_type": "code",
   "execution_count": 1,
   "metadata": {
    "collapsed": false
   },
   "outputs": [
    {
     "data": {
      "text/html": [
       "<style>@import url('http://fonts.googleapis.com/css?family=Lato:700');\n",
       "@import url('http://fonts.googleapis.com/css?family=Ubuntu+Mono');\n",
       "@import url('http://fonts.googleapis.com/css?family=Inconsolata');\n",
       "\n",
       "// http://typecast.com/images/uploads/modernscale.css\n",
       "\n",
       "// html {font-size: 32pt;}\n",
       "\n",
       "body, caption, th, td, input, textarea, select, option, legend, fieldset, h1, h2, h3, h4, h5, h6, .CodeMirror {\n",
       "  font-size-adjust: 0.5;\n",
       "}\n",
       "\n",
       "// This is the containing div, so we set the base size here.\n",
       "// All other elements will resize accordingly (not menus)\n",
       "// Unfortunately, it does not work...\n",
       "div #notebook_panel {\n",
       "  font-size: 1em;\n",
       "  /* 1em equivalent to 16px */\n",
       "}\n",
       "\n",
       "#notebook {\n",
       "  font-size: 1.2em;\n",
       "  line-height: 1.25;\n",
       "  /* equivalent to 20px */\n",
       "}\n",
       "\n",
       "@media (min-width: 43.75em) {\n",
       "  #notebook {\n",
       "    font-size: 1.2em;\n",
       "    line-height: 1.375;\n",
       "    /* equivalent to 22px */\n",
       "  }\n",
       "}\n",
       "\n",
       "h1 {\n",
       "  font-size: 2em;\n",
       "  /* 2x body copy size = 32px */\n",
       "  line-height: 1.25;\n",
       "  /* 45px / 36px */\n",
       "}\n",
       "\n",
       "@media (min-width: 43.75em) {\n",
       "  h1 {\n",
       "    font-size: 2.5em;\n",
       "    /* 2.5x body copy size = 40px */\n",
       "    line-height: 1.125;\n",
       "  }\n",
       "}\n",
       "\n",
       "@media (min-width: 56.25em) {\n",
       "  h1 {\n",
       "    font-size: 3em;\n",
       "    /* 3x body copy size = 48px */\n",
       "    line-height: 1.05;\n",
       "    /* keep to a multiple of the 20px line height and something more appropriate for display headings */\n",
       "  }\n",
       "}\n",
       "\n",
       "h2 {\n",
       "  font-size: 1.625em;\n",
       "  /* 1.625x body copy size = 26px */\n",
       "  line-height: 1.15384615;\n",
       "  /* 30px / 26px */\n",
       "}\n",
       "\n",
       "@media (min-width: 43.75em) {\n",
       "  h2 {\n",
       "    font-size: 2em;\n",
       "    /* 2x body copy size = 32px */\n",
       "    line-height: 1.25;\n",
       "  }\n",
       "}\n",
       "\n",
       "@media (min-width: 56.25em) {\n",
       "  h2 {\n",
       "    font-size: 2.25em;\n",
       "    /* 2.25x body copy size = 36px */\n",
       "    line-height: 1.25;\n",
       "  }\n",
       "}\n",
       "\n",
       "h3 {\n",
       "  font-size: 1.375em;\n",
       "  /* 1.375x body copy size = 22px */\n",
       "  line-height: 1.13636364;\n",
       "  /* 25px / 22px */\n",
       "}\n",
       "\n",
       "@media (min-width: 43.75em) {\n",
       "  h3 {\n",
       "    font-size: 1.5em;\n",
       "    /* 1.5x body copy size = 24px */\n",
       "    line-height: 1.25;\n",
       "  }\n",
       "}\n",
       "\n",
       "@media (min-width: 56.25em) {\n",
       "  h3 {\n",
       "    font-size: 1.75em;\n",
       "    /* 1.75x body copy size = 28px */\n",
       "    line-height: 1.25;\n",
       "  }\n",
       "}\n",
       "\n",
       "h4 {\n",
       "  font-size: 1.125em;\n",
       "  /* 1.125x body copy size = 18px */\n",
       "  line-height: 1.11111111;\n",
       "}\n",
       "\n",
       "@media (min-width: 43.75em) {\n",
       "  h4 {\n",
       "    line-height: 1.22222222;\n",
       "    /* (22px / 18px */\n",
       "  }\n",
       "}\n",
       "\n",
       "\n",
       "/* These need some adjustments */\n",
       "blockquote {\n",
       "  font-size: 1em;\n",
       "  /* 20px / 16px */\n",
       "  line-height: 1.25;\n",
       "  /* 25px / 20px */\n",
       "}\n",
       "\n",
       "@media (min-width: 43.75em) {\n",
       "  blockquote {\n",
       "    font-size: 1em;\n",
       "    /* 24px / 16px = */\n",
       "    line-height: 1.45833333;\n",
       "    /* 35px / 24px */\n",
       "  }\n",
       "}\n",
       "\n",
       "#notebook-container {\n",
       "    background-color: #fcfaf2;\n",
       "}\n",
       "\n",
       "div.text_cell_render {\n",
       "    font-family: \"Palatino Linotype\", \"Palatino\", \"Book Antiqua\",\n",
       "                 \"URW Palladio L\", serif;\n",
       "}\n",
       "\n",
       ".CodeMirror pre {\n",
       "    font-family: Inconsolata, Consolas, monocco, monospace;\n",
       "}\n",
       "\n",
       "/* This was an attempt to make it more obvious that long lines */\n",
       "/* extended to the right, but causes a problem with the left bar of trhe */\n",
       "/* input areas overflowing down and obscuring the output */\n",
       "\n",
       "/* .CodeMirror { */\n",
       "/*     overflow: visible; */\n",
       "/* } */\n",
       "\n",
       "div.input_area {\n",
       "    border-color: rgba(0,0,0,0.10);\n",
       "    background: rbga(1,0,0,0.5);\n",
       "    max-width: 48.8em; /* 80 characters instead of 100%, */\n",
       "}\n",
       "\n",
       "div.text_cell_render p {\n",
       "    max-width: 45em; /* instead of 100%, */\n",
       "}\n",
       "\n",
       "h1, h2, h3, h4 {\n",
       "    font-family: Lato, Verdana, sans-serif;\n",
       "}\n",
       "\n",
       ".rendered_html ol {\n",
       "    list-style:decimal;\n",
       "    margin: 1em 2em;\n",
       "}\n",
       "\n",
       "/* My overrrides */\n",
       "div.output_subarea {\n",
       "    background: rgba(0,0,0,0.02);\n",
       "}\n",
       "\n",
       ".rendered_html pre,\n",
       ".rendered_html code {a\n",
       "    line-height: 105%;\n",
       "    font-family: Inconsolata, Consolas, monocco, monospace;\n",
       "    background-color: #fcfaf2;\n",
       "}\n",
       "\n",
       "figure {\n",
       "    display: inline-block;\n",
       "    width: 100%;\n",
       "    max-width: 45em;\n",
       "}\n",
       "\n",
       "figure img {\n",
       "    align: center;\n",
       "}\n",
       "\n",
       "figure figcaption {\n",
       "    text-align: center;\n",
       "}\n",
       "\n",
       ".grade {\n",
       "   background-color: #66FFCC;\n",
       "}\n",
       "</style>"
      ],
      "text/plain": [
       "<IPython.core.display.HTML object>"
      ]
     },
     "metadata": {},
     "output_type": "display_data"
    },
    {
     "data": {
      "application/javascript": [
       "// MathJaX customization, custom commands etc.\n",
       "console.log('Updating MathJax configuration');\n",
       "MathJax.Hub.Config({\n",
       "  \"HTML-CSS\": {\n",
       "      //availableFonts: [\"Neo-Euler\"], preferredFont: \"Neo-Euler\",\n",
       "      //webFont: \"Neo-Euler\",\n",
       "      //scale: 85, // Euler is a bit big.\n",
       "      mtextFontInherit: true,\n",
       "      matchFontHeight: true,\n",
       "      scale: 90, // STIX is a bit big.\n",
       "\n",
       "  },\n",
       "  // This is not working for some reason.\n",
       "  \"TeX\": {\n",
       "    Macros: {\n",
       "        d: [\"\\\\mathrm{d}\"],\n",
       "        I: [\"\\\\mathrm{i}\"],\n",
       "        vect: [\"\\\\vec{#1}\", 1],\n",
       "        uvect: [\"\\\\hat{#1}\", 1],\n",
       "        abs: [\"\\\\lvert#1\\\\rvert\", 1],\n",
       "        Abs: [\"\\\\left\\\\lvert#1\\\\right\\\\rvert\", 1],\n",
       "        norm: [\"\\\\lVert#1\\\\rVert\", 1],\n",
       "        Norm: [\"\\\\left\\\\lVert#1\\\\right\\\\rVert\", 1],\n",
       "        ket: [\"|#1\\\\rangle\", 1],\n",
       "        bra: [\"\\\\langle#1|\", 1],\n",
       "        Ket: [\"\\\\left|#1\\\\right\\\\rangle\", 1],\n",
       "        Bra: [\"\\\\left\\\\langle#1\\\\right|\", 1],\n",
       "        braket: [\"\\\\langle#1\\\\rangle\", 1],\n",
       "        op: [\"\\\\mathbf{#1}\", 1],\n",
       "        mat: [\"\\\\mathbf{#1}\", 1],\n",
       "        pdiff: [\"\\\\frac{\\\\partial^{#1} #2}{\\\\partial {#3}^{#1}}\", 3, \"\"],\n",
       "        diff: [\"\\\\frac{\\\\d^{#1} #2}{\\\\d {#3}^{#1}}\", 3, \"\"],\n",
       "        ddiff: [\"\\\\frac{\\\\delta^{#1} #2}{\\\\delta {#3}^{#1}}\", 3, \"\"],\n",
       "        Tr: \"\\\\mathop{\\\\mathrm{Tr}}\\\\nolimits\",\n",
       "        erf: \"\\\\mathop{\\\\mathrm{erf}}\\\\nolimits\",\n",
       "        order: \"\\\\mathop{\\\\mathcal{O}}\\\\nolimits\",\n",
       "        diag: \"\\\\mathop{\\\\mathrm{diag}}\\\\nolimits\",\n",
       "        floor: [\"\\\\left\\\\lfloor#1\\\\right\\\\rfloor\", 1],\n",
       "        ceil: [\"\\\\left\\\\lceil#1\\\\right\\\\rceil\", 1],\n",
       "\n",
       "        mylabel: [\"\\\\label{#1}\\\\tag{#1}\", 1],\n",
       "        degree: [\"^{\\\\circ}\"],\n",
       "    },\n",
       "  }\n",
       "});\n",
       "\n",
       "// Jupyter.notebook.config.update({\"load_extensions\":{\"calico-document-tools\":true}});\n",
       "// Jupyter.notebook.config.update({\"load_extensions\":{\"calico-cell-tools\":true}});\n",
       "// Jupyter.notebook.config.update({\"load_extensions\":{\"calico-spell-check\":true}});\n"
      ],
      "text/plain": [
       "<IPython.core.display.Javascript object>"
      ]
     },
     "metadata": {},
     "output_type": "display_data"
    },
    {
     "data": {
      "text/html": [
       "<script id=\"MathJax-Element-48\" type=\"math/tex\">\n",
       "\\newcommand{\\vect}[1]{\\mathbf{#1}}\n",
       "\\newcommand{\\uvect}[1]{\\hat{#1}}\n",
       "\\newcommand{\\abs}[1]{\\lvert#1\\rvert}\n",
       "\\newcommand{\\norm}[1]{\\lVert#1\\rVert}\n",
       "\\newcommand{\\I}{\\mathrm{i}}\n",
       "\\newcommand{\\ket}[1]{\\left|#1\\right\\rangle}\n",
       "\\newcommand{\\bra}[1]{\\left\\langle#1\\right|}\n",
       "\\newcommand{\\braket}[1]{\\langle#1\\rangle}\n",
       "\\newcommand{\\op}[1]{\\mathbf{#1}}\n",
       "\\newcommand{\\mat}[1]{\\mathbf{#1}}\n",
       "\\newcommand{\\d}{\\mathrm{d}}\n",
       "\\newcommand{\\pdiff}[3][]{\\frac{\\partial^{#1} #2}{\\partial {#3}^{#1}}}\n",
       "\\newcommand{\\diff}[3][]{\\frac{\\d^{#1} #2}{\\d {#3}^{#1}}}\n",
       "\\newcommand{\\ddiff}[3][]{\\frac{\\delta^{#1} #2}{\\delta {#3}^{#1}}}\n",
       "\\DeclareMathOperator{\\erf}{erf}\n",
       "\\DeclareMathOperator{\\Tr}{Tr}\n",
       "\\DeclareMathOperator{\\order}{O}\n",
       "\\DeclareMathOperator{\\diag}{diag}\n",
       "\\DeclareMathOperator{\\sgn}{sgn}\n",
       "</script>\n",
       "<i>\n",
       "<p>This cell contains some definitions for equations and some CSS for styling the notebook.  If things look a bit strange, please try the following:\n",
       "\n",
       "<ul>\n",
       "  <li>Choose \"Trust Notebook\" from the \"File\" menu.</li>\n",
       "  <li>Re-execute this cell.</li>\n",
       "  <li>Reload the notebook.</li>\n",
       "</ul>\n",
       "</p>\n",
       "</i>\n"
      ],
      "text/plain": [
       "<IPython.core.display.HTML object>"
      ]
     },
     "metadata": {},
     "output_type": "display_data"
    }
   ],
   "source": [
    "import mmf_setup;mmf_setup.nbinit()"
   ]
  },
  {
   "cell_type": "markdown",
   "metadata": {
    "collapsed": false
   },
   "source": [
    "# Minimization"
   ]
  },
  {
   "cell_type": "markdown",
   "metadata": {},
   "source": [
    "Here we demonstrate some properties and problems with minimization techniques to find the ground state.\n",
    "\n",
    "Recall that the GPE follows from minimizing the following energy $E$ at fixed total particle number $N$:\n",
    "\n",
    "$$\n",
    "  E[\\psi] = \\int \\d^{d}{x} \\left(\n",
    "    \\frac{\\abs{-\\I\\hbar \\vect\\nabla \\psi(x)}^2}{2m}\n",
    "    + \\frac{g}{2}n(x)^2\n",
    "    + V(x)n(x)\n",
    "  \\right), \\qquad\n",
    "  N = \\int \\d^{d}{x} n(x), \\qquad\n",
    "  n(x) = \\psi^\\dagger(x)\\psi(x)\\\\\n",
    "  \\op{H}\\psi(x) = \\pdiff{E[\\psi]}{\\psi^\\dagger(x)}.\n",
    "$$\n",
    "\n",
    "Numerically, integrals are performed by summing over the lattice points, and include a factor of the metric $\\d{x}^d$ which we call `metric` in the code and must be explicitly included in the minimizer.\n",
    "\n",
    "Thus, we can formulate the problem as a minimization of the objective function\n",
    "\n",
    "$$\n",
    "  f(x) = E[\\psi], \\qquad N[x] = N_0, \\qquad x = P(\\psi)\n",
    "$$\n",
    "\n",
    "where $x = P(\\psi)$ is a real parametrization of $\\psi$ (i.e. the real and imaginary components in some order.  We use the underlying memory layout to efficiently do this conversion).  The minimizer requires the gradient, so se have:\n",
    "\n",
    "$$\n",
    "  \\nabla f(x) = P\\left(\\mat{H}\\psi\\right)(2\\d{x}^d).\n",
    "$$\n",
    "\n",
    "The last factor of `2*metric` accounts for the complex-to-real conversion and the metric implicit in the summation of the integral.."
   ]
  },
  {
   "cell_type": "markdown",
   "metadata": {},
   "source": [
    "As we shall see below, we will also need to be able to minimize an auxilliary funtion:\n",
    "\n",
    "$$\n",
    "  g(x) = (\\psi\\mat{H})^\\dagger (\\mat{H}\\psi).\n",
    "$$\n",
    "\n",
    "This requires a little care since $\\mat{H}[n]$ itself depends non-linearly on the $\\psi$ through the density $n$.  Let us consider a slightly more general non-linear energy density:\n",
    "\n",
    "$$\n",
    "  \\frac{g}{2}{n(x)^2 = \\mathcal{E}(n)\n",
    "$$\n",
    "\n",
    "The only portion of $\\op{H}$ that depends on $n$ is $[H]_{ij} = \\cdots + \\mathcal{E}'(n_j)\\delta_{ij}$, so the derivative is:\n",
    "\n",
    "$$\n",
    "  \\pdiff{[H]_{ij}}{n_k} = g\\delta_{ij}\\delta_{jk}.\n",
    "$$\n",
    "\n",
    "The resulting derivative contains the piece \n",
    "\n",
    "$$\n",
    "  \\pdiff{g}{\\psi^\\dagger_k} = [\\mat{H}^\\dagger\\mat{H}\\psi]_k\n",
    "    + \\sum_{ij}\\psi^\\dagger_i\\mathcal{E}''(n_j)\\psi_j\\delta_{jk}\\delta_{ij}[\\mat{H}\\psi]_j\n",
    "    + \\sum_{ij}[\\psi^\\dagger\\mat{H}^\\dagger]_i\\mathcal{E}''(n_j)\\psi_j\\delta_{jk}\\delta_{ij}\\psi_j    \n",
    "  =  [\\mat{H}^\\dagger\\mat{H}\\psi]_k\n",
    "    + \\psi^\\dagger_k\\mathcal{E}''(n_k)\\psi_k[\\mat{H}\\psi]_k\n",
    "    + [\\psi^\\dagger\\mat{H}^\\dagger]_k\\mathcal{E}''(n_k)\\psi_k\\psi_k\n",
    "$$\n",
    "\n",
    "$$\n",
    "  \\pdiff{g}{\\psi^\\dagger_k} = [\\mat{H}^\\dagger\\mat{H}\\psi]_k + n_k\\mathcal{E}''(n_k)\\psi_k\n",
    "$$"
   ]
  },
  {
   "cell_type": "markdown",
   "metadata": {},
   "source": [
    "## Harmonic Oscillator"
   ]
  },
  {
   "cell_type": "markdown",
   "metadata": {},
   "source": [
    "As a simple test, we consider a simple harmonic oscillator setting $V(x) = m\\omega^2x^2/2$ and $g=0$ which has a ground state wavefunction:\n",
    "\n",
    "$$\n",
    "  \\psi_0(x) = \\frac{1}{\\pi^{1/4}\\sqrt{a}} e^{-x^2/2a^2}, \\qquad\n",
    "  a = \\sqrt{\\frac{\\hbar}{m\\omega}}.\n",
    "$$\n",
    "\n",
    "To ensure we have a sufficiently large box, we choose $L$ so that the density falls by a factor of $10^{-15}$ at the boundary.  This will ensure that we have no long-range (IR) errors.\n",
    "\n",
    "$$\n",
    "  n(L/2) = e^{-L^2/4a^2} \\approx 2^{-52} \\approx 2\\times 10^{-16} \\approx e^{-36},\\qquad\n",
    "  L \\approx 12.0 a.\n",
    "$$"
   ]
  },
  {
   "cell_type": "code",
   "execution_count": 2,
   "metadata": {
    "collapsed": false
   },
   "outputs": [
    {
     "name": "stdout",
     "output_type": "stream",
     "text": [
      "Populating the interactive namespace from numpy and matplotlib\n"
     ]
    },
    {
     "name": "stderr",
     "output_type": "stream",
     "text": [
      "bec.py:96: RuntimeWarning: invalid value encountered in true_divide\n",
      "  n = np.maximum(0, (self.mu - V_ext))/self.g\n"
     ]
    },
    {
     "data": {
      "text/plain": [
       "<matplotlib.legend.Legend at 0x7f98ee7874d0>"
      ]
     },
     "execution_count": 2,
     "metadata": {},
     "output_type": "execute_result"
    },
    {
     "data": {
      "image/png": "[encoded data removed]",
      "text/plain": [
       "<matplotlib.figure.Figure at 0x7f98ee85ab10>"
      ]
     },
     "metadata": {},
     "output_type": "display_data"
    }
   ],
   "source": [
    "%pylab inline --no-import-all\n",
    "import bec;reload(bec)\n",
    "from bec import u\n",
    "dim = 1\n",
    "w = 1.0\n",
    "a = np.sqrt(u.hbar/u.m/w)\n",
    "N = 32\n",
    "L = 12*a\n",
    "E0 = dim * u.hbar * w / 2.0\n",
    "\n",
    "def get_analytic_state(N=N, L=L):\n",
    "    \"\"\"Return the analytic ground state.\"\"\"\n",
    "    s = bec.State(Nxyz=(N,)*dim, Lxyz=(L,)*dim, ws=(w,)*dim, g=0.0, N=1.0)\n",
    "    r2 = sum(_x**2 for _x in s.xyz)\n",
    "    s[...] = np.sqrt(np.exp(-r2/a**2)/np.sqrt(np.pi)/a)\n",
    "    return s\n",
    "\n",
    "Ns = 2**np.arange(1,8)\n",
    "Es = np.array([get_analytic_state(_N).get_energy() for _N in Ns])\n",
    "Es_ = np.array([get_analytic_state(_N, L=L/1.1).get_energy() for _N in Ns])\n",
    "plt.semilogy(Ns, abs(Es - E0), '-+', label='L/a = {}'.format(L/a))\n",
    "plt.semilogy(Ns, abs(Es_ - E0), 'r--+', label='L/a = {}'.format(L/a/1.2))\n",
    "plt.xlabel('N')\n",
    "plt.ylabel('err (E)')\n",
    "plt.legend(loc='best')"
   ]
  },
  {
   "cell_type": "markdown",
   "metadata": {},
   "source": [
    "The errors here are due to an insufficient number of lattice points $N$ or too large of a lattice spacing $\\d{x}$ (ultraviolet or UV errors).  Notice that the error decreases exponentially as a function of the lattice size, reaching machine precision at $N=32$:\n",
    "\n",
    "$$\n",
    "  \\delta E \\propto a^{-N} \\propto (\\d{x})^{N}.\n",
    "$$\n",
    "\n",
    "This exponential convergence is a special property of Fourier methods for analytic functions.  Finite-difference methods exhibit at best a power-law scaling $\\delta E \\propto N^{a}$ (though higher-order methods can have fairly large exponents).  The other curve shows a slightly smaller box, demonstrating that $L=12a$ is required for full convergence (infrared or IR errors)."
   ]
  },
  {
   "cell_type": "markdown",
   "metadata": {},
   "source": [
    "### Exercise: Explain UV Errors"
   ]
  },
  {
   "cell_type": "markdown",
   "metadata": {},
   "source": [
    "I explained above why $L=12a$ was required to reduce the errors to machine precision.  Explain why $N=32$ is sufficient for this purpose."
   ]
  },
  {
   "cell_type": "markdown",
   "metadata": {},
   "source": [
    "## Minimization"
   ]
  },
  {
   "cell_type": "markdown",
   "metadata": {},
   "source": [
    "Having established that we can achieve machine precision in the energy, let's see how well the minimization routine can do."
   ]
  },
  {
   "cell_type": "code",
   "execution_count": 3,
   "metadata": {
    "collapsed": false
   },
   "outputs": [],
   "source": [
    "import minimize;reload(minimize);from minimize import Minimize\n",
    "s0 = get_analytic_state()\n",
    "\n",
    "def get_sol(N=32, ftol=1e-12, gtol=1e-12):\n",
    "    s = get_analytic_state(N=N)\n",
    "    s[...] = np.sqrt(1./np.prod(s.Lxyz))   # Start with a constant density initial state\n",
    "    s1 = Minimize(s).minimize(fix_N=True, ftol=ftol, gtol=gtol)[0]\n",
    "    return s1"
   ]
  },
  {
   "cell_type": "code",
   "execution_count": 5,
   "metadata": {
    "collapsed": false
   },
   "outputs": [
    {
     "data": {
      "text/plain": [
       "<matplotlib.legend.Legend at 0x7f98cf204050>"
      ]
     },
     "execution_count": 5,
     "metadata": {},
     "output_type": "execute_result"
    },
    {
     "data": {
      "image/png": "[encoded data removed]",
      "text/plain": [
       "<matplotlib.figure.Figure at 0x7f98cf2e3f90>"
      ]
     },
     "metadata": {},
     "output_type": "display_data"
    }
   ],
   "source": [
    "tols = 10.0**np.arange(-1, -16, -1)\n",
    "dEs_f = []\n",
    "dEs_g = []\n",
    "dns_f = []\n",
    "dns_g = []\n",
    "for _t in tols:\n",
    "    _sf = get_sol(ftol=_t, gtol=1e-32)\n",
    "    _sg = get_sol(gtol=_t, ftol=1e-32)\n",
    "    dEs_f.append(abs(_sf.get_energy() - E0))\n",
    "    dEs_g.append(abs(_sg.get_energy() - E0))\n",
    "    dns_f.append(abs(abs(_sf[...])**2 - abs(s0[...])**2).max())\n",
    "    dns_g.append(abs(abs(_sg[...])**2 - abs(s0[...])**2).max())    \n",
    "\n",
    "plt.loglog(tols, dEs_f, 'r+-', label='ftol (E)')\n",
    "plt.loglog(tols, dEs_g, 'g+-', label='gtol (E)')\n",
    "plt.loglog(tols, dns_f, 'r+--', label='ftol (n)')\n",
    "plt.loglog(tols, dns_g, 'g+--', label='gtol (n)')\n",
    "\n",
    "plt.xlabel('tol')\n",
    "plt.ylabel('err')\n",
    "plt.legend(loc='best')"
   ]
  },
  {
   "cell_type": "markdown",
   "metadata": {},
   "source": [
    "Here we note several things.  First - the energy can be computed to machine precision, which requires `ftol`$\\sim\\epsilon$ and `gtol`$\\sim \\sqrt{\\epsilon}$, however, the state itself can only be computed to an absolute accuracy of $\\sqrt{\\epsilon}$ because at this point, the energy no-longer changes.  This is a common problem with minimization proceedures.  About the minimium, the function is quadratic $f(x) \\approx f_0 + a (x-x_0)^2$ so changes in $x \\sim \\delta$ will give rise to changes in $f(x_0+\\delta) \\approx f_0 + a\\delta^2$."
   ]
  },
  {
   "cell_type": "markdown",
   "metadata": {},
   "source": [
    "To improve the situation, we can consider minimizing $\\norm{\\nabla{f}}$ instead of minimizing $f(x)$.  This is require that the state be stationary to machine precision."
   ]
  },
  {
   "cell_type": "code",
   "execution_count": null,
   "metadata": {
    "collapsed": true
   },
   "outputs": [],
   "source": []
  }
 ],
 "metadata": {
  "kernelspec": {
   "display_name": "Python 2 (Ubuntu, plain)",
   "language": "python",
   "name": "python2-ubuntu"
  },
  "language_info": {
   "codemirror_mode": {
    "name": "ipython",
    "version": 2
   },
   "file_extension": ".py",
   "mimetype": "text/x-python",
   "name": "python",
   "nbconvert_exporter": "python",
   "pygments_lexer": "ipython2",
   "version": "2.7.10"
  }
 },
 "nbformat": 4,
 "nbformat_minor": 0
}
