{
 "cells": [
  {
   "cell_type": "markdown",
   "metadata": {
    "collapsed": false
   },
   "source": [
    "****I will use this file to log the future progress. :-)****"
   ]
  },
  {
   "cell_type": "markdown",
   "metadata": {
    "collapsed": false
   },
   "source": [
    "5/15/2017\n",
    "<font color='red'>Today I test the new state with coupling terms. The issue is the chemical potential is not real. My understanding is not enough to diagnoize the problem, maybe I should read some papers. OK, I can just go upstair to ask Khalid, he may have idea what's going on.</font>"
   ]
  },
  {
   "cell_type": "markdown",
   "metadata": {
    "collapsed": false
   },
   "source": [
    "5/15/2017 4:00PM\n",
    "<font color='green'>I did not go upstair, instead I printed out the wavefunctions and checked value of the off-diagnal terms(the coupling terms), I found they were always real number, which was unexpected. Then after doing some test I found the **data type of the coupling terms was not complex**. Now the problem solved. But I have to verify the result! Cheers~</front>"
   ]
  },
  {
   "cell_type": "markdown",
   "metadata": {
    "collapsed": false
   },
   "source": [
    "5/15/2017 4:18PM\n",
    "<font color='blue'>I assume the coupling term will change the population of these two states, but I did not see the population change. Something Wrong!!\n",
    "</font>\n"
   ]
  }
 ],
 "metadata": {
  "kernelspec": {
   "display_name": "Python 2 (Ubuntu Linux)",
   "language": "python",
   "name": "python2-ubuntu"
  },
  "language_info": {
   "codemirror_mode": {
    "name": "ipython",
    "version": 2
   },
   "file_extension": ".py",
   "mimetype": "text/x-python",
   "name": "python",
   "nbconvert_exporter": "python",
   "pygments_lexer": "ipython2",
   "version": "2.7.10"
  }
 },
 "nbformat": 4,
 "nbformat_minor": 0
}